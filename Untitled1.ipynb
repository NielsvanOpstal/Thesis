{
 "cells": [
  {
   "cell_type": "code",
   "execution_count": 1,
   "id": "c546081c",
   "metadata": {},
   "outputs": [],
   "source": [
    "import pandas as pd\n",
    "import time\n",
    "from datetime import datetime\n",
    "import geopandas as gpd\n",
    "import shapely\n",
    "import numpy as np\n",
    "import cbsodata\n",
    "from collections import Counter\n",
    "import math\n",
    "import os\n",
    "from itertools import zip_longest\n",
    "import ast"
   ]
  },
  {
   "cell_type": "code",
   "execution_count": 2,
   "id": "0ecf264f",
   "metadata": {},
   "outputs": [],
   "source": [
    "def VBOCleaner(data):\n",
    "    from shapely.geometry import asPoint    \n",
    "    # only keep objects with id\n",
    "    data = data[data[\"identificatie\"].notna()]    \n",
    "    # only keep objects which are currently in use # CHECK of dit de juiste zijn\n",
    "    data = data[data.verblijfsobjectStatus.isin([\"Verblijfsobject gevormd\", \n",
    "                                                 \"Verblijfsobject in gebruik\",\n",
    "                                                 \"Verblijfsobject in gebruik (niet ingemeten)\"])]\n",
    "    data = data[data.pos.notna()]    \n",
    "    data[\"begindatumTijdvakGeldigheid\"] =  pd.to_datetime(data['begindatumTijdvakGeldigheid'], format='%Y%m%d%H%M%S%f', errors='coerce')\n",
    "    data[\"einddatumTijdvakGeldigheid\"] =  pd.to_datetime(data['einddatumTijdvakGeldigheid'], format='%Y%m%d%H%M%S%f', errors='coerce')\n",
    "    \n",
    "    def toPoint(pos):\n",
    "        string = \"POINT \" + str([float(i) for i in pos.split()[:2]])\n",
    "        return string.replace(\"[\", \"(\").replace(\"]\", \")\").replace(\",\", \"\")\n",
    "    data.pos = data.pos.apply(toPoint)\n",
    "    \n",
    "    return data"
   ]
  },
  {
   "cell_type": "code",
   "execution_count": 3,
   "id": "30e98fe9",
   "metadata": {},
   "outputs": [],
   "source": [
    "data2015 = pd.read_csv(\"../Data/snap1/Middelburg15.csv\")\n",
    "data2016 = pd.read_csv(\"../Data/snap1/Middelburg16.csv\")\n",
    "data2017 = pd.read_csv(\"../Data/snap1/Middelburg17.csv\")\n",
    "data2018 = pd.read_csv(\"../Data/snap1/Middelburg18.csv\")\n",
    "data2019 = pd.read_csv(\"../Data/snap1/Middelburg19.csv\")"
   ]
  },
  {
   "cell_type": "code",
   "execution_count": 4,
   "id": "e6373693",
   "metadata": {},
   "outputs": [
    {
     "data": {
      "text/plain": [
       "(4012, 18)"
      ]
     },
     "execution_count": 4,
     "metadata": {},
     "output_type": "execute_result"
    }
   ],
   "source": [
    "data2015.shape"
   ]
  },
  {
   "cell_type": "code",
   "execution_count": 5,
   "id": "8475b5d0",
   "metadata": {},
   "outputs": [
    {
     "name": "stdout",
     "output_type": "stream",
     "text": [
      "56\n",
      "59\n",
      "54\n",
      "65\n",
      "355\n"
     ]
    }
   ],
   "source": [
    "print((data2015.y ==1).sum())\n",
    "print((data2016.y ==1).sum())\n",
    "print((data2017.y ==1).sum())\n",
    "print((data2018.y ==1).sum())\n",
    "print((data2019.y ==1).sum())"
   ]
  },
  {
   "cell_type": "code",
   "execution_count": 6,
   "id": "afcc3af9",
   "metadata": {},
   "outputs": [],
   "source": [
    "VBO = pd.read_csv(\"VBO.csv\", sep = \";\", encoding = \"utf-8\", na_values = \"NaN\", on_bad_lines = \"warn\")\n",
    "VBO = VBOCleaner(VBO)"
   ]
  },
  {
   "cell_type": "code",
   "execution_count": 7,
   "id": "e6d13e16",
   "metadata": {},
   "outputs": [],
   "source": [
    "    pand = pd.read_csv(\"pand_cleaned.csv\", sep = \";\")\n",
    "    pand = pand.set_index(\"identificatie\")"
   ]
  },
  {
   "cell_type": "code",
   "execution_count": 8,
   "id": "fac2e9e0",
   "metadata": {},
   "outputs": [],
   "source": [
    "buurtgrenzen2015 = gpd.read_file(\"../Data/buurtgrenzen/2015/buurt_2015.shp\")[[\"BU_CODE\", \"geometry\"]]\n",
    "buurtgrenzen2016 = gpd.read_file(\"../Data/buurtgrenzen/2016/buurt_2016.shp\")[[\"BU_CODE\", \"geometry\"]]\n",
    "buurtgrenzen2017 = gpd.read_file(\"../Data/buurtgrenzen/2017/buurt_2017_v3.shp\")[[\"BU_CODE\", \"geometry\"]]\n",
    "buurtgrenzen2018 = gpd.read_file(\"../Data/buurtgrenzen/2018/buurt_2018_v3.shp\")[[\"BU_CODE\", \"geometry\"]]\n",
    "buurtgrenzen2019 = gpd.read_file(\"../Data/buurtgrenzen/2019/buurt_2019_v2up.shp\")[[\"BU_CODE\", \"geometry\"]]"
   ]
  },
  {
   "cell_type": "code",
   "execution_count": 9,
   "id": "9881fa3f",
   "metadata": {},
   "outputs": [],
   "source": [
    "pand[\"begindatumTijdvakGeldigheid\"] =  pd.to_datetime(pand['begindatumTijdvakGeldigheid'], errors='coerce')\n",
    "pand[\"einddatumTijdvakGeldigheid\"] =  pd.to_datetime(pand['einddatumTijdvakGeldigheid'], errors='coerce')"
   ]
  },
  {
   "cell_type": "code",
   "execution_count": 11,
   "id": "5b4127dd",
   "metadata": {},
   "outputs": [],
   "source": [
    "grid_vbo = pd.read_csv(\"../Data/presnap/vbo/\" + \"'s-Gravenhage_vbo.csv\")[[\"identificatie\",\"C28992R100\",\"pos\"]]\n",
    "grid_vbo = grid_vbo.drop_duplicates()\n",
    "grid = pd.read_csv(\"../Data/presnap/grid/\" + \"'s-Gravenhage_grid.csv\", index_col = \"C28992R100\")"
   ]
  },
  {
   "cell_type": "code",
   "execution_count": 14,
   "id": "56c8b6b6",
   "metadata": {},
   "outputs": [],
   "source": [
    "def snapshotter(vbo, grid_vbo, pand, buurtgrenzen, year):\n",
    "    print(year)\n",
    "    # Select only correct year\n",
    "    d1 = datetime(year, 1, 1)\n",
    "    vbo = vbo[vbo[\"begindatumTijdvakGeldigheid\"] < d1] #pak vbo's die beginnen voor het jaar\n",
    "    vbo = vbo[(vbo[\"einddatumTijdvakGeldigheid\"] > d1) | (vbo[\"einddatumTijdvakGeldigheid\"].isna())] #pak vbo's die stoppen na \n",
    "    pand = pand[pand[\"begindatumTijdvakGeldigheid\"] < d1] #pak vbo's die beginnen voor het jaar\n",
    "    pand = pand[(pand[\"einddatumTijdvakGeldigheid\"] > d1) | (pand[\"einddatumTijdvakGeldigheid\"].isna())] #pak vbo's die stoppen na     \n",
    "   \n",
    "    # Join VBO's to the grid\n",
    "    data = grid_vbo.merge(vbo, how = \"left\", right_on = [\"identificatie\",\"pos\"], left_on = [\"identificatie\",\"pos\"])\n",
    "    print(data.shape)\n",
    "\n",
    "    # Add Buurt code to each vbo\n",
    "    data.pos = data.pos.apply(shapely.wkt.loads)\n",
    "    data = gpd.GeoDataFrame(data, geometry = \"pos\")\n",
    "    data = gpd.sjoin(data, buurtgrenzen, op = \"within\", how = \"left\")\n",
    "    print(data.shape)\n",
    "    # groupby grid code.\n",
    "    data = data.join(pd.get_dummies(data.gebruiksdoelVerblijfsobject))\n",
    "    print(data.shape)\n",
    "    # join building data. id of vbo is id of pand\n",
    "    data = data.join(pand, on = \"identificatie\", how = \"left\", rsuffix = \"_r\")\n",
    "    print(data.shape)\n",
    "    data = data.drop(\"gebruiksdoelVerblijfsobject\", axis = 1)\n",
    "    data = data.groupby(\"C28992R100\").agg({\n",
    "        \"bijeenkomstfunctie\" : \"sum\",\n",
    "        \"gezondheidszorgfunctie\" : \"sum\",\n",
    "        \"industriefunctie\" : \"sum\",\n",
    "        \"kantoorfunctie\" : \"sum\",\n",
    "        \"logiesfunctie\" : \"sum\",\n",
    "        \"onderwijsfunctie\" : \"sum\",\n",
    "        \"sportfunctie\" : \"sum\",\n",
    "        \"winkelfunctie\" : \"sum\",\n",
    "        \"woonfunctie\" : \"sum\",\n",
    "        \"oppervlakteVerblijfsobject\" : \"mean\",\n",
    "        \"BU_CODE\" : lambda x: Counter(x),\n",
    "        \"bouwjaar\" : [\"mean\", \"min\", \"max\"]\n",
    "    })\n",
    "    \n",
    "    data.columns = list(map(''.join, data.columns.values))\n",
    "    \n",
    "    # fix buurt code todictionary\n",
    "    data = data.rename(columns = {\"BU_CODE<lambda>\" : \"BU_CODE\"})\n",
    "    data.BU_CODE = data.BU_CODE.apply(dict)\n",
    "\n",
    "    return data "
   ]
  },
  {
   "cell_type": "code",
   "execution_count": 30,
   "id": "99627b19",
   "metadata": {},
   "outputs": [
    {
     "data": {
      "text/plain": [
       "10866"
      ]
     },
     "execution_count": 30,
     "metadata": {},
     "output_type": "execute_result"
    }
   ],
   "source": [
    "grid_vbo.C28992R100.nunique()"
   ]
  },
  {
   "cell_type": "code",
   "execution_count": 31,
   "id": "5d259784",
   "metadata": {},
   "outputs": [
    {
     "name": "stdout",
     "output_type": "stream",
     "text": [
      "2015\n",
      "(535497, 8)\n"
     ]
    },
    {
     "name": "stderr",
     "output_type": "stream",
     "text": [
      "C:\\Users\\Gebruiker\\anaconda3\\lib\\site-packages\\geopandas\\tools\\sjoin.py:61: UserWarning: CRS of frames being joined does not match!(None != {'proj': 'sterea', 'lat_0': 52.15616055555555, 'lon_0': 5.38763888888889, 'k': 0.9999079, 'x_0': 155000, 'y_0': 463000, 'ellps': 'bessel', 'units': 'm', 'no_defs': True})\n",
      "  \"(%s != %s)\" % (left_df.crs, right_df.crs)\n"
     ]
    },
    {
     "name": "stdout",
     "output_type": "stream",
     "text": [
      "(535497, 10)\n",
      "(535497, 21)\n",
      "(535497, 33)\n",
      "2016\n",
      "(535355, 8)\n"
     ]
    },
    {
     "name": "stderr",
     "output_type": "stream",
     "text": [
      "C:\\Users\\Gebruiker\\anaconda3\\lib\\site-packages\\geopandas\\tools\\sjoin.py:61: UserWarning: CRS of frames being joined does not match!(None != {'proj': 'sterea', 'lat_0': 52.15616055555555, 'lon_0': 5.38763888888889, 'k': 0.9999079, 'x_0': 155000, 'y_0': 463000, 'ellps': 'bessel', 'units': 'm', 'no_defs': True})\n",
      "  \"(%s != %s)\" % (left_df.crs, right_df.crs)\n"
     ]
    },
    {
     "name": "stdout",
     "output_type": "stream",
     "text": [
      "(535355, 10)\n",
      "(535355, 21)\n",
      "(535355, 33)\n",
      "2017\n",
      "(533023, 8)\n"
     ]
    },
    {
     "name": "stderr",
     "output_type": "stream",
     "text": [
      "C:\\Users\\Gebruiker\\anaconda3\\lib\\site-packages\\geopandas\\tools\\sjoin.py:61: UserWarning: CRS of frames being joined does not match!(None != {'proj': 'sterea', 'lat_0': 52.15616055555555, 'lon_0': 5.38763888888889, 'k': 0.9999079, 'x_0': 155000, 'y_0': 463000, 'ellps': 'bessel', 'units': 'm', 'no_defs': True})\n",
      "  \"(%s != %s)\" % (left_df.crs, right_df.crs)\n"
     ]
    },
    {
     "name": "stdout",
     "output_type": "stream",
     "text": [
      "(533023, 10)\n",
      "(533023, 21)\n",
      "(533023, 33)\n",
      "2018\n",
      "(532214, 8)\n"
     ]
    },
    {
     "name": "stderr",
     "output_type": "stream",
     "text": [
      "C:\\Users\\Gebruiker\\anaconda3\\lib\\site-packages\\geopandas\\tools\\sjoin.py:61: UserWarning: CRS of frames being joined does not match!(None != {'proj': 'sterea', 'lat_0': 52.15616055555555, 'lon_0': 5.38763888888889, 'k': 0.9999079, 'x_0': 155000, 'y_0': 463000, 'ellps': 'bessel', 'units': 'm', 'no_defs': True})\n",
      "  \"(%s != %s)\" % (left_df.crs, right_df.crs)\n"
     ]
    },
    {
     "name": "stdout",
     "output_type": "stream",
     "text": [
      "(532214, 10)\n",
      "(532214, 20)\n",
      "(532214, 32)\n",
      "2019\n",
      "(532783, 8)\n"
     ]
    },
    {
     "name": "stderr",
     "output_type": "stream",
     "text": [
      "C:\\Users\\Gebruiker\\anaconda3\\lib\\site-packages\\geopandas\\tools\\sjoin.py:61: UserWarning: CRS of frames being joined does not match!(None != {'proj': 'sterea', 'lat_0': 52.15616055555555, 'lon_0': 5.38763888888889, 'k': 0.9999079, 'x_0': 155000, 'y_0': 463000, 'ellps': 'bessel', 'units': 'm', 'no_defs': True})\n",
      "  \"(%s != %s)\" % (left_df.crs, right_df.crs)\n"
     ]
    },
    {
     "name": "stdout",
     "output_type": "stream",
     "text": [
      "(532783, 10)\n",
      "(532783, 20)\n",
      "(532783, 32)\n",
      "2020\n",
      "(532540, 8)\n"
     ]
    },
    {
     "name": "stderr",
     "output_type": "stream",
     "text": [
      "C:\\Users\\Gebruiker\\anaconda3\\lib\\site-packages\\geopandas\\tools\\sjoin.py:61: UserWarning: CRS of frames being joined does not match!(None != {'proj': 'sterea', 'lat_0': 52.15616055555555, 'lon_0': 5.38763888888889, 'k': 0.9999079, 'x_0': 155000, 'y_0': 463000, 'ellps': 'bessel', 'units': 'm', 'no_defs': True})\n",
      "  \"(%s != %s)\" % (left_df.crs, right_df.crs)\n"
     ]
    },
    {
     "name": "stdout",
     "output_type": "stream",
     "text": [
      "(532540, 10)\n",
      "(532540, 20)\n",
      "(532540, 32)\n"
     ]
    }
   ],
   "source": [
    "data2015 = snapshotter(VBO, grid_vbo, pand, buurtgrenzen2015, 2015)\n",
    "data2016 = snapshotter(VBO, grid_vbo, pand, buurtgrenzen2016, 2016)\n",
    "data2017 = snapshotter(VBO, grid_vbo, pand, buurtgrenzen2017, 2017)\n",
    "data2018 = snapshotter(VBO, grid_vbo, pand, buurtgrenzen2018, 2018)\n",
    "data2019 = snapshotter(VBO, grid_vbo, pand, buurtgrenzen2019, 2019)\n",
    "data2020 = snapshotter(VBO, grid_vbo, pand, buurtgrenzen2019, 2020)"
   ]
  },
  {
   "cell_type": "code",
   "execution_count": 36,
   "id": "008d9f0c",
   "metadata": {},
   "outputs": [
    {
     "data": {
      "text/plain": [
       "221844.0"
      ]
     },
     "execution_count": 36,
     "metadata": {},
     "output_type": "execute_result"
    }
   ],
   "source": [
    "data2018.woonfunctiesum.sum()"
   ]
  },
  {
   "cell_type": "code",
   "execution_count": 34,
   "id": "1ffdf762",
   "metadata": {},
   "outputs": [
    {
     "data": {
      "text/plain": [
       "226370.0"
      ]
     },
     "execution_count": 34,
     "metadata": {},
     "output_type": "execute_result"
    }
   ],
   "source": [
    "data2019.woonfunctiesum.sum()"
   ]
  },
  {
   "cell_type": "code",
   "execution_count": 35,
   "id": "e10f07e7",
   "metadata": {},
   "outputs": [
    {
     "data": {
      "text/plain": [
       "228889.0"
      ]
     },
     "execution_count": 35,
     "metadata": {},
     "output_type": "execute_result"
    }
   ],
   "source": [
    "data2020.woonfunctiesum.sum()"
   ]
  },
  {
   "cell_type": "code",
   "execution_count": 37,
   "id": "1dd156dc",
   "metadata": {},
   "outputs": [],
   "source": [
    "data2015[\"y\"] = (data2015.woonfunctiesum < data2016.woonfunctiesum).astype(int)\n",
    "data2016[\"y\"] = (data2016.woonfunctiesum < data2017.woonfunctiesum).astype(int)\n",
    "data2017[\"y\"] = (data2017.woonfunctiesum < data2018.woonfunctiesum).astype(int)\n",
    "data2018[\"y\"] = (data2018.woonfunctiesum < data2019.woonfunctiesum).astype(int)\n",
    "data2019[\"y\"] = (data2019.woonfunctiesum < data2020.woonfunctiesum).astype(int)"
   ]
  },
  {
   "cell_type": "code",
   "execution_count": 38,
   "id": "dc9f10d5",
   "metadata": {},
   "outputs": [
    {
     "data": {
      "text/plain": [
       "2138"
      ]
     },
     "execution_count": 38,
     "metadata": {},
     "output_type": "execute_result"
    }
   ],
   "source": [
    "data2019.y.sum()"
   ]
  },
  {
   "cell_type": "code",
   "execution_count": 40,
   "id": "78ede08b",
   "metadata": {},
   "outputs": [
    {
     "data": {
      "text/plain": [
       "1708"
      ]
     },
     "execution_count": 40,
     "metadata": {},
     "output_type": "execute_result"
    }
   ],
   "source": [
    "data2018.y.sum()"
   ]
  },
  {
   "cell_type": "code",
   "execution_count": 41,
   "id": "8f3de2ba",
   "metadata": {},
   "outputs": [
    {
     "data": {
      "text/plain": [
       "2078"
      ]
     },
     "execution_count": 41,
     "metadata": {},
     "output_type": "execute_result"
    }
   ],
   "source": [
    "data2017.y.sum()"
   ]
  },
  {
   "cell_type": "code",
   "execution_count": 42,
   "id": "647ad179",
   "metadata": {},
   "outputs": [
    {
     "data": {
      "text/plain": [
       "2559"
      ]
     },
     "execution_count": 42,
     "metadata": {},
     "output_type": "execute_result"
    }
   ],
   "source": [
    "data2016.y.sum()"
   ]
  },
  {
   "cell_type": "code",
   "execution_count": 43,
   "id": "576f9591",
   "metadata": {},
   "outputs": [
    {
     "data": {
      "text/plain": [
       "853"
      ]
     },
     "execution_count": 43,
     "metadata": {},
     "output_type": "execute_result"
    }
   ],
   "source": [
    "data2015.y.sum()"
   ]
  },
  {
   "cell_type": "code",
   "execution_count": 44,
   "id": "aa3d8783",
   "metadata": {},
   "outputs": [
    {
     "data": {
      "text/plain": [
       "213758.0"
      ]
     },
     "execution_count": 44,
     "metadata": {},
     "output_type": "execute_result"
    }
   ],
   "source": [
    "data2015.woonfunctiesum.sum()"
   ]
  },
  {
   "cell_type": "code",
   "execution_count": 54,
   "id": "e2abee25",
   "metadata": {},
   "outputs": [],
   "source": [
    "grid_vbo = pd.read_csv(\"../Data/presnap/done/vbo/\" + \"Tilburg_vbo.csv\")[[\"identificatie\",\"C28992R100\",\"pos\"]]\n",
    "grid_vbo = grid_vbo.drop_duplicates()\n",
    "grid = pd.read_csv(\"../Data/presnap/done/grid/\" + \"Tilburg_grid.csv\", index_col = \"C28992R100\")"
   ]
  },
  {
   "cell_type": "code",
   "execution_count": 55,
   "id": "4068a4ca",
   "metadata": {},
   "outputs": [
    {
     "name": "stdout",
     "output_type": "stream",
     "text": [
      "2015\n",
      "(209485, 8)\n"
     ]
    },
    {
     "name": "stderr",
     "output_type": "stream",
     "text": [
      "C:\\Users\\Gebruiker\\anaconda3\\lib\\site-packages\\geopandas\\tools\\sjoin.py:61: UserWarning: CRS of frames being joined does not match!(None != {'proj': 'sterea', 'lat_0': 52.15616055555555, 'lon_0': 5.38763888888889, 'k': 0.9999079, 'x_0': 155000, 'y_0': 463000, 'ellps': 'bessel', 'units': 'm', 'no_defs': True})\n",
      "  \"(%s != %s)\" % (left_df.crs, right_df.crs)\n"
     ]
    },
    {
     "name": "stdout",
     "output_type": "stream",
     "text": [
      "(209485, 10)\n",
      "(209485, 21)\n",
      "(209485, 33)\n",
      "2016\n",
      "(209205, 8)\n"
     ]
    },
    {
     "name": "stderr",
     "output_type": "stream",
     "text": [
      "C:\\Users\\Gebruiker\\anaconda3\\lib\\site-packages\\geopandas\\tools\\sjoin.py:61: UserWarning: CRS of frames being joined does not match!(None != {'proj': 'sterea', 'lat_0': 52.15616055555555, 'lon_0': 5.38763888888889, 'k': 0.9999079, 'x_0': 155000, 'y_0': 463000, 'ellps': 'bessel', 'units': 'm', 'no_defs': True})\n",
      "  \"(%s != %s)\" % (left_df.crs, right_df.crs)\n"
     ]
    },
    {
     "name": "stdout",
     "output_type": "stream",
     "text": [
      "(209205, 10)\n",
      "(209205, 21)\n",
      "(209205, 33)\n",
      "2017\n",
      "(209169, 8)\n"
     ]
    },
    {
     "name": "stderr",
     "output_type": "stream",
     "text": [
      "C:\\Users\\Gebruiker\\anaconda3\\lib\\site-packages\\geopandas\\tools\\sjoin.py:61: UserWarning: CRS of frames being joined does not match!(None != {'proj': 'sterea', 'lat_0': 52.15616055555555, 'lon_0': 5.38763888888889, 'k': 0.9999079, 'x_0': 155000, 'y_0': 463000, 'ellps': 'bessel', 'units': 'm', 'no_defs': True})\n",
      "  \"(%s != %s)\" % (left_df.crs, right_df.crs)\n"
     ]
    },
    {
     "name": "stdout",
     "output_type": "stream",
     "text": [
      "(209169, 10)\n",
      "(209169, 21)\n",
      "(209169, 33)\n",
      "2018\n",
      "(209102, 8)\n"
     ]
    },
    {
     "name": "stderr",
     "output_type": "stream",
     "text": [
      "C:\\Users\\Gebruiker\\anaconda3\\lib\\site-packages\\geopandas\\tools\\sjoin.py:61: UserWarning: CRS of frames being joined does not match!(None != {'proj': 'sterea', 'lat_0': 52.15616055555555, 'lon_0': 5.38763888888889, 'k': 0.9999079, 'x_0': 155000, 'y_0': 463000, 'ellps': 'bessel', 'units': 'm', 'no_defs': True})\n",
      "  \"(%s != %s)\" % (left_df.crs, right_df.crs)\n"
     ]
    },
    {
     "name": "stdout",
     "output_type": "stream",
     "text": [
      "(209102, 10)\n",
      "(209102, 21)\n",
      "(209102, 33)\n",
      "2019\n",
      "(208957, 8)\n"
     ]
    },
    {
     "name": "stderr",
     "output_type": "stream",
     "text": [
      "C:\\Users\\Gebruiker\\anaconda3\\lib\\site-packages\\geopandas\\tools\\sjoin.py:61: UserWarning: CRS of frames being joined does not match!(None != {'proj': 'sterea', 'lat_0': 52.15616055555555, 'lon_0': 5.38763888888889, 'k': 0.9999079, 'x_0': 155000, 'y_0': 463000, 'ellps': 'bessel', 'units': 'm', 'no_defs': True})\n",
      "  \"(%s != %s)\" % (left_df.crs, right_df.crs)\n"
     ]
    },
    {
     "name": "stdout",
     "output_type": "stream",
     "text": [
      "(208957, 10)\n",
      "(208957, 21)\n",
      "(208957, 33)\n",
      "2020\n",
      "(208870, 8)\n"
     ]
    },
    {
     "name": "stderr",
     "output_type": "stream",
     "text": [
      "C:\\Users\\Gebruiker\\anaconda3\\lib\\site-packages\\geopandas\\tools\\sjoin.py:61: UserWarning: CRS of frames being joined does not match!(None != {'proj': 'sterea', 'lat_0': 52.15616055555555, 'lon_0': 5.38763888888889, 'k': 0.9999079, 'x_0': 155000, 'y_0': 463000, 'ellps': 'bessel', 'units': 'm', 'no_defs': True})\n",
      "  \"(%s != %s)\" % (left_df.crs, right_df.crs)\n"
     ]
    },
    {
     "name": "stdout",
     "output_type": "stream",
     "text": [
      "(208870, 10)\n",
      "(208870, 21)\n",
      "(208870, 33)\n"
     ]
    }
   ],
   "source": [
    "d15 = snapshotter(VBO, grid_vbo, pand, buurtgrenzen2015, 2015)\n",
    "d16 = snapshotter(VBO, grid_vbo, pand, buurtgrenzen2016, 2016)\n",
    "d17 = snapshotter(VBO, grid_vbo, pand, buurtgrenzen2017, 2017)\n",
    "d18 = snapshotter(VBO, grid_vbo, pand, buurtgrenzen2018, 2018)\n",
    "d19 = snapshotter(VBO, grid_vbo, pand, buurtgrenzen2019, 2019)\n",
    "d20 = snapshotter(VBO, grid_vbo, pand, buurtgrenzen2019, 2020)"
   ]
  },
  {
   "cell_type": "code",
   "execution_count": 56,
   "id": "80221027",
   "metadata": {},
   "outputs": [],
   "source": [
    "d15[\"y\"] = (d15.woonfunctiesum < d16.woonfunctiesum).astype(int)\n",
    "d16[\"y\"] = (d16.woonfunctiesum < d17.woonfunctiesum).astype(int)\n",
    "d17[\"y\"] = (d17.woonfunctiesum < d18.woonfunctiesum).astype(int)\n",
    "d18[\"y\"] = (d18.woonfunctiesum < d19.woonfunctiesum).astype(int)\n",
    "d19[\"y\"] = (d19.woonfunctiesum < d20.woonfunctiesum).astype(int)"
   ]
  },
  {
   "cell_type": "code",
   "execution_count": 57,
   "id": "cd6369f7",
   "metadata": {},
   "outputs": [
    {
     "name": "stdout",
     "output_type": "stream",
     "text": [
      "1493\n",
      "582\n",
      "617\n",
      "604\n",
      "604\n"
     ]
    }
   ],
   "source": [
    "print(d15.y.sum())\n",
    "print(d16.y.sum())\n",
    "print(d17.y.sum())\n",
    "print(d18.y.sum())\n",
    "print(d18.y.sum())\n"
   ]
  },
  {
   "cell_type": "code",
   "execution_count": 58,
   "id": "f3ac70e6",
   "metadata": {},
   "outputs": [
    {
     "name": "stdout",
     "output_type": "stream",
     "text": [
      "2014\n",
      "(209406, 8)\n"
     ]
    },
    {
     "name": "stderr",
     "output_type": "stream",
     "text": [
      "C:\\Users\\Gebruiker\\anaconda3\\lib\\site-packages\\geopandas\\tools\\sjoin.py:61: UserWarning: CRS of frames being joined does not match!(None != {'proj': 'sterea', 'lat_0': 52.15616055555555, 'lon_0': 5.38763888888889, 'k': 0.9999079, 'x_0': 155000, 'y_0': 463000, 'ellps': 'bessel', 'units': 'm', 'no_defs': True})\n",
      "  \"(%s != %s)\" % (left_df.crs, right_df.crs)\n"
     ]
    },
    {
     "name": "stdout",
     "output_type": "stream",
     "text": [
      "(209406, 10)\n",
      "(209406, 21)\n",
      "(209406, 33)\n"
     ]
    }
   ],
   "source": [
    "d14 = snapshotter(VBO, grid_vbo, pand, buurtgrenzen2015, 2014)"
   ]
  },
  {
   "cell_type": "code",
   "execution_count": 59,
   "id": "6571c2fd",
   "metadata": {},
   "outputs": [],
   "source": [
    "d15[\"y-1\"] = (d14.woonfunctiesum < d15.woonfunctiesum).astype(int)\n",
    "d16[\"y-1\"] = (d15.woonfunctiesum < d16.woonfunctiesum).astype(int)\n",
    "d17[\"y-1\"] = (d16.woonfunctiesum < d17.woonfunctiesum).astype(int)\n",
    "d18[\"y-1\"] = (d17.woonfunctiesum < d18.woonfunctiesum).astype(int)\n",
    "d19[\"y-1\"] = (d18.woonfunctiesum < d19.woonfunctiesum).astype(int)"
   ]
  },
  {
   "cell_type": "code",
   "execution_count": 77,
   "id": "2b0091c0",
   "metadata": {
    "scrolled": true
   },
   "outputs": [
    {
     "data": {
      "text/plain": [
       "18"
      ]
     },
     "execution_count": 77,
     "metadata": {},
     "output_type": "execute_result"
    }
   ],
   "source": [
    "d15[d15.woonfunctiesum>1].bouwjaarmax.isna().sum()"
   ]
  },
  {
   "cell_type": "code",
   "execution_count": 79,
   "id": "561e82e1",
   "metadata": {},
   "outputs": [
    {
     "data": {
      "text/plain": [
       "90162.0"
      ]
     },
     "execution_count": 79,
     "metadata": {},
     "output_type": "execute_result"
    }
   ],
   "source": [
    "d15.woonfunctiesum.sum()"
   ]
  },
  {
   "cell_type": "code",
   "execution_count": 80,
   "id": "37a65ecf",
   "metadata": {},
   "outputs": [
    {
     "data": {
      "text/plain": [
       "90855.0"
      ]
     },
     "execution_count": 80,
     "metadata": {},
     "output_type": "execute_result"
    }
   ],
   "source": [
    "d16.woonfunctiesum.sum()"
   ]
  }
 ],
 "metadata": {
  "kernelspec": {
   "display_name": "Python 3 (ipykernel)",
   "language": "python",
   "name": "python3"
  },
  "language_info": {
   "codemirror_mode": {
    "name": "ipython",
    "version": 3
   },
   "file_extension": ".py",
   "mimetype": "text/x-python",
   "name": "python",
   "nbconvert_exporter": "python",
   "pygments_lexer": "ipython3",
   "version": "3.7.11"
  }
 },
 "nbformat": 4,
 "nbformat_minor": 5
}
