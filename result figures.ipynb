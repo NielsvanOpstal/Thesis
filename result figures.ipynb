{
 "cells": [
  {
   "cell_type": "code",
   "execution_count": 64,
   "id": "3ccb5ef0",
   "metadata": {},
   "outputs": [],
   "source": [
    "import pandas as pd\n",
    "import shapely\n",
    "import geopandas as gpd\n",
    "import matplotlib.pyplot as plt"
   ]
  },
  {
   "cell_type": "code",
   "execution_count": 67,
   "id": "d5137a86",
   "metadata": {},
   "outputs": [],
   "source": [
    "DH = pd.read_csv(\"../results/Denhaag.csv\", index_col = 0)\n",
    "EH = pd.read_csv(\"../results/Eindhoven.csv\", index_col = 0)\n",
    "NM = pd.read_csv(\"../results/Nijmegen.csv\", index_col = 0)"
   ]
  },
  {
   "cell_type": "markdown",
   "id": "26203471",
   "metadata": {},
   "source": [
    "# non cluster models"
   ]
  },
  {
   "cell_type": "code",
   "execution_count": 82,
   "id": "4718edc9",
   "metadata": {},
   "outputs": [],
   "source": [
    "DH1 = DH[~DH.index.str.contains(\"ust\")]\n",
    "EH1 = EH[~EH.index.str.contains(\"ust\")]\n",
    "NM1 = NM[~NM.index.str.contains(\"ust\")]"
   ]
  },
  {
   "cell_type": "code",
   "execution_count": 103,
   "id": "691df8f3",
   "metadata": {},
   "outputs": [
    {
     "data": {
      "text/html": [
       "<div>\n",
       "<style scoped>\n",
       "    .dataframe tbody tr th:only-of-type {\n",
       "        vertical-align: middle;\n",
       "    }\n",
       "\n",
       "    .dataframe tbody tr th {\n",
       "        vertical-align: top;\n",
       "    }\n",
       "\n",
       "    .dataframe thead th {\n",
       "        text-align: right;\n",
       "    }\n",
       "</style>\n",
       "<table border=\"1\" class=\"dataframe\">\n",
       "  <thead>\n",
       "    <tr style=\"text-align: right;\">\n",
       "      <th>model</th>\n",
       "      <th>RF</th>\n",
       "      <th>MLP</th>\n",
       "      <th>CNN</th>\n",
       "      <th>RNN</th>\n",
       "      <th>RNNCNN</th>\n",
       "      <th>XGB</th>\n",
       "    </tr>\n",
       "  </thead>\n",
       "  <tbody>\n",
       "    <tr>\n",
       "      <th>auc</th>\n",
       "      <td>0.677484</td>\n",
       "      <td>0.679318</td>\n",
       "      <td>0.592242</td>\n",
       "      <td>0.676105</td>\n",
       "      <td>0.664910</td>\n",
       "      <td>0.680866</td>\n",
       "    </tr>\n",
       "    <tr>\n",
       "      <th>f1</th>\n",
       "      <td>0.383407</td>\n",
       "      <td>0.400098</td>\n",
       "      <td>0.337261</td>\n",
       "      <td>0.401423</td>\n",
       "      <td>0.389228</td>\n",
       "      <td>0.384389</td>\n",
       "    </tr>\n",
       "    <tr>\n",
       "      <th>auc_EIND</th>\n",
       "      <td>0.684324</td>\n",
       "      <td>0.670751</td>\n",
       "      <td>0.603258</td>\n",
       "      <td>0.689692</td>\n",
       "      <td>0.663678</td>\n",
       "      <td>0.683336</td>\n",
       "    </tr>\n",
       "    <tr>\n",
       "      <th>f1_EIND</th>\n",
       "      <td>0.214421</td>\n",
       "      <td>0.265655</td>\n",
       "      <td>0.210626</td>\n",
       "      <td>0.238095</td>\n",
       "      <td>0.242236</td>\n",
       "      <td>0.208729</td>\n",
       "    </tr>\n",
       "    <tr>\n",
       "      <th>auc_NM</th>\n",
       "      <td>0.659007</td>\n",
       "      <td>0.662382</td>\n",
       "      <td>0.601488</td>\n",
       "      <td>0.679314</td>\n",
       "      <td>0.648543</td>\n",
       "      <td>0.668151</td>\n",
       "    </tr>\n",
       "    <tr>\n",
       "      <th>f1_NM</th>\n",
       "      <td>0.236908</td>\n",
       "      <td>0.264339</td>\n",
       "      <td>0.177057</td>\n",
       "      <td>0.258799</td>\n",
       "      <td>0.231405</td>\n",
       "      <td>0.241895</td>\n",
       "    </tr>\n",
       "  </tbody>\n",
       "</table>\n",
       "</div>"
      ],
      "text/plain": [
       "model           RF       MLP       CNN       RNN    RNNCNN       XGB\n",
       "auc       0.677484  0.679318  0.592242  0.676105  0.664910  0.680866\n",
       "f1        0.383407  0.400098  0.337261  0.401423  0.389228  0.384389\n",
       "auc_EIND  0.684324  0.670751  0.603258  0.689692  0.663678  0.683336\n",
       "f1_EIND   0.214421  0.265655  0.210626  0.238095  0.242236  0.208729\n",
       "auc_NM    0.659007  0.662382  0.601488  0.679314  0.648543  0.668151\n",
       "f1_NM     0.236908  0.264339  0.177057  0.258799  0.231405  0.241895"
      ]
     },
     "execution_count": 103,
     "metadata": {},
     "output_type": "execute_result"
    }
   ],
   "source": [
    "tot = DH1.join(EH1, rsuffix = \"_EIND\").join(NM1, rsuffix = \"_NM\")\n",
    "tot = tot.transpose()\n",
    "tot"
   ]
  },
  {
   "cell_type": "code",
   "execution_count": 98,
   "id": "e3579978",
   "metadata": {},
   "outputs": [],
   "source": [
    "arrays = [[\"Den haag\", \"Den haag\", \"Eindhoven\", \"Eindhoven\", \"Nijmegen\", \"Nijmegen\"],\n",
    "            [\"AUC\", \"F1\", \"AUC\", \"F1\", \"AUC\", \"F1\"]\n",
    "          ]"
   ]
  },
  {
   "cell_type": "code",
   "execution_count": 99,
   "id": "941cfeb9",
   "metadata": {},
   "outputs": [],
   "source": [
    "tuples = list(zip(*arrays))"
   ]
  },
  {
   "cell_type": "code",
   "execution_count": 100,
   "id": "4d2b48ed",
   "metadata": {},
   "outputs": [
    {
     "data": {
      "text/plain": [
       "[('Den haag', 'AUC'),\n",
       " ('Den haag', 'F1'),\n",
       " ('Eindhoven', 'AUC'),\n",
       " ('Eindhoven', 'F1'),\n",
       " ('Nijmegen', 'AUC'),\n",
       " ('Nijmegen', 'F1')]"
      ]
     },
     "execution_count": 100,
     "metadata": {},
     "output_type": "execute_result"
    }
   ],
   "source": [
    "tuples"
   ]
  },
  {
   "cell_type": "code",
   "execution_count": 101,
   "id": "ea10ecf3",
   "metadata": {},
   "outputs": [],
   "source": [
    "index = pd.MultiIndex.from_tuples(tuples, names=[\"City\", \"Score\"])"
   ]
  },
  {
   "cell_type": "code",
   "execution_count": 104,
   "id": "61f66769",
   "metadata": {},
   "outputs": [],
   "source": [
    "tot.index = index"
   ]
  },
  {
   "cell_type": "code",
   "execution_count": 105,
   "id": "867ee698",
   "metadata": {
    "scrolled": true
   },
   "outputs": [
    {
     "data": {
      "text/html": [
       "<div>\n",
       "<style scoped>\n",
       "    .dataframe tbody tr th:only-of-type {\n",
       "        vertical-align: middle;\n",
       "    }\n",
       "\n",
       "    .dataframe tbody tr th {\n",
       "        vertical-align: top;\n",
       "    }\n",
       "\n",
       "    .dataframe thead th {\n",
       "        text-align: right;\n",
       "    }\n",
       "</style>\n",
       "<table border=\"1\" class=\"dataframe\">\n",
       "  <thead>\n",
       "    <tr style=\"text-align: right;\">\n",
       "      <th></th>\n",
       "      <th>model</th>\n",
       "      <th>RF</th>\n",
       "      <th>MLP</th>\n",
       "      <th>CNN</th>\n",
       "      <th>RNN</th>\n",
       "      <th>RNNCNN</th>\n",
       "      <th>XGB</th>\n",
       "    </tr>\n",
       "    <tr>\n",
       "      <th>City</th>\n",
       "      <th>Score</th>\n",
       "      <th></th>\n",
       "      <th></th>\n",
       "      <th></th>\n",
       "      <th></th>\n",
       "      <th></th>\n",
       "      <th></th>\n",
       "    </tr>\n",
       "  </thead>\n",
       "  <tbody>\n",
       "    <tr>\n",
       "      <th rowspan=\"2\" valign=\"top\">Den haag</th>\n",
       "      <th>AUC</th>\n",
       "      <td>0.677484</td>\n",
       "      <td>0.679318</td>\n",
       "      <td>0.592242</td>\n",
       "      <td>0.676105</td>\n",
       "      <td>0.664910</td>\n",
       "      <td>0.680866</td>\n",
       "    </tr>\n",
       "    <tr>\n",
       "      <th>F1</th>\n",
       "      <td>0.383407</td>\n",
       "      <td>0.400098</td>\n",
       "      <td>0.337261</td>\n",
       "      <td>0.401423</td>\n",
       "      <td>0.389228</td>\n",
       "      <td>0.384389</td>\n",
       "    </tr>\n",
       "    <tr>\n",
       "      <th rowspan=\"2\" valign=\"top\">Eindhoven</th>\n",
       "      <th>AUC</th>\n",
       "      <td>0.684324</td>\n",
       "      <td>0.670751</td>\n",
       "      <td>0.603258</td>\n",
       "      <td>0.689692</td>\n",
       "      <td>0.663678</td>\n",
       "      <td>0.683336</td>\n",
       "    </tr>\n",
       "    <tr>\n",
       "      <th>F1</th>\n",
       "      <td>0.214421</td>\n",
       "      <td>0.265655</td>\n",
       "      <td>0.210626</td>\n",
       "      <td>0.238095</td>\n",
       "      <td>0.242236</td>\n",
       "      <td>0.208729</td>\n",
       "    </tr>\n",
       "    <tr>\n",
       "      <th rowspan=\"2\" valign=\"top\">Nijmegen</th>\n",
       "      <th>AUC</th>\n",
       "      <td>0.659007</td>\n",
       "      <td>0.662382</td>\n",
       "      <td>0.601488</td>\n",
       "      <td>0.679314</td>\n",
       "      <td>0.648543</td>\n",
       "      <td>0.668151</td>\n",
       "    </tr>\n",
       "    <tr>\n",
       "      <th>F1</th>\n",
       "      <td>0.236908</td>\n",
       "      <td>0.264339</td>\n",
       "      <td>0.177057</td>\n",
       "      <td>0.258799</td>\n",
       "      <td>0.231405</td>\n",
       "      <td>0.241895</td>\n",
       "    </tr>\n",
       "  </tbody>\n",
       "</table>\n",
       "</div>"
      ],
      "text/plain": [
       "model                  RF       MLP       CNN       RNN    RNNCNN       XGB\n",
       "City      Score                                                            \n",
       "Den haag  AUC    0.677484  0.679318  0.592242  0.676105  0.664910  0.680866\n",
       "          F1     0.383407  0.400098  0.337261  0.401423  0.389228  0.384389\n",
       "Eindhoven AUC    0.684324  0.670751  0.603258  0.689692  0.663678  0.683336\n",
       "          F1     0.214421  0.265655  0.210626  0.238095  0.242236  0.208729\n",
       "Nijmegen  AUC    0.659007  0.662382  0.601488  0.679314  0.648543  0.668151\n",
       "          F1     0.236908  0.264339  0.177057  0.258799  0.231405  0.241895"
      ]
     },
     "execution_count": 105,
     "metadata": {},
     "output_type": "execute_result"
    }
   ],
   "source": [
    "tot"
   ]
  },
  {
   "cell_type": "code",
   "execution_count": 107,
   "id": "ac644fe9",
   "metadata": {},
   "outputs": [],
   "source": [
    "b.to_excel(\"../results/non_cluster_table.xlsx\")"
   ]
  },
  {
   "cell_type": "markdown",
   "id": "63ccd92a",
   "metadata": {},
   "source": [
    "### tables"
   ]
  },
  {
   "cell_type": "code",
   "execution_count": 110,
   "id": "427173db",
   "metadata": {},
   "outputs": [],
   "source": []
  },
  {
   "cell_type": "code",
   "execution_count": 111,
   "id": "adc3ff92",
   "metadata": {},
   "outputs": [
    {
     "ename": "NameError",
     "evalue": "name 'Y_test' is not defined",
     "output_type": "error",
     "traceback": [
      "\u001b[1;31m---------------------------------------------------------------------------\u001b[0m",
      "\u001b[1;31mNameError\u001b[0m                                 Traceback (most recent call last)",
      "\u001b[1;32mC:\\Users\\GEBRUI~1\\AppData\\Local\\Temp/ipykernel_2928/2041942370.py\u001b[0m in \u001b[0;36m<module>\u001b[1;34m\u001b[0m\n\u001b[1;32m----> 1\u001b[1;33m \u001b[0mmetrics\u001b[0m\u001b[1;33m.\u001b[0m\u001b[0mclassification_report\u001b[0m\u001b[1;33m(\u001b[0m\u001b[0mY_test\u001b[0m\u001b[1;33m,\u001b[0m \u001b[0mYhat\u001b[0m\u001b[1;33m,\u001b[0m \u001b[0mdigits\u001b[0m\u001b[1;33m=\u001b[0m\u001b[1;36m3\u001b[0m\u001b[1;33m)\u001b[0m\u001b[1;33m\u001b[0m\u001b[1;33m\u001b[0m\u001b[0m\n\u001b[0m",
      "\u001b[1;31mNameError\u001b[0m: name 'Y_test' is not defined"
     ]
    }
   ],
   "source": []
  },
  {
   "cell_type": "code",
   "execution_count": null,
   "id": "587c8e49",
   "metadata": {},
   "outputs": [],
   "source": []
  }
 ],
 "metadata": {
  "kernelspec": {
   "display_name": "Python 3 (ipykernel)",
   "language": "python",
   "name": "python3"
  },
  "language_info": {
   "codemirror_mode": {
    "name": "ipython",
    "version": 3
   },
   "file_extension": ".py",
   "mimetype": "text/x-python",
   "name": "python",
   "nbconvert_exporter": "python",
   "pygments_lexer": "ipython3",
   "version": "3.7.11"
  }
 },
 "nbformat": 4,
 "nbformat_minor": 5
}
