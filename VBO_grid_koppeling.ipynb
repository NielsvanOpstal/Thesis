{
 "cells": [
  {
   "cell_type": "markdown",
   "id": "5e9650dc",
   "metadata": {},
   "source": [
    "## couples each vbo to a grid\n",
    "\n"
   ]
  },
  {
   "cell_type": "code",
   "execution_count": 1,
   "id": "b6aa1fc2",
   "metadata": {},
   "outputs": [],
   "source": [
    "from shapely.geometry import asPoint\n",
    "import geopandas as gpd\n",
    "import pandas as pd\n",
    "import time\n",
    "import shapely\n",
    "import matplotlib.pyplot as plt\n"
   ]
  },
  {
   "cell_type": "code",
   "execution_count": 2,
   "id": "4c05bcd6",
   "metadata": {},
   "outputs": [],
   "source": [
    "def VBOCleaner(data):\n",
    "    print(data.shape)\n",
    "    \n",
    "    # only keep objects with id\n",
    "    data = data[data[\"identificatie\"].notna()]\n",
    "    print(data.shape)\n",
    "    \n",
    "    # only keep objects which are currently in use # CHECK of dit de juiste zijn\n",
    "    data = data[data.verblijfsobjectStatus.isin([\"Verblijfsobject gevormd\", \n",
    "                                                 \"Verblijfsobject in gebruik\",\n",
    "                                                 \"Verblijfsobject in gebruik (niet ingemeten)\"])]\n",
    "    data = data[data.pos.notna()]\n",
    "    print(data.shape)\n",
    "    \n",
    "    data[\"begindatumTijdvakGeldigheid\"] =  pd.to_datetime(data['begindatumTijdvakGeldigheid'], format='%Y%m%d%H%M%S%f', errors='coerce')\n",
    "    data[\"einddatumTijdvakGeldigheid\"] =  pd.to_datetime(data['einddatumTijdvakGeldigheid'], format='%Y%m%d%H%M%S%f', errors='coerce')\n",
    "    \n",
    "    def toPoint(pos):\n",
    "        return asPoint([float(i) for i in pos.split()[:2]])\n",
    "    data[\"pos\"] = data.pos.apply(toPoint)\n",
    "    \n",
    "    return data"
   ]
  },
  {
   "cell_type": "code",
   "execution_count": 3,
   "id": "7ef871c3",
   "metadata": {},
   "outputs": [
    {
     "name": "stdout",
     "output_type": "stream",
     "text": [
      "(19501545, 7)\n",
      "(18918593, 7)\n",
      "(18386142, 7)\n"
     ]
    }
   ],
   "source": [
    "vbo = pd.read_csv(\"VBO.csv\", sep = \";\", encoding = \"utf-8\", na_values = \"NaN\", on_bad_lines = \"warn\")\n",
    "vbo = VBOCleaner(vbo)\n"
   ]
  },
  {
   "cell_type": "code",
   "execution_count": 4,
   "id": "b65ccb24",
   "metadata": {},
   "outputs": [],
   "source": [
    "# # Grid is full eindhoven grid\n",
    "# grid = pd.read_csv(\"Nijmegen_grid.csv\")\n",
    "# grid['geometry'] = grid.geometry.apply(shapely.wkt.loads)\n",
    "# grid = gpd.GeoDataFrame(grid)"
   ]
  },
  {
   "cell_type": "code",
   "execution_count": 5,
   "id": "37ec2a3e",
   "metadata": {},
   "outputs": [],
   "source": [
    "def couple_grid_vbo(name):\n",
    "    t0 = time.time()\n",
    "    grid = pd.read_csv(name + \"_grid.csv\")\n",
    "    grid['geometry'] = grid.geometry.apply(shapely.wkt.loads)\n",
    "    grid = gpd.GeoDataFrame(grid)\n",
    "    \n",
    "    vbo = pd.read_csv(\"VBO.csv\", sep = \";\", encoding = \"utf-8\", na_values = \"NaN\", on_bad_lines = \"warn\")\n",
    "    vbo = VBOCleaner(vbo)\n",
    "    points = gpd.GeoDataFrame(vbo, geometry = \"pos\")\n",
    "    \n",
    "    \n",
    "    # join each cbs row with a vbo that contains a vbo point\n",
    "    pointInPolys = gpd.tools.sjoin(points, grid, op = \"within\")\n",
    "    print(time.time() - t0)\n",
    "    pointInPolys.to_csv(name + \"_vbo.csv\")"
   ]
  },
  {
   "cell_type": "code",
   "execution_count": 6,
   "id": "d47964d5",
   "metadata": {
    "scrolled": true
   },
   "outputs": [
    {
     "name": "stdout",
     "output_type": "stream",
     "text": [
      "(19501545, 7)\n",
      "(18918593, 7)\n",
      "(18386142, 7)\n",
      "1997.0505499839783\n"
     ]
    }
   ],
   "source": [
    "coupled = couple_grid_vbo(\"Groningen\")"
   ]
  },
  {
   "cell_type": "code",
   "execution_count": 14,
   "id": "9e719c2e",
   "metadata": {},
   "outputs": [
    {
     "data": {
      "text/plain": [
       "Index(['gebruiksdoelVerblijfsobject', 'oppervlakteVerblijfsobject',\n",
       "       'verblijfsobjectStatus', 'begindatumTijdvakGeldigheid',\n",
       "       'einddatumTijdvakGeldigheid', 'identificatie', 'pos', 'index_right',\n",
       "       'Unnamed: 0', 'C28992R100'],\n",
       "      dtype='object')"
      ]
     },
     "execution_count": 14,
     "metadata": {},
     "output_type": "execute_result"
    }
   ],
   "source": [
    "coupled.columns"
   ]
  },
  {
   "cell_type": "code",
   "execution_count": 17,
   "id": "b57f355e",
   "metadata": {},
   "outputs": [
    {
     "data": {
      "text/plain": [
       "(197572, 10)"
      ]
     },
     "execution_count": 17,
     "metadata": {},
     "output_type": "execute_result"
    }
   ],
   "source": [
    "coupled.shape"
   ]
  },
  {
   "cell_type": "code",
   "execution_count": 16,
   "id": "c5d38c59",
   "metadata": {},
   "outputs": [
    {
     "data": {
      "text/plain": [
       "(12566, 3)"
      ]
     },
     "execution_count": 16,
     "metadata": {},
     "output_type": "execute_result"
    }
   ],
   "source": [
    "grid.shape"
   ]
  },
  {
   "cell_type": "code",
   "execution_count": null,
   "id": "89d793e3",
   "metadata": {},
   "outputs": [],
   "source": [
    "# plot example\n",
    "\n",
    "plt.plot(*cbs[cbs[\"C28992R100\"] == pointInPolys.iloc[0].C28992R100].geometry.iloc[0].exterior.xy)\n",
    "plt.scatter(point.x, point.y)"
   ]
  }
 ],
 "metadata": {
  "kernelspec": {
   "display_name": "Python 3 (ipykernel)",
   "language": "python",
   "name": "python3"
  },
  "language_info": {
   "codemirror_mode": {
    "name": "ipython",
    "version": 3
   },
   "file_extension": ".py",
   "mimetype": "text/x-python",
   "name": "python",
   "nbconvert_exporter": "python",
   "pygments_lexer": "ipython3",
   "version": "3.7.11"
  }
 },
 "nbformat": 4,
 "nbformat_minor": 5
}
