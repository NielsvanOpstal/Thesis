{
 "cells": [
  {
   "cell_type": "markdown",
   "id": "5e9650dc",
   "metadata": {},
   "source": [
    "## couples each vbo to a grid\n",
    "\n"
   ]
  },
  {
   "cell_type": "code",
   "execution_count": 19,
   "id": "b6aa1fc2",
   "metadata": {},
   "outputs": [],
   "source": [
    "from shapely.geometry import asPoint\n",
    "import geopandas as gpd\n",
    "import pandas as pd\n",
    "import time\n",
    "import shapely\n",
    "import matplotlib.pyplot as plt\n",
    "import os"
   ]
  },
  {
   "cell_type": "code",
   "execution_count": 2,
   "id": "4c05bcd6",
   "metadata": {},
   "outputs": [],
   "source": [
    "def VBOCleaner(data):\n",
    "    print(data.shape)\n",
    "    \n",
    "    # only keep objects with id\n",
    "    data = data[data[\"identificatie\"].notna()]\n",
    "    print(data.shape)\n",
    "    \n",
    "    # only keep objects which are currently in use # CHECK of dit de juiste zijn\n",
    "    data = data[data.verblijfsobjectStatus.isin([\"Verblijfsobject gevormd\", \n",
    "                                                 \"Verblijfsobject in gebruik\",\n",
    "                                                 \"Verblijfsobject in gebruik (niet ingemeten)\"])]\n",
    "    data = data[data.pos.notna()]\n",
    "    print(data.shape)\n",
    "    \n",
    "    data[\"begindatumTijdvakGeldigheid\"] =  pd.to_datetime(data['begindatumTijdvakGeldigheid'], format='%Y%m%d%H%M%S%f', errors='coerce')\n",
    "    data[\"einddatumTijdvakGeldigheid\"] =  pd.to_datetime(data['einddatumTijdvakGeldigheid'], format='%Y%m%d%H%M%S%f', errors='coerce')\n",
    "    \n",
    "    def toPoint(pos):\n",
    "        return asPoint([float(i) for i in pos.split()[:2]])\n",
    "    data[\"pos\"] = data.pos.apply(toPoint)\n",
    "    \n",
    "    return data"
   ]
  },
  {
   "cell_type": "code",
   "execution_count": 3,
   "id": "7ef871c3",
   "metadata": {},
   "outputs": [
    {
     "name": "stdout",
     "output_type": "stream",
     "text": [
      "(19501545, 7)\n",
      "(18918593, 7)\n",
      "(18386142, 7)\n"
     ]
    }
   ],
   "source": [
    "vbo = pd.read_csv(\"VBO.csv\", sep = \";\", encoding = \"utf-8\", na_values = \"NaN\", on_bad_lines = \"warn\")\n",
    "vbo = VBOCleaner(vbo)\n"
   ]
  },
  {
   "cell_type": "code",
   "execution_count": 20,
   "id": "df1f8e0a",
   "metadata": {},
   "outputs": [
    {
     "name": "stderr",
     "output_type": "stream",
     "text": [
      "C:\\Users\\Gebruiker\\anaconda3\\lib\\site-packages\\IPython\\core\\interactiveshell.py:3441: DtypeWarning: Columns (2,3) have mixed types.Specify dtype option on import or set low_memory=False.\n",
      "  exec(code_obj, self.user_global_ns, self.user_ns)\n"
     ]
    }
   ],
   "source": [
    "pand = pd.read_csv(\"pand_cleaned.csv\", sep = \";\")\n"
   ]
  },
  {
   "cell_type": "code",
   "execution_count": 4,
   "id": "b65ccb24",
   "metadata": {},
   "outputs": [],
   "source": [
    "# # Grid is full eindhoven grid\n",
    "# grid = pd.read_csv(\"Nijmegen_grid.csv\")\n",
    "# grid['geometry'] = grid.geometry.apply(shapely.wkt.loads)\n",
    "# grid = gpd.GeoDataFrame(grid)"
   ]
  },
  {
   "cell_type": "code",
   "execution_count": 22,
   "id": "37ec2a3e",
   "metadata": {},
   "outputs": [],
   "source": [
    "def couple_grid_vbo(PATH, vbo):\n",
    "    \n",
    "    vbopoints = gpd.GeoDataFrame(vbo, geometry = \"pos\")\n",
    "    for filename in os.listdir(PATH):\n",
    "        \n",
    "        t0 = time.time()\n",
    "        name = filename.strip(\"_grid.csv\")\n",
    "        \n",
    "        grid = pd.read_csv(PATH + filename) # get grid\n",
    "        grid['geometry'] = grid.geometry.apply(shapely.wkt.loads) # load geometry as shape\n",
    "        grid = gpd.GeoDataFrame(grid)\n",
    "        print(grid.shape)\n",
    "        # join each cbs row with a vbo that contains a vbo point\n",
    "        vbogrid = gpd.tools.sjoin(vbopoints, grid, op = \"within\")\n",
    "        print(\"{} done. time:{}\".format(name,time.time() - t0))\n",
    "\n",
    "        vbogrid.to_csv(\"../Data/presnap/vbo/\" + name + \"_vbo.csv\")"
   ]
  },
  {
   "cell_type": "code",
   "execution_count": 23,
   "id": "d47964d5",
   "metadata": {
    "scrolled": true
   },
   "outputs": [
    {
     "name": "stdout",
     "output_type": "stream",
     "text": [
      "(68355, 3)\n",
      "Almere done. time:1489.4407768249512\n",
      "(19324, 3)\n",
      "Breda done. time:15.673068761825562\n"
     ]
    }
   ],
   "source": [
    "coupled = couple_grid_vbo(\"../Data/presnap/grid/\", vbo)"
   ]
  },
  {
   "cell_type": "code",
   "execution_count": null,
   "id": "89d793e3",
   "metadata": {},
   "outputs": [],
   "source": [
    "# plot example\n",
    "\n",
    "plt.plot(*cbs[cbs[\"C28992R100\"] == pointInPolys.iloc[0].C28992R100].geometry.iloc[0].exterior.xy)\n",
    "plt.scatter(point.x, point.y)"
   ]
  }
 ],
 "metadata": {
  "kernelspec": {
   "display_name": "Python 3 (ipykernel)",
   "language": "python",
   "name": "python3"
  },
  "language_info": {
   "codemirror_mode": {
    "name": "ipython",
    "version": 3
   },
   "file_extension": ".py",
   "mimetype": "text/x-python",
   "name": "python",
   "nbconvert_exporter": "python",
   "pygments_lexer": "ipython3",
   "version": "3.7.11"
  }
 },
 "nbformat": 4,
 "nbformat_minor": 5
}
