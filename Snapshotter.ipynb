{
 "cells": [
  {
   "cell_type": "code",
   "execution_count": 7,
   "metadata": {},
   "outputs": [],
   "source": [
    "import pandas as pd\n",
    "import time\n",
    "from datetime import datetime\n",
    "import geopandas as gpd\n",
    "import shapely\n",
    "import numpy as np\n",
    "import cbsodata\n",
    "from collections import Counter\n",
    "import math"
   ]
  },
  {
   "cell_type": "code",
   "execution_count": 8,
   "metadata": {},
   "outputs": [],
   "source": [
    "def VBOCleaner(data):\n",
    "    from shapely.geometry import asPoint    \n",
    "    # only keep objects with id\n",
    "    data = data[data[\"identificatie\"].notna()]    \n",
    "    # only keep objects which are currently in use # CHECK of dit de juiste zijn\n",
    "    data = data[data.verblijfsobjectStatus.isin([\"Verblijfsobject gevormd\", \n",
    "                                                 \"Verblijfsobject in gebruik\",\n",
    "                                                 \"Verblijfsobject in gebruik (niet ingemeten)\"])]\n",
    "    data = data[data.pos.notna()]    \n",
    "    data[\"begindatumTijdvakGeldigheid\"] =  pd.to_datetime(data['begindatumTijdvakGeldigheid'], format='%Y%m%d%H%M%S%f', errors='coerce')\n",
    "    data[\"einddatumTijdvakGeldigheid\"] =  pd.to_datetime(data['einddatumTijdvakGeldigheid'], format='%Y%m%d%H%M%S%f', errors='coerce')\n",
    "    \n",
    "    def toPoint(pos):\n",
    "        string = \"POINT \" + str([float(i) for i in pos.split()[:2]])\n",
    "        return string.replace(\"[\", \"(\").replace(\"]\", \")\").replace(\",\", \"\")\n",
    "    data.pos = data.pos.apply(toPoint)\n",
    "    \n",
    "    return data"
   ]
  },
  {
   "cell_type": "code",
   "execution_count": 9,
   "metadata": {},
   "outputs": [],
   "source": [
    "def snapshotter(vbo, grid_vbo, buurtgrenzen, year):\n",
    "    \n",
    "    # Select only correct year\n",
    "    d1 = datetime(year, 1, 1)\n",
    "    vbo = vbo[vbo[\"begindatumTijdvakGeldigheid\"] < d1]\n",
    "    vbo = vbo[(vbo[\"einddatumTijdvakGeldigheid\"] > d1) | (vbo[\"einddatumTijdvakGeldigheid\"].isna())]\n",
    "\n",
    "    print(sum(vbo.gebruiksdoelVerblijfsobject == \"woonfunctie\"))\n",
    "    \n",
    "    # Join VBO's to the grid\n",
    "    data = grid_vbo.merge(vbo, how = \"left\", right_on = [\"identificatie\",\"pos\"], left_on = [\"identificatie\",\"pos\"])\n",
    "    print(sum(data.gebruiksdoelVerblijfsobject == \"woonfunctie\"))\n",
    "\n",
    "    # Add Buurt code to each vbo\n",
    "    data.pos = data.pos.apply(shapely.wkt.loads)\n",
    "    data = gpd.GeoDataFrame(data, geometry = \"pos\")\n",
    "    data = gpd.sjoin(data, buurtgrenzen, op = \"within\", how = \"left\")\n",
    "    \n",
    "    # groupby grid code.\n",
    "    data = data.join(pd.get_dummies(data.gebruiksdoelVerblijfsobject))\n",
    "    data = data.drop(\"gebruiksdoelVerblijfsobject\", axis = 1)\n",
    "    data = data.groupby(\"C28992R100\").agg({\n",
    "        \"bijeenkomstfunctie\" : \"sum\",\n",
    "        \"gezondheidszorgfunctie\" : \"sum\",\n",
    "        \"industriefunctie\" : \"sum\",\n",
    "        \"kantoorfunctie\" : \"sum\",\n",
    "        \"logiesfunctie\" : \"sum\",\n",
    "        \"onderwijsfunctie\" : \"sum\",\n",
    "        \"sportfunctie\" : \"sum\",\n",
    "        \"winkelfunctie\" : \"sum\",\n",
    "        \"woonfunctie\" : \"sum\",\n",
    "        \"oppervlakteVerblijfsobject\" : \"median\",\n",
    "        \"BU_CODE\" : lambda x: Counter(x)\n",
    "    })\n",
    "    \n",
    "    return data"
   ]
  },
  {
   "cell_type": "code",
   "execution_count": 10,
   "metadata": {},
   "outputs": [],
   "source": [
    "def CBS_weighted_join(data, cbs):\n",
    "    \n",
    "    \"\"\"\n",
    "    returns cbs grid weigthed average\n",
    "    \"\"\"\n",
    "    # create df to be filled\n",
    "    df = pd.DataFrame(columns = np.append([\"cbs100\"], cbs.columns))\n",
    "    l = len(data)\n",
    "    n_cols = len(cbs.columns)\n",
    "#     print(data.head())\n",
    "#     print(cbs.head())\n",
    "    \n",
    "    # loop over data (grid)\n",
    "    for j, (c, i) in enumerate(data.iterrows()):\n",
    "        print(\"{:.2f}\".format(j/l), end = \"\\r\")\n",
    "        \n",
    "        # If the cell has a buurt code\n",
    "        if type(i.BU_CODE) == Counter:\n",
    "            \n",
    "            total = 0\n",
    "            ls = np.zeros(n_cols)\n",
    "            \n",
    "            # loop over the buurt codes (counter)\n",
    "            for item in i.BU_CODE.items():\n",
    "#                 print(cbs.loc[item[0]])\n",
    "                # calculate weighted average\n",
    "                ls += item[1] * cbs.loc[item[0]].values\n",
    "                total += item[1]\n",
    "\n",
    "            ls /= total\n",
    "            df.loc[len(df)] = np.append(c, ls)\n",
    " \n",
    "    df[cbs.columns.values] = df[cbs.columns.values].astype(np.float32)  \n",
    "    return data.join(df.set_index(\"cbs100\"), how = \"left\", rsuffix = \"_r\")\n",
    "            \n"
   ]
  },
  {
   "cell_type": "code",
   "execution_count": 11,
   "metadata": {},
   "outputs": [],
   "source": [
    "buurtgrenzen2015 = gpd.read_file(\"../Data/buurtgrenzen/2015/buurt_2015.shp\")[[\"BU_CODE\", \"geometry\"]]\n",
    "buurtgrenzen2016 = gpd.read_file(\"../Data/buurtgrenzen/2016/buurt_2016.shp\")[[\"BU_CODE\", \"geometry\"]]\n",
    "buurtgrenzen2017 = gpd.read_file(\"../Data/buurtgrenzen/2017/buurt_2017_v3.shp\")[[\"BU_CODE\", \"geometry\"]]\n",
    "buurtgrenzen2018 = gpd.read_file(\"../Data/buurtgrenzen/2018/buurt_2018_v3.shp\")[[\"BU_CODE\", \"geometry\"]]\n",
    "buurtgrenzen2019 = gpd.read_file(\"../Data/buurtgrenzen/2019/buurt_2019_v2up.shp\")[[\"BU_CODE\", \"geometry\"]]\n",
    "\n",
    "\n",
    "VBO = pd.read_csv(\"VBO.csv\", sep = \";\", encoding = \"utf-8\", na_values = \"NaN\", on_bad_lines = \"warn\")\n",
    "VBO = VBOCleaner(VBO)\n"
   ]
  },
  {
   "cell_type": "code",
   "execution_count": 30,
   "metadata": {
    "scrolled": true
   },
   "outputs": [],
   "source": [
    "\n",
    "# eindhoven vbo links eindhoven grids to vbos\n",
    "grid_vbo = pd.read_csv(\"Groningen_vbo.csv\")[[\"identificatie\",\"C28992R100\",\"pos\"]]\n",
    "grid_vbo = grid_vbo.drop_duplicates()\n",
    "\n",
    "# full grid necessary since not all grids have vbo's so are not in grid_vbo\n",
    "grid = pd.read_csv(\"Groningen_grid.csv\", index_col = \"C28992R100\")\n",
    "# grid.geometry = grid2015.geometry.apply(shapely.wkt.loads)\n",
    "\n",
    "buurtgrenzen2015 = gpd.read_file(\"../Data/buurtgrenzen/2015/buurt_2015.shp\")[[\"BU_CODE\", \"geometry\"]]\n",
    "buurtgrenzen2016 = gpd.read_file(\"../Data/buurtgrenzen/2016/buurt_2016.shp\")[[\"BU_CODE\", \"geometry\"]]\n",
    "buurtgrenzen2017 = gpd.read_file(\"../Data/buurtgrenzen/2017/buurt_2017_v3.shp\")[[\"BU_CODE\", \"geometry\"]]\n",
    "buurtgrenzen2018 = gpd.read_file(\"../Data/buurtgrenzen/2018/buurt_2018_v3.shp\")[[\"BU_CODE\", \"geometry\"]]\n",
    "buurtgrenzen2019 = gpd.read_file(\"../Data/buurtgrenzen/2019/buurt_2019_v2up.shp\")[[\"BU_CODE\", \"geometry\"]]"
   ]
  },
  {
   "cell_type": "code",
   "execution_count": 31,
   "metadata": {},
   "outputs": [
    {
     "name": "stdout",
     "output_type": "stream",
     "text": [
      "7579498\n",
      "86637\n"
     ]
    },
    {
     "name": "stderr",
     "output_type": "stream",
     "text": [
      "C:\\Users\\Gebruiker\\anaconda3\\lib\\site-packages\\geopandas\\tools\\sjoin.py:61: UserWarning: CRS of frames being joined does not match!(None != {'proj': 'sterea', 'lat_0': 52.15616055555555, 'lon_0': 5.38763888888889, 'k': 0.9999079, 'x_0': 155000, 'y_0': 463000, 'ellps': 'bessel', 'units': 'm', 'no_defs': True})\n",
      "  \"(%s != %s)\" % (left_df.crs, right_df.crs)\n"
     ]
    },
    {
     "name": "stdout",
     "output_type": "stream",
     "text": [
      "7648521\n",
      "88377\n"
     ]
    },
    {
     "name": "stderr",
     "output_type": "stream",
     "text": [
      "C:\\Users\\Gebruiker\\anaconda3\\lib\\site-packages\\geopandas\\tools\\sjoin.py:61: UserWarning: CRS of frames being joined does not match!(None != {'proj': 'sterea', 'lat_0': 52.15616055555555, 'lon_0': 5.38763888888889, 'k': 0.9999079, 'x_0': 155000, 'y_0': 463000, 'ellps': 'bessel', 'units': 'm', 'no_defs': True})\n",
      "  \"(%s != %s)\" % (left_df.crs, right_df.crs)\n"
     ]
    },
    {
     "name": "stdout",
     "output_type": "stream",
     "text": [
      "7706489\n",
      "89838\n"
     ]
    },
    {
     "name": "stderr",
     "output_type": "stream",
     "text": [
      "C:\\Users\\Gebruiker\\anaconda3\\lib\\site-packages\\geopandas\\tools\\sjoin.py:61: UserWarning: CRS of frames being joined does not match!(None != {'proj': 'sterea', 'lat_0': 52.15616055555555, 'lon_0': 5.38763888888889, 'k': 0.9999079, 'x_0': 155000, 'y_0': 463000, 'ellps': 'bessel', 'units': 'm', 'no_defs': True})\n",
      "  \"(%s != %s)\" % (left_df.crs, right_df.crs)\n"
     ]
    },
    {
     "name": "stdout",
     "output_type": "stream",
     "text": [
      "7782031\n",
      "90176\n"
     ]
    },
    {
     "name": "stderr",
     "output_type": "stream",
     "text": [
      "C:\\Users\\Gebruiker\\anaconda3\\lib\\site-packages\\geopandas\\tools\\sjoin.py:61: UserWarning: CRS of frames being joined does not match!(None != {'proj': 'sterea', 'lat_0': 52.15616055555555, 'lon_0': 5.38763888888889, 'k': 0.9999079, 'x_0': 155000, 'y_0': 463000, 'ellps': 'bessel', 'units': 'm', 'no_defs': True})\n",
      "  \"(%s != %s)\" % (left_df.crs, right_df.crs)\n"
     ]
    },
    {
     "name": "stdout",
     "output_type": "stream",
     "text": [
      "7875174\n",
      "92966\n"
     ]
    },
    {
     "name": "stderr",
     "output_type": "stream",
     "text": [
      "C:\\Users\\Gebruiker\\anaconda3\\lib\\site-packages\\geopandas\\tools\\sjoin.py:61: UserWarning: CRS of frames being joined does not match!(None != {'proj': 'sterea', 'lat_0': 52.15616055555555, 'lon_0': 5.38763888888889, 'k': 0.9999079, 'x_0': 155000, 'y_0': 463000, 'ellps': 'bessel', 'units': 'm', 'no_defs': True})\n",
      "  \"(%s != %s)\" % (left_df.crs, right_df.crs)\n"
     ]
    },
    {
     "name": "stdout",
     "output_type": "stream",
     "text": [
      "7943656\n",
      "93948\n"
     ]
    },
    {
     "name": "stderr",
     "output_type": "stream",
     "text": [
      "C:\\Users\\Gebruiker\\anaconda3\\lib\\site-packages\\geopandas\\tools\\sjoin.py:61: UserWarning: CRS of frames being joined does not match!(None != {'proj': 'sterea', 'lat_0': 52.15616055555555, 'lon_0': 5.38763888888889, 'k': 0.9999079, 'x_0': 155000, 'y_0': 463000, 'ellps': 'bessel', 'units': 'm', 'no_defs': True})\n",
      "  \"(%s != %s)\" % (left_df.crs, right_df.crs)\n"
     ]
    }
   ],
   "source": [
    "data2015 = snapshotter(VBO, grid_vbo, buurtgrenzen2015, 2015)\n",
    "data2016 = snapshotter(VBO, grid_vbo, buurtgrenzen2016, 2016)\n",
    "data2017 = snapshotter(VBO, grid_vbo, buurtgrenzen2017, 2017)\n",
    "data2018 = snapshotter(VBO, grid_vbo, buurtgrenzen2018, 2018)\n",
    "data2019 = snapshotter(VBO, grid_vbo, buurtgrenzen2019, 2019)\n",
    "data2020 = snapshotter(VBO, grid_vbo, buurtgrenzen2019, 2020)"
   ]
  },
  {
   "cell_type": "code",
   "execution_count": 21,
   "metadata": {},
   "outputs": [],
   "source": [
    "# ------------------ ------------------ ------------------ ------------------ ------------------ ------------------ ------------------ ------------------ ------------------ ------------------"
   ]
  },
  {
   "cell_type": "code",
   "execution_count": 26,
   "metadata": {},
   "outputs": [],
   "source": [
    "y1 = (data2015.woonfunctie < data2016.woonfunctie).astype(int)\n",
    "y2 = (data2015.woonfunctie < data2017.woonfunctie).astype(int)\n",
    "y3 = (data2015.woonfunctie < data2018.woonfunctie).astype(int)"
   ]
  },
  {
   "cell_type": "code",
   "execution_count": 28,
   "metadata": {},
   "outputs": [
    {
     "data": {
      "text/plain": [
       "0.06687982946975753"
      ]
     },
     "execution_count": 28,
     "metadata": {},
     "output_type": "execute_result"
    }
   ],
   "source": [
    "(y1 == 1).sum() / len(y1)"
   ]
  },
  {
   "cell_type": "code",
   "execution_count": 29,
   "metadata": {},
   "outputs": [
    {
     "data": {
      "text/plain": [
       "0.1629363176125766"
      ]
     },
     "execution_count": 29,
     "metadata": {},
     "output_type": "execute_result"
    }
   ],
   "source": [
    "(y3 == 1).sum() / len(y1)"
   ]
  },
  {
   "cell_type": "code",
   "execution_count": 32,
   "metadata": {},
   "outputs": [],
   "source": [
    "data2015[\"y\"] = (data2015.woonfunctie < data2016.woonfunctie).astype(int)\n",
    "data2016[\"y\"] = (data2016.woonfunctie < data2017.woonfunctie).astype(int)\n",
    "data2017[\"y\"] = (data2017.woonfunctie < data2018.woonfunctie).astype(int)\n",
    "data2018[\"y\"] = (data2018.woonfunctie < data2019.woonfunctie).astype(int)\n",
    "data2019[\"y\"] = (data2019.woonfunctie < data2020.woonfunctie).astype(int)"
   ]
  },
  {
   "cell_type": "code",
   "execution_count": 33,
   "metadata": {},
   "outputs": [],
   "source": [
    "# data2015 = grid_full.join(data2015, rsuffix = \"r\")\n",
    "# data2016 = grid_full.join(data2016, rsuffix = \"r\")\n",
    "# data2017 = grid_full.join(data2017, rsuffix = \"r\")\n",
    "# data2018 = grid_full.join(data2018, rsuffix = \"r\")\n",
    "# data2019 = grid_full.join(data2019, rsuffix = \"r\")\n",
    "\n",
    "data2015 = grid.join(data2015, rsuffix = \"r\")\n",
    "data2016 = grid.join(data2016, rsuffix = \"r\")\n",
    "data2017 = grid.join(data2017, rsuffix = \"r\")\n",
    "data2018 = grid.join(data2018, rsuffix = \"r\")\n",
    "data2019 = grid.join(data2019, rsuffix = \"r\")"
   ]
  },
  {
   "cell_type": "code",
   "execution_count": 34,
   "metadata": {
    "scrolled": true
   },
   "outputs": [],
   "source": [
    "data2015 = gpd.GeoDataFrame(data2015)\n",
    "data2016 = gpd.GeoDataFrame(data2016)\n",
    "data2017 = gpd.GeoDataFrame(data2017)\n",
    "data2018 = gpd.GeoDataFrame(data2018)\n",
    "data2019 = gpd.GeoDataFrame(data2019)\n",
    "data2015.geometry = data2015.geometry.apply(shapely.wkt.loads)"
   ]
  },
  {
   "cell_type": "code",
   "execution_count": 35,
   "metadata": {},
   "outputs": [
    {
     "data": {
      "text/plain": [
       "<AxesSubplot:>"
      ]
     },
     "execution_count": 35,
     "metadata": {},
     "output_type": "execute_result"
    },
    {
     "data": {
      "image/png": "[encoded data removed]",
      "text/plain": [
       "<Figure size 2880x2880 with 2 Axes>"
      ]
     },
     "metadata": {
      "needs_background": "light"
     },
     "output_type": "display_data"
    }
   ],
   "source": [
    "data2015.plot(figsize = (40,40), alpha=0.5, edgecolor = \"b\", column='y',cmap='cool',legend=True)"
   ]
  },
  {
   "cell_type": "markdown",
   "metadata": {},
   "source": [
    "# Add CBS kerncijfers to data on grid level\n",
    "Some overlaps with the buurtlevel nabijheidsgegevens, could be usefull to fill up gaps"
   ]
  },
  {
   "cell_type": "code",
   "execution_count": 36,
   "metadata": {},
   "outputs": [],
   "source": [
    "cbs15 = gpd.read_file(\"../Data/cbs/2015/CBS_VK100_2015_v2.shp\").set_index(\"C28992R100\")\n",
    "cbs16 = gpd.read_file(\"../Data/cbs/2016/CBS_VK100_2016_v2.shp\").set_index(\"C28992R100\")\n",
    "cbs17 = gpd.read_file(\"../Data/cbs/2017/cbs_vk100_2017_v3.shp\").set_index(\"c28992r100\")\n",
    "cbs18 = gpd.read_file(\"../Data/cbs/2018/CBS_VK100_2018_v3.shp\").set_index(\"c28992r100\")\n",
    "cbs19 = gpd.read_file(\"../Data/cbs/2019/CBS_vk100_2019_v2.shp\").set_index(\"c28992r100\")\n",
    "cbs15[\"WON_1524\"] = 0"
   ]
  },
  {
   "cell_type": "code",
   "execution_count": 37,
   "metadata": {},
   "outputs": [],
   "source": [
    "cbs_nab_variables = [\"INWONER\",\n",
    "\"GEBOORTE\", # aantal geboortes\n",
    "\"INW_014\", #inwoners 0-14\n",
    "\"INW_1524\", # 15-24\n",
    "\"INW_2544\", #etc\n",
    "\"INW_4564\",# etc\n",
    "\"INW_65PL\",# etc\n",
    "\"P_NL_ACHTG\", # % NL achtergrond\n",
    "\"P_WE_MIG_A\", # % western migration background\n",
    "\"P_NW_MIG_A\", # % non-western migration background\n",
    "\"WONVOOR45\", # n buildings before 45\n",
    "\"WON_4564\", # between 45 - 65\n",
    "\"WON_6574\", # etc\n",
    "\"WON_7584\", # etc\n",
    "\"WON_8594\", # etc\n",
    "\"WON_9504\", # etc\n",
    "\"WON_0514\", # etc\n",
    "\"WON_1524\", # etc\n",
    "# \"WOZWONING\", # median WOZ value  !! not in 2015/16/17/18\n",
    "\"P_KOOPWON\", # % rental\n",
    "\"P_HUURWON\", # % bought\n",
    "\"WON_HCORP\", # n social housing\n",
    "\"M_INKHH\", # median income (categorical)\n",
    "# \"P_LINK_HH\", # percentage low income  !! not in 2015\n",
    "# \"P_HINK_HH\", # percentage high income  !! not in 2015\n",
    "\"G_ELEK_WON\", # average electricity use\n",
    "\"G_GAS_WON\", # average gas yse\n",
    "\"UITKMINAOW\", # n inhabitants with uitkering\n",
    "\"AFS_HAPRAK\", # distance to huisarst praktrijk\n",
    "\"AFS_ZIEK_I\", # distance to hospital with ... kliniek\n",
    "\"AFS_SUPERM\", # distance to big supermarket\n",
    "\"AFS_ONDVRT\", # distance to vo\n",
    "\"AFS_OPRIT\", # dinstane to oprit big road\n",
    "\"AFS_TREINS\", # distance to train statuib\n",
    "\"AFS_TRNOVS\"] # distance to major transfer station"
   ]
  },
  {
   "cell_type": "code",
   "execution_count": 38,
   "metadata": {},
   "outputs": [],
   "source": [
    "cbs15 = cbs15[cbs_nab_variables]\n",
    "cbs16 = cbs16[cbs_nab_variables]\n",
    "cbs17 = cbs17[cbs_nab_variables]\n",
    "cbs18 = cbs18[cbs_nab_variables]\n",
    "cbs19[['M_INKHH', 'AFS_HAPRAK', 'AFS_ZIEK_I', 'AFS_SUPERM', 'AFS_ONDVRT', 'AFS_OPRIT', 'AFS_TREINS', 'AFS_TRNOVS']] = np.NaN\n",
    "cbs19 = cbs19[cbs_nab_variables]"
   ]
  },
  {
   "cell_type": "code",
   "execution_count": 39,
   "metadata": {
    "scrolled": true
   },
   "outputs": [],
   "source": [
    "cbs15[\"UITKMINAOW\"] = cbs15[\"UITKMINAOW\"].values / cbs15[\"INWONER\"].values\n",
    "cbs16[\"UITKMINAOW\"] = cbs16[\"UITKMINAOW\"].values / cbs16[\"INWONER\"].values\n",
    "cbs17[\"UITKMINAOW\"] = cbs17[\"UITKMINAOW\"].values / cbs17[\"INWONER\"].values\n",
    "cbs18[\"UITKMINAOW\"] = cbs18[\"UITKMINAOW\"].values / cbs18[\"INWONER\"].values\n",
    "cbs19[\"UITKMINAOW\"] = cbs19[\"UITKMINAOW\"].values / cbs19[\"INWONER\"].values"
   ]
  },
  {
   "cell_type": "code",
   "execution_count": 40,
   "metadata": {},
   "outputs": [],
   "source": [
    "tot15 = cbs15[\"WONVOOR45\"] + cbs15[\"WON_4564\"] + cbs15[\"WON_6574\"] + cbs15[\"WON_7584\"] + cbs15[\"WON_8594\"] + cbs15[\"WON_9504\"]+ cbs15[\"WON_0514\"] + cbs15[\"WON_1524\"]\n",
    "tot16 = cbs16[\"WONVOOR45\"] + cbs16[\"WON_4564\"] + cbs16[\"WON_6574\"] + cbs16[\"WON_7584\"] + cbs16[\"WON_8594\"] + cbs16[\"WON_9504\"]+ cbs16[\"WON_0514\"] + cbs16[\"WON_1524\"]\n",
    "tot17 = cbs17[\"WONVOOR45\"] + cbs17[\"WON_4564\"] + cbs17[\"WON_6574\"] + cbs17[\"WON_7584\"] + cbs17[\"WON_8594\"] + cbs17[\"WON_9504\"]+ cbs17[\"WON_0514\"] + cbs17[\"WON_1524\"]\n",
    "tot18 = cbs18[\"WONVOOR45\"] + cbs18[\"WON_4564\"] + cbs18[\"WON_6574\"] + cbs18[\"WON_7584\"] + cbs18[\"WON_8594\"] + cbs18[\"WON_9504\"]+ cbs18[\"WON_0514\"] + cbs18[\"WON_1524\"]\n",
    "tot19 = cbs19[\"WONVOOR45\"] + cbs19[\"WON_4564\"] + cbs19[\"WON_6574\"] + cbs19[\"WON_7584\"] + cbs19[\"WON_8594\"] + cbs19[\"WON_9504\"]+ cbs19[\"WON_0514\"] + cbs19[\"WON_1524\"]\n",
    "\n",
    "cbs15[\"p_buildBefore2000_g\"] = (cbs15[\"WONVOOR45\"] + cbs15[\"WON_4564\"] + cbs15[\"WON_6574\"] + cbs15[\"WON_7584\"] + cbs15[\"WON_8594\"] + (cbs15[\"WON_9504\"] / 2)) / tot15\n",
    "cbs16[\"p_buildBefore2000_g\"] = (cbs16[\"WONVOOR45\"] + cbs16[\"WON_4564\"] + cbs16[\"WON_6574\"] + cbs16[\"WON_7584\"] + cbs16[\"WON_8594\"] + (cbs16[\"WON_9504\"] / 2)) / tot16\n",
    "cbs17[\"p_buildBefore2000_g\"] = (cbs17[\"WONVOOR45\"] + cbs17[\"WON_4564\"] + cbs17[\"WON_6574\"] + cbs17[\"WON_7584\"] + cbs17[\"WON_8594\"] + (cbs17[\"WON_9504\"] / 2)) / tot17\n",
    "cbs18[\"p_buildBefore2000_g\"] = (cbs18[\"WONVOOR45\"] + cbs18[\"WON_4564\"] + cbs18[\"WON_6574\"] + cbs18[\"WON_7584\"] + cbs18[\"WON_8594\"] + (cbs18[\"WON_9504\"] / 2)) / tot18\n",
    "cbs19[\"p_buildBefore2000_g\"] = (cbs19[\"WONVOOR45\"] + cbs19[\"WON_4564\"] + cbs19[\"WON_6574\"] + cbs19[\"WON_7584\"] + cbs19[\"WON_8594\"] + (cbs19[\"WON_9504\"] / 2)) / tot19\n",
    "\n",
    "cbs15[\"p_buildAfter2000_g\"] = ((cbs15[\"WON_9504\"] / 2) + cbs15[\"WON_0514\"] + cbs15[\"WON_1524\"]) / tot15\n",
    "cbs16[\"p_buildAfter2000_g\"] = ((cbs16[\"WON_9504\"] / 2) + cbs16[\"WON_0514\"] + cbs16[\"WON_1524\"]) / tot16\n",
    "cbs17[\"p_buildAfter2000_g\"] = ((cbs17[\"WON_9504\"] / 2) + cbs17[\"WON_0514\"] + cbs17[\"WON_1524\"]) / tot17\n",
    "cbs18[\"p_buildAfter2000_g\"] = ((cbs18[\"WON_9504\"] / 2) + cbs18[\"WON_0514\"] + cbs18[\"WON_1524\"]) / tot18\n",
    "cbs19[\"p_buildAfter2000_g\"] = ((cbs19[\"WON_9504\"] / 2) + cbs19[\"WON_0514\"] + cbs19[\"WON_1524\"]) / tot19\n",
    "\n",
    "cbs15 = cbs15.drop([\"WONVOOR45\", \"INW_4564\", \"WON_6574\", \"WON_7584\", \"WON_8594\", \"WON_9504\", \"WON_0514\", \"WON_1524\"], axis = 1)\n",
    "cbs16 = cbs16.drop([\"WONVOOR45\", \"INW_4564\", \"WON_6574\", \"WON_7584\", \"WON_8594\", \"WON_9504\", \"WON_0514\", \"WON_1524\"], axis = 1)\n",
    "cbs17 = cbs17.drop([\"WONVOOR45\", \"INW_4564\", \"WON_6574\", \"WON_7584\", \"WON_8594\", \"WON_9504\", \"WON_0514\", \"WON_1524\"], axis = 1)\n",
    "cbs18 = cbs18.drop([\"WONVOOR45\", \"INW_4564\", \"WON_6574\", \"WON_7584\", \"WON_8594\", \"WON_9504\", \"WON_0514\", \"WON_1524\"], axis = 1)\n",
    "cbs19 = cbs19.drop([\"WONVOOR45\", \"INW_4564\", \"WON_6574\", \"WON_7584\", \"WON_8594\", \"WON_9504\", \"WON_0514\", \"WON_1524\"], axis = 1)"
   ]
  },
  {
   "cell_type": "code",
   "execution_count": 41,
   "metadata": {},
   "outputs": [],
   "source": [
    "column_names = [\"inwoner_g\", \"geboorte_g\", \"inw_014_g\", \"inw_1524_g\", \"inw_2544_g\", \"inw_4564_g\", \"inw_65_g\",\n",
    "               \"p_NL_g\", \"p_wester_g\", \"p_nonWestern_g\", \"p_buyhouses_g\", \"p_rentals_g\", \"p_socialHousing_g\",\n",
    "               \"medianIncome_g\", \"avg_electricity_g\", \"avg_gas_g\", \"p_benefits_g\", \"afs_haprak_g\", \"afs_ziek_g\",\n",
    "               \"afs_superm_g\", \"afs_vo_g\", \"afs_oprit_g\", \"afs_treins_g\", \"afs_transit_g\", \"p_buildBefore2000_g\",\n",
    "               \"p_buildAfter2000_g\"]"
   ]
  },
  {
   "cell_type": "code",
   "execution_count": 42,
   "metadata": {},
   "outputs": [],
   "source": [
    "cbs15.columns = column_names\n",
    "cbs16.columns = column_names\n",
    "cbs17.columns = column_names\n",
    "cbs18.columns = column_names\n",
    "cbs19.columns = column_names"
   ]
  },
  {
   "cell_type": "code",
   "execution_count": 43,
   "metadata": {},
   "outputs": [],
   "source": [
    "data2015 = data2015.join(cbs15, how = \"left\")\n",
    "data2016 = data2016.join(cbs16, how = \"left\")\n",
    "data2017 = data2017.join(cbs17, how = \"left\")\n",
    "data2018 = data2018.join(cbs18, how = \"left\")\n",
    "data2019 = data2019.join(cbs19, how = \"left\")"
   ]
  },
  {
   "cell_type": "code",
   "execution_count": 44,
   "metadata": {},
   "outputs": [],
   "source": [
    "# data2015.to_csv(\"grid2015.csv\")\n",
    "# data2016.to_csv(\"grid2016.csv\")\n",
    "# data2017.to_csv(\"grid2017.csv\")\n",
    "# data2018.to_csv(\"grid2018.csv\")\n",
    "# data2019.to_csv(\"grid2019.csv\")"
   ]
  },
  {
   "cell_type": "markdown",
   "metadata": {},
   "source": [
    "# add nabijheidsdata on buurt level to grid:\n"
   ]
  },
  {
   "cell_type": "code",
   "execution_count": 45,
   "metadata": {},
   "outputs": [],
   "source": [
    "# koppel = pd.read_csv(\"../Data/grids_koppeling_gwb.csv\", sep = \";\")\n",
    "# koppel = koppel.set_index(\"id_grid\")\n",
    "# koppel = koppel[\"id_buurt\"]"
   ]
  },
  {
   "cell_type": "code",
   "execution_count": 46,
   "metadata": {},
   "outputs": [],
   "source": [
    "# load all cbs nabijheidsstatistieken\n",
    "\n",
    "cbs15 = pd.DataFrame(cbsodata.get_data('83304NED')).set_index(\"Codering_3\")\n",
    "cbs16 = pd.DataFrame(cbsodata.get_data('83749NED')).set_index(\"Codering_3\")\n",
    "cbs17 = pd.DataFrame(cbsodata.get_data('84334NED')).set_index(\"Codering_3\")\n",
    "cbs18 = pd.DataFrame(cbsodata.get_data('84463NED')).set_index(\"Codering_3\")\n",
    "cbs19 = pd.DataFrame(cbsodata.get_data('84718NED')).set_index(\"Codering_3\")"
   ]
  },
  {
   "cell_type": "code",
   "execution_count": 47,
   "metadata": {},
   "outputs": [
    {
     "data": {
      "text/html": [
       "<div>\n",
       "<style scoped>\n",
       "    .dataframe tbody tr th:only-of-type {\n",
       "        vertical-align: middle;\n",
       "    }\n",
       "\n",
       "    .dataframe tbody tr th {\n",
       "        vertical-align: top;\n",
       "    }\n",
       "\n",
       "    .dataframe thead th {\n",
       "        text-align: right;\n",
       "    }\n",
       "</style>\n",
       "<table border=\"1\" class=\"dataframe\">\n",
       "  <thead>\n",
       "    <tr style=\"text-align: right;\">\n",
       "      <th></th>\n",
       "      <th>ID</th>\n",
       "      <th>Regio</th>\n",
       "      <th>Gemeentenaam_1</th>\n",
       "      <th>SoortRegio_2</th>\n",
       "      <th>AfstandTotHuisartsenpraktijk_4</th>\n",
       "      <th>Binnen1Km_5</th>\n",
       "      <th>Binnen3Km_6</th>\n",
       "      <th>Binnen5Km_7</th>\n",
       "      <th>AfstandTotHuisartsenpost_8</th>\n",
       "      <th>AfstandTotApotheek_9</th>\n",
       "      <th>...</th>\n",
       "      <th>Binnen5Km_104</th>\n",
       "      <th>Binnen10Km_105</th>\n",
       "      <th>Binnen20Km_106</th>\n",
       "      <th>AfstandTotSauna_107</th>\n",
       "      <th>AfstandTotZonnebank_108</th>\n",
       "      <th>AfstandTotAttractie_109</th>\n",
       "      <th>Binnen10Km_110</th>\n",
       "      <th>Binnen20Km_111</th>\n",
       "      <th>Binnen50Km_112</th>\n",
       "      <th>AfstandTotBrandweerkazerne_113</th>\n",
       "    </tr>\n",
       "    <tr>\n",
       "      <th>Codering_3</th>\n",
       "      <th></th>\n",
       "      <th></th>\n",
       "      <th></th>\n",
       "      <th></th>\n",
       "      <th></th>\n",
       "      <th></th>\n",
       "      <th></th>\n",
       "      <th></th>\n",
       "      <th></th>\n",
       "      <th></th>\n",
       "      <th></th>\n",
       "      <th></th>\n",
       "      <th></th>\n",
       "      <th></th>\n",
       "      <th></th>\n",
       "      <th></th>\n",
       "      <th></th>\n",
       "      <th></th>\n",
       "      <th></th>\n",
       "      <th></th>\n",
       "      <th></th>\n",
       "    </tr>\n",
       "  </thead>\n",
       "  <tbody>\n",
       "    <tr>\n",
       "      <th>NL00</th>\n",
       "      <td>0</td>\n",
       "      <td>Nederland</td>\n",
       "      <td>Nederland</td>\n",
       "      <td>Land</td>\n",
       "      <td>1.0</td>\n",
       "      <td>1.7</td>\n",
       "      <td>9.3</td>\n",
       "      <td>19.4</td>\n",
       "      <td>6.2</td>\n",
       "      <td>1.2</td>\n",
       "      <td>...</td>\n",
       "      <td>1.3</td>\n",
       "      <td>2.8</td>\n",
       "      <td>6.9</td>\n",
       "      <td>8.0</td>\n",
       "      <td>4.3</td>\n",
       "      <td>6.2</td>\n",
       "      <td>2.3</td>\n",
       "      <td>6.7</td>\n",
       "      <td>31.1</td>\n",
       "      <td>2.1</td>\n",
       "    </tr>\n",
       "    <tr>\n",
       "      <th>GM0003</th>\n",
       "      <td>1</td>\n",
       "      <td>Appingedam</td>\n",
       "      <td>Appingedam</td>\n",
       "      <td>Gemeente</td>\n",
       "      <td>1.3</td>\n",
       "      <td>0.2</td>\n",
       "      <td>1.0</td>\n",
       "      <td>2.3</td>\n",
       "      <td>3.9</td>\n",
       "      <td>1.3</td>\n",
       "      <td>...</td>\n",
       "      <td>0.2</td>\n",
       "      <td>1.0</td>\n",
       "      <td>1.0</td>\n",
       "      <td>21.6</td>\n",
       "      <td>21.9</td>\n",
       "      <td>17.3</td>\n",
       "      <td>0.0</td>\n",
       "      <td>1.0</td>\n",
       "      <td>11.2</td>\n",
       "      <td>1.3</td>\n",
       "    </tr>\n",
       "    <tr>\n",
       "      <th>WK000300</th>\n",
       "      <td>2</td>\n",
       "      <td>Wijk 00</td>\n",
       "      <td>Appingedam</td>\n",
       "      <td>Wijk</td>\n",
       "      <td>1.3</td>\n",
       "      <td>0.2</td>\n",
       "      <td>1.0</td>\n",
       "      <td>2.3</td>\n",
       "      <td>3.9</td>\n",
       "      <td>1.3</td>\n",
       "      <td>...</td>\n",
       "      <td>0.2</td>\n",
       "      <td>1.0</td>\n",
       "      <td>1.0</td>\n",
       "      <td>21.6</td>\n",
       "      <td>21.9</td>\n",
       "      <td>17.3</td>\n",
       "      <td>0.0</td>\n",
       "      <td>1.0</td>\n",
       "      <td>11.2</td>\n",
       "      <td>1.3</td>\n",
       "    </tr>\n",
       "    <tr>\n",
       "      <th>BU00030000</th>\n",
       "      <td>3</td>\n",
       "      <td>Appingedam-Centrum</td>\n",
       "      <td>Appingedam</td>\n",
       "      <td>Buurt</td>\n",
       "      <td>1.0</td>\n",
       "      <td>0.4</td>\n",
       "      <td>1.0</td>\n",
       "      <td>2.8</td>\n",
       "      <td>3.7</td>\n",
       "      <td>1.0</td>\n",
       "      <td>...</td>\n",
       "      <td>0.2</td>\n",
       "      <td>1.0</td>\n",
       "      <td>1.0</td>\n",
       "      <td>21.6</td>\n",
       "      <td>21.9</td>\n",
       "      <td>17.4</td>\n",
       "      <td>0.0</td>\n",
       "      <td>1.0</td>\n",
       "      <td>11.0</td>\n",
       "      <td>0.9</td>\n",
       "    </tr>\n",
       "    <tr>\n",
       "      <th>BU00030001</th>\n",
       "      <td>4</td>\n",
       "      <td>Appingedam-West</td>\n",
       "      <td>Appingedam</td>\n",
       "      <td>Buurt</td>\n",
       "      <td>1.6</td>\n",
       "      <td>0.0</td>\n",
       "      <td>1.0</td>\n",
       "      <td>1.7</td>\n",
       "      <td>4.7</td>\n",
       "      <td>1.6</td>\n",
       "      <td>...</td>\n",
       "      <td>0.0</td>\n",
       "      <td>1.0</td>\n",
       "      <td>1.0</td>\n",
       "      <td>22.4</td>\n",
       "      <td>22.2</td>\n",
       "      <td>17.8</td>\n",
       "      <td>0.0</td>\n",
       "      <td>1.0</td>\n",
       "      <td>11.7</td>\n",
       "      <td>0.7</td>\n",
       "    </tr>\n",
       "  </tbody>\n",
       "</table>\n",
       "<p>5 rows × 114 columns</p>\n",
       "</div>"
      ],
      "text/plain": [
       "            ID               Regio                            Gemeentenaam_1  \\\n",
       "Codering_3                                                                     \n",
       "NL00         0           Nederland  Nederland                                  \n",
       "GM0003       1          Appingedam  Appingedam                                 \n",
       "WK000300     2             Wijk 00  Appingedam                                 \n",
       "BU00030000   3  Appingedam-Centrum  Appingedam                                 \n",
       "BU00030001   4     Appingedam-West  Appingedam                                 \n",
       "\n",
       "           SoortRegio_2  AfstandTotHuisartsenpraktijk_4  Binnen1Km_5  \\\n",
       "Codering_3                                                             \n",
       "NL00         Land                                   1.0          1.7   \n",
       "GM0003       Gemeente                               1.3          0.2   \n",
       "WK000300     Wijk                                   1.3          0.2   \n",
       "BU00030000   Buurt                                  1.0          0.4   \n",
       "BU00030001   Buurt                                  1.6          0.0   \n",
       "\n",
       "            Binnen3Km_6  Binnen5Km_7  AfstandTotHuisartsenpost_8  \\\n",
       "Codering_3                                                         \n",
       "NL00                9.3         19.4                         6.2   \n",
       "GM0003              1.0          2.3                         3.9   \n",
       "WK000300            1.0          2.3                         3.9   \n",
       "BU00030000          1.0          2.8                         3.7   \n",
       "BU00030001          1.0          1.7                         4.7   \n",
       "\n",
       "            AfstandTotApotheek_9  ...  Binnen5Km_104  Binnen10Km_105  \\\n",
       "Codering_3                        ...                                  \n",
       "NL00                         1.2  ...            1.3             2.8   \n",
       "GM0003                       1.3  ...            0.2             1.0   \n",
       "WK000300                     1.3  ...            0.2             1.0   \n",
       "BU00030000                   1.0  ...            0.2             1.0   \n",
       "BU00030001                   1.6  ...            0.0             1.0   \n",
       "\n",
       "            Binnen20Km_106  AfstandTotSauna_107  AfstandTotZonnebank_108  \\\n",
       "Codering_3                                                                 \n",
       "NL00                   6.9                  8.0                      4.3   \n",
       "GM0003                 1.0                 21.6                     21.9   \n",
       "WK000300               1.0                 21.6                     21.9   \n",
       "BU00030000             1.0                 21.6                     21.9   \n",
       "BU00030001             1.0                 22.4                     22.2   \n",
       "\n",
       "            AfstandTotAttractie_109  Binnen10Km_110  Binnen20Km_111  \\\n",
       "Codering_3                                                            \n",
       "NL00                            6.2             2.3             6.7   \n",
       "GM0003                         17.3             0.0             1.0   \n",
       "WK000300                       17.3             0.0             1.0   \n",
       "BU00030000                     17.4             0.0             1.0   \n",
       "BU00030001                     17.8             0.0             1.0   \n",
       "\n",
       "           Binnen50Km_112 AfstandTotBrandweerkazerne_113  \n",
       "Codering_3                                                \n",
       "NL00                 31.1                            2.1  \n",
       "GM0003               11.2                            1.3  \n",
       "WK000300             11.2                            1.3  \n",
       "BU00030000           11.0                            0.9  \n",
       "BU00030001           11.7                            0.7  \n",
       "\n",
       "[5 rows x 114 columns]"
      ]
     },
     "execution_count": 47,
     "metadata": {},
     "output_type": "execute_result"
    }
   ],
   "source": [
    "cbs15.head()"
   ]
  },
  {
   "cell_type": "code",
   "execution_count": 48,
   "metadata": {
    "scrolled": false
   },
   "outputs": [],
   "source": [
    "# Only keep neighborhood related data (smallest area)\n",
    "cbs15 = cbs15[cbs15.SoortRegio_2 == 'Buurt     ']\n",
    "cbs16 = cbs16[cbs16.SoortRegio_2 == 'Buurt     ']\n",
    "cbs17 = cbs17[cbs17.SoortRegio_2 == 'Buurt     ']\n",
    "cbs18 = cbs18[cbs18.SoortRegio_2 == 'Buurt     ']\n",
    "cbs19 = cbs19[cbs19.SoortRegio_2 == 'Buurt     ']\n"
   ]
  },
  {
   "cell_type": "code",
   "execution_count": 49,
   "metadata": {},
   "outputs": [],
   "source": [
    "cbs15 = cbs15[[\"AfstandTotHuisartsenpraktijk_4\",\n",
    "\"AfstandTotZiekenhuis_10\",\n",
    "\"AfstandTotGroteSupermarkt_23\",\n",
    "\"AfstandTotSchool_63\",\n",
    "# \"AfstandTotOpenbaarGroenTotaal_75\",  # Commented out: check why 16 - 19 only have nans\n",
    "# \"AfstandTotBos_78\",\n",
    "# \"AfstandTotSportterrein_83\",\n",
    "\"AfstandTotOpritHoofdverkeersweg_88\",\n",
    "\"AfstandTotTreinstationsTotaal_89\",\n",
    "\"AfstandTotBelangrijkOverstapstation_90\"]]\n",
    "\n",
    "cbs16 = cbs16[[\"AfstandTotHuisartsenpraktijk_5\",\n",
    "\"AfstandTotZiekenhuis_11\",\n",
    "\"AfstandTotGroteSupermarkt_24\",\n",
    "\"AfstandTotSchool_64\",\n",
    "# \"AfstandTotOpenbaarGroenTotaal_76\",\n",
    "# \"AfstandTotBos_79\",\n",
    "# \"AfstandTotSportterrein_84\",\n",
    "\"AfstandTotOpritHoofdverkeersweg_89\",\n",
    "\"AfstandTotTreinstationsTotaal_90\",\n",
    "\"AfstandTotBelangrijkOverstapstation_91\"]]\n",
    "\n",
    "cbs17 = cbs17[[\"AfstandTotHuisartsenpraktijk_5\",\n",
    "\"AfstandTotZiekenhuis_11\",\n",
    "\"AfstandTotGroteSupermarkt_24\",\n",
    "\"AfstandTotSchool_64\",\n",
    "# \"AfstandTotOpenbaarGroenTotaal_91\",\n",
    "# \"AfstandTotBos_94\",\n",
    "# \"AfstandTotSportterrein_99\",\n",
    "\"AfstandTotOpritHoofdverkeersweg_104\",\n",
    "\"AfstandTotTreinstationsTotaal_105\",\n",
    "\"AfstandTotBelangrijkOverstapstation_106\"]]\n",
    "\n",
    "cbs18 = cbs18[[\"AfstandTotHuisartsenpraktijk_5\",\n",
    "\"AfstandTotZiekenhuis_11\",\n",
    "\"AfstandTotGroteSupermarkt_24\",\n",
    "\"AfstandTotSchool_64\",\n",
    "# \"AfstandTotOpenbaarGroenTotaal_76\",\n",
    "# \"AfstandTotBos_79\",\n",
    "# \"AfstandTotSportterrein_84\",\n",
    "\"AfstandTotOpritHoofdverkeersweg_89\",\n",
    "\"AfstandTotTreinstationsTotaal_90\",\n",
    "\"AfstandTotBelangrijkOverstapstation_91\"]]\n",
    "\n",
    "cbs19 = cbs19[[\"AfstandTotHuisartsenpraktijk_5\",\n",
    "\"AfstandTotZiekenhuis_11\",\n",
    "\"AfstandTotGroteSupermarkt_24\",\n",
    "\"AfstandTotSchool_64\",\n",
    "# \"AfstandTotOpenbaarGroenTotaal_76\",\n",
    "# \"AfstandTotBos_79\",\n",
    "# \"AfstandTotSportterrein_84\",\n",
    "\"AfstandTotOpritHoofdverkeersweg_89\",\n",
    "\"AfstandTotTreinstationsTotaal_90\",\n",
    "\"AfstandTotBelangrijkOverstapstation_91\"]]"
   ]
  },
  {
   "cell_type": "code",
   "execution_count": 50,
   "metadata": {},
   "outputs": [],
   "source": [
    "# column_names = [\"afs_huisarts_b\",\"afs_ziekenhuis_b\", \"afs_supermarkt_b\", \"afs_school_b\", \n",
    "#                  \"afs_public_green_b\", \"afs_bos_b\", \"afs_sportterrein_b\", \"afs_oprit_b\", \n",
    "#                 \"afs_train_b\", \"afs_transit_b\"]\n",
    "\n",
    "column_names = [\"afs_huisarts_b\",\"afs_ziekenhuis_b\", \"afs_supermarkt_b\", \"afs_school_b\", \n",
    "                 \"afs_oprit_b\", \n",
    "                \"afs_train_b\", \"afs_transit_b\"]"
   ]
  },
  {
   "cell_type": "code",
   "execution_count": 51,
   "metadata": {},
   "outputs": [],
   "source": [
    "cbs15.columns = column_names\n",
    "cbs16.columns = column_names\n",
    "cbs17.columns = column_names\n",
    "cbs18.columns = column_names\n",
    "cbs19.columns = column_names"
   ]
  },
  {
   "cell_type": "markdown",
   "metadata": {},
   "source": [
    "--> One grid 1 buurt per grid id"
   ]
  },
  {
   "cell_type": "code",
   "execution_count": 52,
   "metadata": {},
   "outputs": [],
   "source": [
    "# data2015 = data2015.join(koppel, on = \"rep_id\", how = \"left\")\n",
    "# data2016 = data2016.join(koppel, on = \"rep_id\", how = \"left\")\n",
    "# data2017 = data2017.join(koppel, on = \"rep_id\", how = \"left\")\n",
    "# data2018 = data2018.join(koppel, on = \"rep_id\", how = \"left\")\n",
    "# data2019 = data2019.join(koppel, on = \"rep_id\", how = \"left\")"
   ]
  },
  {
   "cell_type": "code",
   "execution_count": 53,
   "metadata": {},
   "outputs": [
    {
     "name": "stdout",
     "output_type": "stream",
     "text": [
      "1.00\r"
     ]
    }
   ],
   "source": [
    "data2015 = CBS_weighted_join(data2015, cbs15)\n",
    "data2016 = CBS_weighted_join(data2016, cbs16)\n",
    "data2017 = CBS_weighted_join(data2017, cbs17)\n",
    "data2018 = CBS_weighted_join(data2018, cbs18)\n",
    "data2019 = CBS_weighted_join(data2019, cbs19)"
   ]
  },
  {
   "cell_type": "code",
   "execution_count": 54,
   "metadata": {},
   "outputs": [],
   "source": [
    "# data2015.to_csv(\"grid2015.csv\")\n",
    "# data2016.to_csv(\"grid2016.csv\")\n",
    "# data2017.to_csv(\"grid2017.csv\")\n",
    "# data2018.to_csv(\"grid2018.csv\")\n",
    "# data2019.to_csv(\"grid2019.csv\")"
   ]
  },
  {
   "cell_type": "markdown",
   "metadata": {},
   "source": [
    "# add kerncijfers wijken en buurten"
   ]
  },
  {
   "cell_type": "code",
   "execution_count": 55,
   "metadata": {},
   "outputs": [],
   "source": [
    "# data2015 = pd.read_csv(\"grid2015.csv\")\n",
    "# data2016 = pd.read_csv(\"grid2016.csv\")\n",
    "# data2017 = pd.read_csv(\"grid2017.csv\")\n",
    "# data2018 = pd.read_csv(\"grid2018.csv\")\n",
    "# data2019 = pd.read_csv(\"grid2019.csv\")"
   ]
  },
  {
   "cell_type": "code",
   "execution_count": 56,
   "metadata": {},
   "outputs": [],
   "source": [
    "# Get CBS kerncijfers wijken en buurten and set index at Regio ID for joining on grid data\n",
    "cbs15 = pd.DataFrame(cbsodata.get_data('83220NED')).set_index(\"Codering_3\")\n",
    "cbs16 = pd.DataFrame(cbsodata.get_data('83487NED')).set_index(\"Codering_3\")\n",
    "cbs17 = pd.DataFrame(cbsodata.get_data('83765NED')).set_index(\"Codering_3\")\n",
    "cbs18 = pd.DataFrame(cbsodata.get_data('84286NED')).set_index(\"Codering_3\")\n",
    "cbs19 = pd.DataFrame(cbsodata.get_data('84583NED')).set_index(\"Codering_3\")"
   ]
  },
  {
   "cell_type": "code",
   "execution_count": 57,
   "metadata": {},
   "outputs": [],
   "source": [
    "# Only keep data on buurt level (lowest level)\n",
    "cbs15 = cbs15[cbs15.SoortRegio_2 == \"Buurt     \"]\n",
    "cbs16 = cbs16[cbs16.SoortRegio_2 == \"Buurt     \"]\n",
    "cbs17 = cbs17[cbs17.SoortRegio_2 == \"Buurt     \"]\n",
    "cbs18 = cbs18[cbs18.SoortRegio_2 == \"Buurt     \"]\n",
    "cbs19 = cbs19[cbs19.SoortRegio_2 == \"Buurt     \"]"
   ]
  },
  {
   "cell_type": "code",
   "execution_count": 58,
   "metadata": {},
   "outputs": [],
   "source": [
    "variables1517 = [\"AantalInwoners_5\",\n",
    "                 \"k_0Tot15Jaar_8\",\n",
    "                 \"k_15Tot25Jaar_9\",\n",
    "                 \"k_25Tot45Jaar_10\",\n",
    "                 \"k_45Tot65Jaar_11\",\n",
    "                 \"k_65JaarOfOuder_12\",\n",
    "                \"WestersTotaal_17\",\n",
    "                \"NietWestersTotaal_18\",\n",
    "                \"GeboorteTotaal_24\",\n",
    "                \"GemiddeldeWoningwaarde_35\",\n",
    "                \"Koopwoningen_40\",\n",
    "                \"HuurwoningenTotaal_41\",\n",
    "                \"InBezitWoningcorporatie_42\",\n",
    "                \"BouwjaarVoor2000_45\",\n",
    "                \"BouwjaarVanaf2000_46\",\n",
    "                \"GemiddeldElektriciteitsverbruikTotaal_47\",\n",
    "                \"GemiddeldAardgasverbruikTotaal_55\",\n",
    "                \"GemiddeldInkomenPerInkomensontvanger_65\",\n",
    "                \"k_40PersonenMetLaagsteInkomen_67\",\n",
    "                \"k_20PersonenMetHoogsteInkomen_68\",\n",
    "                \"PersonenPerSoortUitkeringBijstand_74\",\n",
    "                \"PersonenPerSoortUitkeringAO_75\",\n",
    "                \"PersonenPerSoortUitkeringWW_76\"]"
   ]
  },
  {
   "cell_type": "code",
   "execution_count": 59,
   "metadata": {},
   "outputs": [],
   "source": [
    "variables18 = [\"AantalInwoners_5\",\n",
    "               \"k_0Tot15Jaar_8\",\n",
    "                 \"k_15Tot25Jaar_9\",\n",
    "                 \"k_25Tot45Jaar_10\",\n",
    "                 \"k_45Tot65Jaar_11\",\n",
    "                 \"k_65JaarOfOuder_12\",\n",
    "\"WestersTotaal_17\",\n",
    "\"NietWestersTotaal_18\",\n",
    "\"GeboorteTotaal_24\",\n",
    "\"GemiddeldeWoningwaarde_35\",\n",
    "\"Koopwoningen_40\",\n",
    "\"HuurwoningenTotaal_41\",\n",
    "\"InBezitWoningcorporatie_42\",\n",
    "\"BouwjaarVoor2000_45\",\n",
    "\"BouwjaarVanaf2000_46\",\n",
    "\"GemiddeldElektriciteitsverbruikTotaal_47\",\n",
    "\"GemiddeldAardgasverbruikTotaal_55\",\n",
    "\"GemiddeldInkomenPerInkomensontvanger_68\",\n",
    "\"k_40PersonenMetLaagsteInkomen_70\",\n",
    "\"k_20PersonenMetHoogsteInkomen_71\",\n",
    "\"PersonenPerSoortUitkeringBijstand_80\",\n",
    "\"PersonenPerSoortUitkeringAO_81\",\n",
    "\"PersonenPerSoortUitkeringWW_82\"]"
   ]
  },
  {
   "cell_type": "code",
   "execution_count": 60,
   "metadata": {},
   "outputs": [],
   "source": [
    "variables19 = [\"AantalInwoners_5\",\n",
    "               \"k_0Tot15Jaar_8\",\n",
    "                 \"k_15Tot25Jaar_9\",\n",
    "                 \"k_25Tot45Jaar_10\",\n",
    "                 \"k_45Tot65Jaar_11\",\n",
    "                 \"k_65JaarOfOuder_12\",\n",
    "\"WestersTotaal_17\",\n",
    "\"NietWestersTotaal_18\",\n",
    "\"GeboorteTotaal_24\",\n",
    "\"GemiddeldeWoningwaarde_35\",\n",
    "\"Koopwoningen_40\",\n",
    "\"HuurwoningenTotaal_41\",\n",
    "\"InBezitWoningcorporatie_42\",\n",
    "\"BouwjaarVoor2000_45\",\n",
    "\"BouwjaarVanaf2000_46\",\n",
    "\"GemiddeldElektriciteitsverbruikTotaal_47\",\n",
    "\"GemiddeldAardgasverbruikTotaal_55\",\n",
    "\"GemiddeldInkomenPerInkomensontvanger_71\",\n",
    "\"k_40PersonenMetLaagsteInkomen_73\",\n",
    "\"k_20PersonenMetHoogsteInkomen_74\",\n",
    "\"PersonenPerSoortUitkeringBijstand_83\",\n",
    "\"PersonenPerSoortUitkeringAO_84\",\n",
    "\"PersonenPerSoortUitkeringWW_85\"]"
   ]
  },
  {
   "cell_type": "code",
   "execution_count": 61,
   "metadata": {},
   "outputs": [],
   "source": [
    "cbs15 = cbs15[variables1517]\n",
    "cbs16 = cbs16[variables1517]\n",
    "cbs17 = cbs17[variables1517]\n",
    "cbs18 = cbs18[variables18]\n",
    "cbs19 = cbs19[variables19]"
   ]
  },
  {
   "cell_type": "code",
   "execution_count": 62,
   "metadata": {},
   "outputs": [],
   "source": [
    "cbs15[[\"k_0Tot15Jaar_8\", \"k_15Tot25Jaar_9\", \"k_25Tot45Jaar_10\", \"k_45Tot65Jaar_11\", \"k_65JaarOfOuder_12\"]] = cbs15[[\"k_0Tot15Jaar_8\", \"k_15Tot25Jaar_9\", \"k_25Tot45Jaar_10\", \"k_45Tot65Jaar_11\", \"k_65JaarOfOuder_12\"]].div(cbs15[\"AantalInwoners_5\"], axis = 0)                 \n",
    "cbs16[[\"k_0Tot15Jaar_8\", \"k_15Tot25Jaar_9\", \"k_25Tot45Jaar_10\", \"k_45Tot65Jaar_11\", \"k_65JaarOfOuder_12\"]] = cbs16[[\"k_0Tot15Jaar_8\", \"k_15Tot25Jaar_9\", \"k_25Tot45Jaar_10\", \"k_45Tot65Jaar_11\", \"k_65JaarOfOuder_12\"]].div(cbs15[\"AantalInwoners_5\"], axis = 0)\n",
    "cbs17[[\"k_0Tot15Jaar_8\", \"k_15Tot25Jaar_9\", \"k_25Tot45Jaar_10\", \"k_45Tot65Jaar_11\", \"k_65JaarOfOuder_12\"]] = cbs17[[\"k_0Tot15Jaar_8\", \"k_15Tot25Jaar_9\", \"k_25Tot45Jaar_10\", \"k_45Tot65Jaar_11\", \"k_65JaarOfOuder_12\"]].div(cbs15[\"AantalInwoners_5\"], axis = 0)\n",
    "cbs18[[\"k_0Tot15Jaar_8\", \"k_15Tot25Jaar_9\", \"k_25Tot45Jaar_10\", \"k_45Tot65Jaar_11\", \"k_65JaarOfOuder_12\"]] = cbs18[[\"k_0Tot15Jaar_8\", \"k_15Tot25Jaar_9\", \"k_25Tot45Jaar_10\", \"k_45Tot65Jaar_11\", \"k_65JaarOfOuder_12\"]].div(cbs15[\"AantalInwoners_5\"], axis = 0)\n",
    "cbs19[[\"k_0Tot15Jaar_8\", \"k_15Tot25Jaar_9\", \"k_25Tot45Jaar_10\", \"k_45Tot65Jaar_11\", \"k_65JaarOfOuder_12\"]] = cbs19[[\"k_0Tot15Jaar_8\", \"k_15Tot25Jaar_9\", \"k_25Tot45Jaar_10\", \"k_45Tot65Jaar_11\", \"k_65JaarOfOuder_12\"]].div(cbs15[\"AantalInwoners_5\"], axis = 0)"
   ]
  },
  {
   "cell_type": "code",
   "execution_count": 63,
   "metadata": {},
   "outputs": [],
   "source": [
    "column_names = [\"Inwoners_b\", \"inw14_b\", \"inw24_b\", \"inw44_b\", \"inw64_b\", \"inw65_b\", \"western_b\", \"nonWestern_b\", \"birth_b\", \"mean_WOZ_b\",\n",
    "               \"p_buyHouses_b\", \"p_rental_houses_b\", \"p_socialHousing_b\", \"p_buildBefore2000_b\",\n",
    "               \"p_buildAfter2000_b\", \"avg_electicity_b\", \"avg_gas_b\",\n",
    "               \"medianInkomen_b\", \"PLaagste40Inkomen_b\", \"PHoogste20Inkomen_b\", \"NBijstand\", \"NAO\", \"NWW\"]"
   ]
  },
  {
   "cell_type": "code",
   "execution_count": 64,
   "metadata": {},
   "outputs": [],
   "source": [
    "cbs15.columns = column_names\n",
    "cbs16.columns = column_names\n",
    "cbs17.columns = column_names\n",
    "cbs18.columns = column_names\n",
    "cbs19.columns = column_names"
   ]
  },
  {
   "cell_type": "code",
   "execution_count": 65,
   "metadata": {},
   "outputs": [
    {
     "name": "stderr",
     "output_type": "stream",
     "text": [
      "C:\\Users\\Gebruiker\\anaconda3\\lib\\site-packages\\ipykernel_launcher.py:3: RuntimeWarning: invalid value encountered in true_divide\n",
      "  This is separate from the ipykernel package so we can avoid doing imports until\n",
      "C:\\Users\\Gebruiker\\anaconda3\\lib\\site-packages\\ipykernel_launcher.py:4: RuntimeWarning: divide by zero encountered in true_divide\n",
      "  after removing the cwd from sys.path.\n",
      "C:\\Users\\Gebruiker\\anaconda3\\lib\\site-packages\\ipykernel_launcher.py:6: RuntimeWarning: invalid value encountered in true_divide\n",
      "  \n"
     ]
    }
   ],
   "source": [
    "# make it so it correspons to the grid level data\n",
    "cbs15[\"pBenefits_b\"] = (cbs15[\"NAO\"].values + cbs15[\"NWW\"].values + cbs15[\"NBijstand\"].values) / cbs15[\"Inwoners_b\"].values\n",
    "cbs16[\"pBenefits_b\"] = (cbs16[\"NAO\"].values + cbs16[\"NWW\"].values + cbs16[\"NBijstand\"].values) / cbs16[\"Inwoners_b\"].values\n",
    "cbs17[\"pBenefits_b\"] = (cbs17[\"NAO\"].values + cbs17[\"NWW\"].values + cbs17[\"NBijstand\"].values) / cbs17[\"Inwoners_b\"].values\n",
    "cbs18[\"pBenefits_b\"] = (cbs18[\"NAO\"].values + cbs18[\"NWW\"].values + cbs18[\"NBijstand\"].values) / cbs18[\"Inwoners_b\"].values\n",
    "cbs19[\"pBenefits_b\"] = (cbs19[\"NAO\"].values + cbs19[\"NWW\"].values + cbs19[\"NBijstand\"].values) / cbs19[\"Inwoners_b\"].values\n",
    "\n",
    "cbs15 = cbs15.drop([\"NAO\", \"NWW\", \"NBijstand\"], axis = 1)\n",
    "cbs16 = cbs16.drop([\"NAO\", \"NWW\", \"NBijstand\"], axis = 1)\n",
    "cbs17 = cbs17.drop([\"NAO\", \"NWW\", \"NBijstand\"], axis = 1)\n",
    "cbs18 = cbs18.drop([\"NAO\", \"NWW\", \"NBijstand\"], axis = 1)\n",
    "cbs19 = cbs19.drop([\"NAO\", \"NWW\", \"NBijstand\"], axis = 1)\n"
   ]
  },
  {
   "cell_type": "code",
   "execution_count": 66,
   "metadata": {},
   "outputs": [
    {
     "name": "stderr",
     "output_type": "stream",
     "text": [
      "C:\\Users\\Gebruiker\\anaconda3\\lib\\site-packages\\ipykernel_launcher.py:2: RuntimeWarning: divide by zero encountered in true_divide\n",
      "  \n",
      "C:\\Users\\Gebruiker\\anaconda3\\lib\\site-packages\\ipykernel_launcher.py:2: RuntimeWarning: invalid value encountered in true_divide\n",
      "  \n",
      "C:\\Users\\Gebruiker\\anaconda3\\lib\\site-packages\\ipykernel_launcher.py:3: RuntimeWarning: divide by zero encountered in true_divide\n",
      "  This is separate from the ipykernel package so we can avoid doing imports until\n",
      "C:\\Users\\Gebruiker\\anaconda3\\lib\\site-packages\\ipykernel_launcher.py:3: RuntimeWarning: invalid value encountered in true_divide\n",
      "  This is separate from the ipykernel package so we can avoid doing imports until\n",
      "C:\\Users\\Gebruiker\\anaconda3\\lib\\site-packages\\ipykernel_launcher.py:4: RuntimeWarning: divide by zero encountered in true_divide\n",
      "  after removing the cwd from sys.path.\n",
      "C:\\Users\\Gebruiker\\anaconda3\\lib\\site-packages\\ipykernel_launcher.py:4: RuntimeWarning: invalid value encountered in true_divide\n",
      "  after removing the cwd from sys.path.\n",
      "C:\\Users\\Gebruiker\\anaconda3\\lib\\site-packages\\ipykernel_launcher.py:5: RuntimeWarning: divide by zero encountered in true_divide\n",
      "  \"\"\"\n",
      "C:\\Users\\Gebruiker\\anaconda3\\lib\\site-packages\\ipykernel_launcher.py:5: RuntimeWarning: invalid value encountered in true_divide\n",
      "  \"\"\"\n",
      "C:\\Users\\Gebruiker\\anaconda3\\lib\\site-packages\\ipykernel_launcher.py:6: RuntimeWarning: divide by zero encountered in true_divide\n",
      "  \n",
      "C:\\Users\\Gebruiker\\anaconda3\\lib\\site-packages\\ipykernel_launcher.py:6: RuntimeWarning: invalid value encountered in true_divide\n",
      "  \n"
     ]
    }
   ],
   "source": [
    "# Set tot percentage\n",
    "cbs15[\"western_b\"] = cbs15[\"western_b\"].values / cbs15[\"Inwoners_b\"].values\n",
    "cbs16[\"western_b\"] = cbs16[\"western_b\"].values / cbs16[\"Inwoners_b\"].values\n",
    "cbs17[\"western_b\"] = cbs17[\"western_b\"].values / cbs17[\"Inwoners_b\"].values\n",
    "cbs18[\"western_b\"] = cbs18[\"western_b\"].values / cbs18[\"Inwoners_b\"].values\n",
    "cbs19[\"western_b\"] = cbs19[\"western_b\"].values / cbs19[\"Inwoners_b\"].values"
   ]
  },
  {
   "cell_type": "code",
   "execution_count": 67,
   "metadata": {},
   "outputs": [
    {
     "name": "stderr",
     "output_type": "stream",
     "text": [
      "C:\\Users\\Gebruiker\\anaconda3\\lib\\site-packages\\ipykernel_launcher.py:2: RuntimeWarning: divide by zero encountered in true_divide\n",
      "  \n",
      "C:\\Users\\Gebruiker\\anaconda3\\lib\\site-packages\\ipykernel_launcher.py:2: RuntimeWarning: invalid value encountered in true_divide\n",
      "  \n",
      "C:\\Users\\Gebruiker\\anaconda3\\lib\\site-packages\\ipykernel_launcher.py:3: RuntimeWarning: divide by zero encountered in true_divide\n",
      "  This is separate from the ipykernel package so we can avoid doing imports until\n",
      "C:\\Users\\Gebruiker\\anaconda3\\lib\\site-packages\\ipykernel_launcher.py:3: RuntimeWarning: invalid value encountered in true_divide\n",
      "  This is separate from the ipykernel package so we can avoid doing imports until\n",
      "C:\\Users\\Gebruiker\\anaconda3\\lib\\site-packages\\ipykernel_launcher.py:4: RuntimeWarning: divide by zero encountered in true_divide\n",
      "  after removing the cwd from sys.path.\n",
      "C:\\Users\\Gebruiker\\anaconda3\\lib\\site-packages\\ipykernel_launcher.py:4: RuntimeWarning: invalid value encountered in true_divide\n",
      "  after removing the cwd from sys.path.\n",
      "C:\\Users\\Gebruiker\\anaconda3\\lib\\site-packages\\ipykernel_launcher.py:5: RuntimeWarning: divide by zero encountered in true_divide\n",
      "  \"\"\"\n",
      "C:\\Users\\Gebruiker\\anaconda3\\lib\\site-packages\\ipykernel_launcher.py:5: RuntimeWarning: invalid value encountered in true_divide\n",
      "  \"\"\"\n",
      "C:\\Users\\Gebruiker\\anaconda3\\lib\\site-packages\\ipykernel_launcher.py:6: RuntimeWarning: divide by zero encountered in true_divide\n",
      "  \n",
      "C:\\Users\\Gebruiker\\anaconda3\\lib\\site-packages\\ipykernel_launcher.py:6: RuntimeWarning: invalid value encountered in true_divide\n",
      "  \n"
     ]
    }
   ],
   "source": [
    "# Set to percentage\n",
    "cbs15[\"nonWestern_b\"] = cbs15[\"nonWestern_b\"].values / cbs15[\"Inwoners_b\"].values\n",
    "cbs16[\"nonWestern_b\"] = cbs16[\"nonWestern_b\"].values / cbs16[\"Inwoners_b\"].values\n",
    "cbs17[\"nonWestern_b\"] = cbs17[\"nonWestern_b\"].values / cbs17[\"Inwoners_b\"].values\n",
    "cbs18[\"nonWestern_b\"] = cbs18[\"nonWestern_b\"].values / cbs18[\"Inwoners_b\"].values\n",
    "cbs19[\"nonWestern_b\"] = cbs19[\"nonWestern_b\"].values / cbs19[\"Inwoners_b\"].values"
   ]
  },
  {
   "cell_type": "code",
   "execution_count": 68,
   "metadata": {},
   "outputs": [
    {
     "name": "stdout",
     "output_type": "stream",
     "text": [
      "1.00\r"
     ]
    }
   ],
   "source": [
    "\n",
    "\n",
    "data2015 = CBS_weighted_join(data2015, cbs15)\n",
    "data2016 = CBS_weighted_join(data2016, cbs16)\n",
    "data2017 = CBS_weighted_join(data2017, cbs17)\n",
    "data2018 = CBS_weighted_join(data2018, cbs18)\n",
    "data2019 = CBS_weighted_join(data2019, cbs19)"
   ]
  },
  {
   "cell_type": "code",
   "execution_count": 69,
   "metadata": {},
   "outputs": [
    {
     "data": {
      "text/plain": [
       "Unnamed: 0                13524\n",
       "geometry                  13524\n",
       "bijeenkomstfunctie         4659\n",
       "gezondheidszorgfunctie     4659\n",
       "industriefunctie           4659\n",
       "                          ...  \n",
       "avg_gas_b                  4024\n",
       "medianInkomen_b            3753\n",
       "PLaagste40Inkomen_b        3753\n",
       "PHoogste20Inkomen_b        3753\n",
       "pBenefits_b                4099\n",
       "Length: 68, dtype: int64"
      ]
     },
     "execution_count": 69,
     "metadata": {},
     "output_type": "execute_result"
    }
   ],
   "source": [
    "data2015.notna().sum()"
   ]
  },
  {
   "cell_type": "code",
   "execution_count": 76,
   "metadata": {},
   "outputs": [],
   "source": [
    "data2015.to_csv(\"GRgrid2015.csv\")\n",
    "data2016.to_csv(\"GRgrid2016.csv\")\n",
    "data2017.to_csv(\"GRgrid2017.csv\")\n",
    "data2018.to_csv(\"GRgrid2018.csv\")\n",
    "data2019.to_csv(\"GRgrid2019.csv\")"
   ]
  },
  {
   "cell_type": "code",
   "execution_count": 71,
   "metadata": {},
   "outputs": [
    {
     "data": {
      "text/plain": [
       "Index(['Unnamed: 0', 'geometry', 'bijeenkomstfunctie',\n",
       "       'gezondheidszorgfunctie', 'industriefunctie', 'kantoorfunctie',\n",
       "       'logiesfunctie', 'onderwijsfunctie', 'sportfunctie', 'winkelfunctie',\n",
       "       'woonfunctie', 'oppervlakteVerblijfsobject', 'BU_CODE', 'y',\n",
       "       'inwoner_g', 'geboorte_g', 'inw_014_g', 'inw_1524_g', 'inw_2544_g',\n",
       "       'inw_4564_g', 'inw_65_g', 'p_NL_g', 'p_wester_g', 'p_nonWestern_g',\n",
       "       'p_buyhouses_g', 'p_rentals_g', 'p_socialHousing_g', 'medianIncome_g',\n",
       "       'avg_electricity_g', 'avg_gas_g', 'p_benefits_g', 'afs_haprak_g',\n",
       "       'afs_ziek_g', 'afs_superm_g', 'afs_vo_g', 'afs_oprit_g', 'afs_treins_g',\n",
       "       'afs_transit_g', 'p_buildBefore2000_g', 'p_buildAfter2000_g',\n",
       "       'afs_huisarts_b', 'afs_ziekenhuis_b', 'afs_supermarkt_b',\n",
       "       'afs_school_b', 'afs_oprit_b', 'afs_train_b', 'afs_transit_b',\n",
       "       'Inwoners_b', 'inw14_b', 'inw24_b', 'inw44_b', 'inw64_b', 'inw65_b',\n",
       "       'western_b', 'nonWestern_b', 'birth_b', 'mean_WOZ_b', 'p_buyHouses_b',\n",
       "       'p_rental_houses_b', 'p_socialHousing_b', 'p_buildBefore2000_b',\n",
       "       'p_buildAfter2000_b', 'avg_electicity_b', 'avg_gas_b',\n",
       "       'medianInkomen_b', 'PLaagste40Inkomen_b', 'PHoogste20Inkomen_b',\n",
       "       'pBenefits_b'],\n",
       "      dtype='object')"
      ]
     },
     "execution_count": 71,
     "metadata": {},
     "output_type": "execute_result"
    }
   ],
   "source": [
    "data2015.columns"
   ]
  },
  {
   "cell_type": "code",
   "execution_count": 72,
   "metadata": {},
   "outputs": [
    {
     "data": {
      "text/plain": [
       "3889"
      ]
     },
     "execution_count": 72,
     "metadata": {},
     "output_type": "execute_result"
    }
   ],
   "source": [
    "data2018.avg_gas_b.notna().sum()"
   ]
  },
  {
   "cell_type": "code",
   "execution_count": 73,
   "metadata": {},
   "outputs": [],
   "source": [
    "b15 = data2015[data2015.woonfunctie > 0]\n",
    "b16 = data2016[data2016.woonfunctie > 0]\n",
    "b17 = data2017[data2017.woonfunctie > 0]\n",
    "b18 = data2018[data2018.woonfunctie > 0]\n",
    "b19 = data2019[data2019.woonfunctie > 0]\n"
   ]
  },
  {
   "cell_type": "code",
   "execution_count": 74,
   "metadata": {
    "scrolled": true
   },
   "outputs": [
    {
     "data": {
      "text/plain": [
       "0.6555013309671694"
      ]
     },
     "execution_count": 74,
     "metadata": {},
     "output_type": "execute_result"
    }
   ],
   "source": [
    "data2016.BU_CODE.isna().sum()/len(data2016)"
   ]
  },
  {
   "cell_type": "code",
   "execution_count": 75,
   "metadata": {},
   "outputs": [
    {
     "ename": "NameError",
     "evalue": "name 'b' is not defined",
     "output_type": "error",
     "traceback": [
      "\u001b[1;31m---------------------------------------------------------------------------\u001b[0m",
      "\u001b[1;31mNameError\u001b[0m                                 Traceback (most recent call last)",
      "\u001b[1;32mC:\\Users\\GEBRUI~1\\AppData\\Local\\Temp/ipykernel_14092/1570245623.py\u001b[0m in \u001b[0;36m<module>\u001b[1;34m\u001b[0m\n\u001b[1;32m----> 1\u001b[1;33m \u001b[1;32mfor\u001b[0m \u001b[0mn\u001b[0m\u001b[1;33m,\u001b[0m \u001b[0mi\u001b[0m \u001b[1;32min\u001b[0m \u001b[0menumerate\u001b[0m\u001b[1;33m(\u001b[0m\u001b[1;33m(\u001b[0m\u001b[0mb17\u001b[0m\u001b[1;33m.\u001b[0m\u001b[0misna\u001b[0m\u001b[1;33m(\u001b[0m\u001b[1;33m)\u001b[0m\u001b[1;33m.\u001b[0m\u001b[0msum\u001b[0m\u001b[1;33m(\u001b[0m\u001b[1;33m)\u001b[0m \u001b[1;33m/\u001b[0m \u001b[0mlen\u001b[0m\u001b[1;33m(\u001b[0m\u001b[0mb\u001b[0m\u001b[1;33m)\u001b[0m\u001b[1;33m)\u001b[0m\u001b[1;33m)\u001b[0m\u001b[1;33m:\u001b[0m\u001b[1;33m\u001b[0m\u001b[1;33m\u001b[0m\u001b[0m\n\u001b[0m\u001b[0;32m      2\u001b[0m     \u001b[0mprint\u001b[0m\u001b[1;33m(\u001b[0m\u001b[0mn\u001b[0m\u001b[1;33m,\u001b[0m \u001b[0mi\u001b[0m\u001b[1;33m)\u001b[0m\u001b[1;33m\u001b[0m\u001b[1;33m\u001b[0m\u001b[0m\n",
      "\u001b[1;31mNameError\u001b[0m: name 'b' is not defined"
     ]
    }
   ],
   "source": [
    "for n, i in enumerate((b17.isna().sum() / len(b))):\n",
    "    print(n, i)"
   ]
  },
  {
   "cell_type": "code",
   "execution_count": null,
   "metadata": {},
   "outputs": [],
   "source": [
    "b.columns[17 ]"
   ]
  },
  {
   "cell_type": "markdown",
   "metadata": {},
   "source": [
    "## ------------------------------------------------------------------------------------------------------------------------------------"
   ]
  },
  {
   "cell_type": "code",
   "execution_count": null,
   "metadata": {},
   "outputs": [],
   "source": [
    "for i in cbs15.columns:\n",
    "    print(i)"
   ]
  },
  {
   "cell_type": "code",
   "execution_count": null,
   "metadata": {},
   "outputs": [],
   "source": []
  },
  {
   "cell_type": "code",
   "execution_count": null,
   "metadata": {},
   "outputs": [],
   "source": []
  }
 ],
 "metadata": {
  "kernelspec": {
   "display_name": "Python 3 (ipykernel)",
   "language": "python",
   "name": "python3"
  },
  "language_info": {
   "codemirror_mode": {
    "name": "ipython",
    "version": 3
   },
   "file_extension": ".py",
   "mimetype": "text/x-python",
   "name": "python",
   "nbconvert_exporter": "python",
   "pygments_lexer": "ipython3",
   "version": "3.7.11"
  }
 },
 "nbformat": 4,
 "nbformat_minor": 4
}
