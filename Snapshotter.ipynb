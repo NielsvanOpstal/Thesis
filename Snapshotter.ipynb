{
 "cells": [
  {
   "cell_type": "code",
   "execution_count": 49,
   "metadata": {},
   "outputs": [
    {
     "name": "stderr",
     "output_type": "stream",
     "text": [
      "b'Skipping line 533308: expected 11 fields, saw 12\\nSkipping line 542302: expected 11 fields, saw 12\\nSkipping line 546913: expected 11 fields, saw 12\\n'\n",
      "b'Skipping line 2402168: expected 11 fields, saw 12\\n'\n",
      "b'Skipping line 6122630: expected 11 fields, saw 12\\n'\n",
      "b'Skipping line 6511403: expected 11 fields, saw 12\\nSkipping line 6511405: expected 11 fields, saw 12\\nSkipping line 6513243: expected 11 fields, saw 12\\nSkipping line 6526419: expected 11 fields, saw 12\\nSkipping line 6532284: expected 11 fields, saw 12\\nSkipping line 6539521: expected 11 fields, saw 12\\nSkipping line 6544341: expected 11 fields, saw 12\\nSkipping line 6547862: expected 11 fields, saw 12\\nSkipping line 6549397: expected 11 fields, saw 12\\nSkipping line 6550250: expected 11 fields, saw 12\\nSkipping line 6550252: expected 11 fields, saw 12\\n'\n",
      "b'Skipping line 6553782: expected 11 fields, saw 12\\nSkipping line 6554368: expected 11 fields, saw 12\\nSkipping line 6554878: expected 11 fields, saw 12\\nSkipping line 6555323: expected 11 fields, saw 12\\n'\n",
      "b'Skipping line 7256241: expected 11 fields, saw 12\\n'\n",
      "b'Skipping line 7872596: expected 11 fields, saw 12\\n'\n",
      "b'Skipping line 8565248: expected 11 fields, saw 12\\n'\n",
      "b'Skipping line 10112772: expected 11 fields, saw 12\\n'\n",
      "b'Skipping line 10359785: expected 11 fields, saw 12\\n'\n",
      "b'Skipping line 10966916: expected 11 fields, saw 12\\n'\n",
      "b'Skipping line 11791232: expected 11 fields, saw 12\\n'\n",
      "b'Skipping line 12346290: expected 11 fields, saw 12\\n'\n",
      "b'Skipping line 13443508: expected 11 fields, saw 12\\n'\n",
      "b'Skipping line 13507685: expected 11 fields, saw 12\\n'\n",
      "b'Skipping line 13765735: expected 11 fields, saw 12\\n'\n",
      "b'Skipping line 16733757: expected 11 fields, saw 12\\n'\n",
      "b'Skipping line 16955601: expected 11 fields, saw 12\\n'\n",
      "C:\\Users\\Gebruiker\\anaconda3\\lib\\site-packages\\IPython\\core\\interactiveshell.py:3437: DtypeWarning: Columns (0,6) have mixed types.Specify dtype option on import or set low_memory=False.\n",
      "  exec(code_obj, self.user_global_ns, self.user_ns)\n"
     ]
    },
    {
     "name": "stdout",
     "output_type": "stream",
     "text": [
      "1.7838885068893433\n"
     ]
    }
   ],
   "source": [
    "import pandas as pd\n",
    "import time\n",
    "t0 = time.time()\n",
    "## TODO: find out about bad lines\n",
    "df = pd.read_csv(\"PAND.csv\", sep = \";\", encoding = \"utf-8\", na_values = \"NaN\", parse_dates = [\"begindatumTijdvakGeldigheid\", \"einddatumTijdvakGeldigheid\"], on_bad_lines = \"warn\")\n",
    "df[\"begindatumTijdvakGeldigheid\"] =  pd.to_datetime(df['begindatumTijdvakGeldigheid'], format='%Y%m%d%H%M%S%f', errors='coerce')\n",
    "df[\"einddatumTijdvakGeldigheid\"] =  pd.to_datetime(df['einddatumTijdvakGeldigheid'], format='%Y%m%d%H%M%S%f', errors='coerce')\n",
    "print((time.time() - t0) / 60)"
   ]
  },
  {
   "cell_type": "code",
   "execution_count": 52,
   "metadata": {},
   "outputs": [],
   "source": [
    "def pandCleaner(data):\n",
    "    print(data.shape)\n",
    "    # only select buildings that are in use\n",
    "    data = data[data[\"pandstatus\"] == 'Pand in gebruik']\n",
    "    print(data.shape)\n",
    "    # delete buildings without an ID\n",
    "    data = data[data[\"identificatie\"].notna()]\n",
    "    print(data.shape)\n",
    "    # set dates to datetime\n",
    "    data[\"begindatumTijdvakGeldigheid\"] =  pd.to_datetime(data['begindatumTijdvakGeldigheid'], format='%Y%m%d%H%M%S%f', errors='coerce')\n",
    "    data[\"einddatumTijdvakGeldigheid\"] =  pd.to_datetime(data['einddatumTijdvakGeldigheid'], format='%Y%m%d%H%M%S%f', errors='coerce')\n",
    "    print(data.shape)\n",
    "    return data"
   ]
  },
  {
   "cell_type": "code",
   "execution_count": 53,
   "metadata": {},
   "outputs": [
    {
     "name": "stdout",
     "output_type": "stream",
     "text": [
      "(19112112, 11)\n",
      "(15353723, 11)\n",
      "(15346856, 11)\n",
      "(15346856, 11)\n"
     ]
    }
   ],
   "source": [
    "df1 = pandCleaner(df)"
   ]
  },
  {
   "cell_type": "code",
   "execution_count": 64,
   "metadata": {},
   "outputs": [
    {
     "data": {
      "text/plain": [
       "0.3374394077848909"
      ]
     },
     "execution_count": 64,
     "metadata": {},
     "output_type": "execute_result"
    }
   ],
   "source": [
    "sum(df1.einddatumTijdvakGeldigheid.notna()) / len(df1)"
   ]
  },
  {
   "cell_type": "code",
   "execution_count": 81,
   "metadata": {},
   "outputs": [],
   "source": [
    "def snapshotter(data, year):\n",
    "    d1 = datetime(year,1,1)\n",
    "    print(data.shape)\n",
    "    data = data[data[\"begindatumTijdvakGeldigheid\"] < d1]\n",
    "    print(data.shape)\n",
    "    data = data[(data[\"einddatumTijdvakGeldigheid\"] > d1) | (data[\"einddatumTijdvakGeldigheid\"].isna())]\n",
    "    print(data.shape)\n",
    "    \n",
    "    return data"
   ]
  },
  {
   "cell_type": "code",
   "execution_count": 54,
   "metadata": {},
   "outputs": [
    {
     "name": "stdout",
     "output_type": "stream",
     "text": [
      "0.7422975103060404\n"
     ]
    }
   ],
   "source": [
    "t0 = time.time()\n",
    "## TODO: find out about bad lines\n",
    "VBO = pd.read_csv(\"VBO.csv\", sep = \";\", encoding = \"utf-8\", na_values = \"NaN\", parse_dates = [\"begindatumTijdvakGeldigheid\", \"einddatumTijdvakGeldigheid\"], on_bad_lines = \"warn\")\n",
    "print((time.time() - t0) / 60)"
   ]
  },
  {
   "cell_type": "code",
   "execution_count": 55,
   "metadata": {},
   "outputs": [
    {
     "data": {
      "text/html": [
       "<div>\n",
       "<style scoped>\n",
       "    .dataframe tbody tr th:only-of-type {\n",
       "        vertical-align: middle;\n",
       "    }\n",
       "\n",
       "    .dataframe tbody tr th {\n",
       "        vertical-align: top;\n",
       "    }\n",
       "\n",
       "    .dataframe thead th {\n",
       "        text-align: right;\n",
       "    }\n",
       "</style>\n",
       "<table border=\"1\" class=\"dataframe\">\n",
       "  <thead>\n",
       "    <tr style=\"text-align: right;\">\n",
       "      <th></th>\n",
       "      <th>gebruiksdoelVerblijfsobject</th>\n",
       "      <th>oppervlakteVerblijfsobject</th>\n",
       "      <th>verblijfsobjectStatus</th>\n",
       "      <th>begindatumTijdvakGeldigheid</th>\n",
       "      <th>einddatumTijdvakGeldigheid</th>\n",
       "      <th>identificatie</th>\n",
       "      <th>pos</th>\n",
       "    </tr>\n",
       "  </thead>\n",
       "  <tbody>\n",
       "    <tr>\n",
       "      <th>0</th>\n",
       "      <td>NaN</td>\n",
       "      <td>NaN</td>\n",
       "      <td>NaN</td>\n",
       "      <td>NaN</td>\n",
       "      <td>NaN</td>\n",
       "      <td>NaN</td>\n",
       "      <td>188391.884 334586.439 0.0</td>\n",
       "    </tr>\n",
       "    <tr>\n",
       "      <th>1</th>\n",
       "      <td>woonfunctie</td>\n",
       "      <td>72.0</td>\n",
       "      <td>Verblijfsobject in gebruik</td>\n",
       "      <td>2018032600000000</td>\n",
       "      <td>2018040400000000</td>\n",
       "      <td>1.883100e+15</td>\n",
       "      <td>188391.884 334586.439 0.0</td>\n",
       "    </tr>\n",
       "    <tr>\n",
       "      <th>2</th>\n",
       "      <td>woonfunctie</td>\n",
       "      <td>72.0</td>\n",
       "      <td>Verblijfsobject ingetrokken</td>\n",
       "      <td>2018040400000000</td>\n",
       "      <td>NaN</td>\n",
       "      <td>1.883100e+15</td>\n",
       "      <td>252767.348 593745.504 0.0</td>\n",
       "    </tr>\n",
       "    <tr>\n",
       "      <th>3</th>\n",
       "      <td>woonfunctie</td>\n",
       "      <td>69.0</td>\n",
       "      <td>Verblijfsobject in gebruik</td>\n",
       "      <td>2010072000000000</td>\n",
       "      <td>NaN</td>\n",
       "      <td>3.100000e+12</td>\n",
       "      <td>252769.565 593744.87 0.0</td>\n",
       "    </tr>\n",
       "    <tr>\n",
       "      <th>4</th>\n",
       "      <td>woonfunctie</td>\n",
       "      <td>69.0</td>\n",
       "      <td>Verblijfsobject in gebruik</td>\n",
       "      <td>2010072000000000</td>\n",
       "      <td>NaN</td>\n",
       "      <td>3.100000e+12</td>\n",
       "      <td>252890.0 593697.0 0.0</td>\n",
       "    </tr>\n",
       "  </tbody>\n",
       "</table>\n",
       "</div>"
      ],
      "text/plain": [
       "  gebruiksdoelVerblijfsobject  oppervlakteVerblijfsobject  \\\n",
       "0                         NaN                         NaN   \n",
       "1                 woonfunctie                        72.0   \n",
       "2                 woonfunctie                        72.0   \n",
       "3                 woonfunctie                        69.0   \n",
       "4                 woonfunctie                        69.0   \n",
       "\n",
       "         verblijfsobjectStatus begindatumTijdvakGeldigheid  \\\n",
       "0                          NaN                         NaN   \n",
       "1   Verblijfsobject in gebruik            2018032600000000   \n",
       "2  Verblijfsobject ingetrokken            2018040400000000   \n",
       "3   Verblijfsobject in gebruik            2010072000000000   \n",
       "4   Verblijfsobject in gebruik            2010072000000000   \n",
       "\n",
       "  einddatumTijdvakGeldigheid  identificatie                        pos  \n",
       "0                        NaN            NaN  188391.884 334586.439 0.0  \n",
       "1           2018040400000000   1.883100e+15  188391.884 334586.439 0.0  \n",
       "2                        NaN   1.883100e+15  252767.348 593745.504 0.0  \n",
       "3                        NaN   3.100000e+12   252769.565 593744.87 0.0  \n",
       "4                        NaN   3.100000e+12      252890.0 593697.0 0.0  "
      ]
     },
     "execution_count": 55,
     "metadata": {},
     "output_type": "execute_result"
    }
   ],
   "source": [
    "VBO.head()"
   ]
  },
  {
   "cell_type": "code",
   "execution_count": 59,
   "metadata": {},
   "outputs": [
    {
     "data": {
      "text/plain": [
       "0.029892605944811038"
      ]
     },
     "execution_count": 59,
     "metadata": {},
     "output_type": "execute_result"
    }
   ],
   "source": [
    "sum(VBO.identificatie.isna()) / len(VBO)\n"
   ]
  },
  {
   "cell_type": "code",
   "execution_count": 60,
   "metadata": {},
   "outputs": [],
   "source": [
    "def VBOCleaner(data):\n",
    "    print(data.shape)\n",
    "    \n",
    "    # only keep objects with id\n",
    "    data = data[data[\"identificatie\"].notna()]\n",
    "    print(data.shape)\n",
    "    \n",
    "    # only keep objects which are currently in use\n",
    "    data = data[data[\"verblijfsobjectStatus\"] == \"Verblijfsobject in gebruik\"]\n",
    "    print(data.shape)"
   ]
  },
  {
   "cell_type": "code",
   "execution_count": 61,
   "metadata": {},
   "outputs": [
    {
     "name": "stdout",
     "output_type": "stream",
     "text": [
      "(19501545, 7)\n",
      "(18918593, 7)\n",
      "(15441604, 7)\n"
     ]
    }
   ],
   "source": [
    "a = VBOCleaner(VBO)"
   ]
  },
  {
   "cell_type": "code",
   "execution_count": null,
   "metadata": {},
   "outputs": [],
   "source": []
  }
 ],
 "metadata": {
  "kernelspec": {
   "display_name": "Python 3",
   "language": "python",
   "name": "python3"
  },
  "language_info": {
   "codemirror_mode": {
    "name": "ipython",
    "version": 3
   },
   "file_extension": ".py",
   "mimetype": "text/x-python",
   "name": "python",
   "nbconvert_exporter": "python",
   "pygments_lexer": "ipython3",
   "version": "3.7.9"
  }
 },
 "nbformat": 4,
 "nbformat_minor": 4
}
