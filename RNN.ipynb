{
 "cells": [
  {
   "cell_type": "code",
   "execution_count": 1,
   "id": "6fbf7ad2",
   "metadata": {},
   "outputs": [],
   "source": [
    "from torch import nn, optim\n",
    "import os\n",
    "import shapely\n",
    "import pandas as pd\n",
    "import geopandas as gpd\n",
    "import numpy as np\n",
    "from numpy.random import default_rng\n",
    "import torch\n",
    "from sklearn.metrics import recall_score, precision_score, accuracy_score, f1_score, roc_auc_score\n",
    "from imblearn.over_sampling import SMOTE\n",
    "from sklearn.preprocessing import StandardScaler\n",
    "import libpysal\n",
    "import matplotlib.pyplot as plt\n",
    "from copy import deepcopy"
   ]
  },
  {
   "cell_type": "code",
   "execution_count": 2,
   "id": "1addffc0",
   "metadata": {},
   "outputs": [],
   "source": [
    "def load_data(year):\n",
    "    os.getcwd()\n",
    "    df = pd.DataFrame()\n",
    "    path = \"../Data/filled/\" + str(year) + \"/\"\n",
    "    for filename in os.listdir(path):\n",
    "        df1 = pd.read_csv(path + filename)\n",
    "        if df1.geometry.isna().any():\n",
    "            print(filename)\n",
    "        df = pd.concat([df, df1])\n",
    "    df = gpd.GeoDataFrame(df)\n",
    "    df.geometry = df.geometry.apply(shapely.wkt.loads)\n",
    "    \n",
    "    df = df.reset_index()\n",
    "    df = df.drop([\"Unnamed: 0\", \"index\"], axis = 1)\n",
    "    return df"
   ]
  },
  {
   "cell_type": "code",
   "execution_count": 3,
   "id": "5f47de87",
   "metadata": {},
   "outputs": [
    {
     "name": "stdout",
     "output_type": "stream",
     "text": [
      "Device: cpu\n"
     ]
    }
   ],
   "source": [
    "import torch\n",
    "# device = torch.device(\"cuda:0\" if torch.cuda.is_available() else \"cpu\")\n",
    "device = \"cpu\"\n",
    "print(\"Device: {}\".format(device))"
   ]
  },
  {
   "cell_type": "code",
   "execution_count": 4,
   "id": "7dfa6798",
   "metadata": {},
   "outputs": [],
   "source": [
    "df15 = load_data(2015).set_index(\"C28992R100\")\n",
    "df16 = load_data(2016).set_index(\"C28992R100\")\n",
    "df17 = load_data(2017).set_index(\"C28992R100\")\n",
    "df18 = load_data(2018).set_index(\"C28992R100\")\n",
    "df19 = load_data(2019).set_index(\"C28992R100\")\n"
   ]
  },
  {
   "cell_type": "code",
   "execution_count": 5,
   "id": "cefabf10",
   "metadata": {},
   "outputs": [],
   "source": [
    "# Get data that is available in all years\n",
    "overlapping1517 = df17.index[df17.index.isin(df16.index[df16.index.isin(df15.index)])]\n",
    "overlapping1518 = df18.index[df18.index.isin(overlapping1517)]\n",
    "overlapping1519 = df19.index[df19.index.isin(overlapping1518)]\n",
    "\n",
    "# Fill X and Y\n",
    "X = np.zeros((len(overlapping1519), 5, 40))\n",
    "Y = np.zeros((len(overlapping1519), 5))\n",
    "Y_1 = np.zeros((len(overlapping1519), 5))\n",
    "ss = StandardScaler()\n",
    "\n",
    "for i, df in enumerate([df15, df16, df17, df18, df19]):\n",
    "    X[:,i] = df[df.columns[:-3]].loc[overlapping1519]\n",
    "    Y[:,i] = df.loc[overlapping1519][\"y\"]\n",
    "    Y_1[:,i] = df.loc[overlapping1519][\"y-1\"]\n"
   ]
  },
  {
   "cell_type": "code",
   "execution_count": 6,
   "id": "2c3fdf87",
   "metadata": {},
   "outputs": [],
   "source": [
    "# Create neighbor lists for all years\n",
    "\n",
    "df15 = df15.loc[overlapping1519]\n",
    "df16 = df16.loc[overlapping1519]\n",
    "df17 = df17.loc[overlapping1519]\n",
    "df18 = df18.loc[overlapping1519]\n",
    "df19 = df19.loc[overlapping1519]\n",
    "\n",
    "\n",
    "w15 = libpysal.weights.DistanceBand.from_dataframe(df15.reset_index(), threshold=150, binary = True, silence_warnings = True)\n",
    "w16 = libpysal.weights.DistanceBand.from_dataframe(df16.reset_index(), threshold=150, binary = True, silence_warnings = True)\n",
    "w17 = libpysal.weights.DistanceBand.from_dataframe(df17.reset_index(), threshold=150, binary = True, silence_warnings = True)\n",
    "w18 = libpysal.weights.DistanceBand.from_dataframe(df18.reset_index(), threshold=150, binary = True, silence_warnings = True)\n",
    "w19 = libpysal.weights.DistanceBand.from_dataframe(df19.reset_index(), threshold=150, binary = True, silence_warnings = True)"
   ]
  },
  {
   "cell_type": "code",
   "execution_count": 7,
   "id": "c06e4a52",
   "metadata": {},
   "outputs": [],
   "source": [
    "# create Y(t-1) for all years\n",
    "\n",
    "def get_y_1(y1, w):\n",
    "    neighbors = [w.neighbors[x] for x in w.neighbors]\n",
    "    y1 = np.array([y1[x].sum() for x in neighbors])\n",
    "    y1[np.where(y1 == 0)[0]] = 0.5\n",
    "\n",
    "    return y1\n",
    "\n",
    "Y1_15 = get_y_1(Y_1[:,0], w15)\n",
    "Y1_16 = get_y_1(Y_1[:,1], w16)\n",
    "Y1_17 = get_y_1(Y_1[:,2], w17)\n",
    "Y1_18 = get_y_1(Y_1[:,3], w18)\n",
    "Y1_19 = get_y_1(Y_1[:,4], w19)\n",
    "\n"
   ]
  },
  {
   "cell_type": "code",
   "execution_count": 8,
   "id": "4c339c32",
   "metadata": {},
   "outputs": [],
   "source": [
    "rng = default_rng()\n",
    "def get_batch(X, Y, Y1, batch_size = 32):\n",
    "    idxs = rng.integers(len(X), size = batch_size)\n",
    "    return X[idxs], Y[idxs], Y1[idxs]\n",
    "\n"
   ]
  },
  {
   "cell_type": "code",
   "execution_count": 9,
   "id": "44832fbd",
   "metadata": {},
   "outputs": [],
   "source": [
    "# X train is the first three years\n",
    "X_train = X[:,:3]\n",
    "\n",
    "#fill X_train Y(t-1) with actual values for resampling\n",
    "X_train[:,0,39] = Y1_15\n",
    "X_train[:,1,39] = Y1_16\n",
    "X_train[:,2,39] = Y1_17\n",
    "\n",
    "X_train = X_train.reshape(-1, 40*3)\n",
    "\n",
    "\n",
    "Y_train = Y[:,2]\n"
   ]
  },
  {
   "cell_type": "code",
   "execution_count": 10,
   "id": "3075e72c",
   "metadata": {
    "scrolled": true
   },
   "outputs": [],
   "source": [
    "# oversample X_train using SMOTE\n",
    "\n",
    "smote = SMOTE()\n",
    "X_train_resample,Y_train_resample = smote.fit_resample(X_train,Y_train)\n",
    "X_train = X_train.reshape(-1,3,40)\n",
    "X_train_resample = X_train_resample.reshape(-1,3,40)\n",
    "\n",
    "# transform Y(t-1) to proper values\n",
    "\n",
    "Y1_17r = X_train_resample[:,2,-1]\n",
    "Y1_17r[Y1_17r>0.5] =  np.ceil(Y1_17r[Y1_17r > 0.5])\n",
    "\n",
    "X_train_resample = np.delete(X_train_resample, -1, 2)\n",
    "X_train = np.delete(X_train, -1, 2)\n",
    "\n",
    "X_train = X_train.reshape(-1, 39)\n",
    "X_train_resample = X_train_resample.reshape(-1, 39)\n",
    "\n",
    "# Fit and transform the standard scaler\n",
    "X_train = ss.fit_transform(X_train)\n",
    "X_train_resample = ss.transform(X_train_resample)\n",
    "\n",
    "X_train_resample = X_train_resample.reshape(-1,3, 39)\n",
    "\n",
    "Y1_17r = torch.tensor(Y1_17r).float().to(device).to(device)\n",
    "Y1_18 = torch.tensor(Y1_18).float().to(device).to(device)"
   ]
  },
  {
   "cell_type": "code",
   "execution_count": 11,
   "id": "d6a57c90",
   "metadata": {},
   "outputs": [],
   "source": [
    "# create X_val and X_test\n",
    "X_val = X[:,:4]\n",
    "Y_val = Y[:,3]\n",
    "X_val = np.delete(X_val, -1, 2)\n",
    "\n",
    "X_val = X_val.reshape(-1, 39)\n",
    "X_val = ss.transform(X_val)\n",
    "X_val = X_val.reshape(-1, 4, 39)\n",
    "\n",
    "\n",
    "\n",
    "X_test = X[:,:5]\n",
    "Y_test = Y[:,4]\n",
    "X_test = np.delete(X_test, -1, 2)\n",
    "X_test = X_test.reshape(-1, 39)\n",
    "\n",
    "X_test = ss.transform(X_test)\n",
    "X_test = X_test.reshape(-1, 5, 39)\n",
    "\n",
    "X_val = torch.tensor(X_val).float().to(device)\n",
    "X_test = torch.tensor(X_test).float().to(device)\n",
    "\n",
    "\n"
   ]
  },
  {
   "cell_type": "code",
   "execution_count": 12,
   "id": "69f10190",
   "metadata": {},
   "outputs": [],
   "source": [
    "Y_val = torch.tensor(Y_val).float().to(device)\n",
    "X_train_resample = torch.tensor(X_train_resample).float().to(device)\n",
    "Y_train_resample = torch.tensor(Y_train_resample).float().to(device)\n"
   ]
  },
  {
   "cell_type": "code",
   "execution_count": null,
   "id": "26816677",
   "metadata": {},
   "outputs": [],
   "source": []
  },
  {
   "cell_type": "code",
   "execution_count": 13,
   "id": "f8f7eb3e",
   "metadata": {},
   "outputs": [],
   "source": [
    "class RNN(nn.Module):\n",
    "    def __init__(self):\n",
    "        super(RNN, self).__init__()\n",
    "        self.GRU = nn.GRU(input_size = 39, dropout = 0.2,num_layers = 2,hidden_size = 20, batch_first = True)\n",
    "        self.net = nn.Sequential(\n",
    "            nn.Linear(20,1),\n",
    "\n",
    "        )\n",
    "        self.final = nn.Sigmoid()\n",
    "    def forward(self, X, Y1):\n",
    "        h0 = torch.zeros(2, X.size(0), 20)\n",
    "        X, _ = self.GRU(X, h0)\n",
    "        X = X[:,-1, :].unsqueeze(1)\n",
    "        X = self.net(X[:,-1])\n",
    "        X = X.squeeze() * Y1\n",
    " \n",
    "        return X\n"
   ]
  },
  {
   "cell_type": "code",
   "execution_count": 14,
   "id": "a8561945",
   "metadata": {},
   "outputs": [],
   "source": [
    "class RNN1(nn.Module):\n",
    "    def __init__(self):\n",
    "        super(RNN1, self).__init__()\n",
    "        self.GRU = nn.GRU(input_size = 39, num_layers = 1,hidden_size = 20, batch_first = True)\n",
    "        self.net = nn.Sequential(\n",
    "            nn.Linear(20,1),\n",
    "\n",
    "        )\n",
    "        self.final = nn.Sigmoid()\n",
    "    def forward(self, X, Y1):\n",
    "        h0 = torch.zeros(1, X.size(0), 20)\n",
    "        X, _ = self.GRU(X, h0)\n",
    "        X = X[:,-1, :].unsqueeze(1)\n",
    "        X = self.net(X[:,-1])\n",
    "        X = X.squeeze() * Y1\n",
    " \n",
    "        \n",
    "        return X"
   ]
  },
  {
   "cell_type": "code",
   "execution_count": 15,
   "id": "773d4333",
   "metadata": {},
   "outputs": [],
   "source": [
    "class RNN2(nn.Module):\n",
    "    def __init__(self):\n",
    "        super(RNN2, self).__init__()\n",
    "        self.GRU = nn.GRU(input_size = 39, num_layers = 1,hidden_size = 100, batch_first = True)\n",
    "        self.net = nn.Sequential(\n",
    "            nn.Linear(100,250),\n",
    "            nn.Dropout(0.3),\n",
    "            nn.ReLU(),\n",
    "            nn.Linear(250,100),\n",
    "            nn.ReLU(),\n",
    "            nn.Linear(100,1)\n",
    "\n",
    "        )\n",
    "        self.final = nn.Sigmoid()\n",
    "    def forward(self, X, Y1):\n",
    "        h0 = torch.zeros(1, X.size(0), 100)\n",
    "        X, _ = self.GRU(X, h0)\n",
    "        X = X[:,-1, :].unsqueeze(1)\n",
    "        X = self.net(X[:,-1])\n",
    "        X = X.squeeze() * Y1\n",
    " \n",
    "        \n",
    "        return X"
   ]
  },
  {
   "cell_type": "code",
   "execution_count": 16,
   "id": "be993c74",
   "metadata": {},
   "outputs": [],
   "source": [
    "class RNN3(nn.Module):\n",
    "    def __init__(self):\n",
    "        super(RNN3, self).__init__()\n",
    "        self.GRU = nn.GRU(input_size = 39, num_layers = 2,hidden_size = 100, batch_first = True)\n",
    "        self.net = nn.Sequential(\n",
    "            nn.Linear(100,250),\n",
    "            nn.Dropout(0.3),\n",
    "            nn.ReLU(),\n",
    "            nn.Linear(250,100),\n",
    "            nn.ReLU(),\n",
    "            nn.Linear(100,1)\n",
    "\n",
    "        )\n",
    "        self.final = nn.Sigmoid()\n",
    "    def forward(self, X, Y1):\n",
    "        h0 = torch.zeros(2, X.size(0), 100)\n",
    "        X, _ = self.GRU(X, h0)\n",
    "        X = X[:,-1, :].unsqueeze(1)\n",
    "        X = self.net(X[:,-1])\n",
    "        X = X.squeeze() * Y1\n",
    " \n",
    "        \n",
    "        return X"
   ]
  },
  {
   "cell_type": "code",
   "execution_count": 17,
   "id": "32a1fa32",
   "metadata": {},
   "outputs": [],
   "source": [
    "class RNN4(nn.Module):\n",
    "    def __init__(self):\n",
    "        super(RNN4, self).__init__()\n",
    "        self.GRU = nn.GRU(input_size = 39, num_layers = 1,hidden_size = 50, batch_first = True)\n",
    "        self.net = nn.Sequential(\n",
    "            nn.Linear(50,100),\n",
    "            nn.Dropout(0.3),\n",
    "            nn.ReLU(),\n",
    "            nn.Linear(100,50),\n",
    "            nn.ReLU(),\n",
    "            nn.Linear(50,1)\n",
    "\n",
    "        )\n",
    "        self.final = nn.Sigmoid()\n",
    "    def forward(self, X, Y1):\n",
    "        h0 = torch.zeros(1, X.size(0), 50)\n",
    "        X, _ = self.GRU(X, h0)\n",
    "        X = X[:,-1, :].unsqueeze(1)\n",
    "        X = self.net(X[:,-1])\n",
    "        X = X.squeeze() * Y1\n",
    " \n",
    "        \n",
    "        return X"
   ]
  },
  {
   "cell_type": "code",
   "execution_count": 18,
   "id": "41e7b3ac",
   "metadata": {},
   "outputs": [],
   "source": [
    "class RNN5(nn.Module):\n",
    "    def __init__(self):\n",
    "        super(RNN5, self).__init__()\n",
    "        self.GRU = nn.GRU(input_size = 39, num_layers = 1,hidden_size = 50, batch_first = True)\n",
    "        self.net = nn.Sequential(\n",
    "            nn.Linear(50,150),\n",
    "            nn.Dropout(0.3),\n",
    "            nn.ReLU(),\n",
    "            nn.Linear(150,150),\n",
    "            nn.ReLU(),\n",
    "            nn.Linear(150,1)\n",
    "\n",
    "        )\n",
    "        self.final = nn.Sigmoid()\n",
    "    def forward(self, X, Y1):\n",
    "        h0 = torch.zeros(1, X.size(0), 50)\n",
    "        X, _ = self.GRU(X, h0)\n",
    "        X = X[:,-1, :].unsqueeze(1)\n",
    "        X = self.net(X[:,-1])\n",
    "        X = X.squeeze() * Y1\n",
    " \n",
    "        \n",
    "        return X"
   ]
  },
  {
   "cell_type": "code",
   "execution_count": 19,
   "id": "bfbaac5c",
   "metadata": {},
   "outputs": [],
   "source": [
    "model = RNN().to(device)\n",
    "model1 = RNN1().to(device)\n",
    "model2 = RNN2().to(device)\n",
    "model3 = RNN3().to(device)\n",
    "model4 = RNN4().to(device)\n",
    "model5 = RNN5().to(device)\n",
    "\n",
    "models = [2]"
   ]
  },
  {
   "cell_type": "code",
   "execution_count": 22,
   "id": "05cb02e3",
   "metadata": {},
   "outputs": [],
   "source": [
    "def train(models, X_train, Y_train, Y1_train, X_val, Y_val, Y1_val, num_epochs, lr, batch_per_e = 100 ):\n",
    "\n",
    "    best_auc, best_f1, best_model, best_epoch, best_lr = 0,0,0,0,0\n",
    "    \n",
    "    for i, model in enumerate(models):\n",
    "#         for lr in [0.00000051, 0.0000051]:\n",
    "        for lr in [0.0000051]:\n",
    "                \n",
    "            if model == 0: model = RNN()         \n",
    "            elif model ==1: model = RNN1()                \n",
    "            elif model == 2: model = RNN2()\n",
    "            elif model == 3: model = RNN3()\n",
    "            elif model == 4: model = RNN4()\n",
    "            else: model = RNN5()\n",
    "           \n",
    "            ROC_history = []     \n",
    "            optimizer = optim.Adam(model.parameters(), lr=lr) \n",
    "            SigBCEloss = nn.BCEWithLogitsLoss()\n",
    "            \n",
    "            for epoch in range(num_epochs):\n",
    "                epoch_loss = []\n",
    "#                 print(\"epoch: {} of {}\".format(epoch, num_epochs))\n",
    "                for batch in range(batch_per_e):\n",
    "\n",
    "                    x, y, y1 = get_batch(X_train, Y_train, Y1_train, 6)\n",
    "\n",
    "                    model.train()\n",
    "\n",
    "                    optimizer.zero_grad()\n",
    "                    out = model(x, y1).squeeze()\n",
    "\n",
    "\n",
    "                    loss = SigBCEloss(out, y)\n",
    "                    loss.backward()\n",
    "                    optimizer.step()\n",
    "\n",
    "\n",
    "                    epoch_loss.append(loss.detach().numpy())\n",
    "\n",
    "                model.eval()\n",
    "\n",
    "                out = model(X_val, Y1_val)\n",
    "                ROC = roc_auc_score(Y_val, model.final(out).detach().numpy())\n",
    "                out = out.squeeze().detach().numpy()\n",
    "\n",
    "                preds = np.zeros(len(out))\n",
    "                pos = out.argsort()[-((Y_val == 1).sum()):]\n",
    "                preds[pos] = 1\n",
    "                \n",
    "                f1 = f1_score(Y_val, preds)\n",
    "\n",
    "                ROC_history.append(ROC)\n",
    "\n",
    "                if ROC > best_auc:\n",
    "                    print(\"model: {}, ROC:{}, f1: {}, lr: {}, epoch = {}\".format(i, ROC, f1, lr, epoch))\n",
    "                    best_auc = ROC\n",
    "                    best_f1 = f1\n",
    "                    best_model = deepcopy(model.state_dict())\n",
    "                    best_epoch = epoch\n",
    "                    best_lr = lr\n",
    "\n",
    "                train_loss = []\n",
    "                          \n",
    "            print(np.max(ROC_history), np.argmax(ROC_history), lr)\n",
    "            plt.plot(ROC_history, alpha = 0.5)\n",
    "            plt.hlines(np.mean(ROC_history), 0, n_epochs, color = \"r\") \n",
    "            linear_model=np.polyfit(range(n_epochs), ROC_history, 2)\n",
    "            linear_model_fn=np.poly1d(linear_model)\n",
    "            x_s=np.arange(0,n_epochs)\n",
    "            plt.plot(linear_model_fn(x_s))  \n",
    "            plt.show()\n",
    "                          \n",
    "    result = np.argmax(ROC_history)\n",
    "    return best_auc, best_f1, best_model, best_epoch"
   ]
  },
  {
   "cell_type": "code",
   "execution_count": 23,
   "id": "327949ff",
   "metadata": {
    "scrolled": true
   },
   "outputs": [
    {
     "name": "stdout",
     "output_type": "stream",
     "text": [
      "model: 0, ROC:0.6348374427464577, f1: 0.29102564102564105, lr: 5.1e-06, epoch = 0\n",
      "model: 0, ROC:0.6404323712597919, f1: 0.29743589743589743, lr: 5.1e-06, epoch = 1\n",
      "model: 0, ROC:0.6440924510937032, f1: 0.3, lr: 5.1e-06, epoch = 2\n",
      "model: 0, ROC:0.6482407020960861, f1: 0.29935897435897435, lr: 5.1e-06, epoch = 3\n",
      "model: 0, ROC:0.6500748219967752, f1: 0.29743589743589743, lr: 5.1e-06, epoch = 4\n",
      "model: 0, ROC:0.6523189914101851, f1: 0.30128205128205127, lr: 5.1e-06, epoch = 5\n",
      "model: 0, ROC:0.6551523729007035, f1: 0.30256410256410254, lr: 5.1e-06, epoch = 6\n",
      "model: 0, ROC:0.6574036321219126, f1: 0.30512820512820515, lr: 5.1e-06, epoch = 7\n",
      "model: 0, ROC:0.6592657991238959, f1: 0.30833333333333335, lr: 5.1e-06, epoch = 8\n",
      "model: 0, ROC:0.6613196138863918, f1: 0.31025641025641026, lr: 5.1e-06, epoch = 9\n",
      "model: 0, ROC:0.6634060685187564, f1: 0.3121794871794872, lr: 5.1e-06, epoch = 10\n",
      "model: 0, ROC:0.6646265856199078, f1: 0.31474358974358974, lr: 5.1e-06, epoch = 11\n",
      "model: 0, ROC:0.6660634979238901, f1: 0.316025641025641, lr: 5.1e-06, epoch = 12\n",
      "model: 0, ROC:0.6669347862534424, f1: 0.316025641025641, lr: 5.1e-06, epoch = 13\n",
      "model: 0, ROC:0.6684532536421101, f1: 0.3173076923076923, lr: 5.1e-06, epoch = 14\n",
      "model: 0, ROC:0.6695223877402509, f1: 0.31794871794871793, lr: 5.1e-06, epoch = 15\n",
      "model: 0, ROC:0.6702265082116918, f1: 0.31987179487179485, lr: 5.1e-06, epoch = 16\n",
      "model: 0, ROC:0.6710445115077837, f1: 0.32051282051282054, lr: 5.1e-06, epoch = 17\n",
      "model: 0, ROC:0.6720002086811352, f1: 0.3192307692307692, lr: 5.1e-06, epoch = 18\n",
      "model: 0, ROC:0.6726159518000085, f1: 0.3211538461538462, lr: 5.1e-06, epoch = 19\n",
      "model: 0, ROC:0.6727683157827148, f1: 0.3230769230769231, lr: 5.1e-06, epoch = 20\n",
      "model: 0, ROC:0.6739911069731604, f1: 0.3243589743589744, lr: 5.1e-06, epoch = 21\n",
      "model: 0, ROC:0.6746969664540616, f1: 0.325, lr: 5.1e-06, epoch = 22\n",
      "model: 0, ROC:0.675117004123682, f1: 0.3262820512820513, lr: 5.1e-06, epoch = 23\n",
      "model: 0, ROC:0.6757684638214689, f1: 0.3269230769230769, lr: 5.1e-06, epoch = 24\n",
      "model: 0, ROC:0.6765634140947163, f1: 0.32756410256410257, lr: 5.1e-06, epoch = 25\n",
      "model: 0, ROC:0.6767549726752566, f1: 0.3269230769230769, lr: 5.1e-06, epoch = 26\n",
      "model: 0, ROC:0.6773805701810711, f1: 0.32756410256410257, lr: 5.1e-06, epoch = 27\n",
      "model: 0, ROC:0.6776947512235493, f1: 0.32756410256410257, lr: 5.1e-06, epoch = 28\n",
      "model: 0, ROC:0.6780451839247749, f1: 0.32884615384615384, lr: 5.1e-06, epoch = 29\n",
      "model: 0, ROC:0.6787614774624374, f1: 0.32884615384615384, lr: 5.1e-06, epoch = 30\n",
      "model: 0, ROC:0.6793092208524178, f1: 0.3301282051282051, lr: 5.1e-06, epoch = 31\n",
      "model: 0, ROC:0.6797611403621421, f1: 0.3333333333333333, lr: 5.1e-06, epoch = 32\n",
      "model: 0, ROC:0.6800418343250146, f1: 0.33205128205128204, lr: 5.1e-06, epoch = 33\n",
      "model: 0, ROC:0.6807537580440335, f1: 0.33397435897435895, lr: 5.1e-06, epoch = 34\n",
      "model: 0, ROC:0.6813186685786853, f1: 0.33397435897435895, lr: 5.1e-06, epoch = 35\n",
      "model: 0, ROC:0.6816004772912118, f1: 0.3333333333333333, lr: 5.1e-06, epoch = 36\n",
      "model: 0, ROC:0.6821498259206941, f1: 0.33397435897435895, lr: 5.1e-06, epoch = 37\n",
      "model: 0, ROC:0.6825744563588888, f1: 0.3333333333333333, lr: 5.1e-06, epoch = 38\n",
      "model: 0, ROC:0.6828378494071315, f1: 0.33397435897435895, lr: 5.1e-06, epoch = 39\n",
      "model: 0, ROC:0.6832604287059629, f1: 0.33397435897435895, lr: 5.1e-06, epoch = 40\n",
      "model: 0, ROC:0.6833381490518385, f1: 0.3333333333333333, lr: 5.1e-06, epoch = 41\n",
      "model: 0, ROC:0.6837818194141233, f1: 0.3371794871794872, lr: 5.1e-06, epoch = 42\n",
      "model: 0, ROC:0.6840962679965185, f1: 0.3371794871794872, lr: 5.1e-06, epoch = 43\n",
      "model: 0, ROC:0.6843532846767405, f1: 0.3371794871794872, lr: 5.1e-06, epoch = 44\n",
      "model: 0, ROC:0.6847552188119801, f1: 0.3384615384615385, lr: 5.1e-06, epoch = 45\n",
      "model: 0, ROC:0.6850023365152749, f1: 0.3391025641025641, lr: 5.1e-06, epoch = 46\n",
      "model: 0, ROC:0.685270902001912, f1: 0.3391025641025641, lr: 5.1e-06, epoch = 47\n",
      "model: 0, ROC:0.6855557428334974, f1: 0.33974358974358976, lr: 5.1e-06, epoch = 48\n",
      "model: 0, ROC:0.6857454732246051, f1: 0.3403846153846154, lr: 5.1e-06, epoch = 49\n",
      "model: 0, ROC:0.6859134437024672, f1: 0.3416666666666667, lr: 5.1e-06, epoch = 50\n",
      "model: 0, ROC:0.6863390551203573, f1: 0.3423076923076923, lr: 5.1e-06, epoch = 51\n",
      "model: 0, ROC:0.6867067441462266, f1: 0.34294871794871795, lr: 5.1e-06, epoch = 52\n",
      "model: 0, ROC:0.6868811801720817, f1: 0.3435897435897436, lr: 5.1e-06, epoch = 53\n",
      "model: 0, ROC:0.6873355967210307, f1: 0.34487179487179487, lr: 5.1e-06, epoch = 54\n",
      "model: 0, ROC:0.6877260712298275, f1: 0.3455128205128205, lr: 5.1e-06, epoch = 55\n",
      "model: 0, ROC:0.6881243489862021, f1: 0.3455128205128205, lr: 5.1e-06, epoch = 56\n",
      "model: 0, ROC:0.6882585202545554, f1: 0.3474358974358974, lr: 5.1e-06, epoch = 57\n",
      "model: 0, ROC:0.6883767283078636, f1: 0.3455128205128205, lr: 5.1e-06, epoch = 58\n",
      "model: 0, ROC:0.6886732963058089, f1: 0.3467948717948718, lr: 5.1e-06, epoch = 59\n",
      "model: 0, ROC:0.6890416541814706, f1: 0.3467948717948718, lr: 5.1e-06, epoch = 61\n",
      "model: 0, ROC:0.6893652437110284, f1: 0.3467948717948718, lr: 5.1e-06, epoch = 62\n",
      "model: 0, ROC:0.6895783392548835, f1: 0.34807692307692306, lr: 5.1e-06, epoch = 63\n",
      "model: 0, ROC:0.6900266469757288, f1: 0.3487179487179487, lr: 5.1e-06, epoch = 64\n",
      "model: 0, ROC:0.6904223831028923, f1: 0.34935897435897434, lr: 5.1e-06, epoch = 65\n",
      "model: 0, ROC:0.6907827147810452, f1: 0.34935897435897434, lr: 5.1e-06, epoch = 66\n",
      "model: 0, ROC:0.6913032582794686, f1: 0.35, lr: 5.1e-06, epoch = 67\n",
      "model: 0, ROC:0.6916738902444245, f1: 0.35128205128205126, lr: 5.1e-06, epoch = 68\n",
      "model: 0, ROC:0.6918625950658505, f1: 0.35128205128205126, lr: 5.1e-06, epoch = 69\n",
      "model: 0, ROC:0.6921433336187093, f1: 0.3506410256410256, lr: 5.1e-06, epoch = 70\n",
      "model: 0, ROC:0.6921597427336159, f1: 0.35128205128205126, lr: 5.1e-06, epoch = 71\n",
      "model: 0, ROC:0.6923136227758514, f1: 0.35128205128205126, lr: 5.1e-06, epoch = 72\n",
      "model: 0, ROC:0.6925489687228001, f1: 0.35192307692307695, lr: 5.1e-06, epoch = 73\n",
      "model: 0, ROC:0.6929343153831884, f1: 0.3525641025641026, lr: 5.1e-06, epoch = 74\n",
      "model: 0, ROC:0.6931203002154589, f1: 0.3532051282051282, lr: 5.1e-06, epoch = 75\n",
      "model: 0, ROC:0.6932439036570923, f1: 0.35384615384615387, lr: 5.1e-06, epoch = 76\n",
      "model: 0, ROC:0.6932646825906426, f1: 0.3532051282051282, lr: 5.1e-06, epoch = 78\n",
      "model: 0, ROC:0.6935845711513491, f1: 0.3544871794871795, lr: 5.1e-06, epoch = 79\n",
      "model: 0, ROC:0.6936723242441105, f1: 0.3551282051282051, lr: 5.1e-06, epoch = 80\n",
      "model: 0, ROC:0.6938724441019933, f1: 0.3551282051282051, lr: 5.1e-06, epoch = 81\n",
      "model: 0, ROC:0.6940546833754263, f1: 0.3551282051282051, lr: 5.1e-06, epoch = 82\n",
      "model: 0, ROC:0.6941098411883053, f1: 0.3551282051282051, lr: 5.1e-06, epoch = 83\n",
      "model: 0, ROC:0.6945924831984932, f1: 0.3564102564102564, lr: 5.1e-06, epoch = 84\n",
      "model: 0, ROC:0.6946536160695176, f1: 0.3557692307692308, lr: 5.1e-06, epoch = 85\n",
      "model: 0, ROC:0.6950559515146326, f1: 0.3551282051282051, lr: 5.1e-06, epoch = 86\n",
      "model: 0, ROC:0.6953274153503702, f1: 0.3557692307692308, lr: 5.1e-06, epoch = 87\n",
      "model: 0, ROC:0.6954598476092633, f1: 0.3564102564102564, lr: 5.1e-06, epoch = 88\n",
      "model: 0, ROC:0.6957839276286689, f1: 0.3551282051282051, lr: 5.1e-06, epoch = 89\n",
      "model: 0, ROC:0.6958461306593611, f1: 0.3557692307692308, lr: 5.1e-06, epoch = 90\n",
      "model: 0, ROC:0.6960297968123511, f1: 0.35769230769230775, lr: 5.1e-06, epoch = 91\n",
      "model: 0, ROC:0.696209494456573, f1: 0.3564102564102564, lr: 5.1e-06, epoch = 92\n",
      "model: 0, ROC:0.6962251455417148, f1: 0.35705128205128206, lr: 5.1e-06, epoch = 95\n",
      "model: 0, ROC:0.6963403660659504, f1: 0.35705128205128206, lr: 5.1e-06, epoch = 98\n",
      "model: 0, ROC:0.6964434135239645, f1: 0.35833333333333334, lr: 5.1e-06, epoch = 99\n",
      "model: 0, ROC:0.6966143715308991, f1: 0.35769230769230775, lr: 5.1e-06, epoch = 100\n",
      "model: 0, ROC:0.6967931773753977, f1: 0.35769230769230775, lr: 5.1e-06, epoch = 101\n",
      "model: 0, ROC:0.6970954528915715, f1: 0.36025641025641025, lr: 5.1e-06, epoch = 102\n",
      "model: 0, ROC:0.6972324779190389, f1: 0.358974358974359, lr: 5.1e-06, epoch = 103\n",
      "model: 0, ROC:0.697415073912361, f1: 0.35833333333333334, lr: 5.1e-06, epoch = 104\n",
      "model: 0, ROC:0.6977913688055591, f1: 0.358974358974359, lr: 5.1e-06, epoch = 105\n",
      "model: 0, ROC:0.6978846064666182, f1: 0.3615384615384615, lr: 5.1e-06, epoch = 106\n"
     ]
    },
    {
     "name": "stdout",
     "output_type": "stream",
     "text": [
      "model: 0, ROC:0.6982217067619821, f1: 0.36217948717948717, lr: 5.1e-06, epoch = 107\n",
      "model: 0, ROC:0.6982931399198093, f1: 0.36346153846153845, lr: 5.1e-06, epoch = 114\n",
      "model: 0, ROC:0.698653070288087, f1: 0.36282051282051286, lr: 5.1e-06, epoch = 115\n",
      "model: 0, ROC:0.6988035614913746, f1: 0.36282051282051286, lr: 5.1e-06, epoch = 122\n",
      "model: 0, ROC:0.6989928905726068, f1: 0.36217948717948717, lr: 5.1e-06, epoch = 123\n",
      "model: 0, ROC:0.699005286588759, f1: 0.36282051282051286, lr: 5.1e-06, epoch = 124\n",
      "model: 0, ROC:0.6990634319307107, f1: 0.36217948717948717, lr: 5.1e-06, epoch = 127\n",
      "model: 0, ROC:0.6991266605310845, f1: 0.36346153846153845, lr: 5.1e-06, epoch = 128\n",
      "model: 0, ROC:0.6992541878915001, f1: 0.36346153846153845, lr: 5.1e-06, epoch = 129\n",
      "model: 0, ROC:0.6992893693905798, f1: 0.36346153846153845, lr: 5.1e-06, epoch = 137\n",
      "model: 0, ROC:0.6993015870467874, f1: 0.36346153846153845, lr: 5.1e-06, epoch = 138\n",
      "model: 0, ROC:0.6994275983476734, f1: 0.3615384615384615, lr: 5.1e-06, epoch = 142\n",
      "model: 0, ROC:0.6996039517429333, f1: 0.36217948717948717, lr: 5.1e-06, epoch = 143\n",
      "model: 0, ROC:0.6997450344591413, f1: 0.36025641025641025, lr: 5.1e-06, epoch = 157\n",
      "model: 0, ROC:0.6998375140904356, f1: 0.36025641025641025, lr: 5.1e-06, epoch = 158\n",
      "model: 0, ROC:0.7001636452492045, f1: 0.3596153846153846, lr: 5.1e-06, epoch = 159\n",
      "model: 0, ROC:0.7003755814534195, f1: 0.35833333333333334, lr: 5.1e-06, epoch = 161\n",
      "model: 0, ROC:0.7005334300044233, f1: 0.3551282051282051, lr: 5.1e-06, epoch = 238\n",
      "model: 0, ROC:0.7007047893212334, f1: 0.3551282051282051, lr: 5.1e-06, epoch = 239\n",
      "model: 0, ROC:0.700793166673801, f1: 0.3544871794871795, lr: 5.1e-06, epoch = 241\n",
      "model: 0, ROC:0.7009083871980366, f1: 0.3551282051282051, lr: 5.1e-06, epoch = 242\n",
      "0.7009083871980366 242 5.1e-06\n"
     ]
    },
    {
     "data": {
      "image/png": "[encoded data removed]",
      "text/plain": [
       "<Figure size 432x288 with 1 Axes>"
      ]
     },
     "metadata": {
      "needs_background": "light"
     },
     "output_type": "display_data"
    }
   ],
   "source": [
    "n_epochs = 1500\n",
    "hists = train(models, X_train_resample, Y_train_resample, Y1_17r, X_val, Y_val, Y1_18, n_epochs, 0.0000051)"
   ]
  },
  {
   "cell_type": "markdown",
   "id": "b27d9ae8",
   "metadata": {},
   "source": [
    "best model: model 2, auc = 0.(0.7132703366008875,\n",
    "\n",
    "f1: 0.3506410256410256,, lr =  5.1e-06"
   ]
  },
  {
   "cell_type": "code",
   "execution_count": 30,
   "id": "eefed94f",
   "metadata": {},
   "outputs": [
    {
     "name": "stdout",
     "output_type": "stream",
     "text": [
      "0.6761051454541094 0.4014227642276423\n"
     ]
    }
   ],
   "source": [
    "model = RNN2()\n",
    "model.load_state_dict(hists[2])\n",
    "model.eval()\n",
    "\n",
    "out = model(X_test, torch.tensor(Y1_19))\n",
    "\n",
    "ROC = roc_auc_score(Y_test, model.final(out).detach().numpy())\n",
    "out = out.squeeze().detach().numpy()\n",
    "\n",
    "preds = np.zeros(len(out))\n",
    "pos = out.argsort()[-((Y_test == 1).sum()):]\n",
    "preds[pos] = 1\n",
    "\n",
    "f1 = f1_score(Y_test, preds)\n",
    "print(ROC, f1)\n",
    "with open (\"../Results/Denhaag.csv\", \"a+\") as f:\n",
    "    f.write(\"RNN,{},{}\".format(ROC,f1))"
   ]
  },
  {
   "cell_type": "code",
   "execution_count": 72,
   "id": "5383fe1f",
   "metadata": {},
   "outputs": [
    {
     "name": "stdout",
     "output_type": "stream",
     "text": [
      "0.6110970206754848 178\n"
     ]
    },
    {
     "data": {
      "text/plain": [
       "<matplotlib.collections.LineCollection at 0x1fa92049448>"
      ]
     },
     "execution_count": 72,
     "metadata": {},
     "output_type": "execute_result"
    },
    {
     "data": {
      "image/png": "[encoded data removed]",
      "text/plain": [
       "<Figure size 432x288 with 1 Axes>"
      ]
     },
     "metadata": {
      "needs_background": "light"
     },
     "output_type": "display_data"
    }
   ],
   "source": [
    "print(np.max(hists[-4]), np.argmax(hists[-4]))\n",
    "plt.plot(hists[-4], alpha = 0.5)\n",
    "plt.hlines(np.mean(hists[-4]), 0, n_epochs, color = \"r\")"
   ]
  },
  {
   "cell_type": "code",
   "execution_count": null,
   "id": "547020d3",
   "metadata": {},
   "outputs": [],
   "source": []
  },
  {
   "cell_type": "code",
   "execution_count": null,
   "id": "12659c42",
   "metadata": {},
   "outputs": [],
   "source": []
  }
 ],
 "metadata": {
  "kernelspec": {
   "display_name": "Python 3 (ipykernel)",
   "language": "python",
   "name": "python3"
  },
  "language_info": {
   "codemirror_mode": {
    "name": "ipython",
    "version": 3
   },
   "file_extension": ".py",
   "mimetype": "text/x-python",
   "name": "python",
   "nbconvert_exporter": "python",
   "pygments_lexer": "ipython3",
   "version": "3.7.11"
  }
 },
 "nbformat": 4,
 "nbformat_minor": 5
}
