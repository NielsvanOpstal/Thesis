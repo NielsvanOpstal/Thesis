{
 "cells": [
  {
   "cell_type": "code",
   "execution_count": 1,
   "metadata": {},
   "outputs": [],
   "source": [
    "import geopandas as gpd\n",
    "import pandas as pd\n",
    "from shapely.geometry.polygon import LinearRing\n",
    "from shapely.geometry import box, Polygon\n",
    "import time\n",
    "from shapely.geometry import asPoint\n",
    "import shapely.wkt\n",
    "import matplotlib.pyplot as plt"
   ]
  },
  {
   "cell_type": "code",
   "execution_count": 2,
   "metadata": {},
   "outputs": [],
   "source": [
    "def VBOCleaner(data):\n",
    "    print(data.shape)\n",
    "    \n",
    "    # only keep objects with id\n",
    "    data = data[data[\"identificatie\"].notna()]\n",
    "    print(data.shape)\n",
    "    \n",
    "    # only keep objects which are currently in use # CHECK of dit de juiste zijn\n",
    "    data = data[data.verblijfsobjectStatus.isin([\"Verblijfsobject gevormd\", \n",
    "                                                 \"Verblijfsobject in gebruik\",\n",
    "                                                 \"Verblijfsobject in gebruik (niet ingemeten)\"])]\n",
    "    data = data[data.pos.notna()]\n",
    "    print(data.shape)\n",
    "    \n",
    "    data[\"begindatumTijdvakGeldigheid\"] =  pd.to_datetime(data['begindatumTijdvakGeldigheid'], format='%Y%m%d%H%M%S%f', errors='coerce')\n",
    "    data[\"einddatumTijdvakGeldigheid\"] =  pd.to_datetime(data['einddatumTijdvakGeldigheid'], format='%Y%m%d%H%M%S%f', errors='coerce')\n",
    "    \n",
    "    def toPoint(pos):\n",
    "        return asPoint([float(i) for i in pos.split()[:2]])\n",
    "    data[\"pos\"] = data.pos.apply(toPoint)\n",
    "    \n",
    "    return data"
   ]
  },
  {
   "cell_type": "code",
   "execution_count": 3,
   "metadata": {},
   "outputs": [
    {
     "name": "stdout",
     "output_type": "stream",
     "text": [
      "(19501545, 7)\n",
      "(18918593, 7)\n",
      "(18386142, 7)\n"
     ]
    }
   ],
   "source": [
    "# # Load neccessary datasets\n",
    "vierkant = gpd.read_file(\"../Data/NLvierkant/NL_vierkant100m.shp\")\n",
    "df = pd.read_csv(\"woonplaats_grenzen.csv\" , sep = \";\")\n",
    "vbo = pd.read_csv(\"VBO.csv\", sep = \";\", encoding = \"utf-8\", na_values = \"NaN\", on_bad_lines = \"warn\")\n",
    "vbo = VBOCleaner(vbo)"
   ]
  },
  {
   "cell_type": "code",
   "execution_count": null,
   "metadata": {},
   "outputs": [],
   "source": []
  },
  {
   "cell_type": "code",
   "execution_count": 4,
   "metadata": {},
   "outputs": [],
   "source": [
    "class city_grid():\n",
    "    def __init__(self, city_borders, grid, city):\n",
    "        \n",
    "        # Select only the city_borders of wanted city and transform geometry (string) to geometry object\n",
    "        self.city_borders = city_borders[city_borders.woonplaats.str.contains(city)]\n",
    "        self.city_borders.geometry = self.city_borders.geometry.apply(shapely.wkt.loads)\n",
    "        \n",
    "        self.grid = grid\n",
    "        self.city = city\n",
    "        self.union = LinearRing()\n",
    "        self.df = gpd.GeoDataFrame()\n",
    "    \n",
    "    def border_fix(self, name = \"name\", loc = \"loc\"):\n",
    "        if name != \"name\":\n",
    "            self.city_borders =  self.city_borders[~self.city_borders.woonplaats.str.contains(name)]\n",
    "        elif loc != \"loc\":\n",
    "            self.city_borders = self.city_borders.drop(loc)\n",
    "    \n",
    "    def print_borders(self):\n",
    "        print(self.city_borders)\n",
    "    def create_union(self):\n",
    "        for _, i in self.city_borders.iterrows():\n",
    "            if not i.geometry.is_empty:\n",
    "                x, y = i.geometry.xy\n",
    "                self.union = self.union.union(i.geometry)\n",
    "                plt.plot(x, y)\n",
    "        plt.show()\n",
    "        \n",
    "    def create_grid(self):\n",
    "\n",
    "        def create_box(bounds, distance):\n",
    "            xmin, ymin, xmax, ymax = bounds\n",
    "            xmin -= distance\n",
    "            ymin -= distance\n",
    "            xmax += distance\n",
    "            ymax += distance\n",
    "\n",
    "            return xmin, ymin, xmax, ymax\n",
    "\n",
    "        boundbox = box(*create_box(self.union.bounds, 100))\n",
    "             \n",
    "        tot = len(self.grid)\n",
    "        for i, v in self.grid.iterrows():\n",
    "            print(\"{0:.1f}%\".format((i / tot) * 100), end = \"\\r\")\n",
    "            if boundbox.contains(v.geometry):\n",
    "                self.df = self.df.append(v)\n",
    "                \n",
    "    def join_vbo(self, vbo):\n",
    "        print(\"joining {} to vbo's\".format(self.city))\n",
    "        vbopoints = gpd.GeoDataFrame(vbo, geometry = \"pos\")\n",
    "        grid = self.df\n",
    "#         grid['geometry'] = grid.geometry.apply(shapely.wkt.loads) # load geometry as shape\n",
    "        grid = gpd.GeoDataFrame(grid)\n",
    "        print(grid.shape)\n",
    "        # join each cbs row with a vbo that contains a vbo point\n",
    "        self.vbo_grid = gpd.tools.sjoin(vbopoints, grid, op = \"within\")\n",
    "\n",
    "        \n",
    "    def save_grid(self):\n",
    "        self.df.to_csv(\"../Data/presnap/grid/\" + self.city + \"_grid.csv\")\n",
    "        self.vbo_grid.to_csv(\"../Data/presnap/vbo/\" + self.city + \"_vbo.csv\")"
   ]
  },
  {
   "cell_type": "code",
   "execution_count": null,
   "metadata": {},
   "outputs": [],
   "source": [
    "with open(\"lists/to_grid.txt\", \"r+\") as f:\n",
    "    print(\"hi\")\n",
    "    while True:\n",
    "        print(\"hi\")\n",
    "        city = f.readline().strip(\"\\n\")\n",
    "        print(city)\n",
    "        if city == \"\":\n",
    "            break\n",
    "        else:\n",
    "            cg = city_grid( df, vierkant, city)\n",
    "            cg.create_union()\n",
    "            cg.create_grid()\n",
    "            cg.join_vbo(vbo)\n",
    "            cg.save_grid()\n",
    "            "
   ]
  },
  {
   "cell_type": "code",
   "execution_count": 13,
   "metadata": {
    "scrolled": false
   },
   "outputs": [
    {
     "name": "stderr",
     "output_type": "stream",
     "text": [
      "C:\\Users\\Gebruiker\\anaconda3\\lib\\site-packages\\pandas\\core\\generic.py:5516: SettingWithCopyWarning: \n",
      "A value is trying to be set on a copy of a slice from a DataFrame.\n",
      "Try using .loc[row_indexer,col_indexer] = value instead\n",
      "\n",
      "See the caveats in the documentation: https://pandas.pydata.org/pandas-docs/stable/user_guide/indexing.html#returning-a-view-versus-a-copy\n",
      "  self[name] = value\n"
     ]
    },
    {
     "data": {
      "image/png": "[encoded data removed]",
      "text/plain": [
       "<Figure size 432x288 with 1 Axes>"
      ]
     },
     "metadata": {
      "needs_background": "light"
     },
     "output_type": "display_data"
    }
   ],
   "source": [
    "cg = city_grid( df, vierkant, \"Heerenveen\")\n",
    "cg.create_union()\n"
   ]
  },
  {
   "cell_type": "code",
   "execution_count": 16,
   "metadata": {},
   "outputs": [
    {
     "data": {
      "text/html": [
       "<div>\n",
       "<style scoped>\n",
       "    .dataframe tbody tr th:only-of-type {\n",
       "        vertical-align: middle;\n",
       "    }\n",
       "\n",
       "    .dataframe tbody tr th {\n",
       "        vertical-align: top;\n",
       "    }\n",
       "\n",
       "    .dataframe thead th {\n",
       "        text-align: right;\n",
       "    }\n",
       "</style>\n",
       "<table border=\"1\" class=\"dataframe\">\n",
       "  <thead>\n",
       "    <tr style=\"text-align: right;\">\n",
       "      <th></th>\n",
       "      <th>woonplaats</th>\n",
       "      <th>geometry</th>\n",
       "    </tr>\n",
       "  </thead>\n",
       "  <tbody>\n",
       "    <tr>\n",
       "      <th>3581</th>\n",
       "      <td>Heerenveen</td>\n",
       "      <td>LINEARRING (182458.476 563558.647, 182461.194 ...</td>\n",
       "    </tr>\n",
       "    <tr>\n",
       "      <th>3582</th>\n",
       "      <td>Heerenveen</td>\n",
       "      <td>LINEARRING (182458.476 563558.647, 182461.194 ...</td>\n",
       "    </tr>\n",
       "    <tr>\n",
       "      <th>3583</th>\n",
       "      <td>Heerenveen</td>\n",
       "      <td>LINEARRING (182458.476 563558.647, 182461.194 ...</td>\n",
       "    </tr>\n",
       "    <tr>\n",
       "      <th>3584</th>\n",
       "      <td>Heerenveen</td>\n",
       "      <td>LINEARRING (182458.476 563558.647, 182461.194 ...</td>\n",
       "    </tr>\n",
       "    <tr>\n",
       "      <th>3585</th>\n",
       "      <td>Heerenveen</td>\n",
       "      <td>LINEARRING (182458.476 563558.647, 182461.194 ...</td>\n",
       "    </tr>\n",
       "    <tr>\n",
       "      <th>3586</th>\n",
       "      <td>Heerenveen</td>\n",
       "      <td>LINEARRING (182458.476 563558.647, 182461.194 ...</td>\n",
       "    </tr>\n",
       "    <tr>\n",
       "      <th>3587</th>\n",
       "      <td>Heerenveen</td>\n",
       "      <td>LINEARRING (182458.476 563558.647, 182461.194 ...</td>\n",
       "    </tr>\n",
       "    <tr>\n",
       "      <th>3588</th>\n",
       "      <td>Heerenveen</td>\n",
       "      <td>LINEARRING (191050.238 549728.535, 191086.414 ...</td>\n",
       "    </tr>\n",
       "  </tbody>\n",
       "</table>\n",
       "</div>"
      ],
      "text/plain": [
       "      woonplaats                                           geometry\n",
       "3581  Heerenveen  LINEARRING (182458.476 563558.647, 182461.194 ...\n",
       "3582  Heerenveen  LINEARRING (182458.476 563558.647, 182461.194 ...\n",
       "3583  Heerenveen  LINEARRING (182458.476 563558.647, 182461.194 ...\n",
       "3584  Heerenveen  LINEARRING (182458.476 563558.647, 182461.194 ...\n",
       "3585  Heerenveen  LINEARRING (182458.476 563558.647, 182461.194 ...\n",
       "3586  Heerenveen  LINEARRING (182458.476 563558.647, 182461.194 ...\n",
       "3587  Heerenveen  LINEARRING (182458.476 563558.647, 182461.194 ...\n",
       "3588  Heerenveen  LINEARRING (191050.238 549728.535, 191086.414 ..."
      ]
     },
     "execution_count": 16,
     "metadata": {},
     "output_type": "execute_result"
    }
   ],
   "source": [
    "cg.city_borders"
   ]
  },
  {
   "cell_type": "code",
   "execution_count": 15,
   "metadata": {},
   "outputs": [],
   "source": [
    "cg.border_fix(loc = [1747,1748])"
   ]
  },
  {
   "cell_type": "code",
   "execution_count": 17,
   "metadata": {
    "scrolled": true
   },
   "outputs": [
    {
     "name": "stdout",
     "output_type": "stream",
     "text": [
      "100.0%\r"
     ]
    }
   ],
   "source": [
    "cg.create_grid()"
   ]
  },
  {
   "cell_type": "code",
   "execution_count": 18,
   "metadata": {},
   "outputs": [
    {
     "name": "stdout",
     "output_type": "stream",
     "text": [
      "joining Heerenveen to vbo's\n",
      "(21538, 2)\n"
     ]
    }
   ],
   "source": [
    "cg.join_vbo(vbo)"
   ]
  },
  {
   "cell_type": "code",
   "execution_count": 19,
   "metadata": {},
   "outputs": [],
   "source": [
    "cg.save_grid()"
   ]
  },
  {
   "cell_type": "code",
   "execution_count": 22,
   "metadata": {},
   "outputs": [
    {
     "data": {
      "text/plain": [
       "'Tilburg'"
      ]
     },
     "execution_count": 22,
     "metadata": {},
     "output_type": "execute_result"
    }
   ],
   "source": [
    "cg.city"
   ]
  },
  {
   "cell_type": "code",
   "execution_count": 17,
   "metadata": {},
   "outputs": [
    {
     "ename": "AttributeError",
     "evalue": "'city_grid' object has no attribute 'geometry'",
     "output_type": "error",
     "traceback": [
      "\u001b[1;31m---------------------------------------------------------------------------\u001b[0m",
      "\u001b[1;31mAttributeError\u001b[0m                            Traceback (most recent call last)",
      "\u001b[1;32mC:\\Users\\GEBRUI~1\\AppData\\Local\\Temp/ipykernel_16020/2631864821.py\u001b[0m in \u001b[0;36m<module>\u001b[1;34m\u001b[0m\n\u001b[1;32m----> 1\u001b[1;33m \u001b[0mx\u001b[0m\u001b[1;33m,\u001b[0m \u001b[0my\u001b[0m \u001b[1;33m=\u001b[0m \u001b[0mcg\u001b[0m\u001b[1;33m.\u001b[0m\u001b[0mgeometry\u001b[0m\u001b[1;33m.\u001b[0m\u001b[0mxy\u001b[0m\u001b[1;33m\u001b[0m\u001b[1;33m\u001b[0m\u001b[0m\n\u001b[0m\u001b[0;32m      2\u001b[0m \u001b[0mplt\u001b[0m\u001b[1;33m.\u001b[0m\u001b[0mplot\u001b[0m\u001b[1;33m(\u001b[0m\u001b[0mx\u001b[0m\u001b[1;33m,\u001b[0m \u001b[0my\u001b[0m\u001b[1;33m)\u001b[0m\u001b[1;33m\u001b[0m\u001b[1;33m\u001b[0m\u001b[0m\n\u001b[0;32m      3\u001b[0m \u001b[0mxbox\u001b[0m\u001b[1;33m,\u001b[0m \u001b[0mybox\u001b[0m \u001b[1;33m=\u001b[0m \u001b[0mbox\u001b[0m\u001b[1;33m(\u001b[0m\u001b[1;33m*\u001b[0m\u001b[0mcreate_box\u001b[0m\u001b[1;33m(\u001b[0m\u001b[0mcg\u001b[0m\u001b[1;33m.\u001b[0m\u001b[0mgeometry\u001b[0m\u001b[1;33m.\u001b[0m\u001b[0mbounds\u001b[0m\u001b[1;33m,\u001b[0m \u001b[1;36m1000\u001b[0m\u001b[1;33m)\u001b[0m\u001b[1;33m)\u001b[0m\u001b[1;33m.\u001b[0m\u001b[0mexterior\u001b[0m\u001b[1;33m.\u001b[0m\u001b[0mxy\u001b[0m\u001b[1;33m\u001b[0m\u001b[1;33m\u001b[0m\u001b[0m\n\u001b[0;32m      4\u001b[0m \u001b[1;33m\u001b[0m\u001b[0m\n\u001b[0;32m      5\u001b[0m \u001b[0mplt\u001b[0m\u001b[1;33m.\u001b[0m\u001b[0mplot\u001b[0m\u001b[1;33m(\u001b[0m\u001b[0mxbox\u001b[0m\u001b[1;33m,\u001b[0m \u001b[0mybox\u001b[0m\u001b[1;33m)\u001b[0m\u001b[1;33m\u001b[0m\u001b[1;33m\u001b[0m\u001b[0m\n",
      "\u001b[1;31mAttributeError\u001b[0m: 'city_grid' object has no attribute 'geometry'"
     ]
    }
   ],
   "source": [
    "x, y = cg.geometry.xy\n",
    "plt.plot(x, y)\n",
    "xbox, ybox = box(*create_box(cg.geometry.bounds, 1000)).exterior.xy\n",
    "\n",
    "plt.plot(xbox, ybox)"
   ]
  }
 ],
 "metadata": {
  "kernelspec": {
   "display_name": "Python 3 (ipykernel)",
   "language": "python",
   "name": "python3"
  },
  "language_info": {
   "codemirror_mode": {
    "name": "ipython",
    "version": 3
   },
   "file_extension": ".py",
   "mimetype": "text/x-python",
   "name": "python",
   "nbconvert_exporter": "python",
   "pygments_lexer": "ipython3",
   "version": "3.7.11"
  }
 },
 "nbformat": 4,
 "nbformat_minor": 4
}
