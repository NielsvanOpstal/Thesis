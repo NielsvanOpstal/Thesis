{
 "cells": [
  {
   "cell_type": "code",
   "execution_count": 1,
   "metadata": {},
   "outputs": [],
   "source": [
    "import geopandas as gpd\n",
    "import pandas as pd\n",
    "from shapely.geometry.polygon import LinearRing\n",
    "from shapely.geometry import box, Polygon\n",
    "import time\n",
    "from shapely.geometry import asPoint\n",
    "import shapely.wkt\n",
    "import matplotlib.pyplot as plt"
   ]
  },
  {
   "cell_type": "code",
   "execution_count": 2,
   "metadata": {},
   "outputs": [],
   "source": [
    "def VBOCleaner(data):\n",
    "    print(data.shape)\n",
    "    \n",
    "    # only keep objects with id\n",
    "    data = data[data[\"identificatie\"].notna()]\n",
    "    print(data.shape)\n",
    "    \n",
    "    # only keep objects which are currently in use # CHECK of dit de juiste zijn\n",
    "    data = data[data.verblijfsobjectStatus.isin([\"Verblijfsobject gevormd\", \n",
    "                                                 \"Verblijfsobject in gebruik\",\n",
    "                                                 \"Verblijfsobject in gebruik (niet ingemeten)\"])]\n",
    "    data = data[data.pos.notna()]\n",
    "    print(data.shape)\n",
    "    \n",
    "    data[\"begindatumTijdvakGeldigheid\"] =  pd.to_datetime(data['begindatumTijdvakGeldigheid'], format='%Y%m%d%H%M%S%f', errors='coerce')\n",
    "    data[\"einddatumTijdvakGeldigheid\"] =  pd.to_datetime(data['einddatumTijdvakGeldigheid'], format='%Y%m%d%H%M%S%f', errors='coerce')\n",
    "    \n",
    "    def toPoint(pos):\n",
    "        return asPoint([float(i) for i in pos.split()[:2]])\n",
    "    data[\"pos\"] = data.pos.apply(toPoint)\n",
    "    \n",
    "    return data"
   ]
  },
  {
   "cell_type": "code",
   "execution_count": 3,
   "metadata": {},
   "outputs": [
    {
     "name": "stdout",
     "output_type": "stream",
     "text": [
      "(19501545, 7)\n",
      "(18918593, 7)\n",
      "(18386142, 7)\n"
     ]
    }
   ],
   "source": [
    "# # Load neccessary datasets\n",
    "vierkant = gpd.read_file(\"../Data/NLvierkant/NL_vierkant100m.shp\")\n",
    "df = pd.read_csv(\"woonplaats_grenzen.csv\" , sep = \";\")\n",
    "vbo = pd.read_csv(\"VBO.csv\", sep = \";\", encoding = \"utf-8\", na_values = \"NaN\", on_bad_lines = \"warn\")\n",
    "vbo = VBOCleaner(vbo)"
   ]
  },
  {
   "cell_type": "code",
   "execution_count": null,
   "metadata": {},
   "outputs": [],
   "source": []
  },
  {
   "cell_type": "code",
   "execution_count": 4,
   "metadata": {},
   "outputs": [],
   "source": [
    "class city_grid():\n",
    "    def __init__(self, city_borders, grid, city):\n",
    "        \n",
    "        # Select only the city_borders of wanted city and transform geometry (string) to geometry object\n",
    "        self.city_borders = city_borders[city_borders.woonplaats.str.contains(city)]\n",
    "        self.city_borders.geometry = self.city_borders.geometry.apply(shapely.wkt.loads)\n",
    "        \n",
    "        self.grid = grid\n",
    "        self.city = city\n",
    "        self.union = LinearRing()\n",
    "        self.df = gpd.GeoDataFrame()\n",
    "    \n",
    "    def border_fix(self, name = \"name\", loc = \"loc\"):\n",
    "        if name != \"name\":\n",
    "            self.city_borders =  self.city_borders[~self.city_borders.woonplaats.str.contains(name)]\n",
    "        elif loc != \"loc\":\n",
    "            self.city_borders = self.city_borders.drop(loc)\n",
    "    \n",
    "    def print_borders(self):\n",
    "        print(self.city_borders)\n",
    "    def create_union(self):\n",
    "        for _, i in self.city_borders.iterrows():\n",
    "            if not i.geometry.is_empty:\n",
    "                x, y = i.geometry.xy\n",
    "                self.union = self.union.union(i.geometry)\n",
    "                plt.plot(x, y)\n",
    "        plt.show()\n",
    "        \n",
    "    def create_grid(self):\n",
    "\n",
    "        def create_box(bounds, distance):\n",
    "            xmin, ymin, xmax, ymax = bounds\n",
    "            xmin -= distance\n",
    "            ymin -= distance\n",
    "            xmax += distance\n",
    "            ymax += distance\n",
    "\n",
    "            return xmin, ymin, xmax, ymax\n",
    "\n",
    "        boundbox = box(*create_box(self.union.bounds, 100))\n",
    "        self.bbox = boundbox    \n",
    "        tot = len(self.grid)\n",
    "        for i, v in self.grid.iterrows():\n",
    "            print(\"{0:.1f}%\".format((i / tot) * 100), end = \"\\r\")\n",
    "            if boundbox.contains(v.geometry):\n",
    "                self.df = self.df.append(v)\n",
    "                \n",
    "    def join_vbo(self, vbo):\n",
    "        print(\"joining {} to vbo's\".format(self.city))\n",
    "        vbopoints = gpd.GeoDataFrame(vbo, geometry = \"pos\")\n",
    "        grid = self.df\n",
    "#         grid['geometry'] = grid.geometry.apply(shapely.wkt.loads) # load geometry as shape\n",
    "        grid = gpd.GeoDataFrame(grid)\n",
    "        print(grid.shape)\n",
    "        # join each cbs row with a vbo that contains a vbo point\n",
    "        self.vbo_grid = gpd.tools.sjoin(vbopoints, grid, op = \"within\")\n",
    "\n",
    "        \n",
    "    def save_grid(self):\n",
    "        self.df.to_csv(\"../Data/presnap/grid/\" + self.city + \"_grid.csv\")\n",
    "        self.vbo_grid.to_csv(\"../Data/presnap/vbo/\" + self.city + \"_vbo.csv\")"
   ]
  },
  {
   "cell_type": "code",
   "execution_count": null,
   "metadata": {},
   "outputs": [],
   "source": [
    "with open(\"lists/to_grid.txt\", \"r+\") as f:\n",
    "    print(\"hi\")\n",
    "    while True:\n",
    "        print(\"hi\")\n",
    "        city = f.readline().strip(\"\\n\")\n",
    "        print(city)\n",
    "        if city == \"\":\n",
    "            break\n",
    "        else:\n",
    "            cg = city_grid( df, vierkant, city)\n",
    "            cg.create_union()\n",
    "            cg.create_grid()\n",
    "            cg.join_vbo(vbo)\n",
    "            cg.save_grid()\n",
    "            "
   ]
  },
  {
   "cell_type": "code",
   "execution_count": 9,
   "metadata": {
    "scrolled": false
   },
   "outputs": [
    {
     "data": {
      "image/png": "[encoded data removed]",
      "text/plain": [
       "<Figure size 432x288 with 1 Axes>"
      ]
     },
     "metadata": {
      "needs_background": "light"
     },
     "output_type": "display_data"
    }
   ],
   "source": [
    "# cg = city_grid( df, vierkant, \"Amsterdam\")\n",
    "cg.create_union()\n"
   ]
  },
  {
   "cell_type": "code",
   "execution_count": 8,
   "metadata": {},
   "outputs": [
    {
     "data": {
      "text/html": [
       "<div>\n",
       "<style scoped>\n",
       "    .dataframe tbody tr th:only-of-type {\n",
       "        vertical-align: middle;\n",
       "    }\n",
       "\n",
       "    .dataframe tbody tr th {\n",
       "        vertical-align: top;\n",
       "    }\n",
       "\n",
       "    .dataframe thead th {\n",
       "        text-align: right;\n",
       "    }\n",
       "</style>\n",
       "<table border=\"1\" class=\"dataframe\">\n",
       "  <thead>\n",
       "    <tr style=\"text-align: right;\">\n",
       "      <th></th>\n",
       "      <th>woonplaats</th>\n",
       "      <th>geometry</th>\n",
       "    </tr>\n",
       "  </thead>\n",
       "  <tbody>\n",
       "    <tr>\n",
       "      <th>25</th>\n",
       "      <td>Amsterdam</td>\n",
       "      <td>LINEARRING (116132.974 482300.26, 116149.018 4...</td>\n",
       "    </tr>\n",
       "    <tr>\n",
       "      <th>26</th>\n",
       "      <td>Amsterdam</td>\n",
       "      <td>LINEARRING (133164.494 492181.711, 133134.952 ...</td>\n",
       "    </tr>\n",
       "    <tr>\n",
       "      <th>27</th>\n",
       "      <td>Amsterdam</td>\n",
       "      <td>LINEARRING (133164.494 492181.711, 133134.952 ...</td>\n",
       "    </tr>\n",
       "    <tr>\n",
       "      <th>28</th>\n",
       "      <td>Amsterdam Zuidoost</td>\n",
       "      <td>LINEARRING (124507.62 481154.734, 124506.85 48...</td>\n",
       "    </tr>\n",
       "    <tr>\n",
       "      <th>29</th>\n",
       "      <td>Amsterdam Zuidoost</td>\n",
       "      <td>LINEARRING (124507.62 481154.734, 124506.85 48...</td>\n",
       "    </tr>\n",
       "    <tr>\n",
       "      <th>3651</th>\n",
       "      <td>Amsterdam-Duivendrecht</td>\n",
       "      <td>LINEARRING (123759.017 483272.856, 123736.31 4...</td>\n",
       "    </tr>\n",
       "    <tr>\n",
       "      <th>3652</th>\n",
       "      <td>Amsterdam-Duivendrecht</td>\n",
       "      <td>LINEARRING (124264.305 481671.198, 124248.461 ...</td>\n",
       "    </tr>\n",
       "  </tbody>\n",
       "</table>\n",
       "</div>"
      ],
      "text/plain": [
       "                  woonplaats  \\\n",
       "25                 Amsterdam   \n",
       "26                 Amsterdam   \n",
       "27                 Amsterdam   \n",
       "28        Amsterdam Zuidoost   \n",
       "29        Amsterdam Zuidoost   \n",
       "3651  Amsterdam-Duivendrecht   \n",
       "3652  Amsterdam-Duivendrecht   \n",
       "\n",
       "                                               geometry  \n",
       "25    LINEARRING (116132.974 482300.26, 116149.018 4...  \n",
       "26    LINEARRING (133164.494 492181.711, 133134.952 ...  \n",
       "27    LINEARRING (133164.494 492181.711, 133134.952 ...  \n",
       "28    LINEARRING (124507.62 481154.734, 124506.85 48...  \n",
       "29    LINEARRING (124507.62 481154.734, 124506.85 48...  \n",
       "3651  LINEARRING (123759.017 483272.856, 123736.31 4...  \n",
       "3652  LINEARRING (124264.305 481671.198, 124248.461 ...  "
      ]
     },
     "execution_count": 8,
     "metadata": {},
     "output_type": "execute_result"
    }
   ],
   "source": [
    "cg.city_borders"
   ]
  },
  {
   "cell_type": "code",
   "execution_count": 7,
   "metadata": {},
   "outputs": [],
   "source": [
    "cg.border_fix(loc = [1432, 3676])"
   ]
  },
  {
   "cell_type": "code",
   "execution_count": 40,
   "metadata": {
    "scrolled": false
   },
   "outputs": [
    {
     "name": "stdout",
     "output_type": "stream",
     "text": [
      "1.00\r"
     ]
    }
   ],
   "source": [
    "ams_square = gpd.GeoDataFrame()\n",
    "for c,i in vierkant.iterrows():\n",
    "    print(\"{:.2f}\".format(c/len(vierkant)), end = \"\\r\")\n",
    "    if i.geometry.within(cg.bbox):\n",
    "        ams_square.loc[:, len(ams_square)] = i\n"
   ]
  },
  {
   "cell_type": "code",
   "execution_count": 42,
   "metadata": {},
   "outputs": [
    {
     "data": {
      "text/plain": [
       "(2, 2)"
      ]
     },
     "execution_count": 42,
     "metadata": {},
     "output_type": "execute_result"
    }
   ],
   "source": [
    "ams_square.shape"
   ]
  },
  {
   "cell_type": "code",
   "execution_count": null,
   "metadata": {},
   "outputs": [],
   "source": [
    "cg.join_vbo(vbo)"
   ]
  },
  {
   "cell_type": "code",
   "execution_count": 19,
   "metadata": {},
   "outputs": [],
   "source": [
    "cg.save_grid()"
   ]
  },
  {
   "cell_type": "code",
   "execution_count": 11,
   "metadata": {},
   "outputs": [],
   "source": [
    "def create_box(bounds, distance):\n",
    "            xmin, ymin, xmax, ymax = bounds\n",
    "            xmin -= distance\n",
    "            ymin -= distance\n",
    "            xmax += distance\n",
    "            ymax += distance\n",
    "\n",
    "            return xmin, ymin, xmax, ymax"
   ]
  },
  {
   "cell_type": "code",
   "execution_count": 13,
   "metadata": {},
   "outputs": [
    {
     "data": {
      "text/plain": [
       "[<matplotlib.lines.Line2D at 0x118eeaec148>]"
      ]
     },
     "execution_count": 13,
     "metadata": {},
     "output_type": "execute_result"
    },
    {
     "data": {
      "image/png": "[encoded data removed]",
      "text/plain": [
       "<Figure size 432x288 with 1 Axes>"
      ]
     },
     "metadata": {
      "needs_background": "light"
     },
     "output_type": "display_data"
    }
   ],
   "source": [
    "x, y = cg.city_borders.iloc[0].geometry.xy\n",
    "plt.plot(x, y)\n",
    "xbox, ybox = box(*create_box(cg.city_borders.iloc[0].geometry.bounds, 1000)).exterior.xy\n",
    "\n",
    "plt.plot(xbox, ybox)"
   ]
  },
  {
   "cell_type": "code",
   "execution_count": 7,
   "metadata": {},
   "outputs": [
    {
     "data": {
      "text/html": [
       "<div>\n",
       "<style scoped>\n",
       "    .dataframe tbody tr th:only-of-type {\n",
       "        vertical-align: middle;\n",
       "    }\n",
       "\n",
       "    .dataframe tbody tr th {\n",
       "        vertical-align: top;\n",
       "    }\n",
       "\n",
       "    .dataframe thead th {\n",
       "        text-align: right;\n",
       "    }\n",
       "</style>\n",
       "<table border=\"1\" class=\"dataframe\">\n",
       "  <thead>\n",
       "    <tr style=\"text-align: right;\">\n",
       "      <th></th>\n",
       "      <th>gebruiksdoelVerblijfsobject</th>\n",
       "      <th>oppervlakteVerblijfsobject</th>\n",
       "      <th>verblijfsobjectStatus</th>\n",
       "      <th>begindatumTijdvakGeldigheid</th>\n",
       "      <th>einddatumTijdvakGeldigheid</th>\n",
       "      <th>identificatie</th>\n",
       "      <th>pos</th>\n",
       "    </tr>\n",
       "  </thead>\n",
       "  <tbody>\n",
       "    <tr>\n",
       "      <th>1</th>\n",
       "      <td>woonfunctie</td>\n",
       "      <td>72.0</td>\n",
       "      <td>Verblijfsobject in gebruik</td>\n",
       "      <td>2018-03-26</td>\n",
       "      <td>2018-04-04</td>\n",
       "      <td>1.883100e+15</td>\n",
       "      <td>POINT (188391.884 334586.439)</td>\n",
       "    </tr>\n",
       "    <tr>\n",
       "      <th>3</th>\n",
       "      <td>woonfunctie</td>\n",
       "      <td>69.0</td>\n",
       "      <td>Verblijfsobject in gebruik</td>\n",
       "      <td>2010-07-20</td>\n",
       "      <td>NaT</td>\n",
       "      <td>3.100000e+12</td>\n",
       "      <td>POINT (252769.565 593744.87)</td>\n",
       "    </tr>\n",
       "    <tr>\n",
       "      <th>4</th>\n",
       "      <td>woonfunctie</td>\n",
       "      <td>69.0</td>\n",
       "      <td>Verblijfsobject in gebruik</td>\n",
       "      <td>2010-07-20</td>\n",
       "      <td>NaT</td>\n",
       "      <td>3.100000e+12</td>\n",
       "      <td>POINT (252890 593697)</td>\n",
       "    </tr>\n",
       "    <tr>\n",
       "      <th>5</th>\n",
       "      <td>winkelfunctie</td>\n",
       "      <td>60.0</td>\n",
       "      <td>Verblijfsobject in gebruik</td>\n",
       "      <td>2008-03-20</td>\n",
       "      <td>2014-03-31</td>\n",
       "      <td>3.100000e+12</td>\n",
       "      <td>POINT (252890 593697)</td>\n",
       "    </tr>\n",
       "    <tr>\n",
       "      <th>6</th>\n",
       "      <td>winkelfunctie</td>\n",
       "      <td>164.0</td>\n",
       "      <td>Verblijfsobject in gebruik</td>\n",
       "      <td>2014-03-31</td>\n",
       "      <td>2014-05-08</td>\n",
       "      <td>3.100000e+12</td>\n",
       "      <td>POINT (252894.239 593698.471)</td>\n",
       "    </tr>\n",
       "    <tr>\n",
       "      <th>...</th>\n",
       "      <td>...</td>\n",
       "      <td>...</td>\n",
       "      <td>...</td>\n",
       "      <td>...</td>\n",
       "      <td>...</td>\n",
       "      <td>...</td>\n",
       "      <td>...</td>\n",
       "    </tr>\n",
       "    <tr>\n",
       "      <th>19501536</th>\n",
       "      <td>industriefunctie</td>\n",
       "      <td>1678.0</td>\n",
       "      <td>Verblijfsobject in gebruik (niet ingemeten)</td>\n",
       "      <td>2015-10-28</td>\n",
       "      <td>2018-02-08</td>\n",
       "      <td>9.571000e+14</td>\n",
       "      <td>POINT (195783.622 353657.113)</td>\n",
       "    </tr>\n",
       "    <tr>\n",
       "      <th>19501538</th>\n",
       "      <td>bijeenkomstfunctie</td>\n",
       "      <td>170.0</td>\n",
       "      <td>Verblijfsobject gevormd</td>\n",
       "      <td>2016-03-23</td>\n",
       "      <td>2018-02-08</td>\n",
       "      <td>9.571000e+14</td>\n",
       "      <td>POINT (198049.808 356330.331)</td>\n",
       "    </tr>\n",
       "    <tr>\n",
       "      <th>19501540</th>\n",
       "      <td>bijeenkomstfunctie</td>\n",
       "      <td>230.0</td>\n",
       "      <td>Verblijfsobject gevormd</td>\n",
       "      <td>2016-03-23</td>\n",
       "      <td>2018-02-08</td>\n",
       "      <td>9.571000e+14</td>\n",
       "      <td>POINT (198048.701 356313.161)</td>\n",
       "    </tr>\n",
       "    <tr>\n",
       "      <th>19501542</th>\n",
       "      <td>woonfunctie</td>\n",
       "      <td>427.0</td>\n",
       "      <td>Verblijfsobject gevormd</td>\n",
       "      <td>2012-08-22</td>\n",
       "      <td>2018-02-08</td>\n",
       "      <td>9.571000e+14</td>\n",
       "      <td>POINT (200290.765 360276.139)</td>\n",
       "    </tr>\n",
       "    <tr>\n",
       "      <th>19501544</th>\n",
       "      <td>woonfunctie</td>\n",
       "      <td>224.0</td>\n",
       "      <td>Verblijfsobject gevormd</td>\n",
       "      <td>2016-04-12</td>\n",
       "      <td>2017-10-05</td>\n",
       "      <td>5.600100e+15</td>\n",
       "      <td>POINT (196354.013 355718.594)</td>\n",
       "    </tr>\n",
       "  </tbody>\n",
       "</table>\n",
       "<p>18386142 rows × 7 columns</p>\n",
       "</div>"
      ],
      "text/plain": [
       "         gebruiksdoelVerblijfsobject  oppervlakteVerblijfsobject  \\\n",
       "1                        woonfunctie                        72.0   \n",
       "3                        woonfunctie                        69.0   \n",
       "4                        woonfunctie                        69.0   \n",
       "5                      winkelfunctie                        60.0   \n",
       "6                      winkelfunctie                       164.0   \n",
       "...                              ...                         ...   \n",
       "19501536            industriefunctie                      1678.0   \n",
       "19501538          bijeenkomstfunctie                       170.0   \n",
       "19501540          bijeenkomstfunctie                       230.0   \n",
       "19501542                 woonfunctie                       427.0   \n",
       "19501544                 woonfunctie                       224.0   \n",
       "\n",
       "                                verblijfsobjectStatus  \\\n",
       "1                          Verblijfsobject in gebruik   \n",
       "3                          Verblijfsobject in gebruik   \n",
       "4                          Verblijfsobject in gebruik   \n",
       "5                          Verblijfsobject in gebruik   \n",
       "6                          Verblijfsobject in gebruik   \n",
       "...                                               ...   \n",
       "19501536  Verblijfsobject in gebruik (niet ingemeten)   \n",
       "19501538                      Verblijfsobject gevormd   \n",
       "19501540                      Verblijfsobject gevormd   \n",
       "19501542                      Verblijfsobject gevormd   \n",
       "19501544                      Verblijfsobject gevormd   \n",
       "\n",
       "         begindatumTijdvakGeldigheid einddatumTijdvakGeldigheid  \\\n",
       "1                         2018-03-26                 2018-04-04   \n",
       "3                         2010-07-20                        NaT   \n",
       "4                         2010-07-20                        NaT   \n",
       "5                         2008-03-20                 2014-03-31   \n",
       "6                         2014-03-31                 2014-05-08   \n",
       "...                              ...                        ...   \n",
       "19501536                  2015-10-28                 2018-02-08   \n",
       "19501538                  2016-03-23                 2018-02-08   \n",
       "19501540                  2016-03-23                 2018-02-08   \n",
       "19501542                  2012-08-22                 2018-02-08   \n",
       "19501544                  2016-04-12                 2017-10-05   \n",
       "\n",
       "          identificatie                            pos  \n",
       "1          1.883100e+15  POINT (188391.884 334586.439)  \n",
       "3          3.100000e+12   POINT (252769.565 593744.87)  \n",
       "4          3.100000e+12          POINT (252890 593697)  \n",
       "5          3.100000e+12          POINT (252890 593697)  \n",
       "6          3.100000e+12  POINT (252894.239 593698.471)  \n",
       "...                 ...                            ...  \n",
       "19501536   9.571000e+14  POINT (195783.622 353657.113)  \n",
       "19501538   9.571000e+14  POINT (198049.808 356330.331)  \n",
       "19501540   9.571000e+14  POINT (198048.701 356313.161)  \n",
       "19501542   9.571000e+14  POINT (200290.765 360276.139)  \n",
       "19501544   5.600100e+15  POINT (196354.013 355718.594)  \n",
       "\n",
       "[18386142 rows x 7 columns]"
      ]
     },
     "execution_count": 7,
     "metadata": {},
     "output_type": "execute_result"
    }
   ],
   "source": [
    "vbo"
   ]
  }
 ],
 "metadata": {
  "kernelspec": {
   "display_name": "Python 3 (ipykernel)",
   "language": "python",
   "name": "python3"
  },
  "language_info": {
   "codemirror_mode": {
    "name": "ipython",
    "version": 3
   },
   "file_extension": ".py",
   "mimetype": "text/x-python",
   "name": "python",
   "nbconvert_exporter": "python",
   "pygments_lexer": "ipython3",
   "version": "3.7.11"
  }
 },
 "nbformat": 4,
 "nbformat_minor": 4
}
