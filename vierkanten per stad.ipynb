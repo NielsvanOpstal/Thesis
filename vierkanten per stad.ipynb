{
 "cells": [
  {
   "cell_type": "code",
   "execution_count": 4,
   "metadata": {},
   "outputs": [],
   "source": [
    "import geopandas as gpd\n",
    "import pandas as pd\n",
    "from shapely.geometry.polygon import LinearRing\n",
    "from shapely.geometry import box, Polygon\n",
    "import time\n",
    "import shapely.wkt\n",
    "import matplotlib.pyplot as plt"
   ]
  },
  {
   "cell_type": "code",
   "execution_count": 5,
   "metadata": {},
   "outputs": [],
   "source": [
    "# Load neccessary datasets\n",
    "vierkant = gpd.read_file(\"../Data/NLvierkant/NL_vierkant100m.shp\")\n",
    "df = pd.read_csv(\"woonplaats_grenzen.csv\" , sep = \";\")"
   ]
  },
  {
   "cell_type": "code",
   "execution_count": null,
   "metadata": {},
   "outputs": [],
   "source": []
  },
  {
   "cell_type": "code",
   "execution_count": 6,
   "metadata": {},
   "outputs": [],
   "source": [
    "class city_grid():\n",
    "    def __init__(self, city_borders, grid, city):\n",
    "        \n",
    "        # Select only the city_borders of wanted city and transform geometry (string) to geometry object\n",
    "        self.city_borders = city_borders[city_borders.woonplaats.str.contains(city)]\n",
    "        self.city_borders.geometry = self.city_borders.geometry.apply(shapely.wkt.loads)\n",
    "        \n",
    "        self.grid = grid\n",
    "        self.city = city\n",
    "        self.union = LinearRing()\n",
    "        self.df = gpd.GeoDataFrame()\n",
    "    \n",
    "    def border_fix(self, name):\n",
    "        self.city_borders =  self.city_borders[~self.city_borders.woonplaats.str.contains(name)]\n",
    "        \n",
    "    \n",
    "    def print_borders(self):\n",
    "        print(self.city_borders)\n",
    "    def create_union(self):\n",
    "        for _, i in self.city_borders.iterrows():\n",
    "            if not i.geometry.is_empty:\n",
    "                x, y = i.geometry.xy\n",
    "                self.union = self.union.union(i.geometry)\n",
    "                plt.plot(x, y)\n",
    "        plt.show()\n",
    "        \n",
    "    def create_grid(self):\n",
    "\n",
    "        def create_box(bounds, distance):\n",
    "            xmin, ymin, xmax, ymax = bounds\n",
    "            xmin -= distance\n",
    "            ymin -= distance\n",
    "            xmax += distance\n",
    "            ymax += distance\n",
    "\n",
    "            return xmin, ymin, xmax, ymax\n",
    "\n",
    "\n",
    "        boundbox = box(*create_box(self.union.bounds, 100))\n",
    "        \n",
    "        \n",
    "        tot = len(self.grid)\n",
    "        for i, v in self.grid.iterrows():\n",
    "            print(\"{0:.1f}%\".format((i / tot) * 100), end = \"\\r\")\n",
    "            if boundbox.contains(v.geometry):\n",
    "                self.df = self.df.append(v)\n",
    "        \n",
    "    def save_grid(self):\n",
    "        self.df.to_csv(self.city + \"_grid.csv\")"
   ]
  },
  {
   "cell_type": "code",
   "execution_count": 7,
   "metadata": {
    "scrolled": false
   },
   "outputs": [
    {
     "name": "stderr",
     "output_type": "stream",
     "text": [
      "C:\\Users\\Gebruiker\\anaconda3\\lib\\site-packages\\pandas\\core\\generic.py:5516: SettingWithCopyWarning: \n",
      "A value is trying to be set on a copy of a slice from a DataFrame.\n",
      "Try using .loc[row_indexer,col_indexer] = value instead\n",
      "\n",
      "See the caveats in the documentation: https://pandas.pydata.org/pandas-docs/stable/user_guide/indexing.html#returning-a-view-versus-a-copy\n",
      "  self[name] = value\n"
     ]
    },
    {
     "data": {
      "image/png": "[encoded data removed]",
      "text/plain": [
       "<Figure size 432x288 with 1 Axes>"
      ]
     },
     "metadata": {
      "needs_background": "light"
     },
     "output_type": "display_data"
    }
   ],
   "source": [
    "cg = city_grid( df, vierkant, \"Apeldoorn\")\n",
    "cg.create_union()\n"
   ]
  },
  {
   "cell_type": "code",
   "execution_count": 8,
   "metadata": {},
   "outputs": [
    {
     "name": "stdout",
     "output_type": "stream",
     "text": [
      "100.0%\r"
     ]
    }
   ],
   "source": [
    "cg.create_grid()"
   ]
  },
  {
   "cell_type": "code",
   "execution_count": 9,
   "metadata": {},
   "outputs": [],
   "source": [
    "cg.save_grid()"
   ]
  },
  {
   "cell_type": "code",
   "execution_count": 22,
   "metadata": {},
   "outputs": [
    {
     "data": {
      "text/plain": [
       "'Tilburg'"
      ]
     },
     "execution_count": 22,
     "metadata": {},
     "output_type": "execute_result"
    }
   ],
   "source": [
    "cg.city"
   ]
  },
  {
   "cell_type": "code",
   "execution_count": 17,
   "metadata": {},
   "outputs": [
    {
     "ename": "AttributeError",
     "evalue": "'city_grid' object has no attribute 'geometry'",
     "output_type": "error",
     "traceback": [
      "\u001b[1;31m---------------------------------------------------------------------------\u001b[0m",
      "\u001b[1;31mAttributeError\u001b[0m                            Traceback (most recent call last)",
      "\u001b[1;32mC:\\Users\\GEBRUI~1\\AppData\\Local\\Temp/ipykernel_16020/2631864821.py\u001b[0m in \u001b[0;36m<module>\u001b[1;34m\u001b[0m\n\u001b[1;32m----> 1\u001b[1;33m \u001b[0mx\u001b[0m\u001b[1;33m,\u001b[0m \u001b[0my\u001b[0m \u001b[1;33m=\u001b[0m \u001b[0mcg\u001b[0m\u001b[1;33m.\u001b[0m\u001b[0mgeometry\u001b[0m\u001b[1;33m.\u001b[0m\u001b[0mxy\u001b[0m\u001b[1;33m\u001b[0m\u001b[1;33m\u001b[0m\u001b[0m\n\u001b[0m\u001b[0;32m      2\u001b[0m \u001b[0mplt\u001b[0m\u001b[1;33m.\u001b[0m\u001b[0mplot\u001b[0m\u001b[1;33m(\u001b[0m\u001b[0mx\u001b[0m\u001b[1;33m,\u001b[0m \u001b[0my\u001b[0m\u001b[1;33m)\u001b[0m\u001b[1;33m\u001b[0m\u001b[1;33m\u001b[0m\u001b[0m\n\u001b[0;32m      3\u001b[0m \u001b[0mxbox\u001b[0m\u001b[1;33m,\u001b[0m \u001b[0mybox\u001b[0m \u001b[1;33m=\u001b[0m \u001b[0mbox\u001b[0m\u001b[1;33m(\u001b[0m\u001b[1;33m*\u001b[0m\u001b[0mcreate_box\u001b[0m\u001b[1;33m(\u001b[0m\u001b[0mcg\u001b[0m\u001b[1;33m.\u001b[0m\u001b[0mgeometry\u001b[0m\u001b[1;33m.\u001b[0m\u001b[0mbounds\u001b[0m\u001b[1;33m,\u001b[0m \u001b[1;36m1000\u001b[0m\u001b[1;33m)\u001b[0m\u001b[1;33m)\u001b[0m\u001b[1;33m.\u001b[0m\u001b[0mexterior\u001b[0m\u001b[1;33m.\u001b[0m\u001b[0mxy\u001b[0m\u001b[1;33m\u001b[0m\u001b[1;33m\u001b[0m\u001b[0m\n\u001b[0;32m      4\u001b[0m \u001b[1;33m\u001b[0m\u001b[0m\n\u001b[0;32m      5\u001b[0m \u001b[0mplt\u001b[0m\u001b[1;33m.\u001b[0m\u001b[0mplot\u001b[0m\u001b[1;33m(\u001b[0m\u001b[0mxbox\u001b[0m\u001b[1;33m,\u001b[0m \u001b[0mybox\u001b[0m\u001b[1;33m)\u001b[0m\u001b[1;33m\u001b[0m\u001b[1;33m\u001b[0m\u001b[0m\n",
      "\u001b[1;31mAttributeError\u001b[0m: 'city_grid' object has no attribute 'geometry'"
     ]
    }
   ],
   "source": [
    "x, y = cg.geometry.xy\n",
    "plt.plot(x, y)\n",
    "xbox, ybox = box(*create_box(cg.geometry.bounds, 1000)).exterior.xy\n",
    "\n",
    "plt.plot(xbox, ybox)"
   ]
  }
 ],
 "metadata": {
  "kernelspec": {
   "display_name": "Python 3 (ipykernel)",
   "language": "python",
   "name": "python3"
  },
  "language_info": {
   "codemirror_mode": {
    "name": "ipython",
    "version": 3
   },
   "file_extension": ".py",
   "mimetype": "text/x-python",
   "name": "python",
   "nbconvert_exporter": "python",
   "pygments_lexer": "ipython3",
   "version": "3.7.11"
  }
 },
 "nbformat": 4,
 "nbformat_minor": 4
}
