{
 "cells": [
  {
   "cell_type": "code",
   "execution_count": 1,
   "id": "1c02a9b6",
   "metadata": {},
   "outputs": [],
   "source": [
    "import pandas as pd\n",
    "import shapely\n",
    "import geopandas as gpd\n",
    "import string\n",
    "from shapely.geometry import Point, Polygon\n"
   ]
  },
  {
   "cell_type": "code",
   "execution_count": 2,
   "id": "0291f4da",
   "metadata": {},
   "outputs": [
    {
     "name": "stderr",
     "output_type": "stream",
     "text": [
      "b'Skipping line 533308: expected 11 fields, saw 12\\nSkipping line 542302: expected 11 fields, saw 12\\nSkipping line 546913: expected 11 fields, saw 12\\n'\n",
      "b'Skipping line 2402168: expected 11 fields, saw 12\\n'\n",
      "b'Skipping line 6122630: expected 11 fields, saw 12\\n'\n",
      "b'Skipping line 6511403: expected 11 fields, saw 12\\nSkipping line 6511405: expected 11 fields, saw 12\\nSkipping line 6513243: expected 11 fields, saw 12\\nSkipping line 6526419: expected 11 fields, saw 12\\nSkipping line 6532284: expected 11 fields, saw 12\\nSkipping line 6539521: expected 11 fields, saw 12\\nSkipping line 6544341: expected 11 fields, saw 12\\nSkipping line 6547862: expected 11 fields, saw 12\\nSkipping line 6549397: expected 11 fields, saw 12\\nSkipping line 6550250: expected 11 fields, saw 12\\nSkipping line 6550252: expected 11 fields, saw 12\\n'\n",
      "b'Skipping line 6553782: expected 11 fields, saw 12\\nSkipping line 6554368: expected 11 fields, saw 12\\nSkipping line 6554878: expected 11 fields, saw 12\\nSkipping line 6555323: expected 11 fields, saw 12\\n'\n",
      "b'Skipping line 7256241: expected 11 fields, saw 12\\n'\n",
      "b'Skipping line 7872596: expected 11 fields, saw 12\\n'\n",
      "b'Skipping line 8565248: expected 11 fields, saw 12\\n'\n",
      "b'Skipping line 10112772: expected 11 fields, saw 12\\n'\n",
      "b'Skipping line 10359785: expected 11 fields, saw 12\\n'\n",
      "b'Skipping line 10966916: expected 11 fields, saw 12\\n'\n",
      "b'Skipping line 11791232: expected 11 fields, saw 12\\n'\n",
      "b'Skipping line 12346290: expected 11 fields, saw 12\\n'\n",
      "b'Skipping line 13443508: expected 11 fields, saw 12\\n'\n",
      "b'Skipping line 13507685: expected 11 fields, saw 12\\n'\n",
      "b'Skipping line 13765735: expected 11 fields, saw 12\\n'\n",
      "b'Skipping line 16733757: expected 11 fields, saw 12\\n'\n",
      "b'Skipping line 16955601: expected 11 fields, saw 12\\n'\n",
      "C:\\Users\\Gebruiker\\anaconda3\\lib\\site-packages\\IPython\\core\\interactiveshell.py:3441: DtypeWarning: Columns (0,2,3,6) have mixed types.Specify dtype option on import or set low_memory=False.\n",
      "  exec(code_obj, self.user_global_ns, self.user_ns)\n"
     ]
    }
   ],
   "source": [
    "pand = pd.read_csv(\"PAND.csv\", sep = \";\", encoding = \"utf-8\", na_values = \"NaN\", on_bad_lines = \"warn\")"
   ]
  },
  {
   "cell_type": "code",
   "execution_count": 171,
   "id": "abcf2cd7",
   "metadata": {},
   "outputs": [],
   "source": [
    "def pandCleaner(data):\n",
    "    data = data[data[\"identificatie\"].notna()]\n",
    "    data = data[data.posList.notna()]\n",
    "    data = data[data.pandstatus.isin([\"Pand in gebruik\"])]\n",
    "    data = data[data[\"aanduidingRecordInactief\"] == \"N\"]\n",
    "\n",
    "    data = data[data.bouwjaar.astype(int) < 2022]\n",
    "    data.loc[data.bouwjaar.astype(int) < 1700, \"bouwjaar\"] = 1700\n",
    "    \n",
    "    data.begindatumTijdvakGeldigheid = data.begindatumTijdvakGeldigheid.apply(lambda x: str(x)[:8])\n",
    "    data.einddatumTijdvakGeldigheid = data.einddatumTijdvakGeldigheid.apply(lambda x: str(x)[:8])\n",
    "    \n",
    "    data.loc[data.begindatumTijdvakGeldigheid.isna(), \"begindatumTijdvakGeldigheid\"] = data[data.begindatumTijdvakGeldigheid.isna()][\"bouwjaar\"].astype(int).astype(str) +\"0101\"\n",
    "    \n",
    "    \n",
    "    data[\"begindatumTijdvakGeldigheid\"] =  pd.to_datetime(data['begindatumTijdvakGeldigheid'], errors='coerce', format = \"%Y%m%d\")\n",
    "    data[\"einddatumTijdvakGeldigheid\"] =  pd.to_datetime(data['einddatumTijdvakGeldigheid'], errors='coerce', format = \"%Y%m%d\")\n",
    "    \n",
    "    data.drop_duplicates(\"identificatie\", inplace = True)\n",
    "    return data"
   ]
  },
  {
   "cell_type": "code",
   "execution_count": 172,
   "id": "056a4808",
   "metadata": {},
   "outputs": [],
   "source": [
    "p = pandCleaner(pand)"
   ]
  },
  {
   "cell_type": "code",
   "execution_count": 173,
   "id": "e12c4d24",
   "metadata": {},
   "outputs": [],
   "source": [
    "def pand_polygoner(inp):\n",
    "    \"\"\"\n",
    "    Use as:\n",
    "    can be used for pandas.apply function\n",
    "    input: column containting string of polygons with x y z x y z etc\n",
    "    output: polygons\n",
    "    \"\"\"\n",
    "    total = []\n",
    "    poly = []\n",
    "    for i,n in enumerate(inp.split()):\n",
    "        i += 1\n",
    "        poly.append(float(n))\n",
    "        \n",
    "        if i % 3 == 0:\n",
    "            total.append(poly)\n",
    "            poly = [] \n",
    "            \n",
    "    return Polygon(total)"
   ]
  },
  {
   "cell_type": "code",
   "execution_count": 174,
   "id": "6c843e56",
   "metadata": {
    "scrolled": true
   },
   "outputs": [],
   "source": [
    "p[\"geometry\"] = p.posList.apply(pand_polygoner)"
   ]
  },
  {
   "cell_type": "code",
   "execution_count": 176,
   "id": "9b1f5ec0",
   "metadata": {},
   "outputs": [],
   "source": [
    "p.to_csv(\"pand_cleaned.csv\", sep = \";\")"
   ]
  },
  {
   "cell_type": "code",
   "execution_count": 178,
   "id": "50431a10",
   "metadata": {},
   "outputs": [
    {
     "data": {
      "text/plain": [
       "10514893"
      ]
     },
     "execution_count": 178,
     "metadata": {},
     "output_type": "execute_result"
    }
   ],
   "source": [
    "p.identificatie.nunique()"
   ]
  },
  {
   "cell_type": "code",
   "execution_count": 22,
   "id": "ab9d3fe1",
   "metadata": {},
   "outputs": [],
   "source": [
    "df = gpd.GeoDataFrame(p)"
   ]
  },
  {
   "cell_type": "code",
   "execution_count": 113,
   "id": "0349dbdd",
   "metadata": {},
   "outputs": [],
   "source": [
    "import matplotlib.pyplot as plt"
   ]
  },
  {
   "cell_type": "code",
   "execution_count": 170,
   "id": "acf83279",
   "metadata": {
    "scrolled": true
   },
   "outputs": [
    {
     "data": {
      "text/plain": [
       "(3760925, 11)"
      ]
     },
     "execution_count": 170,
     "metadata": {},
     "output_type": "execute_result"
    }
   ],
   "source": [
    "dubbel.shape"
   ]
  },
  {
   "cell_type": "code",
   "execution_count": 169,
   "id": "d9a93ddc",
   "metadata": {
    "scrolled": false
   },
   "outputs": [
    {
     "name": "stdout",
     "output_type": "stream",
     "text": [
      "171100000006203 1997.0 1997-09-09 00:00:00 NaT\n",
      "171100000006203 1984.0 1984-05-21 00:00:00 2014-09-16 00:00:00\n",
      "171100000006203 1984.0 2014-09-16 00:00:00 2019-09-06 00:00:00\n"
     ]
    },
    {
     "name": "stderr",
     "output_type": "stream",
     "text": [
      "C:\\Users\\Gebruiker\\anaconda3\\lib\\site-packages\\ipykernel_launcher.py:4: SettingWithCopyWarning: \n",
      "A value is trying to be set on a copy of a slice from a DataFrame.\n",
      "Try using .loc[row_indexer,col_indexer] = value instead\n",
      "\n",
      "See the caveats in the documentation: https://pandas.pydata.org/pandas-docs/stable/user_guide/indexing.html#returning-a-view-versus-a-copy\n",
      "  after removing the cwd from sys.path.\n"
     ]
    },
    {
     "data": {
      "image/png": "[encoded data removed]",
      "text/plain": [
       "<Figure size 432x288 with 1 Axes>"
      ]
     },
     "metadata": {
      "needs_background": "light"
     },
     "output_type": "display_data"
    },
    {
     "name": "stdout",
     "output_type": "stream",
     "text": [
      "171100000006220 1957.0 1956-03-08 00:00:00 NaT\n",
      "171100000006220 1994.0 1994-10-24 00:00:00 2017-11-20 00:00:00\n"
     ]
    },
    {
     "data": {
      "image/png": "[encoded data removed]",
      "text/plain": [
       "<Figure size 432x288 with 1 Axes>"
      ]
     },
     "metadata": {
      "needs_background": "light"
     },
     "output_type": "display_data"
    },
    {
     "name": "stdout",
     "output_type": "stream",
     "text": [
      "171100000006226 2006.0 2004-11-15 00:00:00 NaT\n",
      "171100000006226 2004.0 2002-08-20 00:00:00 2012-10-05 00:00:00\n"
     ]
    },
    {
     "data": {
      "image/png": "[encoded data removed]",
      "text/plain": [
       "<Figure size 432x288 with 1 Axes>"
      ]
     },
     "metadata": {
      "needs_background": "light"
     },
     "output_type": "display_data"
    },
    {
     "name": "stdout",
     "output_type": "stream",
     "text": [
      "171100000006236 1998.0 1998-01-27 00:00:00 NaT\n",
      "171100000006236 1951.0 1950-08-25 00:00:00 2018-04-19 00:00:00\n"
     ]
    },
    {
     "data": {
      "image/png": "[encoded data removed]",
      "text/plain": [
       "<Figure size 432x288 with 1 Axes>"
      ]
     },
     "metadata": {
      "needs_background": "light"
     },
     "output_type": "display_data"
    },
    {
     "name": "stdout",
     "output_type": "stream",
     "text": [
      "171100000006237 1951.0 2018-04-19 00:00:00 NaT\n",
      "171100000006237 1975.0 1975-05-01 00:00:00 2011-07-18 00:00:00\n"
     ]
    },
    {
     "data": {
      "image/png": "[encoded data removed]",
      "text/plain": [
       "<Figure size 432x288 with 1 Axes>"
      ]
     },
     "metadata": {
      "needs_background": "light"
     },
     "output_type": "display_data"
    }
   ],
   "source": [
    "f = 500000\n",
    "for i in range(f, f+5):\n",
    "    a = p[p.identificatie == dubbel.identificatie.iloc[i]]\n",
    "    a[\"geometry\"] = a.posList.apply(pand_polygoner)\n",
    "    for _, i in a.iterrows():\n",
    "        print(int(i.identificatie), i.bouwjaar, i.begindatumTijdvakGeldigheid, i.einddatumTijdvakGeldigheid)\n",
    "        plt.plot(*i.geometry.exterior.xy)\n",
    "    plt.show()"
   ]
  },
  {
   "cell_type": "code",
   "execution_count": 165,
   "id": "2a662134",
   "metadata": {},
   "outputs": [
    {
     "data": {
      "text/plain": [
       "array(['Pand in gebruik'], dtype=object)"
      ]
     },
     "execution_count": 165,
     "metadata": {},
     "output_type": "execute_result"
    }
   ],
   "source": [
    "dubbel.pandstatus.unique()"
   ]
  },
  {
   "cell_type": "code",
   "execution_count": 150,
   "id": "a709b0cb",
   "metadata": {},
   "outputs": [
    {
     "name": "stdout",
     "output_type": "stream",
     "text": [
      "bouwjaar                                                                  1995.0\n",
      "pandstatus                                                       Pand in gebruik\n",
      "begindatumTijdvakGeldigheid                                  1994-12-19 00:00:00\n",
      "einddatumTijdvakGeldigheid                                                   NaT\n",
      "inOnderzoek                                                                    N\n",
      "documentdatum                                                         19941219.0\n",
      "documentnummer                                                            139/94\n",
      "identificatie                                                    3100000117504.0\n",
      "aanduidingRecordInactief                                                       N\n",
      "officieel                                                                      N\n",
      "posList                        254173.876 593396.885 0.0 254173.334 593393.19...\n",
      "geometry                       POLYGON Z ((254173.876 593396.885 0, 254173.33...\n",
      "Name: 20, dtype: object\n",
      "bouwjaar                                                                  1970.0\n",
      "pandstatus                                                       Pand in gebruik\n",
      "begindatumTijdvakGeldigheid                                  2010-07-20 00:00:00\n",
      "einddatumTijdvakGeldigheid                                   2013-03-01 00:00:00\n",
      "inOnderzoek                                                                    N\n",
      "documentdatum                                                         20100720.0\n",
      "documentnummer                                                 FB 2010/PANDEN001\n",
      "identificatie                                                    3100000117504.0\n",
      "aanduidingRecordInactief                                                       N\n",
      "officieel                                                                      N\n",
      "posList                        254173.876 593396.885 0.0 254173.334 593393.19...\n",
      "geometry                       POLYGON Z ((254173.876 593396.885 0, 254173.33...\n",
      "Name: 21, dtype: object\n"
     ]
    }
   ],
   "source": [
    "def tokeepornottokeep(inp):\n",
    "    b = 0\n",
    "    e = 0\n",
    "    for c, i in inp.iterrows():\n",
    "        \n",
    "        print(i)\n",
    "        if b == 0:\n",
    "            b = i.begindatumTijdvakGeldigheid\n",
    "            e = i.einddatumTijdvakGeldigheid\n",
    "            if i.begindatumTijdvakGeldigheid == b and i.einddatumTijdvakGeldigheid == \"NaT\":\n",
    "                print(\"goan\", i.begindatumTijdvakGeldigheid)\n",
    "            elif i.begindatumTijdvakGeldigheid == b and not i.einddatumTijdvakGeldigheid == \"NaT\":\n",
    "                print(\"wegermee\", i.begindatumTijdvakGeldigheid == b and i.begindatumTijdvakGeldigheid == \"NaT\")\n",
    "                \n",
    "            elif i.begindatumTijdvakGeldigheid > b\n",
    "tokeepornottokeep(a)        "
   ]
  },
  {
   "cell_type": "code",
   "execution_count": 27,
   "id": "1cb2a148",
   "metadata": {},
   "outputs": [],
   "source": [
    "df = df[df.aanduidingRecordInactief == \"N\"]"
   ]
  },
  {
   "cell_type": "code",
   "execution_count": 33,
   "id": "cf6169ba",
   "metadata": {},
   "outputs": [],
   "source": [
    "df = df.drop([\"pandstatus\", \"inOnderzoek\", \"documentdatum\", \"documentnummer\", \"aanduidingRecordInactief\", \"officieel\", \"posList\"], axis = 1)"
   ]
  },
  {
   "cell_type": "code",
   "execution_count": 36,
   "id": "6fdfeb0e",
   "metadata": {},
   "outputs": [],
   "source": [
    "df.to_csv(\"pand_cleaned.csv\", sep = \";\")"
   ]
  },
  {
   "cell_type": "code",
   "execution_count": 110,
   "id": "5ee6c23e",
   "metadata": {},
   "outputs": [
    {
     "name": "stderr",
     "output_type": "stream",
     "text": [
      "ERROR:shapely.geos:IllegalArgumentException: Points of LinearRing do not form a closed linestring\n"
     ]
    },
    {
     "ename": "WKTReadingError",
     "evalue": "Could not create geometry because of errors while reading input.",
     "output_type": "error",
     "traceback": [
      "\u001b[1;31m---------------------------------------------------------------------------\u001b[0m",
      "\u001b[1;31mWKTReadingError\u001b[0m                           Traceback (most recent call last)",
      "\u001b[1;32mC:\\Users\\GEBRUI~1\\AppData\\Local\\Temp/ipykernel_5920/3873502343.py\u001b[0m in \u001b[0;36m<module>\u001b[1;34m\u001b[0m\n\u001b[1;32m----> 1\u001b[1;33m \u001b[0mshapely\u001b[0m\u001b[1;33m.\u001b[0m\u001b[0mwkt\u001b[0m\u001b[1;33m.\u001b[0m\u001b[0mloads\u001b[0m\u001b[1;33m(\u001b[0m\u001b[0mpol\u001b[0m\u001b[1;33m)\u001b[0m\u001b[1;33m\u001b[0m\u001b[1;33m\u001b[0m\u001b[0m\n\u001b[0m\u001b[0;32m      2\u001b[0m \u001b[0mprint\u001b[0m\u001b[1;33m(\u001b[0m\u001b[0mP\u001b[0m\u001b[1;33m)\u001b[0m\u001b[1;33m\u001b[0m\u001b[1;33m\u001b[0m\u001b[0m\n",
      "\u001b[1;32m~\\anaconda3\\lib\\site-packages\\shapely\\wkt.py\u001b[0m in \u001b[0;36mloads\u001b[1;34m(data)\u001b[0m\n\u001b[0;32m      8\u001b[0m \u001b[1;32mdef\u001b[0m \u001b[0mloads\u001b[0m\u001b[1;33m(\u001b[0m\u001b[0mdata\u001b[0m\u001b[1;33m)\u001b[0m\u001b[1;33m:\u001b[0m\u001b[1;33m\u001b[0m\u001b[1;33m\u001b[0m\u001b[0m\n\u001b[0;32m      9\u001b[0m     \u001b[1;34m\"\"\"Load a geometry from a WKT string.\"\"\"\u001b[0m\u001b[1;33m\u001b[0m\u001b[1;33m\u001b[0m\u001b[0m\n\u001b[1;32m---> 10\u001b[1;33m     \u001b[1;32mreturn\u001b[0m \u001b[0mgeos\u001b[0m\u001b[1;33m.\u001b[0m\u001b[0mWKTReader\u001b[0m\u001b[1;33m(\u001b[0m\u001b[0mgeos\u001b[0m\u001b[1;33m.\u001b[0m\u001b[0mlgeos\u001b[0m\u001b[1;33m)\u001b[0m\u001b[1;33m.\u001b[0m\u001b[0mread\u001b[0m\u001b[1;33m(\u001b[0m\u001b[0mdata\u001b[0m\u001b[1;33m)\u001b[0m\u001b[1;33m\u001b[0m\u001b[1;33m\u001b[0m\u001b[0m\n\u001b[0m\u001b[0;32m     11\u001b[0m \u001b[1;33m\u001b[0m\u001b[0m\n\u001b[0;32m     12\u001b[0m \u001b[1;32mdef\u001b[0m \u001b[0mload\u001b[0m\u001b[1;33m(\u001b[0m\u001b[0mfp\u001b[0m\u001b[1;33m)\u001b[0m\u001b[1;33m:\u001b[0m\u001b[1;33m\u001b[0m\u001b[1;33m\u001b[0m\u001b[0m\n",
      "\u001b[1;32m~\\anaconda3\\lib\\site-packages\\shapely\\geos.py\u001b[0m in \u001b[0;36mread\u001b[1;34m(self, text)\u001b[0m\n\u001b[0;32m    252\u001b[0m         \u001b[1;32mif\u001b[0m \u001b[1;32mnot\u001b[0m \u001b[0mgeom\u001b[0m\u001b[1;33m:\u001b[0m\u001b[1;33m\u001b[0m\u001b[1;33m\u001b[0m\u001b[0m\n\u001b[0;32m    253\u001b[0m             raise WKTReadingError(\n\u001b[1;32m--> 254\u001b[1;33m                 \u001b[1;34m\"Could not create geometry because of errors \"\u001b[0m\u001b[1;33m\u001b[0m\u001b[1;33m\u001b[0m\u001b[0m\n\u001b[0m\u001b[0;32m    255\u001b[0m                 \"while reading input.\")\n\u001b[0;32m    256\u001b[0m         \u001b[1;31m# avoid circular import dependency\u001b[0m\u001b[1;33m\u001b[0m\u001b[1;33m\u001b[0m\u001b[1;33m\u001b[0m\u001b[0m\n",
      "\u001b[1;31mWKTReadingError\u001b[0m: Could not create geometry because of errors while reading input."
     ]
    }
   ],
   "source": [
    "shapely.wkt.loads(pol)\n",
    "print(P)"
   ]
  },
  {
   "cell_type": "code",
   "execution_count": 41,
   "id": "9af0e101",
   "metadata": {},
   "outputs": [],
   "source": [
    "pandje = pandje.rename(columns = {\"posList\": \"geometry\"})\n",
    "pandje = gpd.GeoDataFrame(pandje)"
   ]
  },
  {
   "cell_type": "code",
   "execution_count": 11,
   "id": "4a246693",
   "metadata": {},
   "outputs": [
    {
     "data": {
      "text/html": [
       "<div>\n",
       "<style scoped>\n",
       "    .dataframe tbody tr th:only-of-type {\n",
       "        vertical-align: middle;\n",
       "    }\n",
       "\n",
       "    .dataframe tbody tr th {\n",
       "        vertical-align: top;\n",
       "    }\n",
       "\n",
       "    .dataframe thead th {\n",
       "        text-align: right;\n",
       "    }\n",
       "</style>\n",
       "<table border=\"1\" class=\"dataframe\">\n",
       "  <thead>\n",
       "    <tr style=\"text-align: right;\">\n",
       "      <th></th>\n",
       "      <th>bouwjaar</th>\n",
       "      <th>pandstatus</th>\n",
       "      <th>begindatumTijdvakGeldigheid</th>\n",
       "      <th>einddatumTijdvakGeldigheid</th>\n",
       "      <th>inOnderzoek</th>\n",
       "      <th>documentdatum</th>\n",
       "      <th>documentnummer</th>\n",
       "      <th>identificatie</th>\n",
       "      <th>aanduidingRecordInactief</th>\n",
       "      <th>officieel</th>\n",
       "      <th>posList</th>\n",
       "    </tr>\n",
       "  </thead>\n",
       "  <tbody>\n",
       "    <tr>\n",
       "      <th>1</th>\n",
       "      <td>1991.0</td>\n",
       "      <td>Pand in gebruik</td>\n",
       "      <td>NaT</td>\n",
       "      <td>NaT</td>\n",
       "      <td>N</td>\n",
       "      <td>20100720.0</td>\n",
       "      <td>FB 2010/PANDEN001</td>\n",
       "      <td>3.100000e+12</td>\n",
       "      <td>N</td>\n",
       "      <td>N</td>\n",
       "      <td>253822.701 593455.662 0.0 253826.352 593500.0 ...</td>\n",
       "    </tr>\n",
       "    <tr>\n",
       "      <th>2</th>\n",
       "      <td>1970.0</td>\n",
       "      <td>Pand in gebruik</td>\n",
       "      <td>NaT</td>\n",
       "      <td>NaT</td>\n",
       "      <td>N</td>\n",
       "      <td>20100720.0</td>\n",
       "      <td>FB 2010/PANDEN001</td>\n",
       "      <td>3.100000e+12</td>\n",
       "      <td>N</td>\n",
       "      <td>N</td>\n",
       "      <td>249943.307 593511.272 0.0 249948.555 593512.79...</td>\n",
       "    </tr>\n",
       "    <tr>\n",
       "      <th>3</th>\n",
       "      <td>1994.0</td>\n",
       "      <td>Pand in gebruik</td>\n",
       "      <td>NaT</td>\n",
       "      <td>NaT</td>\n",
       "      <td>N</td>\n",
       "      <td>19940527.0</td>\n",
       "      <td>66/94</td>\n",
       "      <td>3.100000e+12</td>\n",
       "      <td>N</td>\n",
       "      <td>N</td>\n",
       "      <td>252002.1 593526.23 0.0 252000.73 593522.9 0.0 ...</td>\n",
       "    </tr>\n",
       "    <tr>\n",
       "      <th>4</th>\n",
       "      <td>1989.0</td>\n",
       "      <td>Pand in gebruik</td>\n",
       "      <td>NaT</td>\n",
       "      <td>NaT</td>\n",
       "      <td>N</td>\n",
       "      <td>20100720.0</td>\n",
       "      <td>FB 2010/PANDEN001</td>\n",
       "      <td>3.100000e+12</td>\n",
       "      <td>N</td>\n",
       "      <td>N</td>\n",
       "      <td>253227.559 593526.493 0.0 253231.617 593526.03...</td>\n",
       "    </tr>\n",
       "    <tr>\n",
       "      <th>5</th>\n",
       "      <td>1925.0</td>\n",
       "      <td>Pand in gebruik</td>\n",
       "      <td>NaT</td>\n",
       "      <td>NaT</td>\n",
       "      <td>N</td>\n",
       "      <td>20011204.0</td>\n",
       "      <td>141/01</td>\n",
       "      <td>3.100000e+12</td>\n",
       "      <td>N</td>\n",
       "      <td>N</td>\n",
       "      <td>253311.271 593541.787 0.0 253310.818 593541.3 ...</td>\n",
       "    </tr>\n",
       "  </tbody>\n",
       "</table>\n",
       "</div>"
      ],
      "text/plain": [
       "  bouwjaar       pandstatus begindatumTijdvakGeldigheid  \\\n",
       "1   1991.0  Pand in gebruik                         NaT   \n",
       "2   1970.0  Pand in gebruik                         NaT   \n",
       "3   1994.0  Pand in gebruik                         NaT   \n",
       "4   1989.0  Pand in gebruik                         NaT   \n",
       "5   1925.0  Pand in gebruik                         NaT   \n",
       "\n",
       "  einddatumTijdvakGeldigheid inOnderzoek  documentdatum     documentnummer  \\\n",
       "1                        NaT           N     20100720.0  FB 2010/PANDEN001   \n",
       "2                        NaT           N     20100720.0  FB 2010/PANDEN001   \n",
       "3                        NaT           N     19940527.0              66/94   \n",
       "4                        NaT           N     20100720.0  FB 2010/PANDEN001   \n",
       "5                        NaT           N     20011204.0             141/01   \n",
       "\n",
       "   identificatie aanduidingRecordInactief officieel  \\\n",
       "1   3.100000e+12                        N         N   \n",
       "2   3.100000e+12                        N         N   \n",
       "3   3.100000e+12                        N         N   \n",
       "4   3.100000e+12                        N         N   \n",
       "5   3.100000e+12                        N         N   \n",
       "\n",
       "                                             posList  \n",
       "1  253822.701 593455.662 0.0 253826.352 593500.0 ...  \n",
       "2  249943.307 593511.272 0.0 249948.555 593512.79...  \n",
       "3  252002.1 593526.23 0.0 252000.73 593522.9 0.0 ...  \n",
       "4  253227.559 593526.493 0.0 253231.617 593526.03...  \n",
       "5  253311.271 593541.787 0.0 253310.818 593541.3 ...  "
      ]
     },
     "execution_count": 11,
     "metadata": {},
     "output_type": "execute_result"
    }
   ],
   "source": [
    "p.head()"
   ]
  },
  {
   "cell_type": "code",
   "execution_count": 14,
   "id": "5f1b840c",
   "metadata": {
    "scrolled": true
   },
   "outputs": [],
   "source": [
    "pand.head()\n",
    "pandje = pand.iloc[:100]"
   ]
  },
  {
   "cell_type": "code",
   "execution_count": 18,
   "id": "286f6b36",
   "metadata": {},
   "outputs": [
    {
     "data": {
      "text/plain": [
       "0                        NaT\n",
       "1    1970-01-24 06:21:12.000\n",
       "2    1970-01-24 06:21:12.000\n",
       "3    1970-01-24 01:54:12.700\n",
       "4    1970-01-24 06:21:12.000\n",
       "               ...          \n",
       "95   1970-01-24 06:55:02.500\n",
       "96   1970-01-24 07:10:21.500\n",
       "97   1970-01-24 06:21:12.000\n",
       "98   1970-01-24 07:28:22.200\n",
       "99   1970-01-24 07:43:51.000\n",
       "Name: begindatumTijdvakGeldigheid, Length: 100, dtype: datetime64[ns]"
      ]
     },
     "execution_count": 18,
     "metadata": {},
     "output_type": "execute_result"
    }
   ],
   "source": [
    "pd.to_datetime(pandje.begindatumTijdvakGeldigheid)"
   ]
  },
  {
   "cell_type": "code",
   "execution_count": 13,
   "id": "c2d42de2",
   "metadata": {},
   "outputs": [
    {
     "data": {
      "text/plain": [
       "0          NaT\n",
       "1          NaT\n",
       "2          NaT\n",
       "3          NaT\n",
       "4          NaT\n",
       "            ..\n",
       "19112107   NaT\n",
       "19112108   NaT\n",
       "19112109   NaT\n",
       "19112110   NaT\n",
       "19112111   NaT\n",
       "Name: begindatumTijdvakGeldigheid, Length: 19112112, dtype: datetime64[ns]"
      ]
     },
     "execution_count": 13,
     "metadata": {},
     "output_type": "execute_result"
    }
   ],
   "source": [
    "pd.to_datetime(pand['begindatumTijdvakGeldigheid'], format='%Y%m%d%H%M%S%f', errors='coerce')"
   ]
  },
  {
   "cell_type": "code",
   "execution_count": 17,
   "id": "60fa3cd6",
   "metadata": {
    "scrolled": false
   },
   "outputs": [
    {
     "data": {
      "text/html": [
       "<div>\n",
       "<style scoped>\n",
       "    .dataframe tbody tr th:only-of-type {\n",
       "        vertical-align: middle;\n",
       "    }\n",
       "\n",
       "    .dataframe tbody tr th {\n",
       "        vertical-align: top;\n",
       "    }\n",
       "\n",
       "    .dataframe thead th {\n",
       "        text-align: right;\n",
       "    }\n",
       "</style>\n",
       "<table border=\"1\" class=\"dataframe\">\n",
       "  <thead>\n",
       "    <tr style=\"text-align: right;\">\n",
       "      <th></th>\n",
       "      <th>bouwjaar</th>\n",
       "      <th>pandstatus</th>\n",
       "      <th>begindatumTijdvakGeldigheid</th>\n",
       "      <th>einddatumTijdvakGeldigheid</th>\n",
       "      <th>inOnderzoek</th>\n",
       "      <th>documentdatum</th>\n",
       "      <th>documentnummer</th>\n",
       "      <th>identificatie</th>\n",
       "      <th>aanduidingRecordInactief</th>\n",
       "      <th>officieel</th>\n",
       "      <th>posList</th>\n",
       "    </tr>\n",
       "  </thead>\n",
       "  <tbody>\n",
       "    <tr>\n",
       "      <th>18819500</th>\n",
       "      <td>1955.0</td>\n",
       "      <td>Pand in gebruik (niet ingemeten)</td>\n",
       "      <td>2019081600000400</td>\n",
       "      <td>2020061500000500</td>\n",
       "      <td>N</td>\n",
       "      <td>20190816.0</td>\n",
       "      <td>564509</td>\n",
       "      <td>1.916100e+15</td>\n",
       "      <td>N</td>\n",
       "      <td>N</td>\n",
       "      <td>86636.811 454609.243 0.0 86633.023 454614.102 ...</td>\n",
       "    </tr>\n",
       "    <tr>\n",
       "      <th>18819501</th>\n",
       "      <td>1955.0</td>\n",
       "      <td>Pand in gebruik</td>\n",
       "      <td>2020061500000500</td>\n",
       "      <td>NaN</td>\n",
       "      <td>N</td>\n",
       "      <td>20200615.0</td>\n",
       "      <td>646453</td>\n",
       "      <td>1.916100e+15</td>\n",
       "      <td>N</td>\n",
       "      <td>N</td>\n",
       "      <td>86619.459 454613.738 0.0 86617.606 454616.174 ...</td>\n",
       "    </tr>\n",
       "    <tr>\n",
       "      <th>18819502</th>\n",
       "      <td>1955.0</td>\n",
       "      <td>Pand in gebruik</td>\n",
       "      <td>2009091700000000</td>\n",
       "      <td>NaN</td>\n",
       "      <td>N</td>\n",
       "      <td>20090917.0</td>\n",
       "      <td>2009/21608_65285</td>\n",
       "      <td>1.916100e+15</td>\n",
       "      <td>N</td>\n",
       "      <td>N</td>\n",
       "      <td>86633.998 454614.864 0.0 86632.438 454616.866 ...</td>\n",
       "    </tr>\n",
       "    <tr>\n",
       "      <th>18819503</th>\n",
       "      <td>1955.0</td>\n",
       "      <td>Pand in gebruik</td>\n",
       "      <td>2009091700000000</td>\n",
       "      <td>2018100100000100</td>\n",
       "      <td>N</td>\n",
       "      <td>20090917.0</td>\n",
       "      <td>2009/21608_65285</td>\n",
       "      <td>1.916100e+15</td>\n",
       "      <td>N</td>\n",
       "      <td>N</td>\n",
       "      <td>86633.998 454614.864 0.0 86632.438 454616.866 ...</td>\n",
       "    </tr>\n",
       "    <tr>\n",
       "      <th>18819504</th>\n",
       "      <td>1955.0</td>\n",
       "      <td>Pand in gebruik</td>\n",
       "      <td>2018100100000100</td>\n",
       "      <td>NaN</td>\n",
       "      <td>N</td>\n",
       "      <td>20181001.0</td>\n",
       "      <td>466849</td>\n",
       "      <td>NaN</td>\n",
       "      <td>NaN</td>\n",
       "      <td>NaN</td>\n",
       "      <td>NaN</td>\n",
       "    </tr>\n",
       "    <tr>\n",
       "      <th>18819505</th>\n",
       "      <td>NaN</td>\n",
       "      <td>1916100000109307</td>\n",
       "      <td>N</td>\n",
       "      <td>N</td>\n",
       "      <td>86619.459 454613.738 0.0 86621.075 454614.963 ...</td>\n",
       "      <td>NaN</td>\n",
       "      <td>NaN</td>\n",
       "      <td>NaN</td>\n",
       "      <td>NaN</td>\n",
       "      <td>NaN</td>\n",
       "      <td>NaN</td>\n",
       "    </tr>\n",
       "    <tr>\n",
       "      <th>18819506</th>\n",
       "      <td>1955.0</td>\n",
       "      <td>Pand in gebruik</td>\n",
       "      <td>2009091700000000</td>\n",
       "      <td>NaN</td>\n",
       "      <td>N</td>\n",
       "      <td>20090917.0</td>\n",
       "      <td>2009/21608_65285</td>\n",
       "      <td>1.916100e+15</td>\n",
       "      <td>N</td>\n",
       "      <td>N</td>\n",
       "      <td>86616.16 454616.786 0.0 86614.378 454619.176 0...</td>\n",
       "    </tr>\n",
       "    <tr>\n",
       "      <th>18819507</th>\n",
       "      <td>1955.0</td>\n",
       "      <td>Pand in gebruik</td>\n",
       "      <td>2009091700000000</td>\n",
       "      <td>2019102800000100</td>\n",
       "      <td>N</td>\n",
       "      <td>20090917.0</td>\n",
       "      <td>2009/21608_65285</td>\n",
       "      <td>1.916100e+15</td>\n",
       "      <td>N</td>\n",
       "      <td>N</td>\n",
       "      <td>86616.126 454616.833 0.0 86614.378 454619.176 ...</td>\n",
       "    </tr>\n",
       "    <tr>\n",
       "      <th>18819508</th>\n",
       "      <td>1955.0</td>\n",
       "      <td>Pand in gebruik</td>\n",
       "      <td>2019102800000100</td>\n",
       "      <td>NaN</td>\n",
       "      <td>N</td>\n",
       "      <td>20191028.0</td>\n",
       "      <td>581713</td>\n",
       "      <td>1.916100e+15</td>\n",
       "      <td>N</td>\n",
       "      <td>N</td>\n",
       "      <td>86616.16 454616.786 0.0 86618.261 454618.303 0...</td>\n",
       "    </tr>\n",
       "    <tr>\n",
       "      <th>18819509</th>\n",
       "      <td>1955.0</td>\n",
       "      <td>Pand in gebruik</td>\n",
       "      <td>2009091700000000</td>\n",
       "      <td>2019102800000100</td>\n",
       "      <td>N</td>\n",
       "      <td>20090917.0</td>\n",
       "      <td>2009/21608_65285</td>\n",
       "      <td>1.916100e+15</td>\n",
       "      <td>N</td>\n",
       "      <td>N</td>\n",
       "      <td>86616.126 454616.833 0.0 86618.191 454618.394 ...</td>\n",
       "    </tr>\n",
       "    <tr>\n",
       "      <th>18819510</th>\n",
       "      <td>1955.0</td>\n",
       "      <td>Pand in gebruik</td>\n",
       "      <td>2019102800000100</td>\n",
       "      <td>NaN</td>\n",
       "      <td>N</td>\n",
       "      <td>20191028.0</td>\n",
       "      <td>581713</td>\n",
       "      <td>1.916100e+15</td>\n",
       "      <td>N</td>\n",
       "      <td>N</td>\n",
       "      <td>86622.461 454621.106 0.0 86624.104 454619.017 ...</td>\n",
       "    </tr>\n",
       "    <tr>\n",
       "      <th>18819511</th>\n",
       "      <td>1955.0</td>\n",
       "      <td>Pand in gebruik</td>\n",
       "      <td>2009091700000000</td>\n",
       "      <td>2019102800000100</td>\n",
       "      <td>N</td>\n",
       "      <td>20090917.0</td>\n",
       "      <td>2009/21608_65285</td>\n",
       "      <td>1.916100e+15</td>\n",
       "      <td>N</td>\n",
       "      <td>N</td>\n",
       "      <td>86625.222 454623.263 0.0 86622.461 454621.106 ...</td>\n",
       "    </tr>\n",
       "    <tr>\n",
       "      <th>18819512</th>\n",
       "      <td>1955.0</td>\n",
       "      <td>Pand in gebruik</td>\n",
       "      <td>2019102800000100</td>\n",
       "      <td>NaN</td>\n",
       "      <td>N</td>\n",
       "      <td>20191028.0</td>\n",
       "      <td>581713</td>\n",
       "      <td>1.916100e+15</td>\n",
       "      <td>N</td>\n",
       "      <td>N</td>\n",
       "      <td>86625.222 454623.263 0.0 86623.799 454624.977 ...</td>\n",
       "    </tr>\n",
       "    <tr>\n",
       "      <th>18819513</th>\n",
       "      <td>1955.0</td>\n",
       "      <td>Pand in gebruik</td>\n",
       "      <td>2009091700000000</td>\n",
       "      <td>2019102800000100</td>\n",
       "      <td>N</td>\n",
       "      <td>20090917.0</td>\n",
       "      <td>2009/21608_65285</td>\n",
       "      <td>1.916100e+15</td>\n",
       "      <td>N</td>\n",
       "      <td>N</td>\n",
       "      <td>86625.222 454623.263 0.0 86623.799 454624.977 ...</td>\n",
       "    </tr>\n",
       "    <tr>\n",
       "      <th>18819514</th>\n",
       "      <td>1955.0</td>\n",
       "      <td>Pand in gebruik</td>\n",
       "      <td>2019102800000100</td>\n",
       "      <td>NaN</td>\n",
       "      <td>N</td>\n",
       "      <td>20191028.0</td>\n",
       "      <td>581713</td>\n",
       "      <td>1.916100e+15</td>\n",
       "      <td>N</td>\n",
       "      <td>N</td>\n",
       "      <td>86558.357 454628.555 0.0 86562.246 454623.681 ...</td>\n",
       "    </tr>\n",
       "    <tr>\n",
       "      <th>18819515</th>\n",
       "      <td>1955.0</td>\n",
       "      <td>Pand in gebruik</td>\n",
       "      <td>2009091700000000</td>\n",
       "      <td>NaN</td>\n",
       "      <td>N</td>\n",
       "      <td>20090917.0</td>\n",
       "      <td>2009/21608_65285</td>\n",
       "      <td>1.916100e+15</td>\n",
       "      <td>N</td>\n",
       "      <td>N</td>\n",
       "      <td>86560.89 454630.545 0.0 86559.522 454632.26 0....</td>\n",
       "    </tr>\n",
       "    <tr>\n",
       "      <th>18819516</th>\n",
       "      <td>1955.0</td>\n",
       "      <td>Pand in gebruik</td>\n",
       "      <td>2009091700000000</td>\n",
       "      <td>NaN</td>\n",
       "      <td>N</td>\n",
       "      <td>20090917.0</td>\n",
       "      <td>2009/21608_65285</td>\n",
       "      <td>1.916100e+15</td>\n",
       "      <td>N</td>\n",
       "      <td>N</td>\n",
       "      <td>86616.624 454628.504 0.0 86619.043 454630.409 ...</td>\n",
       "    </tr>\n",
       "    <tr>\n",
       "      <th>18819517</th>\n",
       "      <td>1955.0</td>\n",
       "      <td>Pand in gebruik</td>\n",
       "      <td>2009091700000000</td>\n",
       "      <td>NaN</td>\n",
       "      <td>N</td>\n",
       "      <td>20090917.0</td>\n",
       "      <td>2009/21608_65285</td>\n",
       "      <td>1.916100e+15</td>\n",
       "      <td>N</td>\n",
       "      <td>N</td>\n",
       "      <td>86617.444 454632.439 0.0 86613.996 454636.818 ...</td>\n",
       "    </tr>\n",
       "    <tr>\n",
       "      <th>18819518</th>\n",
       "      <td>1955.0</td>\n",
       "      <td>Pand in gebruik</td>\n",
       "      <td>2009091700000000</td>\n",
       "      <td>NaN</td>\n",
       "      <td>N</td>\n",
       "      <td>20090917.0</td>\n",
       "      <td>2009/21608_65285</td>\n",
       "      <td>1.916100e+15</td>\n",
       "      <td>N</td>\n",
       "      <td>N</td>\n",
       "      <td>86551.094 454638.059 0.0 86552.569 454636.234 ...</td>\n",
       "    </tr>\n",
       "    <tr>\n",
       "      <th>18819519</th>\n",
       "      <td>1955.0</td>\n",
       "      <td>Pand in gebruik</td>\n",
       "      <td>2009091700000000</td>\n",
       "      <td>2019102800000100</td>\n",
       "      <td>N</td>\n",
       "      <td>20090917.0</td>\n",
       "      <td>2009/21608_65285</td>\n",
       "      <td>1.916100e+15</td>\n",
       "      <td>N</td>\n",
       "      <td>N</td>\n",
       "      <td>86554.962 454638.169 0.0 86553.539 454639.98 0...</td>\n",
       "    </tr>\n",
       "    <tr>\n",
       "      <th>18819520</th>\n",
       "      <td>1955.0</td>\n",
       "      <td>Pand in gebruik</td>\n",
       "      <td>2019102800000100</td>\n",
       "      <td>NaN</td>\n",
       "      <td>N</td>\n",
       "      <td>20191028.0</td>\n",
       "      <td>581713</td>\n",
       "      <td>1.916100e+15</td>\n",
       "      <td>N</td>\n",
       "      <td>N</td>\n",
       "      <td>86556.811 454638.191 0.0 86559.584 454640.347 ...</td>\n",
       "    </tr>\n",
       "  </tbody>\n",
       "</table>\n",
       "</div>"
      ],
      "text/plain": [
       "         bouwjaar                        pandstatus  \\\n",
       "18819500   1955.0  Pand in gebruik (niet ingemeten)   \n",
       "18819501   1955.0                   Pand in gebruik   \n",
       "18819502   1955.0                   Pand in gebruik   \n",
       "18819503   1955.0                   Pand in gebruik   \n",
       "18819504   1955.0                   Pand in gebruik   \n",
       "18819505      NaN                  1916100000109307   \n",
       "18819506   1955.0                   Pand in gebruik   \n",
       "18819507   1955.0                   Pand in gebruik   \n",
       "18819508   1955.0                   Pand in gebruik   \n",
       "18819509   1955.0                   Pand in gebruik   \n",
       "18819510   1955.0                   Pand in gebruik   \n",
       "18819511   1955.0                   Pand in gebruik   \n",
       "18819512   1955.0                   Pand in gebruik   \n",
       "18819513   1955.0                   Pand in gebruik   \n",
       "18819514   1955.0                   Pand in gebruik   \n",
       "18819515   1955.0                   Pand in gebruik   \n",
       "18819516   1955.0                   Pand in gebruik   \n",
       "18819517   1955.0                   Pand in gebruik   \n",
       "18819518   1955.0                   Pand in gebruik   \n",
       "18819519   1955.0                   Pand in gebruik   \n",
       "18819520   1955.0                   Pand in gebruik   \n",
       "\n",
       "         begindatumTijdvakGeldigheid einddatumTijdvakGeldigheid  \\\n",
       "18819500            2019081600000400           2020061500000500   \n",
       "18819501            2020061500000500                        NaN   \n",
       "18819502            2009091700000000                        NaN   \n",
       "18819503            2009091700000000           2018100100000100   \n",
       "18819504            2018100100000100                        NaN   \n",
       "18819505                           N                          N   \n",
       "18819506            2009091700000000                        NaN   \n",
       "18819507            2009091700000000           2019102800000100   \n",
       "18819508            2019102800000100                        NaN   \n",
       "18819509            2009091700000000           2019102800000100   \n",
       "18819510            2019102800000100                        NaN   \n",
       "18819511            2009091700000000           2019102800000100   \n",
       "18819512            2019102800000100                        NaN   \n",
       "18819513            2009091700000000           2019102800000100   \n",
       "18819514            2019102800000100                        NaN   \n",
       "18819515            2009091700000000                        NaN   \n",
       "18819516            2009091700000000                        NaN   \n",
       "18819517            2009091700000000                        NaN   \n",
       "18819518            2009091700000000                        NaN   \n",
       "18819519            2009091700000000           2019102800000100   \n",
       "18819520            2019102800000100                        NaN   \n",
       "\n",
       "                                                inOnderzoek  documentdatum  \\\n",
       "18819500                                                  N     20190816.0   \n",
       "18819501                                                  N     20200615.0   \n",
       "18819502                                                  N     20090917.0   \n",
       "18819503                                                  N     20090917.0   \n",
       "18819504                                                  N     20181001.0   \n",
       "18819505  86619.459 454613.738 0.0 86621.075 454614.963 ...            NaN   \n",
       "18819506                                                  N     20090917.0   \n",
       "18819507                                                  N     20090917.0   \n",
       "18819508                                                  N     20191028.0   \n",
       "18819509                                                  N     20090917.0   \n",
       "18819510                                                  N     20191028.0   \n",
       "18819511                                                  N     20090917.0   \n",
       "18819512                                                  N     20191028.0   \n",
       "18819513                                                  N     20090917.0   \n",
       "18819514                                                  N     20191028.0   \n",
       "18819515                                                  N     20090917.0   \n",
       "18819516                                                  N     20090917.0   \n",
       "18819517                                                  N     20090917.0   \n",
       "18819518                                                  N     20090917.0   \n",
       "18819519                                                  N     20090917.0   \n",
       "18819520                                                  N     20191028.0   \n",
       "\n",
       "            documentnummer  identificatie aanduidingRecordInactief officieel  \\\n",
       "18819500            564509   1.916100e+15                        N         N   \n",
       "18819501            646453   1.916100e+15                        N         N   \n",
       "18819502  2009/21608_65285   1.916100e+15                        N         N   \n",
       "18819503  2009/21608_65285   1.916100e+15                        N         N   \n",
       "18819504            466849            NaN                      NaN       NaN   \n",
       "18819505               NaN            NaN                      NaN       NaN   \n",
       "18819506  2009/21608_65285   1.916100e+15                        N         N   \n",
       "18819507  2009/21608_65285   1.916100e+15                        N         N   \n",
       "18819508            581713   1.916100e+15                        N         N   \n",
       "18819509  2009/21608_65285   1.916100e+15                        N         N   \n",
       "18819510            581713   1.916100e+15                        N         N   \n",
       "18819511  2009/21608_65285   1.916100e+15                        N         N   \n",
       "18819512            581713   1.916100e+15                        N         N   \n",
       "18819513  2009/21608_65285   1.916100e+15                        N         N   \n",
       "18819514            581713   1.916100e+15                        N         N   \n",
       "18819515  2009/21608_65285   1.916100e+15                        N         N   \n",
       "18819516  2009/21608_65285   1.916100e+15                        N         N   \n",
       "18819517  2009/21608_65285   1.916100e+15                        N         N   \n",
       "18819518  2009/21608_65285   1.916100e+15                        N         N   \n",
       "18819519  2009/21608_65285   1.916100e+15                        N         N   \n",
       "18819520            581713   1.916100e+15                        N         N   \n",
       "\n",
       "                                                    posList  \n",
       "18819500  86636.811 454609.243 0.0 86633.023 454614.102 ...  \n",
       "18819501  86619.459 454613.738 0.0 86617.606 454616.174 ...  \n",
       "18819502  86633.998 454614.864 0.0 86632.438 454616.866 ...  \n",
       "18819503  86633.998 454614.864 0.0 86632.438 454616.866 ...  \n",
       "18819504                                                NaN  \n",
       "18819505                                                NaN  \n",
       "18819506  86616.16 454616.786 0.0 86614.378 454619.176 0...  \n",
       "18819507  86616.126 454616.833 0.0 86614.378 454619.176 ...  \n",
       "18819508  86616.16 454616.786 0.0 86618.261 454618.303 0...  \n",
       "18819509  86616.126 454616.833 0.0 86618.191 454618.394 ...  \n",
       "18819510  86622.461 454621.106 0.0 86624.104 454619.017 ...  \n",
       "18819511  86625.222 454623.263 0.0 86622.461 454621.106 ...  \n",
       "18819512  86625.222 454623.263 0.0 86623.799 454624.977 ...  \n",
       "18819513  86625.222 454623.263 0.0 86623.799 454624.977 ...  \n",
       "18819514  86558.357 454628.555 0.0 86562.246 454623.681 ...  \n",
       "18819515  86560.89 454630.545 0.0 86559.522 454632.26 0....  \n",
       "18819516  86616.624 454628.504 0.0 86619.043 454630.409 ...  \n",
       "18819517  86617.444 454632.439 0.0 86613.996 454636.818 ...  \n",
       "18819518  86551.094 454638.059 0.0 86552.569 454636.234 ...  \n",
       "18819519  86554.962 454638.169 0.0 86553.539 454639.98 0...  \n",
       "18819520  86556.811 454638.191 0.0 86559.584 454640.347 ...  "
      ]
     },
     "execution_count": 17,
     "metadata": {},
     "output_type": "execute_result"
    }
   ],
   "source": [
    "pand.loc[18819500:18819520]"
   ]
  }
 ],
 "metadata": {
  "kernelspec": {
   "display_name": "Python 3 (ipykernel)",
   "language": "python",
   "name": "python3"
  },
  "language_info": {
   "codemirror_mode": {
    "name": "ipython",
    "version": 3
   },
   "file_extension": ".py",
   "mimetype": "text/x-python",
   "name": "python",
   "nbconvert_exporter": "python",
   "pygments_lexer": "ipython3",
   "version": "3.7.11"
  }
 },
 "nbformat": 4,
 "nbformat_minor": 5
}
