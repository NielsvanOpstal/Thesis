{
 "cells": [
  {
   "cell_type": "code",
   "execution_count": 51,
   "id": "6fbf7ad2",
   "metadata": {},
   "outputs": [],
   "source": [
    "from torch import nn, optim\n",
    "import os\n",
    "import shapely\n",
    "import pandas as pd\n",
    "import geopandas as gpd\n",
    "import numpy as np\n",
    "from numpy.random import default_rng\n",
    "import torch\n",
    "from sklearn.metrics import recall_score, precision_score, accuracy_score, f1_score, roc_auc_score\n",
    "from imblearn.over_sampling import SMOTE\n",
    "from sklearn.preprocessing import StandardScaler\n",
    "import libpysal\n",
    "import matplotlib.pyplot as plt\n",
    "from copy import deepcopy\n",
    "from sklearn.cluster import KMeans\n",
    "from collections import Counter"
   ]
  },
  {
   "cell_type": "code",
   "execution_count": 60,
   "id": "1addffc0",
   "metadata": {},
   "outputs": [],
   "source": [
    "def load_data(year):\n",
    "    os.getcwd()\n",
    "    df = pd.DataFrame()\n",
    "    path = \"../Data/filled/\" + str(year) + \"/\"\n",
    "    \n",
    "    for filename in os.listdir(path):\n",
    "        print(filename)\n",
    "        df1 = pd.read_csv(path + filename)\n",
    "        if df1.geometry.isna().any():\n",
    "            print(filename)\n",
    "        df = pd.concat([df, df1])\n",
    "    df = gpd.GeoDataFrame(df)\n",
    "    df.geometry = df.geometry.apply(shapely.wkt.loads)\n",
    "    \n",
    "    df = df.reset_index()\n",
    "    df = df.drop([\"Unnamed: 0\", \"index\"], axis = 1)\n",
    "    return df"
   ]
  },
  {
   "cell_type": "code",
   "execution_count": 61,
   "id": "c5d9e1fc",
   "metadata": {},
   "outputs": [],
   "source": [
    "def create_CNN_samples(grid, block, dims = 39):\n",
    "    \n",
    "    nonzero = np.transpose(grid[:,:,-2].nonzero()) # Get indices of nonzero componetns\n",
    "    size = nonzero.shape[0]\n",
    "    width = block * 2 + 1 # calculate widht and height. Needed later on\n",
    "    \n",
    "    X = np.zeros((size, width, width, dims))\n",
    "    Y = np.zeros(size)\n",
    "    ID = np.zeros(size)\n",
    "    Y_1 = np.zeros(size)\n",
    "    \n",
    "    for idx, i in enumerate(nonzero):\n",
    "        x, ID[idx], Y[idx], Y_1[idx] = get_neighbor_grid(grid, i, block)\n",
    "        X[idx] = x.reshape(width,width, dims)\n",
    "        \n",
    "    X = np.moveaxis(X, -1, 1) # order the indices correctly to make sure it works in CNN\n",
    "    X = torch.from_numpy(X).float()\n",
    "    Y = torch.from_numpy(Y).float()\n",
    "    \n",
    "    return X,ID,Y, Y_1"
   ]
  },
  {
   "cell_type": "code",
   "execution_count": 62,
   "id": "2ab9780f",
   "metadata": {},
   "outputs": [],
   "source": [
    "def get_neighbor_grid(full, hw, block = 1):\n",
    "    \n",
    "    # get the nonzero (built) blocks by checking if they have a ID\n",
    "\n",
    "    h = hw[0]\n",
    "    w = hw[1]\n",
    "    \n",
    "    y = full[h,w,-1]\n",
    "    ID = full[h,w,-2]\n",
    "    Y_1_train = full[h,w,-3]\n",
    "    \n",
    "    hu = h - block\n",
    "    hd = h + block\n",
    "    hshort, hextra, wshort, wextra = 0,0,0,0\n",
    "    if hu < 0:\n",
    "        hshort = 0 - hu\n",
    "        hu = 0\n",
    "    if hd >= full.shape[0]:\n",
    "        hextra = (hd - full.shape[0]) + 1\n",
    "        hd = full.shape[0]\n",
    "\n",
    "    wr = w + block\n",
    "    wl = w - block\n",
    "\n",
    "    if wr >= full.shape[1]:\n",
    "        wextra = (wr - full.shape[1]) + 1\n",
    "        wr = full.shape[1]\n",
    "    if wl < 0:\n",
    "        wshort = 0 - wl\n",
    "        wl = 0\n",
    "\n",
    "    nb = full[hu : hd + 1, wl : wr + 1, :]\n",
    "    nb = np.pad(nb, ((hshort, hextra), (wshort, wextra), (0,0)), mode = \"constant\", constant_values = 0)\n",
    "    return nb[:,:,:-3], ID, y, Y_1_train\n"
   ]
  },
  {
   "cell_type": "code",
   "execution_count": 63,
   "id": "ab63a65a",
   "metadata": {},
   "outputs": [
    {
     "name": "stdout",
     "output_type": "stream",
     "text": [
      "Device: cpu\n"
     ]
    }
   ],
   "source": [
    "import torch\n",
    "# device = torch.device(\"cuda:0\" if torch.cuda.is_available() else \"cpu\")\n",
    "device = \"cpu\"\n",
    "print(\"Device: {}\".format(device))"
   ]
  },
  {
   "cell_type": "code",
   "execution_count": 64,
   "id": "7dfa6798",
   "metadata": {},
   "outputs": [
    {
     "name": "stdout",
     "output_type": "stream",
     "text": [
      "Nijmegen15.csv_filled_.csv\n",
      "Nijmegen16.csv_filled_.csv\n",
      "Nijmegen17.csv_filled_.csv\n",
      "Nijmegen18.csv_filled_.csv\n",
      "Nijmegen19.csv_filled_.csv\n"
     ]
    }
   ],
   "source": [
    "df15 = load_data(2015).set_index(\"C28992R100\")\n",
    "df16 = load_data(2016).set_index(\"C28992R100\")\n",
    "df17 = load_data(2017).set_index(\"C28992R100\")\n",
    "df18 = load_data(2018).set_index(\"C28992R100\")\n",
    "df19 = load_data(2019).set_index(\"C28992R100\")\n"
   ]
  },
  {
   "cell_type": "code",
   "execution_count": 65,
   "id": "cefabf10",
   "metadata": {},
   "outputs": [],
   "source": [
    "# Get data that is available in all years\n",
    "overlapping1517 = df17.index[df17.index.isin(df16.index[df16.index.isin(df15.index)])]\n",
    "overlapping1518 = df18.index[df18.index.isin(overlapping1517)]\n",
    "overlapping1519 = df19.index[df19.index.isin(overlapping1518)]\n",
    "\n",
    "\n"
   ]
  },
  {
   "cell_type": "code",
   "execution_count": 66,
   "id": "7b217974",
   "metadata": {},
   "outputs": [],
   "source": [
    "import pickle\n",
    "with open(\"cbs_id_koppel.pickle\", \"rb\") as f:\n",
    "    a = pickle.load(f)\n",
    "overlap_num = [a[x] for x in overlapping1519]"
   ]
  },
  {
   "cell_type": "code",
   "execution_count": 87,
   "id": "ac4cd016",
   "metadata": {},
   "outputs": [],
   "source": [
    "def get_cnn_time(year, overlap_num):\n",
    "    X_train = []\n",
    "    Y_train = []\n",
    "    ID_train = []\n",
    "    Y_1_train = []\n",
    "    for filename in os.listdir(\"../Data/filled/grids/\" + str(year) + \"/\"):\n",
    "        print(filename)\n",
    "        n = np.load(\"../Data/filled/grids/\" + str(year) + \"/\" + filename)\n",
    "        X, ID, Y, Y_1 = create_CNN_samples(n, 5)\n",
    "        X_train.append(X)\n",
    "        Y_train.append(Y)\n",
    "        ID_train.append(ID)\n",
    "        Y_1_train.append(Y_1)\n",
    "\n",
    "    Y = np.concatenate(Y_train)\n",
    "    ID = np.concatenate(ID_train)\n",
    "    X = np.concatenate(X_train)\n",
    "    Y1 = np.concatenate(Y_1_train)\n",
    "    overlap = np.isin(ID, overlap_num)\n",
    "    return X[overlap], Y[overlap], ID[overlap], Y1[overlap]\n",
    "\n",
    "    \n",
    "# X15c, Y15c, ID15c, Y115c = get_cnn_time(2015, overlap_num)\n",
    "# X16c, Y16c, ID16c, Y116c = get_cnn_time(2016, overlap_num)\n",
    "# X17c, Y17c, ID17c, Y117c = get_cnn_time(2017, overlap_num)\n",
    "# X18c, Y18c, ID18c, Y118c = get_cnn_time(2018, overlap_num)\n",
    "# X19c, Y19c, ID19c, Y119c = get_cnn_time(2019, overlap_num)\n"
   ]
  },
  {
   "cell_type": "code",
   "execution_count": 88,
   "id": "6fdc3e44",
   "metadata": {},
   "outputs": [
    {
     "name": "stdout",
     "output_type": "stream",
     "text": [
      "Nijmegen15.npy\n",
      "Nijmegen15.npy\n",
      "Nijmegen16.npy\n",
      "Nijmegen17.npy\n",
      "Nijmegen18.npy\n",
      "Nijmegen19.npy\n"
     ]
    }
   ],
   "source": [
    "# Fill X and Y\n",
    "block_size = get_cnn_time(2015, overlap_num)[0].shape[-1]\n",
    "X = np.zeros((len(overlapping1519), 5, 39, block_size, block_size))\n",
    "Y = np.zeros((len(overlapping1519), 5))\n",
    "Y_1 = np.zeros((len(overlapping1519), 5))\n",
    "ID = np.zeros((len(overlapping1519), 5))\n",
    "ss = StandardScaler()\n",
    "\n",
    "\n",
    "for i, year in enumerate([2015, 2016, 2017, 2018, 2019]):\n",
    "    X[:,i], Y[:,i], ID[:,i], Y_1[:,i] = get_cnn_time(year, overlap_num)"
   ]
  },
  {
   "cell_type": "code",
   "execution_count": 84,
   "id": "a76ac4d5",
   "metadata": {},
   "outputs": [
    {
     "name": "stdout",
     "output_type": "stream",
     "text": [
      "(3468, 5, 39, 11, 11)\n"
     ]
    }
   ],
   "source": []
  },
  {
   "cell_type": "code",
   "execution_count": 89,
   "id": "2c3fdf87",
   "metadata": {},
   "outputs": [],
   "source": [
    "# Create neighbor lists for all years\n",
    "\n",
    "df15 = df15.loc[overlapping1519]\n",
    "df16 = df16.loc[overlapping1519]\n",
    "df17 = df17.loc[overlapping1519]\n",
    "df18 = df18.loc[overlapping1519]\n",
    "df19 = df19.loc[overlapping1519]\n",
    "\n",
    "\n",
    "w15 = libpysal.weights.DistanceBand.from_dataframe(df15.reset_index(), threshold=150, binary = True, silence_warnings = True)\n",
    "w16 = libpysal.weights.DistanceBand.from_dataframe(df16.reset_index(), threshold=150, binary = True, silence_warnings = True)\n",
    "w17 = libpysal.weights.DistanceBand.from_dataframe(df17.reset_index(), threshold=150, binary = True, silence_warnings = True)\n",
    "w18 = libpysal.weights.DistanceBand.from_dataframe(df18.reset_index(), threshold=150, binary = True, silence_warnings = True)\n",
    "w19 = libpysal.weights.DistanceBand.from_dataframe(df19.reset_index(), threshold=150, binary = True, silence_warnings = True)"
   ]
  },
  {
   "cell_type": "code",
   "execution_count": 90,
   "id": "637cddbf",
   "metadata": {},
   "outputs": [],
   "source": [
    "c = 3\n",
    "\n",
    "cluster_train = df17[df17.columns[:-5]]\n",
    "cluster_val = df18[df18.columns[:-5]]\n",
    "cluster_test = df19[df19.columns[:-5]]\n",
    "\n",
    "cluster_train = ss.fit_transform(cluster_train)\n",
    "cluster_val = ss.transform(cluster_val)\n",
    "cluster_test = ss.transform(cluster_test)\n",
    "\n",
    "cluster_model = KMeans(n_clusters =c, random_state = 1)\n",
    "train_labels = pd.DataFrame(cluster_model.fit_predict(cluster_train))\n",
    "val_labels = pd.DataFrame(cluster_model.predict(cluster_val))\n",
    "test_labels = pd.DataFrame(cluster_model.predict(cluster_test))"
   ]
  },
  {
   "cell_type": "code",
   "execution_count": 91,
   "id": "c69cf66d",
   "metadata": {},
   "outputs": [
    {
     "name": "stdout",
     "output_type": "stream",
     "text": [
      "Counter({1: 2074, 0: 1021, 2: 373}) Counter({1: 2062, 0: 1033, 2: 373})\n"
     ]
    }
   ],
   "source": [
    "print(Counter(train_labels[0]), Counter(val_labels[0]))"
   ]
  },
  {
   "cell_type": "code",
   "execution_count": 92,
   "id": "c06e4a52",
   "metadata": {},
   "outputs": [],
   "source": [
    "# create Y(t-1) for all years\n",
    "\n",
    "def get_y_1(y1, w):\n",
    "    neighbors = [w.neighbors[x] for x in w.neighbors]\n",
    "    y1 = np.array([y1[x].sum() for x in neighbors])\n",
    "    y1[np.where(y1 == 0)[0]] = 0.5\n",
    "\n",
    "    return y1\n",
    "\n",
    "Y1_15 = get_y_1(Y_1[:,0], w15)\n",
    "Y1_16 = get_y_1(Y_1[:,1], w16)\n",
    "Y1_17 = get_y_1(Y_1[:,2], w17)\n",
    "Y1_18 = get_y_1(Y_1[:,3], w18)\n",
    "Y1_19 = get_y_1(Y_1[:,4], w19)\n",
    "\n"
   ]
  },
  {
   "cell_type": "code",
   "execution_count": 93,
   "id": "44832fbd",
   "metadata": {},
   "outputs": [
    {
     "name": "stdout",
     "output_type": "stream",
     "text": [
      "(3468, 14158)\n"
     ]
    }
   ],
   "source": [
    "# X train is the first three years\n",
    "X_train = X[:,:3]\n",
    "Y_train = Y[:,2]\n",
    "\n",
    "X_train = np.moveaxis(X_train, 2 ,-1)\n",
    "X_train = X_train.reshape(-1, 39)\n",
    "X_train = ss.fit_transform(X_train)\n",
    "# X_train = X_train.reshape(Y1_17.shape[0], -1)\n",
    "X_train = np.append(X_train.reshape(Y1_17.shape[0], -1), Y1_17.reshape(-1,1), axis = 1)\n",
    "print(X_train.shape)"
   ]
  },
  {
   "cell_type": "code",
   "execution_count": 94,
   "id": "9b216452",
   "metadata": {},
   "outputs": [],
   "source": [
    "# smote = SMOTE()\n",
    "# X_train_resample,Y_train_resample = smote.fit_resample(X_train,Y_train)\n",
    "\n",
    "# Y1_17r = X_train_resample[:,-1]\n",
    "# Y1_17r[Y1_17r>0.5] =  np.ceil(Y1_17r[Y1_17r > 0.5])\n",
    "\n",
    "# X_train_resample = np.delete(X_train_resample, -1, -1)\n",
    "# X_train_resample = X_train_resample.reshape(X_train_resample.shape[0], 3, block_size, block_size, 39)\n",
    "# X_train_resample = np.moveaxis(X_train_resample, -1, 2)"
   ]
  },
  {
   "cell_type": "code",
   "execution_count": 95,
   "id": "3075e72c",
   "metadata": {
    "scrolled": true
   },
   "outputs": [],
   "source": [
    "X_val = X[:,:4]\n",
    "Y_val = Y[:,3]\n",
    "X_val = np.moveaxis(X_val, 2, -1)\n",
    "X_val = X_val.reshape(-1, 39)\n",
    "X_val = ss.transform(X_val)\n",
    "X_val = X_val.reshape(Y_val.shape[0], 4, block_size, block_size, 39)\n",
    "X_val = np.moveaxis(X_val, -1, 2)\n",
    "\n",
    "X_val = torch.tensor(X_val).float()\n",
    "Y1_18 = torch.tensor(Y1_18).float()\n",
    "\n"
   ]
  },
  {
   "cell_type": "code",
   "execution_count": 96,
   "id": "e81f4888",
   "metadata": {},
   "outputs": [],
   "source": [
    "X_test = X[:,:5]\n",
    "Y_test = Y[:,4]\n",
    "X_test = np.moveaxis(X_test, 2, -1)\n",
    "X_test = X_test.reshape(-1, 39)\n",
    "X_test = ss.transform(X_test)\n",
    "X_test = X_test.reshape(Y_test.shape[0], 5, block_size, block_size, 39)\n",
    "X_test = np.moveaxis(X_test, -1, 2)\n",
    "X_test = torch.tensor(X_test).float()\n",
    "Y1_19 = torch.tensor(Y1_19).float()"
   ]
  },
  {
   "cell_type": "code",
   "execution_count": 97,
   "id": "4c339c32",
   "metadata": {},
   "outputs": [],
   "source": [
    "rng = default_rng()\n",
    "def get_batch(X, Y, Y1, batch_size = 32):\n",
    "    idxs = rng.integers(len(X), size = batch_size)\n",
    "    return X[idxs], Y[idxs], Y1[idxs]\n",
    "\n"
   ]
  },
  {
   "cell_type": "code",
   "execution_count": 98,
   "id": "8456b126",
   "metadata": {},
   "outputs": [],
   "source": [
    "class RNNCNN(nn.Module): # auc: 0.692\n",
    "    def __init__(self):\n",
    "        super(RNNCNN, self).__init__()\n",
    "        self.conv = nn.Sequential(\n",
    "             nn.Conv2d(in_channels= 39, out_channels = 40, kernel_size = (3,3)),\n",
    "            nn.MaxPool2d(2),\n",
    "            nn.ReLU(), \n",
    "            nn.Dropout2d(0.3),\n",
    "            nn.Conv2d(in_channels = 40, out_channels = 40, kernel_size = (3,3)),\n",
    "            nn.MaxPool2d(2),\n",
    "            nn.ReLU(),\n",
    "            nn.Dropout2d(0.3),\n",
    "            nn.Flatten()\n",
    "         \n",
    "        )\n",
    "        self.GRU = nn.GRU(input_size = 79 ,hidden_size = 200, batch_first = True)\n",
    "        self.net = nn.Sequential(\n",
    "            nn.Linear(200,100),\n",
    "            nn.Dropout(0.3),\n",
    "            nn.ReLU(),\n",
    "            nn.Linear(100,1)\n",
    "        )\n",
    "        self.final = nn.Sigmoid()\n",
    "        \n",
    "    def forward(self, X, Y1):\n",
    "        orig = X[:,:,:,5,5] # original cells are at the center of 11*11 point\n",
    "        \n",
    "        batch_size, timesteps, C, H, W = X.size()\n",
    "        \n",
    "        c_in = X.view(batch_size * timesteps, C, H, W)\n",
    "        c_out = self.conv(c_in)\n",
    "        \n",
    "        # reshape and concatenate the original data\n",
    "        r_in = c_out.view(batch_size, timesteps, -1)\n",
    "        r_in = torch.cat((orig, r_in), axis = 2)\n",
    "        \n",
    "        h0 = torch.zeros(1, X.size(0), 200).to(device)\n",
    "        \n",
    "        X, _ = self.GRU(r_in, h0)\n",
    "        X = X[:,-1, :].unsqueeze(1)\n",
    "        X = self.net(X[:,-1])\n",
    "        X = X.squeeze() * Y1\n",
    " \n",
    "        \n",
    "        return X\n"
   ]
  },
  {
   "cell_type": "code",
   "execution_count": 99,
   "id": "8336b667",
   "metadata": {},
   "outputs": [],
   "source": [
    "class RNNCNN1(nn.Module): # auc: 0.692\n",
    "    def __init__(self):\n",
    "        super(RNNCNN1, self).__init__()\n",
    "        self.conv = nn.Sequential(\n",
    "             nn.Conv2d(in_channels= 39, out_channels = 15, kernel_size = (3,3)),\n",
    "            nn.MaxPool2d(2),\n",
    "            nn.ReLU(), \n",
    "            nn.Dropout2d(0.3),\n",
    "            nn.Conv2d(in_channels = 15, out_channels = 5, kernel_size = (3,3)),\n",
    "            nn.MaxPool2d(2),\n",
    "            nn.ReLU(),\n",
    "            nn.Dropout2d(0.3),\n",
    "            nn.Flatten()\n",
    "         \n",
    "        )\n",
    "        self.GRU = nn.GRU(input_size = 44 ,hidden_size = 100, batch_first = True)\n",
    "        self.net = nn.Sequential(\n",
    "            nn.Linear(100,100),\n",
    "            nn.Dropout(0.3),\n",
    "            nn.ReLU(),\n",
    "            nn.Linear(100,1)\n",
    "        )\n",
    "        self.final = nn.Sigmoid()\n",
    "        \n",
    "    def forward(self, X, Y1):\n",
    "        orig = X[:,:,:,5,5] # original cells are at the center of 11*11 point\n",
    "        \n",
    "        batch_size, timesteps, C, H, W = X.size()\n",
    "        \n",
    "        c_in = X.view(batch_size * timesteps, C, H, W)\n",
    "        c_out = self.conv(c_in)\n",
    "        \n",
    "        # reshape and concatenate the original data\n",
    "        r_in = c_out.view(batch_size, timesteps, -1)\n",
    "        r_in = torch.cat((orig, r_in), axis = 2)\n",
    "        \n",
    "        h0 = torch.zeros(1, X.size(0), 100).to(device)\n",
    "        \n",
    "        X, _ = self.GRU(r_in, h0)\n",
    "        X = X[:,-1, :].unsqueeze(1)\n",
    "        X = self.net(X[:,-1])\n",
    "        X = X.squeeze() * Y1\n",
    " \n",
    "        \n",
    "        return X\n"
   ]
  },
  {
   "cell_type": "code",
   "execution_count": 100,
   "id": "f6c76e30",
   "metadata": {},
   "outputs": [],
   "source": [
    "class RNNCNN2(nn.Module): # auc: 0.692\n",
    "    def __init__(self):\n",
    "        super(RNNCNN2, self).__init__()\n",
    "        self.conv = nn.Sequential(\n",
    "             nn.Conv2d(in_channels= 39, out_channels = 5, kernel_size = (3,3)),\n",
    "            nn.MaxPool2d(2),\n",
    "            nn.ReLU(), \n",
    "            nn.Dropout2d(0.3),\n",
    "            nn.Conv2d(in_channels = 5, out_channels = 20, kernel_size = (3,3)),\n",
    "            nn.MaxPool2d(2),\n",
    "            nn.ReLU(),\n",
    "            nn.Dropout2d(0.3),\n",
    "            nn.Flatten()\n",
    "         \n",
    "        )\n",
    "        self.GRU = nn.GRU(input_size = 59 ,hidden_size = 150, batch_first = True)\n",
    "        self.net = nn.Sequential(\n",
    "            nn.Linear(150,100),\n",
    "            nn.Dropout(0.3),\n",
    "            nn.ReLU(),\n",
    "            nn.Linear(100,1)\n",
    "        )\n",
    "        self.final = nn.Sigmoid()\n",
    "        \n",
    "    def forward(self, X, Y1):\n",
    "        orig = X[:,:,:,5,5] # original cells are at the center of 11*11 point\n",
    "        \n",
    "        batch_size, timesteps, C, H, W = X.size()\n",
    "        \n",
    "        c_in = X.view(batch_size * timesteps, C, H, W)\n",
    "        c_out = self.conv(c_in)\n",
    "        \n",
    "        # reshape and concatenate the original data\n",
    "        r_in = c_out.view(batch_size, timesteps, -1)\n",
    "        r_in = torch.cat((orig, r_in), axis = 2)\n",
    "        \n",
    "        h0 = torch.zeros(1, X.size(0), 150).to(device)\n",
    "        \n",
    "        X, _ = self.GRU(r_in, h0)\n",
    "        X = X[:,-1, :].unsqueeze(1)\n",
    "        X = self.net(X[:,-1])\n",
    "        X = X.squeeze() * Y1\n",
    " \n",
    "        \n",
    "        return X\n"
   ]
  },
  {
   "cell_type": "code",
   "execution_count": 101,
   "id": "a3d0ef92",
   "metadata": {},
   "outputs": [],
   "source": [
    "class RNNCNN3(nn.Module): # auc: 0.692\n",
    "    def __init__(self):\n",
    "        super(RNNCNN3, self).__init__()\n",
    "        self.conv = nn.Sequential(\n",
    "             nn.Conv2d(in_channels= 39, out_channels = 5, kernel_size = (3,3)),\n",
    "            nn.MaxPool2d(2),\n",
    "            nn.ReLU(), \n",
    "            nn.Dropout2d(0.3),\n",
    "            nn.Conv2d(in_channels = 5, out_channels = 5, kernel_size = (3,3)),\n",
    "            nn.MaxPool2d(2),\n",
    "            nn.ReLU(),\n",
    "            nn.Dropout2d(0.3),\n",
    "            nn.Flatten()\n",
    "         \n",
    "        )\n",
    "        self.GRU = nn.GRU(input_size = 44 ,hidden_size = 75, batch_first = True)\n",
    "        self.net = nn.Sequential(\n",
    "            nn.Linear(75,100),\n",
    "            nn.Dropout(0.3),\n",
    "            nn.ReLU(),\n",
    "            nn.Linear(100,1)\n",
    "        )\n",
    "        self.final = nn.Sigmoid()\n",
    "        \n",
    "    def forward(self, X, Y1):\n",
    "        orig = X[:,:,:,5,5] # original cells are at the center of 11*11 point\n",
    "        \n",
    "        batch_size, timesteps, C, H, W = X.size()\n",
    "        \n",
    "        c_in = X.view(batch_size * timesteps, C, H, W)\n",
    "        c_out = self.conv(c_in)\n",
    "        \n",
    "        # reshape and concatenate the original data\n",
    "        r_in = c_out.view(batch_size, timesteps, -1)\n",
    "        r_in = torch.cat((orig, r_in), axis = 2)\n",
    "        \n",
    "        h0 = torch.zeros(1, X.size(0), 75).to(device)\n",
    "        \n",
    "        X, _ = self.GRU(r_in, h0)\n",
    "        X = X[:,-1, :].unsqueeze(1)\n",
    "        X = self.net(X[:,-1])\n",
    "        X = X.squeeze() * Y1\n",
    " \n",
    "        \n",
    "        return X\n"
   ]
  },
  {
   "cell_type": "code",
   "execution_count": 102,
   "id": "bfbaac5c",
   "metadata": {},
   "outputs": [],
   "source": [
    "models = [0,1,2,3]"
   ]
  },
  {
   "cell_type": "code",
   "execution_count": 103,
   "id": "05cb02e3",
   "metadata": {},
   "outputs": [],
   "source": [
    "def train(models, X_train, Y_train, Y1_train, train_labels, X_val, Y_val, Y1_val, val_labels, num_epochs, lr, batch_per_e = 100 ):\n",
    "\n",
    "    best_auc, best_f1, best_model, best_epoch, best_lr = 0,0,0,0,0\n",
    "    auc_clust_hist = {}\n",
    "    f1_clust_hist = {}\n",
    "    clust_models = {}\n",
    "    param_clust_hist = {} \n",
    "    \n",
    "    for clust in train_labels[0].unique():\n",
    "        \n",
    "        best_auc = 0\n",
    "        best_f1 = 0\n",
    "        best_model = np.NaN\n",
    "        idxs = train_labels[train_labels[0] == clust].index\n",
    "        xt = X_train[idxs]\n",
    "        yt = Y_train[idxs]\n",
    "        \n",
    "        if np.sum(yt==1) >10:\n",
    "            oversample = SMOTE()\n",
    "            xt, yt = oversample.fit_resample(xt, yt)\n",
    "        \n",
    "        y1t = xt[:,-1]\n",
    "        y1t[y1t>0.5] =  np.ceil(y1t[y1t > 0.5])\n",
    "\n",
    "        xt = np.delete(xt, -1, -1)\n",
    "        xt = xt.reshape(xt.shape[0], 3, block_size, block_size, 39)\n",
    "        xt = np.moveaxis(xt, -1, 2)\n",
    "\n",
    "        xt = torch.tensor(xt).float().to(device)\n",
    "        y1t = torch.tensor(y1t).float().to(device)\n",
    "        yt = torch.tensor(yt).float().to(device)\n",
    "        \n",
    "         # validation set for the clusters\n",
    "        idxs = val_labels[val_labels[0] == clust].index\n",
    "        xv = X_val[idxs]\n",
    "        yv = Y_val[idxs]\n",
    "        y1v = Y1_val[idxs]\n",
    "\n",
    "        yv = torch.tensor(yv).float().to(device)\n",
    "        yn = yv.cpu().detach().numpy()\n",
    "\n",
    "        for i, size in enumerate(models):\n",
    "            for lr in [0.0000051, 0.00000051]:\n",
    "\n",
    "                if size == 0: model = RNNCNN()         \n",
    "                elif size ==1: model = RNNCNN1()                \n",
    "                elif size == 2: model = RNNCNN2()\n",
    "                elif size == 3: model = RNNCNN3()\n",
    "\n",
    "                ROC_history = []     \n",
    "                optimizer = optim.Adam(model.parameters(), lr=lr) \n",
    "                SigBCEloss = nn.BCEWithLogitsLoss()\n",
    "\n",
    "                for epoch in range(num_epochs):\n",
    "                    epoch_loss = []\n",
    "    #                 print(\"epoch: {} of {}\".format(epoch, num_epochs))\n",
    "                    for batch in range(batch_per_e):\n",
    "\n",
    "                        x, y, y1 = get_batch(xt, yt, y1t, 6)\n",
    "\n",
    "                        model.train()\n",
    "\n",
    "                        optimizer.zero_grad()\n",
    "                        out = model(x, y1).squeeze()\n",
    "\n",
    "\n",
    "                        loss = SigBCEloss(out, y)\n",
    "                        loss.backward()\n",
    "                        optimizer.step()\n",
    "\n",
    "\n",
    "                        epoch_loss.append(loss.detach().numpy())\n",
    "\n",
    "                    model.eval()\n",
    "\n",
    "                    out = model(xv, y1v) \n",
    "                    ROC = roc_auc_score(yn, model.final(out).detach().numpy())\n",
    "                    out = out.squeeze().detach().numpy()\n",
    "\n",
    "                    preds = np.zeros(len(out))\n",
    "                    pos = out.argsort()[-((yn == 1).sum()):]\n",
    "                    preds[pos] = 1\n",
    "\n",
    "                    f1 = f1_score(yv, preds)\n",
    "\n",
    "                    ROC_history.append(ROC)\n",
    "\n",
    "                    if ROC > best_auc:\n",
    "                        print(\"best UAC in cluster {}: {} with model {}, f1: {}\".format(clust, ROC, size, f1))\n",
    "                        best_auc = ROC\n",
    "                        best_f1 = f1\n",
    "                        param_clust_hist[clust] = [lr, size, epoch]\n",
    "                        clust_models[clust] = deepcopy(model.state_dict())\n",
    "\n",
    "                    train_loss = []\n",
    "                    \n",
    "                print(clust, size, np.max(ROC_history), np.argmax(ROC_history), lr)\n",
    "                plt.plot(ROC_history, alpha = 0.5)\n",
    "                plt.hlines(np.mean(ROC_history), 0, n_epochs, color = \"r\") \n",
    "                linear_model=np.polyfit(range(n_epochs), ROC_history, 2)\n",
    "                linear_model_fn=np.poly1d(linear_model)\n",
    "                x_s=np.arange(0,n_epochs)\n",
    "                plt.plot(linear_model_fn(x_s))  \n",
    "                plt.show()\n",
    "                \n",
    "        auc_clust_hist[clust] = best_auc\n",
    "        f1_clust_hist[clust] = best_f1\n",
    "        \n",
    "    predictions = np.zeros(len(Y_val))\n",
    "    for clust in train_labels[0].unique():\n",
    "        \n",
    "        idxs = val_labels[val_labels[0] == clust].index\n",
    "        xv = X_val[idxs]\n",
    "        y1v = Y1_val[idxs]\n",
    "        size = param_clust_hist[clust][1]\n",
    "        if size == 0: \n",
    "            model = RNNCNN()\n",
    "            model.load_state_dict(clust_models[clust])\n",
    "            model.eval()\n",
    "        elif size ==1: \n",
    "            model = RNNCNN1()\n",
    "            model.load_state_dict(clust_models[clust])\n",
    "            model.eval()\n",
    "        elif size == 2: \n",
    "            model = RNNCNN2()\n",
    "            model.load_state_dict(clust_models[clust])\n",
    "            model.eval()\n",
    "        elif size == 3: \n",
    "            model = RNNCNN3()\n",
    "            model.load_state_dict(clust_models[clust])\n",
    "            model.eval()\n",
    "\n",
    "        preds = model(xv, y1v)\n",
    "        preds = preds.cpu().squeeze().detach().numpy()\n",
    "        predictions[idxs] = preds\n",
    "        \n",
    "    pos_idxs = predictions.argsort()[- (Y_val == 1).sum() : ]\n",
    "    Yhat = np.zeros(len(Y_val))\n",
    "    Yhat[pos_idxs] = 1\n",
    "    auc = roc_auc_score(Y_val, predictions)\n",
    "    f1 = f1_score(Y_val, Yhat)\n",
    "\n",
    "\n",
    "    print(\"auc!! {}\".format(auc))\n",
    "\n",
    "        \n",
    "                \n",
    "                \n",
    "                          \n",
    "    result = np.argmax(ROC_history)\n",
    "    return auc, f1, param_clust_hist, clust_models"
   ]
  },
  {
   "cell_type": "code",
   "execution_count": null,
   "id": "327949ff",
   "metadata": {
    "scrolled": true
   },
   "outputs": [
    {
     "name": "stdout",
     "output_type": "stream",
     "text": [
      "best UAC in cluster 0: 0.45065566835871407 with model 0, f1: 0.125\n",
      "best UAC in cluster 0: 0.503743654822335 with model 0, f1: 0.14583333333333334\n",
      "best UAC in cluster 0: 0.5280774111675127 with model 0, f1: 0.1875\n",
      "best UAC in cluster 0: 0.5390757191201353 with model 0, f1: 0.20833333333333334\n",
      "best UAC in cluster 0: 0.5489424703891709 with model 0, f1: 0.20833333333333334\n",
      "best UAC in cluster 0: 0.5622250423011844 with model 0, f1: 0.22916666666666666\n",
      "best UAC in cluster 0: 0.5857339255499153 with model 0, f1: 0.22916666666666666\n",
      "best UAC in cluster 0: 0.5987732656514382 with model 0, f1: 0.22916666666666666\n",
      "best UAC in cluster 0: 0.6119712351945855 with model 0, f1: 0.22916666666666666\n",
      "best UAC in cluster 0: 0.6221446700507615 with model 0, f1: 0.22916666666666666\n",
      "best UAC in cluster 0: 0.6365693739424704 with model 0, f1: 0.22916666666666666\n",
      "best UAC in cluster 0: 0.6449661590524536 with model 0, f1: 0.22916666666666666\n",
      "best UAC in cluster 0: 0.6548646362098138 with model 0, f1: 0.22916666666666666\n",
      "best UAC in cluster 0: 0.6616962774957699 with model 0, f1: 0.22916666666666666\n",
      "best UAC in cluster 0: 0.6670262267343486 with model 0, f1: 0.22916666666666666\n",
      "best UAC in cluster 0: 0.6725042301184433 with model 0, f1: 0.20833333333333334\n",
      "best UAC in cluster 0: 0.6760363790186125 with model 0, f1: 0.22916666666666666\n",
      "best UAC in cluster 0: 0.6778130287648054 with model 0, f1: 0.20833333333333334\n",
      "best UAC in cluster 0: 0.6798011844331641 with model 0, f1: 0.20833333333333334\n",
      "best UAC in cluster 0: 0.6844120135363789 with model 0, f1: 0.1875\n",
      "best UAC in cluster 0: 0.6865059221658206 with model 0, f1: 0.20833333333333334\n",
      "best UAC in cluster 0: 0.6881345177664975 with model 0, f1: 0.20833333333333334\n",
      "best UAC in cluster 0: 0.6882825719120135 with model 0, f1: 0.20833333333333334\n",
      "best UAC in cluster 0: 0.6892131979695432 with model 0, f1: 0.20833333333333334\n",
      "best UAC in cluster 0: 0.6912648054145516 with model 0, f1: 0.20833333333333334\n",
      "best UAC in cluster 0: 0.6920685279187817 with model 0, f1: 0.20833333333333334\n",
      "best UAC in cluster 0: 0.6924069373942471 with model 0, f1: 0.20833333333333334\n",
      "best UAC in cluster 0: 0.6943527918781726 with model 0, f1: 0.22916666666666666\n",
      "best UAC in cluster 0: 0.6979483925549915 with model 0, f1: 0.22916666666666666\n",
      "best UAC in cluster 0: 0.6988790186125211 with model 0, f1: 0.22916666666666666\n",
      "best UAC in cluster 0: 0.7006133671742809 with model 0, f1: 0.20833333333333334\n",
      "best UAC in cluster 0: 0.7068316412859561 with model 0, f1: 0.22916666666666666\n",
      "best UAC in cluster 0: 0.7070008460236887 with model 0, f1: 0.20833333333333334\n",
      "best UAC in cluster 0: 0.707233502538071 with model 0, f1: 0.20833333333333334\n",
      "best UAC in cluster 0: 0.7088409475465313 with model 0, f1: 0.20833333333333334\n",
      "best UAC in cluster 0: 0.7199873096446702 with model 0, f1: 0.20833333333333334\n",
      "0 0 0.7199873096446702 112 5.1e-06\n"
     ]
    },
    {
     "data": {
      "image/png": "[encoded data removed]",
      "text/plain": [
       "<Figure size 432x288 with 1 Axes>"
      ]
     },
     "metadata": {
      "needs_background": "light"
     },
     "output_type": "display_data"
    },
    {
     "name": "stdout",
     "output_type": "stream",
     "text": [
      "0 0 0.6982762267343485 221 5.1e-07\n"
     ]
    },
    {
     "data": {
      "image/png": "[encoded data removed]",
      "text/plain": [
       "<Figure size 432x288 with 1 Axes>"
      ]
     },
     "metadata": {
      "needs_background": "light"
     },
     "output_type": "display_data"
    },
    {
     "name": "stdout",
     "output_type": "stream",
     "text": [
      "best UAC in cluster 0: 0.7209813874788495 with model 1, f1: 0.1875\n",
      "best UAC in cluster 0: 0.7242174280879865 with model 1, f1: 0.1875\n",
      "best UAC in cluster 0: 0.7277707275803722 with model 1, f1: 0.1875\n",
      "best UAC in cluster 0: 0.7305308798646362 with model 1, f1: 0.1875\n",
      "best UAC in cluster 0: 0.7325507614213198 with model 1, f1: 0.20833333333333334\n",
      "best UAC in cluster 0: 0.7335871404399322 with model 1, f1: 0.20833333333333334\n",
      "best UAC in cluster 0: 0.7346869712351946 with model 1, f1: 0.20833333333333334\n",
      "best UAC in cluster 0: 0.7352368866328257 with model 1, f1: 0.20833333333333334\n",
      "best UAC in cluster 0: 0.7362521150592216 with model 1, f1: 0.20833333333333334\n",
      "best UAC in cluster 0: 0.7378807106598984 with model 1, f1: 0.20833333333333334\n",
      "best UAC in cluster 0: 0.7386209813874788 with model 1, f1: 0.20833333333333334\n",
      "best UAC in cluster 0: 0.7402072758037226 with model 1, f1: 0.20833333333333334\n",
      "best UAC in cluster 0: 0.7403130287648055 with model 1, f1: 0.22916666666666666\n",
      "best UAC in cluster 0: 0.7406302876480542 with model 1, f1: 0.25\n",
      "0 1 0.7406302876480542 29 5.1e-06\n"
     ]
    },
    {
     "data": {
      "image/png": "[encoded data removed]",
      "text/plain": [
       "<Figure size 432x288 with 1 Axes>"
      ]
     },
     "metadata": {
      "needs_background": "light"
     },
     "output_type": "display_data"
    },
    {
     "name": "stdout",
     "output_type": "stream",
     "text": [
      "0 1 0.7182529610829104 506 5.1e-07\n"
     ]
    },
    {
     "data": {
      "image/png": "[encoded data removed]",
      "text/plain": [
       "<Figure size 432x288 with 1 Axes>"
      ]
     },
     "metadata": {
      "needs_background": "light"
     },
     "output_type": "display_data"
    },
    {
     "name": "stdout",
     "output_type": "stream",
     "text": [
      "0 2 0.7199450084602369 39 5.1e-06\n"
     ]
    },
    {
     "data": {
      "image/png": "[encoded data removed]",
      "text/plain": [
       "<Figure size 432x288 with 1 Axes>"
      ]
     },
     "metadata": {
      "needs_background": "light"
     },
     "output_type": "display_data"
    },
    {
     "name": "stdout",
     "output_type": "stream",
     "text": [
      "0 2 0.7092005076142132 447 5.1e-07\n"
     ]
    },
    {
     "data": {
      "image/png": "[encoded data removed]",
      "text/plain": [
       "<Figure size 432x288 with 1 Axes>"
      ]
     },
     "metadata": {
      "needs_background": "light"
     },
     "output_type": "display_data"
    },
    {
     "name": "stdout",
     "output_type": "stream",
     "text": [
      "0 3 0.7205795262267344 79 5.1e-06\n"
     ]
    },
    {
     "data": {
      "image/png": "[encoded data removed]",
      "text/plain": [
       "<Figure size 432x288 with 1 Axes>"
      ]
     },
     "metadata": {
      "needs_background": "light"
     },
     "output_type": "display_data"
    },
    {
     "name": "stdout",
     "output_type": "stream",
     "text": [
      "0 3 0.7076353637901862 588 5.1e-07\n"
     ]
    },
    {
     "data": {
      "image/png": "[encoded data removed]",
      "text/plain": [
       "<Figure size 432x288 with 1 Axes>"
      ]
     },
     "metadata": {
      "needs_background": "light"
     },
     "output_type": "display_data"
    },
    {
     "name": "stdout",
     "output_type": "stream",
     "text": [
      "best UAC in cluster 2: 0.41969596827495037 with model 0, f1: 0.0\n",
      "best UAC in cluster 2: 0.42333113020489094 with model 0, f1: 0.0\n",
      "best UAC in cluster 2: 0.4360541969596828 with model 0, f1: 0.0\n",
      "best UAC in cluster 2: 0.43737607402511564 with model 0, f1: 0.0\n",
      "best UAC in cluster 2: 0.4477858559153999 with model 0, f1: 0.0\n",
      "best UAC in cluster 2: 0.45489094514210177 with model 0, f1: 0.0\n",
      "best UAC in cluster 2: 0.4562128222075347 with model 0, f1: 0.0\n",
      "best UAC in cluster 2: 0.4583608724388632 with model 0, f1: 0.058823529411764705\n",
      "best UAC in cluster 2: 0.46150033046926636 with model 0, f1: 0.058823529411764705\n",
      "best UAC in cluster 2: 0.46513549239920693 with model 0, f1: 0.058823529411764705\n",
      "best UAC in cluster 2: 0.46959682749504295 with model 0, f1: 0.058823529411764705\n",
      "best UAC in cluster 2: 0.47273628552544616 with model 0, f1: 0.058823529411764705\n",
      "best UAC in cluster 2: 0.47851949768671515 with model 0, f1: 0.058823529411764705\n",
      "best UAC in cluster 2: 0.481163251817581 with model 0, f1: 0.058823529411764705\n",
      "best UAC in cluster 2: 0.48793787177792464 with model 0, f1: 0.058823529411764705\n",
      "best UAC in cluster 2: 0.4970257766027759 with model 0, f1: 0.058823529411764705\n",
      "best UAC in cluster 2: 0.5023132848645075 with model 0, f1: 0.058823529411764705\n",
      "best UAC in cluster 2: 0.5038003965631196 with model 0, f1: 0.058823529411764705\n",
      "best UAC in cluster 2: 0.5127230667547917 with model 0, f1: 0.058823529411764705\n",
      "best UAC in cluster 2: 0.514540647719762 with model 0, f1: 0.058823529411764705\n",
      "best UAC in cluster 2: 0.5163582286847322 with model 0, f1: 0.058823529411764705\n",
      "best UAC in cluster 2: 0.5186715135492399 with model 0, f1: 0.058823529411764705\n",
      "best UAC in cluster 2: 0.5237937871777925 with model 0, f1: 0.058823529411764705\n",
      "best UAC in cluster 2: 0.5266027759418375 with model 0, f1: 0.058823529411764705\n",
      "best UAC in cluster 2: 0.5295769993390614 with model 0, f1: 0.058823529411764705\n",
      "best UAC in cluster 2: 0.5345340383344349 with model 0, f1: 0.11764705882352941\n",
      "best UAC in cluster 2: 0.5363516192994052 with model 0, f1: 0.058823529411764705\n",
      "best UAC in cluster 2: 0.5381692002643754 with model 0, f1: 0.058823529411764705\n",
      "best UAC in cluster 2: 0.5409781890284203 with model 0, f1: 0.11764705882352941\n",
      "best UAC in cluster 2: 0.541969596827495 with model 0, f1: 0.11764705882352941\n",
      "best UAC in cluster 2: 0.5424653007270324 with model 0, f1: 0.058823529411764705\n",
      "best UAC in cluster 2: 0.5457699933906146 with model 0, f1: 0.11764705882352941\n"
     ]
    }
   ],
   "source": [
    "n_epochs = 600\n",
    "hists = train(models, X_train, Y_train, Y1_17, train_labels,\n",
    "              X_val, Y_val, Y1_18,val_labels, n_epochs,5.1e-07)\n"
   ]
  },
  {
   "cell_type": "code",
   "execution_count": null,
   "id": "66410079",
   "metadata": {},
   "outputs": [],
   "source": [
    "predictions = np.zeros(len(Y_test))\n",
    "auc_clusters = {}\n",
    "f1_clusters = {}\n",
    "for clust in train_labels[0].unique():\n",
    "  \n",
    "    idxs = test_labels[test_labels[0] == clust].index\n",
    "    xt = torch.tensor(X_test[idxs]).float().to(device)\n",
    "    yt = Y_test[idxs]\n",
    "    y1 = Y1_19[idxs]\n",
    "\n",
    "    size = hists[2][clust][1]\n",
    "    if size == 0: \n",
    "        model = RNNCNN()\n",
    "        model.load_state_dict(hists[3][clust])\n",
    "        model.eval()\n",
    "    elif size ==1: \n",
    "        model = RNNCNN1()\n",
    "        model.load_state_dict(hists[3][clust])\n",
    "        model.eval()\n",
    "    elif size == 2: \n",
    "        model = RNNCNN2()\n",
    "        model.load_state_dict(hists[3][clust])\n",
    "        model.eval()\n",
    "    elif size == 3: \n",
    "        model = RNNCNN3()\n",
    "        model.load_state_dict(hists[3][clust])\n",
    "        model.eval()\n",
    "            \n",
    "    preds = model(xt, y1)\n",
    "    preds = preds.cpu().squeeze().detach().numpy()  \n",
    "    auc = roc_auc_score(yt, preds)\n",
    "    auc_clusters[clust] = auc\n",
    "\n",
    "    Yhat = np.zeros(len(yt))\n",
    "    pos_idxs = preds.argsort()[- (yt == 1).sum() : ]\n",
    "    Yhat[pos_idxs] = 1\n",
    "    f1_clusters[clust] = f1 = f1_score(yt, Yhat)\n",
    "\n",
    "    predictions[idxs] = preds\n",
    "\n",
    "pos_idxs = predictions.argsort()[- (Y_test == 1).sum() : ]\n",
    "Yhat = np.zeros(len(Y_test))\n",
    "Yhat[pos_idxs] = 1\n",
    "auc = roc_auc_score(Y_test, predictions)\n",
    "f1 = f1_score(Y_test, Yhat)\n",
    "print(auc, f1, f1_clusters, auc_clusters)\n",
    "\n",
    "name = \"Nijmegen\"\n",
    "with open (\"../Results/\" + name +\".csv\", \"a+\") as f:\n",
    "    f.write(\"\\nRNN_cluster,{},{}\".format(auc,f1))\n",
    "\n",
    "    \n",
    "with open (\"../Results/\" + name +\"AUC.csv\", \"a+\") as f:\n",
    "    f.write(\"\\nRNNCNN_clust,{},{}\".format(auc_clusters[0],auc_clusters[1],auc_clusters[1]))\n",
    "    \n",
    "with open (\"../Results/\" + name +\"f1.csv\", \"a+\") as f:\n",
    "    f.write(\"\\nRNNCNN_clust,{},{}\".format(f1_clusters[0],f1_clusters[1],f1_clusters[2]))\n",
    "    \n",
    "with open (\"../Results/modellen.csv\", \"a\") as f:\n",
    "    f.write(name + \",RNNCNNcluster,\" + str(hists[2]))"
   ]
  },
  {
   "cell_type": "code",
   "execution_count": null,
   "id": "5383fe1f",
   "metadata": {},
   "outputs": [],
   "source": [
    "hists[2]"
   ]
  },
  {
   "cell_type": "markdown",
   "id": "b37ede21",
   "metadata": {},
   "source": [
    "X_val\n"
   ]
  },
  {
   "cell_type": "code",
   "execution_count": null,
   "id": "547020d3",
   "metadata": {},
   "outputs": [],
   "source": [
    "class RNNCNN(nn.Module): # auc: 0.692\n",
    "    def __init__(self):\n",
    "        super(RNNCNN, self).__init__()\n",
    "        self.conv = nn.Sequential(\n",
    "             nn.Conv2d(in_channels= 39, out_channels = 15, kernel_size = (4,4)),\n",
    "            nn.MaxPool2d(2),\n",
    "            nn.ReLU(), \n",
    "            nn.Dropout2d(0.3),\n",
    "            nn.Conv2d(in_channels = 15, out_channels = 2, kernel_size = (4,4)),\n",
    "            nn.MaxPool2d(2),\n",
    "            nn.ReLU(),\n",
    "            nn.Dropout2d(0.3),\n",
    "            nn.Flatten()\n",
    "         \n",
    "        )\n",
    "        self.GRU = nn.GRU(input_size = 57 ,hidden_size = 100, batch_first = True)\n",
    "        self.net = nn.Sequential(\n",
    "            nn.Linear(100,100),\n",
    "            nn.Dropout(0.3),\n",
    "            nn.ReLU(),\n",
    "            nn.Linear(100,1)\n",
    "        )\n",
    "        self.final = nn.Sigmoid()\n",
    "        \n",
    "    def forward(self, X, Y1):\n",
    "        orig = X[:,:,:,10,10] # original cells are at the center of 11*11 point\n",
    "        \n",
    "        batch_size, timesteps, C, H, W = X.size()\n",
    "        \n",
    "        c_in = X.view(batch_size * timesteps, C, H, W)\n",
    "        c_out = self.conv(c_in)\n",
    "        \n",
    "        # reshape and concatenate the original data\n",
    "        r_in = c_out.view(batch_size, timesteps, -1)\n",
    "        r_in = torch.cat((orig, r_in), axis = 2)\n",
    "        \n",
    "        h0 = torch.zeros(1, X.size(0), 100).to(device)\n",
    "        \n",
    "        X, _ = self.GRU(r_in, h0)\n",
    "        X = X[:,-1, :].unsqueeze(1)\n",
    "        X = self.net(X[:,-1])\n",
    "        X = X.squeeze() * Y1\n",
    " \n",
    "        \n",
    "        return X\n"
   ]
  },
  {
   "cell_type": "code",
   "execution_count": 45,
   "id": "af2a7f66",
   "metadata": {},
   "outputs": [
    {
     "data": {
      "text/plain": [
       "torch.Size([5967, 4, 39, 11, 11])"
      ]
     },
     "execution_count": 45,
     "metadata": {},
     "output_type": "execute_result"
    }
   ],
   "source": [
    "X_val.shape"
   ]
  }
 ],
 "metadata": {
  "kernelspec": {
   "display_name": "Python 3 (ipykernel)",
   "language": "python",
   "name": "python3"
  },
  "language_info": {
   "codemirror_mode": {
    "name": "ipython",
    "version": 3
   },
   "file_extension": ".py",
   "mimetype": "text/x-python",
   "name": "python",
   "nbconvert_exporter": "python",
   "pygments_lexer": "ipython3",
   "version": "3.7.11"
  }
 },
 "nbformat": 4,
 "nbformat_minor": 5
}
