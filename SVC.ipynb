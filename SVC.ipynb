{
 "cells": [
  {
   "cell_type": "code",
   "execution_count": 1,
   "id": "25a85320",
   "metadata": {},
   "outputs": [],
   "source": [
    "import pandas as pd\n",
    "import geopandas as gpd\n",
    "import numpy as np\n",
    "import shapely\n",
    "import libpysal\n",
    "from sklearn.model_selection import train_test_split, GridSearchCV\n",
    "import os\n",
    "from sklearn.metrics import ConfusionMatrixDisplay\n",
    "from sklearn.preprocessing import Normalizer\n",
    "from sklearn.neural_network import MLPClassifier\n",
    "from sklearn.metrics import roc_auc_score, average_precision_score, precision_score, recall_score, accuracy_score\n",
    "from sklearn.ensemble import RandomForestClassifier\n",
    "\n",
    "from sklearn.svm import SVC"
   ]
  },
  {
   "cell_type": "code",
   "execution_count": 41,
   "id": "c04c5959",
   "metadata": {},
   "outputs": [],
   "source": [
    "from imblearn.over_sampling import SMOTE"
   ]
  },
  {
   "cell_type": "code",
   "execution_count": 51,
   "id": "896e97cd",
   "metadata": {},
   "outputs": [
    {
     "data": {
      "text/plain": [
       "count    68406.000000\n",
       "mean         0.500000\n",
       "std          0.500004\n",
       "min          0.000000\n",
       "25%          0.000000\n",
       "50%          0.500000\n",
       "75%          1.000000\n",
       "max          1.000000\n",
       "Name: y, dtype: float64"
      ]
     },
     "execution_count": 51,
     "metadata": {},
     "output_type": "execute_result"
    }
   ],
   "source": []
  },
  {
   "cell_type": "code",
   "execution_count": 2,
   "id": "001d36f9",
   "metadata": {},
   "outputs": [],
   "source": [
    "def load_data(year):\n",
    "    os.getcwd()\n",
    "    df = pd.DataFrame()\n",
    "    path = \"../Data/filled/\" + str(year) + \"/\"\n",
    "    for filename in os.listdir(path):\n",
    "        df1 = pd.read_csv(path + filename)\n",
    "        if df1.geometry.isna().any():\n",
    "            print(filename)\n",
    "        df = pd.concat([df, df1])\n",
    "    df = gpd.GeoDataFrame(df)\n",
    "    df.geometry = df.geometry.apply(shapely.wkt.loads)\n",
    "    \n",
    "    df = df.reset_index()\n",
    "    df = df.drop([\"Unnamed: 0\", \"index\"], axis = 1)\n",
    "    return df"
   ]
  },
  {
   "cell_type": "code",
   "execution_count": 115,
   "id": "f113b568",
   "metadata": {},
   "outputs": [],
   "source": [
    "# df15 = load_data(2015)\n",
    "# df16 = load_data(2016)\n",
    "df17 = load_data(2017)\n",
    "df18 = load_data(2018)\n",
    "df19 = load_data(2019)"
   ]
  },
  {
   "cell_type": "code",
   "execution_count": 98,
   "id": "8f5abc94",
   "metadata": {},
   "outputs": [],
   "source": [
    "X = df15[df15.columns[:-4]]\n",
    "Y = df15.y\n",
    "\n",
    "\n",
    "# weights\n",
    "w = libpysal.weights.DistanceBand.from_dataframe(df15, threshold=150, binary = True, silence_warnings = True)"
   ]
  },
  {
   "cell_type": "code",
   "execution_count": 101,
   "id": "f0475b79",
   "metadata": {},
   "outputs": [],
   "source": [
    "oversample = SMOTE()\n",
    "x, y = oversample.fit_resample(X, Y)\n"
   ]
  },
  {
   "cell_type": "code",
   "execution_count": 103,
   "id": "75a499f9",
   "metadata": {
    "scrolled": true
   },
   "outputs": [
    {
     "name": "stdout",
     "output_type": "stream",
     "text": [
      "Fitting 5 folds for each of 8 candidates, totalling 40 fits\n",
      "[CV 1/5] END .......max_depth=2, oob_score=True;, score=0.650 total time=   4.9s\n",
      "[CV 2/5] END .......max_depth=2, oob_score=True;, score=0.710 total time=   5.2s\n",
      "[CV 3/5] END .......max_depth=2, oob_score=True;, score=0.674 total time=   5.1s\n",
      "[CV 4/5] END .......max_depth=2, oob_score=True;, score=0.676 total time=   4.8s\n",
      "[CV 5/5] END .......max_depth=2, oob_score=True;, score=0.610 total time=   4.9s\n",
      "[CV 1/5] END ......max_depth=2, oob_score=False;, score=0.645 total time=   4.0s\n",
      "[CV 2/5] END ......max_depth=2, oob_score=False;, score=0.713 total time=   4.0s\n",
      "[CV 3/5] END ......max_depth=2, oob_score=False;, score=0.669 total time=   4.1s\n",
      "[CV 4/5] END ......max_depth=2, oob_score=False;, score=0.673 total time=   4.4s\n",
      "[CV 5/5] END ......max_depth=2, oob_score=False;, score=0.622 total time=   4.7s\n",
      "[CV 1/5] END .......max_depth=4, oob_score=True;, score=0.663 total time=   7.9s\n",
      "[CV 2/5] END .......max_depth=4, oob_score=True;, score=0.707 total time=   8.1s\n",
      "[CV 3/5] END .......max_depth=4, oob_score=True;, score=0.709 total time=   8.2s\n",
      "[CV 4/5] END .......max_depth=4, oob_score=True;, score=0.689 total time=   9.1s\n",
      "[CV 5/5] END .......max_depth=4, oob_score=True;, score=0.635 total time=   8.1s\n",
      "[CV 1/5] END ......max_depth=4, oob_score=False;, score=0.664 total time=   7.0s\n",
      "[CV 2/5] END ......max_depth=4, oob_score=False;, score=0.710 total time=   7.5s\n",
      "[CV 3/5] END ......max_depth=4, oob_score=False;, score=0.708 total time=   7.1s\n",
      "[CV 4/5] END ......max_depth=4, oob_score=False;, score=0.690 total time=   7.1s\n",
      "[CV 5/5] END ......max_depth=4, oob_score=False;, score=0.629 total time=   7.0s\n",
      "[CV 1/5] END .......max_depth=6, oob_score=True;, score=0.712 total time=  11.0s\n",
      "[CV 2/5] END .......max_depth=6, oob_score=True;, score=0.748 total time=  11.2s\n",
      "[CV 3/5] END .......max_depth=6, oob_score=True;, score=0.756 total time=  12.2s\n",
      "[CV 4/5] END .......max_depth=6, oob_score=True;, score=0.709 total time=  11.1s\n",
      "[CV 5/5] END .......max_depth=6, oob_score=True;, score=0.649 total time=  11.1s\n",
      "[CV 1/5] END ......max_depth=6, oob_score=False;, score=0.717 total time=  11.3s\n",
      "[CV 2/5] END ......max_depth=6, oob_score=False;, score=0.734 total time=  11.8s\n",
      "[CV 3/5] END ......max_depth=6, oob_score=False;, score=0.754 total time=  10.7s\n",
      "[CV 4/5] END ......max_depth=6, oob_score=False;, score=0.718 total time=  10.7s\n",
      "[CV 5/5] END ......max_depth=6, oob_score=False;, score=0.648 total time=  10.2s\n",
      "[CV 1/5] END .......max_depth=8, oob_score=True;, score=0.737 total time=  13.8s\n",
      "[CV 2/5] END .......max_depth=8, oob_score=True;, score=0.752 total time=  14.3s\n",
      "[CV 3/5] END .......max_depth=8, oob_score=True;, score=0.772 total time=  15.8s\n",
      "[CV 4/5] END .......max_depth=8, oob_score=True;, score=0.726 total time=  15.9s\n",
      "[CV 5/5] END .......max_depth=8, oob_score=True;, score=0.656 total time=  15.9s\n",
      "[CV 1/5] END ......max_depth=8, oob_score=False;, score=0.736 total time=  15.1s\n",
      "[CV 2/5] END ......max_depth=8, oob_score=False;, score=0.756 total time=  14.5s\n",
      "[CV 3/5] END ......max_depth=8, oob_score=False;, score=0.783 total time=  14.8s\n",
      "[CV 4/5] END ......max_depth=8, oob_score=False;, score=0.719 total time=  14.4s\n",
      "[CV 5/5] END ......max_depth=8, oob_score=False;, score=0.663 total time=  16.2s\n"
     ]
    },
    {
     "data": {
      "text/plain": [
       "GridSearchCV(cv=5, estimator=RandomForestClassifier(),\n",
       "             param_grid={'max_depth': [2, 4, 6, 8], 'oob_score': [True, False]},\n",
       "             scoring='balanced_accuracy', verbose=3)"
      ]
     },
     "execution_count": 103,
     "metadata": {},
     "output_type": "execute_result"
    }
   ],
   "source": [
    "# Train the transition model:\n",
    "clf = SVC(class_weight='balanced', probability=True, verbose = True)\n",
    "\n",
    "\n",
    "params = {\"max_depth\": [2,4,6,8], \"oob_score\" : [True, False]}\n",
    "clf = GridSearchCV( RandomForestClassifier(), params, cv = 5, scoring = \"balanced_accuracy\",\n",
    "                               verbose = 3)\n",
    "clf_bagger = GridSearchCV(RandomForestClassifier(), params, cv = 5, scoring = \"balanced_accuracy\",\n",
    "                               verbose = 3)\n",
    "\n",
    "clf.fit(x,y)"
   ]
  },
  {
   "cell_type": "code",
   "execution_count": 104,
   "id": "7c0256d6",
   "metadata": {},
   "outputs": [],
   "source": [
    "grid_transitions = pd.DataFrame(clf.predict_proba(X)).set_index(X.index)[1]"
   ]
  },
  {
   "cell_type": "code",
   "execution_count": 105,
   "id": "3bf66057",
   "metadata": {},
   "outputs": [],
   "source": [
    "#create neighborhood function:\n",
    "neighbors = [w.neighbors[x] for x in X.index] # get train neighbors\n",
    "transitions = [grid_transitions.loc[x].values for x in neighbors] # get the trans ps of neighbors\n",
    "n_function = np.zeros((len(transitions), w.max_neighbors + 1)) # create array to hold\n",
    "\n",
    "for i, (t, idx) in enumerate(zip(transitions, X.index)): # fill array\n",
    "    n_function[i, 1:len(t) + 1] = t\n",
    "    n_function[i, 0] = grid_transitions.loc[idx]\n",
    "    \n",
    "n_function = pd.DataFrame(n_function).set_index(X.index)"
   ]
  },
  {
   "cell_type": "code",
   "execution_count": 106,
   "id": "06169eb4",
   "metadata": {},
   "outputs": [
    {
     "name": "stdout",
     "output_type": "stream",
     "text": [
      "Fitting 5 folds for each of 8 candidates, totalling 40 fits\n",
      "[CV 1/5] END .......max_depth=2, oob_score=True;, score=0.737 total time=   4.8s\n",
      "[CV 2/5] END .......max_depth=2, oob_score=True;, score=0.719 total time=   5.0s\n",
      "[CV 3/5] END .......max_depth=2, oob_score=True;, score=0.705 total time=   5.1s\n",
      "[CV 4/5] END .......max_depth=2, oob_score=True;, score=0.723 total time=   4.4s\n",
      "[CV 5/5] END .......max_depth=2, oob_score=True;, score=0.642 total time=   4.6s\n",
      "[CV 1/5] END ......max_depth=2, oob_score=False;, score=0.739 total time=   4.2s\n",
      "[CV 2/5] END ......max_depth=2, oob_score=False;, score=0.716 total time=   4.4s\n",
      "[CV 3/5] END ......max_depth=2, oob_score=False;, score=0.711 total time=   4.2s\n",
      "[CV 4/5] END ......max_depth=2, oob_score=False;, score=0.722 total time=   4.1s\n",
      "[CV 5/5] END ......max_depth=2, oob_score=False;, score=0.640 total time=   4.3s\n",
      "[CV 1/5] END .......max_depth=4, oob_score=True;, score=0.747 total time=   7.8s\n",
      "[CV 2/5] END .......max_depth=4, oob_score=True;, score=0.723 total time=   7.7s\n",
      "[CV 3/5] END .......max_depth=4, oob_score=True;, score=0.717 total time=   7.7s\n",
      "[CV 4/5] END .......max_depth=4, oob_score=True;, score=0.730 total time=   8.1s\n",
      "[CV 5/5] END .......max_depth=4, oob_score=True;, score=0.646 total time=   7.9s\n",
      "[CV 1/5] END ......max_depth=4, oob_score=False;, score=0.744 total time=   7.7s\n",
      "[CV 2/5] END ......max_depth=4, oob_score=False;, score=0.724 total time=   7.7s\n",
      "[CV 3/5] END ......max_depth=4, oob_score=False;, score=0.716 total time=   7.2s\n",
      "[CV 4/5] END ......max_depth=4, oob_score=False;, score=0.731 total time=   7.7s\n",
      "[CV 5/5] END ......max_depth=4, oob_score=False;, score=0.647 total time=   7.3s\n",
      "[CV 1/5] END .......max_depth=6, oob_score=True;, score=0.753 total time=  11.0s\n",
      "[CV 2/5] END .......max_depth=6, oob_score=True;, score=0.732 total time=  11.2s\n",
      "[CV 3/5] END .......max_depth=6, oob_score=True;, score=0.723 total time=  11.0s\n",
      "[CV 4/5] END .......max_depth=6, oob_score=True;, score=0.737 total time=  11.2s\n",
      "[CV 5/5] END .......max_depth=6, oob_score=True;, score=0.650 total time=  10.9s\n",
      "[CV 1/5] END ......max_depth=6, oob_score=False;, score=0.751 total time=  10.0s\n",
      "[CV 2/5] END ......max_depth=6, oob_score=False;, score=0.732 total time=  10.2s\n",
      "[CV 3/5] END ......max_depth=6, oob_score=False;, score=0.724 total time=  10.7s\n",
      "[CV 4/5] END ......max_depth=6, oob_score=False;, score=0.736 total time=  11.2s\n",
      "[CV 5/5] END ......max_depth=6, oob_score=False;, score=0.651 total time=  10.6s\n",
      "[CV 1/5] END .......max_depth=8, oob_score=True;, score=0.762 total time=  14.7s\n",
      "[CV 2/5] END .......max_depth=8, oob_score=True;, score=0.741 total time=  14.8s\n",
      "[CV 3/5] END .......max_depth=8, oob_score=True;, score=0.739 total time=  14.6s\n",
      "[CV 4/5] END .......max_depth=8, oob_score=True;, score=0.747 total time=  15.1s\n",
      "[CV 5/5] END .......max_depth=8, oob_score=True;, score=0.662 total time=  14.9s\n",
      "[CV 1/5] END ......max_depth=8, oob_score=False;, score=0.761 total time=  12.3s\n",
      "[CV 2/5] END ......max_depth=8, oob_score=False;, score=0.742 total time=  12.5s\n",
      "[CV 3/5] END ......max_depth=8, oob_score=False;, score=0.738 total time=  12.7s\n",
      "[CV 4/5] END ......max_depth=8, oob_score=False;, score=0.748 total time=  13.8s\n",
      "[CV 5/5] END ......max_depth=8, oob_score=False;, score=0.661 total time=  13.7s\n"
     ]
    },
    {
     "data": {
      "text/plain": [
       "GridSearchCV(cv=5, estimator=RandomForestClassifier(),\n",
       "             param_grid={'max_depth': [2, 4, 6, 8], 'oob_score': [True, False]},\n",
       "             scoring='balanced_accuracy', verbose=3)"
      ]
     },
     "execution_count": 106,
     "metadata": {},
     "output_type": "execute_result"
    }
   ],
   "source": [
    "oversample = SMOTE()\n",
    "x, y = oversample.fit_resample(n_function, Y)\n",
    "# fit bag model:\n",
    "clf_bagger.fit(x, y)"
   ]
  },
  {
   "cell_type": "code",
   "execution_count": 107,
   "id": "6df28778",
   "metadata": {},
   "outputs": [],
   "source": [
    "# predicting:\n",
    "X = df16[df16.columns[:-4]]\n",
    "Y = df16.y\n",
    "\n",
    "# weights\n",
    "w = libpysal.weights.DistanceBand.from_dataframe(df16, threshold=150, binary = True, silence_warnings = True)\n",
    "grid_transitions = pd.DataFrame(clf.predict_proba(X)).set_index(X.index)[1]\n"
   ]
  },
  {
   "cell_type": "code",
   "execution_count": 108,
   "id": "d62ea891",
   "metadata": {},
   "outputs": [],
   "source": [
    "#create neighborhood function:\n",
    "neighbors = [w.neighbors[x] for x in X.index] # get train neighbors\n",
    "transitions = [grid_transitions.loc[x].values for x in neighbors] # get the trans ps of neighbors\n",
    "n_function = np.zeros((len(transitions), w.max_neighbors + 1)) # create array to hold\n",
    "\n",
    "for i, (t, idx) in enumerate(zip(transitions, X.index)): # fill array\n",
    "    n_function[i, 1:len(t) + 1] = t\n",
    "    n_function[i, 0] = grid_transitions.loc[idx]"
   ]
  },
  {
   "cell_type": "code",
   "execution_count": 109,
   "id": "ad2d72e9",
   "metadata": {},
   "outputs": [],
   "source": [
    "preds = clf_bagger.predict(n_function)"
   ]
  },
  {
   "cell_type": "code",
   "execution_count": 110,
   "id": "fe798542",
   "metadata": {},
   "outputs": [
    {
     "data": {
      "text/plain": [
       "0.6314418818740152"
      ]
     },
     "execution_count": 110,
     "metadata": {},
     "output_type": "execute_result"
    }
   ],
   "source": [
    "clf_bagger.score(n_function, Y)"
   ]
  },
  {
   "cell_type": "code",
   "execution_count": 111,
   "id": "5919e978",
   "metadata": {},
   "outputs": [
    {
     "data": {
      "text/plain": [
       "0.5498857578065499"
      ]
     },
     "execution_count": 111,
     "metadata": {},
     "output_type": "execute_result"
    }
   ],
   "source": [
    "recall_score(Y, clf_bagger.predict(n_function))"
   ]
  },
  {
   "cell_type": "code",
   "execution_count": 114,
   "id": "ea5af73e",
   "metadata": {},
   "outputs": [
    {
     "data": {
      "text/plain": [
       "0.5139960326206745"
      ]
     },
     "execution_count": 114,
     "metadata": {},
     "output_type": "execute_result"
    }
   ],
   "source": [
    "X = df17[df16.columns[:-4]]\n",
    "Y = df17.y\n",
    "\n",
    "# weights\n",
    "w = libpysal.weights.DistanceBand.from_dataframe(df17, threshold=150, binary = True, silence_warnings = True)\n",
    "grid_transitions = pd.DataFrame(clf.predict_proba(X)).set_index(X.index)[1]\n",
    "\n",
    "neighbors = [w.neighbors[x] for x in X.index] # get train neighbors\n",
    "transitions = [grid_transitions.loc[x].values for x in neighbors] # get the trans ps of neighbors\n",
    "n_function = np.zeros((len(transitions), w.max_neighbors + 1)) # create array to hold\n",
    "\n",
    "for i, (t, idx) in enumerate(zip(transitions, X.index)): # fill array\n",
    "    n_function[i, 1:len(t) + 1] = t\n",
    "    n_function[i, 0] = grid_transitions.loc[idx]\n",
    "    \n",
    "preds = clf_bagger.predict(n_function)\n",
    "\n",
    "clf_bagger.score(n_function, Y)\n",
    "\n",
    "recall_score(Y, clf_bagger.predict(n_function))"
   ]
  },
  {
   "cell_type": "code",
   "execution_count": null,
   "id": "9bac6e1e",
   "metadata": {},
   "outputs": [],
   "source": [
    "df17.isna()"
   ]
  },
  {
   "cell_type": "code",
   "execution_count": 117,
   "id": "a2856efc",
   "metadata": {},
   "outputs": [
    {
     "data": {
      "text/plain": [
       "0.5036399735274653"
      ]
     },
     "execution_count": 117,
     "metadata": {},
     "output_type": "execute_result"
    }
   ],
   "source": [
    "X = df18[df18.columns[:-4]]\n",
    "Y = df18.y\n",
    "\n",
    "# weights\n",
    "w = libpysal.weights.DistanceBand.from_dataframe(df18, threshold=150, binary = True, silence_warnings = True)\n",
    "grid_transitions = pd.DataFrame(clf.predict_proba(X)).set_index(X.index)[1]\n",
    "\n",
    "neighbors = [w.neighbors[x] for x in X.index] # get train neighbors\n",
    "transitions = [grid_transitions.loc[x].values for x in neighbors] # get the trans ps of neighbors\n",
    "n_function = np.zeros((len(transitions), w.max_neighbors + 1)) # create array to hold\n",
    "\n",
    "for i, (t, idx) in enumerate(zip(transitions, X.index)): # fill array\n",
    "    n_function[i, 1:len(t) + 1] = t\n",
    "    n_function[i, 0] = grid_transitions.loc[idx]\n",
    "    \n",
    "preds = clf_bagger.predict(n_function)\n",
    "\n",
    "clf_bagger.score(n_function, Y)\n",
    "\n",
    "recall_score(Y, clf_bagger.predict(n_function))"
   ]
  },
  {
   "cell_type": "code",
   "execution_count": 118,
   "id": "2ec1a696",
   "metadata": {},
   "outputs": [
    {
     "data": {
      "text/plain": [
       "0.44545196939642956"
      ]
     },
     "execution_count": 118,
     "metadata": {},
     "output_type": "execute_result"
    }
   ],
   "source": [
    "X = df19[df19.columns[:-4]]\n",
    "Y = df19.y\n",
    "\n",
    "# weights\n",
    "w = libpysal.weights.DistanceBand.from_dataframe(df19, threshold=150, binary = True, silence_warnings = True)\n",
    "grid_transitions = pd.DataFrame(clf.predict_proba(X)).set_index(X.index)[1]\n",
    "\n",
    "neighbors = [w.neighbors[x] for x in X.index] # get train neighbors\n",
    "transitions = [grid_transitions.loc[x].values for x in neighbors] # get the trans ps of neighbors\n",
    "n_function = np.zeros((len(transitions), w.max_neighbors + 1)) # create array to hold\n",
    "\n",
    "for i, (t, idx) in enumerate(zip(transitions, X.index)): # fill array\n",
    "    n_function[i, 1:len(t) + 1] = t\n",
    "    n_function[i, 0] = grid_transitions.loc[idx]\n",
    "    \n",
    "preds = clf_bagger.predict(n_function)\n",
    "\n",
    "clf_bagger.score(n_function, Y)\n",
    "\n",
    "recall_score(Y, clf_bagger.predict(n_function))"
   ]
  },
  {
   "cell_type": "code",
   "execution_count": null,
   "id": "2e0aaead",
   "metadata": {},
   "outputs": [],
   "source": []
  }
 ],
 "metadata": {
  "kernelspec": {
   "display_name": "Python 3 (ipykernel)",
   "language": "python",
   "name": "python3"
  },
  "language_info": {
   "codemirror_mode": {
    "name": "ipython",
    "version": 3
   },
   "file_extension": ".py",
   "mimetype": "text/x-python",
   "name": "python",
   "nbconvert_exporter": "python",
   "pygments_lexer": "ipython3",
   "version": "3.7.11"
  }
 },
 "nbformat": 4,
 "nbformat_minor": 5
}
