{
 "cells": [
  {
   "cell_type": "code",
   "execution_count": 3,
   "id": "11400b33",
   "metadata": {},
   "outputs": [],
   "source": [
    "rep_df = gpd.read_file(\"../Data/20200720 - Basis 100x100 grid.shp\")\n",
    "vierkant = gpd.read_file(\"../Data/NLvierkant/NL_vierkant100m.shp\")\n",
    "vierkant[\"centroid\"] = vierkant.geometry.apply(lambda x: x.centroid)\n",
    "\n",
    "lb = gpd.read_file(\"../Data/barometer/shapegrid2018/woongebied_grids.shp\", delimiter = \";\")"
   ]
  },
  {
   "cell_type": "code",
   "execution_count": 72,
   "id": "f0f2d9e7",
   "metadata": {},
   "outputs": [
    {
     "data": {
      "text/html": [
       "<div>\n",
       "<style scoped>\n",
       "    .dataframe tbody tr th:only-of-type {\n",
       "        vertical-align: middle;\n",
       "    }\n",
       "\n",
       "    .dataframe tbody tr th {\n",
       "        vertical-align: top;\n",
       "    }\n",
       "\n",
       "    .dataframe thead th {\n",
       "        text-align: right;\n",
       "    }\n",
       "</style>\n",
       "<table border=\"1\" class=\"dataframe\">\n",
       "  <thead>\n",
       "    <tr style=\"text-align: right;\">\n",
       "      <th></th>\n",
       "      <th>Id</th>\n",
       "      <th>gridcode</th>\n",
       "      <th>geometry</th>\n",
       "      <th>centroid</th>\n",
       "    </tr>\n",
       "  </thead>\n",
       "  <tbody>\n",
       "    <tr>\n",
       "      <th>0</th>\n",
       "      <td>0</td>\n",
       "      <td>73000.0</td>\n",
       "      <td>POLYGON ((177500.000 309600.000, 177400.000 30...</td>\n",
       "      <td>POINT (177450.000 309650.000)</td>\n",
       "    </tr>\n",
       "    <tr>\n",
       "      <th>1</th>\n",
       "      <td>0</td>\n",
       "      <td>49287.0</td>\n",
       "      <td>POLYGON ((184900.000 308700.000, 184886.793 30...</td>\n",
       "      <td>POINT (184854.960 308765.412)</td>\n",
       "    </tr>\n",
       "    <tr>\n",
       "      <th>2</th>\n",
       "      <td>0</td>\n",
       "      <td>67930.0</td>\n",
       "      <td>POLYGON ((199100.000 309469.004, 199073.502 30...</td>\n",
       "      <td>POINT (199039.847 309462.434)</td>\n",
       "    </tr>\n",
       "    <tr>\n",
       "      <th>3</th>\n",
       "      <td>0</td>\n",
       "      <td>65224.0</td>\n",
       "      <td>POLYGON ((192765.353 309325.402, 192764.574 30...</td>\n",
       "      <td>POINT (192756.920 309326.778)</td>\n",
       "    </tr>\n",
       "    <tr>\n",
       "      <th>4</th>\n",
       "      <td>0</td>\n",
       "      <td>83776.0</td>\n",
       "      <td>POLYGON ((197800.000 310043.410, 197800.000 31...</td>\n",
       "      <td>POINT (197804.710 310048.213)</td>\n",
       "    </tr>\n",
       "    <tr>\n",
       "      <th>...</th>\n",
       "      <td>...</td>\n",
       "      <td>...</td>\n",
       "      <td>...</td>\n",
       "      <td>...</td>\n",
       "    </tr>\n",
       "    <tr>\n",
       "      <th>695008</th>\n",
       "      <td>0</td>\n",
       "      <td>22870.0</td>\n",
       "      <td>POLYGON ((186200.000 307733.229, 186194.952 30...</td>\n",
       "      <td>POINT (186186.883 307745.118)</td>\n",
       "    </tr>\n",
       "    <tr>\n",
       "      <th>695009</th>\n",
       "      <td>0</td>\n",
       "      <td>30922.0</td>\n",
       "      <td>POLYGON ((198425.036 308000.000, 198400.000 30...</td>\n",
       "      <td>POINT (198414.351 308051.111)</td>\n",
       "    </tr>\n",
       "    <tr>\n",
       "      <th>695010</th>\n",
       "      <td>0</td>\n",
       "      <td>25571.0</td>\n",
       "      <td>POLYGON ((192000.000 307843.182, 192000.000 30...</td>\n",
       "      <td>POINT (191972.662 307858.374)</td>\n",
       "    </tr>\n",
       "    <tr>\n",
       "      <th>695011</th>\n",
       "      <td>0</td>\n",
       "      <td>30912.0</td>\n",
       "      <td>POLYGON ((197400.000 308020.229, 197400.000 30...</td>\n",
       "      <td>POINT (197423.822 308057.424)</td>\n",
       "    </tr>\n",
       "    <tr>\n",
       "      <th>695012</th>\n",
       "      <td>0</td>\n",
       "      <td>25637.0</td>\n",
       "      <td>POLYGON ((198527.150 307800.000, 198500.000 30...</td>\n",
       "      <td>POINT (198521.586 307848.030)</td>\n",
       "    </tr>\n",
       "  </tbody>\n",
       "</table>\n",
       "<p>695013 rows × 4 columns</p>\n",
       "</div>"
      ],
      "text/plain": [
       "        Id  gridcode                                           geometry  \\\n",
       "0        0   73000.0  POLYGON ((177500.000 309600.000, 177400.000 30...   \n",
       "1        0   49287.0  POLYGON ((184900.000 308700.000, 184886.793 30...   \n",
       "2        0   67930.0  POLYGON ((199100.000 309469.004, 199073.502 30...   \n",
       "3        0   65224.0  POLYGON ((192765.353 309325.402, 192764.574 30...   \n",
       "4        0   83776.0  POLYGON ((197800.000 310043.410, 197800.000 31...   \n",
       "...     ..       ...                                                ...   \n",
       "695008   0   22870.0  POLYGON ((186200.000 307733.229, 186194.952 30...   \n",
       "695009   0   30922.0  POLYGON ((198425.036 308000.000, 198400.000 30...   \n",
       "695010   0   25571.0  POLYGON ((192000.000 307843.182, 192000.000 30...   \n",
       "695011   0   30912.0  POLYGON ((197400.000 308020.229, 197400.000 30...   \n",
       "695012   0   25637.0  POLYGON ((198527.150 307800.000, 198500.000 30...   \n",
       "\n",
       "                             centroid  \n",
       "0       POINT (177450.000 309650.000)  \n",
       "1       POINT (184854.960 308765.412)  \n",
       "2       POINT (199039.847 309462.434)  \n",
       "3       POINT (192756.920 309326.778)  \n",
       "4       POINT (197804.710 310048.213)  \n",
       "...                               ...  \n",
       "695008  POINT (186186.883 307745.118)  \n",
       "695009  POINT (198414.351 308051.111)  \n",
       "695010  POINT (191972.662 307858.374)  \n",
       "695011  POINT (197423.822 308057.424)  \n",
       "695012  POINT (198521.586 307848.030)  \n",
       "\n",
       "[695013 rows x 4 columns]"
      ]
     },
     "execution_count": 72,
     "metadata": {},
     "output_type": "execute_result"
    }
   ],
   "source": [
    "lb[\"centroid\"] = lb.geometry.apply(lambda x: x.centroid)\n",
    "lb = lb.set_geometry(\"centroid\")"
   ]
  },
  {
   "cell_type": "code",
   "execution_count": 139,
   "id": "0fe4b6c6",
   "metadata": {},
   "outputs": [],
   "source": [
    "eindhoven_grid = pd.read_csv(\"Eindhoven_grid.csv\")\n",
    "eindhoven_grid.geometry = eindhoven_grid.geometry.apply(shapely.wkt.loads)\n",
    "eindhoven_grid[\"centroid\"] = eindhoven_grid.geometry.apply(lambda x: x.centroid)\n",
    "eindhoven_grid = gpd.GeoDataFrame(eindhoven_grid)"
   ]
  },
  {
   "cell_type": "code",
   "execution_count": 146,
   "id": "6e9c3b19",
   "metadata": {},
   "outputs": [],
   "source": [
    "vierkant[\"centroid\"] = vierkant.geometry.apply(lambda x: x.centroid)\n",
    "vierkant = vierkant.set_geometry(\"centroid\")"
   ]
  },
  {
   "cell_type": "code",
   "execution_count": 148,
   "id": "24b4f991",
   "metadata": {},
   "outputs": [],
   "source": [
    "vierkantje = vierkant[:1000]"
   ]
  },
  {
   "cell_type": "code",
   "execution_count": 202,
   "id": "c06872cc",
   "metadata": {
    "scrolled": true
   },
   "outputs": [
    {
     "name": "stderr",
     "output_type": "stream",
     "text": [
      "C:\\Users\\Gebruiker\\anaconda3\\lib\\site-packages\\geopandas\\tools\\sjoin.py:61: UserWarning: CRS of frames being joined does not match!({'proj': 'sterea', 'lat_0': 52.1561605555556, 'lon_0': 5.38763888888889, 'k': 0.9999079, 'x_0': 155000, 'y_0': 463000, 'ellps': 'bessel', 'units': 'm', 'no_defs': True} != {'proj': 'sterea', 'lat_0': 52.15616055555555, 'lon_0': 5.38763888888889, 'k': 0.9999079, 'x_0': 155000, 'y_0': 463000, 'ellps': 'bessel', 'units': 'm', 'no_defs': True})\n",
      "  \"(%s != %s)\" % (left_df.crs, right_df.crs)\n"
     ]
    },
    {
     "name": "stdout",
     "output_type": "stream",
     "text": [
      "percentage old cbs codes and new cbs codes not overlapping: 0.01 %\n",
      "number cbs IDs improved from: 379553 to 3525279\n"
     ]
    },
    {
     "name": "stderr",
     "output_type": "stream",
     "text": [
      "C:\\Users\\Gebruiker\\anaconda3\\lib\\site-packages\\geopandas\\tools\\sjoin.py:61: UserWarning: CRS of frames being joined does not match!(None != {'proj': 'sterea', 'lat_0': 52.15616055555555, 'lon_0': 5.38763888888889, 'k': 0.9999079, 'x_0': 155000, 'y_0': 463000, 'ellps': 'bessel', 'units': 'm', 'no_defs': True})\n",
      "  \"(%s != %s)\" % (left_df.crs, right_df.crs)\n"
     ]
    },
    {
     "ename": "AttributeError",
     "evalue": "'DataFrame' object has no attribute 'C28992R100'",
     "output_type": "error",
     "traceback": [
      "\u001b[1;31m---------------------------------------------------------------------------\u001b[0m",
      "\u001b[1;31mAttributeError\u001b[0m                            Traceback (most recent call last)",
      "\u001b[1;32mC:\\Users\\GEBRUI~1\\AppData\\Local\\Temp/ipykernel_10356/1356240530.py\u001b[0m in \u001b[0;36m<module>\u001b[1;34m\u001b[0m\n\u001b[0;32m     13\u001b[0m \u001b[0mtotal\u001b[0m \u001b[1;33m=\u001b[0m \u001b[0mgpd\u001b[0m\u001b[1;33m.\u001b[0m\u001b[0msjoin\u001b[0m\u001b[1;33m(\u001b[0m\u001b[0mtotal\u001b[0m\u001b[1;33m,\u001b[0m \u001b[0mlb\u001b[0m\u001b[1;33m,\u001b[0m \u001b[0mhow\u001b[0m \u001b[1;33m=\u001b[0m \u001b[1;34m\"left\"\u001b[0m\u001b[1;33m,\u001b[0m \u001b[0mop\u001b[0m \u001b[1;33m=\u001b[0m \u001b[1;34m\"contains\"\u001b[0m\u001b[1;33m)\u001b[0m\u001b[1;33m\u001b[0m\u001b[1;33m\u001b[0m\u001b[0m\n\u001b[0;32m     14\u001b[0m \u001b[1;33m\u001b[0m\u001b[0m\n\u001b[1;32m---> 15\u001b[1;33m \u001b[0mprint\u001b[0m\u001b[1;33m(\u001b[0m\u001b[1;34m\"percentage old cbs codes and new cbs codes not overlapping: {:.2f} %\"\u001b[0m\u001b[1;33m.\u001b[0m\u001b[0mformat\u001b[0m\u001b[1;33m(\u001b[0m\u001b[1;33m(\u001b[0m\u001b[0mtotal\u001b[0m\u001b[1;33m[\u001b[0m\u001b[0mtotal\u001b[0m\u001b[1;33m.\u001b[0m\u001b[0mcbs_100\u001b[0m\u001b[1;33m.\u001b[0m\u001b[0mnotna\u001b[0m\u001b[1;33m(\u001b[0m\u001b[1;33m)\u001b[0m\u001b[1;33m]\u001b[0m\u001b[1;33m.\u001b[0m\u001b[0mcbs_100\u001b[0m \u001b[1;33m!=\u001b[0m \u001b[0mtotal\u001b[0m\u001b[1;33m[\u001b[0m\u001b[0mtotal\u001b[0m\u001b[1;33m.\u001b[0m\u001b[0mcbs_100\u001b[0m\u001b[1;33m.\u001b[0m\u001b[0mnotna\u001b[0m\u001b[1;33m(\u001b[0m\u001b[1;33m)\u001b[0m\u001b[1;33m]\u001b[0m\u001b[1;33m.\u001b[0m\u001b[0mC28992R100\u001b[0m\u001b[1;33m)\u001b[0m\u001b[1;33m.\u001b[0m\u001b[0msum\u001b[0m\u001b[1;33m(\u001b[0m\u001b[1;33m)\u001b[0m \u001b[1;33m/\u001b[0m \u001b[0mlen\u001b[0m\u001b[1;33m(\u001b[0m\u001b[0mtotal\u001b[0m\u001b[1;33m[\u001b[0m\u001b[0mtotal\u001b[0m\u001b[1;33m.\u001b[0m\u001b[0mcbs_100\u001b[0m\u001b[1;33m.\u001b[0m\u001b[0mnotna\u001b[0m\u001b[1;33m(\u001b[0m\u001b[1;33m)\u001b[0m\u001b[1;33m]\u001b[0m\u001b[1;33m)\u001b[0m \u001b[1;33m*\u001b[0m \u001b[1;36m100\u001b[0m\u001b[1;33m)\u001b[0m\u001b[1;33m)\u001b[0m\u001b[1;33m\u001b[0m\u001b[1;33m\u001b[0m\u001b[0m\n\u001b[0m\u001b[0;32m     16\u001b[0m \u001b[1;33m\u001b[0m\u001b[0m\n\u001b[0;32m     17\u001b[0m \u001b[0mprint\u001b[0m\u001b[1;33m(\u001b[0m\u001b[1;34m\"all old lb codes overlap\"\u001b[0m\u001b[1;33m)\u001b[0m\u001b[1;33m\u001b[0m\u001b[1;33m\u001b[0m\u001b[0m\n",
      "\u001b[1;32m~\\anaconda3\\lib\\site-packages\\pandas\\core\\generic.py\u001b[0m in \u001b[0;36m__getattr__\u001b[1;34m(self, name)\u001b[0m\n\u001b[0;32m   5485\u001b[0m         ):\n\u001b[0;32m   5486\u001b[0m             \u001b[1;32mreturn\u001b[0m \u001b[0mself\u001b[0m\u001b[1;33m[\u001b[0m\u001b[0mname\u001b[0m\u001b[1;33m]\u001b[0m\u001b[1;33m\u001b[0m\u001b[1;33m\u001b[0m\u001b[0m\n\u001b[1;32m-> 5487\u001b[1;33m         \u001b[1;32mreturn\u001b[0m \u001b[0mobject\u001b[0m\u001b[1;33m.\u001b[0m\u001b[0m__getattribute__\u001b[0m\u001b[1;33m(\u001b[0m\u001b[0mself\u001b[0m\u001b[1;33m,\u001b[0m \u001b[0mname\u001b[0m\u001b[1;33m)\u001b[0m\u001b[1;33m\u001b[0m\u001b[1;33m\u001b[0m\u001b[0m\n\u001b[0m\u001b[0;32m   5488\u001b[0m \u001b[1;33m\u001b[0m\u001b[0m\n\u001b[0;32m   5489\u001b[0m     \u001b[1;32mdef\u001b[0m \u001b[0m__setattr__\u001b[0m\u001b[1;33m(\u001b[0m\u001b[0mself\u001b[0m\u001b[1;33m,\u001b[0m \u001b[0mname\u001b[0m\u001b[1;33m:\u001b[0m \u001b[0mstr\u001b[0m\u001b[1;33m,\u001b[0m \u001b[0mvalue\u001b[0m\u001b[1;33m)\u001b[0m \u001b[1;33m->\u001b[0m \u001b[1;32mNone\u001b[0m\u001b[1;33m:\u001b[0m\u001b[1;33m\u001b[0m\u001b[1;33m\u001b[0m\u001b[0m\n",
      "\u001b[1;31mAttributeError\u001b[0m: 'DataFrame' object has no attribute 'C28992R100'"
     ]
    }
   ],
   "source": [
    "# Other way around (how = \"right\") for city grid (you want to keep only the ones in the city grid)\n",
    "\n",
    "total = gpd.sjoin(rep_df, vierkant, how = \"left\", op = \"contains\")\n",
    "\n",
    "print(\"percentage old cbs codes and new cbs codes not overlapping: {:.2f} %\".format((total[total.cbs_100.notna()].cbs_100 != total[total.cbs_100.notna()].C28992R100).sum() / len(total[total.cbs_100.notna()]) * 100))\n",
    "print(\"number cbs IDs improved from: {} to {}\".format(total.cbs_100.notna().sum(), total.C28992R100.notna().sum()))\n",
    "                                    \n",
    "total.cbs_100 = total.C28992R100\n",
    "total.rename(columns = {\"geometry_left\": \"geometry\"}, inplace = True)\n",
    "total = total[[\"id\", \"gm_code\", \"gm_naam\", \"cbs_100\", \"lb_gridcod\", \"geometry\"]]\n",
    "total = gpd.GeoDataFrame(total)\n",
    "    \n",
    "total = gpd.sjoin(total, lb, how = \"left\", op = \"contains\")\n",
    "\n",
    "# print(\"percentage old cbs codes and new cbs codes not overlapping: {:.2f} %\".format((total[total.cbs_100.notna()].cbs_100 != total[total.cbs_100.notna()].C28992R100).sum() / len(total[total.cbs_100.notna()]) * 100))\n",
    "\n",
    "print(\"all old lb codes overlap\")\n",
    "print(\"number lbgridcodes improved from: {} to {}\".format(total.lb_gridcod.notna().sum(), total.gridcode.notna().sum()))\n",
    "total.rename(columns = {\"geometry_left\" : \"geometry\"}, inplace = True)\n",
    "total[\"lb_gridcod\"] = total[\"gridcode\"]\n",
    "total = total[[\"id\", \"gm_code\", \"gm_naam\", \"cbs_100\", \"lb_gridcod\", \"geometry\"]]"
   ]
  },
  {
   "cell_type": "code",
   "execution_count": 203,
   "id": "ed1d3bc7",
   "metadata": {},
   "outputs": [
    {
     "name": "stdout",
     "output_type": "stream",
     "text": [
      "all old lb codes overlap\n",
      "number lbgridcodes improved from: 524373 to 695400\n"
     ]
    }
   ],
   "source": [
    "print(\"all old lb codes overlap\")\n",
    "print(\"number lbgridcodes improved from: {} to {}\".format(total.lb_gridcod.notna().sum(), total.gridcode.notna().sum()))\n",
    "total.rename(columns = {\"geometry_left\" : \"geometry\"}, inplace = True)\n",
    "total[\"lb_gridcod\"] = total[\"gridcode\"]\n",
    "total = total[[\"id\", \"gm_code\", \"gm_naam\", \"cbs_100\", \"lb_gridcod\", \"geometry\"]]"
   ]
  },
  {
   "cell_type": "code",
   "execution_count": 205,
   "id": "825db7b0",
   "metadata": {},
   "outputs": [],
   "source": [
    "total.to_csv(\"Basis 100x100.csv\", sep = \";\")"
   ]
  }
 ],
 "metadata": {
  "kernelspec": {
   "display_name": "Python 3 (ipykernel)",
   "language": "python",
   "name": "python3"
  },
  "language_info": {
   "codemirror_mode": {
    "name": "ipython",
    "version": 3
   },
   "file_extension": ".py",
   "mimetype": "text/x-python",
   "name": "python",
   "nbconvert_exporter": "python",
   "pygments_lexer": "ipython3",
   "version": "3.7.11"
  }
 },
 "nbformat": 4,
 "nbformat_minor": 5
}
