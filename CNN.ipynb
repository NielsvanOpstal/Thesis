{
 "cells": [
  {
   "cell_type": "code",
   "execution_count": 1,
   "id": "29739892",
   "metadata": {},
   "outputs": [
    {
     "name": "stdout",
     "output_type": "stream",
     "text": [
      "Device: cpu\n"
     ]
    }
   ],
   "source": [
    "import torch\n",
    "device = torch.device(\"cuda:0\" if torch.cuda.is_available() else \"cpu\")\n",
    "print(\"Device: {}\".format(device))"
   ]
  },
  {
   "cell_type": "code",
   "execution_count": 179,
   "id": "d1ec31a0",
   "metadata": {},
   "outputs": [],
   "source": [
    "import numpy as np\n",
    "import os\n",
    "from get_data import get_data\n",
    "from imblearn.over_sampling import SMOTE \n",
    "from imblearn.combine import SMOTEENN\n",
    "from imblearn.under_sampling import RandomUnderSampler\n",
    "from imblearn.pipeline import Pipeline\n",
    "from imblearn.tensorflow import balanced_batch_generator\n",
    "from numpy.random import default_rng\n",
    "rng = default_rng(seed = 31)\n",
    "import pickle\n",
    "import pandas as pd\n",
    "from sklearn.ensemble import RandomForestClassifier\n",
    "from sklearn.model_selection import  GridSearchCV\n",
    "from sklearn.metrics import recall_score, precision_score, accuracy_score, f1_score, roc_auc_score\n",
    "import geopandas as gpd\n",
    "import shapely\n",
    "import libpysal\n"
   ]
  },
  {
   "cell_type": "code",
   "execution_count": 3,
   "id": "ce305bd2",
   "metadata": {},
   "outputs": [],
   "source": [
    "from torch import nn, optim\n",
    "import scipy.ndimage as ndimage"
   ]
  },
  {
   "cell_type": "code",
   "execution_count": 5,
   "id": "6d24f8bc",
   "metadata": {},
   "outputs": [],
   "source": [
    "from sklearn.preprocessing import StandardScaler\n",
    "ss = StandardScaler()"
   ]
  },
  {
   "cell_type": "code",
   "execution_count": 181,
   "id": "658c7a52",
   "metadata": {},
   "outputs": [],
   "source": [
    "def load_data(year):\n",
    "    os.getcwd()\n",
    "    df = pd.DataFrame()\n",
    "    path = \"../Data/filled/\" + str(year) + \"/\"\n",
    "    for filename in os.listdir(path):\n",
    "        df1 = pd.read_csv(path + filename)\n",
    "        if df1.geometry.isna().any():\n",
    "            print(filename)\n",
    "        df = pd.concat([df, df1])\n",
    "        \n",
    "    df = gpd.GeoDataFrame(df)\n",
    "    df.geometry = df.geometry.apply(shapely.wkt.loads)\n",
    "#     df.plot(figsize = (40,40), column = \"y\")\n",
    "#     plt.show()\n",
    "    df = df.reset_index()\n",
    "    df = df.drop([\"Unnamed: 0\", \"index\"], axis = 1)\n",
    "    return df "
   ]
  },
  {
   "cell_type": "code",
   "execution_count": 182,
   "id": "0b392735",
   "metadata": {},
   "outputs": [],
   "source": [
    "df15 = load_data(2015)\n",
    "df16 = load_data(2016)\n",
    "# df17 = load_data(2017)\n",
    "# df18 = load_data(2018)\n",
    "# df19 = load_data(2019)\n",
    "\n",
    "wt = libpysal.weights.DistanceBand.from_dataframe(df15, threshold=150, binary = True, silence_warnings = True)\n",
    "wv =libpysal.weights.DistanceBand.from_dataframe(df16, threshold=150, binary = True, silence_warnings = True)"
   ]
  },
  {
   "cell_type": "code",
   "execution_count": 164,
   "id": "0544fe0f",
   "metadata": {},
   "outputs": [],
   "source": [
    "def create_CNN_samples(grid, block, dims = 39):\n",
    "    \n",
    "    nonzero = np.transpose(grid[:,:,-2].nonzero()) # Get indices of nonzero componetns\n",
    "    size = nonzero.shape[0]\n",
    "    width = block * 2 + 1 # calculate widht and height. Needed later on\n",
    "    \n",
    "    X = np.zeros((size, width, width, dims))\n",
    "    Y = np.zeros(size)\n",
    "    ID = np.zeros(size)\n",
    "    Y_1 = np.zeros(size)\n",
    "    \n",
    "    for idx, i in enumerate(nonzero):\n",
    "        x, ID[idx], Y[idx], Y_1[idx] = get_neighbor_grid(grid, i, block)\n",
    "        X[idx] = x.reshape(width,width, dims)\n",
    "        \n",
    "    X = np.moveaxis(X, -1, 1) # order the indices correctly to make sure it works in CNN\n",
    "    X = torch.from_numpy(X).float()\n",
    "    Y = torch.from_numpy(Y).float()\n",
    "    \n",
    "    return X,ID,Y, Y_1"
   ]
  },
  {
   "cell_type": "code",
   "execution_count": 165,
   "id": "37bf83dc",
   "metadata": {
    "scrolled": true
   },
   "outputs": [],
   "source": [
    "def get_neighbor_grid(full, hw, block = 1):\n",
    "    \n",
    "    # get the nonzero (built) blocks by checking if they have a ID\n",
    "\n",
    "    h = hw[0]\n",
    "    w = hw[1]\n",
    "    \n",
    "    y = full[h,w,-1]\n",
    "    ID = full[h,w,-2]\n",
    "    Y_1_train = full[h,w,-3]\n",
    "    \n",
    "    hu = h - block\n",
    "    hd = h + block\n",
    "    hshort, hextra, wshort, wextra = 0,0,0,0\n",
    "    if hu < 0:\n",
    "        hshort = 0 - hu\n",
    "        hu = 0\n",
    "    if hd >= full.shape[0]:\n",
    "        hextra = (hd - full.shape[0]) + 1\n",
    "        hd = full.shape[0]\n",
    "\n",
    "    wr = w + block\n",
    "    wl = w - block\n",
    "\n",
    "    if wr >= full.shape[1]:\n",
    "        wextra = (wr - full.shape[1]) + 1\n",
    "        wr = full.shape[1]\n",
    "    if wl < 0:\n",
    "        wshort = 0 - wl\n",
    "        wl = 0\n",
    "\n",
    "    nb = full[hu : hd + 1, wl : wr + 1, :]\n",
    "    nb = np.pad(nb, ((hshort, hextra), (wshort, wextra), (0,0)), mode = \"constant\", constant_values = 0)\n",
    "    return nb[:,:,:-3], ID, y, Y_1_train\n"
   ]
  },
  {
   "cell_type": "code",
   "execution_count": 224,
   "id": "f890120d",
   "metadata": {
    "scrolled": false
   },
   "outputs": [
    {
     "name": "stdout",
     "output_type": "stream",
     "text": [
      "(21654, 4719)\n"
     ]
    }
   ],
   "source": [
    "##  trainingset\n",
    "X_train = []\n",
    "Y_train = []\n",
    "ID_train = []\n",
    "Y_1_train = []\n",
    "for filename in os.listdir(\"../Data/filled/grids/2015/\"):\n",
    "    n = np.load(\"../Data/filled/grids/2015/\" + filename)\n",
    "    X, ID, Y, Y_1 = create_CNN_samples(n, 5)\n",
    "    X_train.append(X)\n",
    "    Y_train.append(Y)\n",
    "    ID_train.append(ID)\n",
    "    Y_1_train.append(Y_1)\n",
    "    \n",
    "\n",
    "    \n",
    "Y_train = np.concatenate(Y_train)\n",
    "ID_train = np.concatenate(ID_train)\n",
    "X_train = np.concatenate(X_train)\n",
    "\n",
    "# create Y_1_train\n",
    "Y_1_train = np.concatenate(Y_1_train)\n",
    "neighbors = [wt.neighbors[x] for x in wt.neighbors]\n",
    "Y_1_train = np.array([Y_1_train[x].sum() for x in neighbors])\n",
    "Y_1_train[np.where(Y_1_train == 0)[0]] = 0.5\n",
    "\n",
    "#reshape to rescale\n",
    "X_train = np.moveaxis(X_train, 1, -1)\n",
    "X_train = X_train.reshape(-1, 39)\n",
    "X_train = ss.fit_transform(X_train) #rescale\n",
    "\n",
    "# reshape to oversample, append y_1 to resample\n",
    "X_train = X_train.reshape(-1, 11, 11, 39)\n",
    "X_train = X_train.reshape(X_train.shape[0], -1)\n",
    "print(X_train.shape)\n",
    "X_train = np.append(X_train, Y_1_train.reshape(-1,1), axis = 1)\n",
    "\n",
    "oversampler = SMOTE() #resample\n",
    "X_train_resamp, Y_train_resamp = oversampler.fit_resample(X_train, Y_train)\n",
    "\n",
    "del(X_train)\n",
    "del(Y_train)\n",
    "\n",
    "# 0.5 means no neighbors, otherwise make int\n",
    "X_train_resamp[X_train_resamp[:,-1]>0.5][:,-1] =  np.ceil(X_train_resamp[X_train_resamp[:,-1] > 0.5][:,-1]) \n",
    "Y_1_train_resamp = X_train_resamp[:,-1]\n",
    "X_train_resamp = np.delete(X_train_resamp, 39, 1)\n",
    "\n",
    "# reshape to grid\n",
    "X_train_resamp = X_train_resamp.reshape(-1, 11, 11, 39)\n",
    "\n",
    "# move axis for pytorch\n",
    "X_train_resamp = np.moveaxis(X_train_resamp, -1, 1) \n",
    "\n",
    "\n",
    "\n",
    "## validation set\n",
    "X_val = []\n",
    "Y_val = []\n",
    "ID_val = []\n",
    "Y_1_val = []\n",
    "\n",
    "for filename in os.listdir(\"../Data/filled/grids/2016/\"):\n",
    "    n = np.load(\"../Data/filled/grids/2016/\" + filename)\n",
    "    X, ID, Y, Y_1 = create_CNN_samples(n, 5)\n",
    "    X_val.append(X)\n",
    "    Y_val.append(Y)\n",
    "    ID_val.append(ID)\n",
    "    Y_1_val.append(Y_1)\n",
    "    \n",
    "# create and transform X_val\n",
    "X_val = np.concatenate(X_val)\n",
    "X_val = np.moveaxis(X_val, 1, -1)\n",
    "X_val = X_val.reshape(-1, 39)\n",
    "X_val = ss.transform(X_val)\n",
    "X_val = X_val.reshape(-1, 11, 11, 39)\n",
    "X_val = np.moveaxis(X_val, -1, 1)\n",
    "\n",
    "# create Y_1_val\n",
    "Y_1_val = np.concatenate(Y_1_val)\n",
    "neighbors = [wv.neighbors[x] for x in wv.neighbors]\n",
    "Y_1_val = np.array([Y_1_val[x].sum() for x in neighbors])\n",
    "Y_1_val[np.where(Y_1_val == 0)[0]] = 0.5\n",
    "\n",
    "# create Y-val and ID_val\n",
    "Y_val = np.concatenate(Y_val)\n",
    "ID_val = np.concatenate(ID_val)\n"
   ]
  },
  {
   "cell_type": "code",
   "execution_count": 222,
   "id": "c8890e32",
   "metadata": {},
   "outputs": [
    {
     "name": "stdout",
     "output_type": "stream",
     "text": [
      "(21654, 4720)\n"
     ]
    }
   ],
   "source": [
    "print(X_train.shape)"
   ]
  },
  {
   "cell_type": "code",
   "execution_count": 225,
   "id": "f2ab3eab",
   "metadata": {},
   "outputs": [],
   "source": [
    "def get_batch(X, Y, Y1, batch_size = 32):\n",
    "    \n",
    "    idxs = rng.integers(X.shape[0], size = batch_size)\n",
    "    \n",
    "    X = torch.from_numpy(X[idxs]).float()\n",
    "    Y = torch.from_numpy(Y[idxs]).float()\n",
    "    Y1 = torch.from_numpy(Y1[idxs]).float()\n",
    "\n",
    "    return X, Y, Y1\n"
   ]
  },
  {
   "cell_type": "code",
   "execution_count": 322,
   "id": "0b5471cd",
   "metadata": {},
   "outputs": [],
   "source": [
    "class Model(nn.Module):\n",
    "    def __init__(self, name):\n",
    "        super(Model, self).__init__()\n",
    "        self.net = nn.Sequential(\n",
    "            nn.Conv2d(in_channels= 39, out_channels = 128, kernel_size = (3,3)), \n",
    "            nn.ReLU(), \n",
    "            nn.Dropout2d(0.25),\n",
    "            nn.Conv2d(in_channels = 128, out_channels = 256, kernel_size = (3,3)), \n",
    "            nn.ReLU(),\n",
    "            nn.MaxPool2d(2),\n",
    "            nn.Flatten(),\n",
    "            nn.Linear(2304, 128),\n",
    "            nn.Dropout(0.25),\n",
    "            nn.ReLU(),\n",
    "            nn.Linear(128, 1))\n",
    "        \n",
    "        self.final = nn.Sigmoid()\n",
    "        self.name = name\n",
    "        \n",
    "    def forward(self, x):\n",
    "        out = self.net(x)\n",
    "        return out"
   ]
  },
  {
   "cell_type": "code",
   "execution_count": 348,
   "id": "944998f9",
   "metadata": {},
   "outputs": [],
   "source": [
    "class Model(nn.Module):\n",
    "    def __init__(self, name):\n",
    "        super(Model, self).__init__()\n",
    "        self.net = nn.Sequential(\n",
    "            nn.Conv2d(in_channels= 39, out_channels = 64, kernel_size = (3,3)), \n",
    "            nn.ReLU(), \n",
    "            nn.Dropout2d(0.25),\n",
    "            nn.Conv2d(in_channels = 64, out_channels = 128, kernel_size = (3,3)), \n",
    "            nn.ReLU(),\n",
    "            nn.MaxPool2d(2),\n",
    "            nn.Flatten(),\n",
    "            nn.Linear(1152, 128),\n",
    "            nn.Dropout(0.25),\n",
    "            nn.ReLU(),\n",
    "            nn.Linear(128, 1))\n",
    "        \n",
    "        self.final = nn.Sigmoid()\n",
    "        self.name = name\n",
    "        \n",
    "    def forward(self, x):\n",
    "        out = self.net(x)\n",
    "        return out"
   ]
  },
  {
   "cell_type": "code",
   "execution_count": 349,
   "id": "216b1103",
   "metadata": {},
   "outputs": [],
   "source": [
    "model = Model(\"een\")"
   ]
  },
  {
   "cell_type": "code",
   "execution_count": 350,
   "id": "f9c1cdf8",
   "metadata": {},
   "outputs": [
    {
     "name": "stdout",
     "output_type": "stream",
     "text": [
      "torch.Size([32, 128])\n"
     ]
    },
    {
     "data": {
      "text/plain": [
       "tensor([[-0.0958,  0.3128,  0.0595,  ...,  0.1434,  0.0863,  0.0574],\n",
       "        [-0.1355,  0.2457,  0.1929,  ...,  0.2075,  0.1261,  0.1126],\n",
       "        [-0.0372,  0.2795,  0.1792,  ...,  0.1548,  0.0780,  0.1036],\n",
       "        ...,\n",
       "        [-0.1607,  0.1194,  0.1279,  ...,  0.0325, -0.0077,  0.1063],\n",
       "        [ 0.0212,  0.2296,  0.3290,  ..., -0.0576, -0.0866,  0.1421],\n",
       "        [-0.0897,  0.2598,  0.2694,  ...,  0.1779,  0.0755,  0.0188]],\n",
       "       grad_fn=<AddmmBackward>)"
      ]
     },
     "execution_count": 350,
     "metadata": {},
     "output_type": "execute_result"
    }
   ],
   "source": [
    "x,_,_ = get_batch(X_train_resamp, Y_train_resamp, Y_1_train_resamp)\n",
    "model(x)"
   ]
  },
  {
   "cell_type": "code",
   "execution_count": 339,
   "id": "f836c26e",
   "metadata": {},
   "outputs": [],
   "source": [
    "from sklearn.metrics import recall_score, precision_score, confusion_matrix"
   ]
  },
  {
   "cell_type": "code",
   "execution_count": 340,
   "id": "6219a26b",
   "metadata": {},
   "outputs": [],
   "source": [
    "import time\n",
    "# # optimizer = optim.RMSprop(model.parameters(), lr=0.001) \n",
    "# BCEloss = nn.BCELoss()\n",
    "# model.train()\n",
    "\n",
    "def train_model(model, X_train, Y_train, Y1_train, X_val, Y_val, Y1_val, num_epochs, batch_per_e = 500):\n",
    "    optimizer = optim.RMSprop(model.parameters(), lr=0.00001) \n",
    "    rm = RandomForesClassifier(max_depth = )\n",
    "    BCEloss = nn.BCEWithLogitsLoss()\n",
    "    train_loss = []\n",
    "    train_loss_history = []\n",
    "    acc_history = []\n",
    "    ROC_history = []\n",
    "    f1_score_history = []\n",
    "\n",
    "    \n",
    "    \n",
    "\n",
    "    for epoch in range(num_epochs):\n",
    "        epoch_loss = []\n",
    "        print(\"epoch: {} of {}\".format(epoch, num_epochs))\n",
    "        for batch in range(batch_per_e):\n",
    "            optimizer.zero_grad()\n",
    "            x, y, y1 = get_batch(X_train, Y_train, Y1_train)\n",
    "            model.train()\n",
    "            \n",
    "\n",
    "\n",
    "            out = model(x)\n",
    "            b = out.squeeze() * y1\n",
    "            \n",
    "            loss = BCEloss(b, y)\n",
    "            loss.backward()\n",
    "            optimizer.step()\n",
    "            \n",
    "            if batch % 10 == 0:\n",
    "                train_loss.append(loss)\n",
    "                \n",
    "        model.eval()\n",
    "        \n",
    "        x, y, y1 = get_batch(X_val, Y_val ,Y1_val, batch_size = 1000)\n",
    "        out = model(x)\n",
    "        out = model.final(out)\n",
    "        \n",
    "        out = out.squeeze() * y1\n",
    "        \n",
    "        preds = np.zeros(len(out))\n",
    "        pos = out.argsort()[-((y == 1).sum()) :]\n",
    "        preds[pos] = 1\n",
    "        \n",
    "\n",
    "\n",
    "        acc = accuracy_score(y, preds)\n",
    "        ROC = roc_auc_score(y, preds)\n",
    "        f1 = f1_score(y, preds)\n",
    "        train_loss = (np.sum(train_loss) / (batch_per_e/10)).detach().item()\n",
    "\n",
    "        acc_history.append(acc)\n",
    "        ROC_history.append(ROC)\n",
    "        train_loss_history.append(train_loss)\n",
    "        f1_score_history.append(f1)\n",
    "        \n",
    "        \n",
    "        print(\"training_loss: {:.4f}, acc: {:.3f}, ROC: {:.3f}, f1: {:.3f}\".format(train_loss, acc, ROC , f1))\n",
    "        train_loss = []\n",
    "\n",
    "\n",
    "    return acc_history, ROC_history, train_loss_history, f1_score_history\n",
    "\n",
    "\n",
    "        "
   ]
  },
  {
   "cell_type": "code",
   "execution_count": 341,
   "id": "fb9eef98",
   "metadata": {
    "scrolled": true
   },
   "outputs": [
    {
     "name": "stdout",
     "output_type": "stream",
     "text": [
      "epoch: 0 of 50\n",
      "training_loss: 0.6565, acc: 0.766, ROC: 0.560, f1: 0.259\n",
      "epoch: 1 of 50\n",
      "training_loss: 0.6289, acc: 0.824, ROC: 0.598, f1: 0.296\n",
      "epoch: 2 of 50\n",
      "training_loss: 0.6323, acc: 0.772, ROC: 0.540, f1: 0.214\n",
      "epoch: 3 of 50\n",
      "training_loss: 0.6181, acc: 0.782, ROC: 0.550, f1: 0.227\n",
      "epoch: 4 of 50\n",
      "training_loss: 0.6322, acc: 0.780, ROC: 0.510, f1: 0.147\n",
      "epoch: 5 of 50\n",
      "training_loss: 0.6060, acc: 0.804, ROC: 0.593, f1: 0.300\n",
      "epoch: 6 of 50\n",
      "training_loss: 0.6097, acc: 0.782, ROC: 0.518, f1: 0.162\n",
      "epoch: 7 of 50\n",
      "training_loss: 0.6055, acc: 0.784, ROC: 0.543, f1: 0.212\n",
      "epoch: 8 of 50\n",
      "training_loss: 0.5954, acc: 0.784, ROC: 0.569, f1: 0.265\n",
      "epoch: 9 of 50\n",
      "training_loss: 0.5926, acc: 0.782, ROC: 0.524, f1: 0.174\n",
      "epoch: 10 of 50\n",
      "training_loss: 0.5859, acc: 0.796, ROC: 0.543, f1: 0.203\n",
      "epoch: 11 of 50\n",
      "training_loss: 0.5877, acc: 0.776, ROC: 0.551, f1: 0.233\n",
      "epoch: 12 of 50\n",
      "training_loss: 0.5684, acc: 0.788, ROC: 0.580, f1: 0.284\n",
      "epoch: 13 of 50\n",
      "training_loss: 0.5677, acc: 0.798, ROC: 0.551, f1: 0.217\n",
      "epoch: 14 of 50\n",
      "training_loss: 0.5758, acc: 0.758, ROC: 0.569, f1: 0.284\n",
      "epoch: 15 of 50\n",
      "training_loss: 0.5654, acc: 0.738, ROC: 0.542, f1: 0.243\n",
      "epoch: 16 of 50\n",
      "training_loss: 0.5582, acc: 0.784, ROC: 0.554, f1: 0.234\n",
      "epoch: 17 of 50\n",
      "training_loss: 0.5567, acc: 0.792, ROC: 0.552, f1: 0.224\n",
      "epoch: 18 of 50\n",
      "training_loss: 0.5669, acc: 0.800, ROC: 0.564, f1: 0.242\n",
      "epoch: 19 of 50\n",
      "training_loss: 0.5711, acc: 0.768, ROC: 0.559, f1: 0.256\n",
      "epoch: 20 of 50\n",
      "training_loss: 0.5559, acc: 0.786, ROC: 0.533, f1: 0.189\n",
      "epoch: 21 of 50\n",
      "training_loss: 0.5557, acc: 0.812, ROC: 0.587, f1: 0.282\n",
      "epoch: 22 of 50\n",
      "training_loss: 0.5507, acc: 0.772, ROC: 0.548, f1: 0.230\n",
      "epoch: 23 of 50\n",
      "training_loss: 0.5479, acc: 0.796, ROC: 0.589, f1: 0.297\n",
      "epoch: 24 of 50\n",
      "training_loss: 0.5389, acc: 0.766, ROC: 0.569, f1: 0.278\n",
      "epoch: 25 of 50\n",
      "training_loss: 0.5239, acc: 0.790, ROC: 0.577, f1: 0.276\n",
      "epoch: 26 of 50\n",
      "training_loss: 0.5320, acc: 0.802, ROC: 0.589, f1: 0.293\n",
      "epoch: 27 of 50\n",
      "training_loss: 0.5261, acc: 0.784, ROC: 0.546, f1: 0.217\n",
      "epoch: 28 of 50\n",
      "training_loss: 0.5322, acc: 0.768, ROC: 0.527, f1: 0.189\n",
      "epoch: 29 of 50\n",
      "training_loss: 0.5355, acc: 0.764, ROC: 0.519, f1: 0.175\n",
      "epoch: 30 of 50\n",
      "training_loss: 0.4984, acc: 0.782, ROC: 0.542, f1: 0.210\n",
      "epoch: 31 of 50\n",
      "training_loss: 0.5098, acc: 0.788, ROC: 0.580, f1: 0.284\n",
      "epoch: 32 of 50\n",
      "training_loss: 0.5057, acc: 0.728, ROC: 0.531, f1: 0.227\n",
      "epoch: 33 of 50\n",
      "training_loss: 0.4944, acc: 0.756, ROC: 0.539, f1: 0.223\n",
      "epoch: 34 of 50\n",
      "training_loss: 0.4905, acc: 0.768, ROC: 0.535, f1: 0.205\n",
      "epoch: 35 of 50\n",
      "training_loss: 0.4852, acc: 0.770, ROC: 0.544, f1: 0.223\n",
      "epoch: 36 of 50\n",
      "training_loss: 0.5106, acc: 0.758, ROC: 0.536, f1: 0.214\n",
      "epoch: 37 of 50\n",
      "training_loss: 0.4788, acc: 0.762, ROC: 0.517, f1: 0.174\n",
      "epoch: 38 of 50\n",
      "training_loss: 0.4615, acc: 0.764, ROC: 0.527, f1: 0.192\n",
      "epoch: 39 of 50\n",
      "training_loss: 0.4702, acc: 0.796, ROC: 0.549, f1: 0.215\n",
      "epoch: 40 of 50\n"
     ]
    },
    {
     "ename": "KeyboardInterrupt",
     "evalue": "",
     "output_type": "error",
     "traceback": [
      "\u001b[1;31m---------------------------------------------------------------------------\u001b[0m",
      "\u001b[1;31mKeyboardInterrupt\u001b[0m                         Traceback (most recent call last)",
      "\u001b[1;32mC:\\Users\\GEBRUI~1\\AppData\\Local\\Temp/ipykernel_11864/2013570952.py\u001b[0m in \u001b[0;36m<module>\u001b[1;34m\u001b[0m\n\u001b[1;32m----> 1\u001b[1;33m \u001b[0mtrain_model\u001b[0m\u001b[1;33m(\u001b[0m\u001b[0mmodel\u001b[0m\u001b[1;33m,\u001b[0m \u001b[0mX_train_resamp\u001b[0m\u001b[1;33m,\u001b[0m \u001b[0mY_train_resamp\u001b[0m\u001b[1;33m,\u001b[0m \u001b[0mY_1_train_resamp\u001b[0m\u001b[1;33m,\u001b[0m \u001b[0mX_val\u001b[0m\u001b[1;33m,\u001b[0m \u001b[0mY_val\u001b[0m\u001b[1;33m,\u001b[0m \u001b[0mY_1_val\u001b[0m\u001b[1;33m,\u001b[0m \u001b[1;36m50\u001b[0m\u001b[1;33m)\u001b[0m\u001b[1;33m\u001b[0m\u001b[1;33m\u001b[0m\u001b[0m\n\u001b[0m",
      "\u001b[1;32mC:\\Users\\GEBRUI~1\\AppData\\Local\\Temp/ipykernel_11864/1775333132.py\u001b[0m in \u001b[0;36mtrain_model\u001b[1;34m(model, X_train, Y_train, Y1_train, X_val, Y_val, Y1_val, num_epochs, batch_per_e)\u001b[0m\n\u001b[0;32m     26\u001b[0m \u001b[1;33m\u001b[0m\u001b[0m\n\u001b[0;32m     27\u001b[0m \u001b[1;33m\u001b[0m\u001b[0m\n\u001b[1;32m---> 28\u001b[1;33m             \u001b[0mout\u001b[0m \u001b[1;33m=\u001b[0m \u001b[0mmodel\u001b[0m\u001b[1;33m(\u001b[0m\u001b[0mx\u001b[0m\u001b[1;33m)\u001b[0m\u001b[1;33m\u001b[0m\u001b[1;33m\u001b[0m\u001b[0m\n\u001b[0m\u001b[0;32m     29\u001b[0m             \u001b[0mb\u001b[0m \u001b[1;33m=\u001b[0m \u001b[0mout\u001b[0m\u001b[1;33m.\u001b[0m\u001b[0msqueeze\u001b[0m\u001b[1;33m(\u001b[0m\u001b[1;33m)\u001b[0m \u001b[1;33m*\u001b[0m \u001b[0my1\u001b[0m\u001b[1;33m\u001b[0m\u001b[1;33m\u001b[0m\u001b[0m\n\u001b[0;32m     30\u001b[0m \u001b[1;33m\u001b[0m\u001b[0m\n",
      "\u001b[1;32m~\\anaconda3\\lib\\site-packages\\torch\\nn\\modules\\module.py\u001b[0m in \u001b[0;36m_call_impl\u001b[1;34m(self, *input, **kwargs)\u001b[0m\n\u001b[0;32m    720\u001b[0m             \u001b[0mresult\u001b[0m \u001b[1;33m=\u001b[0m \u001b[0mself\u001b[0m\u001b[1;33m.\u001b[0m\u001b[0m_slow_forward\u001b[0m\u001b[1;33m(\u001b[0m\u001b[1;33m*\u001b[0m\u001b[0minput\u001b[0m\u001b[1;33m,\u001b[0m \u001b[1;33m**\u001b[0m\u001b[0mkwargs\u001b[0m\u001b[1;33m)\u001b[0m\u001b[1;33m\u001b[0m\u001b[1;33m\u001b[0m\u001b[0m\n\u001b[0;32m    721\u001b[0m         \u001b[1;32melse\u001b[0m\u001b[1;33m:\u001b[0m\u001b[1;33m\u001b[0m\u001b[1;33m\u001b[0m\u001b[0m\n\u001b[1;32m--> 722\u001b[1;33m             \u001b[0mresult\u001b[0m \u001b[1;33m=\u001b[0m \u001b[0mself\u001b[0m\u001b[1;33m.\u001b[0m\u001b[0mforward\u001b[0m\u001b[1;33m(\u001b[0m\u001b[1;33m*\u001b[0m\u001b[0minput\u001b[0m\u001b[1;33m,\u001b[0m \u001b[1;33m**\u001b[0m\u001b[0mkwargs\u001b[0m\u001b[1;33m)\u001b[0m\u001b[1;33m\u001b[0m\u001b[1;33m\u001b[0m\u001b[0m\n\u001b[0m\u001b[0;32m    723\u001b[0m         for hook in itertools.chain(\n\u001b[0;32m    724\u001b[0m                 \u001b[0m_global_forward_hooks\u001b[0m\u001b[1;33m.\u001b[0m\u001b[0mvalues\u001b[0m\u001b[1;33m(\u001b[0m\u001b[1;33m)\u001b[0m\u001b[1;33m,\u001b[0m\u001b[1;33m\u001b[0m\u001b[1;33m\u001b[0m\u001b[0m\n",
      "\u001b[1;32mC:\\Users\\GEBRUI~1\\AppData\\Local\\Temp/ipykernel_11864/3703804707.py\u001b[0m in \u001b[0;36mforward\u001b[1;34m(self, x)\u001b[0m\n\u001b[0;32m     19\u001b[0m \u001b[1;33m\u001b[0m\u001b[0m\n\u001b[0;32m     20\u001b[0m     \u001b[1;32mdef\u001b[0m \u001b[0mforward\u001b[0m\u001b[1;33m(\u001b[0m\u001b[0mself\u001b[0m\u001b[1;33m,\u001b[0m \u001b[0mx\u001b[0m\u001b[1;33m)\u001b[0m\u001b[1;33m:\u001b[0m\u001b[1;33m\u001b[0m\u001b[1;33m\u001b[0m\u001b[0m\n\u001b[1;32m---> 21\u001b[1;33m         \u001b[0mout\u001b[0m \u001b[1;33m=\u001b[0m \u001b[0mself\u001b[0m\u001b[1;33m.\u001b[0m\u001b[0mnet\u001b[0m\u001b[1;33m(\u001b[0m\u001b[0mx\u001b[0m\u001b[1;33m)\u001b[0m\u001b[1;33m\u001b[0m\u001b[1;33m\u001b[0m\u001b[0m\n\u001b[0m\u001b[0;32m     22\u001b[0m         \u001b[1;32mreturn\u001b[0m \u001b[0mout\u001b[0m\u001b[1;33m\u001b[0m\u001b[1;33m\u001b[0m\u001b[0m\n",
      "\u001b[1;32m~\\anaconda3\\lib\\site-packages\\torch\\nn\\modules\\module.py\u001b[0m in \u001b[0;36m_call_impl\u001b[1;34m(self, *input, **kwargs)\u001b[0m\n\u001b[0;32m    720\u001b[0m             \u001b[0mresult\u001b[0m \u001b[1;33m=\u001b[0m \u001b[0mself\u001b[0m\u001b[1;33m.\u001b[0m\u001b[0m_slow_forward\u001b[0m\u001b[1;33m(\u001b[0m\u001b[1;33m*\u001b[0m\u001b[0minput\u001b[0m\u001b[1;33m,\u001b[0m \u001b[1;33m**\u001b[0m\u001b[0mkwargs\u001b[0m\u001b[1;33m)\u001b[0m\u001b[1;33m\u001b[0m\u001b[1;33m\u001b[0m\u001b[0m\n\u001b[0;32m    721\u001b[0m         \u001b[1;32melse\u001b[0m\u001b[1;33m:\u001b[0m\u001b[1;33m\u001b[0m\u001b[1;33m\u001b[0m\u001b[0m\n\u001b[1;32m--> 722\u001b[1;33m             \u001b[0mresult\u001b[0m \u001b[1;33m=\u001b[0m \u001b[0mself\u001b[0m\u001b[1;33m.\u001b[0m\u001b[0mforward\u001b[0m\u001b[1;33m(\u001b[0m\u001b[1;33m*\u001b[0m\u001b[0minput\u001b[0m\u001b[1;33m,\u001b[0m \u001b[1;33m**\u001b[0m\u001b[0mkwargs\u001b[0m\u001b[1;33m)\u001b[0m\u001b[1;33m\u001b[0m\u001b[1;33m\u001b[0m\u001b[0m\n\u001b[0m\u001b[0;32m    723\u001b[0m         for hook in itertools.chain(\n\u001b[0;32m    724\u001b[0m                 \u001b[0m_global_forward_hooks\u001b[0m\u001b[1;33m.\u001b[0m\u001b[0mvalues\u001b[0m\u001b[1;33m(\u001b[0m\u001b[1;33m)\u001b[0m\u001b[1;33m,\u001b[0m\u001b[1;33m\u001b[0m\u001b[1;33m\u001b[0m\u001b[0m\n",
      "\u001b[1;32m~\\anaconda3\\lib\\site-packages\\torch\\nn\\modules\\container.py\u001b[0m in \u001b[0;36mforward\u001b[1;34m(self, input)\u001b[0m\n\u001b[0;32m    115\u001b[0m     \u001b[1;32mdef\u001b[0m \u001b[0mforward\u001b[0m\u001b[1;33m(\u001b[0m\u001b[0mself\u001b[0m\u001b[1;33m,\u001b[0m \u001b[0minput\u001b[0m\u001b[1;33m)\u001b[0m\u001b[1;33m:\u001b[0m\u001b[1;33m\u001b[0m\u001b[1;33m\u001b[0m\u001b[0m\n\u001b[0;32m    116\u001b[0m         \u001b[1;32mfor\u001b[0m \u001b[0mmodule\u001b[0m \u001b[1;32min\u001b[0m \u001b[0mself\u001b[0m\u001b[1;33m:\u001b[0m\u001b[1;33m\u001b[0m\u001b[1;33m\u001b[0m\u001b[0m\n\u001b[1;32m--> 117\u001b[1;33m             \u001b[0minput\u001b[0m \u001b[1;33m=\u001b[0m \u001b[0mmodule\u001b[0m\u001b[1;33m(\u001b[0m\u001b[0minput\u001b[0m\u001b[1;33m)\u001b[0m\u001b[1;33m\u001b[0m\u001b[1;33m\u001b[0m\u001b[0m\n\u001b[0m\u001b[0;32m    118\u001b[0m         \u001b[1;32mreturn\u001b[0m \u001b[0minput\u001b[0m\u001b[1;33m\u001b[0m\u001b[1;33m\u001b[0m\u001b[0m\n\u001b[0;32m    119\u001b[0m \u001b[1;33m\u001b[0m\u001b[0m\n",
      "\u001b[1;32m~\\anaconda3\\lib\\site-packages\\torch\\nn\\modules\\module.py\u001b[0m in \u001b[0;36m_call_impl\u001b[1;34m(self, *input, **kwargs)\u001b[0m\n\u001b[0;32m    720\u001b[0m             \u001b[0mresult\u001b[0m \u001b[1;33m=\u001b[0m \u001b[0mself\u001b[0m\u001b[1;33m.\u001b[0m\u001b[0m_slow_forward\u001b[0m\u001b[1;33m(\u001b[0m\u001b[1;33m*\u001b[0m\u001b[0minput\u001b[0m\u001b[1;33m,\u001b[0m \u001b[1;33m**\u001b[0m\u001b[0mkwargs\u001b[0m\u001b[1;33m)\u001b[0m\u001b[1;33m\u001b[0m\u001b[1;33m\u001b[0m\u001b[0m\n\u001b[0;32m    721\u001b[0m         \u001b[1;32melse\u001b[0m\u001b[1;33m:\u001b[0m\u001b[1;33m\u001b[0m\u001b[1;33m\u001b[0m\u001b[0m\n\u001b[1;32m--> 722\u001b[1;33m             \u001b[0mresult\u001b[0m \u001b[1;33m=\u001b[0m \u001b[0mself\u001b[0m\u001b[1;33m.\u001b[0m\u001b[0mforward\u001b[0m\u001b[1;33m(\u001b[0m\u001b[1;33m*\u001b[0m\u001b[0minput\u001b[0m\u001b[1;33m,\u001b[0m \u001b[1;33m**\u001b[0m\u001b[0mkwargs\u001b[0m\u001b[1;33m)\u001b[0m\u001b[1;33m\u001b[0m\u001b[1;33m\u001b[0m\u001b[0m\n\u001b[0m\u001b[0;32m    723\u001b[0m         for hook in itertools.chain(\n\u001b[0;32m    724\u001b[0m                 \u001b[0m_global_forward_hooks\u001b[0m\u001b[1;33m.\u001b[0m\u001b[0mvalues\u001b[0m\u001b[1;33m(\u001b[0m\u001b[1;33m)\u001b[0m\u001b[1;33m,\u001b[0m\u001b[1;33m\u001b[0m\u001b[1;33m\u001b[0m\u001b[0m\n",
      "\u001b[1;32m~\\anaconda3\\lib\\site-packages\\torch\\nn\\modules\\activation.py\u001b[0m in \u001b[0;36mforward\u001b[1;34m(self, input)\u001b[0m\n\u001b[0;32m    100\u001b[0m \u001b[1;33m\u001b[0m\u001b[0m\n\u001b[0;32m    101\u001b[0m     \u001b[1;32mdef\u001b[0m \u001b[0mforward\u001b[0m\u001b[1;33m(\u001b[0m\u001b[0mself\u001b[0m\u001b[1;33m,\u001b[0m \u001b[0minput\u001b[0m\u001b[1;33m:\u001b[0m \u001b[0mTensor\u001b[0m\u001b[1;33m)\u001b[0m \u001b[1;33m->\u001b[0m \u001b[0mTensor\u001b[0m\u001b[1;33m:\u001b[0m\u001b[1;33m\u001b[0m\u001b[1;33m\u001b[0m\u001b[0m\n\u001b[1;32m--> 102\u001b[1;33m         \u001b[1;32mreturn\u001b[0m \u001b[0mF\u001b[0m\u001b[1;33m.\u001b[0m\u001b[0mrelu\u001b[0m\u001b[1;33m(\u001b[0m\u001b[0minput\u001b[0m\u001b[1;33m,\u001b[0m \u001b[0minplace\u001b[0m\u001b[1;33m=\u001b[0m\u001b[0mself\u001b[0m\u001b[1;33m.\u001b[0m\u001b[0minplace\u001b[0m\u001b[1;33m)\u001b[0m\u001b[1;33m\u001b[0m\u001b[1;33m\u001b[0m\u001b[0m\n\u001b[0m\u001b[0;32m    103\u001b[0m \u001b[1;33m\u001b[0m\u001b[0m\n\u001b[0;32m    104\u001b[0m     \u001b[1;32mdef\u001b[0m \u001b[0mextra_repr\u001b[0m\u001b[1;33m(\u001b[0m\u001b[0mself\u001b[0m\u001b[1;33m)\u001b[0m \u001b[1;33m->\u001b[0m \u001b[0mstr\u001b[0m\u001b[1;33m:\u001b[0m\u001b[1;33m\u001b[0m\u001b[1;33m\u001b[0m\u001b[0m\n",
      "\u001b[1;32m~\\anaconda3\\lib\\site-packages\\torch\\nn\\functional.py\u001b[0m in \u001b[0;36mrelu\u001b[1;34m(input, inplace)\u001b[0m\n\u001b[0;32m   1117\u001b[0m         \u001b[0mresult\u001b[0m \u001b[1;33m=\u001b[0m \u001b[0mtorch\u001b[0m\u001b[1;33m.\u001b[0m\u001b[0mrelu_\u001b[0m\u001b[1;33m(\u001b[0m\u001b[0minput\u001b[0m\u001b[1;33m)\u001b[0m\u001b[1;33m\u001b[0m\u001b[1;33m\u001b[0m\u001b[0m\n\u001b[0;32m   1118\u001b[0m     \u001b[1;32melse\u001b[0m\u001b[1;33m:\u001b[0m\u001b[1;33m\u001b[0m\u001b[1;33m\u001b[0m\u001b[0m\n\u001b[1;32m-> 1119\u001b[1;33m         \u001b[0mresult\u001b[0m \u001b[1;33m=\u001b[0m \u001b[0mtorch\u001b[0m\u001b[1;33m.\u001b[0m\u001b[0mrelu\u001b[0m\u001b[1;33m(\u001b[0m\u001b[0minput\u001b[0m\u001b[1;33m)\u001b[0m\u001b[1;33m\u001b[0m\u001b[1;33m\u001b[0m\u001b[0m\n\u001b[0m\u001b[0;32m   1120\u001b[0m     \u001b[1;32mreturn\u001b[0m \u001b[0mresult\u001b[0m\u001b[1;33m\u001b[0m\u001b[1;33m\u001b[0m\u001b[0m\n\u001b[0;32m   1121\u001b[0m \u001b[1;33m\u001b[0m\u001b[0m\n",
      "\u001b[1;31mKeyboardInterrupt\u001b[0m: "
     ]
    }
   ],
   "source": [
    "train_model(model, X_train_resamp, Y_train_resamp, Y_1_train_resamp, X_val, Y_val, Y_1_val, 50)"
   ]
  },
  {
   "cell_type": "code",
   "execution_count": 276,
   "id": "c274dea5",
   "metadata": {},
   "outputs": [
    {
     "data": {
      "text/plain": [
       "19922"
      ]
     },
     "execution_count": 276,
     "metadata": {},
     "output_type": "execute_result"
    }
   ],
   "source": [
    "(Y_train_resamp == 1).sum()"
   ]
  },
  {
   "cell_type": "code",
   "execution_count": 277,
   "id": "35e9d7a3",
   "metadata": {},
   "outputs": [
    {
     "data": {
      "text/plain": [
       "(39844,)"
      ]
     },
     "execution_count": 277,
     "metadata": {},
     "output_type": "execute_result"
    }
   ],
   "source": [
    "Y_1_train_resamp.shape"
   ]
  },
  {
   "cell_type": "code",
   "execution_count": 38,
   "id": "f3cc8d24",
   "metadata": {},
   "outputs": [
    {
     "data": {
      "text/plain": [
       "(56367, 39, 11, 11)"
      ]
     },
     "execution_count": 38,
     "metadata": {},
     "output_type": "execute_result"
    }
   ],
   "source": [
    "X_train.shape"
   ]
  },
  {
   "cell_type": "code",
   "execution_count": 32,
   "id": "588476f9",
   "metadata": {},
   "outputs": [],
   "source": [
    "def neighbor_part(model, X, idxs, w):\n",
    "    preds = model(X)\n",
    "    preds = pd.DataFrame(np.array(preds.detach())).set_index(idxs)\n",
    "    \n",
    "    neighbors = [w.neighbors[x] for x in idxs]\n",
    "    transitions = [preds.loc[x].values for x in neighbors]\n",
    "\n",
    "\n",
    "\n",
    "    n_function = np.zeros((len(preds), w.max_neighbors + 1))\n",
    "    for i, (t, idx) in enumerate(zip(transitions, idxs)):\n",
    "        n_function[i, 1:len(t) + 1] = t.squeeze()\n",
    "        n_function[i, 0] = preds.loc[idx]\n",
    "        \n",
    "    return n_function"
   ]
  },
  {
   "cell_type": "markdown",
   "id": "2b3768ab",
   "metadata": {},
   "source": [
    "# Neighbor function"
   ]
  },
  {
   "cell_type": "code",
   "execution_count": 34,
   "id": "4fc9de9b",
   "metadata": {},
   "outputs": [],
   "source": [
    "import geopandas as gpd\n",
    "import shapely\n",
    "import libpysal\n",
    "\n",
    "def load_data(year):\n",
    "    os.getcwd()\n",
    "    df = pd.DataFrame()\n",
    "    path = \"../Data/filled/\" + str(year) + \"/\"\n",
    "    for filename in os.listdir(path):\n",
    "        df1 = pd.read_csv(path + filename)\n",
    "        if df1.geometry.isna().any():\n",
    "            print(filename)\n",
    "        df = pd.concat([df, df1])\n",
    "    \n",
    "    df = gpd.GeoDataFrame(df)\n",
    "    df.geometry = df.geometry.apply(shapely.wkt.loads)\n",
    "    \n",
    "    df = df.reset_index()\n",
    "    df = df.drop([\"Unnamed: 0\", \"index\"], axis = 1)\n",
    "    return df"
   ]
  },
  {
   "cell_type": "code",
   "execution_count": 35,
   "id": "7edf9a2b",
   "metadata": {},
   "outputs": [],
   "source": [
    "df15 = load_data(2015)\n",
    "df16 = load_data(2016)\n",
    "wt = libpysal.weights.DistanceBand.from_dataframe(df15, threshold=150, binary = True, silence_warnings = True)\n",
    "wv = libpysal.weights.DistanceBand.from_dataframe(df16, threshold=150, binary = True, silence_warnings = True)"
   ]
  },
  {
   "cell_type": "code",
   "execution_count": 36,
   "id": "4589a3f8",
   "metadata": {},
   "outputs": [],
   "source": [
    "\n",
    "scaler = StandardScaler()\n",
    "X15 = df15[df15.columns[:-4]]\n",
    "Y15 = df15.y\n",
    "\n",
    "X16 = df16[df16.columns[:-4]]\n",
    "Y16 = df16.y\n",
    "\n",
    "X15 = pd.DataFrame(scaler.fit_transform(X15))\n",
    "X16 = pd.DataFrame(scaler.transform(X16))"
   ]
  },
  {
   "cell_type": "code",
   "execution_count": 51,
   "id": "8f22a6ec",
   "metadata": {},
   "outputs": [],
   "source": [
    "cluster_model = KMeans(n_clusters=5, random_state=0)\n",
    "labels15 = pd.DataFrame(cluster_model.fit_predict(X15))\n",
    "labels16 = pd.DataFrame(cluster_model.predict(X16))\n",
    "\n",
    "labels15[\"X\"] = X15.index\n",
    "labels16[\"X\"] = X16.index\n",
    "\n",
    "\n",
    "labels15 = labels15.set_index(0)\n",
    "labels16 = labels16.set_index(0)"
   ]
  },
  {
   "cell_type": "code",
   "execution_count": 42,
   "id": "8be9928a",
   "metadata": {},
   "outputs": [],
   "source": [
    "with open('cbs_id_koppel.pickle', 'rb') as handle:\n",
    "    b = pickle.load(handle)"
   ]
  },
  {
   "cell_type": "code",
   "execution_count": 43,
   "id": "5910fcc8",
   "metadata": {},
   "outputs": [],
   "source": [
    "# br.C28992R100 = br.C28992R100.map(b) # change C28992code for id\n",
    "labels15.C28 = labels15.C28.map(b)"
   ]
  },
  {
   "cell_type": "code",
   "execution_count": 48,
   "id": "b20b98b2",
   "metadata": {},
   "outputs": [
    {
     "data": {
      "text/html": [
       "<div>\n",
       "<style scoped>\n",
       "    .dataframe tbody tr th:only-of-type {\n",
       "        vertical-align: middle;\n",
       "    }\n",
       "\n",
       "    .dataframe tbody tr th {\n",
       "        vertical-align: top;\n",
       "    }\n",
       "\n",
       "    .dataframe thead th {\n",
       "        text-align: right;\n",
       "    }\n",
       "</style>\n",
       "<table border=\"1\" class=\"dataframe\">\n",
       "  <thead>\n",
       "    <tr style=\"text-align: right;\">\n",
       "      <th></th>\n",
       "      <th>X</th>\n",
       "      <th>C28</th>\n",
       "    </tr>\n",
       "    <tr>\n",
       "      <th>0</th>\n",
       "      <th></th>\n",
       "      <th></th>\n",
       "    </tr>\n",
       "  </thead>\n",
       "  <tbody>\n",
       "    <tr>\n",
       "      <th>0</th>\n",
       "      <td>0</td>\n",
       "      <td>2748208</td>\n",
       "    </tr>\n",
       "    <tr>\n",
       "      <th>0</th>\n",
       "      <td>1</td>\n",
       "      <td>2748211</td>\n",
       "    </tr>\n",
       "    <tr>\n",
       "      <th>0</th>\n",
       "      <td>2</td>\n",
       "      <td>2748212</td>\n",
       "    </tr>\n",
       "    <tr>\n",
       "      <th>0</th>\n",
       "      <td>3</td>\n",
       "      <td>2748245</td>\n",
       "    </tr>\n",
       "    <tr>\n",
       "      <th>0</th>\n",
       "      <td>4</td>\n",
       "      <td>2748263</td>\n",
       "    </tr>\n",
       "    <tr>\n",
       "      <th>...</th>\n",
       "      <td>...</td>\n",
       "      <td>...</td>\n",
       "    </tr>\n",
       "    <tr>\n",
       "      <th>0</th>\n",
       "      <td>56362</td>\n",
       "      <td>1413137</td>\n",
       "    </tr>\n",
       "    <tr>\n",
       "      <th>0</th>\n",
       "      <td>56363</td>\n",
       "      <td>1413181</td>\n",
       "    </tr>\n",
       "    <tr>\n",
       "      <th>0</th>\n",
       "      <td>56364</td>\n",
       "      <td>1414800</td>\n",
       "    </tr>\n",
       "    <tr>\n",
       "      <th>0</th>\n",
       "      <td>56365</td>\n",
       "      <td>1414808</td>\n",
       "    </tr>\n",
       "    <tr>\n",
       "      <th>0</th>\n",
       "      <td>56366</td>\n",
       "      <td>1416469</td>\n",
       "    </tr>\n",
       "  </tbody>\n",
       "</table>\n",
       "<p>56367 rows × 2 columns</p>\n",
       "</div>"
      ],
      "text/plain": [
       "        X      C28\n",
       "0                 \n",
       "0       0  2748208\n",
       "0       1  2748211\n",
       "0       2  2748212\n",
       "0       3  2748245\n",
       "0       4  2748263\n",
       "..    ...      ...\n",
       "0   56362  1413137\n",
       "0   56363  1413181\n",
       "0   56364  1414800\n",
       "0   56365  1414808\n",
       "0   56366  1416469\n",
       "\n",
       "[56367 rows x 2 columns]"
      ]
     },
     "execution_count": 48,
     "metadata": {},
     "output_type": "execute_result"
    }
   ],
   "source": [
    "labels15"
   ]
  },
  {
   "cell_type": "code",
   "execution_count": 53,
   "id": "7e0c1303",
   "metadata": {},
   "outputs": [
    {
     "data": {
      "text/plain": [
       "(10237, 39, 11, 11)"
      ]
     },
     "execution_count": 53,
     "metadata": {},
     "output_type": "execute_result"
    }
   ],
   "source": [
    "X_train[labels15.loc[0][\"X\"]].shape"
   ]
  },
  {
   "cell_type": "code",
   "execution_count": 54,
   "id": "f10ad958",
   "metadata": {},
   "outputs": [
    {
     "data": {
      "text/plain": [
       "(10237, 1)"
      ]
     },
     "execution_count": 54,
     "metadata": {},
     "output_type": "execute_result"
    }
   ],
   "source": [
    "labels15.loc[0].shape"
   ]
  },
  {
   "cell_type": "code",
   "execution_count": 50,
   "id": "8673db95",
   "metadata": {},
   "outputs": [
    {
     "data": {
      "text/plain": [
       "array([2893058., 2870455., 2868833., ..., 1311910., 1176428., 1314791.])"
      ]
     },
     "execution_count": 50,
     "metadata": {},
     "output_type": "execute_result"
    }
   ],
   "source": [
    "ID_train"
   ]
  },
  {
   "cell_type": "code",
   "execution_count": 84,
   "id": "3b0a18ab",
   "metadata": {},
   "outputs": [],
   "source": [
    "\n",
    "# preds = pd.DataFrame(np.array(preds.detach())).set_index(ID_train)\n",
    "neighbors = [w15.neighbors[x] for x in ID_train]\n",
    "transitions = [preds.loc[x].values for x in neighbors]\n",
    "\n",
    "\n",
    "\n",
    "n_function = np.zeros((len(preds), w15.max_neighbors + 1))\n",
    "for i, (t, idx) in enumerate(zip(transitions, ID_train)):\n",
    "    n_function[i, 1:len(t) + 1] = t.squeeze()\n",
    "    n_function[i, 0] = preds.loc[idx]"
   ]
  },
  {
   "cell_type": "code",
   "execution_count": 85,
   "id": "f78e226c",
   "metadata": {
    "scrolled": true
   },
   "outputs": [
    {
     "name": "stdout",
     "output_type": "stream",
     "text": [
      "Fitting 5 folds for each of 8 candidates, totalling 40 fits\n",
      "[CV 1/5] END .......max_depth=6, oob_score=True;, score=0.641 total time=   4.8s\n",
      "[CV 2/5] END .......max_depth=6, oob_score=True;, score=0.649 total time=   4.6s\n",
      "[CV 3/5] END .......max_depth=6, oob_score=True;, score=0.663 total time=   4.7s\n",
      "[CV 4/5] END .......max_depth=6, oob_score=True;, score=0.619 total time=   4.8s\n",
      "[CV 5/5] END .......max_depth=6, oob_score=True;, score=0.681 total time=   4.7s\n",
      "[CV 1/5] END ......max_depth=6, oob_score=False;, score=0.639 total time=   4.1s\n",
      "[CV 2/5] END ......max_depth=6, oob_score=False;, score=0.652 total time=   4.3s\n",
      "[CV 3/5] END ......max_depth=6, oob_score=False;, score=0.663 total time=   4.0s\n",
      "[CV 4/5] END ......max_depth=6, oob_score=False;, score=0.619 total time=   3.9s\n",
      "[CV 5/5] END ......max_depth=6, oob_score=False;, score=0.682 total time=   4.4s\n",
      "[CV 1/5] END .......max_depth=8, oob_score=True;, score=0.647 total time=   5.4s\n",
      "[CV 2/5] END .......max_depth=8, oob_score=True;, score=0.663 total time=   5.5s\n",
      "[CV 3/5] END .......max_depth=8, oob_score=True;, score=0.673 total time=   5.6s\n",
      "[CV 4/5] END .......max_depth=8, oob_score=True;, score=0.632 total time=   5.4s\n",
      "[CV 5/5] END .......max_depth=8, oob_score=True;, score=0.688 total time=   6.6s\n",
      "[CV 1/5] END ......max_depth=8, oob_score=False;, score=0.647 total time=   5.1s\n",
      "[CV 2/5] END ......max_depth=8, oob_score=False;, score=0.663 total time=   5.6s\n",
      "[CV 3/5] END ......max_depth=8, oob_score=False;, score=0.673 total time=   6.3s\n",
      "[CV 4/5] END ......max_depth=8, oob_score=False;, score=0.632 total time=   5.3s\n",
      "[CV 5/5] END ......max_depth=8, oob_score=False;, score=0.688 total time=   5.6s\n",
      "[CV 1/5] END ......max_depth=10, oob_score=True;, score=0.659 total time=   6.8s\n",
      "[CV 2/5] END ......max_depth=10, oob_score=True;, score=0.671 total time=   7.0s\n",
      "[CV 3/5] END ......max_depth=10, oob_score=True;, score=0.682 total time=   6.9s\n",
      "[CV 4/5] END ......max_depth=10, oob_score=True;, score=0.645 total time=   6.8s\n",
      "[CV 5/5] END ......max_depth=10, oob_score=True;, score=0.697 total time=   7.0s\n",
      "[CV 1/5] END .....max_depth=10, oob_score=False;, score=0.657 total time=   6.1s\n",
      "[CV 2/5] END .....max_depth=10, oob_score=False;, score=0.672 total time=   6.0s\n",
      "[CV 3/5] END .....max_depth=10, oob_score=False;, score=0.682 total time=   6.1s\n",
      "[CV 4/5] END .....max_depth=10, oob_score=False;, score=0.645 total time=   6.2s\n",
      "[CV 5/5] END .....max_depth=10, oob_score=False;, score=0.696 total time=   6.2s\n",
      "[CV 1/5] END ......max_depth=12, oob_score=True;, score=0.667 total time=   7.6s\n",
      "[CV 2/5] END ......max_depth=12, oob_score=True;, score=0.681 total time=   7.6s\n",
      "[CV 3/5] END ......max_depth=12, oob_score=True;, score=0.690 total time=   7.5s\n",
      "[CV 4/5] END ......max_depth=12, oob_score=True;, score=0.657 total time=   7.4s\n",
      "[CV 5/5] END ......max_depth=12, oob_score=True;, score=0.703 total time=   7.6s\n",
      "[CV 1/5] END .....max_depth=12, oob_score=False;, score=0.667 total time=   6.8s\n",
      "[CV 2/5] END .....max_depth=12, oob_score=False;, score=0.681 total time=   6.9s\n",
      "[CV 3/5] END .....max_depth=12, oob_score=False;, score=0.691 total time=   6.8s\n",
      "[CV 4/5] END .....max_depth=12, oob_score=False;, score=0.657 total time=   7.1s\n",
      "[CV 5/5] END .....max_depth=12, oob_score=False;, score=0.704 total time=   7.9s\n"
     ]
    },
    {
     "data": {
      "text/plain": [
       "GridSearchCV(cv=5, estimator=RandomForestClassifier(),\n",
       "             param_grid={'max_depth': [6, 8, 10, 12],\n",
       "                         'oob_score': [True, False]},\n",
       "             scoring='balanced_accuracy', verbose=3)"
      ]
     },
     "execution_count": 85,
     "metadata": {},
     "output_type": "execute_result"
    }
   ],
   "source": [
    "params = {\"max_depth\": [6, 8, 10, 12], \"oob_score\" : [True, False]}\n",
    "clf_bagger = GridSearchCV(RandomForestClassifier(), params, cv = 5, scoring = \"balanced_accuracy\",\n",
    "                               verbose = 3)\n",
    "oversample = SMOTE()\n",
    "x, y = oversample.fit_resample(n_function, Y_train)\n",
    "\n",
    "clf_bagger.fit(x,y)"
   ]
  },
  {
   "cell_type": "code",
   "execution_count": 88,
   "id": "08a83af4",
   "metadata": {
    "scrolled": true
   },
   "outputs": [
    {
     "data": {
      "text/plain": [
       "{'max_depth': 12, 'oob_score': False}"
      ]
     },
     "execution_count": 88,
     "metadata": {},
     "output_type": "execute_result"
    }
   ],
   "source": [
    "clf_bagger.best_params_"
   ]
  },
  {
   "cell_type": "code",
   "execution_count": null,
   "id": "5248e2ae",
   "metadata": {},
   "outputs": [],
   "source": [
    "np.array(preds.detach())"
   ]
  },
  {
   "cell_type": "code",
   "execution_count": 90,
   "id": "b249875f",
   "metadata": {},
   "outputs": [],
   "source": [
    "X_val = torch.from_numpy(X_val).float()\n",
    "preds = model(X_val)"
   ]
  },
  {
   "cell_type": "code",
   "execution_count": 91,
   "id": "91e2c519",
   "metadata": {},
   "outputs": [],
   "source": [
    "with open('w16.pickle', 'rb') as handle:\n",
    "    w16 = pickle.load(handle)"
   ]
  },
  {
   "cell_type": "code",
   "execution_count": 92,
   "id": "49d94624",
   "metadata": {},
   "outputs": [],
   "source": [
    "preds = pd.DataFrame(np.array(preds.detach())).set_index(ID_val)\n",
    "neighbors = [w16.neighbors[x] for x in ID_val]\n",
    "transitions = [preds.loc[x].values for x in neighbors]\n",
    "\n",
    "\n",
    "\n",
    "n_function = np.zeros((len(preds), w16.max_neighbors + 1))\n",
    "for i, (t, idx) in enumerate(zip(transitions, ID_val)):\n",
    "    n_function[i, 1:len(t) + 1] = t.squeeze()\n",
    "    n_function[i, 0] = preds.loc[idx]"
   ]
  },
  {
   "cell_type": "code",
   "execution_count": 93,
   "id": "ee759569",
   "metadata": {},
   "outputs": [],
   "source": [
    "preds = clf_bagger.predict(n_function)"
   ]
  },
  {
   "cell_type": "code",
   "execution_count": 94,
   "id": "0f66f06c",
   "metadata": {},
   "outputs": [
    {
     "data": {
      "text/plain": [
       "57050"
      ]
     },
     "execution_count": 94,
     "metadata": {},
     "output_type": "execute_result"
    }
   ],
   "source": [
    "len(neighbors)"
   ]
  },
  {
   "cell_type": "code",
   "execution_count": null,
   "id": "a5d8c62a",
   "metadata": {},
   "outputs": [],
   "source": []
  },
  {
   "cell_type": "code",
   "execution_count": 95,
   "id": "71e36a83",
   "metadata": {},
   "outputs": [
    {
     "data": {
      "text/plain": [
       "0.5448808332705778"
      ]
     },
     "execution_count": 95,
     "metadata": {},
     "output_type": "execute_result"
    }
   ],
   "source": [
    "clf_bagger.score(n_function, Y_val)"
   ]
  },
  {
   "cell_type": "code",
   "execution_count": 96,
   "id": "708da41b",
   "metadata": {},
   "outputs": [
    {
     "data": {
      "text/plain": [
       "0.22256568778979907"
      ]
     },
     "execution_count": 96,
     "metadata": {},
     "output_type": "execute_result"
    }
   ],
   "source": [
    "recall_score(Y_val, preds)"
   ]
  },
  {
   "cell_type": "code",
   "execution_count": 97,
   "id": "4d5b6b50",
   "metadata": {},
   "outputs": [
    {
     "data": {
      "text/plain": [
       "0.1262683201803833"
      ]
     },
     "execution_count": 97,
     "metadata": {},
     "output_type": "execute_result"
    }
   ],
   "source": [
    "precision_score(Y_val, preds)"
   ]
  },
  {
   "cell_type": "code",
   "execution_count": 246,
   "id": "653623ba",
   "metadata": {},
   "outputs": [
    {
     "data": {
      "text/plain": [
       "4529"
      ]
     },
     "execution_count": 246,
     "metadata": {},
     "output_type": "execute_result"
    }
   ],
   "source": [
    "(Y_val == 1).sum()"
   ]
  },
  {
   "cell_type": "markdown",
   "id": "785763ff",
   "metadata": {},
   "source": [
    "# No bagger on the end"
   ]
  },
  {
   "cell_type": "code",
   "execution_count": 277,
   "id": "efe1d495",
   "metadata": {},
   "outputs": [],
   "source": [
    "preds = pd.DataFrame(np.array(preds.detach())).set_index(ID_val)"
   ]
  },
  {
   "cell_type": "code",
   "execution_count": 279,
   "id": "ba4f5668",
   "metadata": {},
   "outputs": [],
   "source": [
    "preds[\"y\"] = Y_val"
   ]
  },
  {
   "cell_type": "code",
   "execution_count": 280,
   "id": "da369a99",
   "metadata": {},
   "outputs": [],
   "source": [
    "preds = preds.sort_values(by=[0], ascending = False)"
   ]
  },
  {
   "cell_type": "code",
   "execution_count": 281,
   "id": "2288054e",
   "metadata": {},
   "outputs": [
    {
     "data": {
      "text/html": [
       "<div>\n",
       "<style scoped>\n",
       "    .dataframe tbody tr th:only-of-type {\n",
       "        vertical-align: middle;\n",
       "    }\n",
       "\n",
       "    .dataframe tbody tr th {\n",
       "        vertical-align: top;\n",
       "    }\n",
       "\n",
       "    .dataframe thead th {\n",
       "        text-align: right;\n",
       "    }\n",
       "</style>\n",
       "<table border=\"1\" class=\"dataframe\">\n",
       "  <thead>\n",
       "    <tr style=\"text-align: right;\">\n",
       "      <th></th>\n",
       "      <th>0</th>\n",
       "      <th>y</th>\n",
       "    </tr>\n",
       "  </thead>\n",
       "  <tbody>\n",
       "    <tr>\n",
       "      <th>3699708.0</th>\n",
       "      <td>9.999919e-01</td>\n",
       "      <td>0.0</td>\n",
       "    </tr>\n",
       "    <tr>\n",
       "      <th>2206980.0</th>\n",
       "      <td>9.999806e-01</td>\n",
       "      <td>0.0</td>\n",
       "    </tr>\n",
       "    <tr>\n",
       "      <th>2206983.0</th>\n",
       "      <td>9.999349e-01</td>\n",
       "      <td>0.0</td>\n",
       "    </tr>\n",
       "    <tr>\n",
       "      <th>2206982.0</th>\n",
       "      <td>9.999343e-01</td>\n",
       "      <td>0.0</td>\n",
       "    </tr>\n",
       "    <tr>\n",
       "      <th>2210563.0</th>\n",
       "      <td>9.999300e-01</td>\n",
       "      <td>0.0</td>\n",
       "    </tr>\n",
       "    <tr>\n",
       "      <th>...</th>\n",
       "      <td>...</td>\n",
       "      <td>...</td>\n",
       "    </tr>\n",
       "    <tr>\n",
       "      <th>2654130.0</th>\n",
       "      <td>3.897061e-21</td>\n",
       "      <td>0.0</td>\n",
       "    </tr>\n",
       "    <tr>\n",
       "      <th>2113362.0</th>\n",
       "      <td>1.054448e-21</td>\n",
       "      <td>0.0</td>\n",
       "    </tr>\n",
       "    <tr>\n",
       "      <th>3705586.0</th>\n",
       "      <td>2.995088e-22</td>\n",
       "      <td>0.0</td>\n",
       "    </tr>\n",
       "    <tr>\n",
       "      <th>3703981.0</th>\n",
       "      <td>6.478963e-23</td>\n",
       "      <td>0.0</td>\n",
       "    </tr>\n",
       "    <tr>\n",
       "      <th>2116824.0</th>\n",
       "      <td>9.653986e-25</td>\n",
       "      <td>1.0</td>\n",
       "    </tr>\n",
       "  </tbody>\n",
       "</table>\n",
       "<p>57050 rows × 2 columns</p>\n",
       "</div>"
      ],
      "text/plain": [
       "                      0    y\n",
       "3699708.0  9.999919e-01  0.0\n",
       "2206980.0  9.999806e-01  0.0\n",
       "2206983.0  9.999349e-01  0.0\n",
       "2206982.0  9.999343e-01  0.0\n",
       "2210563.0  9.999300e-01  0.0\n",
       "...                 ...  ...\n",
       "2654130.0  3.897061e-21  0.0\n",
       "2113362.0  1.054448e-21  0.0\n",
       "3705586.0  2.995088e-22  0.0\n",
       "3703981.0  6.478963e-23  0.0\n",
       "2116824.0  9.653986e-25  1.0\n",
       "\n",
       "[57050 rows x 2 columns]"
      ]
     },
     "execution_count": 281,
     "metadata": {},
     "output_type": "execute_result"
    }
   ],
   "source": [
    "preds"
   ]
  },
  {
   "cell_type": "code",
   "execution_count": 282,
   "id": "70c91604",
   "metadata": {},
   "outputs": [],
   "source": [
    "preds[0].iloc[0:4529] = 1\n",
    "preds[0].iloc[4529:] = 0"
   ]
  },
  {
   "cell_type": "code",
   "execution_count": 283,
   "id": "4426a7b9",
   "metadata": {},
   "outputs": [
    {
     "data": {
      "text/plain": [
       "0.17244424817840584"
      ]
     },
     "execution_count": 283,
     "metadata": {},
     "output_type": "execute_result"
    }
   ],
   "source": [
    "recall_score(preds[\"y\"], preds[0])\n"
   ]
  },
  {
   "cell_type": "code",
   "execution_count": 284,
   "id": "e2e24821",
   "metadata": {},
   "outputs": [
    {
     "data": {
      "text/plain": [
       "0.17244424817840584"
      ]
     },
     "execution_count": 284,
     "metadata": {},
     "output_type": "execute_result"
    }
   ],
   "source": [
    "precision_score(preds[\"y\"], preds[0])"
   ]
  }
 ],
 "metadata": {
  "kernelspec": {
   "display_name": "Python 3 (ipykernel)",
   "language": "python",
   "name": "python3"
  },
  "language_info": {
   "codemirror_mode": {
    "name": "ipython",
    "version": 3
   },
   "file_extension": ".py",
   "mimetype": "text/x-python",
   "name": "python",
   "nbconvert_exporter": "python",
   "pygments_lexer": "ipython3",
   "version": "3.7.11"
  }
 },
 "nbformat": 4,
 "nbformat_minor": 5
}
