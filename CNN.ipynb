{
 "cells": [
  {
   "cell_type": "code",
   "execution_count": 1,
   "id": "29739892",
   "metadata": {},
   "outputs": [
    {
     "name": "stdout",
     "output_type": "stream",
     "text": [
      "Device: cpu\n"
     ]
    }
   ],
   "source": [
    "import torch\n",
    "# device = torch.device(\"cuda:0\" if torch.cuda.is_available() else \"cpu\")\n",
    "device = \"cpu\"\n",
    "print(\"Device: {}\".format(device))"
   ]
  },
  {
   "cell_type": "code",
   "execution_count": 37,
   "id": "d1ec31a0",
   "metadata": {},
   "outputs": [],
   "source": [
    "import numpy as np\n",
    "import os\n",
    "from get_data import get_data\n",
    "from imblearn.over_sampling import SMOTE \n",
    "from imblearn.combine import SMOTEENN\n",
    "from imblearn.under_sampling import RandomUnderSampler\n",
    "from imblearn.pipeline import Pipeline\n",
    "from imblearn.tensorflow import balanced_batch_generator\n",
    "from numpy.random import default_rng\n",
    "rng = default_rng(seed = 31)\n",
    "import pickle\n",
    "import pandas as pd\n",
    "from sklearn.ensemble import RandomForestClassifier\n",
    "from sklearn.model_selection import  GridSearchCV\n",
    "from sklearn.metrics import recall_score, precision_score, accuracy_score, f1_score, roc_auc_score\n",
    "import geopandas as gpd\n",
    "import shapely\n",
    "import libpysal\n",
    "import matplotlib.pyplot as plt\n",
    "from copy import deepcopy"
   ]
  },
  {
   "cell_type": "code",
   "execution_count": 3,
   "id": "ce305bd2",
   "metadata": {},
   "outputs": [],
   "source": [
    "from torch import nn, optim\n",
    "import scipy.ndimage as ndimage"
   ]
  },
  {
   "cell_type": "code",
   "execution_count": 4,
   "id": "6d24f8bc",
   "metadata": {},
   "outputs": [],
   "source": [
    "from sklearn.preprocessing import StandardScaler\n",
    "ss = StandardScaler()"
   ]
  },
  {
   "cell_type": "code",
   "execution_count": 5,
   "id": "658c7a52",
   "metadata": {},
   "outputs": [],
   "source": [
    "def load_data(year):\n",
    "    os.getcwd()\n",
    "    df = pd.DataFrame()\n",
    "    path = \"../Data/filled/\" + str(year) + \"/\"\n",
    "    for filename in os.listdir(path):\n",
    "        df1 = pd.read_csv(path + filename)\n",
    "        if df1.geometry.isna().any():\n",
    "            print(filename)\n",
    "        df = pd.concat([df, df1])\n",
    "        \n",
    "    df = gpd.GeoDataFrame(df)\n",
    "    df.geometry = df.geometry.apply(shapely.wkt.loads)\n",
    "#     df.plot(figsize = (40,40), column = \"y\")\n",
    "#     plt.show()\n",
    "    df = df.reset_index()\n",
    "    df = df.drop([\"Unnamed: 0\", \"index\"], axis = 1)\n",
    "    return df "
   ]
  },
  {
   "cell_type": "code",
   "execution_count": 6,
   "id": "0b392735",
   "metadata": {},
   "outputs": [],
   "source": [
    "# df15 = load_data(2015)\n",
    "# df16 = load_data(2016)\n",
    "df17 = load_data(2017)\n",
    "df18 = load_data(2018)\n",
    "df19 = load_data(2019)\n",
    "\n",
    "wt = libpysal.weights.DistanceBand.from_dataframe(df17, threshold=150, binary = True, silence_warnings = True)\n",
    "wv =libpysal.weights.DistanceBand.from_dataframe(df18, threshold=150, binary = True, silence_warnings = True)"
   ]
  },
  {
   "cell_type": "code",
   "execution_count": 7,
   "id": "0544fe0f",
   "metadata": {},
   "outputs": [],
   "source": [
    "def create_CNN_samples(grid, block, dims = 39):\n",
    "    \n",
    "    nonzero = np.transpose(grid[:,:,-2].nonzero()) # Get indices of nonzero componetns\n",
    "    size = nonzero.shape[0]\n",
    "    width = block * 2 + 1 # calculate widht and height. Needed later on\n",
    "    \n",
    "    X = np.zeros((size, width, width, dims))\n",
    "    Y = np.zeros(size)\n",
    "    ID = np.zeros(size)\n",
    "    Y_1 = np.zeros(size)\n",
    "    \n",
    "    for idx, i in enumerate(nonzero):\n",
    "        x, ID[idx], Y[idx], Y_1[idx] = get_neighbor_grid(grid, i, block)\n",
    "        X[idx] = x.reshape(width,width, dims)\n",
    "        \n",
    "    X = np.moveaxis(X, -1, 1) # order the indices correctly to make sure it works in CNN\n",
    "    X = torch.from_numpy(X).float()\n",
    "    Y = torch.from_numpy(Y).float()\n",
    "    \n",
    "    return X,ID,Y, Y_1"
   ]
  },
  {
   "cell_type": "code",
   "execution_count": 8,
   "id": "37bf83dc",
   "metadata": {
    "scrolled": true
   },
   "outputs": [],
   "source": [
    "def get_neighbor_grid(full, hw, block = 1):\n",
    "    \n",
    "    # get the nonzero (built) blocks by checking if they have a ID\n",
    "\n",
    "    h = hw[0]\n",
    "    w = hw[1]\n",
    "    \n",
    "    y = full[h,w,-1]\n",
    "    ID = full[h,w,-2]\n",
    "    Y_1_train = full[h,w,-3]\n",
    "    \n",
    "    hu = h - block\n",
    "    hd = h + block\n",
    "    hshort, hextra, wshort, wextra = 0,0,0,0\n",
    "    if hu < 0:\n",
    "        hshort = 0 - hu\n",
    "        hu = 0\n",
    "    if hd >= full.shape[0]:\n",
    "        hextra = (hd - full.shape[0]) + 1\n",
    "        hd = full.shape[0]\n",
    "\n",
    "    wr = w + block\n",
    "    wl = w - block\n",
    "\n",
    "    if wr >= full.shape[1]:\n",
    "        wextra = (wr - full.shape[1]) + 1\n",
    "        wr = full.shape[1]\n",
    "    if wl < 0:\n",
    "        wshort = 0 - wl\n",
    "        wl = 0\n",
    "\n",
    "    nb = full[hu : hd + 1, wl : wr + 1, :]\n",
    "    nb = np.pad(nb, ((hshort, hextra), (wshort, wextra), (0,0)), mode = \"constant\", constant_values = 0)\n",
    "    return nb[:,:,:-3], ID, y, Y_1_train\n"
   ]
  },
  {
   "cell_type": "code",
   "execution_count": 11,
   "id": "f890120d",
   "metadata": {
    "scrolled": false
   },
   "outputs": [
    {
     "name": "stdout",
     "output_type": "stream",
     "text": [
      "(9018, 17199)\n"
     ]
    }
   ],
   "source": [
    "##  trainingset\n",
    "X_train = []\n",
    "Y_train = []\n",
    "ID_train = []\n",
    "Y_1_train = []\n",
    "for filename in os.listdir(\"../Data/filled/grids/2017/\"):\n",
    "    n = np.load(\"../Data/filled/grids/2017/\" + filename)\n",
    "    X, ID, Y, Y_1 = create_CNN_samples(n, 10)\n",
    "    X_train.append(X)\n",
    "    Y_train.append(Y)\n",
    "    ID_train.append(ID)\n",
    "    Y_1_train.append(Y_1)\n",
    "    \n",
    "block_size = X.shape[-1]\n",
    "    \n",
    "Y_train = np.concatenate(Y_train)\n",
    "ID_train = np.concatenate(ID_train)\n",
    "X_train = np.concatenate(X_train)\n",
    "\n",
    "# create Y_1_train\n",
    "Y_1_train = np.concatenate(Y_1_train)\n",
    "neighbors = [wt.neighbors[x] for x in wt.neighbors]\n",
    "Y_1_train = np.array([Y_1_train[x].sum() for x in neighbors])\n",
    "Y_1_train[np.where(Y_1_train == 0)[0]] = 0.5\n",
    "\n",
    "#reshape to rescale\n",
    "X_train = np.moveaxis(X_train, 1, -1)\n",
    "X_train = X_train.reshape(-1, 39)\n",
    "X_train = ss.fit_transform(X_train) #rescale\n",
    "\n",
    "# reshape to oversample, append y_1 to resample\n",
    "X_train = X_train.reshape(-1, block_size, block_size, 39)\n",
    "X_train = X_train.reshape(X_train.shape[0], -1)\n",
    "print(X_train.shape)\n",
    "X_train = np.append(X_train, Y_1_train.reshape(-1,1), axis = 1)\n",
    "\n",
    "oversampler = SMOTE() #resample\n",
    "X_train_resamp, Y_train_resamp = oversampler.fit_resample(X_train, Y_train)\n",
    "\n",
    "del(X_train)\n",
    "del(Y_train)\n",
    "\n",
    "# 0.5 means no neighbors, otherwise make int\n",
    "X_train_resamp[X_train_resamp[:,-1]>0.5][:,-1] =  np.ceil(X_train_resamp[X_train_resamp[:,-1] > 0.5][:,-1]) \n",
    "Y_1_train_resamp = X_train_resamp[:,-1]\n",
    "X_train_resamp = np.delete(X_train_resamp, 39, 1)\n",
    "\n",
    "# reshape to grid\n",
    "X_train_resamp = X_train_resamp.reshape(-1, block_size, block_size, 39)\n",
    "\n",
    "# move axis for pytorch\n",
    "X_train_resamp = np.moveaxis(X_train_resamp, -1, 1) \n",
    "\n",
    "\n",
    "\n",
    "## validation set\n",
    "X_val = []\n",
    "Y_val = []\n",
    "ID_val = []\n",
    "Y_1_val = []\n",
    "\n",
    "for filename in os.listdir(\"../Data/filled/grids/2018/\"):\n",
    "    n = np.load(\"../Data/filled/grids/2018/\" + filename)\n",
    "    X, ID, Y, Y_1 = create_CNN_samples(n, 10)\n",
    "    X_val.append(X)\n",
    "    Y_val.append(Y)\n",
    "    ID_val.append(ID)\n",
    "    Y_1_val.append(Y_1)\n",
    "    \n",
    "# create and transform X_val\n",
    "X_val = np.concatenate(X_val)\n",
    "X_val = np.moveaxis(X_val, 1, -1)\n",
    "X_val = X_val.reshape(-1, 39)\n",
    "X_val = ss.transform(X_val)\n",
    "X_val = X_val.reshape(-1, block_size, block_size, 39)\n",
    "X_val = np.moveaxis(X_val, -1, 1)\n",
    "\n",
    "# create Y_1_val\n",
    "Y_1_val = np.concatenate(Y_1_val)\n",
    "neighbors = [wv.neighbors[x] for x in wv.neighbors]\n",
    "Y_1_val = np.array([Y_1_val[x].sum() for x in neighbors])\n",
    "Y_1_val[np.where(Y_1_val == 0)[0]] = 0.5\n",
    "\n",
    "# create Y-val and ID_val\n",
    "Y_val = np.concatenate(Y_val)\n",
    "ID_val = np.concatenate(ID_val)\n"
   ]
  },
  {
   "cell_type": "code",
   "execution_count": 13,
   "id": "8edb2ecf",
   "metadata": {},
   "outputs": [
    {
     "name": "stderr",
     "output_type": "stream",
     "text": [
      "C:\\Users\\Gebruiker\\anaconda3\\lib\\site-packages\\ipykernel_launcher.py:1: UserWarning: To copy construct from a tensor, it is recommended to use sourceTensor.clone().detach() or sourceTensor.clone().detach().requires_grad_(True), rather than torch.tensor(sourceTensor).\n",
      "  \"\"\"Entry point for launching an IPython kernel.\n",
      "C:\\Users\\Gebruiker\\anaconda3\\lib\\site-packages\\ipykernel_launcher.py:2: UserWarning: To copy construct from a tensor, it is recommended to use sourceTensor.clone().detach() or sourceTensor.clone().detach().requires_grad_(True), rather than torch.tensor(sourceTensor).\n",
      "  \n"
     ]
    }
   ],
   "source": [
    "X_val = torch.tensor(X_val).float().to(device)\n",
    "Y_1_val = torch.tensor(Y_1_val).float().to(device)"
   ]
  },
  {
   "cell_type": "code",
   "execution_count": 14,
   "id": "f2ab3eab",
   "metadata": {},
   "outputs": [],
   "source": [
    "def get_batch(X, Y, Y1, batch_size = 32):\n",
    "    \n",
    "    idxs = rng.integers(X.shape[0], size = batch_size)\n",
    "    \n",
    "    X = torch.from_numpy(X[idxs]).float()\n",
    "    Y = torch.from_numpy(Y[idxs]).float()\n",
    "    Y1 = torch.from_numpy(Y1[idxs]).float()\n",
    "\n",
    "    return X, Y, Y1\n"
   ]
  },
  {
   "cell_type": "code",
   "execution_count": 26,
   "id": "50bd973e",
   "metadata": {},
   "outputs": [],
   "source": [
    "class Model2(nn.Module): # best auc = 0.58\n",
    "    def __init__(self):\n",
    "        super(Model2, self).__init__()\n",
    "        self.net = nn.Sequential(\n",
    "            nn.Conv2d(in_channels= 39, out_channels = 15, kernel_size = (4,4)),\n",
    "            nn.MaxPool2d(2),\n",
    "            nn.ReLU(), \n",
    "            nn.Dropout2d(0.3),\n",
    "            nn.Conv2d(in_channels = 15, out_channels = 20, kernel_size = (4,4)),\n",
    "            nn.MaxPool2d(2),\n",
    "            nn.ReLU(),\n",
    "            nn.Dropout2d(0.3),\n",
    "            nn.Conv2d(in_channels = 20, out_channels = 5, kernel_size = (3,3)),\n",
    "            nn.ReLU(),\n",
    "            nn.Flatten(),\n",
    "            nn.Linear(5, 1)\n",
    "            )\n",
    "        \n",
    "        self.final = nn.Sigmoid()\n",
    "        \n",
    "    def forward(self, x, y1):\n",
    "#         for i in self.net:\n",
    "            \n",
    "        out = self.net(x)\n",
    "        out = out.squeeze() * y1\n",
    "        return out"
   ]
  },
  {
   "cell_type": "code",
   "execution_count": 27,
   "id": "04f0b4c5",
   "metadata": {},
   "outputs": [],
   "source": [
    "class Model1(nn.Module): # best auc = 0.58\n",
    "    def __init__(self):\n",
    "        super(Model1, self).__init__()\n",
    "        self.net = nn.Sequential(\n",
    "            nn.Conv2d(in_channels= 39, out_channels = 15, kernel_size = (4,4)),\n",
    "            nn.MaxPool2d(2),\n",
    "            nn.ReLU(), \n",
    "            nn.Dropout2d(0.3),\n",
    "            nn.Conv2d(in_channels = 15, out_channels = 20, kernel_size = (4,4)),\n",
    "            nn.MaxPool2d(2),\n",
    "            nn.ReLU(),\n",
    "            nn.Dropout2d(0.3),\n",
    "            nn.Flatten(),\n",
    "            nn.Linear(180 , 150),\n",
    "            nn.Dropout(0.3),\n",
    "            nn.ReLU(),\n",
    "            nn.Linear(150,1)\n",
    "            )\n",
    "        \n",
    "        self.final = nn.Sigmoid()\n",
    "        \n",
    "    def forward(self, x, y1):\n",
    "#         for i in self.net:\n",
    "            \n",
    "        out = self.net(x)\n",
    "        out = out.squeeze() * y1\n",
    "        return out"
   ]
  },
  {
   "cell_type": "code",
   "execution_count": 28,
   "id": "54f68155",
   "metadata": {},
   "outputs": [],
   "source": [
    "\n",
    "class Model3(nn.Module): # best auc = 0.58\n",
    "    def __init__(self):\n",
    "        super(Model3, self).__init__()\n",
    "        self.net = nn.Sequential(\n",
    "            nn.Conv2d(in_channels= 39, out_channels = 5, kernel_size = (4,4)),\n",
    "            nn.MaxPool2d(2),\n",
    "            nn.ReLU(), \n",
    "            nn.Dropout2d(0.3),\n",
    "            nn.Conv2d(in_channels = 5, out_channels = 5, kernel_size = (4,4)),\n",
    "            nn.MaxPool2d(2),\n",
    "            nn.ReLU(),\n",
    "            nn.Dropout2d(0.3),\n",
    "            nn.Flatten(),\n",
    "            nn.Linear(45, 1)\n",
    "            )\n",
    "        \n",
    "        self.final = nn.Sigmoid()\n",
    "        \n",
    "    def forward(self, x, y1):\n",
    "#         for i in self.net:\n",
    "            \n",
    "        out = self.net(x)\n",
    "        out = out.squeeze() * y1\n",
    "        return out"
   ]
  },
  {
   "cell_type": "code",
   "execution_count": 29,
   "id": "b98f0253",
   "metadata": {},
   "outputs": [],
   "source": [
    "class Model(nn.Module): # best auc = 0.58\n",
    "    def __init__(self):\n",
    "        super(Model, self).__init__()\n",
    "        self.net = nn.Sequential(\n",
    "            nn.Conv2d(in_channels= 39, out_channels = 5, kernel_size = (4,4)),\n",
    "            nn.MaxPool2d(2),\n",
    "            nn.ReLU(), \n",
    "            nn.Dropout2d(0.3),\n",
    "            nn.Conv2d(in_channels = 5, out_channels = 15, kernel_size = (4,4)),\n",
    "            nn.MaxPool2d(2),\n",
    "            nn.ReLU(),\n",
    "            nn.Dropout2d(0.3),\n",
    "            nn.Flatten(),\n",
    "            nn.Linear(135, 150),\n",
    "            nn.Dropout(0.3),\n",
    "            nn.ReLU(),\n",
    "            nn.Linear(150,1)\n",
    "            )\n",
    "        \n",
    "        self.final = nn.Sigmoid()\n",
    "        \n",
    "    def forward(self, x, y1):\n",
    "#         for i in self.net:\n",
    "            \n",
    "        out = self.net(x)\n",
    "        out = out.squeeze() * y1\n",
    "        return out"
   ]
  },
  {
   "cell_type": "code",
   "execution_count": 55,
   "id": "216b1103",
   "metadata": {},
   "outputs": [],
   "source": [
    "model = Model().to(device)\n",
    "model1 = Model1().to(device)\n",
    "model2 = Model2().to(device)\n",
    "model3 = Model3().to(device)\n",
    "\n",
    "models = [\"0\", \"1\", \"2\", \"3\"]"
   ]
  },
  {
   "cell_type": "code",
   "execution_count": 57,
   "id": "6219a26b",
   "metadata": {},
   "outputs": [],
   "source": [
    "def train(models, X_train, Y_train, Y1_train, X_val, Y_val, Y1_val, num_epochs, lr, batch_per_e = 100 ):\n",
    "\n",
    "    best_auc, best_f1, best_model, best_epoch, best_lr = 0,0,0,0,0\n",
    "    \n",
    "    for i, model in enumerate(models):\n",
    "        for lr in [ 0.0000051, 0.00000051, 0.000000051 ]:\n",
    "            \n",
    "\n",
    "            if model == \"0\":\n",
    "                model = Model()\n",
    "            elif model == \"1\":\n",
    "                model = Model1()\n",
    "            elif model == \"2\":\n",
    "                model = Model2()\n",
    "            else:\n",
    "                model = Model3()\n",
    "                    \n",
    "            optimizer = optim.Adam(model.parameters(), lr=lr) \n",
    "            SigBCEloss = nn.BCEWithLogitsLoss()\n",
    "            ROC_history = []\n",
    "\n",
    "            for epoch in range(num_epochs):\n",
    "                epoch_loss = []\n",
    "#                 print(\"epoch: {} of {}\".format(epoch, num_epochs))\n",
    "                for batch in range(batch_per_e):\n",
    "\n",
    "                    x, y, y1 = get_batch(X_train, Y_train, Y1_train, 6)\n",
    "\n",
    "                    model.train()\n",
    "\n",
    "                    optimizer.zero_grad()\n",
    "                    out = model(x, y1).squeeze()\n",
    "\n",
    "\n",
    "                    loss = SigBCEloss(out, y)\n",
    "                    loss.backward()\n",
    "                    optimizer.step()\n",
    "\n",
    "\n",
    "                    epoch_loss.append(loss.detach().numpy())\n",
    "\n",
    "                model.eval()\n",
    "\n",
    "                out = model(X_val, Y1_val)\n",
    "                ROC = roc_auc_score(Y_val, model.final(out).detach().numpy())\n",
    "                out = out.squeeze().detach().numpy()\n",
    "\n",
    "                preds = np.zeros(len(out))\n",
    "                pos = out.argsort()[-((Y_val == 1).sum()):]\n",
    "                preds[pos] = 1\n",
    "                \n",
    "                f1 = f1_score(Y_val, preds)\n",
    "\n",
    "                ROC_history.append(ROC)\n",
    "\n",
    "                if ROC > best_auc:\n",
    "                    print(\"model: {}, ROC:{}, f1: {}, lr: {}, epoch = {}\".format(i, ROC, f1, lr, epoch))\n",
    "                    best_auc = ROC\n",
    "                    best_f1 = f1\n",
    "                    best_model = deepcopy(model.state_dict())\n",
    "                    best_epoch = epoch\n",
    "                    best_lr = lr\n",
    "\n",
    "                train_loss = []\n",
    "                          \n",
    "            print(np.max(ROC_history), np.argmax(ROC_history), lr)\n",
    "            plt.plot(ROC_history, alpha = 0.5)\n",
    "            plt.hlines(np.mean(ROC_history), 0, n_epochs, color = \"r\") \n",
    "            linear_model=np.polyfit(range(n_epochs), ROC_history, 2)\n",
    "            linear_model_fn=np.poly1d(linear_model)\n",
    "            x_s=np.arange(0,n_epochs)\n",
    "            plt.plot(linear_model_fn(x_s))  \n",
    "            plt.show()\n",
    "                          \n",
    "    result = np.argmax(ROC_history)\n",
    "    return best_auc, best_f1, best_model, best_epoch"
   ]
  },
  {
   "cell_type": "code",
   "execution_count": null,
   "id": "fb9eef98",
   "metadata": {
    "scrolled": true
   },
   "outputs": [
    {
     "name": "stdout",
     "output_type": "stream",
     "text": [
      "model: 0, ROC:0.5751774761035136, f1: 0.22580645161290322, lr: 5.1e-06, epoch = 0\n",
      "model: 0, ROC:0.5758868345390635, f1: 0.22704714640198512, lr: 5.1e-06, epoch = 1\n",
      "model: 0, ROC:0.5764593260904597, f1: 0.22642679900744417, lr: 5.1e-06, epoch = 2\n",
      "model: 0, ROC:0.5772133141325377, f1: 0.22766749379652607, lr: 5.1e-06, epoch = 3\n",
      "model: 0, ROC:0.5779482342889721, f1: 0.22828784119106701, lr: 5.1e-06, epoch = 4\n",
      "model: 0, ROC:0.5787700973860204, f1: 0.23200992555831265, lr: 5.1e-06, epoch = 5\n",
      "model: 0, ROC:0.5802190498848978, f1: 0.23635235732009927, lr: 5.1e-06, epoch = 6\n",
      "model: 0, ROC:0.5812526037383975, f1: 0.23635235732009927, lr: 5.1e-06, epoch = 7\n",
      "model: 0, ROC:0.581404154135357, f1: 0.23759305210918114, lr: 5.1e-06, epoch = 8\n",
      "model: 0, ROC:0.5824358880605089, f1: 0.2413151364764268, lr: 5.1e-06, epoch = 9\n",
      "model: 0, ROC:0.5826177981712699, f1: 0.2400744416873449, lr: 5.1e-06, epoch = 10\n",
      "model: 0, ROC:0.5835124584022287, f1: 0.23883374689826303, lr: 5.1e-06, epoch = 11\n",
      "model: 0, ROC:0.5843392022162095, f1: 0.23821339950372208, lr: 5.1e-06, epoch = 12\n",
      "model: 0, ROC:0.5857276420975237, f1: 0.23883374689826303, lr: 5.1e-06, epoch = 13\n",
      "model: 0, ROC:0.5870870458492894, f1: 0.23883374689826303, lr: 5.1e-06, epoch = 14\n",
      "model: 0, ROC:0.5877287360399087, f1: 0.23821339950372208, lr: 5.1e-06, epoch = 15\n",
      "model: 0, ROC:0.5881615480906139, f1: 0.2369727047146402, lr: 5.1e-06, epoch = 16\n",
      "model: 0, ROC:0.5888314885326315, f1: 0.2400744416873449, lr: 5.1e-06, epoch = 17\n",
      "model: 0, ROC:0.5891623845958618, f1: 0.2531017369727047, lr: 5.1e-06, epoch = 19\n",
      "model: 0, ROC:0.5894386000846432, f1: 0.2648883374689826, lr: 5.1e-06, epoch = 23\n",
      "model: 0, ROC:0.5899916928543326, f1: 0.2673697270471464, lr: 5.1e-06, epoch = 25\n",
      "model: 0, ROC:0.5900683366549783, f1: 0.2686104218362283, lr: 5.1e-06, epoch = 26\n",
      "model: 0, ROC:0.591927724358285, f1: 0.271712158808933, lr: 5.1e-06, epoch = 28\n",
      "model: 0, ROC:0.5928272239441685, f1: 0.27233250620347393, lr: 5.1e-06, epoch = 29\n",
      "model: 0, ROC:0.5934969989381546, f1: 0.2760545905707196, lr: 5.1e-06, epoch = 31\n",
      "model: 0, ROC:0.5943007454757409, f1: 0.27729528535980147, lr: 5.1e-06, epoch = 32\n",
      "model: 0, ROC:0.5952476459226822, f1: 0.27667493796526055, lr: 5.1e-06, epoch = 33\n",
      "model: 0, ROC:0.5961651379820039, f1: 0.27729528535980147, lr: 5.1e-06, epoch = 34\n",
      "model: 0, ROC:0.5963690113189616, f1: 0.27977667493796526, lr: 5.1e-06, epoch = 35\n",
      "model: 0, ROC:0.598111179091869, f1: 0.27915632754342434, lr: 5.1e-06, epoch = 36\n",
      "model: 0, ROC:0.5982411385207027, f1: 0.27853598014888337, lr: 5.1e-06, epoch = 37\n",
      "model: 0, ROC:0.60066424902973, f1: 0.27977667493796526, lr: 5.1e-06, epoch = 39\n",
      "model: 0, ROC:0.6025586289917233, f1: 0.28225806451612906, lr: 5.1e-06, epoch = 40\n",
      "model: 0, ROC:0.6032460655630842, f1: 0.27977667493796526, lr: 5.1e-06, epoch = 41\n",
      "model: 0, ROC:0.6037708667193673, f1: 0.27481389578163773, lr: 5.1e-06, epoch = 45\n",
      "model: 0, ROC:0.6038016400532478, f1: 0.2803970223325062, lr: 5.1e-06, epoch = 50\n",
      "model: 0, ROC:0.604354360564866, f1: 0.2816377171215881, lr: 5.1e-06, epoch = 51\n",
      "model: 0, ROC:0.6048614587817663, f1: 0.2878411910669975, lr: 5.1e-06, epoch = 59\n",
      "model: 0, ROC:0.6051277887506589, f1: 0.2990074441687345, lr: 5.1e-06, epoch = 67\n",
      "model: 0, ROC:0.6055550169302971, f1: 0.3027295285359802, lr: 5.1e-06, epoch = 71\n",
      "model: 0, ROC:0.6058806186565155, f1: 0.3002481389578164, lr: 5.1e-06, epoch = 87\n",
      "model: 0, ROC:0.6073330869260649, f1: 0.3021091811414392, lr: 5.1e-06, epoch = 88\n",
      "model: 0, ROC:0.6082486349710152, f1: 0.29838709677419356, lr: 5.1e-06, epoch = 89\n",
      "model: 0, ROC:0.6092339193612911, f1: 0.29590570719602977, lr: 5.1e-06, epoch = 91\n",
      "model: 0, ROC:0.6096433205155228, f1: 0.29528535980148884, lr: 5.1e-06, epoch = 92\n",
      "model: 0, ROC:0.609678933204328, f1: 0.3008684863523573, lr: 5.1e-06, epoch = 101\n",
      "model: 0, ROC:0.6108846357347233, f1: 0.2990074441687345, lr: 5.1e-06, epoch = 102\n",
      "model: 0, ROC:0.6121673543238354, f1: 0.29528535980148884, lr: 5.1e-06, epoch = 103\n",
      "model: 0, ROC:0.6123956726074642, f1: 0.3002481389578164, lr: 5.1e-06, epoch = 108\n",
      "model: 0, ROC:0.6133790543453767, f1: 0.29838709677419356, lr: 5.1e-06, epoch = 109\n",
      "model: 0, ROC:0.6137568549255699, f1: 0.3107940446650124, lr: 5.1e-06, epoch = 165\n",
      "model: 0, ROC:0.6143122226056941, f1: 0.31203473945409427, lr: 5.1e-06, epoch = 166\n",
      "model: 0, ROC:0.6144786633254987, f1: 0.3107940446650124, lr: 5.1e-06, epoch = 167\n",
      "model: 0, ROC:0.6145018674119328, f1: 0.30955334987593053, lr: 5.1e-06, epoch = 170\n",
      "model: 0, ROC:0.6148683761639683, f1: 0.31017369727047145, lr: 5.1e-06, epoch = 171\n",
      "model: 0, ROC:0.6154143960303061, f1: 0.31017369727047145, lr: 5.1e-06, epoch = 172\n",
      "model: 0, ROC:0.6162082984100113, f1: 0.31203473945409427, lr: 5.1e-06, epoch = 173\n",
      "model: 0, ROC:0.6164717744003583, f1: 0.31017369727047145, lr: 5.1e-06, epoch = 174\n",
      "model: 0, ROC:0.616566121140387, f1: 0.3076923076923077, lr: 5.1e-06, epoch = 176\n",
      "model: 0, ROC:0.6171466782833245, f1: 0.3076923076923077, lr: 5.1e-06, epoch = 179\n",
      "model: 0, ROC:0.6172411491093768, f1: 0.3076923076923077, lr: 5.1e-06, epoch = 181\n",
      "model: 0, ROC:0.6179256076161685, f1: 0.303970223325062, lr: 5.1e-06, epoch = 182\n",
      "model: 0, ROC:0.6184720411025854, f1: 0.3014888337468983, lr: 5.1e-06, epoch = 183\n",
      "model: 0, ROC:0.6187685239752396, f1: 0.3014888337468983, lr: 5.1e-06, epoch = 184\n",
      "model: 0, ROC:0.6187971878467171, f1: 0.304590570719603, lr: 5.1e-06, epoch = 192\n",
      "model: 0, ROC:0.6189924992480386, f1: 0.303970223325062, lr: 5.1e-06, epoch = 193\n",
      "model: 0, ROC:0.6193699689321687, f1: 0.3064516129032258, lr: 5.1e-06, epoch = 216\n",
      "model: 0, ROC:0.6196813007656603, f1: 0.3076923076923077, lr: 5.1e-06, epoch = 219\n",
      "model: 0, ROC:0.6198656925968955, f1: 0.3064516129032258, lr: 5.1e-06, epoch = 220\n",
      "model: 0, ROC:0.6201547303081271, f1: 0.3064516129032258, lr: 5.1e-06, epoch = 222\n",
      "model: 0, ROC:0.6203308083757735, f1: 0.3076923076923077, lr: 5.1e-06, epoch = 223\n",
      "model: 0, ROC:0.6204510890947577, f1: 0.30707196029776673, lr: 5.1e-06, epoch = 224\n",
      "model: 0, ROC:0.6209539270248441, f1: 0.3064516129032258, lr: 5.1e-06, epoch = 225\n",
      "model: 0, ROC:0.6218370472555977, f1: 0.30831265508684863, lr: 5.1e-06, epoch = 227\n",
      "model: 0, ROC:0.6224846522133471, f1: 0.30955334987593053, lr: 5.1e-06, epoch = 228\n",
      "model: 0, ROC:0.6226176724307658, f1: 0.30893300248138955, lr: 5.1e-06, epoch = 229\n",
      "model: 0, ROC:0.6226857542957753, f1: 0.3058312655086849, lr: 5.1e-06, epoch = 240\n",
      "model: 0, ROC:0.6230208279218039, f1: 0.3058312655086849, lr: 5.1e-06, epoch = 245\n",
      "model: 0, ROC:0.6236390658539417, f1: 0.3064516129032258, lr: 5.1e-06, epoch = 259\n",
      "model: 0, ROC:0.6239222301600511, f1: 0.30893300248138955, lr: 5.1e-06, epoch = 317\n",
      "model: 0, ROC:0.6239967644982938, f1: 0.3064516129032258, lr: 5.1e-06, epoch = 318\n",
      "model: 0, ROC:0.6242903933924027, f1: 0.303970223325062, lr: 5.1e-06, epoch = 320\n",
      "model: 0, ROC:0.6245197870882371, f1: 0.3033498759305211, lr: 5.1e-06, epoch = 330\n",
      "model: 0, ROC:0.6249694748381669, f1: 0.3033498759305211, lr: 5.1e-06, epoch = 331\n",
      "model: 0, ROC:0.6251429884613234, f1: 0.3008684863523573, lr: 5.1e-06, epoch = 333\n",
      "model: 0, ROC:0.6255231053139592, f1: 0.304590570719603, lr: 5.1e-06, epoch = 364\n",
      "model: 0, ROC:0.6258727797287778, f1: 0.3064516129032258, lr: 5.1e-06, epoch = 365\n",
      "model: 0, ROC:0.6263103897723997, f1: 0.303970223325062, lr: 5.1e-06, epoch = 366\n",
      "model: 0, ROC:0.6269661430457063, f1: 0.3058312655086849, lr: 5.1e-06, epoch = 469\n",
      "model: 0, ROC:0.6273757923719854, f1: 0.3058312655086849, lr: 5.1e-06, epoch = 470\n",
      "model: 0, ROC:0.6276544482192331, f1: 0.304590570719603, lr: 5.1e-06, epoch = 471\n",
      "model: 0, ROC:0.6276637133090036, f1: 0.303970223325062, lr: 5.1e-06, epoch = 849\n",
      "0.6276637133090036 849 5.1e-06\n"
     ]
    },
    {
     "data": {
      "image/png": "[encoded data removed]",
      "text/plain": [
       "<Figure size 432x288 with 1 Axes>"
      ]
     },
     "metadata": {
      "needs_background": "light"
     },
     "output_type": "display_data"
    },
    {
     "name": "stdout",
     "output_type": "stream",
     "text": [
      "0.5855114842442185 1499 5.1e-07\n"
     ]
    },
    {
     "data": {
      "image/png": "[encoded data removed]",
      "text/plain": [
       "<Figure size 432x288 with 1 Axes>"
      ]
     },
     "metadata": {
      "needs_background": "light"
     },
     "output_type": "display_data"
    },
    {
     "name": "stdout",
     "output_type": "stream",
     "text": [
      "0.588362236552963 0 5.1e-08\n"
     ]
    },
    {
     "data": {
      "image/png": "[encoded data removed]",
      "text/plain": [
       "<Figure size 432x288 with 1 Axes>"
      ]
     },
     "metadata": {
      "needs_background": "light"
     },
     "output_type": "display_data"
    },
    {
     "name": "stdout",
     "output_type": "stream",
     "text": [
      "0.6241032303066381 526 5.1e-06\n"
     ]
    },
    {
     "data": {
      "image/png": "[encoded data removed]",
      "text/plain": [
       "<Figure size 432x288 with 1 Axes>"
      ]
     },
     "metadata": {
      "needs_background": "light"
     },
     "output_type": "display_data"
    },
    {
     "name": "stdout",
     "output_type": "stream",
     "text": [
      "0.5216063134307072 1480 5.1e-07\n"
     ]
    },
    {
     "data": {
      "image/png": "[encoded data removed]",
      "text/plain": [
       "<Figure size 432x288 with 1 Axes>"
      ]
     },
     "metadata": {
      "needs_background": "light"
     },
     "output_type": "display_data"
    }
   ],
   "source": [
    "n_epochs = 1500\n",
    "a = train(models, X_train_resamp, Y_train_resamp, Y_1_train_resamp, X_val, Y_val, Y_1_val, n_epochs, 0.00000051)"
   ]
  },
  {
   "cell_type": "code",
   "execution_count": 84,
   "id": "2cad235c",
   "metadata": {},
   "outputs": [
    {
     "data": {
      "text/plain": [
       "[<matplotlib.lines.Line2D at 0x1c19a1e07c8>]"
      ]
     },
     "execution_count": 84,
     "metadata": {},
     "output_type": "execute_result"
    },
    {
     "data": {
      "image/png": "[encoded data removed]",
      "text/plain": [
       "<Figure size 432x288 with 1 Axes>"
      ]
     },
     "metadata": {
      "needs_background": "light"
     },
     "output_type": "display_data"
    }
   ],
   "source": [
    "plt.plot(a[-3], alpha = 0.5)\n",
    "plt.hlines(np.mean(a[-3]), 0, n_epochs, color = \"r\")\n",
    "plt.plot(a[-1], alpha = 0.5, color = \"green\")"
   ]
  },
  {
   "cell_type": "code",
   "execution_count": 85,
   "id": "a112bf8f",
   "metadata": {},
   "outputs": [
    {
     "name": "stdout",
     "output_type": "stream",
     "text": [
      "0.5738016677005341\n"
     ]
    },
    {
     "data": {
      "text/plain": [
       "<matplotlib.collections.LineCollection at 0x1c19a2165c8>"
      ]
     },
     "execution_count": 85,
     "metadata": {},
     "output_type": "execute_result"
    },
    {
     "data": {
      "image/png": "[encoded data removed]",
      "text/plain": [
       "<Figure size 432x288 with 1 Axes>"
      ]
     },
     "metadata": {
      "needs_background": "light"
     },
     "output_type": "display_data"
    }
   ],
   "source": [
    "print(np.max(a[-4]))\n",
    "plt.plot(a[-4], alpha = 0.5)\n",
    "plt.hlines(np.mean(a[-4]), 0, n_epochs, color = \"r\")"
   ]
  },
  {
   "cell_type": "code",
   "execution_count": 86,
   "id": "b732d37a",
   "metadata": {},
   "outputs": [
    {
     "name": "stdout",
     "output_type": "stream",
     "text": [
      "0.23703917050691245\n"
     ]
    },
    {
     "data": {
      "text/plain": [
       "<matplotlib.collections.LineCollection at 0x1c1996afc88>"
      ]
     },
     "execution_count": 86,
     "metadata": {},
     "output_type": "execute_result"
    },
    {
     "data": {
      "image/png": "[encoded data removed]",
      "text/plain": [
       "<Figure size 432x288 with 1 Axes>"
      ]
     },
     "metadata": {
      "needs_background": "light"
     },
     "output_type": "display_data"
    }
   ],
   "source": [
    "print(np.max(a[-2]))\n",
    "plt.plot(a[-2], alpha = 0.5)\n",
    "plt.hlines(np.mean(a[-2]), 0, n_epochs, color = \"r\")"
   ]
  },
  {
   "cell_type": "code",
   "execution_count": 38,
   "id": "f3cc8d24",
   "metadata": {},
   "outputs": [
    {
     "data": {
      "text/plain": [
       "(56367, 39, 11, 11)"
      ]
     },
     "execution_count": 38,
     "metadata": {},
     "output_type": "execute_result"
    }
   ],
   "source": [
    "X_train.shape"
   ]
  },
  {
   "cell_type": "code",
   "execution_count": 32,
   "id": "588476f9",
   "metadata": {},
   "outputs": [],
   "source": [
    "def neighbor_part(model, X, idxs, w):\n",
    "    preds = model(X)\n",
    "    preds = pd.DataFrame(np.array(preds.detach())).set_index(idxs)\n",
    "    \n",
    "    neighbors = [w.neighbors[x] for x in idxs]\n",
    "    transitions = [preds.loc[x].values for x in neighbors]\n",
    "\n",
    "\n",
    "\n",
    "    n_function = np.zeros((len(preds), w.max_neighbors + 1))\n",
    "    for i, (t, idx) in enumerate(zip(transitions, idxs)):\n",
    "        n_function[i, 1:len(t) + 1] = t.squeeze()\n",
    "        n_function[i, 0] = preds.loc[idx]\n",
    "        \n",
    "    return n_function"
   ]
  },
  {
   "cell_type": "code",
   "execution_count": null,
   "id": "61e699aa",
   "metadata": {},
   "outputs": [],
   "source": [
    "class Model(nn.Module): # best auc = 0.59\n",
    "    def __init__(self, name):\n",
    "        super(Model, self).__init__()\n",
    "        self.net = nn.Sequential(\n",
    "            nn.Conv2d(in_channels= 39, out_channels = 60, kernel_size = (3,3)),\n",
    "            nn.MaxPool2d(2),\n",
    "            nn.ReLU(), \n",
    "            nn.Dropout2d(0.25),\n",
    "            nn.Conv2d(in_channels = 60, out_channels = 60, kernel_size = (3,3)),\n",
    "            nn.MaxPool2d(2),\n",
    "            nn.ReLU(),\n",
    "            nn.Dropout2d(0.25),\n",
    "            nn.Flatten(),\n",
    "            nn.Linear(60, 1))\n",
    "        \n",
    "        self.final = nn.Sigmoid()\n",
    "        self.name = name\n",
    "        \n",
    "    def forward(self, x, y1):\n",
    "#         for i in self.net:\n",
    "            \n",
    "        out = self.net(x)\n",
    "        out = out.squeeze() * y1\n",
    "        return out"
   ]
  },
  {
   "cell_type": "markdown",
   "id": "2b3768ab",
   "metadata": {},
   "source": [
    "# Neighbor function"
   ]
  },
  {
   "cell_type": "code",
   "execution_count": 34,
   "id": "4fc9de9b",
   "metadata": {},
   "outputs": [],
   "source": [
    "import geopandas as gpd\n",
    "import shapely\n",
    "import libpysal\n",
    "\n",
    "def load_data(year):\n",
    "    os.getcwd()\n",
    "    df = pd.DataFrame()\n",
    "    path = \"../Data/filled/\" + str(year) + \"/\"\n",
    "    for filename in os.listdir(path):\n",
    "        df1 = pd.read_csv(path + filename)\n",
    "        if df1.geometry.isna().any():\n",
    "            print(filename)\n",
    "        df = pd.concat([df, df1])\n",
    "    \n",
    "    df = gpd.GeoDataFrame(df)\n",
    "    df.geometry = df.geometry.apply(shapely.wkt.loads)\n",
    "    \n",
    "    df = df.reset_index()\n",
    "    df = df.drop([\"Unnamed: 0\", \"index\"], axis = 1)\n",
    "    return df"
   ]
  },
  {
   "cell_type": "code",
   "execution_count": 35,
   "id": "7edf9a2b",
   "metadata": {},
   "outputs": [],
   "source": [
    "df15 = load_data(2015)\n",
    "df16 = load_data(2016)\n",
    "wt = libpysal.weights.DistanceBand.from_dataframe(df15, threshold=150, binary = True, silence_warnings = True)\n",
    "wv = libpysal.weights.DistanceBand.from_dataframe(df16, threshold=150, binary = True, silence_warnings = True)"
   ]
  },
  {
   "cell_type": "code",
   "execution_count": 36,
   "id": "4589a3f8",
   "metadata": {},
   "outputs": [],
   "source": [
    "\n",
    "scaler = StandardScaler()\n",
    "X15 = df15[df15.columns[:-4]]\n",
    "Y15 = df15.y\n",
    "\n",
    "X16 = df16[df16.columns[:-4]]\n",
    "Y16 = df16.y\n",
    "\n",
    "X15 = pd.DataFrame(scaler.fit_transform(X15))\n",
    "X16 = pd.DataFrame(scaler.transform(X16))"
   ]
  },
  {
   "cell_type": "code",
   "execution_count": 51,
   "id": "8f22a6ec",
   "metadata": {},
   "outputs": [],
   "source": [
    "cluster_model = KMeans(n_clusters=5, random_state=0)\n",
    "labels15 = pd.DataFrame(cluster_model.fit_predict(X15))\n",
    "labels16 = pd.DataFrame(cluster_model.predict(X16))\n",
    "\n",
    "labels15[\"X\"] = X15.index\n",
    "labels16[\"X\"] = X16.index\n",
    "\n",
    "\n",
    "labels15 = labels15.set_index(0)\n",
    "labels16 = labels16.set_index(0)"
   ]
  },
  {
   "cell_type": "code",
   "execution_count": 42,
   "id": "8be9928a",
   "metadata": {},
   "outputs": [],
   "source": [
    "with open('cbs_id_koppel.pickle', 'rb') as handle:\n",
    "    b = pickle.load(handle)"
   ]
  },
  {
   "cell_type": "code",
   "execution_count": 43,
   "id": "5910fcc8",
   "metadata": {},
   "outputs": [],
   "source": [
    "# br.C28992R100 = br.C28992R100.map(b) # change C28992code for id\n",
    "labels15.C28 = labels15.C28.map(b)"
   ]
  },
  {
   "cell_type": "code",
   "execution_count": 48,
   "id": "b20b98b2",
   "metadata": {},
   "outputs": [
    {
     "data": {
      "text/html": [
       "<div>\n",
       "<style scoped>\n",
       "    .dataframe tbody tr th:only-of-type {\n",
       "        vertical-align: middle;\n",
       "    }\n",
       "\n",
       "    .dataframe tbody tr th {\n",
       "        vertical-align: top;\n",
       "    }\n",
       "\n",
       "    .dataframe thead th {\n",
       "        text-align: right;\n",
       "    }\n",
       "</style>\n",
       "<table border=\"1\" class=\"dataframe\">\n",
       "  <thead>\n",
       "    <tr style=\"text-align: right;\">\n",
       "      <th></th>\n",
       "      <th>X</th>\n",
       "      <th>C28</th>\n",
       "    </tr>\n",
       "    <tr>\n",
       "      <th>0</th>\n",
       "      <th></th>\n",
       "      <th></th>\n",
       "    </tr>\n",
       "  </thead>\n",
       "  <tbody>\n",
       "    <tr>\n",
       "      <th>0</th>\n",
       "      <td>0</td>\n",
       "      <td>2748208</td>\n",
       "    </tr>\n",
       "    <tr>\n",
       "      <th>0</th>\n",
       "      <td>1</td>\n",
       "      <td>2748211</td>\n",
       "    </tr>\n",
       "    <tr>\n",
       "      <th>0</th>\n",
       "      <td>2</td>\n",
       "      <td>2748212</td>\n",
       "    </tr>\n",
       "    <tr>\n",
       "      <th>0</th>\n",
       "      <td>3</td>\n",
       "      <td>2748245</td>\n",
       "    </tr>\n",
       "    <tr>\n",
       "      <th>0</th>\n",
       "      <td>4</td>\n",
       "      <td>2748263</td>\n",
       "    </tr>\n",
       "    <tr>\n",
       "      <th>...</th>\n",
       "      <td>...</td>\n",
       "      <td>...</td>\n",
       "    </tr>\n",
       "    <tr>\n",
       "      <th>0</th>\n",
       "      <td>56362</td>\n",
       "      <td>1413137</td>\n",
       "    </tr>\n",
       "    <tr>\n",
       "      <th>0</th>\n",
       "      <td>56363</td>\n",
       "      <td>1413181</td>\n",
       "    </tr>\n",
       "    <tr>\n",
       "      <th>0</th>\n",
       "      <td>56364</td>\n",
       "      <td>1414800</td>\n",
       "    </tr>\n",
       "    <tr>\n",
       "      <th>0</th>\n",
       "      <td>56365</td>\n",
       "      <td>1414808</td>\n",
       "    </tr>\n",
       "    <tr>\n",
       "      <th>0</th>\n",
       "      <td>56366</td>\n",
       "      <td>1416469</td>\n",
       "    </tr>\n",
       "  </tbody>\n",
       "</table>\n",
       "<p>56367 rows × 2 columns</p>\n",
       "</div>"
      ],
      "text/plain": [
       "        X      C28\n",
       "0                 \n",
       "0       0  2748208\n",
       "0       1  2748211\n",
       "0       2  2748212\n",
       "0       3  2748245\n",
       "0       4  2748263\n",
       "..    ...      ...\n",
       "0   56362  1413137\n",
       "0   56363  1413181\n",
       "0   56364  1414800\n",
       "0   56365  1414808\n",
       "0   56366  1416469\n",
       "\n",
       "[56367 rows x 2 columns]"
      ]
     },
     "execution_count": 48,
     "metadata": {},
     "output_type": "execute_result"
    }
   ],
   "source": [
    "labels15"
   ]
  },
  {
   "cell_type": "code",
   "execution_count": 53,
   "id": "7e0c1303",
   "metadata": {},
   "outputs": [
    {
     "data": {
      "text/plain": [
       "(10237, 39, 11, 11)"
      ]
     },
     "execution_count": 53,
     "metadata": {},
     "output_type": "execute_result"
    }
   ],
   "source": [
    "X_train[labels15.loc[0][\"X\"]].shape"
   ]
  },
  {
   "cell_type": "code",
   "execution_count": 54,
   "id": "f10ad958",
   "metadata": {},
   "outputs": [
    {
     "data": {
      "text/plain": [
       "(10237, 1)"
      ]
     },
     "execution_count": 54,
     "metadata": {},
     "output_type": "execute_result"
    }
   ],
   "source": [
    "labels15.loc[0].shape"
   ]
  },
  {
   "cell_type": "code",
   "execution_count": 50,
   "id": "8673db95",
   "metadata": {},
   "outputs": [
    {
     "data": {
      "text/plain": [
       "array([2893058., 2870455., 2868833., ..., 1311910., 1176428., 1314791.])"
      ]
     },
     "execution_count": 50,
     "metadata": {},
     "output_type": "execute_result"
    }
   ],
   "source": [
    "ID_train"
   ]
  },
  {
   "cell_type": "code",
   "execution_count": 84,
   "id": "3b0a18ab",
   "metadata": {},
   "outputs": [],
   "source": [
    "\n",
    "# preds = pd.DataFrame(np.array(preds.detach())).set_index(ID_train)\n",
    "neighbors = [w15.neighbors[x] for x in ID_train]\n",
    "transitions = [preds.loc[x].values for x in neighbors]\n",
    "\n",
    "\n",
    "\n",
    "n_function = np.zeros((len(preds), w15.max_neighbors + 1))\n",
    "for i, (t, idx) in enumerate(zip(transitions, ID_train)):\n",
    "    n_function[i, 1:len(t) + 1] = t.squeeze()\n",
    "    n_function[i, 0] = preds.loc[idx]"
   ]
  },
  {
   "cell_type": "code",
   "execution_count": 85,
   "id": "f78e226c",
   "metadata": {
    "scrolled": true
   },
   "outputs": [
    {
     "name": "stdout",
     "output_type": "stream",
     "text": [
      "Fitting 5 folds for each of 8 candidates, totalling 40 fits\n",
      "[CV 1/5] END .......max_depth=6, oob_score=True;, score=0.641 total time=   4.8s\n",
      "[CV 2/5] END .......max_depth=6, oob_score=True;, score=0.649 total time=   4.6s\n",
      "[CV 3/5] END .......max_depth=6, oob_score=True;, score=0.663 total time=   4.7s\n",
      "[CV 4/5] END .......max_depth=6, oob_score=True;, score=0.619 total time=   4.8s\n",
      "[CV 5/5] END .......max_depth=6, oob_score=True;, score=0.681 total time=   4.7s\n",
      "[CV 1/5] END ......max_depth=6, oob_score=False;, score=0.639 total time=   4.1s\n",
      "[CV 2/5] END ......max_depth=6, oob_score=False;, score=0.652 total time=   4.3s\n",
      "[CV 3/5] END ......max_depth=6, oob_score=False;, score=0.663 total time=   4.0s\n",
      "[CV 4/5] END ......max_depth=6, oob_score=False;, score=0.619 total time=   3.9s\n",
      "[CV 5/5] END ......max_depth=6, oob_score=False;, score=0.682 total time=   4.4s\n",
      "[CV 1/5] END .......max_depth=8, oob_score=True;, score=0.647 total time=   5.4s\n",
      "[CV 2/5] END .......max_depth=8, oob_score=True;, score=0.663 total time=   5.5s\n",
      "[CV 3/5] END .......max_depth=8, oob_score=True;, score=0.673 total time=   5.6s\n",
      "[CV 4/5] END .......max_depth=8, oob_score=True;, score=0.632 total time=   5.4s\n",
      "[CV 5/5] END .......max_depth=8, oob_score=True;, score=0.688 total time=   6.6s\n",
      "[CV 1/5] END ......max_depth=8, oob_score=False;, score=0.647 total time=   5.1s\n",
      "[CV 2/5] END ......max_depth=8, oob_score=False;, score=0.663 total time=   5.6s\n",
      "[CV 3/5] END ......max_depth=8, oob_score=False;, score=0.673 total time=   6.3s\n",
      "[CV 4/5] END ......max_depth=8, oob_score=False;, score=0.632 total time=   5.3s\n",
      "[CV 5/5] END ......max_depth=8, oob_score=False;, score=0.688 total time=   5.6s\n",
      "[CV 1/5] END ......max_depth=10, oob_score=True;, score=0.659 total time=   6.8s\n",
      "[CV 2/5] END ......max_depth=10, oob_score=True;, score=0.671 total time=   7.0s\n",
      "[CV 3/5] END ......max_depth=10, oob_score=True;, score=0.682 total time=   6.9s\n",
      "[CV 4/5] END ......max_depth=10, oob_score=True;, score=0.645 total time=   6.8s\n",
      "[CV 5/5] END ......max_depth=10, oob_score=True;, score=0.697 total time=   7.0s\n",
      "[CV 1/5] END .....max_depth=10, oob_score=False;, score=0.657 total time=   6.1s\n",
      "[CV 2/5] END .....max_depth=10, oob_score=False;, score=0.672 total time=   6.0s\n",
      "[CV 3/5] END .....max_depth=10, oob_score=False;, score=0.682 total time=   6.1s\n",
      "[CV 4/5] END .....max_depth=10, oob_score=False;, score=0.645 total time=   6.2s\n",
      "[CV 5/5] END .....max_depth=10, oob_score=False;, score=0.696 total time=   6.2s\n",
      "[CV 1/5] END ......max_depth=12, oob_score=True;, score=0.667 total time=   7.6s\n",
      "[CV 2/5] END ......max_depth=12, oob_score=True;, score=0.681 total time=   7.6s\n",
      "[CV 3/5] END ......max_depth=12, oob_score=True;, score=0.690 total time=   7.5s\n",
      "[CV 4/5] END ......max_depth=12, oob_score=True;, score=0.657 total time=   7.4s\n",
      "[CV 5/5] END ......max_depth=12, oob_score=True;, score=0.703 total time=   7.6s\n",
      "[CV 1/5] END .....max_depth=12, oob_score=False;, score=0.667 total time=   6.8s\n",
      "[CV 2/5] END .....max_depth=12, oob_score=False;, score=0.681 total time=   6.9s\n",
      "[CV 3/5] END .....max_depth=12, oob_score=False;, score=0.691 total time=   6.8s\n",
      "[CV 4/5] END .....max_depth=12, oob_score=False;, score=0.657 total time=   7.1s\n",
      "[CV 5/5] END .....max_depth=12, oob_score=False;, score=0.704 total time=   7.9s\n"
     ]
    },
    {
     "data": {
      "text/plain": [
       "GridSearchCV(cv=5, estimator=RandomForestClassifier(),\n",
       "             param_grid={'max_depth': [6, 8, 10, 12],\n",
       "                         'oob_score': [True, False]},\n",
       "             scoring='balanced_accuracy', verbose=3)"
      ]
     },
     "execution_count": 85,
     "metadata": {},
     "output_type": "execute_result"
    }
   ],
   "source": [
    "params = {\"max_depth\": [6, 8, 10, 12], \"oob_score\" : [True, False]}\n",
    "clf_bagger = GridSearchCV(RandomForestClassifier(), params, cv = 5, scoring = \"balanced_accuracy\",\n",
    "                               verbose = 3)\n",
    "oversample = SMOTE()\n",
    "x, y = oversample.fit_resample(n_function, Y_train)\n",
    "\n",
    "clf_bagger.fit(x,y)"
   ]
  },
  {
   "cell_type": "code",
   "execution_count": 88,
   "id": "08a83af4",
   "metadata": {
    "scrolled": true
   },
   "outputs": [
    {
     "data": {
      "text/plain": [
       "{'max_depth': 12, 'oob_score': False}"
      ]
     },
     "execution_count": 88,
     "metadata": {},
     "output_type": "execute_result"
    }
   ],
   "source": [
    "clf_bagger.best_params_"
   ]
  },
  {
   "cell_type": "code",
   "execution_count": null,
   "id": "5248e2ae",
   "metadata": {},
   "outputs": [],
   "source": [
    "np.array(preds.detach())"
   ]
  },
  {
   "cell_type": "code",
   "execution_count": 90,
   "id": "b249875f",
   "metadata": {},
   "outputs": [],
   "source": [
    "X_val = torch.from_numpy(X_val).float()\n",
    "preds = model(X_val)"
   ]
  },
  {
   "cell_type": "code",
   "execution_count": 91,
   "id": "91e2c519",
   "metadata": {},
   "outputs": [],
   "source": [
    "with open('w16.pickle', 'rb') as handle:\n",
    "    w16 = pickle.load(handle)"
   ]
  },
  {
   "cell_type": "code",
   "execution_count": 92,
   "id": "49d94624",
   "metadata": {},
   "outputs": [],
   "source": [
    "preds = pd.DataFrame(np.array(preds.detach())).set_index(ID_val)\n",
    "neighbors = [w16.neighbors[x] for x in ID_val]\n",
    "transitions = [preds.loc[x].values for x in neighbors]\n",
    "\n",
    "\n",
    "\n",
    "n_function = np.zeros((len(preds), w16.max_neighbors + 1))\n",
    "for i, (t, idx) in enumerate(zip(transitions, ID_val)):\n",
    "    n_function[i, 1:len(t) + 1] = t.squeeze()\n",
    "    n_function[i, 0] = preds.loc[idx]"
   ]
  },
  {
   "cell_type": "code",
   "execution_count": 93,
   "id": "ee759569",
   "metadata": {},
   "outputs": [],
   "source": [
    "preds = clf_bagger.predict(n_function)"
   ]
  },
  {
   "cell_type": "code",
   "execution_count": 94,
   "id": "0f66f06c",
   "metadata": {},
   "outputs": [
    {
     "data": {
      "text/plain": [
       "57050"
      ]
     },
     "execution_count": 94,
     "metadata": {},
     "output_type": "execute_result"
    }
   ],
   "source": [
    "len(neighbors)"
   ]
  },
  {
   "cell_type": "code",
   "execution_count": null,
   "id": "a5d8c62a",
   "metadata": {},
   "outputs": [],
   "source": []
  },
  {
   "cell_type": "code",
   "execution_count": 95,
   "id": "71e36a83",
   "metadata": {},
   "outputs": [
    {
     "data": {
      "text/plain": [
       "0.5448808332705778"
      ]
     },
     "execution_count": 95,
     "metadata": {},
     "output_type": "execute_result"
    }
   ],
   "source": [
    "clf_bagger.score(n_function, Y_val)"
   ]
  },
  {
   "cell_type": "code",
   "execution_count": 96,
   "id": "708da41b",
   "metadata": {},
   "outputs": [
    {
     "data": {
      "text/plain": [
       "0.22256568778979907"
      ]
     },
     "execution_count": 96,
     "metadata": {},
     "output_type": "execute_result"
    }
   ],
   "source": [
    "recall_score(Y_val, preds)"
   ]
  },
  {
   "cell_type": "code",
   "execution_count": 97,
   "id": "4d5b6b50",
   "metadata": {},
   "outputs": [
    {
     "data": {
      "text/plain": [
       "0.1262683201803833"
      ]
     },
     "execution_count": 97,
     "metadata": {},
     "output_type": "execute_result"
    }
   ],
   "source": [
    "precision_score(Y_val, preds)"
   ]
  },
  {
   "cell_type": "code",
   "execution_count": 246,
   "id": "653623ba",
   "metadata": {},
   "outputs": [
    {
     "data": {
      "text/plain": [
       "4529"
      ]
     },
     "execution_count": 246,
     "metadata": {},
     "output_type": "execute_result"
    }
   ],
   "source": [
    "(Y_val == 1).sum()"
   ]
  },
  {
   "cell_type": "markdown",
   "id": "785763ff",
   "metadata": {},
   "source": [
    "# No bagger on the end"
   ]
  },
  {
   "cell_type": "code",
   "execution_count": 277,
   "id": "efe1d495",
   "metadata": {},
   "outputs": [],
   "source": [
    "preds = pd.DataFrame(np.array(preds.detach())).set_index(ID_val)"
   ]
  },
  {
   "cell_type": "code",
   "execution_count": 279,
   "id": "ba4f5668",
   "metadata": {},
   "outputs": [],
   "source": [
    "preds[\"y\"] = Y_val"
   ]
  },
  {
   "cell_type": "code",
   "execution_count": 280,
   "id": "da369a99",
   "metadata": {},
   "outputs": [],
   "source": [
    "preds = preds.sort_values(by=[0], ascending = False)"
   ]
  },
  {
   "cell_type": "code",
   "execution_count": 281,
   "id": "2288054e",
   "metadata": {},
   "outputs": [
    {
     "data": {
      "text/html": [
       "<div>\n",
       "<style scoped>\n",
       "    .dataframe tbody tr th:only-of-type {\n",
       "        vertical-align: middle;\n",
       "    }\n",
       "\n",
       "    .dataframe tbody tr th {\n",
       "        vertical-align: top;\n",
       "    }\n",
       "\n",
       "    .dataframe thead th {\n",
       "        text-align: right;\n",
       "    }\n",
       "</style>\n",
       "<table border=\"1\" class=\"dataframe\">\n",
       "  <thead>\n",
       "    <tr style=\"text-align: right;\">\n",
       "      <th></th>\n",
       "      <th>0</th>\n",
       "      <th>y</th>\n",
       "    </tr>\n",
       "  </thead>\n",
       "  <tbody>\n",
       "    <tr>\n",
       "      <th>3699708.0</th>\n",
       "      <td>9.999919e-01</td>\n",
       "      <td>0.0</td>\n",
       "    </tr>\n",
       "    <tr>\n",
       "      <th>2206980.0</th>\n",
       "      <td>9.999806e-01</td>\n",
       "      <td>0.0</td>\n",
       "    </tr>\n",
       "    <tr>\n",
       "      <th>2206983.0</th>\n",
       "      <td>9.999349e-01</td>\n",
       "      <td>0.0</td>\n",
       "    </tr>\n",
       "    <tr>\n",
       "      <th>2206982.0</th>\n",
       "      <td>9.999343e-01</td>\n",
       "      <td>0.0</td>\n",
       "    </tr>\n",
       "    <tr>\n",
       "      <th>2210563.0</th>\n",
       "      <td>9.999300e-01</td>\n",
       "      <td>0.0</td>\n",
       "    </tr>\n",
       "    <tr>\n",
       "      <th>...</th>\n",
       "      <td>...</td>\n",
       "      <td>...</td>\n",
       "    </tr>\n",
       "    <tr>\n",
       "      <th>2654130.0</th>\n",
       "      <td>3.897061e-21</td>\n",
       "      <td>0.0</td>\n",
       "    </tr>\n",
       "    <tr>\n",
       "      <th>2113362.0</th>\n",
       "      <td>1.054448e-21</td>\n",
       "      <td>0.0</td>\n",
       "    </tr>\n",
       "    <tr>\n",
       "      <th>3705586.0</th>\n",
       "      <td>2.995088e-22</td>\n",
       "      <td>0.0</td>\n",
       "    </tr>\n",
       "    <tr>\n",
       "      <th>3703981.0</th>\n",
       "      <td>6.478963e-23</td>\n",
       "      <td>0.0</td>\n",
       "    </tr>\n",
       "    <tr>\n",
       "      <th>2116824.0</th>\n",
       "      <td>9.653986e-25</td>\n",
       "      <td>1.0</td>\n",
       "    </tr>\n",
       "  </tbody>\n",
       "</table>\n",
       "<p>57050 rows × 2 columns</p>\n",
       "</div>"
      ],
      "text/plain": [
       "                      0    y\n",
       "3699708.0  9.999919e-01  0.0\n",
       "2206980.0  9.999806e-01  0.0\n",
       "2206983.0  9.999349e-01  0.0\n",
       "2206982.0  9.999343e-01  0.0\n",
       "2210563.0  9.999300e-01  0.0\n",
       "...                 ...  ...\n",
       "2654130.0  3.897061e-21  0.0\n",
       "2113362.0  1.054448e-21  0.0\n",
       "3705586.0  2.995088e-22  0.0\n",
       "3703981.0  6.478963e-23  0.0\n",
       "2116824.0  9.653986e-25  1.0\n",
       "\n",
       "[57050 rows x 2 columns]"
      ]
     },
     "execution_count": 281,
     "metadata": {},
     "output_type": "execute_result"
    }
   ],
   "source": [
    "preds"
   ]
  },
  {
   "cell_type": "code",
   "execution_count": 282,
   "id": "70c91604",
   "metadata": {},
   "outputs": [],
   "source": [
    "preds[0].iloc[0:4529] = 1\n",
    "preds[0].iloc[4529:] = 0"
   ]
  },
  {
   "cell_type": "code",
   "execution_count": 283,
   "id": "4426a7b9",
   "metadata": {},
   "outputs": [
    {
     "data": {
      "text/plain": [
       "0.17244424817840584"
      ]
     },
     "execution_count": 283,
     "metadata": {},
     "output_type": "execute_result"
    }
   ],
   "source": [
    "recall_score(preds[\"y\"], preds[0])\n"
   ]
  },
  {
   "cell_type": "code",
   "execution_count": 284,
   "id": "e2e24821",
   "metadata": {},
   "outputs": [
    {
     "data": {
      "text/plain": [
       "0.17244424817840584"
      ]
     },
     "execution_count": 284,
     "metadata": {},
     "output_type": "execute_result"
    }
   ],
   "source": [
    "precision_score(preds[\"y\"], preds[0])"
   ]
  }
 ],
 "metadata": {
  "kernelspec": {
   "display_name": "Python 3 (ipykernel)",
   "language": "python",
   "name": "python3"
  },
  "language_info": {
   "codemirror_mode": {
    "name": "ipython",
    "version": 3
   },
   "file_extension": ".py",
   "mimetype": "text/x-python",
   "name": "python",
   "nbconvert_exporter": "python",
   "pygments_lexer": "ipython3",
   "version": "3.7.11"
  }
 },
 "nbformat": 4,
 "nbformat_minor": 5
}
