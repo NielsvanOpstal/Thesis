{
  "nbformat": 4,
  "nbformat_minor": 0,
  "metadata": {
    "colab": {
      "name": "MLP_cluster.ipynb",
      "provenance": [],
      "collapsed_sections": [
        "ECjgz2OluQR_"
      ]
    },
    "kernelspec": {
      "name": "python3",
      "display_name": "Python 3"
    },
    "language_info": {
      "name": "python"
    }
  },
  "cells": [
    {
      "cell_type": "code",
      "metadata": {
        "colab": {
          "base_uri": "https://localhost:8080/"
        },
        "id": "rp0a91C3FSOv",
        "outputId": "04d74e3e-11ba-46fe-9a19-130bb6e900e7"
      },
      "source": [
        "from google.colab import drive\n",
        "drive.mount('/content/drive')"
      ],
      "execution_count": null,
      "outputs": [
        {
          "output_type": "stream",
          "name": "stdout",
          "text": [
            "Mounted at /content/drive\n"
          ]
        }
      ]
    },
    {
      "cell_type": "code",
      "metadata": {
        "colab": {
          "base_uri": "https://localhost:8080/"
        },
        "id": "fK3Ji9IvCvJM",
        "outputId": "fc037dcc-a27a-490f-aca5-0e0267a3c09c"
      },
      "source": [
        "import torch\n",
        "# device = torch.device(\"cuda:0\" if torch.cuda.is_available() else \"cpu\")\n",
        "device = \"cpu\"\n",
        "print(\"Device: {}\".format(device))"
      ],
      "execution_count": null,
      "outputs": [
        {
          "output_type": "stream",
          "name": "stdout",
          "text": [
            "Device: cpu\n"
          ]
        }
      ]
    },
    {
      "cell_type": "code",
      "metadata": {
        "id": "cMd5xcLIC4Kp",
        "colab": {
          "base_uri": "https://localhost:8080/"
        },
        "outputId": "52aad552-5484-423f-9ed7-c590eb186d91"
      },
      "source": [
        "import numpy as np\n",
        "import os\n",
        "from imblearn.over_sampling import SMOTE \n",
        "from imblearn.combine import SMOTEENN\n",
        "from imblearn.under_sampling import RandomUnderSampler\n",
        "from imblearn.pipeline import Pipeline\n",
        "from imblearn.tensorflow import balanced_batch_generator\n",
        "from numpy.random import default_rng\n",
        "rng = default_rng(seed = 31)\n",
        "import pickle\n",
        "import pandas as pd\n",
        "from sklearn.ensemble import RandomForestClassifier\n",
        "from sklearn.model_selection import  GridSearchCV\n",
        "!pip install geopandas\n",
        "!pip install libpysal\n",
        "import geopandas as gpd\n",
        "import shapely\n",
        "from sklearn.metrics import recall_score, precision_score, accuracy_score, f1_score, roc_auc_score\n",
        "import libpysal\n",
        "from torch import nn, optim\n",
        "import scipy.ndimage as ndimage\n",
        "from sklearn.preprocessing import StandardScaler\n",
        "import matplotlib.pyplot as plt\n",
        "from copy import deepcopy"
      ],
      "execution_count": null,
      "outputs": [
        {
          "output_type": "stream",
          "name": "stdout",
          "text": [
            "Collecting geopandas\n",
            "  Downloading geopandas-0.10.2-py2.py3-none-any.whl (1.0 MB)\n",
            "\u001b[K     |████████████████████████████████| 1.0 MB 5.0 MB/s \n",
            "\u001b[?25hCollecting pyproj>=2.2.0\n",
            "  Downloading pyproj-3.2.1-cp37-cp37m-manylinux2010_x86_64.whl (6.3 MB)\n",
            "\u001b[K     |████████████████████████████████| 6.3 MB 39.6 MB/s \n",
            "\u001b[?25hRequirement already satisfied: pandas>=0.25.0 in /usr/local/lib/python3.7/dist-packages (from geopandas) (1.1.5)\n",
            "Requirement already satisfied: shapely>=1.6 in /usr/local/lib/python3.7/dist-packages (from geopandas) (1.8.0)\n",
            "Collecting fiona>=1.8\n",
            "  Downloading Fiona-1.8.20-cp37-cp37m-manylinux1_x86_64.whl (15.4 MB)\n",
            "\u001b[K     |████████████████████████████████| 15.4 MB 39 kB/s \n",
            "\u001b[?25hRequirement already satisfied: six>=1.7 in /usr/local/lib/python3.7/dist-packages (from fiona>=1.8->geopandas) (1.15.0)\n",
            "Requirement already satisfied: attrs>=17 in /usr/local/lib/python3.7/dist-packages (from fiona>=1.8->geopandas) (21.2.0)\n",
            "Requirement already satisfied: setuptools in /usr/local/lib/python3.7/dist-packages (from fiona>=1.8->geopandas) (57.4.0)\n",
            "Requirement already satisfied: certifi in /usr/local/lib/python3.7/dist-packages (from fiona>=1.8->geopandas) (2021.10.8)\n",
            "Collecting munch\n",
            "  Downloading munch-2.5.0-py2.py3-none-any.whl (10 kB)\n",
            "Collecting click-plugins>=1.0\n",
            "  Downloading click_plugins-1.1.1-py2.py3-none-any.whl (7.5 kB)\n",
            "Collecting cligj>=0.5\n",
            "  Downloading cligj-0.7.2-py3-none-any.whl (7.1 kB)\n",
            "Requirement already satisfied: click>=4.0 in /usr/local/lib/python3.7/dist-packages (from fiona>=1.8->geopandas) (7.1.2)\n",
            "Requirement already satisfied: pytz>=2017.2 in /usr/local/lib/python3.7/dist-packages (from pandas>=0.25.0->geopandas) (2018.9)\n",
            "Requirement already satisfied: numpy>=1.15.4 in /usr/local/lib/python3.7/dist-packages (from pandas>=0.25.0->geopandas) (1.19.5)\n",
            "Requirement already satisfied: python-dateutil>=2.7.3 in /usr/local/lib/python3.7/dist-packages (from pandas>=0.25.0->geopandas) (2.8.2)\n",
            "Installing collected packages: munch, cligj, click-plugins, pyproj, fiona, geopandas\n",
            "Successfully installed click-plugins-1.1.1 cligj-0.7.2 fiona-1.8.20 geopandas-0.10.2 munch-2.5.0 pyproj-3.2.1\n",
            "Collecting libpysal\n",
            "  Downloading libpysal-4.5.1-py3-none-any.whl (2.4 MB)\n",
            "\u001b[K     |████████████████████████████████| 2.4 MB 5.0 MB/s \n",
            "\u001b[?25hRequirement already satisfied: requests in /usr/local/lib/python3.7/dist-packages (from libpysal) (2.23.0)\n",
            "Requirement already satisfied: pandas in /usr/local/lib/python3.7/dist-packages (from libpysal) (1.1.5)\n",
            "Requirement already satisfied: scipy>=0.11 in /usr/local/lib/python3.7/dist-packages (from libpysal) (1.4.1)\n",
            "Requirement already satisfied: numpy>=1.3 in /usr/local/lib/python3.7/dist-packages (from libpysal) (1.19.5)\n",
            "Requirement already satisfied: beautifulsoup4 in /usr/local/lib/python3.7/dist-packages (from libpysal) (4.6.3)\n",
            "Requirement already satisfied: jinja2 in /usr/local/lib/python3.7/dist-packages (from libpysal) (2.11.3)\n",
            "Requirement already satisfied: MarkupSafe>=0.23 in /usr/local/lib/python3.7/dist-packages (from jinja2->libpysal) (2.0.1)\n",
            "Requirement already satisfied: pytz>=2017.2 in /usr/local/lib/python3.7/dist-packages (from pandas->libpysal) (2018.9)\n",
            "Requirement already satisfied: python-dateutil>=2.7.3 in /usr/local/lib/python3.7/dist-packages (from pandas->libpysal) (2.8.2)\n",
            "Requirement already satisfied: six>=1.5 in /usr/local/lib/python3.7/dist-packages (from python-dateutil>=2.7.3->pandas->libpysal) (1.15.0)\n",
            "Requirement already satisfied: chardet<4,>=3.0.2 in /usr/local/lib/python3.7/dist-packages (from requests->libpysal) (3.0.4)\n",
            "Requirement already satisfied: certifi>=2017.4.17 in /usr/local/lib/python3.7/dist-packages (from requests->libpysal) (2021.10.8)\n",
            "Requirement already satisfied: urllib3!=1.25.0,!=1.25.1,<1.26,>=1.21.1 in /usr/local/lib/python3.7/dist-packages (from requests->libpysal) (1.24.3)\n",
            "Requirement already satisfied: idna<3,>=2.5 in /usr/local/lib/python3.7/dist-packages (from requests->libpysal) (2.10)\n",
            "Installing collected packages: libpysal\n",
            "Successfully installed libpysal-4.5.1\n"
          ]
        }
      ]
    },
    {
      "cell_type": "code",
      "metadata": {
        "id": "mnHq0HqJC5dh"
      },
      "source": [
        "ss = StandardScaler()"
      ],
      "execution_count": null,
      "outputs": []
    },
    {
      "cell_type": "code",
      "metadata": {
        "id": "FtKEpQOq9moJ"
      },
      "source": [
        "from sklearn.cluster import KMeans\n",
        "from collections import Counter"
      ],
      "execution_count": null,
      "outputs": []
    },
    {
      "cell_type": "code",
      "metadata": {
        "id": "b6jHdWF-DMMs"
      },
      "source": [
        "def load_data(year):\n",
        "    os.getcwd()\n",
        "    \n",
        "    df = pd.DataFrame()\n",
        "    path = \"/content/drive/MyDrive/Uni/Tilburg/Thesis/\" + str(year) + \"/\"\n",
        "    for filename in os.listdir(path):\n",
        "        df1 = pd.read_csv(path + filename)\n",
        "        print(filename, df1.shape)\n",
        "        if df1.geometry.isna().any():\n",
        "            print(filename)\n",
        "        df = pd.concat([df, df1])\n",
        "    df = gpd.GeoDataFrame(df)\n",
        "    # print(df.shape)\n",
        "    df.geometry = df.geometry.apply(shapely.wkt.loads)\n",
        "    \n",
        "    df = df.reset_index()\n",
        "    df = df.drop([\"Unnamed: 0\", \"index\"], axis = 1)\n",
        "    return df"
      ],
      "execution_count": null,
      "outputs": []
    },
    {
      "cell_type": "code",
      "metadata": {
        "id": "GbDZhpYdESW1",
        "colab": {
          "base_uri": "https://localhost:8080/"
        },
        "outputId": "964ebcbc-857d-4a94-a015-1314b6b772d0"
      },
      "source": [
        "# df15 = load_data(2015)\n",
        "# df16 = load_data(2016)\n",
        "df17 = load_data(2017)\n",
        "df18 = load_data(2018)\n",
        "df19 = load_data(2019)"
      ],
      "execution_count": null,
      "outputs": [
        {
          "output_type": "stream",
          "name": "stdout",
          "text": [
            "'s-Gravenhage17.csv_filled_.csv (9018, 45)\n",
            "'s-Gravenhage18.csv_filled_.csv (9111, 45)\n",
            "'s-Gravenhage19.csv_filled_.csv (9182, 45)\n"
          ]
        }
      ]
    },
    {
      "cell_type": "code",
      "metadata": {
        "id": "J0H9CMctFkLS",
        "colab": {
          "base_uri": "https://localhost:8080/"
        },
        "outputId": "6eb9a0d9-fded-46f0-c54e-80498d29cb35"
      },
      "source": [
        "X_train = df17[df17.columns[:-4]]\n",
        "Y_train = df17.y\n",
        "Y1_train = df17[\"y-1\"]\n",
        "# print(X_train)\n",
        "# X_train = ss.fit_transform(X_train)\n",
        "\n",
        "X_val = df18[df18.columns[:-4]]\n",
        "Y_val = df18.y\n",
        "Y1_val = df18[\"y-1\"]\n",
        "\n",
        "X_test = df19[df19.columns[:-4]]\n",
        "Y_test = df19.y\n",
        "Y1_test = df19[\"y-1\"]\n",
        "\n",
        "\n",
        "wt = libpysal.weights.DistanceBand.from_dataframe(df17, threshold=150, binary = True, silence_warnings = True)\n",
        "wv =libpysal.weights.DistanceBand.from_dataframe(df18, threshold=150, binary = True, silence_warnings = True)\n",
        "\n",
        "wtest =libpysal.weights.DistanceBand.from_dataframe(df19, threshold=150, binary = True, silence_warnings = True)"
      ],
      "execution_count": null,
      "outputs": [
        {
          "output_type": "stream",
          "name": "stderr",
          "text": [
            "/usr/local/lib/python3.7/dist-packages/libpysal/weights/util.py:1073: ShapelyDeprecationWarning: The array interface is deprecated and will no longer work in Shapely 2.0. Convert the '.coords' to a numpy array instead.\n",
            "  data = np.vstack([np.array(shape.centroid) for shape in first_choice])\n"
          ]
        }
      ]
    },
    {
      "cell_type": "code",
      "metadata": {
        "id": "hUZc3yahH6Qr"
      },
      "source": [
        "neighbors = [wt.neighbors[x] for x in wt.neighbors]\n",
        "Y1_train = np.array([Y1_train[x].sum() for x in neighbors])\n",
        "Y1_train[np.where(Y1_train == 0)[0]] = 0.5\n",
        "\n",
        "neighbors = [wv.neighbors[x] for x in wv.neighbors]\n",
        "Y1_val = np.array([Y1_val[x].sum() for x in neighbors])\n",
        "Y1_val[np.where(Y1_val == 0)[0]] = 0.5\n",
        "\n",
        "neighbors = [wtest.neighbors[x] for x in wtest.neighbors]\n",
        "Y1_test = np.array([Y1_test[x].sum() for x in neighbors])\n",
        "Y1_test[np.where(Y1_test == 0)[0]] = 0.5"
      ],
      "execution_count": null,
      "outputs": []
    },
    {
      "cell_type": "code",
      "metadata": {
        "id": "JGevnDbqsH4O"
      },
      "source": [
        "X_train = ss.fit_transform(X_train)\n",
        "X_train[:,-1] = Y1_train\n",
        "X_val = ss.transform(X_val)\n",
        "X_val[:,-1] = Y1_val\n",
        "X_test = ss.transform(X_test)\n",
        "X_test[:,-1] = Y1_test"
      ],
      "execution_count": null,
      "outputs": []
    },
    {
      "cell_type": "code",
      "metadata": {
        "id": "RpWeFL2wf9rG"
      },
      "source": [
        "N_clusters = 3\n",
        "\n",
        "cluster_model = KMeans(n_clusters = N_clusters, random_state = 1)\n",
        "train_l = pd.DataFrame(cluster_model.fit_predict(X_train[:,:-1]))\n",
        "val_l = pd.DataFrame(cluster_model.predict(X_val[:,:-1]))\n",
        "test_l = pd.DataFrame(cluster_model.predict(X_test[:,:-1]))"
      ],
      "execution_count": null,
      "outputs": []
    },
    {
      "cell_type": "code",
      "metadata": {
        "id": "80eRLEtepygr"
      },
      "source": [
        "def get_batch(x, y, batch_size = 32):\n",
        "    idxs = np.random.randint(len(x), size = batch_size)\n",
        "    return x[idxs], y[idxs]"
      ],
      "execution_count": null,
      "outputs": []
    },
    {
      "cell_type": "code",
      "metadata": {
        "id": "A1q0WIdQqHAW"
      },
      "source": [
        "class BigModel(nn.Module):\n",
        "    def __init__(self,  drop_rate = 0.2):\n",
        "        super(BigModel, self).__init__()\n",
        "        self.net = nn.Sequential(\n",
        "            nn.Linear(39,100),\n",
        "            nn.Dropout(0.3),\n",
        "            nn.ReLU(),\n",
        "            nn.Linear(100,350),\n",
        "            nn.Dropout(0.3),\n",
        "            nn.ReLU(),\n",
        "            nn.Linear(350,500),\n",
        "            nn.ReLU(),\n",
        "            nn.Dropout(0.3),\n",
        "            nn.Linear(500,250),\n",
        "            nn.ReLU(),\n",
        "            nn.Dropout(0.3),\n",
        "            nn.Linear(250,1))\n",
        "\n",
        "        self.final = nn.Sigmoid()\n",
        "        self.name = \"biggie\"\n",
        "\n",
        "    def forward(self, x):\n",
        "        Y_1 = x[:,-1].reshape(-1,1) # take yt-1 of neighbors\n",
        "        x = x[:,:-1]\n",
        "        out = self.net(x) # get p\n",
        "        \n",
        "        out *= Y_1 # multiply with yt-1\n",
        "\n",
        "        return out\n",
        "       "
      ],
      "execution_count": null,
      "outputs": []
    },
    {
      "cell_type": "code",
      "metadata": {
        "id": "6L9Z-H-p9a8Q"
      },
      "source": [
        "class MidModel(nn.Module):\n",
        "    def __init__(self,  drop_rate = 0.2):\n",
        "        super(MidModel, self).__init__()\n",
        "        self.net = nn.Sequential(\n",
        "            nn.Linear(39,100),\n",
        "            nn.Dropout(0.3),\n",
        "            nn.ReLU(),\n",
        "            nn.Linear(100,250),\n",
        "            nn.Dropout(0.3),\n",
        "            nn.ReLU(),\n",
        "            nn.Linear(250,100),\n",
        "            nn.ReLU(),\n",
        "            nn.Dropout(0.3),\n",
        "            nn.Linear(100,1)\n",
        "             )\n",
        "\n",
        "        self.final = nn.Sigmoid()\n",
        "        self.name = \"Malcom in the\"\n",
        "\n",
        "    def forward(self, x):\n",
        "        Y_1 = x[:,-1].reshape(-1,1) # take yt-1 of neighbors\n",
        "        x = x[:,:-1]\n",
        "        out = self.net(x) # get p\n",
        "        \n",
        "        out *= Y_1 # multiply with yt-1\n",
        "\n",
        "        return out\n",
        "       "
      ],
      "execution_count": null,
      "outputs": []
    },
    {
      "cell_type": "code",
      "metadata": {
        "id": "4siUugVH9doU"
      },
      "source": [
        "class SmallModel(nn.Module):\n",
        "    def __init__(self,  drop_rate = 0.2):\n",
        "        super(SmallModel, self).__init__()\n",
        "        self.net = nn.Sequential(\n",
        "            nn.Linear(39,50),\n",
        "            nn.Dropout(0.3),\n",
        "            nn.ReLU(),\n",
        "            nn.Linear(50,50),\n",
        "            nn.Dropout(0.3),\n",
        "            nn.ReLU(),\n",
        "            nn.Linear(50,1)\n",
        "             )\n",
        "\n",
        "        self.final = nn.Sigmoid()\n",
        "        self.name = \"It isn't about size\"\n",
        "\n",
        "    def forward(self, x):\n",
        "        Y_1 = x[:,-1].reshape(-1,1) # take yt-1 of neighbors\n",
        "        x = x[:,:-1]\n",
        "        out = self.net(x) # get p\n",
        "        \n",
        "        out *= Y_1 # multiply with yt-1\n",
        "\n",
        "        return out"
      ],
      "execution_count": null,
      "outputs": []
    },
    {
      "cell_type": "code",
      "metadata": {
        "id": "qlljxDqVhChR"
      },
      "source": [
        "def train_model(X_train, Y_train, train_l, X_val, Y_val, val_l, num_epochs,lr, batch_per_e = 150):\n",
        "\n",
        "    tot_auc = 0\n",
        "    tot_model = np.NaN\n",
        "    tot_param = 0\n",
        "    \n",
        "\n",
        "\n",
        "    print(\"train: {}, val: {}\".format(Counter(train_l[0]), Counter(val_l[0])))\n",
        "\n",
        "    auc_clust_hist = {}\n",
        "    f1_clust_hist = {}\n",
        "    clust_models = {}\n",
        "    param_clust_hist = {} \n",
        "\n",
        "    for clust in train_l[0].unique():\n",
        "      \n",
        "      best_auc = 0\n",
        "      best_f1 = 0\n",
        "      best_model = np.NaN\n",
        "        \n",
        "      idxs = train_l[train_l[0]== clust].index\n",
        "      xt = X_train[idxs]\n",
        "      yt = Y_train[idxs]\n",
        "\n",
        "      oversample = SMOTE()\n",
        "      xt, yt = oversample.fit_resample(xt, yt)\n",
        "\n",
        "      xt[xt[:,-1]>0.5][:,-1] =  np.ceil(xt[xt[:,-1] > 0.5][:,-1]) # 0.5 means no neighbors, otherwise make int\n",
        "      xt = torch.tensor(xt).float().to(device)\n",
        "      yt = torch.tensor(yt).float().to(device)\n",
        "\n",
        "      \n",
        "      idxs = val_l[val_l[0] == clust].index\n",
        "      xv = X_val[idxs]\n",
        "      yv = Y_val[idxs].values\n",
        "\n",
        "      xv = torch.tensor(xv).float().to(device)\n",
        "      yv = torch.tensor(yv).float().to(device)\n",
        "      yn = yv.cpu().detach().numpy()\n",
        "\n",
        "      for lr in [0.0000051, 0.00000051]:\n",
        "        for size in [\"big\", \"middle\", \"small\"]:\n",
        "\n",
        "            if size == \"big\":\n",
        "              model = BigModel().to(device)\n",
        "            elif size == \"middle\":\n",
        "              model = MidModel().to(device)\n",
        "            else: \n",
        "              model = SmallModel().to(device)\n",
        "\n",
        "            optimizer = optim.Adam(model.parameters(), lr = lr)\n",
        "            SigBCEloss = nn.BCEWithLogitsLoss()\n",
        "\n",
        "            for epoch in range(num_epochs):\n",
        "              epoch_loss = []\n",
        "              model.train()\n",
        "              for i in range(batch_per_e):\n",
        "\n",
        "                optimizer.zero_grad()\n",
        "                x,y = get_batch(xt, yt, 6)\n",
        "                out = model(x) # get output from final linear layer\n",
        "\n",
        "                loss = SigBCEloss(out, y.unsqueeze(1)) # put through sigmoid and calculate loss\n",
        "                loss.backward()\n",
        "                optimizer.step()\n",
        "                      \n",
        "              model.eval()\n",
        "              \n",
        "              out = model(xv)             \n",
        "\n",
        "              yn = yv.cpu().detach().numpy()\n",
        "\n",
        "              ROC = roc_auc_score(yn, model.final(out).detach())\n",
        "\n",
        "              val_loss = SigBCEloss(out, yv.unsqueeze(1))\n",
        "              out = out.cpu().squeeze().detach().numpy()\n",
        "              \n",
        "              \n",
        "              preds = np.zeros(len(out))\n",
        "              pos = out.argsort()[-((yv==1).sum()) : ]\n",
        "              preds[pos] = 1\n",
        "\n",
        "              acc = accuracy_score(yn, preds)\n",
        "              f1 = f1_score(yn, preds)\n",
        "              \n",
        "              if ROC > best_auc:\n",
        "                print(\"best UAC in cluster {}: {}\".format(clust, ROC))\n",
        "                best_auc = ROC\n",
        "                best_f1 = f1\n",
        "                param_clust_hist[clust] = [lr, size, epoch]\n",
        "                clust_models[clust] = deepcopy(model.state_dict())\n",
        "\n",
        "      # histories for this clust\n",
        "      auc_clust_hist[clust] = best_auc\n",
        "      f1_clust_hist[clust] = best_f1\n",
        "\n",
        "    predictions = np.zeros(len(Y_val))\n",
        "    for clust in train_l[0].unique():\n",
        "      \n",
        "      idxs = val_l[val_l[0] == clust].index\n",
        "      xv = torch.tensor(X_val[idxs]).float().to(device)\n",
        "      size = param_clust_hist[clust][1]\n",
        "      if size == \"big\":\n",
        "        model = BigModel().to(device)\n",
        "        model.load_state_dict(clust_models[clust])\n",
        "      elif size == \"middle\":\n",
        "        model = MidModel().to(device)\n",
        "        model.load_state_dict(clust_models[clust])\n",
        "      else: \n",
        "        model = SmallModel().to(device)\n",
        "        model.load_state_dict(clust_models[clust])\n",
        "\n",
        "      preds = model(xv)\n",
        "\n",
        "      preds = preds.cpu().squeeze().detach().numpy()\n",
        "      predictions[idxs] = preds\n",
        "\n",
        "    pos_idxs = predictions.argsort()[- (Y_val == 1).sum() : ]\n",
        "    Yhat = np.zeros(len(Y_val))\n",
        "    Yhat[pos_idxs] = 1\n",
        "    auc = roc_auc_score(Y_val, predictions)\n",
        "    f1 = f1_score(Y_val, Yhat)\n",
        "\n",
        "    if auc > tot_auc:\n",
        "      print(\"auc!! {}\".format(auc))\n",
        "      tot_auc = auc\n",
        "      tot_model = clust_models\n",
        "      tot_param = param_clust_hist\n",
        "\n",
        "    return tot_model, tot_param, tot_auc\n"
      ],
      "execution_count": null,
      "outputs": []
    },
    {
      "cell_type": "code",
      "metadata": {
        "id": "4C4YRlfxrc8_",
        "colab": {
          "base_uri": "https://localhost:8080/"
        },
        "outputId": "0dc46222-d56a-4f96-9b7f-e1f6738f023a"
      },
      "source": [
        "n_epochs = 600\n",
        "outs = []\n",
        "# for lr in [0.1,0.01,0.001,0.0001]:\n",
        "m, p, auc = train_model(X_train, Y_train, train_l, X_val, Y_val, val_l, n_epochs, 0.00000051)\n",
        "  # outs.append(out1)"
      ],
      "execution_count": null,
      "outputs": [
        {
          "metadata": {
            "tags": null
          },
          "name": "stdout",
          "output_type": "stream",
          "text": [
            "train: Counter({0: 4894, 1: 2882, 2: 1242}), val: Counter({0: 4897, 1: 2932, 2: 1282})\n",
            "best UAC in cluster 2: 0.38906765676567656\n",
            "best UAC in cluster 2: 0.540529231494578\n",
            "best UAC in cluster 2: 0.5934229137199434\n",
            "best UAC in cluster 2: 0.5935643564356438\n",
            "best UAC in cluster 2: 0.5940240452616691\n",
            "best UAC in cluster 2: 0.5948609146628949\n",
            "best UAC in cluster 2: 0.5962753418198963\n",
            "best UAC in cluster 2: 0.5967703913248469\n",
            "best UAC in cluster 2: 0.5980551626591231\n",
            "best UAC in cluster 2: 0.5991749174917491\n",
            "best UAC in cluster 2: 0.5993752946723244\n",
            "best UAC in cluster 2: 0.601119754832626\n",
            "best UAC in cluster 2: 0.6013083451202264\n",
            "best UAC in cluster 2: 0.6024516737388024\n",
            "best UAC in cluster 2: 0.606034889203206\n",
            "best UAC in cluster 2: 0.6088519566242339\n",
            "best UAC in cluster 2: 0.6117220650636492\n",
            "best UAC in cluster 2: 0.6140499764262141\n",
            "best UAC in cluster 2: 0.6151933050447902\n",
            "best UAC in cluster 2: 0.6167727487034418\n",
            "best UAC in cluster 2: 0.6177746346063179\n",
            "best UAC in cluster 2: 0.6180457331447432\n",
            "best UAC in cluster 2: 0.6198903818953323\n",
            "best UAC in cluster 2: 0.620909948137671\n",
            "best UAC in cluster 2: 0.6223950966525224\n",
            "best UAC in cluster 2: 0.6230021216407355\n",
            "best UAC in cluster 2: 0.6236209335219236\n",
            "best UAC in cluster 2: 0.6275931164545026\n",
            "best UAC in cluster 2: 0.6293375766148043\n",
            "best UAC in cluster 2: 0.6301626591230551\n",
            "best UAC in cluster 2: 0.6311173974540311\n",
            "best UAC in cluster 2: 0.6327439886845826\n",
            "best UAC in cluster 2: 0.6340641206977841\n",
            "best UAC in cluster 2: 0.6361975483262613\n",
            "best UAC in cluster 2: 0.6366572371522865\n",
            "best UAC in cluster 2: 0.6382307873644506\n",
            "best UAC in cluster 2: 0.6400165016501651\n",
            "best UAC in cluster 2: 0.6412953795379538\n",
            "best UAC in cluster 2: 0.6439533239038189\n",
            "best UAC in cluster 2: 0.6447312588401697\n",
            "best UAC in cluster 2: 0.6453559641678452\n",
            "best UAC in cluster 2: 0.6466289486091467\n",
            "best UAC in cluster 2: 0.6484441301272985\n",
            "best UAC in cluster 2: 0.6488802451673737\n",
            "best UAC in cluster 2: 0.6498231966053748\n",
            "best UAC in cluster 2: 0.6515794436586516\n",
            "best UAC in cluster 2: 0.652039132484677\n",
            "best UAC in cluster 2: 0.6529938708156531\n",
            "best UAC in cluster 2: 0.6545025931164545\n",
            "best UAC in cluster 2: 0.6548444130127299\n",
            "best UAC in cluster 2: 0.6550447901933052\n",
            "best UAC in cluster 2: 0.6551626591230552\n",
            "best UAC in cluster 2: 0.6554926921263555\n",
            "best UAC in cluster 2: 0.6559052333804809\n",
            "best UAC in cluster 2: 0.6566360207449317\n",
            "best UAC in cluster 2: 0.6567538896746817\n",
            "best UAC in cluster 2: 0.6572371522866572\n",
            "best UAC in cluster 2: 0.6578736445073078\n",
            "best UAC in cluster 2: 0.6583922677982084\n",
            "best UAC in cluster 2: 0.6584276284771334\n",
            "best UAC in cluster 2: 0.6587223008015087\n",
            "best UAC in cluster 2: 0.6592880716643092\n",
            "best UAC in cluster 2: 0.6594530881659595\n",
            "best UAC in cluster 2: 0.6598184818481849\n",
            "best UAC in cluster 2: 0.65999528524281\n",
            "best UAC in cluster 2: 0.6600424328147101\n",
            "best UAC in cluster 2: 0.6632131070249881\n",
            "best UAC in cluster 2: 0.6687942008486564\n",
            "best UAC in cluster 2: 0.6689651107967939\n",
            "best UAC in cluster 2: 0.6693422913719943\n",
            "best UAC in cluster 2: 0.6693658651579444\n",
            "best UAC in cluster 2: 0.6697784064120699\n",
            "best UAC in cluster 2: 0.6698727015558699\n",
            "best UAC in cluster 2: 0.6700789721829326\n",
            "best UAC in cluster 2: 0.6701909476661951\n",
            "best UAC in cluster 2: 0.6702498821310703\n",
            "best UAC in cluster 2: 0.6703795379537955\n",
            "best UAC in cluster 2: 0.6704974068835455\n",
            "best UAC in cluster 2: 0.671004243281471\n",
            "best UAC in cluster 2: 0.6711221122112211\n",
            "best UAC in cluster 2: 0.6711574728901462\n",
            "best UAC in cluster 2: 0.6712340876944838\n",
            "best UAC in cluster 2: 0.6714285714285716\n",
            "best UAC in cluster 2: 0.6716171617161717\n",
            "best UAC in cluster 2: 0.6718175388967469\n",
            "best UAC in cluster 2: 0.6719825553983969\n",
            "best UAC in cluster 2: 0.6720886374351721\n",
            "best UAC in cluster 2: 0.6722065063649222\n",
            "best UAC in cluster 2: 0.6722418670438473\n",
            "best UAC in cluster 2: 0.6723008015087223\n",
            "best UAC in cluster 2: 0.6726544082979727\n",
            "best UAC in cluster 2: 0.6727487034417726\n",
            "best UAC in cluster 2: 0.673043375766148\n",
            "best UAC in cluster 2: 0.6734205563413485\n",
            "best UAC in cluster 2: 0.6734912776991985\n",
            "best UAC in cluster 2: 0.6737388024516737\n",
            "best UAC in cluster 2: 0.674009900990099\n",
            "best UAC in cluster 2: 0.6742338519566242\n",
            "best UAC in cluster 2: 0.6744401225836869\n",
            "best UAC in cluster 2: 0.6746463932107496\n",
            "best UAC in cluster 2: 0.6746758604431872\n",
            "best UAC in cluster 2: 0.6747996228194247\n",
            "best UAC in cluster 2: 0.67488213107025\n",
            "best UAC in cluster 2: 0.6751296558227251\n",
            "best UAC in cluster 2: 0.6754714757190003\n",
            "best UAC in cluster 2: 0.6757956152758133\n",
            "best UAC in cluster 2: 0.676025459688826\n",
            "best UAC in cluster 2: 0.6761315417256012\n",
            "best UAC in cluster 2: 0.6766973125884017\n",
            "best UAC in cluster 2: 0.676921263554927\n",
            "best UAC in cluster 2: 0.677027345591702\n",
            "best UAC in cluster 2: 0.6773573785950024\n",
            "best UAC in cluster 2: 0.6777345591702028\n",
            "best UAC in cluster 2: 0.6779349363507778\n",
            "best UAC in cluster 2: 0.6785007072135784\n",
            "best UAC in cluster 2: 0.6787364450730787\n",
            "best UAC in cluster 2: 0.6791961338991043\n",
            "best UAC in cluster 2: 0.6794908062234795\n",
            "best UAC in cluster 2: 0.6798679867986799\n",
            "best UAC in cluster 2: 0.6801390853371051\n",
            "best UAC in cluster 2: 0.6803630363036304\n",
            "best UAC in cluster 2: 0.6805987741631305\n",
            "best UAC in cluster 2: 0.6806341348420556\n",
            "best UAC in cluster 2: 0.6806577086280056\n",
            "best UAC in cluster 2: 0.6806577086280057\n",
            "best UAC in cluster 2: 0.6807048561999058\n",
            "best UAC in cluster 2: 0.680940594059406\n",
            "best UAC in cluster 2: 0.6810231023102311\n",
            "best UAC in cluster 2: 0.6811056105610561\n",
            "best UAC in cluster 2: 0.6813118811881189\n",
            "best UAC in cluster 2: 0.6814120697784064\n",
            "best UAC in cluster 2: 0.6815181518151815\n",
            "best UAC in cluster 2: 0.6815535124941066\n",
            "best UAC in cluster 2: 0.6817303158887318\n",
            "best UAC in cluster 2: 0.6817538896746818\n",
            "best UAC in cluster 2: 0.6817892503536067\n",
            "best UAC in cluster 2: 0.6818128241395568\n",
            "best UAC in cluster 0: 0.5001514056980001\n",
            "best UAC in cluster 0: 0.5917632331548791\n",
            "best UAC in cluster 0: 0.6053377930392962\n",
            "best UAC in cluster 0: 0.616137736303392\n",
            "best UAC in cluster 0: 0.6171467777634838\n",
            "best UAC in cluster 0: 0.6176084167054252\n",
            "best UAC in cluster 0: 0.6180895173819678\n",
            "best UAC in cluster 0: 0.6195511266365175\n",
            "best UAC in cluster 0: 0.6200977045048968\n",
            "best UAC in cluster 0: 0.6211181261318318\n",
            "best UAC in cluster 0: 0.622050310233244\n",
            "best UAC in cluster 0: 0.6228187188900874\n",
            "best UAC in cluster 0: 0.6232610610273817\n",
            "best UAC in cluster 0: 0.6240570129865846\n",
            "best UAC in cluster 0: 0.6247317414294149\n",
            "best UAC in cluster 0: 0.6264854416329385\n",
            "best UAC in cluster 0: 0.6265946252626509\n",
            "best UAC in cluster 0: 0.6266129324875724\n",
            "best UAC in cluster 0: 0.6275543526664226\n",
            "best UAC in cluster 0: 0.6280633265052333\n",
            "best UAC in cluster 0: 0.6297881639667633\n",
            "best UAC in cluster 0: 0.6309398698372801\n",
            "best UAC in cluster 0: 0.6311831415197965\n",
            "best UAC in cluster 0: 0.6326788912748755\n",
            "best UAC in cluster 0: 0.6341705177810983\n",
            "best UAC in cluster 0: 0.6346504639479613\n",
            "best UAC in cluster 0: 0.6359219089652625\n",
            "best UAC in cluster 0: 0.6371204549427858\n",
            "best UAC in cluster 0: 0.6375482832441063\n",
            "best UAC in cluster 0: 0.6379978822993875\n",
            "best UAC in cluster 0: 0.6387613430576035\n",
            "best UAC in cluster 0: 0.6399692900425189\n",
            "best UAC in cluster 0: 0.6403393928598524\n",
            "best UAC in cluster 0: 0.641164372491003\n",
            "best UAC in cluster 0: 0.6412470023980816\n",
            "best UAC in cluster 0: 0.6417285978644869\n",
            "best UAC in cluster 0: 0.642249116800095\n",
            "best UAC in cluster 0: 0.6423230054195983\n",
            "best UAC in cluster 0: 0.6426630909852586\n",
            "best UAC in cluster 0: 0.6430300601334612\n",
            "best UAC in cluster 0: 0.6431611794470888\n",
            "best UAC in cluster 0: 0.6433158837441738\n",
            "best UAC in cluster 0: 0.6435251798561151\n",
            "best UAC in cluster 0: 0.6442050211275272\n",
            "best UAC in cluster 0: 0.6443315224024357\n",
            "best UAC in cluster 0: 0.6446048113366254\n",
            "best UAC in cluster 0: 0.6447896978153379\n",
            "best UAC in cluster 0: 0.6452633766439393\n",
            "best UAC in cluster 0: 0.6454652509079393\n",
            "best UAC in cluster 0: 0.645751734238469\n",
            "best UAC in cluster 0: 0.6459324974683252\n",
            "best UAC in cluster 0: 0.6463209075105802\n",
            "best UAC in cluster 0: 0.6466915051177765\n",
            "best UAC in cluster 0: 0.6469844207165217\n",
            "best UAC in cluster 0: 0.6471483610910447\n",
            "best UAC in cluster 0: 0.6472880567622932\n",
            "best UAC in cluster 0: 0.6477162149235219\n",
            "best UAC in cluster 0: 0.6479979152853783\n",
            "best UAC in cluster 0: 0.6480300766264566\n",
            "best UAC in cluster 0: 0.6481183141519797\n",
            "best UAC in cluster 0: 0.648189563892215\n",
            "best UAC in cluster 0: 0.648226013412104\n",
            "best UAC in cluster 0: 0.6482914906039406\n",
            "best UAC in cluster 0: 0.648451142799653\n",
            "best UAC in cluster 0: 0.6484587295775484\n",
            "best UAC in cluster 0: 0.6485875398718165\n",
            "best UAC in cluster 0: 0.6486089807658688\n",
            "best UAC in cluster 0: 0.648678251346653\n",
            "best UAC in cluster 0: 0.6487229473642545\n",
            "best UAC in cluster 0: 0.6487777041090649\n",
            "best UAC in cluster 0: 0.6488572003470127\n",
            "best UAC in cluster 0: 0.6489271306476139\n",
            "best UAC in cluster 0: 0.6489332330559211\n",
            "best UAC in cluster 0: 0.6489360368651433\n",
            "best UAC in cluster 0: 0.6490077813952415\n",
            "best UAC in cluster 0: 0.6490448906349473\n",
            "best UAC in cluster 0: 0.6491558884941566\n",
            "best UAC in cluster 0: 0.649176174878529\n",
            "best UAC in cluster 0: 0.6492089959394245\n",
            "best UAC in cluster 0: 0.6492373638915553\n",
            "best UAC in cluster 0: 0.649269690162588\n",
            "best UAC in cluster 0: 0.6492757925708951\n",
            "best UAC in cluster 0: 0.6492861831580128\n",
            "best UAC in cluster 0: 0.6493617210770586\n",
            "best UAC in cluster 0: 0.6493651846060978\n",
            "best UAC in cluster 0: 0.6494197764209539\n",
            "best UAC in cluster 0: 0.6494852536127906\n",
            "best UAC in cluster 0: 0.6494976233593592\n",
            "best UAC in cluster 0: 0.6494997674487645\n",
            "best UAC in cluster 1: 0.6037238713192358\n",
            "best UAC in cluster 1: 0.608584899919147\n",
            "best UAC in cluster 1: 0.6114399645290389\n",
            "best UAC in cluster 1: 0.6129926884612152\n",
            "best UAC in cluster 1: 0.6155136189363928\n",
            "best UAC in cluster 1: 0.6157700878949549\n",
            "best UAC in cluster 1: 0.6158715162966462\n",
            "best UAC in cluster 1: 0.6210608831226037\n",
            "best UAC in cluster 1: 0.6233149120036167\n",
            "best UAC in cluster 1: 0.6236110829365551\n",
            "best UAC in cluster 1: 0.6243491919054339\n",
            "best UAC in cluster 1: 0.6256309571073779\n",
            "best UAC in cluster 1: 0.6271665831089834\n",
            "best UAC in cluster 1: 0.630366214489192\n",
            "best UAC in cluster 1: 0.6318177998151105\n",
            "best UAC in cluster 1: 0.633485572534348\n",
            "best UAC in cluster 1: 0.6350327903532896\n",
            "best UAC in cluster 1: 0.6392014976627998\n",
            "best UAC in cluster 1: 0.6406072953102405\n",
            "best UAC in cluster 1: 0.6415424651738338\n",
            "best UAC in cluster 1: 0.6417951667917616\n",
            "best UAC in cluster 1: 0.6419533950984001\n",
            "best UAC in cluster 1: 0.6428349528068138\n",
            "best UAC in cluster 1: 0.6434255559000901\n",
            "best UAC in cluster 1: 0.6440010896308296\n",
            "best UAC in cluster 1: 0.6440532528088423\n",
            "best UAC in cluster 1: 0.644468819460343\n",
            "best UAC in cluster 1: 0.6453993525970019\n",
            "best UAC in cluster 1: 0.6454413729348453\n",
            "best UAC in cluster 1: 0.6462264287639355\n",
            "best UAC in cluster 1: 0.6472789657780573\n",
            "best UAC in cluster 1: 0.6479991074300651\n",
            "best UAC in cluster 1: 0.6480480828583103\n",
            "best UAC in cluster 1: 0.6484027924687963\n",
            "best UAC in cluster 1: 0.6487543143295149\n",
            "best UAC in cluster 1: 0.6489122528407197\n",
            "best UAC in cluster 1: 0.6489690527456667\n",
            "best UAC in cluster 1: 0.6491536524367449\n",
            "best UAC in cluster 1: 0.6492924644493452\n",
            "best UAC in cluster 1: 0.6498346717052432\n",
            "best UAC in cluster 1: 0.649884806315222\n",
            "best UAC in cluster 1: 0.6502227077905707\n",
            "best UAC in cluster 1: 0.6502742913777164\n",
            "best UAC in cluster 1: 0.6503241361922619\n",
            "best UAC in cluster 1: 0.6504174503218179\n",
            "best UAC in cluster 1: 0.6504614992276951\n",
            "best UAC in cluster 1: 0.650584952082325\n",
            "best UAC in cluster 1: 0.6507950537715427\n",
            "best UAC in cluster 1: 0.6508115721112466\n",
            "best UAC in cluster 1: 0.6508269312692171\n",
            "best UAC in cluster 1: 0.6508353353367858\n",
            "best UAC in cluster 1: 0.6509321270115426\n",
            "best UAC in cluster 1: 0.6509692208270182\n",
            "best UAC in cluster 1: 0.6510074738242274\n",
            "best UAC in cluster 1: 0.651090355318181\n",
            "auc!! 0.6052503443800777\n"
          ]
        }
      ]
    },
    {
      "cell_type": "markdown",
      "metadata": {
        "id": "ECjgz2OluQR_"
      },
      "source": [
        "# TEST"
      ]
    },
    {
      "cell_type": "code",
      "metadata": {
        "id": "pa_PM-s59cAS"
      },
      "source": [
        "predictions = np.zeros(len(Y_test))\n",
        "auc_clusters = {}\n",
        "f1_clusters = {}\n",
        "for clust in train_l[0].unique():\n",
        "  \n",
        "    idxs = test_l[test_l[0] == clust].index\n",
        "    xt = torch.tensor(X_test[idxs]).float().to(device)\n",
        "    yt = Y_test[idxs]\n",
        "\n",
        "    size = p[clust][1]\n",
        "    if size == \"big\":\n",
        "        model = BigModel().to(device)\n",
        "        model.load_state_dict(m[clust])\n",
        "        model.eval()\n",
        "    elif size == \"middle\":\n",
        "        model = MidModel().to(device)\n",
        "        model.load_state_dict(m[clust])\n",
        "        model.eval()\n",
        "    else: \n",
        "        model = SmallModel().to(device)\n",
        "        model.load_state_dict(m[clust])\n",
        "        model.eval()\n",
        "    preds = model(xt)\n",
        "    preds = preds.cpu().squeeze().detach().numpy()  \n",
        "    auc = roc_auc_score(yt, preds)\n",
        "    auc_clusters[clust] = auc\n",
        "\n",
        "    Yhat = np.zeros(len(yt))\n",
        "    pos_idxs = preds.argsort()[- (yt == 1).sum() : ]\n",
        "    Yhat[pos_idxs] = 1\n",
        "    f1_clusters[clust] = f1 = f1_score(yt, Yhat)\n",
        "\n",
        "    predictions[idxs] = preds\n",
        "\n",
        "pos_idxs = predictions.argsort()[- (Y_test == 1).sum() : ]\n",
        "Yhat = np.zeros(len(Y_test))\n",
        "Yhat[pos_idxs] = 1\n",
        "auc = roc_auc_score(Y_test, predictions)\n",
        "f1 = f1_score(Y_test, Yhat)\n"
      ],
      "execution_count": null,
      "outputs": []
    },
    {
      "cell_type": "code",
      "metadata": {
        "id": "ycURydkj_pLy",
        "colab": {
          "base_uri": "https://localhost:8080/"
        },
        "outputId": "efc434d9-21b0-4f0a-c662-056e90ff4dbc"
      },
      "source": [
        "p"
      ],
      "execution_count": null,
      "outputs": [
        {
          "output_type": "execute_result",
          "data": {
            "text/plain": [
              "{0: [5.1e-07, 'big', 599],\n",
              " 1: [5.1e-06, 'big', 158],\n",
              " 2: [5.1e-07, 'small', 315]}"
            ]
          },
          "metadata": {},
          "execution_count": 20
        }
      ]
    },
    {
      "cell_type": "code",
      "metadata": {
        "colab": {
          "base_uri": "https://localhost:8080/"
        },
        "id": "5iRRkZYFr3NL",
        "outputId": "294367e3-f195-4816-8848-6038af44373d"
      },
      "source": [
        "auc"
      ],
      "execution_count": null,
      "outputs": [
        {
          "output_type": "execute_result",
          "data": {
            "text/plain": [
              "0.6110609428855193"
            ]
          },
          "metadata": {},
          "execution_count": 21
        }
      ]
    },
    {
      "cell_type": "code",
      "metadata": {
        "id": "mYcbtvs8Z994",
        "colab": {
          "base_uri": "https://localhost:8080/"
        },
        "outputId": "05c7332b-b33c-4c6a-e979-ae23e52bfc7a"
      },
      "source": [
        "f1"
      ],
      "execution_count": null,
      "outputs": [
        {
          "output_type": "execute_result",
          "data": {
            "text/plain": [
              "0.3696612665684831"
            ]
          },
          "metadata": {},
          "execution_count": 22
        }
      ]
    },
    {
      "cell_type": "code",
      "metadata": {
        "colab": {
          "base_uri": "https://localhost:8080/"
        },
        "id": "q_ZknLKRti6z",
        "outputId": "70e48604-4116-4849-eb6a-5402da8b02ff"
      },
      "source": [
        "auc_clusters"
      ],
      "execution_count": null,
      "outputs": [
        {
          "output_type": "execute_result",
          "data": {
            "text/plain": [
              "{0: 0.667628706382697, 1: 0.6883599070798797}"
            ]
          },
          "metadata": {},
          "execution_count": 37
        }
      ]
    },
    {
      "cell_type": "code",
      "metadata": {
        "colab": {
          "base_uri": "https://localhost:8080/"
        },
        "id": "QefQGbvqtlh4",
        "outputId": "ffd27bb3-b62a-491d-d235-1bf251bb0608"
      },
      "source": [
        "f1_clusters"
      ],
      "execution_count": null,
      "outputs": [
        {
          "output_type": "execute_result",
          "data": {
            "text/plain": [
              "{0: 0.2211981566820277, 1: 0.23870967741935487}"
            ]
          },
          "metadata": {},
          "execution_count": 38
        }
      ]
    },
    {
      "cell_type": "markdown",
      "metadata": {
        "id": "rLOJWmp29k9R"
      },
      "source": [
        "Beste: 3 clusters, middel, small. big. Allemaal 5.1e-06."
      ]
    },
    {
      "cell_type": "code",
      "metadata": {
        "colab": {
          "base_uri": "https://localhost:8080/",
          "height": 195
        },
        "id": "CzBj5jMjO9p7",
        "outputId": "8a697cd3-5479-42d9-b760-1d0fd24cd532"
      },
      "source": [
        "plt.plot(out1[-3], alpha = 0.5)\n",
        "plt.hlines(np.mean(out1[-3]), 0, n_epochs, color = \"r\")\n",
        "plt.plot(out1[-1], alpha = 0.5, color = \"green\")"
      ],
      "execution_count": null,
      "outputs": [
        {
          "output_type": "error",
          "ename": "NameError",
          "evalue": "ignored",
          "traceback": [
            "\u001b[0;31m---------------------------------------------------------------------------\u001b[0m",
            "\u001b[0;31mNameError\u001b[0m                                 Traceback (most recent call last)",
            "\u001b[0;32m<ipython-input-24-ec4b4f78ba08>\u001b[0m in \u001b[0;36m<module>\u001b[0;34m()\u001b[0m\n\u001b[0;32m----> 1\u001b[0;31m \u001b[0mplt\u001b[0m\u001b[0;34m.\u001b[0m\u001b[0mplot\u001b[0m\u001b[0;34m(\u001b[0m\u001b[0mout1\u001b[0m\u001b[0;34m[\u001b[0m\u001b[0;34m-\u001b[0m\u001b[0;36m3\u001b[0m\u001b[0;34m]\u001b[0m\u001b[0;34m,\u001b[0m \u001b[0malpha\u001b[0m \u001b[0;34m=\u001b[0m \u001b[0;36m0.5\u001b[0m\u001b[0;34m)\u001b[0m\u001b[0;34m\u001b[0m\u001b[0;34m\u001b[0m\u001b[0m\n\u001b[0m\u001b[1;32m      2\u001b[0m \u001b[0mplt\u001b[0m\u001b[0;34m.\u001b[0m\u001b[0mhlines\u001b[0m\u001b[0;34m(\u001b[0m\u001b[0mnp\u001b[0m\u001b[0;34m.\u001b[0m\u001b[0mmean\u001b[0m\u001b[0;34m(\u001b[0m\u001b[0mout1\u001b[0m\u001b[0;34m[\u001b[0m\u001b[0;34m-\u001b[0m\u001b[0;36m3\u001b[0m\u001b[0;34m]\u001b[0m\u001b[0;34m)\u001b[0m\u001b[0;34m,\u001b[0m \u001b[0;36m0\u001b[0m\u001b[0;34m,\u001b[0m \u001b[0mn_epochs\u001b[0m\u001b[0;34m,\u001b[0m \u001b[0mcolor\u001b[0m \u001b[0;34m=\u001b[0m \u001b[0;34m\"r\"\u001b[0m\u001b[0;34m)\u001b[0m\u001b[0;34m\u001b[0m\u001b[0;34m\u001b[0m\u001b[0m\n\u001b[1;32m      3\u001b[0m \u001b[0mplt\u001b[0m\u001b[0;34m.\u001b[0m\u001b[0mplot\u001b[0m\u001b[0;34m(\u001b[0m\u001b[0mout1\u001b[0m\u001b[0;34m[\u001b[0m\u001b[0;34m-\u001b[0m\u001b[0;36m1\u001b[0m\u001b[0;34m]\u001b[0m\u001b[0;34m,\u001b[0m \u001b[0malpha\u001b[0m \u001b[0;34m=\u001b[0m \u001b[0;36m0.5\u001b[0m\u001b[0;34m,\u001b[0m \u001b[0mcolor\u001b[0m \u001b[0;34m=\u001b[0m \u001b[0;34m\"green\"\u001b[0m\u001b[0;34m)\u001b[0m\u001b[0;34m\u001b[0m\u001b[0;34m\u001b[0m\u001b[0m\n",
            "\u001b[0;31mNameError\u001b[0m: name 'out1' is not defined"
          ]
        }
      ]
    },
    {
      "cell_type": "markdown",
      "metadata": {
        "id": "vopezI1GoZO7"
      },
      "source": [
        "top auc seen = 0.709 "
      ]
    },
    {
      "cell_type": "code",
      "metadata": {
        "id": "1NcsznCAuxEW"
      },
      "source": [
        "print(np.max(out1[-4]))\n",
        "plt.plot(out1[-4], alpha = 0.5)\n",
        "plt.hlines(np.mean(out1[-4]), 0, n_epochs, color = \"r\")"
      ],
      "execution_count": null,
      "outputs": []
    },
    {
      "cell_type": "code",
      "metadata": {
        "id": "w7jlZS3VtVD2"
      },
      "source": [
        "print(np.max(out1[-2]))\n",
        "plt.plot(out1[-2], alpha = 0.5)\n",
        "plt.hlines(np.mean(out1[-2]), 0, n_epochs, color = \"r\")"
      ],
      "execution_count": null,
      "outputs": []
    },
    {
      "cell_type": "code",
      "metadata": {
        "id": "vP-a9TU2uK5G"
      },
      "source": [
        "loss = nn.BCEWithLogitsLoss()(b,y.unsqueeze(1))"
      ],
      "execution_count": null,
      "outputs": []
    },
    {
      "cell_type": "code",
      "metadata": {
        "id": "eeO6RA7QZfSJ"
      },
      "source": [
        " # best auc: 0.675, f1: 0.476, lr: 0.00000051, epochs: 10000\n",
        "class Model(nn.Module):\n",
        "    def __init__(self,  drop_rate = 0.2):\n",
        "        super(Model, self).__init__()\n",
        "        self.net = nn.Sequential(\n",
        "            nn.Linear(39,100),\n",
        "            nn.Dropout(0.3),\n",
        "            nn.ReLU(),\n",
        "            nn.Linear(100,250),\n",
        "            nn.Dropout(0.3),\n",
        "            nn.ReLU(),\n",
        "            nn.Linear(250,100),\n",
        "            nn.ReLU(),\n",
        "            nn.Linear(100,1)\n",
        "             )\n",
        "\n",
        "        self.final = nn.Sigmoid()\n",
        "\n",
        "    def forward(self, x):\n",
        "        Y_1 = x[:,-1].reshape(-1,1) # take yt-1 of neighbors\n",
        "        x = x[:,:-1]\n",
        "        out = self.net(x) # get p\n",
        "        \n",
        "        out *= Y_1 # multiply with yt-1\n",
        "\n",
        "        return out, Y_1\n",
        "       "
      ],
      "execution_count": null,
      "outputs": []
    },
    {
      "cell_type": "code",
      "metadata": {
        "id": "bKlj4Gywf4Nx"
      },
      "source": [
        "x = x.detach().numpy()\n",
        "xv = X_val.detach().numpy()"
      ],
      "execution_count": null,
      "outputs": []
    },
    {
      "cell_type": "code",
      "metadata": {
        "id": "wMFOQ7XngN4h"
      },
      "source": [
        "for i in range(x.shape[1] - 1):\n",
        "  plt.hist(x[:,i], bins = 20, range = (-1,2), alpha = 0.5)\n",
        "  plt.hist(xv[:,i], bins = 20, range = (-1,2), alpha = 0.5)\n",
        "  plt.show()"
      ],
      "execution_count": null,
      "outputs": []
    },
    {
      "cell_type": "code",
      "metadata": {
        "id": "fXxtFNVguX1p"
      },
      "source": [
        "loss.backward()"
      ],
      "execution_count": null,
      "outputs": []
    },
    {
      "cell_type": "code",
      "metadata": {
        "id": "Eh4cvbsWklwU"
      },
      "source": [
        "Oke, onderutssen even het een en ander typen"
      ],
      "execution_count": null,
      "outputs": []
    },
    {
      "cell_type": "code",
      "metadata": {
        "id": "CSOAXT4-kn4k"
      },
      "source": [
        "\"giab we alaaaaf!\""
      ],
      "execution_count": null,
      "outputs": []
    },
    {
      "cell_type": "code",
      "metadata": {
        "id": "e4vYzXu0pZdr"
      },
      "source": [
        ""
      ],
      "execution_count": null,
      "outputs": []
    }
  ]
}