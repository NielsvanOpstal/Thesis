{
 "cells": [
  {
   "cell_type": "code",
   "execution_count": 24,
   "id": "29739892",
   "metadata": {},
   "outputs": [
    {
     "name": "stdout",
     "output_type": "stream",
     "text": [
      "Device: cuda:0\n"
     ]
    }
   ],
   "source": [
    "import torch\n",
    "device = torch.device(\"cuda:0\" if torch.cuda.is_available() else \"cpu\")\n",
    "print(\"Device: {}\".format(device))\n",
    "device = \"cpu\""
   ]
  },
  {
   "cell_type": "code",
   "execution_count": 2,
   "id": "d1ec31a0",
   "metadata": {},
   "outputs": [],
   "source": [
    "import numpy as np\n",
    "import os\n",
    "from get_data import get_data\n",
    "from imblearn.over_sampling import SMOTE \n",
    "from imblearn.combine import SMOTEENN\n",
    "from imblearn.under_sampling import RandomUnderSampler\n",
    "from imblearn.pipeline import Pipeline\n",
    "from imblearn.tensorflow import balanced_batch_generator\n",
    "from numpy.random import default_rng\n",
    "rng = default_rng(seed = 31)\n",
    "import pickle\n",
    "import pandas as pd\n",
    "from sklearn.ensemble import RandomForestClassifier\n",
    "from sklearn.model_selection import  GridSearchCV\n",
    "import geopandas as gpd\n",
    "import shapely\n",
    "from sklearn.metrics import recall_score, precision_score, accuracy_score, f1_score, roc_auc_score\n",
    "import libpysal\n",
    "from copy import deepcopy\n",
    "import matplotlib.pyplot as plt"
   ]
  },
  {
   "cell_type": "code",
   "execution_count": 3,
   "id": "ce305bd2",
   "metadata": {},
   "outputs": [],
   "source": [
    "from torch import nn, optim\n",
    "import scipy.ndimage as ndimage"
   ]
  },
  {
   "cell_type": "code",
   "execution_count": 4,
   "id": "fa3bf2c4",
   "metadata": {},
   "outputs": [],
   "source": [
    "# X, Y, ID = get_data(\"../Data/filled/grids/\", [2015,2016,2017,2018,2019])"
   ]
  },
  {
   "cell_type": "code",
   "execution_count": 5,
   "id": "6d24f8bc",
   "metadata": {},
   "outputs": [],
   "source": [
    "from sklearn.preprocessing import StandardScaler\n",
    "ss = StandardScaler()"
   ]
  },
  {
   "cell_type": "code",
   "execution_count": 6,
   "id": "071d3985",
   "metadata": {},
   "outputs": [],
   "source": [
    "def load_data(year):\n",
    "    os.getcwd()\n",
    "    \n",
    "    df = pd.DataFrame()\n",
    "    path = \"../Data/filled/\" + str(year) + \"/\"\n",
    "    for filename in os.listdir(path):\n",
    "        df1 = pd.read_csv(path + filename)\n",
    "        print(filename)\n",
    "        if df1.geometry.isna().any():\n",
    "            print(filename)\n",
    "        df = pd.concat([df, df1])\n",
    "    df = gpd.GeoDataFrame(df)\n",
    "    df.geometry = df.geometry.apply(shapely.wkt.loads)\n",
    "    \n",
    "    df = df.reset_index()\n",
    "    df = df.drop([\"Unnamed: 0\", \"index\"], axis = 1)\n",
    "    return df"
   ]
  },
  {
   "cell_type": "code",
   "execution_count": 7,
   "id": "0547777f",
   "metadata": {},
   "outputs": [
    {
     "name": "stdout",
     "output_type": "stream",
     "text": [
      "'s-Gravenhage17.csv_filled_.csv\n",
      "'s-Gravenhage18.csv_filled_.csv\n",
      "'s-Gravenhage19.csv_filled_.csv\n"
     ]
    }
   ],
   "source": [
    "# df15 = load_data(2015)\n",
    "# df16 = load_data(2016)\n",
    "df17 = load_data(2017)\n",
    "df18 = load_data(2018)\n",
    "df19 = load_data(2019)"
   ]
  },
  {
   "cell_type": "code",
   "execution_count": 8,
   "id": "adc68eeb",
   "metadata": {},
   "outputs": [],
   "source": [
    "X_train = df17[df17.columns[:-4]]\n",
    "Y_train = df17.y\n",
    "Y1_train = df17[\"y-1\"]\n",
    "# print(X_train)\n",
    "# X_train = ss.fit_transform(X_train)\n",
    "\n",
    "X_val = df18[df18.columns[:-4]]\n",
    "Y_val = df18.y\n",
    "Y1_val = df18[\"y-1\"]\n",
    "\n",
    "wt = libpysal.weights.DistanceBand.from_dataframe(df17, threshold=150, binary = True, silence_warnings = True)\n",
    "wv =libpysal.weights.DistanceBand.from_dataframe(df18, threshold=150, binary = True, silence_warnings = True)\n",
    "\n",
    "X_test = df19[df19.columns[:-4]]\n",
    "Y_test = df19.y\n",
    "Y1_test = df19[\"y-1\"]\n",
    "\n",
    "wtest = libpysal.weights.DistanceBand.from_dataframe(df19, threshold=150, binary = True, silence_warnings = True)"
   ]
  },
  {
   "cell_type": "code",
   "execution_count": 9,
   "id": "ac95daf6",
   "metadata": {},
   "outputs": [],
   "source": [
    "neighbors = [wt.neighbors[x] for x in wt.neighbors]\n",
    "Y1_train = np.array([Y1_train[x].sum() for x in neighbors])\n",
    "Y1_train[np.where(Y1_train == 0)[0]] = 0.5\n",
    "\n",
    "neighbors = [wv.neighbors[x] for x in wv.neighbors]\n",
    "Y1_val = np.array([Y1_val[x].sum() for x in neighbors])\n",
    "Y1_val[np.where(Y1_val == 0)[0]] = 0.5\n",
    "\n",
    "neighbors = [wtest.neighbors[x] for x in wtest.neighbors]\n",
    "Y1_test = np.array([Y1_test[x].sum() for x in neighbors])\n",
    "Y1_test[np.where(Y1_test == 0)[0]] = 0.5\n"
   ]
  },
  {
   "cell_type": "code",
   "execution_count": 10,
   "id": "6f4c43c6",
   "metadata": {},
   "outputs": [],
   "source": [
    "X_train = ss.fit_transform(X_train)\n",
    "X_train[:,-1] = Y1_train\n",
    "X_val = ss.transform(X_val)\n",
    "X_val[:,-1] = Y1_val\n",
    "X_test = ss.transform(X_test)\n",
    "X_test[:,-1] = Y1_test\n"
   ]
  },
  {
   "cell_type": "code",
   "execution_count": 11,
   "id": "66b25ca2",
   "metadata": {},
   "outputs": [],
   "source": [
    "oversample = SMOTE()\n",
    "x, y =  oversample.fit_resample(X_train, Y_train)"
   ]
  },
  {
   "cell_type": "code",
   "execution_count": 12,
   "id": "0362c392",
   "metadata": {},
   "outputs": [],
   "source": [
    "x[x[:,-1]>0.5][:,-1] =  np.ceil(x[x[:,-1] > 0.5][:,-1]) # 0.5 means no neighbors, otherwise make int\n",
    "\n",
    "\n",
    "x = torch.tensor(x).float().to(device)\n",
    "y = torch.tensor(y).float().to(device)\n",
    "X_val = torch.tensor(X_val).float().to(device)\n",
    "Y_val = torch.tensor(Y_val).float().to(device)"
   ]
  },
  {
   "cell_type": "code",
   "execution_count": 13,
   "id": "6872ddc7",
   "metadata": {},
   "outputs": [],
   "source": [
    "X_test = torch.tensor(X_test).float().to(device)\n",
    "Y_test = torch.tensor(Y_test).float().to(device)"
   ]
  },
  {
   "cell_type": "code",
   "execution_count": 14,
   "id": "f2ab3eab",
   "metadata": {},
   "outputs": [],
   "source": [
    "rng = default_rng()\n",
    "def get_batch(X, Y, batch_size = 32):\n",
    "    idxs = rng.integers(len(X), size = batch_size)\n",
    "    return X[idxs], Y[idxs]\n",
    "\n"
   ]
  },
  {
   "cell_type": "code",
   "execution_count": null,
   "id": "d577aff7",
   "metadata": {},
   "outputs": [],
   "source": []
  },
  {
   "cell_type": "code",
   "execution_count": 15,
   "id": "225c26e2",
   "metadata": {},
   "outputs": [],
   "source": [
    " # best auc: 0.675, f1: 0.476, lr: 0.00000051, epochs: 10000\n",
    "class Model(nn.Module):\n",
    "    def __init__(self,  drop_rate = 0.2):\n",
    "        super(Model, self).__init__()\n",
    "        self.net = nn.Sequential(\n",
    "            nn.Linear(39,100),\n",
    "            nn.Dropout(0.3),\n",
    "            nn.ReLU(),\n",
    "            nn.Linear(100,250),\n",
    "            nn.Dropout(0.3),\n",
    "            nn.ReLU(),\n",
    "            nn.Linear(250,100),\n",
    "            nn.ReLU(),\n",
    "            nn.Linear(100,1)\n",
    "             )\n",
    "\n",
    "        self.final = nn.Sigmoid()\n",
    "\n",
    "    def forward(self, x):\n",
    "        Y_1 = x[:,-1].reshape(-1,1) # take yt-1 of neighbors\n",
    "        x = x[:,:-1]\n",
    "        out = self.net(x) # get p\n",
    "        \n",
    "        out *= Y_1 # multiply with yt-1\n",
    "\n",
    "        return out\n",
    "       "
   ]
  },
  {
   "cell_type": "code",
   "execution_count": 16,
   "id": "edb35e29",
   "metadata": {},
   "outputs": [],
   "source": [
    "class Model1(nn.Module):\n",
    "    def __init__(self,  drop_rate = 0.2):\n",
    "        super(Model1, self).__init__()\n",
    "        self.net = nn.Sequential(\n",
    "            nn.Linear(39,100),\n",
    "            nn.Dropout(0.4),\n",
    "            nn.ReLU(),\n",
    "            nn.Linear(100,50),\n",
    "            nn.Dropout(0.4),\n",
    "            nn.ReLU(),\n",
    "            nn.Linear(50,1)\n",
    "             )\n",
    "\n",
    "        self.final = nn.Sigmoid()\n",
    "\n",
    "    def forward(self, x):\n",
    "        Y_1 = x[:,-1].reshape(-1,1) # take yt-1 of neighbors\n",
    "        x = x[:,:-1]\n",
    "        out = self.net(x) # get p\n",
    "        \n",
    "        out *= Y_1 # multiply with yt-1\n",
    "\n",
    "        return out\n",
    "       "
   ]
  },
  {
   "cell_type": "code",
   "execution_count": 17,
   "id": "1d2ca102",
   "metadata": {},
   "outputs": [],
   "source": [
    " # best auc: 0.675, f1: 0.476, lr: 0.00000051, epochs: 10000\n",
    "class Model2(nn.Module):\n",
    "    def __init__(self,  drop_rate = 0.2):\n",
    "        super(Model2, self).__init__()\n",
    "        self.net = nn.Sequential(\n",
    "            nn.Linear(39,150),\n",
    "            nn.Dropout(0.3),\n",
    "            nn.ReLU(),\n",
    "            nn.Linear(150,500),\n",
    "            nn.Dropout(0.3),\n",
    "            nn.ReLU(),\n",
    "            nn.Linear(500,100),\n",
    "            nn.ReLU(),\n",
    "            nn.Linear(100,1)\n",
    "             )\n",
    "\n",
    "        self.final = nn.Sigmoid()\n",
    "\n",
    "    def forward(self, x):\n",
    "        Y_1 = x[:,-1].reshape(-1,1) # take yt-1 of neighbors\n",
    "        x = x[:,:-1]\n",
    "        out = self.net(x) # get p\n",
    "        \n",
    "        out *= Y_1 # multiply with yt-1\n",
    "\n",
    "        return out\n",
    "       "
   ]
  },
  {
   "cell_type": "code",
   "execution_count": 18,
   "id": "ff998a41",
   "metadata": {},
   "outputs": [],
   "source": [
    " # best auc: 0.675, f1: 0.476, lr: 0.00000051, epochs: 10000\n",
    "class Model3(nn.Module):\n",
    "    def __init__(self,  drop_rate = 0.2):\n",
    "        super(Model3, self).__init__()\n",
    "        self.net = nn.Sequential(\n",
    "            nn.Linear(39,100),\n",
    "            nn.Dropout(0.3),\n",
    "            nn.ReLU(),\n",
    "            nn.Linear(100,1)\n",
    "             )\n",
    "\n",
    "        self.final = nn.Sigmoid()\n",
    "\n",
    "    def forward(self, x):\n",
    "        Y_1 = x[:,-1].reshape(-1,1) # take yt-1 of neighbors\n",
    "        x = x[:,:-1]\n",
    "        out = self.net(x) # get p\n",
    "        \n",
    "        out *= Y_1 # multiply with yt-1\n",
    "\n",
    "        return out\n",
    "       "
   ]
  },
  {
   "cell_type": "code",
   "execution_count": 19,
   "id": "746a8dae",
   "metadata": {},
   "outputs": [],
   "source": [
    " # best auc: 0.675, f1: 0.476, lr: 0.00000051, epochs: 10000\n",
    "class Model4(nn.Module):\n",
    "    def __init__(self,  drop_rate = 0.2):\n",
    "        super(Model4, self).__init__()\n",
    "        self.net = nn.Sequential(\n",
    "            nn.Linear(39,40),\n",
    "            nn.Dropout(0.3),\n",
    "            nn.ReLU(),\n",
    "            nn.Linear(40,80),\n",
    "            nn.Dropout(0.3),\n",
    "            nn.ReLU(),\n",
    "            nn.Linear(80,1)\n",
    "             )\n",
    "\n",
    "        self.final = nn.Sigmoid()\n",
    "\n",
    "    def forward(self, x):\n",
    "        Y_1 = x[:,-1].reshape(-1,1) # take yt-1 of neighbors\n",
    "        x = x[:,:-1]\n",
    "        out = self.net(x) # get p\n",
    "        \n",
    "        out *= Y_1 # multiply with yt-1\n",
    "\n",
    "        return out\n",
    "       "
   ]
  },
  {
   "cell_type": "code",
   "execution_count": 20,
   "id": "087b2a00",
   "metadata": {},
   "outputs": [],
   "source": [
    "model = Model().to(device)\n",
    "model1 = Model1().to(device)\n",
    "model2 = Model2().to(device)\n",
    "model3 = Model3().to(device)\n",
    "model4 = Model4().to(device)\n",
    "\n",
    "models = [model, model1, model2, model3, model4]\n",
    "# models = [model]"
   ]
  },
  {
   "cell_type": "code",
   "execution_count": 21,
   "id": "6219a26b",
   "metadata": {},
   "outputs": [],
   "source": [
    "def train(models, X_train, Y_train, Y1_train, X_val, Y_val, Y1_val, num_epochs, lr, batch_per_e = 100 ):\n",
    "\n",
    "    best_auc, best_f1, best_model, best_epoch, best_lr = 0,0,0,0,0\n",
    "    \n",
    "    for i, model in enumerate(models):\n",
    "        for lr in [0.0000051, 0.00000051]:\n",
    "#         for lr in [0.0000051]:\n",
    "            optimizer = optim.Adam(model.parameters(), lr=lr) \n",
    "            SigBCEloss = nn.BCEWithLogitsLoss()\n",
    "            ROC_history = []\n",
    "\n",
    "            for epoch in range(num_epochs):\n",
    "                epoch_loss = []\n",
    "#                 print(\"epoch: {} of {}\".format(epoch, num_epochs))\n",
    "                for batch in range(batch_per_e):\n",
    "\n",
    "                    x, y = get_batch(X_train, Y_train, 6)\n",
    "\n",
    "                    model.train()\n",
    "\n",
    "                    optimizer.zero_grad()\n",
    "                    out = model(x).squeeze()\n",
    "\n",
    "\n",
    "                    loss = SigBCEloss(out, y)\n",
    "                    loss.backward()\n",
    "                    optimizer.step()\n",
    "\n",
    "\n",
    "                    epoch_loss.append(loss.detach().numpy())\n",
    "\n",
    "                model.eval()\n",
    "\n",
    "                out = model(X_val)\n",
    "                ROC = roc_auc_score(Y_val, model.final(out).detach().numpy())\n",
    "                out = out.squeeze().detach().numpy()\n",
    "\n",
    "                preds = np.zeros(len(out))\n",
    "                pos = out.argsort()[-((Y_val == 1).sum()):]\n",
    "                preds[pos] = 1\n",
    "                \n",
    "                f1 = f1_score(Y_val, preds)\n",
    "\n",
    "                ROC_history.append(ROC)\n",
    "\n",
    "                if ROC > best_auc:\n",
    "                    print(\"model: {}, ROC:{}, f1: {}, lr: {}, epoch = {}\".format(i, ROC, f1, lr, epoch))\n",
    "                    best_auc = ROC\n",
    "                    best_f1 = f1\n",
    "                    best_model = deepcopy(model.state_dict())\n",
    "                    best_epoch = epoch\n",
    "                    best_lr = lr\n",
    "\n",
    "                train_loss = []\n",
    "                          \n",
    "            print(np.max(ROC_history), np.argmax(ROC_history), lr)\n",
    "            plt.plot(ROC_history, alpha = 0.5)\n",
    "            plt.hlines(np.mean(ROC_history), 0, n_epochs, color = \"r\") \n",
    "            linear_model=np.polyfit(range(n_epochs), ROC_history, 2)\n",
    "            linear_model_fn=np.poly1d(linear_model)\n",
    "            x_s=np.arange(0,n_epochs)\n",
    "            plt.plot(linear_model_fn(x_s))  \n",
    "            plt.show()\n",
    "                          \n",
    "    result = np.argmax(ROC_history)\n",
    "    return best_auc, best_f1, best_model, best_epoch"
   ]
  },
  {
   "cell_type": "code",
   "execution_count": null,
   "id": "8bf14090",
   "metadata": {},
   "outputs": [
    {
     "name": "stdout",
     "output_type": "stream",
     "text": [
      "model: 0, ROC:0.6498673354958493, f1: 0.2903225806451613, lr: 5.1e-06, epoch = 0\n",
      "model: 0, ROC:0.653634587175726, f1: 0.29404466501240695, lr: 5.1e-06, epoch = 1\n",
      "model: 0, ROC:0.6555859639846106, f1: 0.2977667493796526, lr: 5.1e-06, epoch = 2\n",
      "model: 0, ROC:0.6577242143452047, f1: 0.29962779156327546, lr: 5.1e-06, epoch = 3\n",
      "model: 0, ROC:0.6590631439030581, f1: 0.3033498759305211, lr: 5.1e-06, epoch = 4\n",
      "model: 0, ROC:0.6607969979123768, f1: 0.304590570719603, lr: 5.1e-06, epoch = 5\n",
      "model: 0, ROC:0.6618552035225871, f1: 0.3076923076923077, lr: 5.1e-06, epoch = 6\n",
      "model: 0, ROC:0.6634703485692219, f1: 0.31327543424317617, lr: 5.1e-06, epoch = 7\n",
      "model: 0, ROC:0.6647861154026493, f1: 0.31575682382133996, lr: 5.1e-06, epoch = 8\n",
      "model: 0, ROC:0.6656686152032844, f1: 0.31575682382133996, lr: 5.1e-06, epoch = 9\n",
      "model: 0, ROC:0.6665272904873669, f1: 0.3163771712158809, lr: 5.1e-06, epoch = 10\n",
      "model: 0, ROC:0.6671284045482326, f1: 0.315136476426799, lr: 5.1e-06, epoch = 11\n",
      "model: 0, ROC:0.667703005562032, f1: 0.31451612903225806, lr: 5.1e-06, epoch = 12\n",
      "model: 0, ROC:0.6684415242131541, f1: 0.31699751861042186, lr: 5.1e-06, epoch = 13\n",
      "model: 0, ROC:0.6691399630786173, f1: 0.3188585607940447, lr: 5.1e-06, epoch = 14\n",
      "model: 0, ROC:0.6697859549180586, f1: 0.3188585607940447, lr: 5.1e-06, epoch = 15\n",
      "model: 0, ROC:0.670669199234836, f1: 0.3219602977667494, lr: 5.1e-06, epoch = 16\n",
      "model: 0, ROC:0.6715344097161673, f1: 0.3225806451612903, lr: 5.1e-06, epoch = 17\n",
      "model: 0, ROC:0.6719611829137184, f1: 0.3219602977667494, lr: 5.1e-06, epoch = 18\n",
      "model: 0, ROC:0.671974749652311, f1: 0.3213399503722084, lr: 5.1e-06, epoch = 19\n",
      "model: 0, ROC:0.6726176807031674, f1: 0.3219602977667494, lr: 5.1e-06, epoch = 20\n",
      "model: 0, ROC:0.6730878840090176, f1: 0.3219602977667494, lr: 5.1e-06, epoch = 21\n",
      "model: 0, ROC:0.6736739009369983, f1: 0.3225806451612903, lr: 5.1e-06, epoch = 22\n",
      "model: 0, ROC:0.674192084172017, f1: 0.32444168734491313, lr: 5.1e-06, epoch = 23\n",
      "model: 0, ROC:0.6742851073277926, f1: 0.3250620347394541, lr: 5.1e-06, epoch = 24\n",
      "model: 0, ROC:0.6745058150019672, f1: 0.3250620347394541, lr: 5.1e-06, epoch = 25\n",
      "model: 0, ROC:0.6754829097146783, f1: 0.326302729528536, lr: 5.1e-06, epoch = 26\n",
      "model: 0, ROC:0.6760117229857282, f1: 0.32568238213399503, lr: 5.1e-06, epoch = 27\n",
      "model: 0, ROC:0.676495823926234, f1: 0.326302729528536, lr: 5.1e-06, epoch = 28\n",
      "model: 0, ROC:0.6767580176943362, f1: 0.32568238213399503, lr: 5.1e-06, epoch = 29\n",
      "model: 0, ROC:0.6767829176230942, f1: 0.3250620347394541, lr: 5.1e-06, epoch = 30\n",
      "model: 0, ROC:0.6771716377733739, f1: 0.32444168734491313, lr: 5.1e-06, epoch = 32\n",
      "model: 0, ROC:0.6776359676741018, f1: 0.326302729528536, lr: 5.1e-06, epoch = 33\n",
      "model: 0, ROC:0.678294823098001, f1: 0.326302729528536, lr: 5.1e-06, epoch = 34\n",
      "model: 0, ROC:0.6785621871170914, f1: 0.32754342431761785, lr: 5.1e-06, epoch = 35\n",
      "model: 0, ROC:0.6787533209556147, f1: 0.32754342431761785, lr: 5.1e-06, epoch = 36\n",
      "model: 0, ROC:0.6789415594535848, f1: 0.32754342431761785, lr: 5.1e-06, epoch = 37\n",
      "model: 0, ROC:0.6795747704325839, f1: 0.3269230769230769, lr: 5.1e-06, epoch = 38\n",
      "model: 0, ROC:0.6798545844160528, f1: 0.3281637717121588, lr: 5.1e-06, epoch = 39\n",
      "model: 0, ROC:0.6800666060685676, f1: 0.3294044665012407, lr: 5.1e-06, epoch = 40\n",
      "model: 0, ROC:0.680552237403366, f1: 0.33002481389578164, lr: 5.1e-06, epoch = 41\n",
      "model: 0, ROC:0.6809298311735196, f1: 0.33064516129032256, lr: 5.1e-06, epoch = 42\n",
      "model: 0, ROC:0.6810979677356485, f1: 0.33064516129032256, lr: 5.1e-06, epoch = 43\n",
      "model: 0, ROC:0.6812291266627114, f1: 0.33188585607940446, lr: 5.1e-06, epoch = 44\n",
      "model: 0, ROC:0.681522507384773, f1: 0.33188585607940446, lr: 5.1e-06, epoch = 45\n",
      "model: 0, ROC:0.6815919128340354, f1: 0.33126550868486354, lr: 5.1e-06, epoch = 46\n",
      "model: 0, ROC:0.6816797243768152, f1: 0.3325062034739454, lr: 5.1e-06, epoch = 48\n",
      "model: 0, ROC:0.6819944065329472, f1: 0.3325062034739454, lr: 5.1e-06, epoch = 49\n",
      "model: 0, ROC:0.6822548217347093, f1: 0.3325062034739454, lr: 5.1e-06, epoch = 50\n",
      "model: 0, ROC:0.6823854015936617, f1: 0.33312655086848636, lr: 5.1e-06, epoch = 51\n",
      "model: 0, ROC:0.6826807263300946, f1: 0.3325062034739454, lr: 5.1e-06, epoch = 52\n",
      "model: 0, ROC:0.682962567051951, f1: 0.33126550868486354, lr: 5.1e-06, epoch = 53\n",
      "model: 0, ROC:0.683211111357445, f1: 0.3337468982630273, lr: 5.1e-06, epoch = 56\n",
      "model: 0, ROC:0.6832371694224243, f1: 0.3349875930521092, lr: 5.1e-06, epoch = 58\n",
      "model: 0, ROC:0.6833844181705617, f1: 0.3349875930521092, lr: 5.1e-06, epoch = 59\n",
      "model: 0, ROC:0.683634906490427, f1: 0.3349875930521092, lr: 5.1e-06, epoch = 60\n",
      "model: 0, ROC:0.6837141560975708, f1: 0.3337468982630273, lr: 5.1e-06, epoch = 61\n",
      "model: 0, ROC:0.6837965492173148, f1: 0.33436724565756826, lr: 5.1e-06, epoch = 62\n",
      "model: 0, ROC:0.6839876003318226, f1: 0.3356079404466501, lr: 5.1e-06, epoch = 63\n",
      "model: 0, ROC:0.6841025453517872, f1: 0.33436724565756826, lr: 5.1e-06, epoch = 64\n",
      "model: 0, ROC:0.6841402261409875, f1: 0.3349875930521092, lr: 5.1e-06, epoch = 65\n",
      "model: 0, ROC:0.6843237493700566, f1: 0.3356079404466501, lr: 5.1e-06, epoch = 66\n",
      "model: 0, ROC:0.6843626710194941, f1: 0.3356079404466501, lr: 5.1e-06, epoch = 69\n",
      "model: 0, ROC:0.6844470908776257, f1: 0.3362282878411911, lr: 5.1e-06, epoch = 70\n",
      "model: 0, ROC:0.6844733143906367, f1: 0.336848635235732, lr: 5.1e-06, epoch = 71\n",
      "model: 0, ROC:0.6845674956826336, f1: 0.337468982630273, lr: 5.1e-06, epoch = 72\n",
      "model: 0, ROC:0.6847110218500597, f1: 0.3380893300248139, lr: 5.1e-06, epoch = 74\n",
      "model: 0, ROC:0.6849345007787638, f1: 0.3387096774193548, lr: 5.1e-06, epoch = 75\n",
      "model: 0, ROC:0.6850686791324038, f1: 0.3399503722084367, lr: 5.1e-06, epoch = 76\n",
      "model: 0, ROC:0.6852246139022011, f1: 0.3399503722084367, lr: 5.1e-06, epoch = 77\n",
      "model: 0, ROC:0.685307586090056, f1: 0.3393300248138958, lr: 5.1e-06, epoch = 78\n",
      "model: 0, ROC:0.6853870425072393, f1: 0.3399503722084367, lr: 5.1e-06, epoch = 80\n",
      "model: 0, ROC:0.6854692288169439, f1: 0.3380893300248139, lr: 5.1e-06, epoch = 81\n",
      "model: 0, ROC:0.6855020702512197, f1: 0.3356079404466501, lr: 5.1e-06, epoch = 82\n",
      "model: 0, ROC:0.685538882438254, f1: 0.3356079404466501, lr: 5.1e-06, epoch = 83\n",
      "model: 0, ROC:0.6855630792128777, f1: 0.3362282878411911, lr: 5.1e-06, epoch = 84\n",
      "model: 0, ROC:0.6857670766358591, f1: 0.3356079404466501, lr: 5.1e-06, epoch = 85\n",
      "model: 0, ROC:0.6858365648091376, f1: 0.3362282878411911, lr: 5.1e-06, epoch = 88\n",
      "model: 0, ROC:0.68614591126625, f1: 0.336848635235732, lr: 5.1e-06, epoch = 89\n",
      "model: 0, ROC:0.6863657917002663, f1: 0.336848635235732, lr: 5.1e-06, epoch = 90\n",
      "model: 0, ROC:0.6864003703388739, f1: 0.3399503722084367, lr: 5.1e-06, epoch = 94\n",
      "model: 0, ROC:0.6868457978019898, f1: 0.337468982630273, lr: 5.1e-06, epoch = 95\n",
      "model: 0, ROC:0.686895184039427, f1: 0.3380893300248139, lr: 5.1e-06, epoch = 96\n",
      "model: 0, ROC:0.6869792730014953, f1: 0.3380893300248139, lr: 5.1e-06, epoch = 97\n",
      "model: 0, ROC:0.6870493816048922, f1: 0.337468982630273, lr: 5.1e-06, epoch = 99\n",
      "model: 0, ROC:0.6871490640439404, f1: 0.3380893300248139, lr: 5.1e-06, epoch = 100\n",
      "model: 0, ROC:0.6871955549408242, f1: 0.3387096774193548, lr: 5.1e-06, epoch = 101\n",
      "model: 0, ROC:0.6872847727918726, f1: 0.3380893300248139, lr: 5.1e-06, epoch = 102\n",
      "model: 0, ROC:0.6873303537245827, f1: 0.3380893300248139, lr: 5.1e-06, epoch = 103\n",
      "model: 0, ROC:0.6875687643381401, f1: 0.3387096774193548, lr: 5.1e-06, epoch = 105\n",
      "model: 0, ROC:0.6877758225497064, f1: 0.3380893300248139, lr: 5.1e-06, epoch = 106\n",
      "model: 0, ROC:0.6877967517257058, f1: 0.3380893300248139, lr: 5.1e-06, epoch = 107\n",
      "model: 0, ROC:0.6878928356700662, f1: 0.3387096774193548, lr: 5.1e-06, epoch = 108\n",
      "model: 0, ROC:0.6880351209772553, f1: 0.3405707196029777, lr: 5.1e-06, epoch = 112\n",
      "model: 0, ROC:0.6880636194007008, f1: 0.3387096774193548, lr: 5.1e-06, epoch = 113\n",
      "model: 0, ROC:0.6881209057816475, f1: 0.3393300248138958, lr: 5.1e-06, epoch = 114\n",
      "model: 0, ROC:0.6881465915885558, f1: 0.3405707196029777, lr: 5.1e-06, epoch = 115\n",
      "model: 0, ROC:0.6883087306595387, f1: 0.3405707196029777, lr: 5.1e-06, epoch = 116\n",
      "model: 0, ROC:0.6885301828498556, f1: 0.3399503722084367, lr: 5.1e-06, epoch = 117\n",
      "model: 0, ROC:0.6887400950399674, f1: 0.3405707196029777, lr: 5.1e-06, epoch = 118\n"
     ]
    },
    {
     "name": "stdout",
     "output_type": "stream",
     "text": [
      "model: 0, ROC:0.6888824630711721, f1: 0.3380893300248139, lr: 5.1e-06, epoch = 119\n",
      "model: 0, ROC:0.6889672551873749, f1: 0.3380893300248139, lr: 5.1e-06, epoch = 120\n",
      "model: 0, ROC:0.6891439123231319, f1: 0.3387096774193548, lr: 5.1e-06, epoch = 123\n",
      "model: 0, ROC:0.6891787391337869, f1: 0.3387096774193548, lr: 5.1e-06, epoch = 124\n",
      "model: 0, ROC:0.6893814543345235, f1: 0.3380893300248139, lr: 5.1e-06, epoch = 125\n",
      "model: 0, ROC:0.6895030172757526, f1: 0.337468982630273, lr: 5.1e-06, epoch = 126\n",
      "model: 0, ROC:0.6896225121165867, f1: 0.337468982630273, lr: 5.1e-06, epoch = 127\n",
      "model: 0, ROC:0.6896925793579756, f1: 0.3380893300248139, lr: 5.1e-06, epoch = 128\n",
      "model: 0, ROC:0.6898404071742237, f1: 0.3387096774193548, lr: 5.1e-06, epoch = 129\n",
      "model: 0, ROC:0.6900034975713883, f1: 0.3380893300248139, lr: 5.1e-06, epoch = 130\n",
      "model: 0, ROC:0.6901073989352426, f1: 0.3393300248138958, lr: 5.1e-06, epoch = 132\n",
      "model: 0, ROC:0.6902123757113023, f1: 0.3399503722084367, lr: 5.1e-06, epoch = 135\n",
      "model: 0, ROC:0.6903089973617657, f1: 0.3411910669975186, lr: 5.1e-06, epoch = 136\n",
      "model: 0, ROC:0.6904200129909794, f1: 0.3411910669975186, lr: 5.1e-06, epoch = 137\n",
      "model: 0, ROC:0.6905967114887444, f1: 0.3393300248138958, lr: 5.1e-06, epoch = 139\n",
      "model: 0, ROC:0.6908646132139372, f1: 0.3393300248138958, lr: 5.1e-06, epoch = 140\n",
      "model: 0, ROC:0.6908865350781263, f1: 0.3442928039702233, lr: 5.1e-06, epoch = 161\n",
      "model: 0, ROC:0.6909223959389788, f1: 0.3424317617866005, lr: 5.1e-06, epoch = 169\n",
      "model: 0, ROC:0.6909989983776166, f1: 0.3442928039702233, lr: 5.1e-06, epoch = 170\n",
      "model: 0, ROC:0.6911518309968211, f1: 0.34305210918114143, lr: 5.1e-06, epoch = 171\n",
      "model: 0, ROC:0.6913330793154554, f1: 0.3424317617866005, lr: 5.1e-06, epoch = 172\n",
      "model: 0, ROC:0.6914748269165417, f1: 0.3424317617866005, lr: 5.1e-06, epoch = 173\n",
      "model: 0, ROC:0.6914849192464702, f1: 0.3436724565756824, lr: 5.1e-06, epoch = 178\n",
      "model: 0, ROC:0.6916932596802816, f1: 0.3436724565756824, lr: 5.1e-06, epoch = 179\n",
      "model: 0, ROC:0.6918251217614788, f1: 0.3436724565756824, lr: 5.1e-06, epoch = 180\n",
      "model: 0, ROC:0.6919786575348177, f1: 0.3424317617866005, lr: 5.1e-06, epoch = 181\n",
      "model: 0, ROC:0.6920157178938995, f1: 0.3411910669975186, lr: 5.1e-06, epoch = 187\n",
      "model: 0, ROC:0.692225340549956, f1: 0.34181141439205953, lr: 5.1e-06, epoch = 189\n",
      "model: 0, ROC:0.6925680661474465, f1: 0.3411910669975186, lr: 5.1e-06, epoch = 190\n",
      "model: 0, ROC:0.6926895877266679, f1: 0.3405707196029777, lr: 5.1e-06, epoch = 191\n",
      "model: 0, ROC:0.6927101032825882, f1: 0.34181141439205953, lr: 5.1e-06, epoch = 193\n",
      "model: 0, ROC:0.692810282065731, f1: 0.3405707196029777, lr: 5.1e-06, epoch = 194\n",
      "model: 0, ROC:0.6928163209188851, f1: 0.3411910669975186, lr: 5.1e-06, epoch = 196\n",
      "model: 0, ROC:0.693145272967744, f1: 0.34181141439205953, lr: 5.1e-06, epoch = 221\n",
      "model: 0, ROC:0.6931516013549531, f1: 0.3424317617866005, lr: 5.1e-06, epoch = 238\n",
      "model: 0, ROC:0.6933707786348353, f1: 0.3424317617866005, lr: 5.1e-06, epoch = 240\n",
      "model: 0, ROC:0.6936984070994413, f1: 0.34305210918114143, lr: 5.1e-06, epoch = 247\n",
      "model: 0, ROC:0.6937184676732746, f1: 0.3436724565756824, lr: 5.1e-06, epoch = 249\n",
      "model: 0, ROC:0.6938847429450477, f1: 0.34305210918114143, lr: 5.1e-06, epoch = 251\n",
      "model: 0, ROC:0.6941312191501464, f1: 0.34305210918114143, lr: 5.1e-06, epoch = 254\n",
      "model: 0, ROC:0.6941863960686901, f1: 0.3436724565756824, lr: 5.1e-06, epoch = 255\n",
      "model: 0, ROC:0.6943128810888598, f1: 0.3424317617866005, lr: 5.1e-06, epoch = 256\n",
      "model: 0, ROC:0.694427577936777, f1: 0.3424317617866005, lr: 5.1e-06, epoch = 257\n",
      "model: 0, ROC:0.6944686504106254, f1: 0.3424317617866005, lr: 5.1e-06, epoch = 258\n",
      "model: 0, ROC:0.6944906136368223, f1: 0.3424317617866005, lr: 5.1e-06, epoch = 259\n",
      "model: 0, ROC:0.6945794592297997, f1: 0.3436724565756824, lr: 5.1e-06, epoch = 406\n",
      "model: 0, ROC:0.6946587501989513, f1: 0.3424317617866005, lr: 5.1e-06, epoch = 407\n",
      "model: 0, ROC:0.6947343599493994, f1: 0.34305210918114143, lr: 5.1e-06, epoch = 408\n",
      "model: 0, ROC:0.6947924735705041, f1: 0.3436724565756824, lr: 5.1e-06, epoch = 410\n",
      "model: 0, ROC:0.694955481243653, f1: 0.3436724565756824, lr: 5.1e-06, epoch = 411\n",
      "model: 0, ROC:0.6952012129326093, f1: 0.34181141439205953, lr: 5.1e-06, epoch = 412\n",
      "model: 0, ROC:0.6953660405341059, f1: 0.3349875930521092, lr: 5.1e-06, epoch = 734\n",
      "0.6953660405341059 734 5.1e-06\n"
     ]
    },
    {
     "data": {
      "image/png": "[encoded data removed]",
      "text/plain": [
       "<Figure size 432x288 with 1 Axes>"
      ]
     },
     "metadata": {
      "needs_background": "light"
     },
     "output_type": "display_data"
    },
    {
     "name": "stdout",
     "output_type": "stream",
     "text": [
      "0.6950073492015643 525 5.1e-07\n"
     ]
    },
    {
     "data": {
      "image/png": "[encoded data removed]",
      "text/plain": [
       "<Figure size 432x288 with 1 Axes>"
      ]
     },
     "metadata": {
      "needs_background": "light"
     },
     "output_type": "display_data"
    },
    {
     "name": "stdout",
     "output_type": "stream",
     "text": [
      "model: 1, ROC:0.6954448765211706, f1: 0.34863523573200994, lr: 5.1e-06, epoch = 656\n",
      "0.6954448765211706 656 5.1e-06\n"
     ]
    },
    {
     "data": {
      "image/png": "[encoded data removed]",
      "text/plain": [
       "<Figure size 432x288 with 1 Axes>"
      ]
     },
     "metadata": {
      "needs_background": "light"
     },
     "output_type": "display_data"
    },
    {
     "name": "stdout",
     "output_type": "stream",
     "text": [
      "0.6947565713476438 193 5.1e-07\n"
     ]
    },
    {
     "data": {
      "image/png": "[encoded data removed]",
      "text/plain": [
       "<Figure size 432x288 with 1 Axes>"
      ]
     },
     "metadata": {
      "needs_background": "light"
     },
     "output_type": "display_data"
    },
    {
     "name": "stdout",
     "output_type": "stream",
     "text": [
      "model: 2, ROC:0.6960602191127552, f1: 0.34491315136476425, lr: 5.1e-06, epoch = 27\n",
      "model: 2, ROC:0.6964859168981008, f1: 0.3424317617866005, lr: 5.1e-06, epoch = 28\n",
      "model: 2, ROC:0.6967279673683539, f1: 0.3442928039702233, lr: 5.1e-06, epoch = 29\n",
      "model: 2, ROC:0.6970280073736879, f1: 0.3436724565756824, lr: 5.1e-06, epoch = 30\n",
      "model: 2, ROC:0.6970968751168477, f1: 0.3442928039702233, lr: 5.1e-06, epoch = 31\n",
      "model: 2, ROC:0.6976208903949807, f1: 0.34305210918114143, lr: 5.1e-06, epoch = 32\n",
      "model: 2, ROC:0.697786297064588, f1: 0.34305210918114143, lr: 5.1e-06, epoch = 33\n",
      "model: 2, ROC:0.6982023575020921, f1: 0.3442928039702233, lr: 5.1e-06, epoch = 34\n",
      "model: 2, ROC:0.6982903758549113, f1: 0.34491315136476425, lr: 5.1e-06, epoch = 35\n",
      "model: 2, ROC:0.6985988123478498, f1: 0.34739454094292804, lr: 5.1e-06, epoch = 38\n",
      "model: 2, ROC:0.6992493953701685, f1: 0.34801488833746896, lr: 5.1e-06, epoch = 39\n",
      "model: 2, ROC:0.6993175599591939, f1: 0.3467741935483871, lr: 5.1e-06, epoch = 40\n",
      "model: 2, ROC:0.6995051780270456, f1: 0.34739454094292804, lr: 5.1e-06, epoch = 41\n",
      "model: 2, ROC:0.6996399768108039, f1: 0.34739454094292804, lr: 5.1e-06, epoch = 42\n",
      "model: 2, ROC:0.699783916598309, f1: 0.34925558312655086, lr: 5.1e-06, epoch = 43\n",
      "model: 2, ROC:0.6998802900767249, f1: 0.34925558312655086, lr: 5.1e-06, epoch = 44\n",
      "model: 2, ROC:0.7002369546708792, f1: 0.34987593052109184, lr: 5.1e-06, epoch = 45\n",
      "model: 2, ROC:0.7003119853532167, f1: 0.35173697270471466, lr: 5.1e-06, epoch = 46\n",
      "model: 2, ROC:0.700323029009327, f1: 0.3511166253101737, lr: 5.1e-06, epoch = 58\n",
      "model: 2, ROC:0.7006340713087634, f1: 0.3523573200992556, lr: 5.1e-06, epoch = 64\n",
      "model: 2, ROC:0.7009074328189996, f1: 0.35173697270471466, lr: 5.1e-06, epoch = 65\n",
      "model: 2, ROC:0.7010376817818886, f1: 0.35049627791563276, lr: 5.1e-06, epoch = 66\n",
      "model: 2, ROC:0.7010495526781569, f1: 0.35049627791563276, lr: 5.1e-06, epoch = 67\n",
      "model: 2, ROC:0.7011052673028034, f1: 0.3511166253101737, lr: 5.1e-06, epoch = 68\n",
      "model: 2, ROC:0.7011510136835449, f1: 0.35049627791563276, lr: 5.1e-06, epoch = 69\n",
      "model: 2, ROC:0.7013230382744167, f1: 0.34987593052109184, lr: 5.1e-06, epoch = 70\n",
      "0.7013230382744167 70 5.1e-06\n"
     ]
    },
    {
     "data": {
      "image/png": "[encoded data removed]",
      "text/plain": [
       "<Figure size 432x288 with 1 Axes>"
      ]
     },
     "metadata": {
      "needs_background": "light"
     },
     "output_type": "display_data"
    },
    {
     "name": "stdout",
     "output_type": "stream",
     "text": [
      "0.694596086756977 418 5.1e-07\n"
     ]
    },
    {
     "data": {
      "image/png": "[encoded data removed]",
      "text/plain": [
       "<Figure size 432x288 with 1 Axes>"
      ]
     },
     "metadata": {
      "needs_background": "light"
     },
     "output_type": "display_data"
    },
    {
     "name": "stdout",
     "output_type": "stream",
     "text": [
      "0.6898605091100649 741 5.1e-06\n"
     ]
    },
    {
     "data": {
      "image/png": "[encoded data removed]",
      "text/plain": [
       "<Figure size 432x288 with 1 Axes>"
      ]
     },
     "metadata": {
      "needs_background": "light"
     },
     "output_type": "display_data"
    },
    {
     "name": "stdout",
     "output_type": "stream",
     "text": [
      "0.6905389287637028 742 5.1e-07\n"
     ]
    },
    {
     "data": {
      "image/png": "[encoded data removed]",
      "text/plain": [
       "<Figure size 432x288 with 1 Axes>"
      ]
     },
     "metadata": {
      "needs_background": "light"
     },
     "output_type": "display_data"
    }
   ],
   "source": [
    "n_epochs = 750\n",
    "hists = train(models, x, y, Y1_train, X_val, Y_val, Y1_val, n_epochs, 0.0000051)"
   ]
  },
  {
   "cell_type": "code",
   "execution_count": 25,
   "id": "f5811952",
   "metadata": {},
   "outputs": [
    {
     "data": {
      "text/plain": [
       "OrderedDict([('net.0.weight',\n",
       "              tensor([[ 0.1607, -0.0603,  0.0327,  ..., -0.0582,  0.0038,  0.0054],\n",
       "                      [-0.1542,  0.1148, -0.1035,  ..., -0.0373, -0.1110, -0.0017],\n",
       "                      [-0.1263,  0.1022,  0.0037,  ..., -0.0870,  0.1505,  0.1140],\n",
       "                      ...,\n",
       "                      [ 0.0707,  0.1205,  0.0238,  ...,  0.0859,  0.0220,  0.1399],\n",
       "                      [ 0.0635, -0.0422,  0.0389,  ..., -0.0135,  0.0795, -0.1540],\n",
       "                      [ 0.0802,  0.0440,  0.1471,  ..., -0.1388, -0.0524, -0.1029]])),\n",
       "             ('net.0.bias',\n",
       "              tensor([-1.5620e-02,  1.4664e-01, -4.7778e-02, -1.1725e-01,  9.9475e-02,\n",
       "                       1.1738e-01,  8.0555e-02, -6.4390e-02, -5.6192e-02,  1.3211e-01,\n",
       "                      -1.1122e-01,  1.1456e-01,  1.2991e-01,  1.3901e-01, -2.5071e-02,\n",
       "                      -5.7448e-02, -1.5458e-02,  1.0982e-03, -7.0243e-02,  1.2305e-01,\n",
       "                       1.1128e-01,  1.0212e-01, -7.3224e-02, -9.5140e-02,  9.4817e-02,\n",
       "                       8.1297e-03, -1.3998e-01, -2.2903e-02,  1.3546e-01, -9.0933e-02,\n",
       "                       9.7560e-02, -1.9411e-04,  1.3496e-01, -1.2126e-01, -1.3466e-01,\n",
       "                      -4.0493e-02, -8.9978e-02, -4.4621e-02,  1.3656e-02,  6.1284e-02,\n",
       "                      -2.9756e-02, -1.2239e-01, -5.4115e-02,  9.6128e-02, -4.7920e-02,\n",
       "                       6.4023e-03, -1.4178e-01,  1.1964e-01, -6.3438e-02, -1.4284e-01,\n",
       "                       5.9344e-02,  1.0098e-01, -1.0323e-01, -1.2905e-01, -1.3314e-01,\n",
       "                       1.4868e-01,  1.1859e-01, -6.5599e-02,  6.3577e-02, -4.4181e-02,\n",
       "                       3.0377e-02, -1.4246e-01,  4.9511e-02,  2.4066e-02,  1.2125e-01,\n",
       "                      -1.1996e-01,  1.1703e-01, -1.3257e-01, -1.3725e-01,  1.1967e-01,\n",
       "                      -5.8881e-02,  4.2234e-02,  3.8318e-02,  1.5701e-01,  1.4758e-01,\n",
       "                      -1.2584e-01,  1.0259e-01, -2.5333e-02, -1.1855e-01,  2.1012e-02,\n",
       "                       5.5996e-02, -9.7383e-02, -9.8182e-02,  1.2159e-01,  4.1294e-02,\n",
       "                      -7.4857e-02,  2.9456e-03,  1.5109e-01,  1.1617e-02, -1.3633e-01,\n",
       "                      -1.1636e-01,  1.0383e-01, -1.5708e-02,  6.3040e-04, -6.7947e-02,\n",
       "                      -1.1577e-02, -6.1037e-02,  1.0828e-02,  2.1425e-05,  1.0920e-01,\n",
       "                       6.0848e-02, -9.3907e-02,  5.0282e-02,  1.2195e-02, -4.9062e-02,\n",
       "                      -1.2178e-01,  1.0276e-01,  1.1490e-01,  9.0811e-02, -3.4445e-02,\n",
       "                      -4.3352e-02,  1.9174e-02, -1.3167e-01,  1.5033e-01, -7.9289e-02,\n",
       "                       7.9666e-02,  1.1839e-01,  1.2544e-01, -1.2672e-01, -1.4414e-01,\n",
       "                      -1.2434e-01,  5.0678e-02, -8.6726e-02, -5.6994e-02, -1.4847e-01,\n",
       "                      -4.4849e-03, -1.1071e-02,  9.2091e-03, -1.9878e-02,  1.3152e-01,\n",
       "                      -1.3996e-01,  3.7880e-02, -5.6194e-02, -6.4821e-02,  3.8558e-02,\n",
       "                      -1.3704e-02,  7.7964e-02, -9.2244e-02,  1.2583e-01,  1.2591e-01,\n",
       "                      -1.2701e-01,  7.1057e-02, -1.2839e-01,  4.8608e-03, -1.4673e-01,\n",
       "                       9.8887e-02, -1.8680e-03, -1.4734e-01,  9.0176e-02,  1.2468e-01])),\n",
       "             ('net.3.weight',\n",
       "              tensor([[ 0.0241,  0.0030,  0.0447,  ..., -0.0030,  0.0610, -0.0395],\n",
       "                      [-0.0383,  0.0365,  0.0343,  ..., -0.0681,  0.0425, -0.0085],\n",
       "                      [-0.0758, -0.0231, -0.0129,  ..., -0.0211, -0.0204, -0.0051],\n",
       "                      ...,\n",
       "                      [ 0.0651, -0.0022,  0.0382,  ...,  0.0165, -0.0643, -0.0275],\n",
       "                      [ 0.0280, -0.0465, -0.0066,  ...,  0.0090,  0.0790, -0.0040],\n",
       "                      [ 0.0109, -0.0772,  0.0211,  ..., -0.0349,  0.0685,  0.0205]])),\n",
       "             ('net.3.bias',\n",
       "              tensor([ 0.0096, -0.0496,  0.0622, -0.0438,  0.0269, -0.0240, -0.0193, -0.0161,\n",
       "                       0.0146,  0.0508, -0.0637,  0.0780, -0.0211, -0.0063,  0.0296,  0.0537,\n",
       "                       0.0588,  0.0321,  0.0573,  0.0099, -0.0200,  0.0354, -0.0329, -0.0734,\n",
       "                       0.0014,  0.0009,  0.0256,  0.0617, -0.0788,  0.0053,  0.0573, -0.0229,\n",
       "                      -0.0510,  0.0198,  0.0447, -0.0176,  0.0649, -0.0598, -0.0059,  0.0719,\n",
       "                      -0.0572,  0.0033,  0.0289, -0.0136,  0.0075, -0.0684,  0.0442,  0.0334,\n",
       "                      -0.0125, -0.0643, -0.0172,  0.0667, -0.0617, -0.0317,  0.0042,  0.0579,\n",
       "                      -0.0570, -0.0734,  0.0429,  0.0630,  0.0184, -0.0217,  0.0653,  0.0573,\n",
       "                       0.0005,  0.0652, -0.0496, -0.0327, -0.0061, -0.0383, -0.0268,  0.0091,\n",
       "                       0.0319,  0.0565,  0.0238,  0.0207,  0.0575,  0.0711,  0.0458,  0.0507,\n",
       "                      -0.0152,  0.0714, -0.0774,  0.0376, -0.0411,  0.0252, -0.0792,  0.0449,\n",
       "                       0.0435, -0.0721, -0.0083,  0.0004, -0.0150, -0.0117,  0.0182,  0.0805,\n",
       "                       0.0615,  0.0275, -0.0309,  0.0329,  0.0593, -0.0727,  0.0394,  0.0031,\n",
       "                      -0.0761, -0.0069, -0.0781,  0.0044, -0.0514,  0.0603,  0.0291,  0.0502,\n",
       "                       0.0807, -0.0235,  0.0620, -0.0430,  0.0014, -0.0401, -0.0234,  0.0401,\n",
       "                      -0.0234,  0.0698,  0.0367,  0.0104,  0.0261, -0.0043,  0.0174,  0.0455,\n",
       "                      -0.0476, -0.0752,  0.0233,  0.0601, -0.0075, -0.0572, -0.0627,  0.0392,\n",
       "                       0.0585,  0.0520, -0.0468,  0.0440, -0.0666, -0.0161, -0.0457, -0.0800,\n",
       "                      -0.0408,  0.0562,  0.0331,  0.0632, -0.0688, -0.0781, -0.0065, -0.0123,\n",
       "                      -0.0283,  0.0405, -0.0113,  0.0206,  0.0326,  0.0393,  0.0495, -0.0207,\n",
       "                      -0.0794,  0.0669,  0.0048,  0.0120, -0.0791,  0.0126,  0.0293, -0.0492,\n",
       "                       0.0073, -0.0051, -0.0476,  0.0353, -0.0275,  0.0163, -0.0121, -0.0602,\n",
       "                       0.0276,  0.0425,  0.0405,  0.0318, -0.0447,  0.0157,  0.0591, -0.0648,\n",
       "                       0.0429, -0.0287, -0.0191, -0.0097, -0.0498, -0.0191,  0.0639,  0.0243,\n",
       "                       0.0424,  0.0685, -0.0435,  0.0254,  0.0040, -0.0500,  0.0808, -0.0296,\n",
       "                       0.0760, -0.0464, -0.0245,  0.0455,  0.0636,  0.0340,  0.0686,  0.0430,\n",
       "                      -0.0338, -0.0765, -0.0608, -0.0550, -0.0576,  0.0442, -0.0084,  0.0759,\n",
       "                       0.0284, -0.0362,  0.0567,  0.0304, -0.0301,  0.0019,  0.0143, -0.0378,\n",
       "                       0.0568, -0.0682,  0.0660,  0.0059, -0.0277,  0.0694, -0.0033,  0.0645,\n",
       "                       0.0096,  0.0777, -0.0019, -0.0338,  0.0337, -0.0084, -0.0459,  0.0042,\n",
       "                      -0.0608, -0.0625,  0.0700, -0.0666, -0.0227,  0.0077, -0.0254, -0.0613,\n",
       "                      -0.0134, -0.0107, -0.0022,  0.0801,  0.0338,  0.0165,  0.0543, -0.0029,\n",
       "                      -0.0271,  0.0224, -0.0226,  0.0134, -0.0464, -0.0377, -0.0219,  0.0138,\n",
       "                      -0.0064, -0.0304, -0.0351,  0.0503,  0.0390,  0.0321,  0.0751,  0.0759,\n",
       "                       0.0795, -0.0500,  0.0435,  0.0286,  0.0758,  0.0061,  0.0612,  0.0145,\n",
       "                       0.0175, -0.0156,  0.0264,  0.0466, -0.0544, -0.0384,  0.0524, -0.0826,\n",
       "                       0.0074, -0.0132,  0.0372,  0.0049,  0.0735,  0.0347,  0.0254, -0.0603,\n",
       "                       0.0500,  0.0252, -0.0347, -0.0391, -0.0525, -0.0339,  0.0501,  0.0289,\n",
       "                       0.0656, -0.0482,  0.0680,  0.0759, -0.0660,  0.0017, -0.0764, -0.0370,\n",
       "                       0.0624, -0.0324,  0.0788,  0.0735,  0.0661,  0.0638,  0.0274,  0.0487,\n",
       "                      -0.0182,  0.0594,  0.0667,  0.0605,  0.0598, -0.0679, -0.0350, -0.0448,\n",
       "                       0.0720,  0.0706, -0.0365,  0.0154,  0.0220, -0.0280,  0.0110, -0.0315,\n",
       "                      -0.0183,  0.0655,  0.0057,  0.0261,  0.0367,  0.0587,  0.0089,  0.0685,\n",
       "                      -0.0596,  0.0045,  0.0488, -0.0631, -0.0726, -0.0275, -0.0446,  0.0076,\n",
       "                      -0.0264, -0.0358, -0.0717,  0.0531,  0.0640, -0.0343, -0.0636, -0.0643,\n",
       "                      -0.0016, -0.0337, -0.0449,  0.0332,  0.0755, -0.0575,  0.0115, -0.0048,\n",
       "                      -0.0574,  0.0553,  0.0180,  0.0495,  0.0203, -0.0453, -0.0469,  0.0537,\n",
       "                      -0.0645,  0.0312, -0.0183,  0.0789, -0.0557,  0.0162,  0.0103,  0.0763,\n",
       "                       0.0288, -0.0606, -0.0605, -0.0068,  0.0146,  0.0283,  0.0335,  0.0462,\n",
       "                       0.0141, -0.0734, -0.0253,  0.0112, -0.0564, -0.0292, -0.0560,  0.0336,\n",
       "                      -0.0761, -0.0064,  0.0505, -0.0349,  0.0743,  0.0112, -0.0175,  0.0553,\n",
       "                      -0.0435,  0.0312,  0.0182,  0.0513,  0.0567, -0.0589,  0.0038, -0.0128,\n",
       "                       0.0154,  0.0147,  0.0794, -0.0277, -0.0484, -0.0250,  0.0754, -0.0639,\n",
       "                       0.0662, -0.0655,  0.0307, -0.0544, -0.0777, -0.0198,  0.0586, -0.0443,\n",
       "                      -0.0102,  0.0675, -0.0417, -0.0208,  0.0772, -0.0323, -0.0370, -0.0089,\n",
       "                      -0.0503, -0.0425,  0.0204,  0.0203, -0.0008,  0.0345, -0.0005,  0.0090,\n",
       "                      -0.0676, -0.0372,  0.0650,  0.0651, -0.0506, -0.0658,  0.0157, -0.0493,\n",
       "                       0.0585,  0.0079, -0.0469,  0.0297,  0.0256,  0.0306, -0.0410, -0.0775,\n",
       "                       0.0139, -0.0397, -0.0174,  0.0004,  0.0371, -0.0669, -0.0388,  0.0488,\n",
       "                       0.0503, -0.0727, -0.0567,  0.0509,  0.0303, -0.0492, -0.0454, -0.0578,\n",
       "                      -0.0496,  0.0085,  0.0485,  0.0394, -0.0084, -0.0723, -0.0272,  0.0354,\n",
       "                      -0.0752, -0.0216, -0.0566, -0.0301,  0.0277, -0.0752, -0.0677,  0.0801,\n",
       "                       0.0433, -0.0801,  0.0195,  0.0148])),\n",
       "             ('net.6.weight',\n",
       "              tensor([[-0.0186, -0.0442,  0.0047,  ..., -0.0121,  0.0312, -0.0049],\n",
       "                      [-0.0305, -0.0201,  0.0288,  ..., -0.0224,  0.0236,  0.0061],\n",
       "                      [ 0.0326, -0.0272,  0.0414,  ..., -0.0240,  0.0004,  0.0099],\n",
       "                      ...,\n",
       "                      [-0.0450, -0.0318, -0.0129,  ..., -0.0058,  0.0234, -0.0206],\n",
       "                      [ 0.0259, -0.0206, -0.0444,  ...,  0.0119,  0.0290,  0.0285],\n",
       "                      [ 0.0257, -0.0418, -0.0197,  ...,  0.0410, -0.0142,  0.0077]])),\n",
       "             ('net.6.bias',\n",
       "              tensor([ 0.0019, -0.0367,  0.0449, -0.0119, -0.0158, -0.0022, -0.0217,  0.0087,\n",
       "                       0.0222, -0.0151, -0.0426,  0.0456,  0.0346,  0.0004,  0.0036,  0.0027,\n",
       "                      -0.0334, -0.0113, -0.0387, -0.0335, -0.0194,  0.0210,  0.0316, -0.0135,\n",
       "                       0.0300, -0.0394, -0.0017, -0.0325,  0.0143,  0.0268,  0.0210,  0.0366,\n",
       "                      -0.0210, -0.0225,  0.0435, -0.0251,  0.0069,  0.0249,  0.0024, -0.0442,\n",
       "                       0.0189, -0.0254,  0.0410, -0.0190,  0.0397, -0.0051, -0.0082,  0.0441,\n",
       "                      -0.0031, -0.0122, -0.0189,  0.0289,  0.0404,  0.0079,  0.0207,  0.0296,\n",
       "                       0.0246, -0.0094, -0.0120,  0.0091, -0.0075,  0.0189,  0.0389,  0.0183,\n",
       "                      -0.0435, -0.0289,  0.0459, -0.0130,  0.0143,  0.0051, -0.0184,  0.0064,\n",
       "                      -0.0375,  0.0164,  0.0334, -0.0398, -0.0253,  0.0212, -0.0371, -0.0220,\n",
       "                      -0.0213,  0.0337,  0.0080,  0.0417, -0.0130,  0.0132,  0.0391,  0.0148,\n",
       "                       0.0390,  0.0220,  0.0077,  0.0402, -0.0339, -0.0438,  0.0264,  0.0377,\n",
       "                      -0.0253, -0.0087,  0.0390,  0.0390])),\n",
       "             ('net.8.weight',\n",
       "              tensor([[ 0.0550, -0.0098,  0.0892,  0.0211,  0.0834,  0.0796, -0.0304, -0.0145,\n",
       "                        0.0225, -0.0053,  0.0447,  0.0100,  0.0483,  0.0603, -0.0527, -0.1015,\n",
       "                        0.0643, -0.0764, -0.0819, -0.0619,  0.0326, -0.0428,  0.0182, -0.0637,\n",
       "                       -0.0913, -0.0552, -0.0490, -0.0541,  0.0094, -0.0281, -0.0016,  0.0025,\n",
       "                        0.0365, -0.0891,  0.0477,  0.0118, -0.0923, -0.0423, -0.0323, -0.0435,\n",
       "                       -0.0915, -0.0414, -0.0188, -0.0050, -0.0227,  0.0793,  0.0984,  0.0160,\n",
       "                       -0.0481,  0.0250, -0.0287, -0.0911, -0.0556,  0.0837, -0.0262,  0.0033,\n",
       "                       -0.0603,  0.0444,  0.0326,  0.0920, -0.0367,  0.0334,  0.0402, -0.0671,\n",
       "                       -0.0842, -0.0267,  0.0265,  0.0940,  0.0698,  0.0788, -0.0053,  0.0474,\n",
       "                        0.0550,  0.0608, -0.0754,  0.0488, -0.0924, -0.0739, -0.0745,  0.0525,\n",
       "                        0.0880,  0.0155,  0.0465,  0.0701,  0.0542,  0.0437, -0.0470, -0.0117,\n",
       "                        0.0197,  0.0635, -0.0577,  0.0763,  0.0032, -0.0540,  0.0023,  0.0639,\n",
       "                        0.0011,  0.0631, -0.0260,  0.0122]])),\n",
       "             ('net.8.bias', tensor([-0.0213]))])"
      ]
     },
     "execution_count": 25,
     "metadata": {},
     "output_type": "execute_result"
    }
   ],
   "source": [
    "hists[2]"
   ]
  },
  {
   "cell_type": "markdown",
   "id": "79bbc70c",
   "metadata": {},
   "source": [
    "best model den haag: model 0, lr:5.1e-06"
   ]
  },
  {
   "cell_type": "markdown",
   "id": "8934beac",
   "metadata": {},
   "source": [
    "# Testing:"
   ]
  },
  {
   "cell_type": "code",
   "execution_count": 26,
   "id": "ae640e84",
   "metadata": {},
   "outputs": [
    {
     "data": {
      "text/plain": [
       "Model2(\n",
       "  (net): Sequential(\n",
       "    (0): Linear(in_features=39, out_features=150, bias=True)\n",
       "    (1): Dropout(p=0.3, inplace=False)\n",
       "    (2): ReLU()\n",
       "    (3): Linear(in_features=150, out_features=500, bias=True)\n",
       "    (4): Dropout(p=0.3, inplace=False)\n",
       "    (5): ReLU()\n",
       "    (6): Linear(in_features=500, out_features=100, bias=True)\n",
       "    (7): ReLU()\n",
       "    (8): Linear(in_features=100, out_features=1, bias=True)\n",
       "  )\n",
       "  (final): Sigmoid()\n",
       ")"
      ]
     },
     "execution_count": 26,
     "metadata": {},
     "output_type": "execute_result"
    }
   ],
   "source": [
    "model = Model2()\n",
    "model.load_state_dict(hists[2])\n",
    "model.eval()"
   ]
  },
  {
   "cell_type": "code",
   "execution_count": 28,
   "id": "d74a260c",
   "metadata": {},
   "outputs": [],
   "source": [
    "out = model(X_test)\n",
    "\n",
    "ROC = roc_auc_score(Y_test, model.final(out).detach().numpy())\n",
    "out = out.squeeze().detach().numpy()\n",
    "\n",
    "preds = np.zeros(len(out))\n",
    "pos = out.argsort()[-((Y_test == 1).sum()):]\n",
    "preds[pos] = 1\n",
    "\n",
    "f1 = f1_score(Y_test, preds)\n",
    "\n"
   ]
  },
  {
   "cell_type": "code",
   "execution_count": 29,
   "id": "eb850473",
   "metadata": {},
   "outputs": [
    {
     "name": "stdout",
     "output_type": "stream",
     "text": [
      "0.6783254714307357 0.3863524791359843\n"
     ]
    }
   ],
   "source": [
    "print(ROC, f1)"
   ]
  },
  {
   "cell_type": "code",
   "execution_count": 62,
   "id": "df025997",
   "metadata": {},
   "outputs": [
    {
     "data": {
      "text/plain": [
       "array([-2.9112084 , -1.280356  , -1.197726  , ..., -0.3989432 ,\n",
       "       -0.41498762, -0.45487213], dtype=float32)"
      ]
     },
     "execution_count": 62,
     "metadata": {},
     "output_type": "execute_result"
    }
   ],
   "source": [
    "out"
   ]
  },
  {
   "cell_type": "code",
   "execution_count": 63,
   "id": "b1cefc03",
   "metadata": {},
   "outputs": [],
   "source": [
    "# with open (\"../Results/Nijmegen.csv\", \"a+\") as f:\n",
    "#     f.write(\"\\nMLP,{},{}\".format(ROC,f1))"
   ]
  },
  {
   "cell_type": "code",
   "execution_count": 30,
   "id": "5ad2a7e5",
   "metadata": {},
   "outputs": [],
   "source": [
    "import pickle\n",
    "f = open('../results/DHMLPpreds','wb')\n",
    "pickle.dump(out,f)\n",
    "f.close()"
   ]
  },
  {
   "cell_type": "code",
   "execution_count": 31,
   "id": "64fe7de6",
   "metadata": {},
   "outputs": [],
   "source": [
    "with open (\"../Results/modellen.csv\", \"a+\") as f:\n",
    "    f.write(\"DH,MLP,model2\\n\")"
   ]
  },
  {
   "cell_type": "markdown",
   "id": "2b3768ab",
   "metadata": {},
   "source": [
    "# Neighbor function"
   ]
  },
  {
   "cell_type": "code",
   "execution_count": 12,
   "id": "6d5a0659",
   "metadata": {},
   "outputs": [],
   "source": [
    "def neighbor_part(model, X, idxs, w):\n",
    "    preds = model(torch.from_numpy(X).float())\n",
    "    preds = pd.DataFrame(np.array(preds.detach())).set_index(idxs)\n",
    "    \n",
    "    neighbors = [w.neighbors[x] for x in idxs]\n",
    "    transitions = [preds.loc[x].values for x in neighbors]\n",
    "\n",
    "\n",
    "\n",
    "    n_function = np.zeros((len(preds), w.max_neighbors + 1))\n",
    "    for i, (t, idx) in enumerate(zip(transitions, idxs)):\n",
    "        n_function[i, 1:len(t) + 1] = t.squeeze()\n",
    "        n_function[i, 0] = preds.loc[idx]\n",
    "        \n",
    "    return n_function"
   ]
  },
  {
   "cell_type": "code",
   "execution_count": 13,
   "id": "169162ae",
   "metadata": {},
   "outputs": [
    {
     "ename": "NameError",
     "evalue": "name 'models' is not defined",
     "output_type": "error",
     "traceback": [
      "\u001b[1;31m---------------------------------------------------------------------------\u001b[0m",
      "\u001b[1;31mNameError\u001b[0m                                 Traceback (most recent call last)",
      "\u001b[1;32mC:\\Users\\GEBRUI~1\\AppData\\Local\\Temp/ipykernel_11852/3603479309.py\u001b[0m in \u001b[0;36m<module>\u001b[1;34m\u001b[0m\n\u001b[0;32m      2\u001b[0m \u001b[0mw16\u001b[0m \u001b[1;33m=\u001b[0m \u001b[0mlibpysal\u001b[0m\u001b[1;33m.\u001b[0m\u001b[0mweights\u001b[0m\u001b[1;33m.\u001b[0m\u001b[0mDistanceBand\u001b[0m\u001b[1;33m.\u001b[0m\u001b[0mfrom_dataframe\u001b[0m\u001b[1;33m(\u001b[0m\u001b[0mdf16\u001b[0m\u001b[1;33m,\u001b[0m \u001b[0mthreshold\u001b[0m\u001b[1;33m=\u001b[0m\u001b[1;36m150\u001b[0m\u001b[1;33m,\u001b[0m \u001b[0mbinary\u001b[0m \u001b[1;33m=\u001b[0m \u001b[1;32mTrue\u001b[0m\u001b[1;33m,\u001b[0m \u001b[0msilence_warnings\u001b[0m \u001b[1;33m=\u001b[0m \u001b[1;32mTrue\u001b[0m\u001b[1;33m)\u001b[0m\u001b[1;33m\u001b[0m\u001b[1;33m\u001b[0m\u001b[0m\n\u001b[0;32m      3\u001b[0m \u001b[1;33m\u001b[0m\u001b[0m\n\u001b[1;32m----> 4\u001b[1;33m \u001b[1;32mfor\u001b[0m \u001b[0mmod\u001b[0m \u001b[1;32min\u001b[0m \u001b[0mmodels\u001b[0m\u001b[1;33m:\u001b[0m\u001b[1;33m\u001b[0m\u001b[1;33m\u001b[0m\u001b[0m\n\u001b[0m\u001b[0;32m      5\u001b[0m     \u001b[0mhists\u001b[0m \u001b[1;33m=\u001b[0m \u001b[0mtrain_model\u001b[0m\u001b[1;33m(\u001b[0m\u001b[0mmod\u001b[0m\u001b[1;33m,\u001b[0m \u001b[0mx_train\u001b[0m\u001b[1;33m,\u001b[0m \u001b[0my_train\u001b[0m\u001b[1;33m,\u001b[0m \u001b[0mX_val\u001b[0m\u001b[1;33m,\u001b[0m \u001b[0mY_val\u001b[0m\u001b[1;33m,\u001b[0m \u001b[1;36m250\u001b[0m\u001b[1;33m)\u001b[0m\u001b[1;33m\u001b[0m\u001b[1;33m\u001b[0m\u001b[0m\n\u001b[0;32m      6\u001b[0m     \u001b[0mn_function\u001b[0m \u001b[1;33m=\u001b[0m \u001b[0mneighbor_part\u001b[0m\u001b[1;33m(\u001b[0m\u001b[0mmod\u001b[0m\u001b[1;33m,\u001b[0m \u001b[0mX_train\u001b[0m\u001b[1;33m,\u001b[0m \u001b[0mdf15\u001b[0m\u001b[1;33m.\u001b[0m\u001b[0mindex\u001b[0m\u001b[1;33m,\u001b[0m \u001b[0mw15\u001b[0m\u001b[1;33m)\u001b[0m\u001b[1;33m\u001b[0m\u001b[1;33m\u001b[0m\u001b[0m\n",
      "\u001b[1;31mNameError\u001b[0m: name 'models' is not defined"
     ]
    }
   ],
   "source": [
    "w15 = libpysal.weights.DistanceBand.from_dataframe(df15, threshold=150, binary = True, silence_warnings = True)\n",
    "w16 = libpysal.weights.DistanceBand.from_dataframe(df16, threshold=150, binary = True, silence_warnings = True)\n",
    "\n",
    "for mod in models:\n",
    "    hists = train_model(mod, x_train, y_train, X_val, Y_val, 250)\n",
    "    n_function = neighbor_part(mod, X_train, df15.index, w15)\n",
    "        \n",
    "    oversample = SMOTE()\n",
    "    x, y = oversample.fit_resample(n_function, Y_train)\n",
    "\n",
    "    clf_bagger = RandomForestClassifier(max_depth = 12, oob_score = True)\n",
    "    clf_bagger.fit(x,y)\n",
    "    \n",
    "    n_function = neighbor_part(mod, X_val, df16.index, w16)\n",
    "    preds = clf_bagger.predict(n_function)\n",
    "    totacc = accuracy_score(Y_val, preds)\n",
    "    totf1 = f1_score(Y_val, preds)\n",
    "    totROC = roc_auc_score(Y_val, preds)\n",
    "    \n",
    "    \n",
    "    with open(\"../results/mlp/\" + mod.name + \".csv\", \"a+\") as f:\n",
    "        f.write(\"loss;acc;ROC;f1_score\\n\")\n",
    "        f.write(str(hists[2]) + \";\" + str(hists[0]) + \";\" + str(hists[1]) + \";\" + str(hists[3]) + \"\\n\")\n",
    "        f.write(\"--;\" + str(totacc) + \";\" + str(totROC) + \";\"  + str(totf1))\n",
    "    \n",
    "    \n",
    "    "
   ]
  },
  {
   "cell_type": "code",
   "execution_count": 246,
   "id": "70a9340f",
   "metadata": {},
   "outputs": [],
   "source": [
    "neighbor_part(model, X_train, df15.index, w15)"
   ]
  },
  {
   "cell_type": "code",
   "execution_count": 24,
   "id": "7d29f533",
   "metadata": {},
   "outputs": [
    {
     "data": {
      "text/plain": [
       "array([[-0.20477431, -0.06709367, -0.24659556, ...,  0.46299088,\n",
       "         0.45272231,  0.69077765],\n",
       "       [-0.20477431, -0.06709367, -0.24659556, ...,  0.2866995 ,\n",
       "         0.16036807, -0.03776353],\n",
       "       [-0.20477431, -0.06709367,  1.24801218, ...,  0.80675908,\n",
       "         0.81004415,  0.84689361],\n",
       "       ...,\n",
       "       [-0.20477431, -0.06709367, -0.24659556, ...,  0.68335511,\n",
       "         0.79380225,  0.11835244],\n",
       "       [-0.20477431, -0.06709367, -0.24659556, ...,  1.49870277,\n",
       "         1.28105931,  0.48262303],\n",
       "       [-0.20477431, -0.06709367, -0.24659556, ...,  1.30037496,\n",
       "         1.24857551,  0.11835244]])"
      ]
     },
     "execution_count": 24,
     "metadata": {},
     "output_type": "execute_result"
    }
   ],
   "source": [
    "X_val"
   ]
  },
  {
   "cell_type": "code",
   "execution_count": 281,
   "id": "619ce77a",
   "metadata": {},
   "outputs": [
    {
     "data": {
      "text/plain": [
       "([0.7477, 0.7461],\n",
       " [0.4551122194513716, 0.45591939546599497],\n",
       " [0.1489188086495308, 0.14661806399351965],\n",
       " [0.23744001984596252, 0.2417915314435959])"
      ]
     },
     "execution_count": 281,
     "metadata": {},
     "output_type": "execute_result"
    }
   ],
   "source": [
    "hists"
   ]
  },
  {
   "cell_type": "code",
   "execution_count": 257,
   "id": "6c189037",
   "metadata": {},
   "outputs": [
    {
     "data": {
      "text/plain": [
       "15948"
      ]
     },
     "execution_count": 257,
     "metadata": {},
     "output_type": "execute_result"
    }
   ],
   "source": [
    "np.sum(preds == 1)"
   ]
  },
  {
   "cell_type": "code",
   "execution_count": 165,
   "id": "4fc9de9b",
   "metadata": {},
   "outputs": [],
   "source": [
    "# X_train = torch.from_numpy(X_train).float()\n",
    "preds = model(X_train)"
   ]
  },
  {
   "cell_type": "code",
   "execution_count": 166,
   "id": "7edf9a2b",
   "metadata": {},
   "outputs": [],
   "source": [
    "w15 = libpysal.weights.DistanceBand.from_dataframe(df15, threshold=150, binary = True, silence_warnings = True)\n"
   ]
  },
  {
   "cell_type": "code",
   "execution_count": 167,
   "id": "4589a3f8",
   "metadata": {},
   "outputs": [],
   "source": [
    "import pandas as pd\n",
    "\n",
    "preds = pd.DataFrame(np.array(preds.detach())).set_index(df15.index)"
   ]
  },
  {
   "cell_type": "code",
   "execution_count": 168,
   "id": "3b0a18ab",
   "metadata": {},
   "outputs": [],
   "source": [
    "\n",
    "# preds = pd.DataFrame(np.array(preds.detach())).set_index(ID_train)\n",
    "neighbors = [w15.neighbors[x] for x in df15.index]\n",
    "transitions = [preds.loc[x].values for x in neighbors]\n",
    "\n",
    "\n",
    "\n",
    "n_function = np.zeros((len(preds), w15.max_neighbors + 1))\n",
    "for i, (t, idx) in enumerate(zip(transitions, df15.index)):\n",
    "    n_function[i, 1:len(t) + 1] = t.squeeze()\n",
    "    n_function[i, 0] = preds.loc[idx]"
   ]
  },
  {
   "cell_type": "code",
   "execution_count": 169,
   "id": "f78e226c",
   "metadata": {
    "scrolled": true
   },
   "outputs": [
    {
     "name": "stdout",
     "output_type": "stream",
     "text": [
      "Fitting 5 folds for each of 8 candidates, totalling 40 fits\n",
      "[CV 1/5] END .......max_depth=6, oob_score=True;, score=0.855 total time=   6.5s\n",
      "[CV 2/5] END .......max_depth=6, oob_score=True;, score=0.865 total time=   6.4s\n",
      "[CV 3/5] END .......max_depth=6, oob_score=True;, score=0.863 total time=   6.5s\n",
      "[CV 4/5] END .......max_depth=6, oob_score=True;, score=0.829 total time=   6.2s\n",
      "[CV 5/5] END .......max_depth=6, oob_score=True;, score=0.833 total time=   6.2s\n",
      "[CV 1/5] END ......max_depth=6, oob_score=False;, score=0.855 total time=   5.7s\n",
      "[CV 2/5] END ......max_depth=6, oob_score=False;, score=0.865 total time=   5.9s\n",
      "[CV 3/5] END ......max_depth=6, oob_score=False;, score=0.862 total time=   6.7s\n",
      "[CV 4/5] END ......max_depth=6, oob_score=False;, score=0.829 total time=   6.1s\n",
      "[CV 5/5] END ......max_depth=6, oob_score=False;, score=0.833 total time=   6.0s\n",
      "[CV 1/5] END .......max_depth=8, oob_score=True;, score=0.853 total time=   9.3s\n",
      "[CV 2/5] END .......max_depth=8, oob_score=True;, score=0.868 total time=   8.9s\n",
      "[CV 3/5] END .......max_depth=8, oob_score=True;, score=0.864 total time=   7.3s\n",
      "[CV 4/5] END .......max_depth=8, oob_score=True;, score=0.832 total time=   8.3s\n",
      "[CV 5/5] END .......max_depth=8, oob_score=True;, score=0.836 total time=   7.0s\n",
      "[CV 1/5] END ......max_depth=8, oob_score=False;, score=0.853 total time=   6.4s\n",
      "[CV 2/5] END ......max_depth=8, oob_score=False;, score=0.867 total time=   6.5s\n",
      "[CV 3/5] END ......max_depth=8, oob_score=False;, score=0.863 total time=   6.5s\n",
      "[CV 4/5] END ......max_depth=8, oob_score=False;, score=0.831 total time=   6.0s\n",
      "[CV 5/5] END ......max_depth=8, oob_score=False;, score=0.835 total time=   5.9s\n",
      "[CV 1/5] END ......max_depth=10, oob_score=True;, score=0.852 total time=   8.0s\n",
      "[CV 2/5] END ......max_depth=10, oob_score=True;, score=0.870 total time=   7.9s\n",
      "[CV 3/5] END ......max_depth=10, oob_score=True;, score=0.867 total time=   8.1s\n",
      "[CV 4/5] END ......max_depth=10, oob_score=True;, score=0.836 total time=   7.8s\n",
      "[CV 5/5] END ......max_depth=10, oob_score=True;, score=0.838 total time=   7.9s\n",
      "[CV 1/5] END .....max_depth=10, oob_score=False;, score=0.852 total time=   7.8s\n",
      "[CV 2/5] END .....max_depth=10, oob_score=False;, score=0.870 total time=   8.7s\n",
      "[CV 3/5] END .....max_depth=10, oob_score=False;, score=0.867 total time=   8.0s\n",
      "[CV 4/5] END .....max_depth=10, oob_score=False;, score=0.835 total time=   9.2s\n",
      "[CV 5/5] END .....max_depth=10, oob_score=False;, score=0.839 total time=   7.1s\n",
      "[CV 1/5] END ......max_depth=12, oob_score=True;, score=0.852 total time=   9.3s\n",
      "[CV 2/5] END ......max_depth=12, oob_score=True;, score=0.873 total time=   9.1s\n",
      "[CV 3/5] END ......max_depth=12, oob_score=True;, score=0.870 total time=   9.1s\n",
      "[CV 4/5] END ......max_depth=12, oob_score=True;, score=0.840 total time=   8.8s\n",
      "[CV 5/5] END ......max_depth=12, oob_score=True;, score=0.844 total time=   9.0s\n",
      "[CV 1/5] END .....max_depth=12, oob_score=False;, score=0.853 total time=   8.4s\n",
      "[CV 2/5] END .....max_depth=12, oob_score=False;, score=0.872 total time=   8.4s\n",
      "[CV 3/5] END .....max_depth=12, oob_score=False;, score=0.872 total time=   8.2s\n",
      "[CV 4/5] END .....max_depth=12, oob_score=False;, score=0.841 total time=   8.1s\n",
      "[CV 5/5] END .....max_depth=12, oob_score=False;, score=0.844 total time=   8.1s\n"
     ]
    },
    {
     "data": {
      "text/plain": [
       "GridSearchCV(cv=5, estimator=RandomForestClassifier(),\n",
       "             param_grid={'max_depth': [6, 8, 10, 12],\n",
       "                         'oob_score': [True, False]},\n",
       "             scoring='balanced_accuracy', verbose=3)"
      ]
     },
     "execution_count": 169,
     "metadata": {},
     "output_type": "execute_result"
    }
   ],
   "source": [
    "params = {\"max_depth\": [12], \"oob_score\" : [True, False]}\n",
    "clf_bagger = GridSearchCV(RandomForestClassifier(), params, cv = 5, scoring = \"balanced_accuracy\",\n",
    "                               verbose = 3)\n",
    "clf_bagger = RandomForestClassifier(max_depth = 12, oob_score = True)\n",
    "oversample = SMOTE()\n",
    "x, y = oversample.fit_resample(n_function, Y_train)\n",
    "\n",
    "clf_bagger.fit(x,y)"
   ]
  },
  {
   "cell_type": "code",
   "execution_count": 170,
   "id": "08a83af4",
   "metadata": {
    "scrolled": true
   },
   "outputs": [
    {
     "data": {
      "text/plain": [
       "{'max_depth': 12, 'oob_score': False}"
      ]
     },
     "execution_count": 170,
     "metadata": {},
     "output_type": "execute_result"
    }
   ],
   "source": [
    "clf_bagger.best_params_"
   ]
  },
  {
   "cell_type": "code",
   "execution_count": 171,
   "id": "5248e2ae",
   "metadata": {},
   "outputs": [
    {
     "ename": "AttributeError",
     "evalue": "'DataFrame' object has no attribute 'detach'",
     "output_type": "error",
     "traceback": [
      "\u001b[1;31m---------------------------------------------------------------------------\u001b[0m",
      "\u001b[1;31mAttributeError\u001b[0m                            Traceback (most recent call last)",
      "\u001b[1;32mC:\\Users\\GEBRUI~1\\AppData\\Local\\Temp/ipykernel_9620/3511837816.py\u001b[0m in \u001b[0;36m<module>\u001b[1;34m\u001b[0m\n\u001b[1;32m----> 1\u001b[1;33m \u001b[0mnp\u001b[0m\u001b[1;33m.\u001b[0m\u001b[0marray\u001b[0m\u001b[1;33m(\u001b[0m\u001b[0mpreds\u001b[0m\u001b[1;33m.\u001b[0m\u001b[0mdetach\u001b[0m\u001b[1;33m(\u001b[0m\u001b[1;33m)\u001b[0m\u001b[1;33m)\u001b[0m\u001b[1;33m\u001b[0m\u001b[1;33m\u001b[0m\u001b[0m\n\u001b[0m",
      "\u001b[1;32m~\\anaconda3\\lib\\site-packages\\pandas\\core\\generic.py\u001b[0m in \u001b[0;36m__getattr__\u001b[1;34m(self, name)\u001b[0m\n\u001b[0;32m   5485\u001b[0m         ):\n\u001b[0;32m   5486\u001b[0m             \u001b[1;32mreturn\u001b[0m \u001b[0mself\u001b[0m\u001b[1;33m[\u001b[0m\u001b[0mname\u001b[0m\u001b[1;33m]\u001b[0m\u001b[1;33m\u001b[0m\u001b[1;33m\u001b[0m\u001b[0m\n\u001b[1;32m-> 5487\u001b[1;33m         \u001b[1;32mreturn\u001b[0m \u001b[0mobject\u001b[0m\u001b[1;33m.\u001b[0m\u001b[0m__getattribute__\u001b[0m\u001b[1;33m(\u001b[0m\u001b[0mself\u001b[0m\u001b[1;33m,\u001b[0m \u001b[0mname\u001b[0m\u001b[1;33m)\u001b[0m\u001b[1;33m\u001b[0m\u001b[1;33m\u001b[0m\u001b[0m\n\u001b[0m\u001b[0;32m   5488\u001b[0m \u001b[1;33m\u001b[0m\u001b[0m\n\u001b[0;32m   5489\u001b[0m     \u001b[1;32mdef\u001b[0m \u001b[0m__setattr__\u001b[0m\u001b[1;33m(\u001b[0m\u001b[0mself\u001b[0m\u001b[1;33m,\u001b[0m \u001b[0mname\u001b[0m\u001b[1;33m:\u001b[0m \u001b[0mstr\u001b[0m\u001b[1;33m,\u001b[0m \u001b[0mvalue\u001b[0m\u001b[1;33m)\u001b[0m \u001b[1;33m->\u001b[0m \u001b[1;32mNone\u001b[0m\u001b[1;33m:\u001b[0m\u001b[1;33m\u001b[0m\u001b[1;33m\u001b[0m\u001b[0m\n",
      "\u001b[1;31mAttributeError\u001b[0m: 'DataFrame' object has no attribute 'detach'"
     ]
    }
   ],
   "source": [
    "np.array(preds.detach())"
   ]
  },
  {
   "cell_type": "code",
   "execution_count": 173,
   "id": "b249875f",
   "metadata": {},
   "outputs": [],
   "source": [
    "# X_val = torch.from_numpy(X_val).float()\n",
    "preds = model(X_val)"
   ]
  },
  {
   "cell_type": "code",
   "execution_count": 174,
   "id": "91e2c519",
   "metadata": {},
   "outputs": [],
   "source": [
    "w16 = libpysal.weights.DistanceBand.from_dataframe(df16, threshold=150, binary = True, silence_warnings = True)\n"
   ]
  },
  {
   "cell_type": "code",
   "execution_count": 175,
   "id": "49d94624",
   "metadata": {},
   "outputs": [],
   "source": [
    "preds = pd.DataFrame(np.array(preds.detach())).set_index(df16.index)\n",
    "neighbors = [w16.neighbors[x] for x in df16.index]\n",
    "transitions = [preds.loc[x].values for x in neighbors]\n",
    "\n",
    "\n",
    "\n",
    "n_function = np.zeros((len(preds), w16.max_neighbors + 1))\n",
    "for i, (t, idx) in enumerate(zip(transitions, df16.index)):\n",
    "    n_function[i, 1:len(t) + 1] = t.squeeze()\n",
    "    n_function[i, 0] = preds.loc[idx]"
   ]
  },
  {
   "cell_type": "code",
   "execution_count": 176,
   "id": "ee759569",
   "metadata": {},
   "outputs": [],
   "source": [
    "preds = clf_bagger.predict(n_function)"
   ]
  },
  {
   "cell_type": "code",
   "execution_count": 177,
   "id": "0f66f06c",
   "metadata": {},
   "outputs": [
    {
     "data": {
      "text/plain": [
       "57050"
      ]
     },
     "execution_count": 177,
     "metadata": {},
     "output_type": "execute_result"
    }
   ],
   "source": [
    "len(neighbors)"
   ]
  },
  {
   "cell_type": "code",
   "execution_count": null,
   "id": "a5d8c62a",
   "metadata": {},
   "outputs": [],
   "source": []
  },
  {
   "cell_type": "code",
   "execution_count": 178,
   "id": "71e36a83",
   "metadata": {},
   "outputs": [
    {
     "data": {
      "text/plain": [
       "0.5819144337554594"
      ]
     },
     "execution_count": 178,
     "metadata": {},
     "output_type": "execute_result"
    }
   ],
   "source": [
    "clf_bagger.score(n_function, Y_val)"
   ]
  },
  {
   "cell_type": "code",
   "execution_count": 179,
   "id": "708da41b",
   "metadata": {},
   "outputs": [
    {
     "data": {
      "text/plain": [
       "0.3210421726650475"
      ]
     },
     "execution_count": 179,
     "metadata": {},
     "output_type": "execute_result"
    }
   ],
   "source": [
    "recall_score(Y_val, preds)"
   ]
  },
  {
   "cell_type": "code",
   "execution_count": 180,
   "id": "4d5b6b50",
   "metadata": {},
   "outputs": [
    {
     "data": {
      "text/plain": [
       "0.14972711358253527"
      ]
     },
     "execution_count": 180,
     "metadata": {},
     "output_type": "execute_result"
    }
   ],
   "source": [
    "precision_score(Y_val, preds)"
   ]
  },
  {
   "cell_type": "code",
   "execution_count": 246,
   "id": "653623ba",
   "metadata": {},
   "outputs": [
    {
     "data": {
      "text/plain": [
       "4529"
      ]
     },
     "execution_count": 246,
     "metadata": {},
     "output_type": "execute_result"
    }
   ],
   "source": [
    "(Y_val == 1).sum()"
   ]
  },
  {
   "cell_type": "markdown",
   "id": "785763ff",
   "metadata": {},
   "source": [
    "# No bagger on the end"
   ]
  },
  {
   "cell_type": "code",
   "execution_count": 277,
   "id": "efe1d495",
   "metadata": {},
   "outputs": [],
   "source": [
    "preds = pd.DataFrame(np.array(preds.detach())).set_index(ID_val)"
   ]
  },
  {
   "cell_type": "code",
   "execution_count": 279,
   "id": "ba4f5668",
   "metadata": {},
   "outputs": [],
   "source": [
    "preds[\"y\"] = Y_val"
   ]
  },
  {
   "cell_type": "code",
   "execution_count": 280,
   "id": "da369a99",
   "metadata": {},
   "outputs": [],
   "source": [
    "preds = preds.sort_values(by=[0], ascending = False)"
   ]
  },
  {
   "cell_type": "code",
   "execution_count": 281,
   "id": "2288054e",
   "metadata": {},
   "outputs": [
    {
     "data": {
      "text/html": [
       "<div>\n",
       "<style scoped>\n",
       "    .dataframe tbody tr th:only-of-type {\n",
       "        vertical-align: middle;\n",
       "    }\n",
       "\n",
       "    .dataframe tbody tr th {\n",
       "        vertical-align: top;\n",
       "    }\n",
       "\n",
       "    .dataframe thead th {\n",
       "        text-align: right;\n",
       "    }\n",
       "</style>\n",
       "<table border=\"1\" class=\"dataframe\">\n",
       "  <thead>\n",
       "    <tr style=\"text-align: right;\">\n",
       "      <th></th>\n",
       "      <th>0</th>\n",
       "      <th>y</th>\n",
       "    </tr>\n",
       "  </thead>\n",
       "  <tbody>\n",
       "    <tr>\n",
       "      <th>3699708.0</th>\n",
       "      <td>9.999919e-01</td>\n",
       "      <td>0.0</td>\n",
       "    </tr>\n",
       "    <tr>\n",
       "      <th>2206980.0</th>\n",
       "      <td>9.999806e-01</td>\n",
       "      <td>0.0</td>\n",
       "    </tr>\n",
       "    <tr>\n",
       "      <th>2206983.0</th>\n",
       "      <td>9.999349e-01</td>\n",
       "      <td>0.0</td>\n",
       "    </tr>\n",
       "    <tr>\n",
       "      <th>2206982.0</th>\n",
       "      <td>9.999343e-01</td>\n",
       "      <td>0.0</td>\n",
       "    </tr>\n",
       "    <tr>\n",
       "      <th>2210563.0</th>\n",
       "      <td>9.999300e-01</td>\n",
       "      <td>0.0</td>\n",
       "    </tr>\n",
       "    <tr>\n",
       "      <th>...</th>\n",
       "      <td>...</td>\n",
       "      <td>...</td>\n",
       "    </tr>\n",
       "    <tr>\n",
       "      <th>2654130.0</th>\n",
       "      <td>3.897061e-21</td>\n",
       "      <td>0.0</td>\n",
       "    </tr>\n",
       "    <tr>\n",
       "      <th>2113362.0</th>\n",
       "      <td>1.054448e-21</td>\n",
       "      <td>0.0</td>\n",
       "    </tr>\n",
       "    <tr>\n",
       "      <th>3705586.0</th>\n",
       "      <td>2.995088e-22</td>\n",
       "      <td>0.0</td>\n",
       "    </tr>\n",
       "    <tr>\n",
       "      <th>3703981.0</th>\n",
       "      <td>6.478963e-23</td>\n",
       "      <td>0.0</td>\n",
       "    </tr>\n",
       "    <tr>\n",
       "      <th>2116824.0</th>\n",
       "      <td>9.653986e-25</td>\n",
       "      <td>1.0</td>\n",
       "    </tr>\n",
       "  </tbody>\n",
       "</table>\n",
       "<p>57050 rows × 2 columns</p>\n",
       "</div>"
      ],
      "text/plain": [
       "                      0    y\n",
       "3699708.0  9.999919e-01  0.0\n",
       "2206980.0  9.999806e-01  0.0\n",
       "2206983.0  9.999349e-01  0.0\n",
       "2206982.0  9.999343e-01  0.0\n",
       "2210563.0  9.999300e-01  0.0\n",
       "...                 ...  ...\n",
       "2654130.0  3.897061e-21  0.0\n",
       "2113362.0  1.054448e-21  0.0\n",
       "3705586.0  2.995088e-22  0.0\n",
       "3703981.0  6.478963e-23  0.0\n",
       "2116824.0  9.653986e-25  1.0\n",
       "\n",
       "[57050 rows x 2 columns]"
      ]
     },
     "execution_count": 281,
     "metadata": {},
     "output_type": "execute_result"
    }
   ],
   "source": [
    "preds"
   ]
  },
  {
   "cell_type": "code",
   "execution_count": 282,
   "id": "70c91604",
   "metadata": {},
   "outputs": [],
   "source": [
    "preds[0].iloc[0:4529] = 1\n",
    "preds[0].iloc[4529:] = 0"
   ]
  },
  {
   "cell_type": "code",
   "execution_count": 283,
   "id": "4426a7b9",
   "metadata": {},
   "outputs": [
    {
     "data": {
      "text/plain": [
       "0.17244424817840584"
      ]
     },
     "execution_count": 283,
     "metadata": {},
     "output_type": "execute_result"
    }
   ],
   "source": [
    "recall_score(preds[\"y\"], preds[0])\n"
   ]
  },
  {
   "cell_type": "code",
   "execution_count": 284,
   "id": "e2e24821",
   "metadata": {},
   "outputs": [
    {
     "data": {
      "text/plain": [
       "0.17244424817840584"
      ]
     },
     "execution_count": 284,
     "metadata": {},
     "output_type": "execute_result"
    }
   ],
   "source": [
    "precision_score(preds[\"y\"], preds[0])"
   ]
  }
 ],
 "metadata": {
  "kernelspec": {
   "display_name": "Python 3 (ipykernel)",
   "language": "python",
   "name": "python3"
  },
  "language_info": {
   "codemirror_mode": {
    "name": "ipython",
    "version": 3
   },
   "file_extension": ".py",
   "mimetype": "text/x-python",
   "name": "python",
   "nbconvert_exporter": "python",
   "pygments_lexer": "ipython3",
   "version": "3.7.11"
  }
 },
 "nbformat": 4,
 "nbformat_minor": 5
}
