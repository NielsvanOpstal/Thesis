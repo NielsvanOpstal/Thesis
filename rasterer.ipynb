{
 "cells": [
  {
   "cell_type": "markdown",
   "id": "3c5d0b5c",
   "metadata": {},
   "source": [
    "# Create numpy grid for training for example CNNs"
   ]
  },
  {
   "cell_type": "code",
   "execution_count": 3,
   "id": "46a048bd",
   "metadata": {},
   "outputs": [],
   "source": [
    "import geopandas as gpd\n",
    "import pandas as pd\n",
    "import shapely\n",
    "import numpy as np\n",
    "import pickle\n",
    "import os"
   ]
  },
  {
   "cell_type": "code",
   "execution_count": 2,
   "id": "914674b0",
   "metadata": {},
   "outputs": [],
   "source": [
    "# load cbs_od_koppel file\n",
    "with open('cbs_id_koppel.pickle', 'rb') as handle:\n",
    "    b = pickle.load(handle)"
   ]
  },
  {
   "cell_type": "code",
   "execution_count": 3,
   "id": "d932db8c",
   "metadata": {},
   "outputs": [],
   "source": [
    "br = pd.read_csv(\"../Data/filled/2015/Maastricht15_filled_.csv\", index_col = 0)\n",
    "br.geometry = br.geometry.apply(shapely.wkt.loads)\n",
    "br = br.set_geometry(\"geometry\")"
   ]
  },
  {
   "cell_type": "code",
   "execution_count": 4,
   "id": "37aba4d5",
   "metadata": {},
   "outputs": [
    {
     "data": {
      "text/plain": [
       "Index(['bijeenkomstfunctiesum', 'gezondheidszorgfunctiesum',\n",
       "       'industriefunctiesum', 'kantoorfunctiesum', 'logiesfunctiesum',\n",
       "       'onderwijsfunctiesum', 'sportfunctiesum', 'winkelfunctiesum',\n",
       "       'woonfunctiesum', 'oppervlakteVerblijfsobjectmean', 'inwoner_g',\n",
       "       'geboorte_g', 'inw_014_g', 'inw_1524_g', 'inw_2544_g', 'inw_4564_g',\n",
       "       'inw_65_g', 'p_western_g', 'p_nonWestern_g', 'p_buyhouses_g',\n",
       "       'p_rentals_g', 'p_socialHousing_g', 'medianIncome_g',\n",
       "       'avg_electricity_g', 'avg_gas_g', 'p_benefits_g', 'afs_haprak_g',\n",
       "       'afs_ziek_g', 'afs_superm_g', 'afs_vo_g', 'afs_oprit_g', 'afs_train_g',\n",
       "       'afs_transit_g', 'mean_WOZ', 'PLaagste40Inkomen', 'PHoogste20Inkomen',\n",
       "       'bouwjaarmean', 'bouwjaarmin', 'bouwjaarmax', 'C28992R100', 'geometry',\n",
       "       'y', 'BU_CODE'],\n",
       "      dtype='object')"
      ]
     },
     "execution_count": 4,
     "metadata": {},
     "output_type": "execute_result"
    }
   ],
   "source": [
    "br.columns"
   ]
  },
  {
   "cell_type": "code",
   "execution_count": 5,
   "id": "3dbeca6c",
   "metadata": {},
   "outputs": [],
   "source": [
    "br.C28992R100 = br.C28992R100.map(b) # change C28992code for id"
   ]
  },
  {
   "cell_type": "code",
   "execution_count": 6,
   "id": "43ec8969",
   "metadata": {},
   "outputs": [],
   "source": [
    "br = br.drop([\"BU_CODE\"], axis = 1)"
   ]
  },
  {
   "cell_type": "code",
   "execution_count": 7,
   "id": "597d28e9",
   "metadata": {},
   "outputs": [],
   "source": [
    "def to_np_grid(year, grid_size = 100):\n",
    "    for filename in os.listdir(\"../Data/filled/\" + str(year)):\n",
    "        print(filename.strip(\"_filled_.csv\"), year)\n",
    "\n",
    "        df = pd.read_csv(\"../Data/filled/{}/{}\".format(year, filename), index_col = 0)\n",
    "        df.geometry = df.geometry.apply(shapely.wkt.loads)\n",
    "        df = df.set_geometry(\"geometry\")\n",
    "        df.C28992R100 = df.C28992R100.map(b)\n",
    "        df = df.drop([\"BU_CODE\"], axis = 1)\n",
    "        \"\"\"\n",
    "        args: GeoDataFrame with geometry collumn\n",
    "        \"\"\"\n",
    "        minx = df.geometry.total_bounds[0]\n",
    "        miny = df.geometry.total_bounds[1]\n",
    "\n",
    "        # translate geometry so that left lower corner is 0,0\n",
    "        df[\"geometry\"] = df[\"geometry\"].translate(-minx, -miny)\n",
    "\n",
    "        # Get x,y,z shape of the df for the numpy zeros grid\n",
    "        x = int((df.total_bounds / 100)[2])\n",
    "        y = int((df.total_bounds / 100)[3])\n",
    "        z = df.shape[1] -1 # n collumns (- geometry column)\n",
    "        grid = np.zeros((x,y,z))\n",
    "\n",
    "        # loop over items in gpd dataframe and add data to the numpy grid\n",
    "        for _, i in df.iterrows(): \n",
    "            grid[int(i.geometry.bounds[0]/100), int(i.geometry.bounds[1]/100)] = i.drop(\"geometry\")\n",
    "\n",
    "        np.save(\"../Data/filled/grids/{}/{}\".format(year, filename.strip(\"_filled_.csv\")), grid)\n",
    "        "
   ]
  },
  {
   "cell_type": "code",
   "execution_count": 8,
   "id": "a33adb32",
   "metadata": {},
   "outputs": [
    {
     "name": "stdout",
     "output_type": "stream",
     "text": [
      "'s-Hertogenbosch15 2015\n",
      "Alkmaar15 2015\n",
      "Amersfoort15 2015\n",
      "Apeldoorn15 2015\n",
      "Breda15 2015\n",
      "Deventer15 2015\n",
      "ndhoven15 2015\n",
      "Enschede15 2015\n",
      "Heerenveen15 2015\n",
      "Leeuwarden15 2015\n",
      "Maastricht15 2015\n",
      "Nijmegen15 2015\n",
      "Tilburg15 2015\n",
      "Utrecht15 2015\n",
      "Venlovbo.csv15 2015\n",
      "Zwolle15 2015\n",
      "'s-Hertogenbosch16 2016\n",
      "Alkmaarvbo.csv16 2016\n",
      "Amersfoortvbo.csv16 2016\n",
      "Apeldoorn16 2016\n",
      "Breda16 2016\n",
      "Deventer16 2016\n",
      "ndhoven16 2016\n",
      "Enschede16 2016\n",
      "Heerenveen16 2016\n",
      "Leeuwardenvbo.csv16 2016\n",
      "Maastricht16 2016\n",
      "Nijmegen16 2016\n",
      "Tilburg16 2016\n",
      "Utrecht16 2016\n",
      "Venlovbo.csv16 2016\n",
      "Zwolle16 2016\n",
      "'s-Hertogenbosch17 2017\n",
      "Alkmaarvbo.csv17 2017\n",
      "Amersfoortvbo.csv17 2017\n",
      "Apeldoorn17 2017\n",
      "Breda17 2017\n",
      "Deventer17 2017\n",
      "ndhoven17 2017\n",
      "Enschede17 2017\n",
      "Heerenveen17 2017\n",
      "Leeuwardenvbo.csv17 2017\n",
      "Maastricht17 2017\n",
      "Nijmegen17 2017\n",
      "Tilburg17 2017\n",
      "Utrecht17 2017\n",
      "Venlovbo.csv17 2017\n",
      "Zwolle17 2017\n",
      "'s-Hertogenbosch18 2018\n",
      "Alkmaarvbo.csv18 2018\n",
      "Amersfoortvbo.csv18 2018\n",
      "Apeldoorn18 2018\n",
      "Breda18 2018\n",
      "Deventer18 2018\n",
      "ndhoven18 2018\n",
      "Enschede18 2018\n",
      "Heerenveen18 2018\n",
      "Leeuwardenvbo.csv18 2018\n",
      "Maastricht18 2018\n",
      "Nijmegen18 2018\n",
      "Tilburg18 2018\n",
      "Utrecht18 2018\n",
      "Venlovbo.csv18 2018\n",
      "Zwolle18 2018\n",
      "'s-Hertogenbosch19 2019\n",
      "Alkmaarvbo.csv19 2019\n",
      "Amersfoortvbo.csv19 2019\n",
      "Apeldoorn19 2019\n",
      "Breda19 2019\n",
      "Deventer19 2019\n",
      "ndhoven19 2019\n",
      "Enschede19 2019\n",
      "Heerenveen19 2019\n",
      "Leeuwardenvbo.csv19 2019\n",
      "Maastricht19 2019\n",
      "Nijmegen19 2019\n",
      "Tilburg19 2019\n",
      "Utrecht19 2019\n",
      "Venlovbo.csv19 2019\n",
      "Zwolle19 2019\n"
     ]
    }
   ],
   "source": [
    "for year in [2015,2016,2017,2018,2019]:\n",
    "    to_np_grid(year)\n"
   ]
  },
  {
   "cell_type": "code",
   "execution_count": 51,
   "id": "4f596cf2",
   "metadata": {},
   "outputs": [
    {
     "data": {
      "text/plain": [
       "114311"
      ]
     },
     "execution_count": 51,
     "metadata": {},
     "output_type": "execute_result"
    }
   ],
   "source": [
    "(grid!=0).sum()"
   ]
  },
  {
   "cell_type": "code",
   "execution_count": 52,
   "id": "c31fcf7f",
   "metadata": {},
   "outputs": [
    {
     "data": {
      "text/plain": [
       "(122, 103, 41)"
      ]
     },
     "execution_count": 52,
     "metadata": {},
     "output_type": "execute_result"
    }
   ],
   "source": [
    "grid.shape"
   ]
  },
  {
   "cell_type": "markdown",
   "id": "c5cda205",
   "metadata": {},
   "source": [
    "# #############################################\n",
    "\n",
    "create cbs C28992R100 to id file"
   ]
  },
  {
   "cell_type": "code",
   "execution_count": 232,
   "id": "255f7553",
   "metadata": {
    "collapsed": true
   },
   "outputs": [
    {
     "ename": "KeyboardInterrupt",
     "evalue": "",
     "output_type": "error",
     "traceback": [
      "\u001b[1;31m---------------------------------------------------------------------------\u001b[0m",
      "\u001b[1;31mKeyboardInterrupt\u001b[0m                         Traceback (most recent call last)",
      "\u001b[1;32mC:\\Users\\GEBRUI~1\\AppData\\Local\\Temp/ipykernel_17600/1472135648.py\u001b[0m in \u001b[0;36m<module>\u001b[1;34m\u001b[0m\n\u001b[1;32m----> 1\u001b[1;33m \u001b[0mvierkant\u001b[0m \u001b[1;33m=\u001b[0m \u001b[0mgpd\u001b[0m\u001b[1;33m.\u001b[0m\u001b[0mread_file\u001b[0m\u001b[1;33m(\u001b[0m\u001b[1;34m\"../Data/NLvierkant/NL_vierkant100m.shp\"\u001b[0m\u001b[1;33m)\u001b[0m\u001b[1;33m\u001b[0m\u001b[1;33m\u001b[0m\u001b[0m\n\u001b[0m",
      "\u001b[1;32m~\\anaconda3\\lib\\site-packages\\geopandas\\io\\file.py\u001b[0m in \u001b[0;36mread_file\u001b[1;34m(filename, bbox, **kwargs)\u001b[0m\n\u001b[0;32m     93\u001b[0m \u001b[1;33m\u001b[0m\u001b[0m\n\u001b[0;32m     94\u001b[0m             \u001b[0mcolumns\u001b[0m \u001b[1;33m=\u001b[0m \u001b[0mlist\u001b[0m\u001b[1;33m(\u001b[0m\u001b[0mfeatures\u001b[0m\u001b[1;33m.\u001b[0m\u001b[0mmeta\u001b[0m\u001b[1;33m[\u001b[0m\u001b[1;34m\"schema\"\u001b[0m\u001b[1;33m]\u001b[0m\u001b[1;33m[\u001b[0m\u001b[1;34m\"properties\"\u001b[0m\u001b[1;33m]\u001b[0m\u001b[1;33m)\u001b[0m \u001b[1;33m+\u001b[0m \u001b[1;33m[\u001b[0m\u001b[1;34m\"geometry\"\u001b[0m\u001b[1;33m]\u001b[0m\u001b[1;33m\u001b[0m\u001b[1;33m\u001b[0m\u001b[0m\n\u001b[1;32m---> 95\u001b[1;33m             \u001b[0mgdf\u001b[0m \u001b[1;33m=\u001b[0m \u001b[0mGeoDataFrame\u001b[0m\u001b[1;33m.\u001b[0m\u001b[0mfrom_features\u001b[0m\u001b[1;33m(\u001b[0m\u001b[0mf_filt\u001b[0m\u001b[1;33m,\u001b[0m \u001b[0mcrs\u001b[0m\u001b[1;33m=\u001b[0m\u001b[0mcrs\u001b[0m\u001b[1;33m,\u001b[0m \u001b[0mcolumns\u001b[0m\u001b[1;33m=\u001b[0m\u001b[0mcolumns\u001b[0m\u001b[1;33m)\u001b[0m\u001b[1;33m\u001b[0m\u001b[1;33m\u001b[0m\u001b[0m\n\u001b[0m\u001b[0;32m     96\u001b[0m \u001b[1;33m\u001b[0m\u001b[0m\n\u001b[0;32m     97\u001b[0m     \u001b[1;32mreturn\u001b[0m \u001b[0mgdf\u001b[0m\u001b[1;33m\u001b[0m\u001b[1;33m\u001b[0m\u001b[0m\n",
      "\u001b[1;32m~\\anaconda3\\lib\\site-packages\\geopandas\\geodataframe.py\u001b[0m in \u001b[0;36mfrom_features\u001b[1;34m(cls, features, crs, columns)\u001b[0m\n\u001b[0;32m    287\u001b[0m                 \u001b[0mf\u001b[0m \u001b[1;33m=\u001b[0m \u001b[0mf\u001b[0m\u001b[1;33m\u001b[0m\u001b[1;33m\u001b[0m\u001b[0m\n\u001b[0;32m    288\u001b[0m \u001b[1;33m\u001b[0m\u001b[0m\n\u001b[1;32m--> 289\u001b[1;33m             \u001b[0md\u001b[0m \u001b[1;33m=\u001b[0m \u001b[1;33m{\u001b[0m\u001b[1;34m\"geometry\"\u001b[0m\u001b[1;33m:\u001b[0m \u001b[0mshape\u001b[0m\u001b[1;33m(\u001b[0m\u001b[0mf\u001b[0m\u001b[1;33m[\u001b[0m\u001b[1;34m\"geometry\"\u001b[0m\u001b[1;33m]\u001b[0m\u001b[1;33m)\u001b[0m \u001b[1;32mif\u001b[0m \u001b[0mf\u001b[0m\u001b[1;33m[\u001b[0m\u001b[1;34m\"geometry\"\u001b[0m\u001b[1;33m]\u001b[0m \u001b[1;32melse\u001b[0m \u001b[1;32mNone\u001b[0m\u001b[1;33m}\u001b[0m\u001b[1;33m\u001b[0m\u001b[1;33m\u001b[0m\u001b[0m\n\u001b[0m\u001b[0;32m    290\u001b[0m             \u001b[0md\u001b[0m\u001b[1;33m.\u001b[0m\u001b[0mupdate\u001b[0m\u001b[1;33m(\u001b[0m\u001b[0mf\u001b[0m\u001b[1;33m[\u001b[0m\u001b[1;34m\"properties\"\u001b[0m\u001b[1;33m]\u001b[0m\u001b[1;33m)\u001b[0m\u001b[1;33m\u001b[0m\u001b[1;33m\u001b[0m\u001b[0m\n\u001b[0;32m    291\u001b[0m             \u001b[0mrows\u001b[0m\u001b[1;33m.\u001b[0m\u001b[0mappend\u001b[0m\u001b[1;33m(\u001b[0m\u001b[0md\u001b[0m\u001b[1;33m)\u001b[0m\u001b[1;33m\u001b[0m\u001b[1;33m\u001b[0m\u001b[0m\n",
      "\u001b[1;32m~\\anaconda3\\lib\\site-packages\\shapely\\geometry\\geo.py\u001b[0m in \u001b[0;36mshape\u001b[1;34m(context)\u001b[0m\n\u001b[0;32m     33\u001b[0m         \u001b[1;32mreturn\u001b[0m \u001b[0mLineString\u001b[0m\u001b[1;33m(\u001b[0m\u001b[0mob\u001b[0m\u001b[1;33m[\u001b[0m\u001b[1;34m\"coordinates\"\u001b[0m\u001b[1;33m]\u001b[0m\u001b[1;33m)\u001b[0m\u001b[1;33m\u001b[0m\u001b[1;33m\u001b[0m\u001b[0m\n\u001b[0;32m     34\u001b[0m     \u001b[1;32melif\u001b[0m \u001b[0mgeom_type\u001b[0m \u001b[1;33m==\u001b[0m \u001b[1;34m\"polygon\"\u001b[0m\u001b[1;33m:\u001b[0m\u001b[1;33m\u001b[0m\u001b[1;33m\u001b[0m\u001b[0m\n\u001b[1;32m---> 35\u001b[1;33m         \u001b[1;32mreturn\u001b[0m \u001b[0mPolygon\u001b[0m\u001b[1;33m(\u001b[0m\u001b[0mob\u001b[0m\u001b[1;33m[\u001b[0m\u001b[1;34m\"coordinates\"\u001b[0m\u001b[1;33m]\u001b[0m\u001b[1;33m[\u001b[0m\u001b[1;36m0\u001b[0m\u001b[1;33m]\u001b[0m\u001b[1;33m,\u001b[0m \u001b[0mob\u001b[0m\u001b[1;33m[\u001b[0m\u001b[1;34m\"coordinates\"\u001b[0m\u001b[1;33m]\u001b[0m\u001b[1;33m[\u001b[0m\u001b[1;36m1\u001b[0m\u001b[1;33m:\u001b[0m\u001b[1;33m]\u001b[0m\u001b[1;33m)\u001b[0m\u001b[1;33m\u001b[0m\u001b[1;33m\u001b[0m\u001b[0m\n\u001b[0m\u001b[0;32m     36\u001b[0m     \u001b[1;32melif\u001b[0m \u001b[0mgeom_type\u001b[0m \u001b[1;33m==\u001b[0m \u001b[1;34m\"multipoint\"\u001b[0m\u001b[1;33m:\u001b[0m\u001b[1;33m\u001b[0m\u001b[1;33m\u001b[0m\u001b[0m\n\u001b[0;32m     37\u001b[0m         \u001b[1;32mreturn\u001b[0m \u001b[0mMultiPoint\u001b[0m\u001b[1;33m(\u001b[0m\u001b[0mob\u001b[0m\u001b[1;33m[\u001b[0m\u001b[1;34m\"coordinates\"\u001b[0m\u001b[1;33m]\u001b[0m\u001b[1;33m)\u001b[0m\u001b[1;33m\u001b[0m\u001b[1;33m\u001b[0m\u001b[0m\n",
      "\u001b[1;32m~\\anaconda3\\lib\\site-packages\\shapely\\geometry\\polygon.py\u001b[0m in \u001b[0;36m__init__\u001b[1;34m(self, shell, holes)\u001b[0m\n\u001b[0;32m    238\u001b[0m \u001b[1;33m\u001b[0m\u001b[0m\n\u001b[0;32m    239\u001b[0m         \u001b[1;32mif\u001b[0m \u001b[0mshell\u001b[0m \u001b[1;32mis\u001b[0m \u001b[1;32mnot\u001b[0m \u001b[1;32mNone\u001b[0m\u001b[1;33m:\u001b[0m\u001b[1;33m\u001b[0m\u001b[1;33m\u001b[0m\u001b[0m\n\u001b[1;32m--> 240\u001b[1;33m             \u001b[0mret\u001b[0m \u001b[1;33m=\u001b[0m \u001b[0mgeos_polygon_from_py\u001b[0m\u001b[1;33m(\u001b[0m\u001b[0mshell\u001b[0m\u001b[1;33m,\u001b[0m \u001b[0mholes\u001b[0m\u001b[1;33m)\u001b[0m\u001b[1;33m\u001b[0m\u001b[1;33m\u001b[0m\u001b[0m\n\u001b[0m\u001b[0;32m    241\u001b[0m             \u001b[1;32mif\u001b[0m \u001b[0mret\u001b[0m \u001b[1;32mis\u001b[0m \u001b[1;32mnot\u001b[0m \u001b[1;32mNone\u001b[0m\u001b[1;33m:\u001b[0m\u001b[1;33m\u001b[0m\u001b[1;33m\u001b[0m\u001b[0m\n\u001b[0;32m    242\u001b[0m                 \u001b[0mself\u001b[0m\u001b[1;33m.\u001b[0m\u001b[0m_geom\u001b[0m\u001b[1;33m,\u001b[0m \u001b[0mself\u001b[0m\u001b[1;33m.\u001b[0m\u001b[0m_ndim\u001b[0m \u001b[1;33m=\u001b[0m \u001b[0mret\u001b[0m\u001b[1;33m\u001b[0m\u001b[1;33m\u001b[0m\u001b[0m\n",
      "\u001b[1;32m~\\anaconda3\\lib\\site-packages\\shapely\\geometry\\polygon.py\u001b[0m in \u001b[0;36mgeos_polygon_from_py\u001b[1;34m(shell, holes)\u001b[0m\n\u001b[0;32m    523\u001b[0m         return (\n\u001b[0;32m    524\u001b[0m             lgeos.GEOSGeom_createPolygon(\n\u001b[1;32m--> 525\u001b[1;33m                 c_void_p(geos_shell), geos_holes, L), ndim)\n\u001b[0m",
      "\u001b[1;31mKeyboardInterrupt\u001b[0m: "
     ]
    }
   ],
   "source": [
    "vierkant = gpd.read_file(\"../Data/NLvierkant/NL_vierkant100m.shp\")"
   ]
  },
  {
   "cell_type": "code",
   "execution_count": 174,
   "id": "147a2f01",
   "metadata": {},
   "outputs": [
    {
     "data": {
      "text/plain": [
       "array([      0,       1,       2, ..., 3723285, 3723286, 3723287],\n",
       "      dtype=int64)"
      ]
     },
     "execution_count": 174,
     "metadata": {},
     "output_type": "execute_result"
    }
   ],
   "source": [
    "vierkant.reset_index().rename(columns = {\"index\" : \"id\"}).id.values"
   ]
  },
  {
   "cell_type": "code",
   "execution_count": 193,
   "id": "f6d617c9",
   "metadata": {},
   "outputs": [],
   "source": [
    "zip_iterator = zip(vierkant.reset_index().rename(columns = {\"index\" : \"id\"}).C28992R100.values, vierkant.reset_index().rename(columns = {\"index\" : \"id\"}).id.values)"
   ]
  },
  {
   "cell_type": "code",
   "execution_count": 194,
   "id": "9681808b",
   "metadata": {},
   "outputs": [],
   "source": [
    "cbs_vierkant_dict = dict(zip_iterator)"
   ]
  },
  {
   "cell_type": "code",
   "execution_count": 200,
   "id": "5f4c27e5",
   "metadata": {},
   "outputs": [],
   "source": [
    "br.C28992R100 = br.C28992R100.map(cbs_vierkant_dict)"
   ]
  },
  {
   "cell_type": "code",
   "execution_count": 198,
   "id": "cc5f629e",
   "metadata": {},
   "outputs": [
    {
     "data": {
      "text/plain": [
       "'E1824N3269'"
      ]
     },
     "execution_count": 198,
     "metadata": {},
     "output_type": "execute_result"
    }
   ],
   "source": [
    "br.C28992R100.iloc[0]"
   ]
  },
  {
   "cell_type": "code",
   "execution_count": 204,
   "id": "cbe787fe",
   "metadata": {},
   "outputs": [],
   "source": [
    "with open('cbs_id_koppel.pickle', 'wb') as f:\n",
    "    # Pickle the 'data' dictionary using the highest protocol available.\n",
    "    pickle.dump(cbs_vierkant_dict, f, pickle.HIGHEST_PROTOCOL)"
   ]
  },
  {
   "cell_type": "code",
   "execution_count": 1,
   "id": "ff6b08ac",
   "metadata": {},
   "outputs": [],
   "source": [
    "def load_data(year):\n",
    "    os.getcwd()\n",
    "    df = pd.DataFrame()\n",
    "    path = \"../Data/filled/\" + str(year) + \"/\"\n",
    "    for filename in os.listdir(path):\n",
    "        df1 = pd.read_csv(path + filename)\n",
    "        if df1.geometry.isna().any():\n",
    "            print(filename)\n",
    "        df = pd.concat([df, df1])\n",
    "    df = gpd.GeoDataFrame(df)\n",
    "    df.geometry = df.geometry.apply(shapely.wkt.loads)\n",
    "    \n",
    "    df = df.reset_index()\n",
    "    df = df.drop([\"Unnamed: 0\", \"index\"], axis = 1)\n",
    "    return df"
   ]
  },
  {
   "cell_type": "code",
   "execution_count": 7,
   "id": "1e7cae82",
   "metadata": {},
   "outputs": [],
   "source": [
    "import libpysal"
   ]
  },
  {
   "cell_type": "code",
   "execution_count": 4,
   "id": "c0c51665",
   "metadata": {},
   "outputs": [],
   "source": [
    "df15 = load_data(2015)\n",
    "df16 = load_data(2016)\n",
    "df17 = load_data(2017)\n",
    "df18 = load_data(2018)\n",
    "df19 = load_data(2019)"
   ]
  },
  {
   "cell_type": "code",
   "execution_count": 5,
   "id": "92c81ff8",
   "metadata": {},
   "outputs": [],
   "source": [
    "with open('cbs_id_koppel.pickle', 'rb') as handle:\n",
    "    b = pickle.load(handle)"
   ]
  },
  {
   "cell_type": "code",
   "execution_count": 8,
   "id": "67b392ca",
   "metadata": {},
   "outputs": [],
   "source": [
    "df15[\"id\"] = df15.C28992R100.map(b)\n",
    "df16[\"id\"] = df16.C28992R100.map(b)\n",
    "df17[\"id\"] = df17.C28992R100.map(b)\n",
    "df18[\"id\"] = df18.C28992R100.map(b)\n",
    "df19[\"id\"] = df19.C28992R100.map(b)\n",
    "\n",
    "df15 = df15.set_index(\"id\")\n",
    "df16 = df16.set_index(\"id\")\n",
    "df17 = df17.set_index(\"id\")\n",
    "df18 = df18.set_index(\"id\")\n",
    "df19 = df19.set_index(\"id\")\n",
    "\n",
    "w15 = libpysal.weights.DistanceBand.from_dataframe(df15, threshold=150, binary = True, silence_warnings = True)\n",
    "w16 = libpysal.weights.DistanceBand.from_dataframe(df16, threshold=150, binary = True, silence_warnings = True)\n",
    "w17 = libpysal.weights.DistanceBand.from_dataframe(df17, threshold=150, binary = True, silence_warnings = True)\n",
    "w18 = libpysal.weights.DistanceBand.from_dataframe(df18, threshold=150, binary = True, silence_warnings = True)\n",
    "w19 = libpysal.weights.DistanceBand.from_dataframe(df19, threshold=150, binary = True, silence_warnings = True)"
   ]
  },
  {
   "cell_type": "code",
   "execution_count": 9,
   "id": "188a0319",
   "metadata": {},
   "outputs": [],
   "source": [
    "with open('w15.pickle', 'wb') as f:\n",
    "    # Pickle the 'data' dictionary using the highest protocol available.\n",
    "    pickle.dump(w15, f, pickle.HIGHEST_PROTOCOL)\n",
    "    \n",
    "with open('w16.pickle', 'wb') as f:\n",
    "    # Pickle the 'data' dictionary using the highest protocol available.\n",
    "    pickle.dump(w16, f, pickle.HIGHEST_PROTOCOL)\n",
    "    \n",
    "with open('w17.pickle', 'wb') as f:\n",
    "    # Pickle the 'data' dictionary using the highest protocol available.\n",
    "    pickle.dump(w17, f, pickle.HIGHEST_PROTOCOL)\n",
    "    \n",
    "with open('w18.pickle', 'wb') as f:\n",
    "    # Pickle the 'data' dictionary using the highest protocol available.\n",
    "    pickle.dump(w18, f, pickle.HIGHEST_PROTOCOL)\n",
    "    \n",
    "with open('w19.pickle', 'wb') as f:\n",
    "    # Pickle the 'data' dictionary using the highest protocol available.\n",
    "    pickle.dump(w19, f, pickle.HIGHEST_PROTOCOL)"
   ]
  }
 ],
 "metadata": {
  "kernelspec": {
   "display_name": "Python 3 (ipykernel)",
   "language": "python",
   "name": "python3"
  },
  "language_info": {
   "codemirror_mode": {
    "name": "ipython",
    "version": 3
   },
   "file_extension": ".py",
   "mimetype": "text/x-python",
   "name": "python",
   "nbconvert_exporter": "python",
   "pygments_lexer": "ipython3",
   "version": "3.7.11"
  }
 },
 "nbformat": 4,
 "nbformat_minor": 5
}
