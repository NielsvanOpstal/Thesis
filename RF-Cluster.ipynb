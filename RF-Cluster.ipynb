{
 "cells": [
  {
   "cell_type": "code",
   "execution_count": 22,
   "id": "25a85320",
   "metadata": {},
   "outputs": [],
   "source": [
    "import pandas as pd\n",
    "import geopandas as gpd\n",
    "import numpy as np\n",
    "import shapely\n",
    "import libpysal\n",
    "from sklearn.model_selection import train_test_split, GridSearchCV\n",
    "import os\n",
    "from sklearn.metrics import ConfusionMatrixDisplay\n",
    "from sklearn.preprocessing import Normalizer\n",
    "from sklearn.neural_network import MLPClassifier\n",
    "from sklearn.metrics import roc_auc_score, f1_score, recall_score, precision_score\n",
    "from sklearn.ensemble import RandomForestClassifier\n",
    "import matplotlib.pyplot as plt\n",
    "from sklearn.svm import SVC\n",
    "import pickle\n",
    "from sklearn.cluster import KMeans\n",
    "from sklearn.preprocessing import StandardScaler\n",
    "from collections import Counter"
   ]
  },
  {
   "cell_type": "code",
   "execution_count": 23,
   "id": "c9cc2919",
   "metadata": {},
   "outputs": [],
   "source": [
    "from imblearn.over_sampling import SMOTE, ADASYN\n",
    "from imblearn.combine import SMOTEENN\n",
    "from imblearn.under_sampling import RandomUnderSampler\n",
    "from imblearn.pipeline import Pipeline"
   ]
  },
  {
   "cell_type": "code",
   "execution_count": 24,
   "id": "2e01c716",
   "metadata": {},
   "outputs": [],
   "source": [
    "rng = np.random.default_rng()"
   ]
  },
  {
   "cell_type": "code",
   "execution_count": 44,
   "id": "001d36f9",
   "metadata": {},
   "outputs": [],
   "source": [
    "def load_data(year):\n",
    "    os.getcwd()\n",
    "    df = pd.DataFrame()\n",
    "    path = \"../Data/filled/\" + str(year) + \"/\"\n",
    "    for filename in os.listdir(path):\n",
    "        print(filename)\n",
    "        df1 = pd.read_csv(path + filename)\n",
    "        if df1.geometry.isna().any():\n",
    "            print(filename)\n",
    "        df = pd.concat([df, df1])\n",
    "        \n",
    "    df = gpd.GeoDataFrame(df)\n",
    "    df.geometry = df.geometry.apply(shapely.wkt.loads)\n",
    "#     df.plot(figsize = (40,40), column = \"y\")\n",
    "#     plt.show()\n",
    "    df = df.reset_index()\n",
    "    df = df.drop([\"Unnamed: 0\", \"index\"], axis = 1)\n",
    "    return df "
   ]
  },
  {
   "cell_type": "code",
   "execution_count": 45,
   "id": "f113b568",
   "metadata": {},
   "outputs": [
    {
     "name": "stdout",
     "output_type": "stream",
     "text": [
      "eindhoven17.csv_filled_.csv\n",
      "eindhoven18.csv_filled_.csv\n",
      "eindhoven19.csv_filled_.csv\n"
     ]
    }
   ],
   "source": [
    "# df15 = load_data(2015)\n",
    "# df16 = load_data(2016)\n",
    "df17 = load_data(2017)\n",
    "df18 = load_data(2018)\n",
    "df19 = load_data(2019)"
   ]
  },
  {
   "cell_type": "code",
   "execution_count": 46,
   "id": "8ed0f732",
   "metadata": {},
   "outputs": [
    {
     "data": {
      "text/plain": [
       "(6174, 44)"
      ]
     },
     "execution_count": 46,
     "metadata": {},
     "output_type": "execute_result"
    }
   ],
   "source": [
    "df19.shape"
   ]
  },
  {
   "cell_type": "code",
   "execution_count": 27,
   "id": "08c407e0",
   "metadata": {},
   "outputs": [],
   "source": [
    "X_train = df17[df17.columns[:-5]]\n",
    "X_val = df18[df18.columns[:-5]]\n",
    "X_test = df19[df19.columns[:-5]]"
   ]
  },
  {
   "cell_type": "code",
   "execution_count": 28,
   "id": "de4f4935",
   "metadata": {},
   "outputs": [],
   "source": [
    "scaler = StandardScaler()\n",
    "X_train = scaler.fit_transform(X_train)\n",
    "X_val = scaler.transform(X_val)\n",
    "X_test = scaler.transform(X_test)"
   ]
  },
  {
   "cell_type": "code",
   "execution_count": 35,
   "id": "3bc35887",
   "metadata": {},
   "outputs": [],
   "source": [
    "c = 2\n",
    "cluster_model = KMeans(n_clusters = c, random_state = 1)\n",
    "train_l = pd.DataFrame(cluster_model.fit_predict(X_train))\n",
    "val_l = pd.DataFrame(cluster_model.predict(X_val))\n",
    "test_l = pd.DataFrame(cluster_model.predict(X_test))"
   ]
  },
  {
   "cell_type": "code",
   "execution_count": 36,
   "id": "8f5abc94",
   "metadata": {},
   "outputs": [],
   "source": [
    "X_train = df17[df17.columns[:-5]]\n",
    "Y_train = df17.y\n",
    "Y1_train = df17[\"y-1\"]\n",
    "\n",
    "X_val = df18[df18.columns[:-5]]\n",
    "Y_val = df18.y\n",
    "Y1_val = df18[\"y-1\"]\n",
    "# weights\n",
    "wt = libpysal.weights.DistanceBand.from_dataframe(df17, threshold=150, binary = True, silence_warnings = True)\n",
    "wv = libpysal.weights.DistanceBand.from_dataframe(df18, threshold=150, binary = True, silence_warnings = True)"
   ]
  },
  {
   "cell_type": "code",
   "execution_count": 37,
   "id": "f735f47d",
   "metadata": {},
   "outputs": [],
   "source": [
    "X_test = df19[df19.columns[:-5]]\n",
    "Y_test = df19.y\n",
    "Y1_test = df19[\"y-1\"]\n",
    "# weights\n",
    "wtest = libpysal.weights.DistanceBand.from_dataframe(df19, threshold=150, binary = True, silence_warnings = True)"
   ]
  },
  {
   "cell_type": "code",
   "execution_count": 38,
   "id": "60305824",
   "metadata": {},
   "outputs": [
    {
     "data": {
      "text/plain": [
       "Counter({0: 1859, 1: 4315})"
      ]
     },
     "execution_count": 38,
     "metadata": {},
     "output_type": "execute_result"
    }
   ],
   "source": [
    "Counter(test_l[0])"
   ]
  },
  {
   "cell_type": "code",
   "execution_count": 39,
   "id": "143d82c8",
   "metadata": {},
   "outputs": [],
   "source": [
    "neighbors = [wv.neighbors[x] for x in wv.neighbors]  # ONly calculate Yt-1 val because at training it is just fitting the model\n",
    "Y1_val = np.array([Y1_val[x].sum() for x in neighbors])\n",
    "Y1_val[np.where(Y1_val == 0)[0]] = 0.5\n",
    "\n",
    "neighbors = [wtest.neighbors[x] for x in wtest.neighbors]  # ONly calculate Yt-1 val because at training it is just fitting the model\n",
    "Y1_test = np.array([Y1_test[x].sum() for x in neighbors])\n",
    "Y1_test[np.where(Y1_test == 0)[0]] = 0.5"
   ]
  },
  {
   "cell_type": "code",
   "execution_count": 40,
   "id": "4114c326",
   "metadata": {
    "scrolled": true
   },
   "outputs": [
    {
     "name": "stdout",
     "output_type": "stream",
     "text": [
      "2: train: Counter({1: 4062, 0: 2142}), val: Counter({1: 4129, 0: 2118})\n",
      "0 0.7057433463492272\n",
      "0 0.706499199936109\n",
      "0 0.711051435123518\n",
      "0 0.7115634189682172\n",
      "0 0.7118229762376747\n",
      "0 0.7127770631237575\n",
      "0 0.7156977954745762\n",
      "0 0.7166861096928953\n",
      "0 0.7180651859542438\n",
      "0 0.7191604605858009\n",
      "0 0.7194428360767491\n",
      "0 0.7203897922686161\n",
      "0 0.7217374934754148\n",
      "1 0.6673858452303129\n",
      "1 0.6675637727307874\n",
      "1 0.6677047967496819\n",
      "1 0.668911189135615\n",
      "1 0.6691923585190809\n",
      "1 0.6705766784054885\n",
      "1 0.6723054307866416\n",
      "2 0.6878201627367745 {0: [2, 0, 14, 12, 100], 1: [2, 1, 6, 4, 100]}\n"
     ]
    }
   ],
   "source": [
    "\n",
    "f1_hist = {}\n",
    "auc_hist = {}\n",
    "oversample = SMOTE()\n",
    "tot_result = {}\n",
    "param_hist = {}\n",
    "\n",
    "best_auc_total = 0\n",
    "best_f1_total = 0\n",
    "best_params_total = np.NaN\n",
    "\n",
    "\n",
    "print(\"{}: train: {}, val: {}\".format(c,Counter(train_l[0]), Counter(val_l[0])))\n",
    "\n",
    "auc_clust_hist = {}\n",
    "f1_clust_hist = {}\n",
    "clust_models = {}\n",
    "param_clust_hist = {}\n",
    "\n",
    "for clust in train_l[0].unique():\n",
    "    best_auc = 0\n",
    "    best_f1 = 0\n",
    "\n",
    "    # get X_train and Y_train in cluster\n",
    "    idxs = train_l[train_l[0]== clust].index\n",
    "    x = X_train.loc[idxs]\n",
    "    y = Y_train.loc[idxs]\n",
    "\n",
    "    if (y == 1).sum() > 10:\n",
    "        # oversample x and y\n",
    "        x, y = oversample.fit_resample(x, y)\n",
    "\n",
    "    idxs = val_l[val_l[0] == clust].index\n",
    "    xv = X_val.loc[idxs]\n",
    "    yv = Y_val.loc[idxs]\n",
    "    y1v = Y1_val[idxs]\n",
    "\n",
    "\n",
    "        # tune model for this cluster\n",
    "    for md in [2, 6, 10, 14, 18, 24, 32, 36]:\n",
    "        for ml in [2, 4, 7, 10, 12]:\n",
    "            for n_est in [100, 500, 750]:\n",
    "\n",
    "                tm = RandomForestClassifier(max_depth = md, max_leaf_nodes = ml,\n",
    "                                           n_estimators = n_est).fit(x,y) # fit model on cluster\n",
    "\n",
    "                # predict the transition probabilities of x_val in cluster\n",
    "                preds = tm.predict_proba(xv)[:,1] \n",
    "                # multiply with y(t-1)\n",
    "                preds *= y1v\n",
    "\n",
    "                # get the index of highest p's\n",
    "                idxs = preds.argsort()[-(yv == 1).sum() :]\n",
    "\n",
    "                # create result array, all zeros except 1 at highest p's\n",
    "                yhat = np.zeros(len(yv))\n",
    "                yhat[idxs] = 1 \n",
    "\n",
    "                # get auc, f1 and add to histories\n",
    "                auc = roc_auc_score(yv, preds)\n",
    "                f1 = f1_score(yv, yhat)\n",
    "\n",
    "#                     print(f1, auc)\n",
    "\n",
    "                # Check if this model predicts the cluster the best\n",
    "                if auc > best_auc:\n",
    "                    print(clust, auc)\n",
    "                    best_auc = auc\n",
    "                    best_f1 = f1\n",
    "                    param_clust_hist[clust] = [c, clust, md, ml, n_est,]\n",
    "                    clust_models[clust] = tm\n",
    "\n",
    "    # histories for this clust\n",
    "    auc_clust_hist[clust] = best_auc\n",
    "    f1_clust_hist[clust] = best_f1\n",
    "\n",
    "#         print(\"\\n\\n##################################################\\nbest auc: {}, best f1: {} of cluster {}. (n cluster: {})\\nparams: {}\\n####################################\".format(best_auc, best_f1, clust, c, param_clust_hist))\n",
    "\n",
    "avg_auc = 0\n",
    "avg_f1 = 0\n",
    "predictions = np.zeros(len(Y_val))\n",
    "# get metrics val set total\n",
    "for clust in train_l[0].unique():\n",
    "\n",
    "    idxs = val_l[val_l[0] == clust].index\n",
    "    xv = X_val.loc[idxs]\n",
    "    yv = Y_val.loc[idxs]\n",
    "    y1v = Y1_val[idxs]\n",
    "\n",
    "    # get best model for cluster\n",
    "    tm = clust_models[clust]\n",
    "\n",
    "    # predict cluster and multiply\n",
    "    preds = tm.predict_proba(xv)[:,1] \n",
    "    preds *= y1v\n",
    "\n",
    "    # add predictions to total predictions \n",
    "    predictions[idxs] = preds\n",
    "\n",
    "pos_idxs = predictions.argsort()[- (Y_val == 1).sum() :]\n",
    "Yhat = np.zeros(len(Y_val))\n",
    "Yhat[pos_idxs] = 1\n",
    "\n",
    "\n",
    "auc = roc_auc_score(Y_val, predictions)\n",
    "\n",
    "if auc > best_auc_total:\n",
    "    print(c, auc, param_clust_hist)\n",
    "    best_auc_total = auc\n",
    "    best_f1_total = f1\n",
    "    best_params_total = param_clust_hist\n",
    "\n",
    "f1 = f1_score(Y_val, Yhat)\n",
    "\n",
    "#     print(\"\\n############################\\nTOTAL AUC: {}, F1: {} for Nclusts: {}\\n\".format(auc, f1, c))\n",
    "\n",
    "\n",
    "# histories total\n",
    "tot_result[c] = clust_models\n",
    "auc_hist[c] = {\"total\" : auc, \"per cluster\" :auc_clust_hist}\n",
    "f1_hist[c] = {\"total\" : f1, \"per cluster\" :f1_clust_hist}\n",
    "param_hist[c] = param_clust_hist"
   ]
  },
  {
   "cell_type": "code",
   "execution_count": 41,
   "id": "b8390704",
   "metadata": {},
   "outputs": [
    {
     "data": {
      "text/plain": [
       "{0: RandomForestClassifier(max_depth=14, max_leaf_nodes=12),\n",
       " 1: RandomForestClassifier(max_depth=6, max_leaf_nodes=4)}"
      ]
     },
     "execution_count": 41,
     "metadata": {},
     "output_type": "execute_result"
    }
   ],
   "source": [
    "clust_models"
   ]
  },
  {
   "cell_type": "markdown",
   "id": "1965ae38",
   "metadata": {},
   "source": [
    "# Test"
   ]
  },
  {
   "cell_type": "code",
   "execution_count": 51,
   "id": "11780c38",
   "metadata": {},
   "outputs": [
    {
     "name": "stdout",
     "output_type": "stream",
     "text": [
      "0.6763150086576843 0.21442125237191653\n",
      "{0: 0.72028209568866, 1: 0.6535370974874033} {0: 0.25595238095238093, 1: 0.19220055710306408}\n"
     ]
    }
   ],
   "source": [
    "# [c, clust, md, ml, n_est,]\n",
    "predictions = np.zeros(len(Y_test))\n",
    "auc_clusters = {}\n",
    "f1_clusters = {}\n",
    "for clust in train_l[0].unique():\n",
    "\n",
    "    \n",
    "    \n",
    "    idxs = test_l[test_l[0]== clust].index\n",
    "    x = X_test.loc[idxs]\n",
    "    yt = Y_test.loc[idxs]\n",
    "    y1 = Y1_test[idxs]\n",
    "    \n",
    "    preds = clust_models[clust].predict_proba(x)[:,1]\n",
    "    preds *= y1\n",
    "    predictions[idxs] = preds\n",
    "    auc = roc_auc_score(yt, preds)\n",
    "    auc_clusters[clust] = auc\n",
    "\n",
    "    Yhat = np.zeros(len(yt))\n",
    "    pos_idxs = preds.argsort()[- (yt == 1).sum() : ]\n",
    "    Yhat[pos_idxs] = 1\n",
    "    f1_clusters[clust]  = f1_score(yt, Yhat)\n",
    "    \n",
    "    \n",
    "pos_idxs = predictions.argsort()[-(Y_test == 1).sum() :]\n",
    "Yhat = np.zeros(len(Y_test))\n",
    "Yhat[pos_idxs] = 1\n",
    "\n",
    "auc = roc_auc_score(Y_test, predictions)\n",
    "f1 = f1_score(Y_test, Yhat)\n",
    "\n",
    "print(auc, f1)\n",
    "print(auc_clusters, f1_clusters)\n",
    "with open (\"../Results/Eindhoven.csv\", \"a+\") as f:\n",
    "    f.write(\"\\nRF_cluster,{},{}\".format(auc,f1))\n",
    "    \n",
    "with open (\"../Results/EindhovenAUC.csv\", \"a+\") as f:\n",
    "    f.write(\"RF_clust,{},{},{}\".format(auc_clusters[0],auc_clusters[1],auc_clusters[2]))\n",
    "    \n",
    "with open (\"../Results/Eindhovenf1.csv\", \"a+\") as f:\n",
    "    f.write(\"RF_clust,{},{},{}\".format(f1_clusters[0],f1_clusters[1],f1_clusters[2]))\n",
    "    \n",
    "    "
   ]
  },
  {
   "cell_type": "code",
   "execution_count": 50,
   "id": "80ad71f3",
   "metadata": {},
   "outputs": [
    {
     "data": {
      "text/plain": [
       "0.72028209568866"
      ]
     },
     "execution_count": 50,
     "metadata": {},
     "output_type": "execute_result"
    }
   ],
   "source": [
    "auc_clusters[0]"
   ]
  },
  {
   "cell_type": "code",
   "execution_count": 43,
   "id": "89a5bb5d",
   "metadata": {},
   "outputs": [
    {
     "ename": "ValueError",
     "evalue": "Length of values (4129) does not match length of index (6174)",
     "output_type": "error",
     "traceback": [
      "\u001b[1;31m---------------------------------------------------------------------------\u001b[0m",
      "\u001b[1;31mValueError\u001b[0m                                Traceback (most recent call last)",
      "\u001b[1;32mC:\\Users\\GEBRUI~1\\AppData\\Local\\Temp/ipykernel_15712/3886257937.py\u001b[0m in \u001b[0;36m<module>\u001b[1;34m\u001b[0m\n\u001b[1;32m----> 1\u001b[1;33m \u001b[0mdf19\u001b[0m\u001b[1;33m[\u001b[0m\u001b[1;34m\"preds\"\u001b[0m\u001b[1;33m]\u001b[0m \u001b[1;33m=\u001b[0m \u001b[0mpreds\u001b[0m\u001b[1;33m\u001b[0m\u001b[1;33m\u001b[0m\u001b[0m\n\u001b[0m\u001b[0;32m      2\u001b[0m \u001b[0mdf19\u001b[0m\u001b[1;33m[\u001b[0m\u001b[1;34m\"predicted\"\u001b[0m\u001b[1;33m]\u001b[0m \u001b[1;33m=\u001b[0m \u001b[1;36m0\u001b[0m\u001b[1;33m\u001b[0m\u001b[1;33m\u001b[0m\u001b[0m\n",
      "\u001b[1;32m~\\anaconda3\\lib\\site-packages\\pandas\\core\\frame.py\u001b[0m in \u001b[0;36m__setitem__\u001b[1;34m(self, key, value)\u001b[0m\n\u001b[0;32m   3605\u001b[0m         \u001b[1;32melse\u001b[0m\u001b[1;33m:\u001b[0m\u001b[1;33m\u001b[0m\u001b[1;33m\u001b[0m\u001b[0m\n\u001b[0;32m   3606\u001b[0m             \u001b[1;31m# set column\u001b[0m\u001b[1;33m\u001b[0m\u001b[1;33m\u001b[0m\u001b[1;33m\u001b[0m\u001b[0m\n\u001b[1;32m-> 3607\u001b[1;33m             \u001b[0mself\u001b[0m\u001b[1;33m.\u001b[0m\u001b[0m_set_item\u001b[0m\u001b[1;33m(\u001b[0m\u001b[0mkey\u001b[0m\u001b[1;33m,\u001b[0m \u001b[0mvalue\u001b[0m\u001b[1;33m)\u001b[0m\u001b[1;33m\u001b[0m\u001b[1;33m\u001b[0m\u001b[0m\n\u001b[0m\u001b[0;32m   3608\u001b[0m \u001b[1;33m\u001b[0m\u001b[0m\n\u001b[0;32m   3609\u001b[0m     \u001b[1;32mdef\u001b[0m \u001b[0m_setitem_slice\u001b[0m\u001b[1;33m(\u001b[0m\u001b[0mself\u001b[0m\u001b[1;33m,\u001b[0m \u001b[0mkey\u001b[0m\u001b[1;33m:\u001b[0m \u001b[0mslice\u001b[0m\u001b[1;33m,\u001b[0m \u001b[0mvalue\u001b[0m\u001b[1;33m)\u001b[0m\u001b[1;33m:\u001b[0m\u001b[1;33m\u001b[0m\u001b[1;33m\u001b[0m\u001b[0m\n",
      "\u001b[1;32m~\\anaconda3\\lib\\site-packages\\pandas\\core\\frame.py\u001b[0m in \u001b[0;36m_set_item\u001b[1;34m(self, key, value)\u001b[0m\n\u001b[0;32m   3777\u001b[0m         \u001b[0mensure\u001b[0m \u001b[0mhomogeneity\u001b[0m\u001b[1;33m.\u001b[0m\u001b[1;33m\u001b[0m\u001b[1;33m\u001b[0m\u001b[0m\n\u001b[0;32m   3778\u001b[0m         \"\"\"\n\u001b[1;32m-> 3779\u001b[1;33m         \u001b[0mvalue\u001b[0m \u001b[1;33m=\u001b[0m \u001b[0mself\u001b[0m\u001b[1;33m.\u001b[0m\u001b[0m_sanitize_column\u001b[0m\u001b[1;33m(\u001b[0m\u001b[0mvalue\u001b[0m\u001b[1;33m)\u001b[0m\u001b[1;33m\u001b[0m\u001b[1;33m\u001b[0m\u001b[0m\n\u001b[0m\u001b[0;32m   3780\u001b[0m \u001b[1;33m\u001b[0m\u001b[0m\n\u001b[0;32m   3781\u001b[0m         if (\n",
      "\u001b[1;32m~\\anaconda3\\lib\\site-packages\\pandas\\core\\frame.py\u001b[0m in \u001b[0;36m_sanitize_column\u001b[1;34m(self, value)\u001b[0m\n\u001b[0;32m   4502\u001b[0m \u001b[1;33m\u001b[0m\u001b[0m\n\u001b[0;32m   4503\u001b[0m         \u001b[1;32mif\u001b[0m \u001b[0mis_list_like\u001b[0m\u001b[1;33m(\u001b[0m\u001b[0mvalue\u001b[0m\u001b[1;33m)\u001b[0m\u001b[1;33m:\u001b[0m\u001b[1;33m\u001b[0m\u001b[1;33m\u001b[0m\u001b[0m\n\u001b[1;32m-> 4504\u001b[1;33m             \u001b[0mcom\u001b[0m\u001b[1;33m.\u001b[0m\u001b[0mrequire_length_match\u001b[0m\u001b[1;33m(\u001b[0m\u001b[0mvalue\u001b[0m\u001b[1;33m,\u001b[0m \u001b[0mself\u001b[0m\u001b[1;33m.\u001b[0m\u001b[0mindex\u001b[0m\u001b[1;33m)\u001b[0m\u001b[1;33m\u001b[0m\u001b[1;33m\u001b[0m\u001b[0m\n\u001b[0m\u001b[0;32m   4505\u001b[0m         \u001b[1;32mreturn\u001b[0m \u001b[0msanitize_array\u001b[0m\u001b[1;33m(\u001b[0m\u001b[0mvalue\u001b[0m\u001b[1;33m,\u001b[0m \u001b[0mself\u001b[0m\u001b[1;33m.\u001b[0m\u001b[0mindex\u001b[0m\u001b[1;33m,\u001b[0m \u001b[0mcopy\u001b[0m\u001b[1;33m=\u001b[0m\u001b[1;32mTrue\u001b[0m\u001b[1;33m,\u001b[0m \u001b[0mallow_2d\u001b[0m\u001b[1;33m=\u001b[0m\u001b[1;32mTrue\u001b[0m\u001b[1;33m)\u001b[0m\u001b[1;33m\u001b[0m\u001b[1;33m\u001b[0m\u001b[0m\n\u001b[0;32m   4506\u001b[0m \u001b[1;33m\u001b[0m\u001b[0m\n",
      "\u001b[1;32m~\\anaconda3\\lib\\site-packages\\pandas\\core\\common.py\u001b[0m in \u001b[0;36mrequire_length_match\u001b[1;34m(data, index)\u001b[0m\n\u001b[0;32m    530\u001b[0m     \u001b[1;32mif\u001b[0m \u001b[0mlen\u001b[0m\u001b[1;33m(\u001b[0m\u001b[0mdata\u001b[0m\u001b[1;33m)\u001b[0m \u001b[1;33m!=\u001b[0m \u001b[0mlen\u001b[0m\u001b[1;33m(\u001b[0m\u001b[0mindex\u001b[0m\u001b[1;33m)\u001b[0m\u001b[1;33m:\u001b[0m\u001b[1;33m\u001b[0m\u001b[1;33m\u001b[0m\u001b[0m\n\u001b[0;32m    531\u001b[0m         raise ValueError(\n\u001b[1;32m--> 532\u001b[1;33m             \u001b[1;34m\"Length of values \"\u001b[0m\u001b[1;33m\u001b[0m\u001b[1;33m\u001b[0m\u001b[0m\n\u001b[0m\u001b[0;32m    533\u001b[0m             \u001b[1;34mf\"({len(data)}) \"\u001b[0m\u001b[1;33m\u001b[0m\u001b[1;33m\u001b[0m\u001b[0m\n\u001b[0;32m    534\u001b[0m             \u001b[1;34m\"does not match length of index \"\u001b[0m\u001b[1;33m\u001b[0m\u001b[1;33m\u001b[0m\u001b[0m\n",
      "\u001b[1;31mValueError\u001b[0m: Length of values (4129) does not match length of index (6174)"
     ]
    }
   ],
   "source": [
    "df19[\"preds\"] = preds\n",
    "df19[\"predicted\"] = 0"
   ]
  },
  {
   "cell_type": "code",
   "execution_count": 73,
   "id": "0dd5a6ac",
   "metadata": {},
   "outputs": [],
   "source": [
    "def checker(d):\n",
    "    if d[\"y\"] == 0 and d[\"preds\"] == 0:\n",
    "        return 0\n",
    "    if d[\"y\"] == 0 and d[\"preds\"] == 1:\n",
    "        return 1\n",
    "    if d[\"y\"] == 1 and d[\"preds\"] == 0:\n",
    "        return 2\n",
    "    if d[\"y\"] == 1 and d[\"preds\"] == 1:\n",
    "        return 3\n",
    "    \n",
    "df19[\"checked\"] = df19.apply(checker, axis =1)"
   ]
  },
  {
   "cell_type": "code",
   "execution_count": 74,
   "id": "0b692083",
   "metadata": {},
   "outputs": [],
   "source": [
    "df19 = gpd.GeoDataFrame(df19)\n",
    "# df19.geometry = df19.geometry.apply(shapely.wkt.loads)\n",
    "df19 = df19.set_geometry(\"geometry\")"
   ]
  },
  {
   "cell_type": "code",
   "execution_count": 75,
   "id": "d941c770",
   "metadata": {},
   "outputs": [],
   "source": [
    "eindhoven = pd.read_csv(\"../Data/filled/2019/Tilburg19.csv_filled_.csv\")"
   ]
  },
  {
   "cell_type": "code",
   "execution_count": 25,
   "id": "3ca246b1",
   "metadata": {},
   "outputs": [],
   "source": [
    "cluster_model = KMeans(n_clusters = 5)\n",
    "train_l = pd.DataFrame(cluster_model.fit_predict(X_train))\n",
    "val_l = pd.DataFrame(cluster_model.predict(X_val))\n",
    "\n"
   ]
  },
  {
   "cell_type": "code",
   "execution_count": 36,
   "id": "2de40999",
   "metadata": {},
   "outputs": [
    {
     "data": {
      "text/plain": [
       "3"
      ]
     },
     "execution_count": 36,
     "metadata": {},
     "output_type": "execute_result"
    }
   ],
   "source": [
    "(Y_train[train_l[0] == 1] == 1).sum()"
   ]
  },
  {
   "cell_type": "code",
   "execution_count": 52,
   "id": "2e266c32",
   "metadata": {},
   "outputs": [
    {
     "data": {
      "image/png": "[encoded data removed]",
      "text/plain": [
       "<Figure size 2880x2880 with 1 Axes>"
      ]
     },
     "metadata": {
      "needs_background": "light"
     },
     "output_type": "display_data"
    }
   ],
   "source": [
    "df19[\"preds\"] = Yhat\n",
    "df19[\"predicted\"] = 0\n",
    "\n",
    "def checker(d):\n",
    "    if d[\"y\"] == 0 and d[\"preds\"] == 0:\n",
    "        return 0\n",
    "    if d[\"y\"] == 0 and d[\"preds\"] == 1:\n",
    "        return 1\n",
    "    if d[\"y\"] == 1 and d[\"preds\"] == 0:\n",
    "        return 2\n",
    "    if d[\"y\"] == 1 and d[\"preds\"] == 1:\n",
    "        return 3\n",
    "    \n",
    "df19[\"checked\"] = df19.apply(checker, axis =1)\n",
    "\n",
    "fig = plt.figure(figsize=(40, 40))\n",
    "ax = plt.gca()\n",
    "mapper = {0: \"TN\", 1: \"FP\", 2 : \"FN\", 3: \"TP\"}\n",
    "df19.plot(figsize = (40,40), cmap = \"Accent_r\", column = \"checked\", legend = True,\n",
    "                                                           ax = ax, categorical=True, legend_kwds={'fontsize': 50, \"markerscale\":4},\n",
    "                                                           alpha=0.5, edgecolor = \"b\")\n",
    "def replace_legend_items(legend, mapping):\n",
    "    for txt in legend.texts:\n",
    "        for k,v in mapping.items():\n",
    "            if txt.get_text() == str(k):\n",
    "                txt.set_text(v)\n",
    "                \n",
    "legend = ax.get_legend()             \n",
    "replace_legend_items(legend, mapper)\n",
    "plt.show()"
   ]
  },
  {
   "cell_type": "code",
   "execution_count": 53,
   "id": "755fe37f",
   "metadata": {},
   "outputs": [
    {
     "data": {
      "text/plain": [
       "0.2144212523719165"
      ]
     },
     "execution_count": 53,
     "metadata": {},
     "output_type": "execute_result"
    }
   ],
   "source": [
    "recall_score(Y_test, Yhat)"
   ]
  },
  {
   "cell_type": "code",
   "execution_count": 54,
   "id": "16fd930a",
   "metadata": {},
   "outputs": [
    {
     "data": {
      "text/plain": [
       "0.2144212523719165"
      ]
     },
     "execution_count": 54,
     "metadata": {},
     "output_type": "execute_result"
    }
   ],
   "source": [
    "precision_score(Y_test, Yhat)"
   ]
  },
  {
   "cell_type": "code",
   "execution_count": 56,
   "id": "a633cb93",
   "metadata": {},
   "outputs": [
    {
     "name": "stdout",
     "output_type": "stream",
     "text": [
      "              precision    recall  f1-score   support\n",
      "\n",
      "         0.0      0.927     0.927     0.927      5647\n",
      "         1.0      0.214     0.214     0.214       527\n",
      "\n",
      "    accuracy                          0.866      6174\n",
      "   macro avg      0.571     0.571     0.571      6174\n",
      "weighted avg      0.866     0.866     0.866      6174\n",
      "\n"
     ]
    }
   ],
   "source": [
    "import sklearn.metrics as metrics\n",
    "print(metrics.classification_report(Y_test, Yhat, digits=3))"
   ]
  },
  {
   "cell_type": "code",
   "execution_count": null,
   "id": "af04d302",
   "metadata": {},
   "outputs": [],
   "source": []
  }
 ],
 "metadata": {
  "kernelspec": {
   "display_name": "Python 3 (ipykernel)",
   "language": "python",
   "name": "python3"
  },
  "language_info": {
   "codemirror_mode": {
    "name": "ipython",
    "version": 3
   },
   "file_extension": ".py",
   "mimetype": "text/x-python",
   "name": "python",
   "nbconvert_exporter": "python",
   "pygments_lexer": "ipython3",
   "version": "3.7.11"
  }
 },
 "nbformat": 4,
 "nbformat_minor": 5
}
