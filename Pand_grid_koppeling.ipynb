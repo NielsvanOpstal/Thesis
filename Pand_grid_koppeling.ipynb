{
 "cells": [
  {
   "cell_type": "code",
   "execution_count": 1,
   "id": "1b68e058",
   "metadata": {},
   "outputs": [],
   "source": [
    "from shapely.geometry import asPoint\n",
    "import geopandas as gpd\n",
    "import pandas as pd\n",
    "import time\n",
    "import shapely\n",
    "import matplotlib.pyplot as plt\n",
    "import os"
   ]
  },
  {
   "cell_type": "code",
   "execution_count": 2,
   "id": "5c884b9e",
   "metadata": {},
   "outputs": [],
   "source": [
    "def couple_grid_pand(PATH, pand):\n",
    "    \n",
    "    pandpoints = gpd.GeoDataFrame(pand)\n",
    "    pandpoints.geometry = pandpoints.geometry.apply(shapely.wkt.loads)\n",
    "    \n",
    "    for filename in os.listdir(PATH):\n",
    "        t0 = time.time()\n",
    "        name = filename.strip(\"_grid.csv\") # get the city name\n",
    "\n",
    "        grid = pd.read_csv(PATH + filename) # get grid\n",
    "        grid['geometry'] = grid.geometry.apply(shapely.wkt.loads) # load geometry as shape\n",
    "        grid = gpd.GeoDataFrame(grid)\n",
    "        print(grid.shape)\n",
    "        # join each cbs row with a vbo that contains a vbo point\n",
    "        pandgrid = gpd.tools.sjoin(pandpoints, grid, op = \"within\")\n",
    "    \n",
    "        \n",
    "        print(\"{} done. time:{}\".format(name,time.time() - t0))\n",
    "        pandgrid.to_csv(\"../Data/presnap/pand/\" + name + \"_pand.csv\")\n",
    "        "
   ]
  },
  {
   "cell_type": "code",
   "execution_count": 6,
   "id": "326eea7b",
   "metadata": {},
   "outputs": [
    {
     "name": "stderr",
     "output_type": "stream",
     "text": [
      "C:\\Users\\Gebruiker\\anaconda3\\lib\\site-packages\\IPython\\core\\interactiveshell.py:3441: DtypeWarning: Columns (4) have mixed types.Specify dtype option on import or set low_memory=False.\n",
      "  exec(code_obj, self.user_global_ns, self.user_ns)\n"
     ]
    }
   ],
   "source": [
    "pand = pd.read_csv(\"pand_cleaned.csv\", sep = \";\")\n"
   ]
  },
  {
   "cell_type": "code",
   "execution_count": 9,
   "id": "54866b15",
   "metadata": {},
   "outputs": [
    {
     "data": {
      "text/plain": [
       "Index(['Unnamed: 0', 'Unnamed: 0.1', 'bouwjaar', 'begindatumTijdvakGeldigheid',\n",
       "       'einddatumTijdvakGeldigheid', 'identificatie', 'geometry'],\n",
       "      dtype='object')"
      ]
     },
     "execution_count": 9,
     "metadata": {},
     "output_type": "execute_result"
    }
   ],
   "source": [
    "pand.columns"
   ]
  },
  {
   "cell_type": "code",
   "execution_count": 10,
   "id": "f6ed63de",
   "metadata": {
    "scrolled": false
   },
   "outputs": [],
   "source": [
    "pand = pand[[\"identificatie\", \"bouwjaar\"]]"
   ]
  },
  {
   "cell_type": "code",
   "execution_count": 12,
   "id": "25a9a470",
   "metadata": {},
   "outputs": [
    {
     "data": {
      "text/plain": [
       "10617539"
      ]
     },
     "execution_count": 12,
     "metadata": {},
     "output_type": "execute_result"
    }
   ],
   "source": [
    "pand.identificatie.nunique()"
   ]
  },
  {
   "cell_type": "code",
   "execution_count": 13,
   "id": "de37e715",
   "metadata": {},
   "outputs": [
    {
     "data": {
      "text/plain": [
       "(15401393, 2)"
      ]
     },
     "execution_count": 13,
     "metadata": {},
     "output_type": "execute_result"
    }
   ],
   "source": [
    "pand.shape"
   ]
  },
  {
   "cell_type": "code",
   "execution_count": 4,
   "id": "45e1b43b",
   "metadata": {
    "scrolled": true
   },
   "outputs": [
    {
     "name": "stdout",
     "output_type": "stream",
     "text": [
      "Almere done. time:771.2686886787415\n",
      "Breda done. time:13.396408796310425\n",
      "Devente done. time:8.328661918640137\n"
     ]
    }
   ],
   "source": [
    "couple_grid_pand(\"../Data/presnap/grid/\", pand)"
   ]
  },
  {
   "cell_type": "code",
   "execution_count": 24,
   "id": "266d544d",
   "metadata": {},
   "outputs": [],
   "source": [
    "pand_grid = pd.read_csv(\"../Data/presnap/pand/Almere_pand.csv\")"
   ]
  },
  {
   "cell_type": "code",
   "execution_count": 25,
   "id": "68234d31",
   "metadata": {},
   "outputs": [
    {
     "data": {
      "text/html": [
       "<div>\n",
       "<style scoped>\n",
       "    .dataframe tbody tr th:only-of-type {\n",
       "        vertical-align: middle;\n",
       "    }\n",
       "\n",
       "    .dataframe tbody tr th {\n",
       "        vertical-align: top;\n",
       "    }\n",
       "\n",
       "    .dataframe thead th {\n",
       "        text-align: right;\n",
       "    }\n",
       "</style>\n",
       "<table border=\"1\" class=\"dataframe\">\n",
       "  <thead>\n",
       "    <tr style=\"text-align: right;\">\n",
       "      <th></th>\n",
       "      <th>Unnamed: 0</th>\n",
       "      <th>Unnamed: 0_left</th>\n",
       "      <th>bouwjaar</th>\n",
       "      <th>begindatumTijdvakGeldigheid</th>\n",
       "      <th>einddatumTijdvakGeldigheid</th>\n",
       "      <th>identificatie</th>\n",
       "      <th>geometry</th>\n",
       "      <th>index_right</th>\n",
       "      <th>Unnamed: 0_right</th>\n",
       "      <th>C28992R100</th>\n",
       "    </tr>\n",
       "  </thead>\n",
       "  <tbody>\n",
       "    <tr>\n",
       "      <th>0</th>\n",
       "      <td>321646</td>\n",
       "      <td>374995</td>\n",
       "      <td>2000.0</td>\n",
       "      <td>1970-01-24 06:04:21.100000000</td>\n",
       "      <td>NaN</td>\n",
       "      <td>3.410000e+13</td>\n",
       "      <td>POINT (146367.0364029086 493396.0666259328)</td>\n",
       "      <td>37893</td>\n",
       "      <td>1444457</td>\n",
       "      <td>E1463N4933</td>\n",
       "    </tr>\n",
       "    <tr>\n",
       "      <th>1</th>\n",
       "      <td>321647</td>\n",
       "      <td>374996</td>\n",
       "      <td>1999.0</td>\n",
       "      <td>1970-01-24 06:04:21.100000000</td>\n",
       "      <td>NaN</td>\n",
       "      <td>3.410000e+13</td>\n",
       "      <td>POINT (146361.0298717487 493392.3859385702)</td>\n",
       "      <td>37893</td>\n",
       "      <td>1444457</td>\n",
       "      <td>E1463N4933</td>\n",
       "    </tr>\n",
       "    <tr>\n",
       "      <th>2</th>\n",
       "      <td>321648</td>\n",
       "      <td>374997</td>\n",
       "      <td>1999.0</td>\n",
       "      <td>1970-01-24 06:04:21.100000000</td>\n",
       "      <td>NaN</td>\n",
       "      <td>3.410000e+13</td>\n",
       "      <td>POINT (146355.1952827561 493388.5759016351)</td>\n",
       "      <td>37893</td>\n",
       "      <td>1444457</td>\n",
       "      <td>E1463N4933</td>\n",
       "    </tr>\n",
       "    <tr>\n",
       "      <th>3</th>\n",
       "      <td>321651</td>\n",
       "      <td>375001</td>\n",
       "      <td>1999.0</td>\n",
       "      <td>1970-01-24 06:04:21.100000000</td>\n",
       "      <td>NaN</td>\n",
       "      <td>3.410000e+13</td>\n",
       "      <td>POINT (146305.9642588075 493346.111398325)</td>\n",
       "      <td>37893</td>\n",
       "      <td>1444457</td>\n",
       "      <td>E1463N4933</td>\n",
       "    </tr>\n",
       "    <tr>\n",
       "      <th>4</th>\n",
       "      <td>321649</td>\n",
       "      <td>374998</td>\n",
       "      <td>1999.0</td>\n",
       "      <td>1970-01-24 06:04:21.100000000</td>\n",
       "      <td>NaN</td>\n",
       "      <td>3.410000e+13</td>\n",
       "      <td>POINT (146030.3010297063 493326.7149679747)</td>\n",
       "      <td>37890</td>\n",
       "      <td>1444454</td>\n",
       "      <td>E1460N4933</td>\n",
       "    </tr>\n",
       "    <tr>\n",
       "      <th>...</th>\n",
       "      <td>...</td>\n",
       "      <td>...</td>\n",
       "      <td>...</td>\n",
       "      <td>...</td>\n",
       "      <td>...</td>\n",
       "      <td>...</td>\n",
       "      <td>...</td>\n",
       "      <td>...</td>\n",
       "      <td>...</td>\n",
       "      <td>...</td>\n",
       "    </tr>\n",
       "    <tr>\n",
       "      <th>150030</th>\n",
       "      <td>16271035</td>\n",
       "      <td>18961426</td>\n",
       "      <td>2020.0</td>\n",
       "      <td>1970-01-24 09:08:40.300000200</td>\n",
       "      <td>1970-01-24 09:23:50.200000300</td>\n",
       "      <td>1.942100e+15</td>\n",
       "      <td>POINT (137056.9694482871 479824.2366683602)</td>\n",
       "      <td>67095</td>\n",
       "      <td>1678811</td>\n",
       "      <td>E1370N4798</td>\n",
       "    </tr>\n",
       "    <tr>\n",
       "      <th>150031</th>\n",
       "      <td>16271036</td>\n",
       "      <td>18961427</td>\n",
       "      <td>2020.0</td>\n",
       "      <td>1970-01-24 09:23:50.200000300</td>\n",
       "      <td>1970-01-24 09:24:30.700000400</td>\n",
       "      <td>1.942100e+15</td>\n",
       "      <td>POINT (137056.9694482871 479824.2366683602)</td>\n",
       "      <td>67095</td>\n",
       "      <td>1678811</td>\n",
       "      <td>E1370N4798</td>\n",
       "    </tr>\n",
       "    <tr>\n",
       "      <th>150032</th>\n",
       "      <td>16271038</td>\n",
       "      <td>18961429</td>\n",
       "      <td>2020.0</td>\n",
       "      <td>1970-01-24 09:08:30.500000100</td>\n",
       "      <td>NaN</td>\n",
       "      <td>1.942100e+15</td>\n",
       "      <td>POINT (133496.4965 482913.0275)</td>\n",
       "      <td>60332</td>\n",
       "      <td>1624505</td>\n",
       "      <td>E1334N4829</td>\n",
       "    </tr>\n",
       "    <tr>\n",
       "      <th>150033</th>\n",
       "      <td>16271050</td>\n",
       "      <td>18961454</td>\n",
       "      <td>1950.0</td>\n",
       "      <td>1970-01-24 09:23:50.200000200</td>\n",
       "      <td>NaN</td>\n",
       "      <td>1.942100e+15</td>\n",
       "      <td>POINT (132970.6537969918 482699.6369420139)</td>\n",
       "      <td>60978</td>\n",
       "      <td>1629744</td>\n",
       "      <td>E1329N4826</td>\n",
       "    </tr>\n",
       "    <tr>\n",
       "      <th>150034</th>\n",
       "      <td>16271057</td>\n",
       "      <td>18961837</td>\n",
       "      <td>2019.0</td>\n",
       "      <td>1970-01-24 09:24:31.400000100</td>\n",
       "      <td>NaN</td>\n",
       "      <td>1.942100e+15</td>\n",
       "      <td>POINT (133352.4687879462 482422.9722482411)</td>\n",
       "      <td>61416</td>\n",
       "      <td>1633248</td>\n",
       "      <td>E1333N4824</td>\n",
       "    </tr>\n",
       "  </tbody>\n",
       "</table>\n",
       "<p>150035 rows × 10 columns</p>\n",
       "</div>"
      ],
      "text/plain": [
       "        Unnamed: 0  Unnamed: 0_left  bouwjaar    begindatumTijdvakGeldigheid  \\\n",
       "0           321646           374995    2000.0  1970-01-24 06:04:21.100000000   \n",
       "1           321647           374996    1999.0  1970-01-24 06:04:21.100000000   \n",
       "2           321648           374997    1999.0  1970-01-24 06:04:21.100000000   \n",
       "3           321651           375001    1999.0  1970-01-24 06:04:21.100000000   \n",
       "4           321649           374998    1999.0  1970-01-24 06:04:21.100000000   \n",
       "...            ...              ...       ...                            ...   \n",
       "150030    16271035         18961426    2020.0  1970-01-24 09:08:40.300000200   \n",
       "150031    16271036         18961427    2020.0  1970-01-24 09:23:50.200000300   \n",
       "150032    16271038         18961429    2020.0  1970-01-24 09:08:30.500000100   \n",
       "150033    16271050         18961454    1950.0  1970-01-24 09:23:50.200000200   \n",
       "150034    16271057         18961837    2019.0  1970-01-24 09:24:31.400000100   \n",
       "\n",
       "           einddatumTijdvakGeldigheid  identificatie  \\\n",
       "0                                 NaN   3.410000e+13   \n",
       "1                                 NaN   3.410000e+13   \n",
       "2                                 NaN   3.410000e+13   \n",
       "3                                 NaN   3.410000e+13   \n",
       "4                                 NaN   3.410000e+13   \n",
       "...                               ...            ...   \n",
       "150030  1970-01-24 09:23:50.200000300   1.942100e+15   \n",
       "150031  1970-01-24 09:24:30.700000400   1.942100e+15   \n",
       "150032                            NaN   1.942100e+15   \n",
       "150033                            NaN   1.942100e+15   \n",
       "150034                            NaN   1.942100e+15   \n",
       "\n",
       "                                           geometry  index_right  \\\n",
       "0       POINT (146367.0364029086 493396.0666259328)        37893   \n",
       "1       POINT (146361.0298717487 493392.3859385702)        37893   \n",
       "2       POINT (146355.1952827561 493388.5759016351)        37893   \n",
       "3        POINT (146305.9642588075 493346.111398325)        37893   \n",
       "4       POINT (146030.3010297063 493326.7149679747)        37890   \n",
       "...                                             ...          ...   \n",
       "150030  POINT (137056.9694482871 479824.2366683602)        67095   \n",
       "150031  POINT (137056.9694482871 479824.2366683602)        67095   \n",
       "150032              POINT (133496.4965 482913.0275)        60332   \n",
       "150033  POINT (132970.6537969918 482699.6369420139)        60978   \n",
       "150034  POINT (133352.4687879462 482422.9722482411)        61416   \n",
       "\n",
       "        Unnamed: 0_right  C28992R100  \n",
       "0                1444457  E1463N4933  \n",
       "1                1444457  E1463N4933  \n",
       "2                1444457  E1463N4933  \n",
       "3                1444457  E1463N4933  \n",
       "4                1444454  E1460N4933  \n",
       "...                  ...         ...  \n",
       "150030           1678811  E1370N4798  \n",
       "150031           1678811  E1370N4798  \n",
       "150032           1624505  E1334N4829  \n",
       "150033           1629744  E1329N4826  \n",
       "150034           1633248  E1333N4824  \n",
       "\n",
       "[150035 rows x 10 columns]"
      ]
     },
     "execution_count": 25,
     "metadata": {},
     "output_type": "execute_result"
    }
   ],
   "source": [
    "pand_grid"
   ]
  }
 ],
 "metadata": {
  "kernelspec": {
   "display_name": "Python 3 (ipykernel)",
   "language": "python",
   "name": "python3"
  },
  "language_info": {
   "codemirror_mode": {
    "name": "ipython",
    "version": 3
   },
   "file_extension": ".py",
   "mimetype": "text/x-python",
   "name": "python",
   "nbconvert_exporter": "python",
   "pygments_lexer": "ipython3",
   "version": "3.7.11"
  }
 },
 "nbformat": 4,
 "nbformat_minor": 5
}
