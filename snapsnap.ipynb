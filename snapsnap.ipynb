{
 "cells": [
  {
   "cell_type": "code",
   "execution_count": 98,
   "metadata": {},
   "outputs": [],
   "source": [
    "import pandas as pd\n",
    "import time\n",
    "from datetime import datetime\n",
    "import geopandas as gpd\n",
    "import shapely\n",
    "import numpy as np\n",
    "import cbsodata\n",
    "from collections import Counter\n",
    "import math\n",
    "import os\n",
    "from itertools import zip_longest"
   ]
  },
  {
   "cell_type": "code",
   "execution_count": 26,
   "metadata": {},
   "outputs": [],
   "source": [
    "def VBOCleaner(data):\n",
    "    from shapely.geometry import asPoint    \n",
    "    # only keep objects with id\n",
    "    data = data[data[\"identificatie\"].notna()]    \n",
    "    # only keep objects which are currently in use # CHECK of dit de juiste zijn\n",
    "    data = data[data.verblijfsobjectStatus.isin([\"Verblijfsobject gevormd\", \n",
    "                                                 \"Verblijfsobject in gebruik\",\n",
    "                                                 \"Verblijfsobject in gebruik (niet ingemeten)\"])]\n",
    "    data = data[data.pos.notna()]    \n",
    "    data[\"begindatumTijdvakGeldigheid\"] =  pd.to_datetime(data['begindatumTijdvakGeldigheid'], format='%Y%m%d%H%M%S%f', errors='coerce')\n",
    "    data[\"einddatumTijdvakGeldigheid\"] =  pd.to_datetime(data['einddatumTijdvakGeldigheid'], format='%Y%m%d%H%M%S%f', errors='coerce')\n",
    "    \n",
    "    def toPoint(pos):\n",
    "        string = \"POINT \" + str([float(i) for i in pos.split()[:2]])\n",
    "        return string.replace(\"[\", \"(\").replace(\"]\", \")\").replace(\",\", \"\")\n",
    "    data.pos = data.pos.apply(toPoint)\n",
    "    \n",
    "    return data"
   ]
  },
  {
   "cell_type": "code",
   "execution_count": 27,
   "metadata": {},
   "outputs": [],
   "source": [
    "def snapshotter(vbo, grid_vbo, buurtgrenzen, year):\n",
    "    \n",
    "    # Select only correct year\n",
    "    d1 = datetime(year, 1, 1)\n",
    "    vbo = vbo[vbo[\"begindatumTijdvakGeldigheid\"] < d1] #pak vbo's die beginnen voor het jaar\n",
    "    vbo = vbo[(vbo[\"einddatumTijdvakGeldigheid\"] > d1) | (vbo[\"einddatumTijdvakGeldigheid\"].isna())] #pak vbo's die stoppen na \n",
    "\n",
    "    print(sum(vbo.gebruiksdoelVerblijfsobject == \"woonfunctie\"))\n",
    "    \n",
    "    # Join VBO's to the grid\n",
    "    data = grid_vbo.merge(vbo, how = \"left\", right_on = [\"identificatie\",\"pos\"], left_on = [\"identificatie\",\"pos\"])\n",
    "    print(sum(data.gebruiksdoelVerblijfsobject == \"woonfunctie\"))\n",
    "\n",
    "    # Add Buurt code to each vbo\n",
    "    data.pos = data.pos.apply(shapely.wkt.loads)\n",
    "    data = gpd.GeoDataFrame(data, geometry = \"pos\")\n",
    "    data = gpd.sjoin(data, buurtgrenzen, op = \"within\", how = \"left\")\n",
    "    \n",
    "    # groupby grid code.\n",
    "    data = data.join(pd.get_dummies(data.gebruiksdoelVerblijfsobject))\n",
    "    data = data.drop(\"gebruiksdoelVerblijfsobject\", axis = 1)\n",
    "    data = data.groupby(\"C28992R100\").agg({\n",
    "        \"bijeenkomstfunctie\" : \"sum\",\n",
    "        \"gezondheidszorgfunctie\" : \"sum\",\n",
    "        \"industriefunctie\" : \"sum\",\n",
    "        \"kantoorfunctie\" : \"sum\",\n",
    "        \"logiesfunctie\" : \"sum\",\n",
    "        \"onderwijsfunctie\" : \"sum\",\n",
    "        \"sportfunctie\" : \"sum\",\n",
    "        \"winkelfunctie\" : \"sum\",\n",
    "        \"woonfunctie\" : \"sum\",\n",
    "        \"oppervlakteVerblijfsobject\" : \"median\",\n",
    "        \"BU_CODE\" : lambda x: Counter(x)\n",
    "    })\n",
    "    \n",
    "    return data"
   ]
  },
  {
   "cell_type": "code",
   "execution_count": 28,
   "metadata": {},
   "outputs": [],
   "source": [
    "def CBS_weighted_join(data, cbs):\n",
    "    \n",
    "    \"\"\"\n",
    "    returns cbs grid weigthed average\n",
    "    \"\"\"\n",
    "    # create df to be filled\n",
    "    df = pd.DataFrame(columns = np.append([\"cbs100\"], cbs.columns))\n",
    "    l = len(data)\n",
    "    n_cols = len(cbs.columns)\n",
    "#     print(data.head())\n",
    "#     print(cbs.head())\n",
    "    \n",
    "    # loop over data (grid)\n",
    "    for j, (c, i) in enumerate(data.iterrows()):\n",
    "        print(\"{:.2f}\".format(j/l), end = \"\\r\")\n",
    "        \n",
    "        # If the cell has a buurt code\n",
    "        if type(i.BU_CODE) == Counter:\n",
    "            \n",
    "            total = 0\n",
    "            ls = np.zeros(n_cols)\n",
    "            \n",
    "            # loop over the buurt codes (counter)\n",
    "            for item in i.BU_CODE.items():\n",
    "#                 print(cbs.loc[item[0]])\n",
    "                # calculate weighted average\n",
    "                ls += item[1] * cbs.loc[item[0]].values\n",
    "                total += item[1]\n",
    "\n",
    "            ls /= total\n",
    "            df.loc[len(df)] = np.append(c, ls)\n",
    " \n",
    "    df[cbs.columns.values] = df[cbs.columns.values].astype(np.float32)  \n",
    "    return data.join(df.set_index(\"cbs100\"), how = \"left\", rsuffix = \"_r\")\n",
    "            \n"
   ]
  },
  {
   "cell_type": "code",
   "execution_count": 103,
   "metadata": {},
   "outputs": [],
   "source": [
    "def grouper(iterable_obj, count, fillvalue=None):\n",
    "    args = [iter(iterable_obj)] * count\n",
    "    return zip_longest(*args, fillvalue=fillvalue)"
   ]
  },
  {
   "cell_type": "code",
   "execution_count": 31,
   "metadata": {},
   "outputs": [],
   "source": [
    "buurtgrenzen2015 = gpd.read_file(\"../Data/buurtgrenzen/2015/buurt_2015.shp\")[[\"BU_CODE\", \"geometry\"]]\n",
    "buurtgrenzen2016 = gpd.read_file(\"../Data/buurtgrenzen/2016/buurt_2016.shp\")[[\"BU_CODE\", \"geometry\"]]\n",
    "buurtgrenzen2017 = gpd.read_file(\"../Data/buurtgrenzen/2017/buurt_2017_v3.shp\")[[\"BU_CODE\", \"geometry\"]]\n",
    "buurtgrenzen2018 = gpd.read_file(\"../Data/buurtgrenzen/2018/buurt_2018_v3.shp\")[[\"BU_CODE\", \"geometry\"]]\n",
    "buurtgrenzen2019 = gpd.read_file(\"../Data/buurtgrenzen/2019/buurt_2019_v2up.shp\")[[\"BU_CODE\", \"geometry\"]]\n",
    "\n",
    "VBO = pd.read_csv(\"VBO.csv\", sep = \";\", encoding = \"utf-8\", na_values = \"NaN\", on_bad_lines = \"warn\")\n",
    "VBO = VBOCleaner(VBO)"
   ]
  },
  {
   "cell_type": "code",
   "execution_count": 32,
   "metadata": {},
   "outputs": [],
   "source": [
    "def snap1(PATH_vbo, PATH_grid):\n",
    "#     buurtgrenzen2015 = gpd.read_file(\"../Data/buurtgrenzen/2015/buurt_2015.shp\")[[\"BU_CODE\", \"geometry\"]]\n",
    "#     buurtgrenzen2016 = gpd.read_file(\"../Data/buurtgrenzen/2016/buurt_2016.shp\")[[\"BU_CODE\", \"geometry\"]]\n",
    "#     buurtgrenzen2017 = gpd.read_file(\"../Data/buurtgrenzen/2017/buurt_2017_v3.shp\")[[\"BU_CODE\", \"geometry\"]]\n",
    "#     buurtgrenzen2018 = gpd.read_file(\"../Data/buurtgrenzen/2018/buurt_2018_v3.shp\")[[\"BU_CODE\", \"geometry\"]]\n",
    "#     buurtgrenzen2019 = gpd.read_file(\"../Data/buurtgrenzen/2019/buurt_2019_v2up.shp\")[[\"BU_CODE\", \"geometry\"]]\n",
    "    \n",
    "#     VBO = pd.read_csv(\"VBO.csv\", sep = \";\", encoding = \"utf-8\", na_values = \"NaN\", on_bad_lines = \"warn\")\n",
    "#     VBO = VBOCleaner(VBO)\n",
    "    \n",
    "    os.getcwd()\n",
    "    for vbo, grid in zip(os.listdir(PATH_vbo), os.listdir(PATH_grid)):\n",
    "        grid_vbo = pd.read_csv(vbo)[[\"identificatie\",\"C28992R100\",\"pos\"]]\n",
    "        grid_vbo = grid_vbo.drop_duplicates()\n",
    "        \n",
    "        grid = pd.read_csv(grid, index_col = \"C28992R100\")\n",
    "    \n",
    "        data2015 = snapshotter(VBO, grid_vbo, buurtgrenzen2015, 2015)\n",
    "        data2016 = snapshotter(VBO, grid_vbo, buurtgrenzen2016, 2016)\n",
    "        data2017 = snapshotter(VBO, grid_vbo, buurtgrenzen2017, 2017)\n",
    "        data2018 = snapshotter(VBO, grid_vbo, buurtgrenzen2018, 2018)\n",
    "        data2019 = snapshotter(VBO, grid_vbo, buurtgrenzen2019, 2019)\n",
    "        data2020 = snapshotter(VBO, grid_vbo, buurtgrenzen2019, 2020)\n",
    "        \n",
    "        data2015[\"y\"] = (data2015.woonfunctie < data2016.woonfunctie).astype(int)\n",
    "        data2016[\"y\"] = (data2016.woonfunctie < data2017.woonfunctie).astype(int)\n",
    "        data2017[\"y\"] = (data2017.woonfunctie < data2018.woonfunctie).astype(int)\n",
    "        data2018[\"y\"] = (data2018.woonfunctie < data2019.woonfunctie).astype(int)\n",
    "        data2019[\"y\"] = (data2019.woonfunctie < data2020.woonfunctie).astype(int)\n",
    "        \n",
    "        data2015 = grid.join(data2015, rsuffix = \"r\")\n",
    "        data2016 = grid.join(data2016, rsuffix = \"r\")\n",
    "        data2017 = grid.join(data2017, rsuffix = \"r\")\n",
    "        data2018 = grid.join(data2018, rsuffix = \"r\")\n",
    "        data2019 = grid.join(data2019, rsuffix = \"r\")\n",
    "        \n",
    "        data2015.to_csv(\"../Data/snap1/\" + vbo.split(\"_\")[0] + \"15.csv\")\n",
    "        data2016.to_csv(\"../Data/snap1/\" + vbo.split(\"_\")[0] + \"16.csv\")\n",
    "        data2017.to_csv(\"../Data/snap1/\" + vbo.split(\"_\")[0] + \"17.csv\")\n",
    "        data2018.to_csv(\"../Data/snap1/\" + vbo.split(\"_\")[0] + \"18.csv\")\n",
    "        data2019.to_csv(\"../Data/snap1/\" + vbo.split(\"_\")[0] + \"19.csv\")"
   ]
  },
  {
   "cell_type": "code",
   "execution_count": 33,
   "metadata": {
    "scrolled": true
   },
   "outputs": [
    {
     "name": "stdout",
     "output_type": "stream",
     "text": [
      "7579498\n",
      "86161\n"
     ]
    },
    {
     "name": "stderr",
     "output_type": "stream",
     "text": [
      "C:\\Users\\Gebruiker\\anaconda3\\lib\\site-packages\\geopandas\\tools\\sjoin.py:61: UserWarning: CRS of frames being joined does not match!(None != {'proj': 'sterea', 'lat_0': 52.15616055555555, 'lon_0': 5.38763888888889, 'k': 0.9999079, 'x_0': 155000, 'y_0': 463000, 'ellps': 'bessel', 'units': 'm', 'no_defs': True})\n",
      "  \"(%s != %s)\" % (left_df.crs, right_df.crs)\n"
     ]
    },
    {
     "name": "stdout",
     "output_type": "stream",
     "text": [
      "7648521\n",
      "87571\n"
     ]
    },
    {
     "name": "stderr",
     "output_type": "stream",
     "text": [
      "C:\\Users\\Gebruiker\\anaconda3\\lib\\site-packages\\geopandas\\tools\\sjoin.py:61: UserWarning: CRS of frames being joined does not match!(None != {'proj': 'sterea', 'lat_0': 52.15616055555555, 'lon_0': 5.38763888888889, 'k': 0.9999079, 'x_0': 155000, 'y_0': 463000, 'ellps': 'bessel', 'units': 'm', 'no_defs': True})\n",
      "  \"(%s != %s)\" % (left_df.crs, right_df.crs)\n"
     ]
    },
    {
     "name": "stdout",
     "output_type": "stream",
     "text": [
      "7706489\n",
      "89191\n"
     ]
    },
    {
     "name": "stderr",
     "output_type": "stream",
     "text": [
      "C:\\Users\\Gebruiker\\anaconda3\\lib\\site-packages\\geopandas\\tools\\sjoin.py:61: UserWarning: CRS of frames being joined does not match!(None != {'proj': 'sterea', 'lat_0': 52.15616055555555, 'lon_0': 5.38763888888889, 'k': 0.9999079, 'x_0': 155000, 'y_0': 463000, 'ellps': 'bessel', 'units': 'm', 'no_defs': True})\n",
      "  \"(%s != %s)\" % (left_df.crs, right_df.crs)\n"
     ]
    },
    {
     "name": "stdout",
     "output_type": "stream",
     "text": [
      "7782031\n",
      "91945\n"
     ]
    },
    {
     "name": "stderr",
     "output_type": "stream",
     "text": [
      "C:\\Users\\Gebruiker\\anaconda3\\lib\\site-packages\\geopandas\\tools\\sjoin.py:61: UserWarning: CRS of frames being joined does not match!(None != {'proj': 'sterea', 'lat_0': 52.15616055555555, 'lon_0': 5.38763888888889, 'k': 0.9999079, 'x_0': 155000, 'y_0': 463000, 'ellps': 'bessel', 'units': 'm', 'no_defs': True})\n",
      "  \"(%s != %s)\" % (left_df.crs, right_df.crs)\n"
     ]
    },
    {
     "name": "stdout",
     "output_type": "stream",
     "text": [
      "7875174\n",
      "93975\n"
     ]
    },
    {
     "name": "stderr",
     "output_type": "stream",
     "text": [
      "C:\\Users\\Gebruiker\\anaconda3\\lib\\site-packages\\geopandas\\tools\\sjoin.py:61: UserWarning: CRS of frames being joined does not match!(None != {'proj': 'sterea', 'lat_0': 52.15616055555555, 'lon_0': 5.38763888888889, 'k': 0.9999079, 'x_0': 155000, 'y_0': 463000, 'ellps': 'bessel', 'units': 'm', 'no_defs': True})\n",
      "  \"(%s != %s)\" % (left_df.crs, right_df.crs)\n"
     ]
    },
    {
     "name": "stdout",
     "output_type": "stream",
     "text": [
      "7943656\n",
      "95648\n"
     ]
    },
    {
     "name": "stderr",
     "output_type": "stream",
     "text": [
      "C:\\Users\\Gebruiker\\anaconda3\\lib\\site-packages\\geopandas\\tools\\sjoin.py:61: UserWarning: CRS of frames being joined does not match!(None != {'proj': 'sterea', 'lat_0': 52.15616055555555, 'lon_0': 5.38763888888889, 'k': 0.9999079, 'x_0': 155000, 'y_0': 463000, 'ellps': 'bessel', 'units': 'm', 'no_defs': True})\n",
      "  \"(%s != %s)\" % (left_df.crs, right_df.crs)\n"
     ]
    }
   ],
   "source": [
    "pathgrid = \"../Data/presnap/grid/\"\n",
    "pathvbo = \"../Data/presnap/vbo\"\n",
    "snap1(pathvbo, pathgrid)"
   ]
  },
  {
   "cell_type": "code",
   "execution_count": 106,
   "metadata": {},
   "outputs": [],
   "source": [
    "def snap2(PATH):\n",
    "    cbs15 = gpd.read_file(\"../Data/cbs/2015/CBS_VK100_2015_v2.shp\").set_index(\"C28992R100\")\n",
    "    cbs16 = gpd.read_file(\"../Data/cbs/2016/CBS_VK100_2016_v2.shp\").set_index(\"C28992R100\")\n",
    "    cbs17 = gpd.read_file(\"../Data/cbs/2017/cbs_vk100_2017_v3.shp\").set_index(\"c28992r100\")\n",
    "    cbs18 = gpd.read_file(\"../Data/cbs/2018/CBS_VK100_2018_v3.shp\").set_index(\"c28992r100\")\n",
    "    cbs19 = gpd.read_file(\"../Data/cbs/2019/CBS_vk100_2019_v2.shp\").set_index(\"c28992r100\")\n",
    "    cbs15[\"WON_1524\"] = 0\n",
    "    \n",
    "    cbs_nab_variables = [\"INWONER\",\n",
    "                        \"GEBOORTE\", # aantal geboortes\n",
    "                        \"INW_014\", #inwoners 0-14\n",
    "                        \"INW_1524\", # 15-24\n",
    "                        \"INW_2544\", #etc\n",
    "                        \"INW_4564\",# etc\n",
    "                        \"INW_65PL\",# etc\n",
    "                        \"P_NL_ACHTG\", # % NL achtergrond\n",
    "                        \"P_WE_MIG_A\", # % western migration background\n",
    "                        \"P_NW_MIG_A\", # % non-western migration background\n",
    "                        \"WONVOOR45\", # n buildings before 45\n",
    "                        \"WON_4564\", # between 45 - 65\n",
    "                        \"WON_6574\", # etc\n",
    "                        \"WON_7584\", # etc\n",
    "                        \"WON_8594\", # etc\n",
    "                        \"WON_9504\", # etc\n",
    "                        \"WON_0514\", # etc\n",
    "                        \"WON_1524\", # etc\n",
    "                        # \"WOZWONING\", # median WOZ value  !! not in 2015/16/17/18\n",
    "                        \"P_KOOPWON\", # % rental\n",
    "                        \"P_HUURWON\", # % bought\n",
    "                        \"WON_HCORP\", # n social housing\n",
    "                        \"M_INKHH\", # median income (categorical)\n",
    "                        # \"P_LINK_HH\", # percentage low income  !! not in 2015\n",
    "                        # \"P_HINK_HH\", # percentage high income  !! not in 2015\n",
    "                        \"G_ELEK_WON\", # average electricity use\n",
    "                        \"G_GAS_WON\", # average gas yse\n",
    "                        \"UITKMINAOW\", # n inhabitants with uitkering\n",
    "                        \"AFS_HAPRAK\", # distance to huisarst praktrijk\n",
    "                        \"AFS_ZIEK_I\", # distance to hospital with ... kliniek\n",
    "                        \"AFS_SUPERM\", # distance to big supermarket\n",
    "                        \"AFS_ONDVRT\", # distance to vo\n",
    "                        \"AFS_OPRIT\", # dinstane to oprit big road\n",
    "                        \"AFS_TREINS\", # distance to train statuib\n",
    "                        \"AFS_TRNOVS\"] # distance to major transfer station\n",
    "    \n",
    "    cbs15 = cbs15[cbs_nab_variables]\n",
    "    cbs16 = cbs16[cbs_nab_variables]\n",
    "    cbs17 = cbs17[cbs_nab_variables]\n",
    "    cbs18 = cbs18[cbs_nab_variables]\n",
    "    cbs19[['M_INKHH', 'AFS_HAPRAK', 'AFS_ZIEK_I', 'AFS_SUPERM', 'AFS_ONDVRT', 'AFS_OPRIT', 'AFS_TREINS', 'AFS_TRNOVS']] = np.NaN\n",
    "    cbs19 = cbs19[cbs_nab_variables]\n",
    "    \n",
    "    print(cbs15.columns)\n",
    "\n",
    "    cbs15[\"UITKMINAOW\"] = cbs15[\"UITKMINAOW\"].values / cbs15[\"INWONER\"].values\n",
    "    cbs16[\"UITKMINAOW\"] = cbs16[\"UITKMINAOW\"].values / cbs16[\"INWONER\"].values\n",
    "    cbs17[\"UITKMINAOW\"] = cbs17[\"UITKMINAOW\"].values / cbs17[\"INWONER\"].values\n",
    "    cbs18[\"UITKMINAOW\"] = cbs18[\"UITKMINAOW\"].values / cbs18[\"INWONER\"].values\n",
    "    cbs19[\"UITKMINAOW\"] = cbs19[\"UITKMINAOW\"].values / cbs19[\"INWONER\"].values\n",
    "    \n",
    "    tot15 = cbs15[\"WONVOOR45\"] + cbs15[\"WON_4564\"] + cbs15[\"WON_6574\"] + cbs15[\"WON_7584\"] + cbs15[\"WON_8594\"] + cbs15[\"WON_9504\"]+ cbs15[\"WON_0514\"] + cbs15[\"WON_1524\"]\n",
    "    tot16 = cbs16[\"WONVOOR45\"] + cbs16[\"WON_4564\"] + cbs16[\"WON_6574\"] + cbs16[\"WON_7584\"] + cbs16[\"WON_8594\"] + cbs16[\"WON_9504\"]+ cbs16[\"WON_0514\"] + cbs16[\"WON_1524\"]\n",
    "    tot17 = cbs17[\"WONVOOR45\"] + cbs17[\"WON_4564\"] + cbs17[\"WON_6574\"] + cbs17[\"WON_7584\"] + cbs17[\"WON_8594\"] + cbs17[\"WON_9504\"]+ cbs17[\"WON_0514\"] + cbs17[\"WON_1524\"]\n",
    "    tot18 = cbs18[\"WONVOOR45\"] + cbs18[\"WON_4564\"] + cbs18[\"WON_6574\"] + cbs18[\"WON_7584\"] + cbs18[\"WON_8594\"] + cbs18[\"WON_9504\"]+ cbs18[\"WON_0514\"] + cbs18[\"WON_1524\"]\n",
    "    tot19 = cbs19[\"WONVOOR45\"] + cbs19[\"WON_4564\"] + cbs19[\"WON_6574\"] + cbs19[\"WON_7584\"] + cbs19[\"WON_8594\"] + cbs19[\"WON_9504\"]+ cbs19[\"WON_0514\"] + cbs19[\"WON_1524\"]\n",
    "\n",
    "    cbs15[\"p_buildBefore2000_g\"] = (cbs15[\"WONVOOR45\"] + cbs15[\"WON_4564\"] + cbs15[\"WON_6574\"] + cbs15[\"WON_7584\"] + cbs15[\"WON_8594\"] + (cbs15[\"WON_9504\"] / 2)) / tot15\n",
    "    cbs16[\"p_buildBefore2000_g\"] = (cbs16[\"WONVOOR45\"] + cbs16[\"WON_4564\"] + cbs16[\"WON_6574\"] + cbs16[\"WON_7584\"] + cbs16[\"WON_8594\"] + (cbs16[\"WON_9504\"] / 2)) / tot16\n",
    "    cbs17[\"p_buildBefore2000_g\"] = (cbs17[\"WONVOOR45\"] + cbs17[\"WON_4564\"] + cbs17[\"WON_6574\"] + cbs17[\"WON_7584\"] + cbs17[\"WON_8594\"] + (cbs17[\"WON_9504\"] / 2)) / tot17\n",
    "    cbs18[\"p_buildBefore2000_g\"] = (cbs18[\"WONVOOR45\"] + cbs18[\"WON_4564\"] + cbs18[\"WON_6574\"] + cbs18[\"WON_7584\"] + cbs18[\"WON_8594\"] + (cbs18[\"WON_9504\"] / 2)) / tot18\n",
    "    cbs19[\"p_buildBefore2000_g\"] = (cbs19[\"WONVOOR45\"] + cbs19[\"WON_4564\"] + cbs19[\"WON_6574\"] + cbs19[\"WON_7584\"] + cbs19[\"WON_8594\"] + (cbs19[\"WON_9504\"] / 2)) / tot19\n",
    "\n",
    "    cbs15[\"p_buildAfter2000_g\"] = ((cbs15[\"WON_9504\"] / 2) + cbs15[\"WON_0514\"] + cbs15[\"WON_1524\"]) / tot15\n",
    "    cbs16[\"p_buildAfter2000_g\"] = ((cbs16[\"WON_9504\"] / 2) + cbs16[\"WON_0514\"] + cbs16[\"WON_1524\"]) / tot16\n",
    "    cbs17[\"p_buildAfter2000_g\"] = ((cbs17[\"WON_9504\"] / 2) + cbs17[\"WON_0514\"] + cbs17[\"WON_1524\"]) / tot17\n",
    "    cbs18[\"p_buildAfter2000_g\"] = ((cbs18[\"WON_9504\"] / 2) + cbs18[\"WON_0514\"] + cbs18[\"WON_1524\"]) / tot18\n",
    "    cbs19[\"p_buildAfter2000_g\"] = ((cbs19[\"WON_9504\"] / 2) + cbs19[\"WON_0514\"] + cbs19[\"WON_1524\"]) / tot19\n",
    "\n",
    "    cbs15 = cbs15.drop([\"WONVOOR45\", \"INW_4564\", \"WON_6574\", \"WON_7584\", \"WON_8594\", \"WON_9504\", \"WON_0514\", \"WON_1524\"], axis = 1)\n",
    "    cbs16 = cbs16.drop([\"WONVOOR45\", \"INW_4564\", \"WON_6574\", \"WON_7584\", \"WON_8594\", \"WON_9504\", \"WON_0514\", \"WON_1524\"], axis = 1)\n",
    "    cbs17 = cbs17.drop([\"WONVOOR45\", \"INW_4564\", \"WON_6574\", \"WON_7584\", \"WON_8594\", \"WON_9504\", \"WON_0514\", \"WON_1524\"], axis = 1)\n",
    "    cbs18 = cbs18.drop([\"WONVOOR45\", \"INW_4564\", \"WON_6574\", \"WON_7584\", \"WON_8594\", \"WON_9504\", \"WON_0514\", \"WON_1524\"], axis = 1)\n",
    "    cbs19 = cbs19.drop([\"WONVOOR45\", \"INW_4564\", \"WON_6574\", \"WON_7584\", \"WON_8594\", \"WON_9504\", \"WON_0514\", \"WON_1524\"], axis = 1)\n",
    "\n",
    "    ##### COLNAMES FIXEN MBT BOUWJAAR!!!! P_build .. vervangen dus\n",
    "\n",
    "    column_names = [\"inwoner_g\", \"geboorte_g\", \"inw_014_g\", \"inw_1524_g\", \"inw_2544_g\", \"inw_4564_g\", \"inw_65_g\",\n",
    "                   \"p_NL_g\", \"p_wester_g\", \"p_nonWestern_g\", \"p_buyhouses_g\", \"p_rentals_g\", \"p_socialHousing_g\",\n",
    "                   \"medianIncome_g\", \"avg_electricity_g\", \"avg_gas_g\", \"p_benefits_g\", \"afs_haprak_g\", \"afs_ziek_g\",\n",
    "                   \"afs_superm_g\", \"afs_vo_g\", \"afs_oprit_g\", \"afs_treins_g\", \"afs_transit_g\", \"p_buildBefore2000_g\",\n",
    "                   \"p_buildAfter2000_g\"]\n",
    "\n",
    "    cbs15.columns = column_names\n",
    "    cbs16.columns = column_names\n",
    "    cbs17.columns = column_names\n",
    "    cbs18.columns = column_names\n",
    "    cbs19.columns = column_names\n",
    "\n",
    "    os.getcwd()\n",
    "    for filename in grouper(os.listdir(PATH), 5, np.NaN):\n",
    "\n",
    "        data2015 = pd.read_csv(PATH + filename[0],index_col = \"C28992R100\")\n",
    "        \n",
    "        data2016 = pd.read_csv(PATH + filename[1],index_col = \"C28992R100\")\n",
    "        data2017 = pd.read_csv(PATH + filename[2],index_col = \"C28992R100\")\n",
    "        data2018 = pd.read_csv(PATH + filename[3],index_col = \"C28992R100\")\n",
    "        data2019 = pd.read_csv(PATH + filename[4],index_col = \"C28992R100\")\n",
    "        \n",
    "    \n",
    "        data2015 = data2015.join(cbs15, how = \"left\")\n",
    "        data2016 = data2016.join(cbs16, how = \"left\")\n",
    "        data2017 = data2017.join(cbs17, how = \"left\")\n",
    "        data2018 = data2018.join(cbs18, how = \"left\")\n",
    "        data2019 = data2019.join(cbs19, how = \"left\")\n",
    "\n",
    "        data2015.to_csv(\"../Data/snap2/\" + filename[0])\n",
    "        data2016.to_csv(\"../Data/snap2/\" + filename[1])\n",
    "        data2017.to_csv(\"../Data/snap2/\" + filename[2])\n",
    "        data2018.to_csv(\"../Data/snap2/\" + filename[3])\n",
    "        data2019.to_csv(\"../Data/snap2/\" + filename[4])"
   ]
  },
  {
   "cell_type": "code",
   "execution_count": 105,
   "metadata": {
    "scrolled": false
   },
   "outputs": [
    {
     "name": "stdout",
     "output_type": "stream",
     "text": [
      "Index(['INWONER', 'GEBOORTE', 'INW_014', 'INW_1524', 'INW_2544', 'INW_4564',\n",
      "       'INW_65PL', 'P_NL_ACHTG', 'P_WE_MIG_A', 'P_NW_MIG_A', 'WONVOOR45',\n",
      "       'WON_4564', 'WON_6574', 'WON_7584', 'WON_8594', 'WON_9504', 'WON_0514',\n",
      "       'WON_1524', 'P_KOOPWON', 'P_HUURWON', 'WON_HCORP', 'M_INKHH',\n",
      "       'G_ELEK_WON', 'G_GAS_WON', 'UITKMINAOW', 'AFS_HAPRAK', 'AFS_ZIEK_I',\n",
      "       'AFS_SUPERM', 'AFS_ONDVRT', 'AFS_OPRIT', 'AFS_TREINS', 'AFS_TRNOVS'],\n",
      "      dtype='object')\n"
     ]
    },
    {
     "name": "stderr",
     "output_type": "stream",
     "text": [
      "C:\\Users\\Gebruiker\\anaconda3\\lib\\site-packages\\ipykernel_launcher.py:54: SettingWithCopyWarning: \n",
      "A value is trying to be set on a copy of a slice from a DataFrame.\n",
      "Try using .loc[row_indexer,col_indexer] = value instead\n",
      "\n",
      "See the caveats in the documentation: https://pandas.pydata.org/pandas-docs/stable/user_guide/indexing.html#returning-a-view-versus-a-copy\n",
      "C:\\Users\\Gebruiker\\anaconda3\\lib\\site-packages\\ipykernel_launcher.py:55: SettingWithCopyWarning: \n",
      "A value is trying to be set on a copy of a slice from a DataFrame.\n",
      "Try using .loc[row_indexer,col_indexer] = value instead\n",
      "\n",
      "See the caveats in the documentation: https://pandas.pydata.org/pandas-docs/stable/user_guide/indexing.html#returning-a-view-versus-a-copy\n",
      "C:\\Users\\Gebruiker\\anaconda3\\lib\\site-packages\\ipykernel_launcher.py:56: SettingWithCopyWarning: \n",
      "A value is trying to be set on a copy of a slice from a DataFrame.\n",
      "Try using .loc[row_indexer,col_indexer] = value instead\n",
      "\n",
      "See the caveats in the documentation: https://pandas.pydata.org/pandas-docs/stable/user_guide/indexing.html#returning-a-view-versus-a-copy\n",
      "C:\\Users\\Gebruiker\\anaconda3\\lib\\site-packages\\ipykernel_launcher.py:57: SettingWithCopyWarning: \n",
      "A value is trying to be set on a copy of a slice from a DataFrame.\n",
      "Try using .loc[row_indexer,col_indexer] = value instead\n",
      "\n",
      "See the caveats in the documentation: https://pandas.pydata.org/pandas-docs/stable/user_guide/indexing.html#returning-a-view-versus-a-copy\n",
      "C:\\Users\\Gebruiker\\anaconda3\\lib\\site-packages\\ipykernel_launcher.py:58: SettingWithCopyWarning: \n",
      "A value is trying to be set on a copy of a slice from a DataFrame.\n",
      "Try using .loc[row_indexer,col_indexer] = value instead\n",
      "\n",
      "See the caveats in the documentation: https://pandas.pydata.org/pandas-docs/stable/user_guide/indexing.html#returning-a-view-versus-a-copy\n",
      "C:\\Users\\Gebruiker\\anaconda3\\lib\\site-packages\\ipykernel_launcher.py:66: SettingWithCopyWarning: \n",
      "A value is trying to be set on a copy of a slice from a DataFrame.\n",
      "Try using .loc[row_indexer,col_indexer] = value instead\n",
      "\n",
      "See the caveats in the documentation: https://pandas.pydata.org/pandas-docs/stable/user_guide/indexing.html#returning-a-view-versus-a-copy\n",
      "C:\\Users\\Gebruiker\\anaconda3\\lib\\site-packages\\ipykernel_launcher.py:67: SettingWithCopyWarning: \n",
      "A value is trying to be set on a copy of a slice from a DataFrame.\n",
      "Try using .loc[row_indexer,col_indexer] = value instead\n",
      "\n",
      "See the caveats in the documentation: https://pandas.pydata.org/pandas-docs/stable/user_guide/indexing.html#returning-a-view-versus-a-copy\n",
      "C:\\Users\\Gebruiker\\anaconda3\\lib\\site-packages\\ipykernel_launcher.py:68: SettingWithCopyWarning: \n",
      "A value is trying to be set on a copy of a slice from a DataFrame.\n",
      "Try using .loc[row_indexer,col_indexer] = value instead\n",
      "\n",
      "See the caveats in the documentation: https://pandas.pydata.org/pandas-docs/stable/user_guide/indexing.html#returning-a-view-versus-a-copy\n",
      "C:\\Users\\Gebruiker\\anaconda3\\lib\\site-packages\\ipykernel_launcher.py:69: SettingWithCopyWarning: \n",
      "A value is trying to be set on a copy of a slice from a DataFrame.\n",
      "Try using .loc[row_indexer,col_indexer] = value instead\n",
      "\n",
      "See the caveats in the documentation: https://pandas.pydata.org/pandas-docs/stable/user_guide/indexing.html#returning-a-view-versus-a-copy\n",
      "C:\\Users\\Gebruiker\\anaconda3\\lib\\site-packages\\ipykernel_launcher.py:70: SettingWithCopyWarning: \n",
      "A value is trying to be set on a copy of a slice from a DataFrame.\n",
      "Try using .loc[row_indexer,col_indexer] = value instead\n",
      "\n",
      "See the caveats in the documentation: https://pandas.pydata.org/pandas-docs/stable/user_guide/indexing.html#returning-a-view-versus-a-copy\n",
      "C:\\Users\\Gebruiker\\anaconda3\\lib\\site-packages\\ipykernel_launcher.py:72: SettingWithCopyWarning: \n",
      "A value is trying to be set on a copy of a slice from a DataFrame.\n",
      "Try using .loc[row_indexer,col_indexer] = value instead\n",
      "\n",
      "See the caveats in the documentation: https://pandas.pydata.org/pandas-docs/stable/user_guide/indexing.html#returning-a-view-versus-a-copy\n",
      "C:\\Users\\Gebruiker\\anaconda3\\lib\\site-packages\\ipykernel_launcher.py:73: SettingWithCopyWarning: \n",
      "A value is trying to be set on a copy of a slice from a DataFrame.\n",
      "Try using .loc[row_indexer,col_indexer] = value instead\n",
      "\n",
      "See the caveats in the documentation: https://pandas.pydata.org/pandas-docs/stable/user_guide/indexing.html#returning-a-view-versus-a-copy\n",
      "C:\\Users\\Gebruiker\\anaconda3\\lib\\site-packages\\ipykernel_launcher.py:74: SettingWithCopyWarning: \n",
      "A value is trying to be set on a copy of a slice from a DataFrame.\n",
      "Try using .loc[row_indexer,col_indexer] = value instead\n",
      "\n",
      "See the caveats in the documentation: https://pandas.pydata.org/pandas-docs/stable/user_guide/indexing.html#returning-a-view-versus-a-copy\n",
      "C:\\Users\\Gebruiker\\anaconda3\\lib\\site-packages\\ipykernel_launcher.py:75: SettingWithCopyWarning: \n",
      "A value is trying to be set on a copy of a slice from a DataFrame.\n",
      "Try using .loc[row_indexer,col_indexer] = value instead\n",
      "\n",
      "See the caveats in the documentation: https://pandas.pydata.org/pandas-docs/stable/user_guide/indexing.html#returning-a-view-versus-a-copy\n",
      "C:\\Users\\Gebruiker\\anaconda3\\lib\\site-packages\\ipykernel_launcher.py:76: SettingWithCopyWarning: \n",
      "A value is trying to be set on a copy of a slice from a DataFrame.\n",
      "Try using .loc[row_indexer,col_indexer] = value instead\n",
      "\n",
      "See the caveats in the documentation: https://pandas.pydata.org/pandas-docs/stable/user_guide/indexing.html#returning-a-view-versus-a-copy\n"
     ]
    },
    {
     "name": "stdout",
     "output_type": "stream",
     "text": [
      "('Almere15.csv', 'Almere16.csv', 'Almere17.csv', 'Almere18.csv', 'Almere19.csv')\n"
     ]
    }
   ],
   "source": [
    "f = snap2(\"../Data/snap1/\", cbs15,cbs16,cbs17,cbs18,cbs19)"
   ]
  },
  {
   "cell_type": "code",
   "execution_count": 108,
   "metadata": {},
   "outputs": [
    {
     "ename": "ChunkedEncodingError",
     "evalue": "(\"Connection broken: ConnectionAbortedError(10053, 'De software op uw hostcomputer heeft een verbinding verbroken', None, 10053, None)\", ConnectionAbortedError(10053, 'De software op uw hostcomputer heeft een verbinding verbroken', None, 10053, None))",
     "output_type": "error",
     "traceback": [
      "\u001b[1;31m---------------------------------------------------------------------------\u001b[0m",
      "\u001b[1;31mConnectionAbortedError\u001b[0m                    Traceback (most recent call last)",
      "\u001b[1;32m~\\anaconda3\\lib\\site-packages\\urllib3\\response.py\u001b[0m in \u001b[0;36m_error_catcher\u001b[1;34m(self)\u001b[0m\n\u001b[0;32m    437\u001b[0m             \u001b[1;32mtry\u001b[0m\u001b[1;33m:\u001b[0m\u001b[1;33m\u001b[0m\u001b[1;33m\u001b[0m\u001b[0m\n\u001b[1;32m--> 438\u001b[1;33m                 \u001b[1;32myield\u001b[0m\u001b[1;33m\u001b[0m\u001b[1;33m\u001b[0m\u001b[0m\n\u001b[0m\u001b[0;32m    439\u001b[0m \u001b[1;33m\u001b[0m\u001b[0m\n",
      "\u001b[1;32m~\\anaconda3\\lib\\site-packages\\urllib3\\response.py\u001b[0m in \u001b[0;36mread\u001b[1;34m(self, amt, decode_content, cache_content)\u001b[0m\n\u001b[0;32m    518\u001b[0m                 \u001b[0mcache_content\u001b[0m \u001b[1;33m=\u001b[0m \u001b[1;32mFalse\u001b[0m\u001b[1;33m\u001b[0m\u001b[1;33m\u001b[0m\u001b[0m\n\u001b[1;32m--> 519\u001b[1;33m                 \u001b[0mdata\u001b[0m \u001b[1;33m=\u001b[0m \u001b[0mself\u001b[0m\u001b[1;33m.\u001b[0m\u001b[0m_fp\u001b[0m\u001b[1;33m.\u001b[0m\u001b[0mread\u001b[0m\u001b[1;33m(\u001b[0m\u001b[0mamt\u001b[0m\u001b[1;33m)\u001b[0m \u001b[1;32mif\u001b[0m \u001b[1;32mnot\u001b[0m \u001b[0mfp_closed\u001b[0m \u001b[1;32melse\u001b[0m \u001b[1;34mb\"\"\u001b[0m\u001b[1;33m\u001b[0m\u001b[1;33m\u001b[0m\u001b[0m\n\u001b[0m\u001b[0;32m    520\u001b[0m                 if (\n",
      "\u001b[1;32m~\\anaconda3\\lib\\http\\client.py\u001b[0m in \u001b[0;36mread\u001b[1;34m(self, amt)\u001b[0m\n\u001b[0;32m    464\u001b[0m             \u001b[0mb\u001b[0m \u001b[1;33m=\u001b[0m \u001b[0mbytearray\u001b[0m\u001b[1;33m(\u001b[0m\u001b[0mamt\u001b[0m\u001b[1;33m)\u001b[0m\u001b[1;33m\u001b[0m\u001b[1;33m\u001b[0m\u001b[0m\n\u001b[1;32m--> 465\u001b[1;33m             \u001b[0mn\u001b[0m \u001b[1;33m=\u001b[0m \u001b[0mself\u001b[0m\u001b[1;33m.\u001b[0m\u001b[0mreadinto\u001b[0m\u001b[1;33m(\u001b[0m\u001b[0mb\u001b[0m\u001b[1;33m)\u001b[0m\u001b[1;33m\u001b[0m\u001b[1;33m\u001b[0m\u001b[0m\n\u001b[0m\u001b[0;32m    466\u001b[0m             \u001b[1;32mreturn\u001b[0m \u001b[0mmemoryview\u001b[0m\u001b[1;33m(\u001b[0m\u001b[0mb\u001b[0m\u001b[1;33m)\u001b[0m\u001b[1;33m[\u001b[0m\u001b[1;33m:\u001b[0m\u001b[0mn\u001b[0m\u001b[1;33m]\u001b[0m\u001b[1;33m.\u001b[0m\u001b[0mtobytes\u001b[0m\u001b[1;33m(\u001b[0m\u001b[1;33m)\u001b[0m\u001b[1;33m\u001b[0m\u001b[1;33m\u001b[0m\u001b[0m\n",
      "\u001b[1;32m~\\anaconda3\\lib\\http\\client.py\u001b[0m in \u001b[0;36mreadinto\u001b[1;34m(self, b)\u001b[0m\n\u001b[0;32m    508\u001b[0m         \u001b[1;31m# (for example, reading in 1k chunks)\u001b[0m\u001b[1;33m\u001b[0m\u001b[1;33m\u001b[0m\u001b[1;33m\u001b[0m\u001b[0m\n\u001b[1;32m--> 509\u001b[1;33m         \u001b[0mn\u001b[0m \u001b[1;33m=\u001b[0m \u001b[0mself\u001b[0m\u001b[1;33m.\u001b[0m\u001b[0mfp\u001b[0m\u001b[1;33m.\u001b[0m\u001b[0mreadinto\u001b[0m\u001b[1;33m(\u001b[0m\u001b[0mb\u001b[0m\u001b[1;33m)\u001b[0m\u001b[1;33m\u001b[0m\u001b[1;33m\u001b[0m\u001b[0m\n\u001b[0m\u001b[0;32m    510\u001b[0m         \u001b[1;32mif\u001b[0m \u001b[1;32mnot\u001b[0m \u001b[0mn\u001b[0m \u001b[1;32mand\u001b[0m \u001b[0mb\u001b[0m\u001b[1;33m:\u001b[0m\u001b[1;33m\u001b[0m\u001b[1;33m\u001b[0m\u001b[0m\n",
      "\u001b[1;32m~\\anaconda3\\lib\\socket.py\u001b[0m in \u001b[0;36mreadinto\u001b[1;34m(self, b)\u001b[0m\n\u001b[0;32m    588\u001b[0m             \u001b[1;32mtry\u001b[0m\u001b[1;33m:\u001b[0m\u001b[1;33m\u001b[0m\u001b[1;33m\u001b[0m\u001b[0m\n\u001b[1;32m--> 589\u001b[1;33m                 \u001b[1;32mreturn\u001b[0m \u001b[0mself\u001b[0m\u001b[1;33m.\u001b[0m\u001b[0m_sock\u001b[0m\u001b[1;33m.\u001b[0m\u001b[0mrecv_into\u001b[0m\u001b[1;33m(\u001b[0m\u001b[0mb\u001b[0m\u001b[1;33m)\u001b[0m\u001b[1;33m\u001b[0m\u001b[1;33m\u001b[0m\u001b[0m\n\u001b[0m\u001b[0;32m    590\u001b[0m             \u001b[1;32mexcept\u001b[0m \u001b[0mtimeout\u001b[0m\u001b[1;33m:\u001b[0m\u001b[1;33m\u001b[0m\u001b[1;33m\u001b[0m\u001b[0m\n",
      "\u001b[1;32m~\\anaconda3\\lib\\ssl.py\u001b[0m in \u001b[0;36mrecv_into\u001b[1;34m(self, buffer, nbytes, flags)\u001b[0m\n\u001b[0;32m   1070\u001b[0m                   self.__class__)\n\u001b[1;32m-> 1071\u001b[1;33m             \u001b[1;32mreturn\u001b[0m \u001b[0mself\u001b[0m\u001b[1;33m.\u001b[0m\u001b[0mread\u001b[0m\u001b[1;33m(\u001b[0m\u001b[0mnbytes\u001b[0m\u001b[1;33m,\u001b[0m \u001b[0mbuffer\u001b[0m\u001b[1;33m)\u001b[0m\u001b[1;33m\u001b[0m\u001b[1;33m\u001b[0m\u001b[0m\n\u001b[0m\u001b[0;32m   1072\u001b[0m         \u001b[1;32melse\u001b[0m\u001b[1;33m:\u001b[0m\u001b[1;33m\u001b[0m\u001b[1;33m\u001b[0m\u001b[0m\n",
      "\u001b[1;32m~\\anaconda3\\lib\\ssl.py\u001b[0m in \u001b[0;36mread\u001b[1;34m(self, len, buffer)\u001b[0m\n\u001b[0;32m    928\u001b[0m             \u001b[1;32mif\u001b[0m \u001b[0mbuffer\u001b[0m \u001b[1;32mis\u001b[0m \u001b[1;32mnot\u001b[0m \u001b[1;32mNone\u001b[0m\u001b[1;33m:\u001b[0m\u001b[1;33m\u001b[0m\u001b[1;33m\u001b[0m\u001b[0m\n\u001b[1;32m--> 929\u001b[1;33m                 \u001b[1;32mreturn\u001b[0m \u001b[0mself\u001b[0m\u001b[1;33m.\u001b[0m\u001b[0m_sslobj\u001b[0m\u001b[1;33m.\u001b[0m\u001b[0mread\u001b[0m\u001b[1;33m(\u001b[0m\u001b[0mlen\u001b[0m\u001b[1;33m,\u001b[0m \u001b[0mbuffer\u001b[0m\u001b[1;33m)\u001b[0m\u001b[1;33m\u001b[0m\u001b[1;33m\u001b[0m\u001b[0m\n\u001b[0m\u001b[0;32m    930\u001b[0m             \u001b[1;32melse\u001b[0m\u001b[1;33m:\u001b[0m\u001b[1;33m\u001b[0m\u001b[1;33m\u001b[0m\u001b[0m\n",
      "\u001b[1;31mConnectionAbortedError\u001b[0m: [WinError 10053] De software op uw hostcomputer heeft een verbinding verbroken",
      "\nDuring handling of the above exception, another exception occurred:\n",
      "\u001b[1;31mProtocolError\u001b[0m                             Traceback (most recent call last)",
      "\u001b[1;32m~\\anaconda3\\lib\\site-packages\\requests\\models.py\u001b[0m in \u001b[0;36mgenerate\u001b[1;34m()\u001b[0m\n\u001b[0;32m    757\u001b[0m                 \u001b[1;32mtry\u001b[0m\u001b[1;33m:\u001b[0m\u001b[1;33m\u001b[0m\u001b[1;33m\u001b[0m\u001b[0m\n\u001b[1;32m--> 758\u001b[1;33m                     \u001b[1;32mfor\u001b[0m \u001b[0mchunk\u001b[0m \u001b[1;32min\u001b[0m \u001b[0mself\u001b[0m\u001b[1;33m.\u001b[0m\u001b[0mraw\u001b[0m\u001b[1;33m.\u001b[0m\u001b[0mstream\u001b[0m\u001b[1;33m(\u001b[0m\u001b[0mchunk_size\u001b[0m\u001b[1;33m,\u001b[0m \u001b[0mdecode_content\u001b[0m\u001b[1;33m=\u001b[0m\u001b[1;32mTrue\u001b[0m\u001b[1;33m)\u001b[0m\u001b[1;33m:\u001b[0m\u001b[1;33m\u001b[0m\u001b[1;33m\u001b[0m\u001b[0m\n\u001b[0m\u001b[0;32m    759\u001b[0m                         \u001b[1;32myield\u001b[0m \u001b[0mchunk\u001b[0m\u001b[1;33m\u001b[0m\u001b[1;33m\u001b[0m\u001b[0m\n",
      "\u001b[1;32m~\\anaconda3\\lib\\site-packages\\urllib3\\response.py\u001b[0m in \u001b[0;36mstream\u001b[1;34m(self, amt, decode_content)\u001b[0m\n\u001b[0;32m    575\u001b[0m             \u001b[1;32mwhile\u001b[0m \u001b[1;32mnot\u001b[0m \u001b[0mis_fp_closed\u001b[0m\u001b[1;33m(\u001b[0m\u001b[0mself\u001b[0m\u001b[1;33m.\u001b[0m\u001b[0m_fp\u001b[0m\u001b[1;33m)\u001b[0m\u001b[1;33m:\u001b[0m\u001b[1;33m\u001b[0m\u001b[1;33m\u001b[0m\u001b[0m\n\u001b[1;32m--> 576\u001b[1;33m                 \u001b[0mdata\u001b[0m \u001b[1;33m=\u001b[0m \u001b[0mself\u001b[0m\u001b[1;33m.\u001b[0m\u001b[0mread\u001b[0m\u001b[1;33m(\u001b[0m\u001b[0mamt\u001b[0m\u001b[1;33m=\u001b[0m\u001b[0mamt\u001b[0m\u001b[1;33m,\u001b[0m \u001b[0mdecode_content\u001b[0m\u001b[1;33m=\u001b[0m\u001b[0mdecode_content\u001b[0m\u001b[1;33m)\u001b[0m\u001b[1;33m\u001b[0m\u001b[1;33m\u001b[0m\u001b[0m\n\u001b[0m\u001b[0;32m    577\u001b[0m \u001b[1;33m\u001b[0m\u001b[0m\n",
      "\u001b[1;32m~\\anaconda3\\lib\\site-packages\\urllib3\\response.py\u001b[0m in \u001b[0;36mread\u001b[1;34m(self, amt, decode_content, cache_content)\u001b[0m\n\u001b[0;32m    540\u001b[0m                         \u001b[1;31m# Content-Length are caught.\u001b[0m\u001b[1;33m\u001b[0m\u001b[1;33m\u001b[0m\u001b[1;33m\u001b[0m\u001b[0m\n\u001b[1;32m--> 541\u001b[1;33m                         \u001b[1;32mraise\u001b[0m \u001b[0mIncompleteRead\u001b[0m\u001b[1;33m(\u001b[0m\u001b[0mself\u001b[0m\u001b[1;33m.\u001b[0m\u001b[0m_fp_bytes_read\u001b[0m\u001b[1;33m,\u001b[0m \u001b[0mself\u001b[0m\u001b[1;33m.\u001b[0m\u001b[0mlength_remaining\u001b[0m\u001b[1;33m)\u001b[0m\u001b[1;33m\u001b[0m\u001b[1;33m\u001b[0m\u001b[0m\n\u001b[0m\u001b[0;32m    542\u001b[0m \u001b[1;33m\u001b[0m\u001b[0m\n",
      "\u001b[1;32m~\\anaconda3\\lib\\contextlib.py\u001b[0m in \u001b[0;36m__exit__\u001b[1;34m(self, type, value, traceback)\u001b[0m\n\u001b[0;32m    129\u001b[0m             \u001b[1;32mtry\u001b[0m\u001b[1;33m:\u001b[0m\u001b[1;33m\u001b[0m\u001b[1;33m\u001b[0m\u001b[0m\n\u001b[1;32m--> 130\u001b[1;33m                 \u001b[0mself\u001b[0m\u001b[1;33m.\u001b[0m\u001b[0mgen\u001b[0m\u001b[1;33m.\u001b[0m\u001b[0mthrow\u001b[0m\u001b[1;33m(\u001b[0m\u001b[0mtype\u001b[0m\u001b[1;33m,\u001b[0m \u001b[0mvalue\u001b[0m\u001b[1;33m,\u001b[0m \u001b[0mtraceback\u001b[0m\u001b[1;33m)\u001b[0m\u001b[1;33m\u001b[0m\u001b[1;33m\u001b[0m\u001b[0m\n\u001b[0m\u001b[0;32m    131\u001b[0m             \u001b[1;32mexcept\u001b[0m \u001b[0mStopIteration\u001b[0m \u001b[1;32mas\u001b[0m \u001b[0mexc\u001b[0m\u001b[1;33m:\u001b[0m\u001b[1;33m\u001b[0m\u001b[1;33m\u001b[0m\u001b[0m\n",
      "\u001b[1;32m~\\anaconda3\\lib\\site-packages\\urllib3\\response.py\u001b[0m in \u001b[0;36m_error_catcher\u001b[1;34m(self)\u001b[0m\n\u001b[0;32m    454\u001b[0m                 \u001b[1;31m# This includes IncompleteRead.\u001b[0m\u001b[1;33m\u001b[0m\u001b[1;33m\u001b[0m\u001b[1;33m\u001b[0m\u001b[0m\n\u001b[1;32m--> 455\u001b[1;33m                 \u001b[1;32mraise\u001b[0m \u001b[0mProtocolError\u001b[0m\u001b[1;33m(\u001b[0m\u001b[1;34m\"Connection broken: %r\"\u001b[0m \u001b[1;33m%\u001b[0m \u001b[0me\u001b[0m\u001b[1;33m,\u001b[0m \u001b[0me\u001b[0m\u001b[1;33m)\u001b[0m\u001b[1;33m\u001b[0m\u001b[1;33m\u001b[0m\u001b[0m\n\u001b[0m\u001b[0;32m    456\u001b[0m \u001b[1;33m\u001b[0m\u001b[0m\n",
      "\u001b[1;31mProtocolError\u001b[0m: (\"Connection broken: ConnectionAbortedError(10053, 'De software op uw hostcomputer heeft een verbinding verbroken', None, 10053, None)\", ConnectionAbortedError(10053, 'De software op uw hostcomputer heeft een verbinding verbroken', None, 10053, None))",
      "\nDuring handling of the above exception, another exception occurred:\n",
      "\u001b[1;31mChunkedEncodingError\u001b[0m                      Traceback (most recent call last)",
      "\u001b[1;32mC:\\Users\\GEBRUI~1\\AppData\\Local\\Temp/ipykernel_7212/2640311580.py\u001b[0m in \u001b[0;36m<module>\u001b[1;34m\u001b[0m\n\u001b[1;32m----> 1\u001b[1;33m \u001b[0mcbs15\u001b[0m \u001b[1;33m=\u001b[0m \u001b[0mpd\u001b[0m\u001b[1;33m.\u001b[0m\u001b[0mDataFrame\u001b[0m\u001b[1;33m(\u001b[0m\u001b[0mcbsodata\u001b[0m\u001b[1;33m.\u001b[0m\u001b[0mget_data\u001b[0m\u001b[1;33m(\u001b[0m\u001b[1;34m'83304NED'\u001b[0m\u001b[1;33m)\u001b[0m\u001b[1;33m)\u001b[0m\u001b[1;33m.\u001b[0m\u001b[0mset_index\u001b[0m\u001b[1;33m(\u001b[0m\u001b[1;34m\"Codering_3\"\u001b[0m\u001b[1;33m)\u001b[0m\u001b[1;33m\u001b[0m\u001b[1;33m\u001b[0m\u001b[0m\n\u001b[0m\u001b[0;32m      2\u001b[0m \u001b[0mcbs16\u001b[0m \u001b[1;33m=\u001b[0m \u001b[0mpd\u001b[0m\u001b[1;33m.\u001b[0m\u001b[0mDataFrame\u001b[0m\u001b[1;33m(\u001b[0m\u001b[0mcbsodata\u001b[0m\u001b[1;33m.\u001b[0m\u001b[0mget_data\u001b[0m\u001b[1;33m(\u001b[0m\u001b[1;34m'83749NED'\u001b[0m\u001b[1;33m)\u001b[0m\u001b[1;33m)\u001b[0m\u001b[1;33m.\u001b[0m\u001b[0mset_index\u001b[0m\u001b[1;33m(\u001b[0m\u001b[1;34m\"Codering_3\"\u001b[0m\u001b[1;33m)\u001b[0m\u001b[1;33m\u001b[0m\u001b[1;33m\u001b[0m\u001b[0m\n\u001b[0;32m      3\u001b[0m \u001b[0mcbs17\u001b[0m \u001b[1;33m=\u001b[0m \u001b[0mpd\u001b[0m\u001b[1;33m.\u001b[0m\u001b[0mDataFrame\u001b[0m\u001b[1;33m(\u001b[0m\u001b[0mcbsodata\u001b[0m\u001b[1;33m.\u001b[0m\u001b[0mget_data\u001b[0m\u001b[1;33m(\u001b[0m\u001b[1;34m'84334NED'\u001b[0m\u001b[1;33m)\u001b[0m\u001b[1;33m)\u001b[0m\u001b[1;33m.\u001b[0m\u001b[0mset_index\u001b[0m\u001b[1;33m(\u001b[0m\u001b[1;34m\"Codering_3\"\u001b[0m\u001b[1;33m)\u001b[0m\u001b[1;33m\u001b[0m\u001b[1;33m\u001b[0m\u001b[0m\n\u001b[0;32m      4\u001b[0m \u001b[0mcbs18\u001b[0m \u001b[1;33m=\u001b[0m \u001b[0mpd\u001b[0m\u001b[1;33m.\u001b[0m\u001b[0mDataFrame\u001b[0m\u001b[1;33m(\u001b[0m\u001b[0mcbsodata\u001b[0m\u001b[1;33m.\u001b[0m\u001b[0mget_data\u001b[0m\u001b[1;33m(\u001b[0m\u001b[1;34m'84463NED'\u001b[0m\u001b[1;33m)\u001b[0m\u001b[1;33m)\u001b[0m\u001b[1;33m.\u001b[0m\u001b[0mset_index\u001b[0m\u001b[1;33m(\u001b[0m\u001b[1;34m\"Codering_3\"\u001b[0m\u001b[1;33m)\u001b[0m\u001b[1;33m\u001b[0m\u001b[1;33m\u001b[0m\u001b[0m\n\u001b[0;32m      5\u001b[0m \u001b[0mcbs19\u001b[0m \u001b[1;33m=\u001b[0m \u001b[0mpd\u001b[0m\u001b[1;33m.\u001b[0m\u001b[0mDataFrame\u001b[0m\u001b[1;33m(\u001b[0m\u001b[0mcbsodata\u001b[0m\u001b[1;33m.\u001b[0m\u001b[0mget_data\u001b[0m\u001b[1;33m(\u001b[0m\u001b[1;34m'84718NED'\u001b[0m\u001b[1;33m)\u001b[0m\u001b[1;33m)\u001b[0m\u001b[1;33m.\u001b[0m\u001b[0mset_index\u001b[0m\u001b[1;33m(\u001b[0m\u001b[1;34m\"Codering_3\"\u001b[0m\u001b[1;33m)\u001b[0m\u001b[1;33m\u001b[0m\u001b[1;33m\u001b[0m\u001b[0m\n",
      "\u001b[1;32m~\\anaconda3\\lib\\site-packages\\cbsodata\\cbsodata3.py\u001b[0m in \u001b[0;36mget_data\u001b[1;34m(table_id, dir, typed, select, filters, catalog_url, **kwargs)\u001b[0m\n\u001b[0;32m    466\u001b[0m         \u001b[0mfilters\u001b[0m\u001b[1;33m=\u001b[0m\u001b[0mfilters\u001b[0m\u001b[1;33m,\u001b[0m\u001b[1;33m\u001b[0m\u001b[1;33m\u001b[0m\u001b[0m\n\u001b[0;32m    467\u001b[0m         \u001b[0mcatalog_url\u001b[0m\u001b[1;33m=\u001b[0m\u001b[0m_catalog_url\u001b[0m\u001b[1;33m,\u001b[0m\u001b[1;33m\u001b[0m\u001b[1;33m\u001b[0m\u001b[0m\n\u001b[1;32m--> 468\u001b[1;33m         \u001b[1;33m**\u001b[0m\u001b[0mkwargs\u001b[0m\u001b[1;33m\u001b[0m\u001b[1;33m\u001b[0m\u001b[0m\n\u001b[0m\u001b[0;32m    469\u001b[0m     )\n\u001b[0;32m    470\u001b[0m \u001b[1;33m\u001b[0m\u001b[0m\n",
      "\u001b[1;32m~\\anaconda3\\lib\\site-packages\\cbsodata\\cbsodata3.py\u001b[0m in \u001b[0;36mdownload_data\u001b[1;34m(table_id, dir, typed, select, filters, catalog_url, **kwargs)\u001b[0m\n\u001b[0;32m    290\u001b[0m                                           \u001b[0mselect\u001b[0m\u001b[1;33m=\u001b[0m\u001b[0mselect\u001b[0m\u001b[1;33m,\u001b[0m \u001b[0mfilters\u001b[0m\u001b[1;33m=\u001b[0m\u001b[0mfilters\u001b[0m\u001b[1;33m,\u001b[0m\u001b[1;33m\u001b[0m\u001b[1;33m\u001b[0m\u001b[0m\n\u001b[0;32m    291\u001b[0m                                           \u001b[0mcatalog_url\u001b[0m\u001b[1;33m=\u001b[0m\u001b[0m_catalog_url\u001b[0m\u001b[1;33m,\u001b[0m\u001b[1;33m\u001b[0m\u001b[1;33m\u001b[0m\u001b[0m\n\u001b[1;32m--> 292\u001b[1;33m                                           **kwargs)\n\u001b[0m\u001b[0;32m    293\u001b[0m         \u001b[1;32melse\u001b[0m\u001b[1;33m:\u001b[0m\u001b[1;33m\u001b[0m\u001b[1;33m\u001b[0m\u001b[0m\n\u001b[0;32m    294\u001b[0m             metadata = _download_metadata(table_id, table_name,\n",
      "\u001b[1;32m~\\anaconda3\\lib\\site-packages\\cbsodata\\cbsodata3.py\u001b[0m in \u001b[0;36m_download_metadata\u001b[1;34m(table_id, metadata_name, select, filters, catalog_url, **kwargs)\u001b[0m\n\u001b[0;32m    168\u001b[0m             \u001b[0mlogging\u001b[0m\u001b[1;33m.\u001b[0m\u001b[0minfo\u001b[0m\u001b[1;33m(\u001b[0m\u001b[1;34m\"Download \"\u001b[0m \u001b[1;33m+\u001b[0m \u001b[0mp\u001b[0m\u001b[1;33m.\u001b[0m\u001b[0murl\u001b[0m\u001b[1;33m)\u001b[0m\u001b[1;33m\u001b[0m\u001b[1;33m\u001b[0m\u001b[0m\n\u001b[0;32m    169\u001b[0m \u001b[1;33m\u001b[0m\u001b[0m\n\u001b[1;32m--> 170\u001b[1;33m             \u001b[0mr\u001b[0m \u001b[1;33m=\u001b[0m \u001b[0ms\u001b[0m\u001b[1;33m.\u001b[0m\u001b[0msend\u001b[0m\u001b[1;33m(\u001b[0m\u001b[0mp\u001b[0m\u001b[1;33m,\u001b[0m \u001b[1;33m**\u001b[0m\u001b[0mrequest_kwargs\u001b[0m\u001b[1;33m)\u001b[0m\u001b[1;33m\u001b[0m\u001b[1;33m\u001b[0m\u001b[0m\n\u001b[0m\u001b[0;32m    171\u001b[0m             \u001b[0mr\u001b[0m\u001b[1;33m.\u001b[0m\u001b[0mraise_for_status\u001b[0m\u001b[1;33m(\u001b[0m\u001b[1;33m)\u001b[0m\u001b[1;33m\u001b[0m\u001b[1;33m\u001b[0m\u001b[0m\n\u001b[0;32m    172\u001b[0m             \u001b[0mr\u001b[0m\u001b[1;33m.\u001b[0m\u001b[0mencoding\u001b[0m \u001b[1;33m=\u001b[0m \u001b[1;34m\"utf-8\"\u001b[0m\u001b[1;33m\u001b[0m\u001b[1;33m\u001b[0m\u001b[0m\n",
      "\u001b[1;32m~\\anaconda3\\lib\\site-packages\\requests\\sessions.py\u001b[0m in \u001b[0;36msend\u001b[1;34m(self, request, **kwargs)\u001b[0m\n\u001b[0;32m    695\u001b[0m \u001b[1;33m\u001b[0m\u001b[0m\n\u001b[0;32m    696\u001b[0m         \u001b[1;32mif\u001b[0m \u001b[1;32mnot\u001b[0m \u001b[0mstream\u001b[0m\u001b[1;33m:\u001b[0m\u001b[1;33m\u001b[0m\u001b[1;33m\u001b[0m\u001b[0m\n\u001b[1;32m--> 697\u001b[1;33m             \u001b[0mr\u001b[0m\u001b[1;33m.\u001b[0m\u001b[0mcontent\u001b[0m\u001b[1;33m\u001b[0m\u001b[1;33m\u001b[0m\u001b[0m\n\u001b[0m\u001b[0;32m    698\u001b[0m \u001b[1;33m\u001b[0m\u001b[0m\n\u001b[0;32m    699\u001b[0m         \u001b[1;32mreturn\u001b[0m \u001b[0mr\u001b[0m\u001b[1;33m\u001b[0m\u001b[1;33m\u001b[0m\u001b[0m\n",
      "\u001b[1;32m~\\anaconda3\\lib\\site-packages\\requests\\models.py\u001b[0m in \u001b[0;36mcontent\u001b[1;34m(self)\u001b[0m\n\u001b[0;32m    834\u001b[0m                 \u001b[0mself\u001b[0m\u001b[1;33m.\u001b[0m\u001b[0m_content\u001b[0m \u001b[1;33m=\u001b[0m \u001b[1;32mNone\u001b[0m\u001b[1;33m\u001b[0m\u001b[1;33m\u001b[0m\u001b[0m\n\u001b[0;32m    835\u001b[0m             \u001b[1;32melse\u001b[0m\u001b[1;33m:\u001b[0m\u001b[1;33m\u001b[0m\u001b[1;33m\u001b[0m\u001b[0m\n\u001b[1;32m--> 836\u001b[1;33m                 \u001b[0mself\u001b[0m\u001b[1;33m.\u001b[0m\u001b[0m_content\u001b[0m \u001b[1;33m=\u001b[0m \u001b[1;34mb''\u001b[0m\u001b[1;33m.\u001b[0m\u001b[0mjoin\u001b[0m\u001b[1;33m(\u001b[0m\u001b[0mself\u001b[0m\u001b[1;33m.\u001b[0m\u001b[0miter_content\u001b[0m\u001b[1;33m(\u001b[0m\u001b[0mCONTENT_CHUNK_SIZE\u001b[0m\u001b[1;33m)\u001b[0m\u001b[1;33m)\u001b[0m \u001b[1;32mor\u001b[0m \u001b[1;34mb''\u001b[0m\u001b[1;33m\u001b[0m\u001b[1;33m\u001b[0m\u001b[0m\n\u001b[0m\u001b[0;32m    837\u001b[0m \u001b[1;33m\u001b[0m\u001b[0m\n\u001b[0;32m    838\u001b[0m         \u001b[0mself\u001b[0m\u001b[1;33m.\u001b[0m\u001b[0m_content_consumed\u001b[0m \u001b[1;33m=\u001b[0m \u001b[1;32mTrue\u001b[0m\u001b[1;33m\u001b[0m\u001b[1;33m\u001b[0m\u001b[0m\n",
      "\u001b[1;32m~\\anaconda3\\lib\\site-packages\\requests\\models.py\u001b[0m in \u001b[0;36mgenerate\u001b[1;34m()\u001b[0m\n\u001b[0;32m    759\u001b[0m                         \u001b[1;32myield\u001b[0m \u001b[0mchunk\u001b[0m\u001b[1;33m\u001b[0m\u001b[1;33m\u001b[0m\u001b[0m\n\u001b[0;32m    760\u001b[0m                 \u001b[1;32mexcept\u001b[0m \u001b[0mProtocolError\u001b[0m \u001b[1;32mas\u001b[0m \u001b[0me\u001b[0m\u001b[1;33m:\u001b[0m\u001b[1;33m\u001b[0m\u001b[1;33m\u001b[0m\u001b[0m\n\u001b[1;32m--> 761\u001b[1;33m                     \u001b[1;32mraise\u001b[0m \u001b[0mChunkedEncodingError\u001b[0m\u001b[1;33m(\u001b[0m\u001b[0me\u001b[0m\u001b[1;33m)\u001b[0m\u001b[1;33m\u001b[0m\u001b[1;33m\u001b[0m\u001b[0m\n\u001b[0m\u001b[0;32m    762\u001b[0m                 \u001b[1;32mexcept\u001b[0m \u001b[0mDecodeError\u001b[0m \u001b[1;32mas\u001b[0m \u001b[0me\u001b[0m\u001b[1;33m:\u001b[0m\u001b[1;33m\u001b[0m\u001b[1;33m\u001b[0m\u001b[0m\n\u001b[0;32m    763\u001b[0m                     \u001b[1;32mraise\u001b[0m \u001b[0mContentDecodingError\u001b[0m\u001b[1;33m(\u001b[0m\u001b[0me\u001b[0m\u001b[1;33m)\u001b[0m\u001b[1;33m\u001b[0m\u001b[1;33m\u001b[0m\u001b[0m\n",
      "\u001b[1;31mChunkedEncodingError\u001b[0m: (\"Connection broken: ConnectionAbortedError(10053, 'De software op uw hostcomputer heeft een verbinding verbroken', None, 10053, None)\", ConnectionAbortedError(10053, 'De software op uw hostcomputer heeft een verbinding verbroken', None, 10053, None))"
     ]
    }
   ],
   "source": [
    "    cbs15 = pd.DataFrame(cbsodata.get_data('83304NED')).set_index(\"Codering_3\")\n",
    "    cbs16 = pd.DataFrame(cbsodata.get_data('83749NED')).set_index(\"Codering_3\")\n",
    "    cbs17 = pd.DataFrame(cbsodata.get_data('84334NED')).set_index(\"Codering_3\")\n",
    "    cbs18 = pd.DataFrame(cbsodata.get_data('84463NED')).set_index(\"Codering_3\")\n",
    "    cbs19 = pd.DataFrame(cbsodata.get_data('84718NED')).set_index(\"Codering_3\")"
   ]
  },
  {
   "cell_type": "markdown",
   "metadata": {},
   "source": [
    "# add nabijheidsdata on buurt level to grid:\n"
   ]
  },
  {
   "cell_type": "code",
   "execution_count": null,
   "metadata": {},
   "outputs": [],
   "source": [
    "def snap3(PATH, cbs15, cbs16, cbs17, cbs18, cbs19):\n",
    "#     cbs15 = pd.DataFrame(cbsodata.get_data('83304NED')).set_index(\"Codering_3\")\n",
    "#     cbs16 = pd.DataFrame(cbsodata.get_data('83749NED')).set_index(\"Codering_3\")\n",
    "#     cbs17 = pd.DataFrame(cbsodata.get_data('84334NED')).set_index(\"Codering_3\")\n",
    "#     cbs18 = pd.DataFrame(cbsodata.get_data('84463NED')).set_index(\"Codering_3\")\n",
    "#     cbs19 = pd.DataFrame(cbsodata.get_data('84718NED')).set_index(\"Codering_3\")\n",
    "\n",
    "    cbs15 = cbs15[cbs15.SoortRegio_2 == 'Buurt     ']\n",
    "    cbs16 = cbs16[cbs16.SoortRegio_2 == 'Buurt     ']\n",
    "    cbs17 = cbs17[cbs17.SoortRegio_2 == 'Buurt     ']\n",
    "    cbs18 = cbs18[cbs18.SoortRegio_2 == 'Buurt     ']\n",
    "    cbs19 = cbs19[cbs19.SoortRegio_2 == 'Buurt     ']\n",
    "\n",
    "    cbs15 = cbs15[[\"AfstandTotHuisartsenpraktijk_4\",\n",
    "    \"AfstandTotZiekenhuis_10\",\n",
    "    \"AfstandTotGroteSupermarkt_23\",\n",
    "    \"AfstandTotSchool_63\",\n",
    "    # \"AfstandTotOpenbaarGroenTotaal_75\",  # Commented out: check why 16 - 19 only have nans\n",
    "    # \"AfstandTotBos_78\",\n",
    "    # \"AfstandTotSportterrein_83\",\n",
    "    \"AfstandTotOpritHoofdverkeersweg_88\",\n",
    "    \"AfstandTotTreinstationsTotaal_89\",\n",
    "    \"AfstandTotBelangrijkOverstapstation_90\"]]\n",
    "\n",
    "    cbs16 = cbs16[[\"AfstandTotHuisartsenpraktijk_5\",\n",
    "    \"AfstandTotZiekenhuis_11\",\n",
    "    \"AfstandTotGroteSupermarkt_24\",\n",
    "    \"AfstandTotSchool_64\",\n",
    "    # \"AfstandTotOpenbaarGroenTotaal_76\",\n",
    "    # \"AfstandTotBos_79\",\n",
    "    # \"AfstandTotSportterrein_84\",\n",
    "    \"AfstandTotOpritHoofdverkeersweg_89\",\n",
    "    \"AfstandTotTreinstationsTotaal_90\",\n",
    "    \"AfstandTotBelangrijkOverstapstation_91\"]]\n",
    "\n",
    "    cbs17 = cbs17[[\"AfstandTotHuisartsenpraktijk_5\",\n",
    "    \"AfstandTotZiekenhuis_11\",\n",
    "    \"AfstandTotGroteSupermarkt_24\",\n",
    "    \"AfstandTotSchool_64\",\n",
    "    # \"AfstandTotOpenbaarGroenTotaal_91\",\n",
    "    # \"AfstandTotBos_94\",\n",
    "    # \"AfstandTotSportterrein_99\",\n",
    "    \"AfstandTotOpritHoofdverkeersweg_104\",\n",
    "    \"AfstandTotTreinstationsTotaal_105\",\n",
    "    \"AfstandTotBelangrijkOverstapstation_106\"]]\n",
    "\n",
    "    cbs18 = cbs18[[\"AfstandTotHuisartsenpraktijk_5\",\n",
    "    \"AfstandTotZiekenhuis_11\",\n",
    "    \"AfstandTotGroteSupermarkt_24\",\n",
    "    \"AfstandTotSchool_64\",\n",
    "    # \"AfstandTotOpenbaarGroenTotaal_76\",\n",
    "    # \"AfstandTotBos_79\",\n",
    "    # \"AfstandTotSportterrein_84\",\n",
    "    \"AfstandTotOpritHoofdverkeersweg_89\",\n",
    "    \"AfstandTotTreinstationsTotaal_90\",\n",
    "    \"AfstandTotBelangrijkOverstapstation_91\"]]\n",
    "\n",
    "    cbs19 = cbs19[[\"AfstandTotHuisartsenpraktijk_5\",\n",
    "    \"AfstandTotZiekenhuis_11\",\n",
    "    \"AfstandTotGroteSupermarkt_24\",\n",
    "    \"AfstandTotSchool_64\",\n",
    "    # \"AfstandTotOpenbaarGroenTotaal_76\",\n",
    "    # \"AfstandTotBos_79\",\n",
    "    # \"AfstandTotSportterrein_84\",\n",
    "    \"AfstandTotOpritHoofdverkeersweg_89\",\n",
    "    \"AfstandTotTreinstationsTotaal_90\",\n",
    "    \"AfstandTotBelangrijkOverstapstation_91\"]]\n",
    "\n",
    "    column_names = [\"afs_huisarts_b\",\"afs_ziekenhuis_b\", \"afs_supermarkt_b\", \"afs_school_b\", \n",
    "                     \"afs_oprit_b\", \n",
    "                    \"afs_train_b\", \"afs_transit_b\"]\n",
    "    cbs15.columns = column_names\n",
    "    cbs16.columns = column_names\n",
    "    cbs17.columns = column_names\n",
    "    cbs18.columns = column_names\n",
    "    cbs19.columns = column_names\n",
    "    \n",
    "    for filename in grouper(os.listdir(PATH), 5, np.NaN):\n",
    "    \n",
    "        data2015 = pd.read_csv(PATH + filename[0])\n",
    "        data2016 = pd.read_csv(PATH + filename[1])\n",
    "        data2017 = pd.read_csv(PATH + filename[2])\n",
    "        data2018 = pd.read_csv(PATH + filename[3])\n",
    "        data2019 = pd.read_csv(PATH + filename[4])\n",
    "        \n",
    "        data2015 = CBS_weighted_join(data2015, cbs15)\n",
    "        data2016 = CBS_weighted_join(data2016, cbs16)\n",
    "        data2017 = CBS_weighted_join(data2017, cbs17)\n",
    "        data2018 = CBS_weighted_join(data2018, cbs18)\n",
    "        data2019 = CBS_weighted_join(data2019, cbs19)\n",
    "        \n",
    "        data2015.to_csv(\"../Data/snap3/\" + filename[0])\n",
    "        data2016.to_csv(\"../Data/snap3/\" + filename[1])\n",
    "        data2017.to_csv(\"../Data/snap3/\" + filename[2])\n",
    "        data2018.to_csv(\"../Data/snap3/\" + filename[3])\n",
    "        data2019.to_csv(\"../Data/snap3/\" + filename[4])\n"
   ]
  },
  {
   "cell_type": "code",
   "execution_count": null,
   "metadata": {},
   "outputs": [],
   "source": [
    "snap3(\"../Data/snap2/\", cbs15, cbs16, cbs17, cbs18, cbs19)"
   ]
  },
  {
   "cell_type": "markdown",
   "metadata": {},
   "source": [
    "# add kerncijfers wijken en buurten"
   ]
  },
  {
   "cell_type": "code",
   "execution_count": 81,
   "metadata": {},
   "outputs": [],
   "source": [
    "# data2015 = pd.read_csv(\"grid2015.csv\")\n",
    "# data2016 = pd.read_csv(\"grid2016.csv\")\n",
    "# data2017 = pd.read_csv(\"grid2017.csv\")\n",
    "# data2018 = pd.read_csv(\"grid2018.csv\")\n",
    "# data2019 = pd.read_csv(\"grid2019.csv\")"
   ]
  },
  {
   "cell_type": "code",
   "execution_count": 82,
   "metadata": {},
   "outputs": [],
   "source": [
    "# Get CBS kerncijfers wijken en buurten and set index at Regio ID for joining on grid data\n",
    "cbs15 = pd.DataFrame(cbsodata.get_data('83220NED')).set_index(\"Codering_3\")\n",
    "cbs16 = pd.DataFrame(cbsodata.get_data('83487NED')).set_index(\"Codering_3\")\n",
    "cbs17 = pd.DataFrame(cbsodata.get_data('83765NED')).set_index(\"Codering_3\")\n",
    "cbs18 = pd.DataFrame(cbsodata.get_data('84286NED')).set_index(\"Codering_3\")\n",
    "cbs19 = pd.DataFrame(cbsodata.get_data('84583NED')).set_index(\"Codering_3\")"
   ]
  },
  {
   "cell_type": "code",
   "execution_count": 83,
   "metadata": {},
   "outputs": [],
   "source": [
    "# Only keep data on buurt level (lowest level)\n",
    "cbs15 = cbs15[cbs15.SoortRegio_2 == \"Buurt     \"]\n",
    "cbs16 = cbs16[cbs16.SoortRegio_2 == \"Buurt     \"]\n",
    "cbs17 = cbs17[cbs17.SoortRegio_2 == \"Buurt     \"]\n",
    "cbs18 = cbs18[cbs18.SoortRegio_2 == \"Buurt     \"]\n",
    "cbs19 = cbs19[cbs19.SoortRegio_2 == \"Buurt     \"]"
   ]
  },
  {
   "cell_type": "code",
   "execution_count": 84,
   "metadata": {},
   "outputs": [],
   "source": [
    "variables1517 = [\"AantalInwoners_5\",\n",
    "                 \"k_0Tot15Jaar_8\",\n",
    "                 \"k_15Tot25Jaar_9\",\n",
    "                 \"k_25Tot45Jaar_10\",\n",
    "                 \"k_45Tot65Jaar_11\",\n",
    "                 \"k_65JaarOfOuder_12\",\n",
    "                \"WestersTotaal_17\",\n",
    "                \"NietWestersTotaal_18\",\n",
    "                \"GeboorteTotaal_24\",\n",
    "                \"GemiddeldeWoningwaarde_35\",\n",
    "                \"Koopwoningen_40\",\n",
    "                \"HuurwoningenTotaal_41\",\n",
    "                \"InBezitWoningcorporatie_42\",\n",
    "                \"BouwjaarVoor2000_45\",\n",
    "                \"BouwjaarVanaf2000_46\",\n",
    "                \"GemiddeldElektriciteitsverbruikTotaal_47\",\n",
    "                \"GemiddeldAardgasverbruikTotaal_55\",\n",
    "                \"GemiddeldInkomenPerInkomensontvanger_65\",\n",
    "                \"k_40PersonenMetLaagsteInkomen_67\",\n",
    "                \"k_20PersonenMetHoogsteInkomen_68\",\n",
    "                \"PersonenPerSoortUitkeringBijstand_74\",\n",
    "                \"PersonenPerSoortUitkeringAO_75\",\n",
    "                \"PersonenPerSoortUitkeringWW_76\"]"
   ]
  },
  {
   "cell_type": "code",
   "execution_count": 85,
   "metadata": {},
   "outputs": [],
   "source": [
    "variables18 = [\"AantalInwoners_5\",\n",
    "               \"k_0Tot15Jaar_8\",\n",
    "                 \"k_15Tot25Jaar_9\",\n",
    "                 \"k_25Tot45Jaar_10\",\n",
    "                 \"k_45Tot65Jaar_11\",\n",
    "                 \"k_65JaarOfOuder_12\",\n",
    "\"WestersTotaal_17\",\n",
    "\"NietWestersTotaal_18\",\n",
    "\"GeboorteTotaal_24\",\n",
    "\"GemiddeldeWoningwaarde_35\",\n",
    "\"Koopwoningen_40\",\n",
    "\"HuurwoningenTotaal_41\",\n",
    "\"InBezitWoningcorporatie_42\",\n",
    "\"BouwjaarVoor2000_45\",\n",
    "\"BouwjaarVanaf2000_46\",\n",
    "\"GemiddeldElektriciteitsverbruikTotaal_47\",\n",
    "\"GemiddeldAardgasverbruikTotaal_55\",\n",
    "\"GemiddeldInkomenPerInkomensontvanger_68\",\n",
    "\"k_40PersonenMetLaagsteInkomen_70\",\n",
    "\"k_20PersonenMetHoogsteInkomen_71\",\n",
    "\"PersonenPerSoortUitkeringBijstand_80\",\n",
    "\"PersonenPerSoortUitkeringAO_81\",\n",
    "\"PersonenPerSoortUitkeringWW_82\"]"
   ]
  },
  {
   "cell_type": "code",
   "execution_count": 86,
   "metadata": {},
   "outputs": [],
   "source": [
    "variables19 = [\"AantalInwoners_5\",\n",
    "               \"k_0Tot15Jaar_8\",\n",
    "                 \"k_15Tot25Jaar_9\",\n",
    "                 \"k_25Tot45Jaar_10\",\n",
    "                 \"k_45Tot65Jaar_11\",\n",
    "                 \"k_65JaarOfOuder_12\",\n",
    "\"WestersTotaal_17\",\n",
    "\"NietWestersTotaal_18\",\n",
    "\"GeboorteTotaal_24\",\n",
    "\"GemiddeldeWoningwaarde_35\",\n",
    "\"Koopwoningen_40\",\n",
    "\"HuurwoningenTotaal_41\",\n",
    "\"InBezitWoningcorporatie_42\",\n",
    "\"BouwjaarVoor2000_45\",\n",
    "\"BouwjaarVanaf2000_46\",\n",
    "\"GemiddeldElektriciteitsverbruikTotaal_47\",\n",
    "\"GemiddeldAardgasverbruikTotaal_55\",\n",
    "\"GemiddeldInkomenPerInkomensontvanger_71\",\n",
    "\"k_40PersonenMetLaagsteInkomen_73\",\n",
    "\"k_20PersonenMetHoogsteInkomen_74\",\n",
    "\"PersonenPerSoortUitkeringBijstand_83\",\n",
    "\"PersonenPerSoortUitkeringAO_84\",\n",
    "\"PersonenPerSoortUitkeringWW_85\"]"
   ]
  },
  {
   "cell_type": "code",
   "execution_count": 87,
   "metadata": {},
   "outputs": [],
   "source": [
    "cbs15 = cbs15[variables1517]\n",
    "cbs16 = cbs16[variables1517]\n",
    "cbs17 = cbs17[variables1517]\n",
    "cbs18 = cbs18[variables18]\n",
    "cbs19 = cbs19[variables19]"
   ]
  },
  {
   "cell_type": "code",
   "execution_count": 88,
   "metadata": {},
   "outputs": [],
   "source": [
    "cbs15[[\"k_0Tot15Jaar_8\", \"k_15Tot25Jaar_9\", \"k_25Tot45Jaar_10\", \"k_45Tot65Jaar_11\", \"k_65JaarOfOuder_12\"]] = cbs15[[\"k_0Tot15Jaar_8\", \"k_15Tot25Jaar_9\", \"k_25Tot45Jaar_10\", \"k_45Tot65Jaar_11\", \"k_65JaarOfOuder_12\"]].div(cbs15[\"AantalInwoners_5\"], axis = 0)                 \n",
    "cbs16[[\"k_0Tot15Jaar_8\", \"k_15Tot25Jaar_9\", \"k_25Tot45Jaar_10\", \"k_45Tot65Jaar_11\", \"k_65JaarOfOuder_12\"]] = cbs16[[\"k_0Tot15Jaar_8\", \"k_15Tot25Jaar_9\", \"k_25Tot45Jaar_10\", \"k_45Tot65Jaar_11\", \"k_65JaarOfOuder_12\"]].div(cbs15[\"AantalInwoners_5\"], axis = 0)\n",
    "cbs17[[\"k_0Tot15Jaar_8\", \"k_15Tot25Jaar_9\", \"k_25Tot45Jaar_10\", \"k_45Tot65Jaar_11\", \"k_65JaarOfOuder_12\"]] = cbs17[[\"k_0Tot15Jaar_8\", \"k_15Tot25Jaar_9\", \"k_25Tot45Jaar_10\", \"k_45Tot65Jaar_11\", \"k_65JaarOfOuder_12\"]].div(cbs15[\"AantalInwoners_5\"], axis = 0)\n",
    "cbs18[[\"k_0Tot15Jaar_8\", \"k_15Tot25Jaar_9\", \"k_25Tot45Jaar_10\", \"k_45Tot65Jaar_11\", \"k_65JaarOfOuder_12\"]] = cbs18[[\"k_0Tot15Jaar_8\", \"k_15Tot25Jaar_9\", \"k_25Tot45Jaar_10\", \"k_45Tot65Jaar_11\", \"k_65JaarOfOuder_12\"]].div(cbs15[\"AantalInwoners_5\"], axis = 0)\n",
    "cbs19[[\"k_0Tot15Jaar_8\", \"k_15Tot25Jaar_9\", \"k_25Tot45Jaar_10\", \"k_45Tot65Jaar_11\", \"k_65JaarOfOuder_12\"]] = cbs19[[\"k_0Tot15Jaar_8\", \"k_15Tot25Jaar_9\", \"k_25Tot45Jaar_10\", \"k_45Tot65Jaar_11\", \"k_65JaarOfOuder_12\"]].div(cbs15[\"AantalInwoners_5\"], axis = 0)"
   ]
  },
  {
   "cell_type": "code",
   "execution_count": 89,
   "metadata": {},
   "outputs": [],
   "source": [
    "column_names = [\"Inwoners_b\", \"inw14_b\", \"inw24_b\", \"inw44_b\", \"inw64_b\", \"inw65_b\", \"western_b\", \"nonWestern_b\", \"birth_b\", \"mean_WOZ_b\",\n",
    "               \"p_buyHouses_b\", \"p_rental_houses_b\", \"p_socialHousing_b\", \"p_buildBefore2000_b\",\n",
    "               \"p_buildAfter2000_b\", \"avg_electicity_b\", \"avg_gas_b\",\n",
    "               \"medianInkomen_b\", \"PLaagste40Inkomen_b\", \"PHoogste20Inkomen_b\", \"NBijstand\", \"NAO\", \"NWW\"]"
   ]
  },
  {
   "cell_type": "code",
   "execution_count": 90,
   "metadata": {},
   "outputs": [],
   "source": [
    "cbs15.columns = column_names\n",
    "cbs16.columns = column_names\n",
    "cbs17.columns = column_names\n",
    "cbs18.columns = column_names\n",
    "cbs19.columns = column_names"
   ]
  },
  {
   "cell_type": "code",
   "execution_count": 91,
   "metadata": {},
   "outputs": [
    {
     "name": "stderr",
     "output_type": "stream",
     "text": [
      "C:\\Users\\Gebruiker\\anaconda3\\lib\\site-packages\\ipykernel_launcher.py:3: RuntimeWarning: invalid value encountered in true_divide\n",
      "  This is separate from the ipykernel package so we can avoid doing imports until\n",
      "C:\\Users\\Gebruiker\\anaconda3\\lib\\site-packages\\ipykernel_launcher.py:4: RuntimeWarning: divide by zero encountered in true_divide\n",
      "  after removing the cwd from sys.path.\n",
      "C:\\Users\\Gebruiker\\anaconda3\\lib\\site-packages\\ipykernel_launcher.py:6: RuntimeWarning: invalid value encountered in true_divide\n",
      "  \n"
     ]
    }
   ],
   "source": [
    "# make it so it correspons to the grid level data\n",
    "cbs15[\"pBenefits_b\"] = (cbs15[\"NAO\"].values + cbs15[\"NWW\"].values + cbs15[\"NBijstand\"].values) / cbs15[\"Inwoners_b\"].values\n",
    "cbs16[\"pBenefits_b\"] = (cbs16[\"NAO\"].values + cbs16[\"NWW\"].values + cbs16[\"NBijstand\"].values) / cbs16[\"Inwoners_b\"].values\n",
    "cbs17[\"pBenefits_b\"] = (cbs17[\"NAO\"].values + cbs17[\"NWW\"].values + cbs17[\"NBijstand\"].values) / cbs17[\"Inwoners_b\"].values\n",
    "cbs18[\"pBenefits_b\"] = (cbs18[\"NAO\"].values + cbs18[\"NWW\"].values + cbs18[\"NBijstand\"].values) / cbs18[\"Inwoners_b\"].values\n",
    "cbs19[\"pBenefits_b\"] = (cbs19[\"NAO\"].values + cbs19[\"NWW\"].values + cbs19[\"NBijstand\"].values) / cbs19[\"Inwoners_b\"].values\n",
    "\n",
    "cbs15 = cbs15.drop([\"NAO\", \"NWW\", \"NBijstand\"], axis = 1)\n",
    "cbs16 = cbs16.drop([\"NAO\", \"NWW\", \"NBijstand\"], axis = 1)\n",
    "cbs17 = cbs17.drop([\"NAO\", \"NWW\", \"NBijstand\"], axis = 1)\n",
    "cbs18 = cbs18.drop([\"NAO\", \"NWW\", \"NBijstand\"], axis = 1)\n",
    "cbs19 = cbs19.drop([\"NAO\", \"NWW\", \"NBijstand\"], axis = 1)\n"
   ]
  },
  {
   "cell_type": "code",
   "execution_count": 92,
   "metadata": {},
   "outputs": [
    {
     "name": "stderr",
     "output_type": "stream",
     "text": [
      "C:\\Users\\Gebruiker\\anaconda3\\lib\\site-packages\\ipykernel_launcher.py:2: RuntimeWarning: divide by zero encountered in true_divide\n",
      "  \n",
      "C:\\Users\\Gebruiker\\anaconda3\\lib\\site-packages\\ipykernel_launcher.py:2: RuntimeWarning: invalid value encountered in true_divide\n",
      "  \n",
      "C:\\Users\\Gebruiker\\anaconda3\\lib\\site-packages\\ipykernel_launcher.py:3: RuntimeWarning: divide by zero encountered in true_divide\n",
      "  This is separate from the ipykernel package so we can avoid doing imports until\n",
      "C:\\Users\\Gebruiker\\anaconda3\\lib\\site-packages\\ipykernel_launcher.py:3: RuntimeWarning: invalid value encountered in true_divide\n",
      "  This is separate from the ipykernel package so we can avoid doing imports until\n",
      "C:\\Users\\Gebruiker\\anaconda3\\lib\\site-packages\\ipykernel_launcher.py:4: RuntimeWarning: divide by zero encountered in true_divide\n",
      "  after removing the cwd from sys.path.\n",
      "C:\\Users\\Gebruiker\\anaconda3\\lib\\site-packages\\ipykernel_launcher.py:4: RuntimeWarning: invalid value encountered in true_divide\n",
      "  after removing the cwd from sys.path.\n",
      "C:\\Users\\Gebruiker\\anaconda3\\lib\\site-packages\\ipykernel_launcher.py:5: RuntimeWarning: divide by zero encountered in true_divide\n",
      "  \"\"\"\n",
      "C:\\Users\\Gebruiker\\anaconda3\\lib\\site-packages\\ipykernel_launcher.py:5: RuntimeWarning: invalid value encountered in true_divide\n",
      "  \"\"\"\n",
      "C:\\Users\\Gebruiker\\anaconda3\\lib\\site-packages\\ipykernel_launcher.py:6: RuntimeWarning: divide by zero encountered in true_divide\n",
      "  \n",
      "C:\\Users\\Gebruiker\\anaconda3\\lib\\site-packages\\ipykernel_launcher.py:6: RuntimeWarning: invalid value encountered in true_divide\n",
      "  \n"
     ]
    }
   ],
   "source": [
    "# Set tot percentage\n",
    "cbs15[\"western_b\"] = cbs15[\"western_b\"].values / cbs15[\"Inwoners_b\"].values\n",
    "cbs16[\"western_b\"] = cbs16[\"western_b\"].values / cbs16[\"Inwoners_b\"].values\n",
    "cbs17[\"western_b\"] = cbs17[\"western_b\"].values / cbs17[\"Inwoners_b\"].values\n",
    "cbs18[\"western_b\"] = cbs18[\"western_b\"].values / cbs18[\"Inwoners_b\"].values\n",
    "cbs19[\"western_b\"] = cbs19[\"western_b\"].values / cbs19[\"Inwoners_b\"].values"
   ]
  },
  {
   "cell_type": "code",
   "execution_count": 93,
   "metadata": {},
   "outputs": [
    {
     "name": "stderr",
     "output_type": "stream",
     "text": [
      "C:\\Users\\Gebruiker\\anaconda3\\lib\\site-packages\\ipykernel_launcher.py:2: RuntimeWarning: divide by zero encountered in true_divide\n",
      "  \n",
      "C:\\Users\\Gebruiker\\anaconda3\\lib\\site-packages\\ipykernel_launcher.py:2: RuntimeWarning: invalid value encountered in true_divide\n",
      "  \n",
      "C:\\Users\\Gebruiker\\anaconda3\\lib\\site-packages\\ipykernel_launcher.py:3: RuntimeWarning: divide by zero encountered in true_divide\n",
      "  This is separate from the ipykernel package so we can avoid doing imports until\n",
      "C:\\Users\\Gebruiker\\anaconda3\\lib\\site-packages\\ipykernel_launcher.py:3: RuntimeWarning: invalid value encountered in true_divide\n",
      "  This is separate from the ipykernel package so we can avoid doing imports until\n",
      "C:\\Users\\Gebruiker\\anaconda3\\lib\\site-packages\\ipykernel_launcher.py:4: RuntimeWarning: divide by zero encountered in true_divide\n",
      "  after removing the cwd from sys.path.\n",
      "C:\\Users\\Gebruiker\\anaconda3\\lib\\site-packages\\ipykernel_launcher.py:4: RuntimeWarning: invalid value encountered in true_divide\n",
      "  after removing the cwd from sys.path.\n",
      "C:\\Users\\Gebruiker\\anaconda3\\lib\\site-packages\\ipykernel_launcher.py:5: RuntimeWarning: divide by zero encountered in true_divide\n",
      "  \"\"\"\n",
      "C:\\Users\\Gebruiker\\anaconda3\\lib\\site-packages\\ipykernel_launcher.py:5: RuntimeWarning: invalid value encountered in true_divide\n",
      "  \"\"\"\n",
      "C:\\Users\\Gebruiker\\anaconda3\\lib\\site-packages\\ipykernel_launcher.py:6: RuntimeWarning: divide by zero encountered in true_divide\n",
      "  \n",
      "C:\\Users\\Gebruiker\\anaconda3\\lib\\site-packages\\ipykernel_launcher.py:6: RuntimeWarning: invalid value encountered in true_divide\n",
      "  \n"
     ]
    }
   ],
   "source": [
    "# Set to percentage\n",
    "cbs15[\"nonWestern_b\"] = cbs15[\"nonWestern_b\"].values / cbs15[\"Inwoners_b\"].values\n",
    "cbs16[\"nonWestern_b\"] = cbs16[\"nonWestern_b\"].values / cbs16[\"Inwoners_b\"].values\n",
    "cbs17[\"nonWestern_b\"] = cbs17[\"nonWestern_b\"].values / cbs17[\"Inwoners_b\"].values\n",
    "cbs18[\"nonWestern_b\"] = cbs18[\"nonWestern_b\"].values / cbs18[\"Inwoners_b\"].values\n",
    "cbs19[\"nonWestern_b\"] = cbs19[\"nonWestern_b\"].values / cbs19[\"Inwoners_b\"].values"
   ]
  },
  {
   "cell_type": "code",
   "execution_count": 94,
   "metadata": {},
   "outputs": [
    {
     "name": "stdout",
     "output_type": "stream",
     "text": [
      "1.00\r"
     ]
    }
   ],
   "source": [
    "\n",
    "\n",
    "data2015 = CBS_weighted_join(data2015, cbs15)\n",
    "data2016 = CBS_weighted_join(data2016, cbs16)\n",
    "data2017 = CBS_weighted_join(data2017, cbs17)\n",
    "data2018 = CBS_weighted_join(data2018, cbs18)\n",
    "data2019 = CBS_weighted_join(data2019, cbs19)"
   ]
  },
  {
   "cell_type": "code",
   "execution_count": 95,
   "metadata": {},
   "outputs": [
    {
     "data": {
      "text/plain": [
       "Unnamed: 0             14715\n",
       "rep_id                 14715\n",
       "gm_code                14715\n",
       "gm_naam                14715\n",
       "lb_gridcod              6440\n",
       "                       ...  \n",
       "avg_gas_b               6846\n",
       "medianInkomen_b         6731\n",
       "PLaagste40Inkomen_b     6731\n",
       "PHoogste20Inkomen_b     6731\n",
       "pBenefits_b             7037\n",
       "Length: 72, dtype: int64"
      ]
     },
     "execution_count": 95,
     "metadata": {},
     "output_type": "execute_result"
    }
   ],
   "source": [
    "data2015.notna().sum()"
   ]
  },
  {
   "cell_type": "code",
   "execution_count": 96,
   "metadata": {},
   "outputs": [],
   "source": [
    "data2015.to_csv(\"EHgrid2015.csv\")\n",
    "data2016.to_csv(\"EHgrid2016.csv\")\n",
    "data2017.to_csv(\"EHgrid2017.csv\")\n",
    "data2018.to_csv(\"EHgrid2018.csv\")\n",
    "data2019.to_csv(\"EHgrid2019.csv\")"
   ]
  },
  {
   "cell_type": "code",
   "execution_count": 71,
   "metadata": {},
   "outputs": [
    {
     "data": {
      "text/plain": [
       "Index(['Unnamed: 0', 'geometry', 'bijeenkomstfunctie',\n",
       "       'gezondheidszorgfunctie', 'industriefunctie', 'kantoorfunctie',\n",
       "       'logiesfunctie', 'onderwijsfunctie', 'sportfunctie', 'winkelfunctie',\n",
       "       'woonfunctie', 'oppervlakteVerblijfsobject', 'BU_CODE', 'y',\n",
       "       'inwoner_g', 'geboorte_g', 'inw_014_g', 'inw_1524_g', 'inw_2544_g',\n",
       "       'inw_4564_g', 'inw_65_g', 'p_NL_g', 'p_wester_g', 'p_nonWestern_g',\n",
       "       'p_buyhouses_g', 'p_rentals_g', 'p_socialHousing_g', 'medianIncome_g',\n",
       "       'avg_electricity_g', 'avg_gas_g', 'p_benefits_g', 'afs_haprak_g',\n",
       "       'afs_ziek_g', 'afs_superm_g', 'afs_vo_g', 'afs_oprit_g', 'afs_treins_g',\n",
       "       'afs_transit_g', 'p_buildBefore2000_g', 'p_buildAfter2000_g',\n",
       "       'afs_huisarts_b', 'afs_ziekenhuis_b', 'afs_supermarkt_b',\n",
       "       'afs_school_b', 'afs_oprit_b', 'afs_train_b', 'afs_transit_b',\n",
       "       'Inwoners_b', 'inw14_b', 'inw24_b', 'inw44_b', 'inw64_b', 'inw65_b',\n",
       "       'western_b', 'nonWestern_b', 'birth_b', 'mean_WOZ_b', 'p_buyHouses_b',\n",
       "       'p_rental_houses_b', 'p_socialHousing_b', 'p_buildBefore2000_b',\n",
       "       'p_buildAfter2000_b', 'avg_electicity_b', 'avg_gas_b',\n",
       "       'medianInkomen_b', 'PLaagste40Inkomen_b', 'PHoogste20Inkomen_b',\n",
       "       'pBenefits_b'],\n",
       "      dtype='object')"
      ]
     },
     "execution_count": 71,
     "metadata": {},
     "output_type": "execute_result"
    }
   ],
   "source": [
    "data2015.columns"
   ]
  },
  {
   "cell_type": "code",
   "execution_count": 72,
   "metadata": {},
   "outputs": [
    {
     "data": {
      "text/plain": [
       "3889"
      ]
     },
     "execution_count": 72,
     "metadata": {},
     "output_type": "execute_result"
    }
   ],
   "source": [
    "data2018.avg_gas_b.notna().sum()"
   ]
  },
  {
   "cell_type": "code",
   "execution_count": 73,
   "metadata": {},
   "outputs": [],
   "source": [
    "b15 = data2015[data2015.woonfunctie > 0]\n",
    "b16 = data2016[data2016.woonfunctie > 0]\n",
    "b17 = data2017[data2017.woonfunctie > 0]\n",
    "b18 = data2018[data2018.woonfunctie > 0]\n",
    "b19 = data2019[data2019.woonfunctie > 0]\n"
   ]
  },
  {
   "cell_type": "code",
   "execution_count": 74,
   "metadata": {
    "scrolled": true
   },
   "outputs": [
    {
     "data": {
      "text/plain": [
       "0.6555013309671694"
      ]
     },
     "execution_count": 74,
     "metadata": {},
     "output_type": "execute_result"
    }
   ],
   "source": [
    "data2016.BU_CODE.isna().sum()/len(data2016)"
   ]
  },
  {
   "cell_type": "code",
   "execution_count": 75,
   "metadata": {},
   "outputs": [
    {
     "ename": "NameError",
     "evalue": "name 'b' is not defined",
     "output_type": "error",
     "traceback": [
      "\u001b[1;31m---------------------------------------------------------------------------\u001b[0m",
      "\u001b[1;31mNameError\u001b[0m                                 Traceback (most recent call last)",
      "\u001b[1;32mC:\\Users\\GEBRUI~1\\AppData\\Local\\Temp/ipykernel_14092/1570245623.py\u001b[0m in \u001b[0;36m<module>\u001b[1;34m\u001b[0m\n\u001b[1;32m----> 1\u001b[1;33m \u001b[1;32mfor\u001b[0m \u001b[0mn\u001b[0m\u001b[1;33m,\u001b[0m \u001b[0mi\u001b[0m \u001b[1;32min\u001b[0m \u001b[0menumerate\u001b[0m\u001b[1;33m(\u001b[0m\u001b[1;33m(\u001b[0m\u001b[0mb17\u001b[0m\u001b[1;33m.\u001b[0m\u001b[0misna\u001b[0m\u001b[1;33m(\u001b[0m\u001b[1;33m)\u001b[0m\u001b[1;33m.\u001b[0m\u001b[0msum\u001b[0m\u001b[1;33m(\u001b[0m\u001b[1;33m)\u001b[0m \u001b[1;33m/\u001b[0m \u001b[0mlen\u001b[0m\u001b[1;33m(\u001b[0m\u001b[0mb\u001b[0m\u001b[1;33m)\u001b[0m\u001b[1;33m)\u001b[0m\u001b[1;33m)\u001b[0m\u001b[1;33m:\u001b[0m\u001b[1;33m\u001b[0m\u001b[1;33m\u001b[0m\u001b[0m\n\u001b[0m\u001b[0;32m      2\u001b[0m     \u001b[0mprint\u001b[0m\u001b[1;33m(\u001b[0m\u001b[0mn\u001b[0m\u001b[1;33m,\u001b[0m \u001b[0mi\u001b[0m\u001b[1;33m)\u001b[0m\u001b[1;33m\u001b[0m\u001b[1;33m\u001b[0m\u001b[0m\n",
      "\u001b[1;31mNameError\u001b[0m: name 'b' is not defined"
     ]
    }
   ],
   "source": [
    "for n, i in enumerate((b17.isna().sum() / len(b))):\n",
    "    print(n, i)"
   ]
  },
  {
   "cell_type": "code",
   "execution_count": null,
   "metadata": {},
   "outputs": [],
   "source": [
    "b.columns[17 ]"
   ]
  },
  {
   "cell_type": "markdown",
   "metadata": {},
   "source": [
    "## ------------------------------------------------------------------------------------------------------------------------------------"
   ]
  },
  {
   "cell_type": "code",
   "execution_count": null,
   "metadata": {},
   "outputs": [],
   "source": [
    "for i in cbs15.columns:\n",
    "    print(i)"
   ]
  },
  {
   "cell_type": "code",
   "execution_count": 11,
   "metadata": {},
   "outputs": [
    {
     "data": {
      "text/html": [
       "<div>\n",
       "<style scoped>\n",
       "    .dataframe tbody tr th:only-of-type {\n",
       "        vertical-align: middle;\n",
       "    }\n",
       "\n",
       "    .dataframe tbody tr th {\n",
       "        vertical-align: top;\n",
       "    }\n",
       "\n",
       "    .dataframe thead th {\n",
       "        text-align: right;\n",
       "    }\n",
       "</style>\n",
       "<table border=\"1\" class=\"dataframe\">\n",
       "  <thead>\n",
       "    <tr style=\"text-align: right;\">\n",
       "      <th></th>\n",
       "      <th>gebruiksdoelVerblijfsobject</th>\n",
       "      <th>oppervlakteVerblijfsobject</th>\n",
       "      <th>verblijfsobjectStatus</th>\n",
       "      <th>begindatumTijdvakGeldigheid</th>\n",
       "      <th>einddatumTijdvakGeldigheid</th>\n",
       "      <th>identificatie</th>\n",
       "      <th>pos</th>\n",
       "    </tr>\n",
       "  </thead>\n",
       "  <tbody>\n",
       "    <tr>\n",
       "      <th>19501536</th>\n",
       "      <td>industriefunctie</td>\n",
       "      <td>1678.0</td>\n",
       "      <td>Verblijfsobject in gebruik (niet ingemeten)</td>\n",
       "      <td>2015-10-28</td>\n",
       "      <td>2018-02-08</td>\n",
       "      <td>9.571000e+14</td>\n",
       "      <td>POINT (195783.622 353657.113)</td>\n",
       "    </tr>\n",
       "    <tr>\n",
       "      <th>19501538</th>\n",
       "      <td>bijeenkomstfunctie</td>\n",
       "      <td>170.0</td>\n",
       "      <td>Verblijfsobject gevormd</td>\n",
       "      <td>2016-03-23</td>\n",
       "      <td>2018-02-08</td>\n",
       "      <td>9.571000e+14</td>\n",
       "      <td>POINT (198049.808 356330.331)</td>\n",
       "    </tr>\n",
       "    <tr>\n",
       "      <th>19501540</th>\n",
       "      <td>bijeenkomstfunctie</td>\n",
       "      <td>230.0</td>\n",
       "      <td>Verblijfsobject gevormd</td>\n",
       "      <td>2016-03-23</td>\n",
       "      <td>2018-02-08</td>\n",
       "      <td>9.571000e+14</td>\n",
       "      <td>POINT (198048.701 356313.161)</td>\n",
       "    </tr>\n",
       "    <tr>\n",
       "      <th>19501542</th>\n",
       "      <td>woonfunctie</td>\n",
       "      <td>427.0</td>\n",
       "      <td>Verblijfsobject gevormd</td>\n",
       "      <td>2012-08-22</td>\n",
       "      <td>2018-02-08</td>\n",
       "      <td>9.571000e+14</td>\n",
       "      <td>POINT (200290.765 360276.139)</td>\n",
       "    </tr>\n",
       "    <tr>\n",
       "      <th>19501544</th>\n",
       "      <td>woonfunctie</td>\n",
       "      <td>224.0</td>\n",
       "      <td>Verblijfsobject gevormd</td>\n",
       "      <td>2016-04-12</td>\n",
       "      <td>2017-10-05</td>\n",
       "      <td>5.600100e+15</td>\n",
       "      <td>POINT (196354.013 355718.594)</td>\n",
       "    </tr>\n",
       "  </tbody>\n",
       "</table>\n",
       "</div>"
      ],
      "text/plain": [
       "         gebruiksdoelVerblijfsobject  oppervlakteVerblijfsobject  \\\n",
       "19501536            industriefunctie                      1678.0   \n",
       "19501538          bijeenkomstfunctie                       170.0   \n",
       "19501540          bijeenkomstfunctie                       230.0   \n",
       "19501542                 woonfunctie                       427.0   \n",
       "19501544                 woonfunctie                       224.0   \n",
       "\n",
       "                                verblijfsobjectStatus  \\\n",
       "19501536  Verblijfsobject in gebruik (niet ingemeten)   \n",
       "19501538                      Verblijfsobject gevormd   \n",
       "19501540                      Verblijfsobject gevormd   \n",
       "19501542                      Verblijfsobject gevormd   \n",
       "19501544                      Verblijfsobject gevormd   \n",
       "\n",
       "         begindatumTijdvakGeldigheid einddatumTijdvakGeldigheid  \\\n",
       "19501536                  2015-10-28                 2018-02-08   \n",
       "19501538                  2016-03-23                 2018-02-08   \n",
       "19501540                  2016-03-23                 2018-02-08   \n",
       "19501542                  2012-08-22                 2018-02-08   \n",
       "19501544                  2016-04-12                 2017-10-05   \n",
       "\n",
       "          identificatie                            pos  \n",
       "19501536   9.571000e+14  POINT (195783.622 353657.113)  \n",
       "19501538   9.571000e+14  POINT (198049.808 356330.331)  \n",
       "19501540   9.571000e+14  POINT (198048.701 356313.161)  \n",
       "19501542   9.571000e+14  POINT (200290.765 360276.139)  \n",
       "19501544   5.600100e+15  POINT (196354.013 355718.594)  "
      ]
     },
     "execution_count": 11,
     "metadata": {},
     "output_type": "execute_result"
    }
   ],
   "source": [
    "VBO.tail()"
   ]
  },
  {
   "cell_type": "code",
   "execution_count": null,
   "metadata": {},
   "outputs": [],
   "source": []
  }
 ],
 "metadata": {
  "kernelspec": {
   "display_name": "Python 3 (ipykernel)",
   "language": "python",
   "name": "python3"
  },
  "language_info": {
   "codemirror_mode": {
    "name": "ipython",
    "version": 3
   },
   "file_extension": ".py",
   "mimetype": "text/x-python",
   "name": "python",
   "nbconvert_exporter": "python",
   "pygments_lexer": "ipython3",
   "version": "3.7.11"
  }
 },
 "nbformat": 4,
 "nbformat_minor": 4
}
