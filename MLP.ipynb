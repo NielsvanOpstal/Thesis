{
 "cells": [
  {
   "cell_type": "code",
   "execution_count": 109,
   "id": "29739892",
   "metadata": {},
   "outputs": [
    {
     "name": "stdout",
     "output_type": "stream",
     "text": [
      "Device: cuda:0\n"
     ]
    }
   ],
   "source": [
    "import torch\n",
    "device = torch.device(\"cuda:0\" if torch.cuda.is_available() else \"cpu\")\n",
    "print(\"Device: {}\".format(device))\n",
    "device = \"cpu\""
   ]
  },
  {
   "cell_type": "code",
   "execution_count": 110,
   "id": "d1ec31a0",
   "metadata": {},
   "outputs": [],
   "source": [
    "import numpy as np\n",
    "import os\n",
    "from get_data import get_data\n",
    "from imblearn.over_sampling import SMOTE \n",
    "from imblearn.combine import SMOTEENN\n",
    "from imblearn.under_sampling import RandomUnderSampler\n",
    "from imblearn.pipeline import Pipeline\n",
    "from imblearn.tensorflow import balanced_batch_generator\n",
    "from numpy.random import default_rng\n",
    "rng = default_rng(seed = 31)\n",
    "import pickle\n",
    "import pandas as pd\n",
    "from sklearn.ensemble import RandomForestClassifier\n",
    "from sklearn.model_selection import  GridSearchCV\n",
    "import geopandas as gpd\n",
    "import shapely\n",
    "from sklearn.metrics import recall_score, precision_score, accuracy_score, f1_score, roc_auc_score\n",
    "import libpysal\n",
    "from copy import deepcopy\n",
    "import matplotlib.pyplot as plt"
   ]
  },
  {
   "cell_type": "code",
   "execution_count": 111,
   "id": "ce305bd2",
   "metadata": {},
   "outputs": [],
   "source": [
    "from torch import nn, optim\n",
    "import scipy.ndimage as ndimage"
   ]
  },
  {
   "cell_type": "code",
   "execution_count": 112,
   "id": "fa3bf2c4",
   "metadata": {},
   "outputs": [],
   "source": [
    "# X, Y, ID = get_data(\"../Data/filled/grids/\", [2015,2016,2017,2018,2019])"
   ]
  },
  {
   "cell_type": "code",
   "execution_count": 113,
   "id": "6d24f8bc",
   "metadata": {},
   "outputs": [],
   "source": [
    "from sklearn.preprocessing import StandardScaler\n",
    "ss = StandardScaler()"
   ]
  },
  {
   "cell_type": "code",
   "execution_count": 114,
   "id": "071d3985",
   "metadata": {},
   "outputs": [],
   "source": [
    "def load_data(year):\n",
    "    os.getcwd()\n",
    "    \n",
    "    df = pd.DataFrame()\n",
    "    path = \"../Data/filled/\" + str(year) + \"/\"\n",
    "    for filename in os.listdir(path):\n",
    "        df1 = pd.read_csv(path + filename)\n",
    "        if df1.geometry.isna().any():\n",
    "            print(filename)\n",
    "        df = pd.concat([df, df1])\n",
    "    df = gpd.GeoDataFrame(df)\n",
    "    df.geometry = df.geometry.apply(shapely.wkt.loads)\n",
    "    \n",
    "    df = df.reset_index()\n",
    "    df = df.drop([\"Unnamed: 0\", \"index\"], axis = 1)\n",
    "    return df"
   ]
  },
  {
   "cell_type": "code",
   "execution_count": 115,
   "id": "0547777f",
   "metadata": {},
   "outputs": [],
   "source": [
    "# df15 = load_data(2015)\n",
    "# df16 = load_data(2016)\n",
    "df17 = load_data(2017)\n",
    "df18 = load_data(2018)\n",
    "df19 = load_data(2019)"
   ]
  },
  {
   "cell_type": "code",
   "execution_count": 116,
   "id": "adc68eeb",
   "metadata": {},
   "outputs": [],
   "source": [
    "X_train = df17[df17.columns[:-4]]\n",
    "Y_train = df17.y\n",
    "Y1_train = df17[\"y-1\"]\n",
    "# print(X_train)\n",
    "# X_train = ss.fit_transform(X_train)\n",
    "\n",
    "X_val = df18[df18.columns[:-4]]\n",
    "Y_val = df18.y\n",
    "Y1_val = df18[\"y-1\"]\n",
    "\n",
    "wt = libpysal.weights.DistanceBand.from_dataframe(df17, threshold=150, binary = True, silence_warnings = True)\n",
    "wv =libpysal.weights.DistanceBand.from_dataframe(df18, threshold=150, binary = True, silence_warnings = True)"
   ]
  },
  {
   "cell_type": "code",
   "execution_count": 117,
   "id": "ac95daf6",
   "metadata": {},
   "outputs": [],
   "source": [
    "neighbors = [wt.neighbors[x] for x in wt.neighbors]\n",
    "Y1_train = np.array([Y1_train[x].sum() for x in neighbors])\n",
    "Y1_train[np.where(Y1_train == 0)[0]] = 0.5\n",
    "\n",
    "neighbors = [wv.neighbors[x] for x in wv.neighbors]\n",
    "Y1_val = np.array([Y1_val[x].sum() for x in neighbors])\n",
    "Y1_val[np.where(Y1_val == 0)[0]] = 0.5\n",
    "\n"
   ]
  },
  {
   "cell_type": "code",
   "execution_count": 118,
   "id": "41e4e023",
   "metadata": {},
   "outputs": [],
   "source": [
    "X_train = ss.fit_transform(X_train)\n",
    "X_train[:,-1] = Y1_train\n",
    "X_val = ss.transform(X_val)\n",
    "X_val[:,-1] = Y1_val"
   ]
  },
  {
   "cell_type": "code",
   "execution_count": 119,
   "id": "4707a3d7",
   "metadata": {},
   "outputs": [],
   "source": [
    "oversample = SMOTE()\n",
    "x, y =  oversample.fit_resample(X_train, Y_train)"
   ]
  },
  {
   "cell_type": "code",
   "execution_count": 120,
   "id": "a062b29d",
   "metadata": {},
   "outputs": [],
   "source": [
    "x[x[:,-1]>0.5][:,-1] =  np.ceil(x[x[:,-1] > 0.5][:,-1]) # 0.5 means no neighbors, otherwise make int\n",
    "\n",
    "\n",
    "x = torch.tensor(x).float().to(device)\n",
    "y = torch.tensor(y).float().to(device)\n",
    "X_val = torch.tensor(X_val).float().to(device)\n",
    "Y_val = torch.tensor(Y_val).float().to(device)"
   ]
  },
  {
   "cell_type": "code",
   "execution_count": 121,
   "id": "f2ab3eab",
   "metadata": {},
   "outputs": [],
   "source": [
    "rng = default_rng()\n",
    "def get_batch(X, Y, batch_size = 32):\n",
    "    idxs = rng.integers(len(X), size = batch_size)\n",
    "    return X[idxs], Y[idxs]\n",
    "\n"
   ]
  },
  {
   "cell_type": "code",
   "execution_count": null,
   "id": "d577aff7",
   "metadata": {},
   "outputs": [],
   "source": []
  },
  {
   "cell_type": "code",
   "execution_count": 122,
   "id": "225c26e2",
   "metadata": {},
   "outputs": [],
   "source": [
    " # best auc: 0.675, f1: 0.476, lr: 0.00000051, epochs: 10000\n",
    "class Model(nn.Module):\n",
    "    def __init__(self,  drop_rate = 0.2):\n",
    "        super(Model, self).__init__()\n",
    "        self.net = nn.Sequential(\n",
    "            nn.Linear(39,100),\n",
    "            nn.Dropout(0.3),\n",
    "            nn.ReLU(),\n",
    "            nn.Linear(100,250),\n",
    "            nn.Dropout(0.3),\n",
    "            nn.ReLU(),\n",
    "            nn.Linear(250,100),\n",
    "            nn.ReLU(),\n",
    "            nn.Linear(100,1)\n",
    "             )\n",
    "\n",
    "        self.final = nn.Sigmoid()\n",
    "\n",
    "    def forward(self, x):\n",
    "        Y_1 = x[:,-1].reshape(-1,1) # take yt-1 of neighbors\n",
    "        x = x[:,:-1]\n",
    "        out = self.net(x) # get p\n",
    "        \n",
    "        out *= Y_1 # multiply with yt-1\n",
    "\n",
    "        return out\n",
    "       "
   ]
  },
  {
   "cell_type": "code",
   "execution_count": 123,
   "id": "0f218845",
   "metadata": {},
   "outputs": [],
   "source": [
    "class Model1(nn.Module):\n",
    "    def __init__(self,  drop_rate = 0.2):\n",
    "        super(Model1, self).__init__()\n",
    "        self.net = nn.Sequential(\n",
    "            nn.Linear(39,100),\n",
    "            nn.Dropout(0.4),\n",
    "            nn.ReLU(),\n",
    "            nn.Linear(100,50),\n",
    "            nn.Dropout(0.4),\n",
    "            nn.ReLU(),\n",
    "            nn.Linear(50,1)\n",
    "             )\n",
    "\n",
    "        self.final = nn.Sigmoid()\n",
    "\n",
    "    def forward(self, x):\n",
    "        Y_1 = x[:,-1].reshape(-1,1) # take yt-1 of neighbors\n",
    "        x = x[:,:-1]\n",
    "        out = self.net(x) # get p\n",
    "        \n",
    "        out *= Y_1 # multiply with yt-1\n",
    "\n",
    "        return out\n",
    "       "
   ]
  },
  {
   "cell_type": "code",
   "execution_count": 124,
   "id": "0c6de520",
   "metadata": {},
   "outputs": [],
   "source": [
    " # best auc: 0.675, f1: 0.476, lr: 0.00000051, epochs: 10000\n",
    "class Model2(nn.Module):\n",
    "    def __init__(self,  drop_rate = 0.2):\n",
    "        super(Model2, self).__init__()\n",
    "        self.net = nn.Sequential(\n",
    "            nn.Linear(39,150),\n",
    "            nn.Dropout(0.3),\n",
    "            nn.ReLU(),\n",
    "            nn.Linear(150,500),\n",
    "            nn.Dropout(0.3),\n",
    "            nn.ReLU(),\n",
    "            nn.Linear(500,100),\n",
    "            nn.ReLU(),\n",
    "            nn.Linear(100,1)\n",
    "             )\n",
    "\n",
    "        self.final = nn.Sigmoid()\n",
    "\n",
    "    def forward(self, x):\n",
    "        Y_1 = x[:,-1].reshape(-1,1) # take yt-1 of neighbors\n",
    "        x = x[:,:-1]\n",
    "        out = self.net(x) # get p\n",
    "        \n",
    "        out *= Y_1 # multiply with yt-1\n",
    "\n",
    "        return out\n",
    "       "
   ]
  },
  {
   "cell_type": "code",
   "execution_count": 125,
   "id": "fdd4a34d",
   "metadata": {},
   "outputs": [],
   "source": [
    " # best auc: 0.675, f1: 0.476, lr: 0.00000051, epochs: 10000\n",
    "class Model3(nn.Module):\n",
    "    def __init__(self,  drop_rate = 0.2):\n",
    "        super(Model3, self).__init__()\n",
    "        self.net = nn.Sequential(\n",
    "            nn.Linear(39,100),\n",
    "            nn.Dropout(0.3),\n",
    "            nn.ReLU(),\n",
    "            nn.Linear(100,1)\n",
    "             )\n",
    "\n",
    "        self.final = nn.Sigmoid()\n",
    "\n",
    "    def forward(self, x):\n",
    "        Y_1 = x[:,-1].reshape(-1,1) # take yt-1 of neighbors\n",
    "        x = x[:,:-1]\n",
    "        out = self.net(x) # get p\n",
    "        \n",
    "        out *= Y_1 # multiply with yt-1\n",
    "\n",
    "        return out\n",
    "       "
   ]
  },
  {
   "cell_type": "code",
   "execution_count": 126,
   "id": "bfcc392e",
   "metadata": {},
   "outputs": [],
   "source": [
    " # best auc: 0.675, f1: 0.476, lr: 0.00000051, epochs: 10000\n",
    "class Model4(nn.Module):\n",
    "    def __init__(self,  drop_rate = 0.2):\n",
    "        super(Model4, self).__init__()\n",
    "        self.net = nn.Sequential(\n",
    "            nn.Linear(39,40),\n",
    "            nn.Dropout(0.3),\n",
    "            nn.ReLU(),\n",
    "            nn.Linear(40,80),\n",
    "            nn.Dropout(0.3),\n",
    "            nn.ReLU(),\n",
    "            nn.Linear(80,1)\n",
    "             )\n",
    "\n",
    "        self.final = nn.Sigmoid()\n",
    "\n",
    "    def forward(self, x):\n",
    "        Y_1 = x[:,-1].reshape(-1,1) # take yt-1 of neighbors\n",
    "        x = x[:,:-1]\n",
    "        out = self.net(x) # get p\n",
    "        \n",
    "        out *= Y_1 # multiply with yt-1\n",
    "\n",
    "        return out\n",
    "       "
   ]
  },
  {
   "cell_type": "code",
   "execution_count": 127,
   "id": "6c732b48",
   "metadata": {},
   "outputs": [],
   "source": [
    "model = Model().to(device)\n",
    "model1 = Model1().to(device)\n",
    "model2 = Model2().to(device)\n",
    "model3 = Model3().to(device)\n",
    "model4 = Model4().to(device)\n",
    "\n",
    "models = [model, model1, model2, model3, model4]"
   ]
  },
  {
   "cell_type": "code",
   "execution_count": 128,
   "id": "6219a26b",
   "metadata": {},
   "outputs": [],
   "source": [
    "def train(models, X_train, Y_train, Y1_train, X_val, Y_val, Y1_val, num_epochs, lr, batch_per_e = 100 ):\n",
    "\n",
    "    best_auc, best_f1, best_model, best_epoch, best_lr = 0,0,0,0,0\n",
    "    \n",
    "    for i, model in enumerate(models):\n",
    "        for lr in [0.00000051, 0.0000051, 0.000000051]:\n",
    "            optimizer = optim.Adam(model.parameters(), lr=lr) \n",
    "            SigBCEloss = nn.BCEWithLogitsLoss()\n",
    "            ROC_history = []\n",
    "\n",
    "            for epoch in range(num_epochs):\n",
    "                epoch_loss = []\n",
    "#                 print(\"epoch: {} of {}\".format(epoch, num_epochs))\n",
    "                for batch in range(batch_per_e):\n",
    "\n",
    "                    x, y = get_batch(X_train, Y_train, 6)\n",
    "\n",
    "                    model.train()\n",
    "\n",
    "                    optimizer.zero_grad()\n",
    "                    out = model(x).squeeze()\n",
    "\n",
    "\n",
    "                    loss = SigBCEloss(out, y)\n",
    "                    loss.backward()\n",
    "                    optimizer.step()\n",
    "\n",
    "\n",
    "                    epoch_loss.append(loss.detach().numpy())\n",
    "\n",
    "                model.eval()\n",
    "\n",
    "                out = model(X_val)\n",
    "                ROC = roc_auc_score(Y_val, model.final(out).detach().numpy())\n",
    "                out = out.squeeze().detach().numpy()\n",
    "\n",
    "                preds = np.zeros(len(out))\n",
    "                pos = out.argsort()[-((Y_val == 1).sum()):]\n",
    "                preds[pos] = 1\n",
    "                \n",
    "                f1 = f1_score(Y_val, preds)\n",
    "\n",
    "                ROC_history.append(ROC)\n",
    "\n",
    "                if ROC > best_auc:\n",
    "                    print(\"model: {}, ROC:{}, f1: {}, lr: {}, epoch = {}\".format(i, ROC, f1, lr, epoch))\n",
    "                    best_auc = ROC\n",
    "                    best_f1 = f1\n",
    "                    best_model = deepcopy(model.state_dict())\n",
    "                    best_epoch = epoch\n",
    "                    best_lr = lr\n",
    "\n",
    "                train_loss = []\n",
    "                          \n",
    "            print(np.max(ROC_history), np.argmax(ROC_history), lr)\n",
    "            plt.plot(ROC_history, alpha = 0.5)\n",
    "            plt.hlines(np.mean(ROC_history), 0, n_epochs, color = \"r\") \n",
    "            linear_model=np.polyfit(range(n_epochs), ROC_history, 2)\n",
    "            linear_model_fn=np.poly1d(linear_model)\n",
    "            x_s=np.arange(0,n_epochs)\n",
    "            plt.plot(linear_model_fn(x_s))  \n",
    "            plt.show()\n",
    "                          \n",
    "    result = np.argmax(ROC_history)\n",
    "    return best_auc, best_f1, best_model, best_epoch"
   ]
  },
  {
   "cell_type": "code",
   "execution_count": null,
   "id": "4f3ae5db",
   "metadata": {},
   "outputs": [
    {
     "name": "stdout",
     "output_type": "stream",
     "text": [
      "model: 0, ROC:0.3786145845087037, f1: 0.11600496277915633, lr: 5.1e-07, epoch = 0\n",
      "model: 0, ROC:0.3803460808835719, f1: 0.11910669975186104, lr: 5.1e-07, epoch = 1\n",
      "model: 0, ROC:0.3821204696606363, f1: 0.12158808933002481, lr: 5.1e-07, epoch = 2\n",
      "model: 0, ROC:0.38421512446489975, f1: 0.12158808933002481, lr: 5.1e-07, epoch = 3\n",
      "model: 0, ROC:0.3867608319653538, f1: 0.12531017369727046, lr: 5.1e-07, epoch = 4\n",
      "model: 0, ROC:0.3894154869946266, f1: 0.12903225806451613, lr: 5.1e-07, epoch = 5\n",
      "model: 0, ROC:0.3923424281219299, f1: 0.12841191066997518, lr: 5.1e-07, epoch = 6\n",
      "model: 0, ROC:0.3947344344010136, f1: 0.1327543424317618, lr: 5.1e-07, epoch = 7\n",
      "model: 0, ROC:0.397150223834642, f1: 0.13771712158808933, lr: 5.1e-07, epoch = 8\n",
      "model: 0, ROC:0.3998201828068391, f1: 0.13833746898263027, lr: 5.1e-07, epoch = 9\n",
      "model: 0, ROC:0.4028894506033393, f1: 0.141439205955335, lr: 5.1e-07, epoch = 10\n",
      "model: 0, ROC:0.4052534961650801, f1: 0.1445409429280397, lr: 5.1e-07, epoch = 11\n",
      "model: 0, ROC:0.40831887593283733, f1: 0.14640198511166252, lr: 5.1e-07, epoch = 12\n",
      "model: 0, ROC:0.41169546344806274, f1: 0.14516129032258066, lr: 5.1e-07, epoch = 13\n",
      "model: 0, ROC:0.4152073047291334, f1: 0.14950372208436724, lr: 5.1e-07, epoch = 14\n",
      "model: 0, ROC:0.41702892891922394, f1: 0.1513647642679901, lr: 5.1e-07, epoch = 15\n",
      "model: 0, ROC:0.4204384405927407, f1: 0.15384615384615385, lr: 5.1e-07, epoch = 16\n",
      "model: 0, ROC:0.42315166422520517, f1: 0.15570719602977667, lr: 5.1e-07, epoch = 17\n",
      "model: 0, ROC:0.42521124404676625, f1: 0.1606699751861042, lr: 5.1e-07, epoch = 18\n",
      "model: 0, ROC:0.42874364224576506, f1: 0.15942928039702234, lr: 5.1e-07, epoch = 19\n",
      "model: 0, ROC:0.43204768079912725, f1: 0.16687344913151364, lr: 5.1e-07, epoch = 20\n",
      "model: 0, ROC:0.43469791009355424, f1: 0.17121588089330025, lr: 5.1e-07, epoch = 21\n",
      "model: 0, ROC:0.4384660717376047, f1: 0.17245657568238212, lr: 5.1e-07, epoch = 22\n",
      "model: 0, ROC:0.44086254511354195, f1: 0.17369727047146402, lr: 5.1e-07, epoch = 23\n",
      "model: 0, ROC:0.4438959520491897, f1: 0.17431761786600497, lr: 5.1e-07, epoch = 24\n",
      "model: 0, ROC:0.4465104859307957, f1: 0.17555831265508684, lr: 5.1e-07, epoch = 25\n",
      "model: 0, ROC:0.44981961201113, f1: 0.1792803970223325, lr: 5.1e-07, epoch = 26\n",
      "model: 0, ROC:0.45440119890261627, f1: 0.17990074441687345, lr: 5.1e-07, epoch = 27\n",
      "model: 0, ROC:0.4587476014171617, f1: 0.18114143920595532, lr: 5.1e-07, epoch = 28\n",
      "model: 0, ROC:0.46267504815364957, f1: 0.184863523573201, lr: 5.1e-07, epoch = 29\n",
      "model: 0, ROC:0.4674084749761507, f1: 0.19168734491315137, lr: 5.1e-07, epoch = 30\n",
      "model: 0, ROC:0.47111951568728605, f1: 0.19727047146401985, lr: 5.1e-07, epoch = 31\n",
      "model: 0, ROC:0.47681034890673596, f1: 0.20285359801488836, lr: 5.1e-07, epoch = 32\n",
      "model: 0, ROC:0.4822039960993972, f1: 0.2109181141439206, lr: 5.1e-07, epoch = 33\n",
      "model: 0, ROC:0.4875370065884715, f1: 0.2140198511166253, lr: 5.1e-07, epoch = 34\n",
      "model: 0, ROC:0.49255938839818836, f1: 0.21712158808933002, lr: 5.1e-07, epoch = 35\n",
      "model: 0, ROC:0.49794033745442323, f1: 0.22084367245657568, lr: 5.1e-07, epoch = 36\n",
      "model: 0, ROC:0.5019441384575016, f1: 0.22456575682382135, lr: 5.1e-07, epoch = 37\n",
      "model: 0, ROC:0.5084623359210508, f1: 0.22890818858560794, lr: 5.1e-07, epoch = 38\n",
      "model: 0, ROC:0.5117370074488012, f1: 0.2313895781637717, lr: 5.1e-07, epoch = 39\n",
      "model: 0, ROC:0.5161403240862222, f1: 0.23200992555831265, lr: 5.1e-07, epoch = 40\n",
      "model: 0, ROC:0.5198060733987029, f1: 0.2369727047146402, lr: 5.1e-07, epoch = 41\n",
      "model: 0, ROC:0.5255991121396831, f1: 0.2456575682382134, lr: 5.1e-07, epoch = 42\n",
      "model: 0, ROC:0.5311046022017162, f1: 0.2518610421836228, lr: 5.1e-07, epoch = 43\n",
      "model: 0, ROC:0.5349441133094008, f1: 0.2531017369727047, lr: 5.1e-07, epoch = 44\n",
      "model: 0, ROC:0.5397682056532269, f1: 0.25744416873449133, lr: 5.1e-07, epoch = 45\n",
      "model: 0, ROC:0.5431772623446567, f1: 0.2617866004962779, lr: 5.1e-07, epoch = 46\n",
      "model: 0, ROC:0.5473468009134055, f1: 0.2642679900744417, lr: 5.1e-07, epoch = 47\n",
      "model: 0, ROC:0.5514124381183, f1: 0.27109181141439204, lr: 5.1e-07, epoch = 48\n",
      "model: 0, ROC:0.554720778320484, f1: 0.2729528535980149, lr: 5.1e-07, epoch = 49\n",
      "model: 0, ROC:0.5576041652534647, f1: 0.27729528535980147, lr: 5.1e-07, epoch = 50\n",
      "model: 0, ROC:0.5603550696751296, f1: 0.27791563275434245, lr: 5.1e-07, epoch = 51\n",
      "model: 0, ROC:0.5642677501747959, f1: 0.2816377171215881, lr: 5.1e-07, epoch = 52\n",
      "model: 0, ROC:0.5681459761218782, f1: 0.2834987593052109, lr: 5.1e-07, epoch = 53\n",
      "model: 0, ROC:0.5727106873141398, f1: 0.2872208436724566, lr: 5.1e-07, epoch = 54\n",
      "model: 0, ROC:0.5764548176315982, f1: 0.29094292803970223, lr: 5.1e-07, epoch = 55\n",
      "model: 0, ROC:0.5801362017830666, f1: 0.29156327543424315, lr: 5.1e-07, epoch = 56\n",
      "model: 0, ROC:0.5835273487250741, f1: 0.29280397022332505, lr: 5.1e-07, epoch = 57\n",
      "model: 0, ROC:0.5869274298607887, f1: 0.29404466501240695, lr: 5.1e-07, epoch = 58\n",
      "model: 0, ROC:0.5900797939311676, f1: 0.293424317617866, lr: 5.1e-07, epoch = 59\n",
      "model: 0, ROC:0.593195014918449, f1: 0.29652605459057074, lr: 5.1e-07, epoch = 60\n",
      "model: 0, ROC:0.5952276680728646, f1: 0.29838709677419356, lr: 5.1e-07, epoch = 61\n",
      "model: 0, ROC:0.5982465569437381, f1: 0.3021091811414392, lr: 5.1e-07, epoch = 62\n",
      "model: 0, ROC:0.599661758044166, f1: 0.3021091811414392, lr: 5.1e-07, epoch = 63\n",
      "model: 0, ROC:0.6014006168564411, f1: 0.3021091811414392, lr: 5.1e-07, epoch = 64\n",
      "model: 0, ROC:0.6032436665666258, f1: 0.3052109181141439, lr: 5.1e-07, epoch = 65\n",
      "model: 0, ROC:0.6047633894610266, f1: 0.3064516129032258, lr: 5.1e-07, epoch = 66\n",
      "model: 0, ROC:0.6064322637559284, f1: 0.3058312655086849, lr: 5.1e-07, epoch = 67\n",
      "model: 0, ROC:0.6077467483671106, f1: 0.30831265508684863, lr: 5.1e-07, epoch = 68\n",
      "model: 0, ROC:0.6094765902616626, f1: 0.3107940446650124, lr: 5.1e-07, epoch = 69\n",
      "model: 0, ROC:0.6102066710631724, f1: 0.3107940446650124, lr: 5.1e-07, epoch = 70\n",
      "model: 0, ROC:0.6112811319424889, f1: 0.31141439205955335, lr: 5.1e-07, epoch = 71\n",
      "model: 0, ROC:0.6132225818694768, f1: 0.31203473945409427, lr: 5.1e-07, epoch = 72\n",
      "model: 0, ROC:0.6144584786656417, f1: 0.31265508684863524, lr: 5.1e-07, epoch = 73\n",
      "model: 0, ROC:0.6152519674252679, f1: 0.31141439205955335, lr: 5.1e-07, epoch = 74\n",
      "model: 0, ROC:0.6171284376378389, f1: 0.31141439205955335, lr: 5.1e-07, epoch = 75\n",
      "model: 0, ROC:0.6186903084182936, f1: 0.31389578163771714, lr: 5.1e-07, epoch = 76\n",
      "model: 0, ROC:0.6204056322480715, f1: 0.31327543424317617, lr: 5.1e-07, epoch = 77\n",
      "model: 0, ROC:0.6219180340670732, f1: 0.31389578163771714, lr: 5.1e-07, epoch = 78\n",
      "model: 0, ROC:0.623325624558047, f1: 0.31451612903225806, lr: 5.1e-07, epoch = 79\n",
      "model: 0, ROC:0.624374978698566, f1: 0.3163771712158809, lr: 5.1e-07, epoch = 80\n",
      "model: 0, ROC:0.6253812336268492, f1: 0.3163771712158809, lr: 5.1e-07, epoch = 81\n",
      "model: 0, ROC:0.6272447988929541, f1: 0.31699751861042186, lr: 5.1e-07, epoch = 82\n",
      "model: 0, ROC:0.6284759804202182, f1: 0.3182382133995037, lr: 5.1e-07, epoch = 83\n",
      "model: 0, ROC:0.629526285886919, f1: 0.3182382133995037, lr: 5.1e-07, epoch = 84\n",
      "model: 0, ROC:0.6309042611802336, f1: 0.31699751861042186, lr: 5.1e-07, epoch = 85\n",
      "model: 0, ROC:0.6315624548120063, f1: 0.3176178660049628, lr: 5.1e-07, epoch = 86\n",
      "model: 0, ROC:0.6330378789959422, f1: 0.3176178660049628, lr: 5.1e-07, epoch = 87\n",
      "model: 0, ROC:0.6338819121292267, f1: 0.3176178660049628, lr: 5.1e-07, epoch = 88\n",
      "model: 0, ROC:0.634892468706332, f1: 0.31575682382133996, lr: 5.1e-07, epoch = 89\n",
      "model: 0, ROC:0.6356857092939108, f1: 0.31699751861042186, lr: 5.1e-07, epoch = 90\n",
      "model: 0, ROC:0.6362186587657511, f1: 0.3163771712158809, lr: 5.1e-07, epoch = 91\n",
      "model: 0, ROC:0.6371463258790171, f1: 0.315136476426799, lr: 5.1e-07, epoch = 92\n",
      "model: 0, ROC:0.6380152589410598, f1: 0.315136476426799, lr: 5.1e-07, epoch = 93\n",
      "model: 0, ROC:0.6387878598866945, f1: 0.315136476426799, lr: 5.1e-07, epoch = 94\n",
      "model: 0, ROC:0.6395844507969135, f1: 0.31575682382133996, lr: 5.1e-07, epoch = 95\n",
      "model: 0, ROC:0.6403104367596407, f1: 0.3163771712158809, lr: 5.1e-07, epoch = 96\n",
      "model: 0, ROC:0.6411866495350744, f1: 0.3194789081885856, lr: 5.1e-07, epoch = 97\n",
      "model: 0, ROC:0.6419286012328524, f1: 0.3213399503722084, lr: 5.1e-07, epoch = 98\n",
      "model: 0, ROC:0.6423859409542447, f1: 0.3219602977667494, lr: 5.1e-07, epoch = 99\n"
     ]
    },
    {
     "name": "stdout",
     "output_type": "stream",
     "text": [
      "model: 0, ROC:0.6428637962315571, f1: 0.3219602977667494, lr: 5.1e-07, epoch = 100\n",
      "model: 0, ROC:0.6432647181741684, f1: 0.3225806451612903, lr: 5.1e-07, epoch = 101\n",
      "model: 0, ROC:0.6438998318055311, f1: 0.3232009925558313, lr: 5.1e-07, epoch = 102\n",
      "model: 0, ROC:0.6443277217772956, f1: 0.3232009925558313, lr: 5.1e-07, epoch = 103\n",
      "model: 0, ROC:0.644898889744439, f1: 0.3232009925558313, lr: 5.1e-07, epoch = 104\n",
      "model: 0, ROC:0.6452940210059438, f1: 0.3232009925558313, lr: 5.1e-07, epoch = 105\n",
      "model: 0, ROC:0.6458888066796004, f1: 0.32444168734491313, lr: 5.1e-07, epoch = 106\n",
      "model: 0, ROC:0.6464146832480889, f1: 0.3250620347394541, lr: 5.1e-07, epoch = 107\n",
      "model: 0, ROC:0.6468685899228251, f1: 0.32568238213399503, lr: 5.1e-07, epoch = 108\n",
      "model: 0, ROC:0.6472549110766465, f1: 0.32568238213399503, lr: 5.1e-07, epoch = 109\n",
      "model: 0, ROC:0.6474955138766227, f1: 0.32568238213399503, lr: 5.1e-07, epoch = 110\n",
      "model: 0, ROC:0.6479944224159582, f1: 0.32568238213399503, lr: 5.1e-07, epoch = 111\n",
      "model: 0, ROC:0.6483966679428225, f1: 0.32568238213399503, lr: 5.1e-07, epoch = 112\n",
      "model: 0, ROC:0.6485947092366658, f1: 0.3269230769230769, lr: 5.1e-07, epoch = 113\n",
      "model: 0, ROC:0.6491436658055647, f1: 0.32754342431761785, lr: 5.1e-07, epoch = 114\n",
      "model: 0, ROC:0.6496666883955081, f1: 0.32754342431761785, lr: 5.1e-07, epoch = 115\n",
      "model: 0, ROC:0.6499202788659663, f1: 0.3281637717121588, lr: 5.1e-07, epoch = 116\n",
      "model: 0, ROC:0.6502950600195825, f1: 0.3294044665012407, lr: 5.1e-07, epoch = 117\n",
      "model: 0, ROC:0.6507644774472825, f1: 0.3281637717121588, lr: 5.1e-07, epoch = 118\n",
      "model: 0, ROC:0.6510713008219127, f1: 0.32754342431761785, lr: 5.1e-07, epoch = 119\n",
      "model: 0, ROC:0.6514548920832124, f1: 0.32754342431761785, lr: 5.1e-07, epoch = 120\n",
      "model: 0, ROC:0.651900030012273, f1: 0.3281637717121588, lr: 5.1e-07, epoch = 121\n",
      "model: 0, ROC:0.6523069908080382, f1: 0.32878411910669975, lr: 5.1e-07, epoch = 122\n",
      "model: 0, ROC:0.6527539073034385, f1: 0.32878411910669975, lr: 5.1e-07, epoch = 123\n",
      "model: 0, ROC:0.6530674313233492, f1: 0.32878411910669975, lr: 5.1e-07, epoch = 124\n",
      "model: 0, ROC:0.6534001886769353, f1: 0.3281637717121588, lr: 5.1e-07, epoch = 125\n",
      "model: 0, ROC:0.6537337319086713, f1: 0.32878411910669975, lr: 5.1e-07, epoch = 126\n",
      "model: 0, ROC:0.6540512266813409, f1: 0.32878411910669975, lr: 5.1e-07, epoch = 127\n",
      "model: 0, ROC:0.654288437796669, f1: 0.32878411910669975, lr: 5.1e-07, epoch = 128\n",
      "model: 0, ROC:0.6547213739333979, f1: 0.3294044665012407, lr: 5.1e-07, epoch = 129\n",
      "model: 0, ROC:0.6549089506392416, f1: 0.3294044665012407, lr: 5.1e-07, epoch = 130\n",
      "model: 0, ROC:0.6551353662705068, f1: 0.3294044665012407, lr: 5.1e-07, epoch = 131\n",
      "model: 0, ROC:0.6554163383901973, f1: 0.3294044665012407, lr: 5.1e-07, epoch = 132\n",
      "model: 0, ROC:0.6556345229818897, f1: 0.3294044665012407, lr: 5.1e-07, epoch = 133\n",
      "model: 0, ROC:0.6560157566087389, f1: 0.33002481389578164, lr: 5.1e-07, epoch = 134\n",
      "model: 0, ROC:0.6563371807721592, f1: 0.3294044665012407, lr: 5.1e-07, epoch = 135\n",
      "model: 0, ROC:0.6565666158300014, f1: 0.33002481389578164, lr: 5.1e-07, epoch = 136\n",
      "model: 0, ROC:0.656827320565819, f1: 0.33002481389578164, lr: 5.1e-07, epoch = 137\n",
      "model: 0, ROC:0.6570642421470918, f1: 0.3294044665012407, lr: 5.1e-07, epoch = 138\n",
      "model: 0, ROC:0.6573576642311614, f1: 0.3294044665012407, lr: 5.1e-07, epoch = 139\n",
      "model: 0, ROC:0.657564143374617, f1: 0.33002481389578164, lr: 5.1e-07, epoch = 140\n",
      "model: 0, ROC:0.6577933302604119, f1: 0.33002481389578164, lr: 5.1e-07, epoch = 141\n",
      "model: 0, ROC:0.6578417238096592, f1: 0.33002481389578164, lr: 5.1e-07, epoch = 142\n",
      "model: 0, ROC:0.6581762183675772, f1: 0.33064516129032256, lr: 5.1e-07, epoch = 143\n",
      "model: 0, ROC:0.658410203246289, f1: 0.33064516129032256, lr: 5.1e-07, epoch = 144\n",
      "model: 0, ROC:0.6586482002397673, f1: 0.33064516129032256, lr: 5.1e-07, epoch = 145\n",
      "model: 0, ROC:0.658885618165135, f1: 0.33126550868486354, lr: 5.1e-07, epoch = 146\n",
      "model: 0, ROC:0.6590301370207509, f1: 0.33126550868486354, lr: 5.1e-07, epoch = 147\n",
      "model: 0, ROC:0.6593111505024492, f1: 0.33188585607940446, lr: 5.1e-07, epoch = 148\n",
      "model: 0, ROC:0.6596542069960031, f1: 0.3325062034739454, lr: 5.1e-07, epoch = 149\n",
      "model: 0, ROC:0.660047601053176, f1: 0.33312655086848636, lr: 5.1e-07, epoch = 150\n",
      "model: 0, ROC:0.6603434221337038, f1: 0.33312655086848636, lr: 5.1e-07, epoch = 151\n",
      "model: 0, ROC:0.6604536518847675, f1: 0.3325062034739454, lr: 5.1e-07, epoch = 152\n",
      "model: 0, ROC:0.6605721953994197, f1: 0.3325062034739454, lr: 5.1e-07, epoch = 153\n",
      "model: 0, ROC:0.6606763035733135, f1: 0.33312655086848636, lr: 5.1e-07, epoch = 154\n",
      "model: 0, ROC:0.6608434060852448, f1: 0.33312655086848636, lr: 5.1e-07, epoch = 155\n",
      "model: 0, ROC:0.6609945015001173, f1: 0.3337468982630273, lr: 5.1e-07, epoch = 156\n",
      "model: 0, ROC:0.6611836086002535, f1: 0.3337468982630273, lr: 5.1e-07, epoch = 157\n",
      "model: 0, ROC:0.6613211372765335, f1: 0.3337468982630273, lr: 5.1e-07, epoch = 158\n",
      "model: 0, ROC:0.6614891911146465, f1: 0.3337468982630273, lr: 5.1e-07, epoch = 159\n",
      "model: 0, ROC:0.6616037638765401, f1: 0.33312655086848636, lr: 5.1e-07, epoch = 160\n",
      "model: 0, ROC:0.6618841569281197, f1: 0.3337468982630273, lr: 5.1e-07, epoch = 161\n",
      "model: 0, ROC:0.6621687275424978, f1: 0.3337468982630273, lr: 5.1e-07, epoch = 162\n",
      "model: 0, ROC:0.6622866919890393, f1: 0.33312655086848636, lr: 5.1e-07, epoch = 163\n",
      "model: 0, ROC:0.6624839474047326, f1: 0.3337468982630273, lr: 5.1e-07, epoch = 164\n",
      "model: 0, ROC:0.6626700764402996, f1: 0.33312655086848636, lr: 5.1e-07, epoch = 165\n",
      "model: 0, ROC:0.6628367653321519, f1: 0.3337468982630273, lr: 5.1e-07, epoch = 166\n",
      "model: 0, ROC:0.663090769422689, f1: 0.3337468982630273, lr: 5.1e-07, epoch = 167\n",
      "model: 0, ROC:0.6632126218979735, f1: 0.3337468982630273, lr: 5.1e-07, epoch = 168\n",
      "model: 0, ROC:0.6633391069181432, f1: 0.3337468982630273, lr: 5.1e-07, epoch = 169\n",
      "model: 0, ROC:0.6635223819751649, f1: 0.3337468982630273, lr: 5.1e-07, epoch = 170\n",
      "model: 0, ROC:0.6635555956675117, f1: 0.3337468982630273, lr: 5.1e-07, epoch = 171\n",
      "model: 0, ROC:0.6636782753829543, f1: 0.33312655086848636, lr: 5.1e-07, epoch = 172\n",
      "model: 0, ROC:0.6638293294358188, f1: 0.3337468982630273, lr: 5.1e-07, epoch = 173\n",
      "model: 0, ROC:0.6640473072174718, f1: 0.3325062034739454, lr: 5.1e-07, epoch = 174\n",
      "model: 0, ROC:0.6642727301605476, f1: 0.33188585607940446, lr: 5.1e-07, epoch = 175\n",
      "model: 0, ROC:0.664430236686645, f1: 0.33188585607940446, lr: 5.1e-07, epoch = 176\n",
      "model: 0, ROC:0.6645470429969653, f1: 0.33188585607940446, lr: 5.1e-07, epoch = 177\n",
      "model: 0, ROC:0.6646243072277296, f1: 0.33188585607940446, lr: 5.1e-07, epoch = 178\n",
      "model: 0, ROC:0.6647749890225231, f1: 0.3325062034739454, lr: 5.1e-07, epoch = 179\n",
      "model: 0, ROC:0.664815027446174, f1: 0.3325062034739454, lr: 5.1e-07, epoch = 180\n",
      "model: 0, ROC:0.6648702870887334, f1: 0.33312655086848636, lr: 5.1e-07, epoch = 181\n",
      "model: 0, ROC:0.6650801165548293, f1: 0.33312655086848636, lr: 5.1e-07, epoch = 182\n",
      "model: 0, ROC:0.6651909253740036, f1: 0.33312655086848636, lr: 5.1e-07, epoch = 183\n",
      "model: 0, ROC:0.6653782539077998, f1: 0.33312655086848636, lr: 5.1e-07, epoch = 184\n",
      "model: 0, ROC:0.6655395243766166, f1: 0.33312655086848636, lr: 5.1e-07, epoch = 185\n",
      "model: 0, ROC:0.6657364075342387, f1: 0.33312655086848636, lr: 5.1e-07, epoch = 186\n",
      "model: 0, ROC:0.6658421288264407, f1: 0.3325062034739454, lr: 5.1e-07, epoch = 187\n",
      "model: 0, ROC:0.6659724605133455, f1: 0.3325062034739454, lr: 5.1e-07, epoch = 188\n",
      "model: 0, ROC:0.6661594167890706, f1: 0.33312655086848636, lr: 5.1e-07, epoch = 189\n",
      "model: 0, ROC:0.6662737413789167, f1: 0.3337468982630273, lr: 5.1e-07, epoch = 190\n",
      "model: 0, ROC:0.6664399752886819, f1: 0.3337468982630273, lr: 5.1e-07, epoch = 191\n",
      "model: 0, ROC:0.6666607243248646, f1: 0.3337468982630273, lr: 5.1e-07, epoch = 192\n",
      "model: 0, ROC:0.666779970993651, f1: 0.33436724565756826, lr: 5.1e-07, epoch = 193\n",
      "model: 0, ROC:0.6669146456913858, f1: 0.3337468982630273, lr: 5.1e-07, epoch = 194\n",
      "model: 0, ROC:0.6670341405322199, f1: 0.33436724565756826, lr: 5.1e-07, epoch = 195\n",
      "model: 0, ROC:0.6671597155882157, f1: 0.33436724565756826, lr: 5.1e-07, epoch = 196\n",
      "model: 0, ROC:0.6672732129379038, f1: 0.33312655086848636, lr: 5.1e-07, epoch = 197\n",
      "model: 0, ROC:0.6674118997504052, f1: 0.33312655086848636, lr: 5.1e-07, epoch = 198\n"
     ]
    },
    {
     "name": "stdout",
     "output_type": "stream",
     "text": [
      "model: 0, ROC:0.667483704196126, f1: 0.3325062034739454, lr: 5.1e-07, epoch = 199\n",
      "model: 0, ROC:0.667722321619723, f1: 0.3325062034739454, lr: 5.1e-07, epoch = 200\n",
      "model: 0, ROC:0.6677452361721017, f1: 0.3325062034739454, lr: 5.1e-07, epoch = 201\n",
      "model: 0, ROC:0.6679416643476368, f1: 0.3325062034739454, lr: 5.1e-07, epoch = 202\n",
      "model: 0, ROC:0.668062813668787, f1: 0.33312655086848636, lr: 5.1e-07, epoch = 203\n",
      "model: 0, ROC:0.6681401192615591, f1: 0.33312655086848636, lr: 5.1e-07, epoch = 204\n",
      "model: 0, ROC:0.6682581250701086, f1: 0.33312655086848636, lr: 5.1e-07, epoch = 205\n",
      "model: 0, ROC:0.668363680914279, f1: 0.3337468982630273, lr: 5.1e-07, epoch = 206\n",
      "model: 0, ROC:0.6684303978330278, f1: 0.33312655086848636, lr: 5.1e-07, epoch = 207\n",
      "model: 0, ROC:0.6686572684463802, f1: 0.33312655086848636, lr: 5.1e-07, epoch = 208\n",
      "model: 0, ROC:0.66884984995518, f1: 0.33312655086848636, lr: 5.1e-07, epoch = 209\n",
      "model: 0, ROC:0.668963016408805, f1: 0.33312655086848636, lr: 5.1e-07, epoch = 210\n",
      "model: 0, ROC:0.6691037299596936, f1: 0.3337468982630273, lr: 5.1e-07, epoch = 211\n",
      "model: 0, ROC:0.6692508959838153, f1: 0.33436724565756826, lr: 5.1e-07, epoch = 212\n",
      "model: 0, ROC:0.6693818067388306, f1: 0.33436724565756826, lr: 5.1e-07, epoch = 213\n",
      "model: 0, ROC:0.6695073817948265, f1: 0.3337468982630273, lr: 5.1e-07, epoch = 214\n",
      "model: 0, ROC:0.6696712580701414, f1: 0.33436724565756826, lr: 5.1e-07, epoch = 215\n",
      "model: 0, ROC:0.6697706923371419, f1: 0.3349875930521092, lr: 5.1e-07, epoch = 216\n",
      "model: 0, ROC:0.6698470879657403, f1: 0.3356079404466501, lr: 5.1e-07, epoch = 217\n",
      "model: 0, ROC:0.6700469491879314, f1: 0.3356079404466501, lr: 5.1e-07, epoch = 218\n",
      "model: 0, ROC:0.6701886554270098, f1: 0.3356079404466501, lr: 5.1e-07, epoch = 219\n",
      "model: 0, ROC:0.6702219104813644, f1: 0.3356079404466501, lr: 5.1e-07, epoch = 220\n",
      "model: 0, ROC:0.6703248605190371, f1: 0.3356079404466501, lr: 5.1e-07, epoch = 221\n",
      "model: 0, ROC:0.6704032828860225, f1: 0.3356079404466501, lr: 5.1e-07, epoch = 222\n",
      "model: 0, ROC:0.6704930384431738, f1: 0.3362282878411911, lr: 5.1e-07, epoch = 223\n",
      "model: 0, ROC:0.6705691858997246, f1: 0.336848635235732, lr: 5.1e-07, epoch = 224\n",
      "model: 0, ROC:0.6707339721392133, f1: 0.336848635235732, lr: 5.1e-07, epoch = 225\n",
      "model: 0, ROC:0.6708570654747349, f1: 0.3380893300248139, lr: 5.1e-07, epoch = 226\n",
      "model: 0, ROC:0.6709658889175298, f1: 0.3387096774193548, lr: 5.1e-07, epoch = 227\n",
      "model: 0, ROC:0.6710658195286253, f1: 0.3387096774193548, lr: 5.1e-07, epoch = 228\n",
      "model: 0, ROC:0.6712634885643975, f1: 0.3393300248138958, lr: 5.1e-07, epoch = 229\n",
      "model: 0, ROC:0.671371153870971, f1: 0.3393300248138958, lr: 5.1e-07, epoch = 230\n",
      "model: 0, ROC:0.6715045463464607, f1: 0.3387096774193548, lr: 5.1e-07, epoch = 232\n",
      "model: 0, ROC:0.6716189536603225, f1: 0.3393300248138958, lr: 5.1e-07, epoch = 233\n",
      "model: 0, ROC:0.671780927283274, f1: 0.3393300248138958, lr: 5.1e-07, epoch = 234\n",
      "model: 0, ROC:0.6718872690055944, f1: 0.3399503722084367, lr: 5.1e-07, epoch = 235\n",
      "model: 0, ROC:0.6720436173954708, f1: 0.3399503722084367, lr: 5.1e-07, epoch = 236\n",
      "model: 0, ROC:0.672138088221523, f1: 0.3405707196029777, lr: 5.1e-07, epoch = 237\n",
      "model: 0, ROC:0.6722468289403021, f1: 0.3405707196029777, lr: 5.1e-07, epoch = 238\n",
      "model: 0, ROC:0.6723424992645836, f1: 0.3405707196029777, lr: 5.1e-07, epoch = 239\n",
      "model: 0, ROC:0.6724181917390474, f1: 0.3405707196029777, lr: 5.1e-07, epoch = 240\n",
      "model: 0, ROC:0.6725832675125915, f1: 0.3399503722084367, lr: 5.1e-07, epoch = 241\n",
      "model: 0, ROC:0.6727257596298198, f1: 0.3399503722084367, lr: 5.1e-07, epoch = 242\n",
      "model: 0, ROC:0.6728083181975959, f1: 0.3399503722084367, lr: 5.1e-07, epoch = 243\n",
      "model: 0, ROC:0.6729208228590942, f1: 0.3393300248138958, lr: 5.1e-07, epoch = 244\n",
      "model: 0, ROC:0.6730491278076118, f1: 0.3399503722084367, lr: 5.1e-07, epoch = 245\n",
      "model: 0, ROC:0.673153897773632, f1: 0.3399503722084367, lr: 5.1e-07, epoch = 246\n",
      "model: 0, ROC:0.6732674364853279, f1: 0.3405707196029777, lr: 5.1e-07, epoch = 247\n",
      "model: 0, ROC:0.6733320853036815, f1: 0.3411910669975186, lr: 5.1e-07, epoch = 248\n",
      "model: 0, ROC:0.6733673257344156, f1: 0.3411910669975186, lr: 5.1e-07, epoch = 249\n",
      "model: 0, ROC:0.6734398333342709, f1: 0.3411910669975186, lr: 5.1e-07, epoch = 250\n",
      "model: 0, ROC:0.6734990223675812, f1: 0.3405707196029777, lr: 5.1e-07, epoch = 251\n",
      "model: 0, ROC:0.6736172349861701, f1: 0.3405707196029777, lr: 5.1e-07, epoch = 252\n",
      "model: 0, ROC:0.6737791258851056, f1: 0.3405707196029777, lr: 5.1e-07, epoch = 253\n",
      "model: 0, ROC:0.6738742998652922, f1: 0.3405707196029777, lr: 5.1e-07, epoch = 254\n",
      "model: 0, ROC:0.6739571479671235, f1: 0.3405707196029777, lr: 5.1e-07, epoch = 255\n",
      "model: 0, ROC:0.6740130694018095, f1: 0.3411910669975186, lr: 5.1e-07, epoch = 256\n",
      "model: 0, ROC:0.6740936839552139, f1: 0.3411910669975186, lr: 5.1e-07, epoch = 257\n",
      "model: 0, ROC:0.6741483231676548, f1: 0.3411910669975186, lr: 5.1e-07, epoch = 258\n",
      "model: 0, ROC:0.6742326189397627, f1: 0.3411910669975186, lr: 5.1e-07, epoch = 259\n",
      "model: 0, ROC:0.6742534653917461, f1: 0.34181141439205953, lr: 5.1e-07, epoch = 260\n",
      "model: 0, ROC:0.6742851486898005, f1: 0.3424317617866005, lr: 5.1e-07, epoch = 261\n",
      "model: 0, ROC:0.6744184998032823, f1: 0.3424317617866005, lr: 5.1e-07, epoch = 262\n",
      "model: 0, ROC:0.6744784333527348, f1: 0.34181141439205953, lr: 5.1e-07, epoch = 263\n",
      "model: 0, ROC:0.6745747241071349, f1: 0.34181141439205953, lr: 5.1e-07, epoch = 264\n",
      "model: 0, ROC:0.6746433850402551, f1: 0.34181141439205953, lr: 5.1e-07, epoch = 265\n",
      "model: 0, ROC:0.6746955011702138, f1: 0.34181141439205953, lr: 5.1e-07, epoch = 266\n",
      "model: 0, ROC:0.6747066689123479, f1: 0.34181141439205953, lr: 5.1e-07, epoch = 267\n",
      "model: 0, ROC:0.6747674297019586, f1: 0.34181141439205953, lr: 5.1e-07, epoch = 268\n",
      "model: 0, ROC:0.6747902615303215, f1: 0.34181141439205953, lr: 5.1e-07, epoch = 269\n",
      "model: 0, ROC:0.6748791071232989, f1: 0.34181141439205953, lr: 5.1e-07, epoch = 270\n",
      "model: 0, ROC:0.6749366003142852, f1: 0.3424317617866005, lr: 5.1e-07, epoch = 271\n",
      "model: 0, ROC:0.6750311125023452, f1: 0.3424317617866005, lr: 5.1e-07, epoch = 272\n",
      "model: 0, ROC:0.6750635403165418, f1: 0.3424317617866005, lr: 5.1e-07, epoch = 273\n",
      "model: 0, ROC:0.6751111893496469, f1: 0.3424317617866005, lr: 5.1e-07, epoch = 274\n",
      "model: 0, ROC:0.6751831178813916, f1: 0.3424317617866005, lr: 5.1e-07, epoch = 275\n",
      "model: 0, ROC:0.6752642287788909, f1: 0.34305210918114143, lr: 5.1e-07, epoch = 276\n",
      "model: 0, ROC:0.6753754098561363, f1: 0.3424317617866005, lr: 5.1e-07, epoch = 277\n",
      "model: 0, ROC:0.675382855017559, f1: 0.3424317617866005, lr: 5.1e-07, epoch = 278\n",
      "model: 0, ROC:0.6754321998929882, f1: 0.3424317617866005, lr: 5.1e-07, epoch = 279\n",
      "model: 0, ROC:0.675492919320591, f1: 0.3424317617866005, lr: 5.1e-07, epoch = 280\n",
      "model: 0, ROC:0.6755955798242083, f1: 0.3424317617866005, lr: 5.1e-07, epoch = 281\n",
      "model: 0, ROC:0.6756109664911484, f1: 0.34181141439205953, lr: 5.1e-07, epoch = 282\n",
      "model: 0, ROC:0.6757117657044099, f1: 0.34181141439205953, lr: 5.1e-07, epoch = 283\n",
      "model: 0, ROC:0.675759869719602, f1: 0.34181141439205953, lr: 5.1e-07, epoch = 284\n",
      "model: 0, ROC:0.6758562431980177, f1: 0.34181141439205953, lr: 5.1e-07, epoch = 285\n",
      "model: 0, ROC:0.67586389516948, f1: 0.34181141439205953, lr: 5.1e-07, epoch = 286\n",
      "model: 0, ROC:0.6760089517311986, f1: 0.34181141439205953, lr: 5.1e-07, epoch = 287\n",
      "model: 0, ROC:0.6760697538828172, f1: 0.34181141439205953, lr: 5.1e-07, epoch = 288\n",
      "model: 0, ROC:0.6762115842079192, f1: 0.3424317617866005, lr: 5.1e-07, epoch = 289\n",
      "model: 0, ROC:0.676310977112912, f1: 0.3424317617866005, lr: 5.1e-07, epoch = 290\n",
      "model: 0, ROC:0.6763938665767512, f1: 0.34181141439205953, lr: 5.1e-07, epoch = 291\n",
      "model: 0, ROC:0.676433905000402, f1: 0.34181141439205953, lr: 5.1e-07, epoch = 292\n",
      "model: 0, ROC:0.6764612866496342, f1: 0.34181141439205953, lr: 5.1e-07, epoch = 293\n",
      "model: 0, ROC:0.6765312298049997, f1: 0.34181141439205953, lr: 5.1e-07, epoch = 294\n",
      "model: 0, ROC:0.6766060123152897, f1: 0.34181141439205953, lr: 5.1e-07, epoch = 295\n",
      "model: 0, ROC:0.6766723983379752, f1: 0.3424317617866005, lr: 5.1e-07, epoch = 296\n",
      "model: 0, ROC:0.6767453195579096, f1: 0.34181141439205953, lr: 5.1e-07, epoch = 297\n",
      "model: 0, ROC:0.6767858543256553, f1: 0.34181141439205953, lr: 5.1e-07, epoch = 298\n"
     ]
    },
    {
     "name": "stdout",
     "output_type": "stream",
     "text": [
      "model: 0, ROC:0.6768351164770687, f1: 0.34181141439205953, lr: 5.1e-07, epoch = 299\n",
      "model: 0, ROC:0.676903818772197, f1: 0.34181141439205953, lr: 5.1e-07, epoch = 300\n",
      "model: 0, ROC:0.6769371979125753, f1: 0.34181141439205953, lr: 5.1e-07, epoch = 301\n",
      "model: 0, ROC:0.6770647169829427, f1: 0.3411910669975186, lr: 5.1e-07, epoch = 302\n",
      "model: 0, ROC:0.67715534114226, f1: 0.3411910669975186, lr: 5.1e-07, epoch = 303\n",
      "model: 0, ROC:0.6771766425763301, f1: 0.34181141439205953, lr: 5.1e-07, epoch = 304\n",
      "model: 0, ROC:0.6772194522545107, f1: 0.3411910669975186, lr: 5.1e-07, epoch = 305\n",
      "model: 0, ROC:0.6772932007146031, f1: 0.3411910669975186, lr: 5.1e-07, epoch = 306\n",
      "model: 0, ROC:0.6774150118278798, f1: 0.3411910669975186, lr: 5.1e-07, epoch = 307\n",
      "model: 0, ROC:0.6775171346253942, f1: 0.3411910669975186, lr: 5.1e-07, epoch = 308\n",
      "model: 0, ROC:0.6775588688913692, f1: 0.3424317617866005, lr: 5.1e-07, epoch = 309\n",
      "model: 0, ROC:0.6776424201473349, f1: 0.3424317617866005, lr: 5.1e-07, epoch = 310\n",
      "model: 0, ROC:0.6777390004357902, f1: 0.3424317617866005, lr: 5.1e-07, epoch = 311\n",
      "model: 0, ROC:0.6778302863872337, f1: 0.3424317617866005, lr: 5.1e-07, epoch = 312\n",
      "model: 0, ROC:0.6778956797217297, f1: 0.3424317617866005, lr: 5.1e-07, epoch = 313\n",
      "model: 0, ROC:0.6779994569995602, f1: 0.3424317617866005, lr: 5.1e-07, epoch = 314\n",
      "model: 0, ROC:0.6780772175744193, f1: 0.3424317617866005, lr: 5.1e-07, epoch = 315\n",
      "model: 0, ROC:0.6780923560693122, f1: 0.3424317617866005, lr: 5.1e-07, epoch = 316\n",
      "model: 0, ROC:0.6782022962863203, f1: 0.3424317617866005, lr: 5.1e-07, epoch = 317\n",
      "model: 0, ROC:0.6782256244587782, f1: 0.3424317617866005, lr: 5.1e-07, epoch = 318\n",
      "model: 0, ROC:0.6782665314845949, f1: 0.3424317617866005, lr: 5.1e-07, epoch = 319\n",
      "model: 0, ROC:0.6783180271844352, f1: 0.3424317617866005, lr: 5.1e-07, epoch = 320\n",
      "model: 0, ROC:0.6783369296220472, f1: 0.3424317617866005, lr: 5.1e-07, epoch = 321\n",
      "model: 0, ROC:0.6784206876880525, f1: 0.3424317617866005, lr: 5.1e-07, epoch = 322\n",
      "model: 0, ROC:0.6784840542841609, f1: 0.34305210918114143, lr: 5.1e-07, epoch = 323\n",
      "model: 0, ROC:0.6785242581558435, f1: 0.34305210918114143, lr: 5.1e-07, epoch = 324\n",
      "model: 0, ROC:0.6786141377990184, f1: 0.34305210918114143, lr: 5.1e-07, epoch = 325\n",
      "model: 0, ROC:0.6786485096275864, f1: 0.34305210918114143, lr: 5.1e-07, epoch = 327\n",
      "model: 0, ROC:0.6786681565813407, f1: 0.3436724565756824, lr: 5.1e-07, epoch = 328\n",
      "model: 0, ROC:0.6788211960105848, f1: 0.34305210918114143, lr: 5.1e-07, epoch = 329\n",
      "model: 0, ROC:0.6788557332871843, f1: 0.34305210918114143, lr: 5.1e-07, epoch = 330\n",
      "model: 0, ROC:0.6788966816750092, f1: 0.34305210918114143, lr: 5.1e-07, epoch = 331\n",
      "model: 0, ROC:0.6789644740059635, f1: 0.34305210918114143, lr: 5.1e-07, epoch = 333\n",
      "model: 0, ROC:0.6789930137914171, f1: 0.3442928039702233, lr: 5.1e-07, epoch = 334\n",
      "model: 0, ROC:0.679087195083414, f1: 0.3442928039702233, lr: 5.1e-07, epoch = 335\n",
      "model: 0, ROC:0.6791923373075054, f1: 0.3442928039702233, lr: 5.1e-07, epoch = 337\n",
      "model: 0, ROC:0.6792348574516305, f1: 0.3436724565756824, lr: 5.1e-07, epoch = 338\n",
      "model: 0, ROC:0.6792360155878517, f1: 0.3436724565756824, lr: 5.1e-07, epoch = 339\n",
      "model: 0, ROC:0.6792795284201666, f1: 0.3436724565756824, lr: 5.1e-07, epoch = 340\n",
      "model: 0, ROC:0.6793566685649071, f1: 0.3436724565756824, lr: 5.1e-07, epoch = 342\n",
      "model: 0, ROC:0.6793683326511359, f1: 0.3442928039702233, lr: 5.1e-07, epoch = 343\n",
      "model: 0, ROC:0.6794872070618514, f1: 0.3442928039702233, lr: 5.1e-07, epoch = 344\n",
      "model: 0, ROC:0.679644672225941, f1: 0.34305210918114143, lr: 5.1e-07, epoch = 345\n",
      "model: 0, ROC:0.679741872944515, f1: 0.3436724565756824, lr: 5.1e-07, epoch = 346\n",
      "model: 0, ROC:0.6797947749526239, f1: 0.34305210918114143, lr: 5.1e-07, epoch = 347\n",
      "model: 0, ROC:0.6798489178209701, f1: 0.34305210918114143, lr: 5.1e-07, epoch = 348\n",
      "model: 0, ROC:0.679879442982803, f1: 0.3436724565756824, lr: 5.1e-07, epoch = 349\n",
      "model: 0, ROC:0.6799140629834184, f1: 0.34305210918114143, lr: 5.1e-07, epoch = 350\n",
      "model: 0, ROC:0.6800402998315408, f1: 0.34305210918114143, lr: 5.1e-07, epoch = 351\n",
      "model: 0, ROC:0.68008964470697, f1: 0.34305210918114143, lr: 5.1e-07, epoch = 352\n",
      "model: 0, ROC:0.6801337366073955, f1: 0.3436724565756824, lr: 5.1e-07, epoch = 353\n",
      "model: 0, ROC:0.6801637654251336, f1: 0.34305210918114143, lr: 5.1e-07, epoch = 354\n",
      "model: 0, ROC:0.6802351976127835, f1: 0.34305210918114143, lr: 5.1e-07, epoch = 355\n",
      "model: 0, ROC:0.6803390162526219, f1: 0.34305210918114143, lr: 5.1e-07, epoch = 356\n",
      "model: 0, ROC:0.6803835631351343, f1: 0.34305210918114143, lr: 5.1e-07, epoch = 358\n",
      "model: 0, ROC:0.6804214507343741, f1: 0.34305210918114143, lr: 5.1e-07, epoch = 359\n",
      "model: 0, ROC:0.680426703709378, f1: 0.34305210918114143, lr: 5.1e-07, epoch = 360\n",
      "model: 0, ROC:0.6805094277251855, f1: 0.34305210918114143, lr: 5.1e-07, epoch = 362\n",
      "model: 0, ROC:0.6806027817770244, f1: 0.3436724565756824, lr: 5.1e-07, epoch = 368\n",
      "model: 0, ROC:0.6806542361148568, f1: 0.3442928039702233, lr: 5.1e-07, epoch = 369\n",
      "model: 0, ROC:0.6807232693060481, f1: 0.3442928039702233, lr: 5.1e-07, epoch = 371\n",
      "model: 0, ROC:0.6807599160450508, f1: 0.3442928039702233, lr: 5.1e-07, epoch = 372\n",
      "model: 0, ROC:0.6808779632156082, f1: 0.3442928039702233, lr: 5.1e-07, epoch = 373\n",
      "model: 0, ROC:0.6809284662272588, f1: 0.3442928039702233, lr: 5.1e-07, epoch = 374\n",
      "model: 0, ROC:0.6809824022855653, f1: 0.3442928039702233, lr: 5.1e-07, epoch = 375\n",
      "model: 0, ROC:0.6809944386298653, f1: 0.3442928039702233, lr: 5.1e-07, epoch = 376\n",
      "model: 0, ROC:0.6810555303155392, f1: 0.3442928039702233, lr: 5.1e-07, epoch = 377\n",
      "model: 0, ROC:0.6811332081663825, f1: 0.3442928039702233, lr: 5.1e-07, epoch = 378\n",
      "model: 0, ROC:0.6811661736866819, f1: 0.3442928039702233, lr: 5.1e-07, epoch = 379\n",
      "model: 0, ROC:0.6812283407845612, f1: 0.3436724565756824, lr: 5.1e-07, epoch = 380\n",
      "model: 0, ROC:0.6812800846564488, f1: 0.3442928039702233, lr: 5.1e-07, epoch = 381\n",
      "model: 0, ROC:0.6813190063058863, f1: 0.3436724565756824, lr: 5.1e-07, epoch = 382\n",
      "model: 0, ROC:0.681383613762232, f1: 0.3436724565756824, lr: 5.1e-07, epoch = 383\n",
      "model: 0, ROC:0.681415007526231, f1: 0.3436724565756824, lr: 5.1e-07, epoch = 384\n",
      "model: 0, ROC:0.6814212945514324, f1: 0.3436724565756824, lr: 5.1e-07, epoch = 385\n",
      "model: 0, ROC:0.6815000064524732, f1: 0.3436724565756824, lr: 5.1e-07, epoch = 389\n",
      "model: 0, ROC:0.6815953458806914, f1: 0.3436724565756824, lr: 5.1e-07, epoch = 390\n",
      "model: 0, ROC:0.6816524254515987, f1: 0.3436724565756824, lr: 5.1e-07, epoch = 391\n",
      "model: 0, ROC:0.6817267529798018, f1: 0.3436724565756824, lr: 5.1e-07, epoch = 392\n",
      "model: 0, ROC:0.6817751465290492, f1: 0.3436724565756824, lr: 5.1e-07, epoch = 393\n",
      "model: 0, ROC:0.681833715132241, f1: 0.3436724565756824, lr: 5.1e-07, epoch = 394\n",
      "model: 0, ROC:0.6818588218710386, f1: 0.3436724565756824, lr: 5.1e-07, epoch = 395\n",
      "model: 0, ROC:0.681917969542341, f1: 0.3436724565756824, lr: 5.1e-07, epoch = 396\n",
      "model: 0, ROC:0.6819839005829397, f1: 0.3436724565756824, lr: 5.1e-07, epoch = 397\n",
      "model: 0, ROC:0.6819935792927891, f1: 0.3436724565756824, lr: 5.1e-07, epoch = 398\n",
      "model: 0, ROC:0.6819943651709393, f1: 0.3436724565756824, lr: 5.1e-07, epoch = 399\n",
      "model: 0, ROC:0.6820350240247086, f1: 0.3436724565756824, lr: 5.1e-07, epoch = 400\n",
      "model: 0, ROC:0.6820978942767224, f1: 0.3436724565756824, lr: 5.1e-07, epoch = 401\n",
      "model: 0, ROC:0.6821711877547278, f1: 0.3436724565756824, lr: 5.1e-07, epoch = 402\n",
      "model: 0, ROC:0.6821731317690994, f1: 0.3436724565756824, lr: 5.1e-07, epoch = 403\n",
      "model: 0, ROC:0.6822425785803697, f1: 0.3436724565756824, lr: 5.1e-07, epoch = 404\n",
      "model: 0, ROC:0.6822915925597359, f1: 0.3436724565756824, lr: 5.1e-07, epoch = 405\n",
      "model: 0, ROC:0.6823547937078128, f1: 0.3436724565756824, lr: 5.1e-07, epoch = 406\n",
      "model: 0, ROC:0.6824097638163169, f1: 0.3442928039702233, lr: 5.1e-07, epoch = 408\n",
      "model: 0, ROC:0.6824884343553499, f1: 0.3442928039702233, lr: 5.1e-07, epoch = 409\n",
      "model: 0, ROC:0.6825311199475066, f1: 0.3436724565756824, lr: 5.1e-07, epoch = 410\n",
      "model: 0, ROC:0.6825602801630788, f1: 0.3436724565756824, lr: 5.1e-07, epoch = 411\n",
      "model: 0, ROC:0.6826358071895111, f1: 0.3436724565756824, lr: 5.1e-07, epoch = 412\n",
      "model: 0, ROC:0.682679278659818, f1: 0.3436724565756824, lr: 5.1e-07, epoch = 414\n"
     ]
    },
    {
     "name": "stdout",
     "output_type": "stream",
     "text": [
      "model: 0, ROC:0.6827525721378235, f1: 0.3436724565756824, lr: 5.1e-07, epoch = 415\n",
      "model: 0, ROC:0.6828868745774871, f1: 0.34305210918114143, lr: 5.1e-07, epoch = 416\n",
      "model: 0, ROC:0.682923479954482, f1: 0.3436724565756824, lr: 5.1e-07, epoch = 417\n",
      "model: 0, ROC:0.6830449188096874, f1: 0.3436724565756824, lr: 5.1e-07, epoch = 418\n",
      "model: 0, ROC:0.6831112221083573, f1: 0.3436724565756824, lr: 5.1e-07, epoch = 419\n",
      "model: 0, ROC:0.6831261537932105, f1: 0.3436724565756824, lr: 5.1e-07, epoch = 420\n",
      "model: 0, ROC:0.683184805120418, f1: 0.3442928039702233, lr: 5.1e-07, epoch = 421\n",
      "model: 0, ROC:0.6832546655517675, f1: 0.34491315136476425, lr: 5.1e-07, epoch = 423\n",
      "model: 0, ROC:0.6833113315025957, f1: 0.34491315136476425, lr: 5.1e-07, epoch = 424\n",
      "model: 0, ROC:0.6833337083488716, f1: 0.34491315136476425, lr: 5.1e-07, epoch = 425\n",
      "model: 0, ROC:0.6833418153024209, f1: 0.34491315136476425, lr: 5.1e-07, epoch = 426\n",
      "model: 0, ROC:0.6834128752319995, f1: 0.34491315136476425, lr: 5.1e-07, epoch = 427\n",
      "model: 0, ROC:0.6834378578847734, f1: 0.34491315136476425, lr: 5.1e-07, epoch = 428\n",
      "model: 0, ROC:0.6834623855554602, f1: 0.34491315136476425, lr: 5.1e-07, epoch = 429\n",
      "model: 0, ROC:0.6835401874923274, f1: 0.34491315136476425, lr: 5.1e-07, epoch = 430\n",
      "model: 0, ROC:0.6835944130846892, f1: 0.34491315136476425, lr: 5.1e-07, epoch = 431\n",
      "model: 0, ROC:0.6836160454148229, f1: 0.34491315136476425, lr: 5.1e-07, epoch = 432\n",
      "model: 0, ROC:0.6836601786772563, f1: 0.34491315136476425, lr: 5.1e-07, epoch = 435\n",
      "model: 0, ROC:0.6837077036243377, f1: 0.34491315136476425, lr: 5.1e-07, epoch = 438\n",
      "model: 0, ROC:0.6838342713685233, f1: 0.3442928039702233, lr: 5.1e-07, epoch = 439\n",
      "model: 0, ROC:0.6839563720158552, f1: 0.34491315136476425, lr: 5.1e-07, epoch = 440\n",
      "model: 0, ROC:0.684010680332233, f1: 0.3442928039702233, lr: 5.1e-07, epoch = 441\n",
      "model: 0, ROC:0.6840234198306673, f1: 0.3442928039702233, lr: 5.1e-07, epoch = 443\n",
      "model: 0, ROC:0.6840597770356145, f1: 0.3442928039702233, lr: 5.1e-07, epoch = 444\n",
      "model: 0, ROC:0.6840605215517569, f1: 0.3442928039702233, lr: 5.1e-07, epoch = 445\n",
      "model: 0, ROC:0.6841097009791545, f1: 0.3442928039702233, lr: 5.1e-07, epoch = 446\n",
      "model: 0, ROC:0.6841728607652238, f1: 0.3436724565756824, lr: 5.1e-07, epoch = 447\n",
      "model: 0, ROC:0.6841920527368911, f1: 0.3436724565756824, lr: 5.1e-07, epoch = 448\n",
      "model: 0, ROC:0.6842329184006999, f1: 0.3436724565756824, lr: 5.1e-07, epoch = 451\n",
      "model: 0, ROC:0.6843015379718123, f1: 0.3436724565756824, lr: 5.1e-07, epoch = 452\n",
      "model: 0, ROC:0.6843759068620233, f1: 0.3436724565756824, lr: 5.1e-07, epoch = 455\n",
      "model: 0, ROC:0.6844365022036024, f1: 0.3436724565756824, lr: 5.1e-07, epoch = 456\n",
      "model: 0, ROC:0.6844469254295941, f1: 0.34305210918114143, lr: 5.1e-07, epoch = 459\n",
      "model: 0, ROC:0.6844695090859095, f1: 0.34305210918114143, lr: 5.1e-07, epoch = 460\n",
      "model: 0, ROC:0.6845027641402641, f1: 0.34305210918114143, lr: 5.1e-07, epoch = 461\n",
      "model: 0, ROC:0.6845110779038528, f1: 0.34305210918114143, lr: 5.1e-07, epoch = 462\n",
      "model: 0, ROC:0.6845489655030927, f1: 0.34305210918114143, lr: 5.1e-07, epoch = 463\n",
      "model: 0, ROC:0.6845667925284992, f1: 0.34305210918114143, lr: 5.1e-07, epoch = 464\n",
      "model: 0, ROC:0.6845976072243876, f1: 0.34305210918114143, lr: 5.1e-07, epoch = 465\n",
      "model: 0, ROC:0.6846220108090508, f1: 0.3442928039702233, lr: 5.1e-07, epoch = 467\n",
      "model: 0, ROC:0.6846308209167343, f1: 0.3442928039702233, lr: 5.1e-07, epoch = 468\n",
      "model: 0, ROC:0.6846484411321013, f1: 0.3442928039702233, lr: 5.1e-07, epoch = 469\n",
      "model: 0, ROC:0.6846531564010023, f1: 0.34491315136476425, lr: 5.1e-07, epoch = 477\n",
      "model: 0, ROC:0.6846897204159894, f1: 0.34491315136476425, lr: 5.1e-07, epoch = 484\n",
      "model: 0, ROC:0.6847142894486842, f1: 0.3442928039702233, lr: 5.1e-07, epoch = 485\n",
      "model: 0, ROC:0.6848035900237485, f1: 0.3442928039702233, lr: 5.1e-07, epoch = 486\n",
      "model: 0, ROC:0.6849352039328983, f1: 0.34491315136476425, lr: 5.1e-07, epoch = 487\n",
      "model: 0, ROC:0.6849949720343194, f1: 0.3442928039702233, lr: 5.1e-07, epoch = 488\n",
      "model: 0, ROC:0.6850746352615419, f1: 0.3442928039702233, lr: 5.1e-07, epoch = 489\n",
      "model: 0, ROC:0.6851429239365912, f1: 0.34491315136476425, lr: 5.1e-07, epoch = 490\n",
      "model: 0, ROC:0.6851987626472612, f1: 0.3455334987593052, lr: 5.1e-07, epoch = 491\n",
      "model: 0, ROC:0.6852365261604773, f1: 0.3455334987593052, lr: 5.1e-07, epoch = 492\n",
      "model: 0, ROC:0.6852828929713375, f1: 0.34491315136476425, lr: 5.1e-07, epoch = 494\n",
      "model: 0, ROC:0.685303739423321, f1: 0.3442928039702233, lr: 5.1e-07, epoch = 495\n",
      "model: 0, ROC:0.6853784805716031, f1: 0.3436724565756824, lr: 5.1e-07, epoch = 501\n",
      "model: 0, ROC:0.6854284458771509, f1: 0.3436724565756824, lr: 5.1e-07, epoch = 502\n",
      "model: 0, ROC:0.685562955126854, f1: 0.3436724565756824, lr: 5.1e-07, epoch = 504\n",
      "model: 0, ROC:0.6856228886763066, f1: 0.3436724565756824, lr: 5.1e-07, epoch = 505\n",
      "model: 0, ROC:0.6856955203621856, f1: 0.3442928039702233, lr: 5.1e-07, epoch = 506\n",
      "model: 0, ROC:0.6857857722634315, f1: 0.3442928039702233, lr: 5.1e-07, epoch = 507\n",
      "model: 0, ROC:0.6858176210095176, f1: 0.3442928039702233, lr: 5.1e-07, epoch = 509\n",
      "model: 0, ROC:0.6858555086087574, f1: 0.3436724565756824, lr: 5.1e-07, epoch = 510\n",
      "model: 0, ROC:0.6858615474619113, f1: 0.3442928039702233, lr: 5.1e-07, epoch = 511\n",
      "model: 0, ROC:0.6858996005091829, f1: 0.3442928039702233, lr: 5.1e-07, epoch = 512\n",
      "model: 0, ROC:0.6859338482517272, f1: 0.3442928039702233, lr: 5.1e-07, epoch = 513\n",
      "model: 0, ROC:0.6859931613710613, f1: 0.3436724565756824, lr: 5.1e-07, epoch = 514\n",
      "model: 0, ROC:0.6860258373573053, f1: 0.3442928039702233, lr: 5.1e-07, epoch = 515\n",
      "model: 0, ROC:0.686104590620354, f1: 0.34491315136476425, lr: 5.1e-07, epoch = 516\n",
      "model: 0, ROC:0.6861178678248911, f1: 0.3442928039702233, lr: 5.1e-07, epoch = 517\n",
      "model: 0, ROC:0.6861466971444, f1: 0.34491315136476425, lr: 5.1e-07, epoch = 518\n",
      "model: 0, ROC:0.6862699145659454, f1: 0.3442928039702233, lr: 5.1e-07, epoch = 519\n",
      "model: 0, ROC:0.6863787793707481, f1: 0.34491315136476425, lr: 5.1e-07, epoch = 520\n",
      "model: 0, ROC:0.6864286619522801, f1: 0.34491315136476425, lr: 5.1e-07, epoch = 521\n",
      "model: 0, ROC:0.6864563744975757, f1: 0.34491315136476425, lr: 5.1e-07, epoch = 522\n",
      "model: 0, ROC:0.6865051816669021, f1: 0.3442928039702233, lr: 5.1e-07, epoch = 524\n",
      "model: 0, ROC:0.6865430692661421, f1: 0.3442928039702233, lr: 5.1e-07, epoch = 525\n",
      "model: 0, ROC:0.6865829836037691, f1: 0.3442928039702233, lr: 5.1e-07, epoch = 526\n",
      "model: 0, ROC:0.6865939445358638, f1: 0.34491315136476425, lr: 5.1e-07, epoch = 527\n",
      "model: 0, ROC:0.6865972948585038, f1: 0.3442928039702233, lr: 5.1e-07, epoch = 528\n",
      "model: 0, ROC:0.6866285645364791, f1: 0.34491315136476425, lr: 5.1e-07, epoch = 529\n",
      "model: 0, ROC:0.6866373332821547, f1: 0.34491315136476425, lr: 5.1e-07, epoch = 530\n",
      "model: 0, ROC:0.6867441299865622, f1: 0.3455334987593052, lr: 5.1e-07, epoch = 531\n",
      "model: 0, ROC:0.6867509547178665, f1: 0.34491315136476425, lr: 5.1e-07, epoch = 532\n",
      "model: 0, ROC:0.6867797840373754, f1: 0.34491315136476425, lr: 5.1e-07, epoch = 533\n",
      "model: 0, ROC:0.686797073356679, f1: 0.3455334987593052, lr: 5.1e-07, epoch = 537\n",
      "model: 0, ROC:0.6868421165832863, f1: 0.3455334987593052, lr: 5.1e-07, epoch = 540\n",
      "model: 0, ROC:0.6868938190931662, f1: 0.34491315136476425, lr: 5.1e-07, epoch = 541\n",
      "model: 0, ROC:0.6869196703481059, f1: 0.34491315136476425, lr: 5.1e-07, epoch = 546\n",
      "model: 0, ROC:0.6870078127869489, f1: 0.34491315136476425, lr: 5.1e-07, epoch = 547\n",
      "model: 0, ROC:0.6870409437552798, f1: 0.3455334987593052, lr: 5.1e-07, epoch = 548\n",
      "model: 0, ROC:0.6870662986661249, f1: 0.34491315136476425, lr: 5.1e-07, epoch = 549\n",
      "model: 0, ROC:0.6871117555128111, f1: 0.3442928039702233, lr: 5.1e-07, epoch = 551\n",
      "model: 0, ROC:0.6872077153711479, f1: 0.34491315136476425, lr: 5.1e-07, epoch = 552\n",
      "model: 0, ROC:0.6872320775938032, f1: 0.34491315136476425, lr: 5.1e-07, epoch = 553\n",
      "model: 0, ROC:0.6872675248345766, f1: 0.34491315136476425, lr: 5.1e-07, epoch = 559\n",
      "model: 0, ROC:0.6873072737241723, f1: 0.34491315136476425, lr: 5.1e-07, epoch = 560\n",
      "model: 0, ROC:0.6873593484921232, f1: 0.34491315136476425, lr: 5.1e-07, epoch = 561\n",
      "model: 0, ROC:0.6873957056970706, f1: 0.3442928039702233, lr: 5.1e-07, epoch = 562\n",
      "model: 0, ROC:0.6874140704285799, f1: 0.3442928039702233, lr: 5.1e-07, epoch = 564\n"
     ]
    },
    {
     "name": "stdout",
     "output_type": "stream",
     "text": [
      "model: 0, ROC:0.6874757825443724, f1: 0.3442928039702233, lr: 5.1e-07, epoch = 566\n",
      "model: 0, ROC:0.6875242174556276, f1: 0.3442928039702233, lr: 5.1e-07, epoch = 567\n",
      "model: 0, ROC:0.6875484555922592, f1: 0.3442928039702233, lr: 5.1e-07, epoch = 572\n",
      "model: 0, ROC:0.6875668203237686, f1: 0.3442928039702233, lr: 5.1e-07, epoch = 574\n",
      "model: 0, ROC:0.687635439894881, f1: 0.3442928039702233, lr: 5.1e-07, epoch = 575\n",
      "model: 0, ROC:0.6877684601122995, f1: 0.3442928039702233, lr: 5.1e-07, epoch = 576\n",
      "model: 0, ROC:0.6877762775317933, f1: 0.3442928039702233, lr: 5.1e-07, epoch = 577\n",
      "model: 0, ROC:0.6878053963853576, f1: 0.3442928039702233, lr: 5.1e-07, epoch = 582\n",
      "model: 0, ROC:0.6878070922276817, f1: 0.3442928039702233, lr: 5.1e-07, epoch = 583\n",
      "model: 0, ROC:0.687846468859206, f1: 0.3436724565756824, lr: 5.1e-07, epoch = 584\n",
      "model: 0, ROC:0.6878838601143511, f1: 0.3436724565756824, lr: 5.1e-07, epoch = 585\n",
      "model: 0, ROC:0.6879351490041518, f1: 0.3436724565756824, lr: 5.1e-07, epoch = 589\n",
      "model: 0, ROC:0.6879412292193136, f1: 0.3436724565756824, lr: 5.1e-07, epoch = 590\n",
      "model: 0, ROC:0.6879599248468861, f1: 0.3436724565756824, lr: 5.1e-07, epoch = 593\n",
      "model: 0, ROC:0.6879872651341105, f1: 0.3436724565756824, lr: 5.1e-07, epoch = 594\n",
      "model: 0, ROC:0.6880045958154222, f1: 0.3436724565756824, lr: 5.1e-07, epoch = 597\n",
      "model: 0, ROC:0.6880587800457761, f1: 0.3436724565756824, lr: 5.1e-07, epoch = 598\n",
      "model: 0, ROC:0.688098446211356, f1: 0.3442928039702233, lr: 5.1e-07, epoch = 602\n",
      "model: 0, ROC:0.6881159009786914, f1: 0.3442928039702233, lr: 5.1e-07, epoch = 603\n",
      "model: 0, ROC:0.688162391875575, f1: 0.3442928039702233, lr: 5.1e-07, epoch = 604\n",
      "model: 0, ROC:0.6881961019120169, f1: 0.3442928039702233, lr: 5.1e-07, epoch = 605\n",
      "model: 0, ROC:0.6881986249944989, f1: 0.34491315136476425, lr: 5.1e-07, epoch = 606\n",
      "model: 0, ROC:0.6882594685081254, f1: 0.34491315136476425, lr: 5.1e-07, epoch = 668\n",
      "model: 0, ROC:0.6882746897270339, f1: 0.34491315136476425, lr: 5.1e-07, epoch = 672\n",
      "model: 0, ROC:0.6882835825587332, f1: 0.3455334987593052, lr: 5.1e-07, epoch = 676\n",
      "model: 0, ROC:0.6883529052839801, f1: 0.34491315136476425, lr: 5.1e-07, epoch = 677\n",
      "model: 0, ROC:0.6883910824172752, f1: 0.3455334987593052, lr: 5.1e-07, epoch = 679\n",
      "model: 0, ROC:0.6883934814137336, f1: 0.3455334987593052, lr: 5.1e-07, epoch = 680\n",
      "model: 0, ROC:0.6884246270056851, f1: 0.3455334987593052, lr: 5.1e-07, epoch = 683\n",
      "model: 0, ROC:0.688426405572025, f1: 0.3455334987593052, lr: 5.1e-07, epoch = 684\n",
      "model: 0, ROC:0.6884347606976216, f1: 0.34491315136476425, lr: 5.1e-07, epoch = 747\n",
      "model: 0, ROC:0.6884719037807191, f1: 0.34491315136476425, lr: 5.1e-07, epoch = 748\n",
      "model: 0, ROC:0.6884848087271851, f1: 0.3455334987593052, lr: 5.1e-07, epoch = 749\n",
      "model: 0, ROC:0.6885107840681487, f1: 0.3455334987593052, lr: 5.1e-07, epoch = 755\n",
      "model: 0, ROC:0.688565712814645, f1: 0.3455334987593052, lr: 5.1e-07, epoch = 756\n",
      "model: 0, ROC:0.6886153058621215, f1: 0.3455334987593052, lr: 5.1e-07, epoch = 757\n",
      "model: 0, ROC:0.6886375999843817, f1: 0.3455334987593052, lr: 5.1e-07, epoch = 760\n",
      "model: 0, ROC:0.6887103971182924, f1: 0.3455334987593052, lr: 5.1e-07, epoch = 765\n",
      "model: 0, ROC:0.6887180077277467, f1: 0.3455334987593052, lr: 5.1e-07, epoch = 785\n",
      "model: 0, ROC:0.6887214821364106, f1: 0.3467741935483871, lr: 5.1e-07, epoch = 813\n",
      "model: 0, ROC:0.6887279346096435, f1: 0.34615384615384615, lr: 5.1e-07, epoch = 820\n",
      "model: 0, ROC:0.68874063274607, f1: 0.34615384615384615, lr: 5.1e-07, epoch = 821\n",
      "model: 0, ROC:0.6887826565461003, f1: 0.34615384615384615, lr: 5.1e-07, epoch = 822\n",
      "model: 0, ROC:0.6888174419947474, f1: 0.34615384615384615, lr: 5.1e-07, epoch = 825\n",
      "model: 0, ROC:0.6888467676583512, f1: 0.34615384615384615, lr: 5.1e-07, epoch = 829\n",
      "model: 0, ROC:0.6888607893790305, f1: 0.34615384615384615, lr: 5.1e-07, epoch = 830\n",
      "model: 0, ROC:0.6888797745406583, f1: 0.3467741935483871, lr: 5.1e-07, epoch = 831\n",
      "model: 0, ROC:0.6889213847206096, f1: 0.3467741935483871, lr: 5.1e-07, epoch = 832\n",
      "model: 0, ROC:0.688929781208214, f1: 0.34615384615384615, lr: 5.1e-07, epoch = 836\n",
      "model: 0, ROC:0.6889820214241964, f1: 0.3467741935483871, lr: 5.1e-07, epoch = 837\n",
      "model: 0, ROC:0.6890037778403539, f1: 0.3467741935483871, lr: 5.1e-07, epoch = 838\n",
      "model: 0, ROC:0.689007624507089, f1: 0.3467741935483871, lr: 5.1e-07, epoch = 839\n",
      "model: 0, ROC:0.6890815797772208, f1: 0.34739454094292804, lr: 5.1e-07, epoch = 840\n",
      "model: 0, ROC:0.6891377080219465, f1: 0.34739454094292804, lr: 5.1e-07, epoch = 841\n",
      "model: 0, ROC:0.6891386593481281, f1: 0.3467741935483871, lr: 5.1e-07, epoch = 842\n",
      "model: 0, ROC:0.6891564036495188, f1: 0.3467741935483871, lr: 5.1e-07, epoch = 846\n",
      "model: 0, ROC:0.6891609121083804, f1: 0.3467741935483871, lr: 5.1e-07, epoch = 849\n",
      "model: 0, ROC:0.6891892037217866, f1: 0.3467741935483871, lr: 5.1e-07, epoch = 850\n",
      "model: 0, ROC:0.689219563435588, f1: 0.34801488833746896, lr: 5.1e-07, epoch = 857\n",
      "model: 0, ROC:0.6892202252277143, f1: 0.34739454094292804, lr: 5.1e-07, epoch = 861\n",
      "model: 0, ROC:0.6892779252287402, f1: 0.34739454094292804, lr: 5.1e-07, epoch = 866\n",
      "model: 0, ROC:0.6893119661612449, f1: 0.34739454094292804, lr: 5.1e-07, epoch = 869\n",
      "model: 0, ROC:0.689321438061055, f1: 0.34739454094292804, lr: 5.1e-07, epoch = 870\n",
      "model: 0, ROC:0.6894137580626962, f1: 0.34739454094292804, lr: 5.1e-07, epoch = 874\n",
      "model: 0, ROC:0.6894192178477394, f1: 0.34739454094292804, lr: 5.1e-07, epoch = 876\n",
      "model: 0, ROC:0.6894356385648773, f1: 0.34739454094292804, lr: 5.1e-07, epoch = 877\n",
      "model: 0, ROC:0.6894359694609405, f1: 0.34739454094292804, lr: 5.1e-07, epoch = 887\n",
      "model: 0, ROC:0.6894866792826306, f1: 0.34739454094292804, lr: 5.1e-07, epoch = 888\n",
      "model: 0, ROC:0.6895372236562889, f1: 0.34739454094292804, lr: 5.1e-07, epoch = 889\n",
      "model: 0, ROC:0.6895679556281614, f1: 0.3467741935483871, lr: 5.1e-07, epoch = 891\n",
      "model: 0, ROC:0.689601293406532, f1: 0.3467741935483871, lr: 5.1e-07, epoch = 893\n",
      "model: 0, ROC:0.6896105171342944, f1: 0.3467741935483871, lr: 5.1e-07, epoch = 894\n",
      "model: 0, ROC:0.6896905939815963, f1: 0.34615384615384615, lr: 5.1e-07, epoch = 895\n",
      "model: 0, ROC:0.6897365885343852, f1: 0.34615384615384615, lr: 5.1e-07, epoch = 897\n",
      "model: 0, ROC:0.6898043395033316, f1: 0.34615384615384615, lr: 5.1e-07, epoch = 898\n",
      "model: 0, ROC:0.689873869038618, f1: 0.34615384615384615, lr: 5.1e-07, epoch = 899\n",
      "model: 0, ROC:0.6899029051681662, f1: 0.34615384615384615, lr: 5.1e-07, epoch = 901\n",
      "model: 0, ROC:0.689941289111501, f1: 0.34615384615384615, lr: 5.1e-07, epoch = 902\n",
      "model: 0, ROC:0.6899459216563864, f1: 0.3467741935483871, lr: 5.1e-07, epoch = 903\n",
      "model: 0, ROC:0.6899940256715784, f1: 0.3467741935483871, lr: 5.1e-07, epoch = 904\n",
      "model: 0, ROC:0.6900329886830238, f1: 0.3467741935483871, lr: 5.1e-07, epoch = 905\n",
      "model: 0, ROC:0.6901070680391794, f1: 0.34615384615384615, lr: 5.1e-07, epoch = 906\n",
      "model: 0, ROC:0.6901425566419609, f1: 0.34615384615384615, lr: 5.1e-07, epoch = 907\n",
      "model: 0, ROC:0.69014553470653, f1: 0.34615384615384615, lr: 5.1e-07, epoch = 908\n",
      "model: 0, ROC:0.6901609213734702, f1: 0.34615384615384615, lr: 5.1e-07, epoch = 909\n",
      "model: 0, ROC:0.6901616245276045, f1: 0.3467741935483871, lr: 5.1e-07, epoch = 922\n",
      "model: 0, ROC:0.6902024074673976, f1: 0.3467741935483871, lr: 5.1e-07, epoch = 930\n",
      "model: 0, ROC:0.6902029038114924, f1: 0.34615384615384615, lr: 5.1e-07, epoch = 965\n",
      "model: 0, ROC:0.6902421563569932, f1: 0.3467741935483871, lr: 5.1e-07, epoch = 967\n",
      "model: 0, ROC:0.6902680489739409, f1: 0.34863523573200994, lr: 5.1e-07, epoch = 1031\n",
      "model: 0, ROC:0.6903254594409114, f1: 0.34925558312655086, lr: 5.1e-07, epoch = 1097\n",
      "model: 0, ROC:0.6903435346383653, f1: 0.34925558312655086, lr: 5.1e-07, epoch = 1098\n",
      "model: 0, ROC:0.6903671523448784, f1: 0.34925558312655086, lr: 5.1e-07, epoch = 1100\n",
      "model: 0, ROC:0.6903946167181265, f1: 0.34925558312655086, lr: 5.1e-07, epoch = 1101\n",
      "model: 0, ROC:0.6904253073279911, f1: 0.34925558312655086, lr: 5.1e-07, epoch = 1118\n",
      "model: 0, ROC:0.6904672070419976, f1: 0.34925558312655086, lr: 5.1e-07, epoch = 1119\n",
      "model: 0, ROC:0.6905400455379161, f1: 0.34801488833746896, lr: 5.1e-07, epoch = 1134\n",
      "model: 0, ROC:0.690543602670596, f1: 0.34801488833746896, lr: 5.1e-07, epoch = 1144\n",
      "model: 0, ROC:0.6906241758619925, f1: 0.34863523573200994, lr: 5.1e-07, epoch = 1145\n"
     ]
    },
    {
     "name": "stdout",
     "output_type": "stream",
     "text": [
      "model: 0, ROC:0.6906687641065129, f1: 0.34801488833746896, lr: 5.1e-07, epoch = 1147\n",
      "model: 0, ROC:0.6906694672606473, f1: 0.34739454094292804, lr: 5.1e-07, epoch = 1148\n",
      "model: 0, ROC:0.6906778637482516, f1: 0.34739454094292804, lr: 5.1e-07, epoch = 1149\n",
      "model: 0, ROC:0.6907337851829376, f1: 0.34739454094292804, lr: 5.1e-07, epoch = 1150\n",
      "model: 0, ROC:0.6907432984447553, f1: 0.34863523573200994, lr: 5.1e-07, epoch = 1237\n",
      "model: 0, ROC:0.6907573615274427, f1: 0.34863523573200994, lr: 5.1e-07, epoch = 1240\n",
      "model: 0, ROC:0.690869452568862, f1: 0.34863523573200994, lr: 5.1e-07, epoch = 1242\n",
      "model: 0, ROC:0.6908790899167035, f1: 0.34863523573200994, lr: 5.1e-07, epoch = 1243\n",
      "model: 0, ROC:0.6909413397385988, f1: 0.34863523573200994, lr: 5.1e-07, epoch = 1268\n",
      "model: 0, ROC:0.690951101172464, f1: 0.34863523573200994, lr: 5.1e-07, epoch = 1276\n",
      "model: 0, ROC:0.6909786482697279, f1: 0.34863523573200994, lr: 5.1e-07, epoch = 1277\n",
      "model: 0, ROC:0.6910033413884465, f1: 0.34863523573200994, lr: 5.1e-07, epoch = 1278\n",
      "model: 0, ROC:0.6910412703496942, f1: 0.34863523573200994, lr: 5.1e-07, epoch = 1279\n",
      "model: 0, ROC:0.6911280064802685, f1: 0.34863523573200994, lr: 5.1e-07, epoch = 1281\n",
      "model: 0, ROC:0.6912254140088818, f1: 0.34925558312655086, lr: 5.1e-07, epoch = 1282\n",
      "model: 0, ROC:0.6912887392429826, f1: 0.34925558312655086, lr: 5.1e-07, epoch = 1283\n",
      "model: 0, ROC:0.6913407312869176, f1: 0.35049627791563276, lr: 5.1e-07, epoch = 1284\n",
      "model: 0, ROC:0.691343626627471, f1: 0.34987593052109184, lr: 5.1e-07, epoch = 1315\n",
      "model: 0, ROC:0.6913755580975727, f1: 0.34987593052109184, lr: 5.1e-07, epoch = 1317\n",
      "model: 0, ROC:0.6914315622562743, f1: 0.35049627791563276, lr: 5.1e-07, epoch = 1319\n",
      "model: 0, ROC:0.6915022912897898, f1: 0.35049627791563276, lr: 5.1e-07, epoch = 1321\n",
      "model: 0, ROC:0.6915280598207139, f1: 0.35049627791563276, lr: 5.1e-07, epoch = 1323\n",
      "model: 0, ROC:0.6915453491400176, f1: 0.35049627791563276, lr: 5.1e-07, epoch = 1324\n",
      "model: 0, ROC:0.6915530838354957, f1: 0.35049627791563276, lr: 5.1e-07, epoch = 1325\n",
      "model: 0, ROC:0.6915767842660245, f1: 0.35049627791563276, lr: 5.1e-07, epoch = 1327\n",
      "model: 0, ROC:0.6916573160954131, f1: 0.35049627791563276, lr: 5.1e-07, epoch = 1328\n",
      "model: 0, ROC:0.6917173323688816, f1: 0.35049627791563276, lr: 5.1e-07, epoch = 1334\n",
      "model: 0, ROC:0.6917238262041224, f1: 0.35049627791563276, lr: 5.1e-07, epoch = 1335\n",
      "model: 0, ROC:0.6918236740912023, f1: 0.35049627791563276, lr: 5.1e-07, epoch = 1336\n",
      "model: 0, ROC:0.6918843107947892, f1: 0.35049627791563276, lr: 5.1e-07, epoch = 1337\n",
      "model: 0, ROC:0.6919556602584231, f1: 0.35049627791563276, lr: 5.1e-07, epoch = 1338\n",
      "model: 0, ROC:0.6920016961732202, f1: 0.35049627791563276, lr: 5.1e-07, epoch = 1358\n",
      "model: 0, ROC:0.6920231630553222, f1: 0.35173697270471466, lr: 5.1e-07, epoch = 1473\n",
      "model: 0, ROC:0.6920400387545469, f1: 0.35173697270471466, lr: 5.1e-07, epoch = 1474\n",
      "model: 0, ROC:0.692063242840981, f1: 0.35173697270471466, lr: 5.1e-07, epoch = 1475\n",
      "model: 0, ROC:0.6920896731640316, f1: 0.35173697270471466, lr: 5.1e-07, epoch = 1476\n",
      "model: 0, ROC:0.6921479935951758, f1: 0.35173697270471466, lr: 5.1e-07, epoch = 1477\n",
      "0.6921479935951758 1477 5.1e-07\n"
     ]
    },
    {
     "data": {
      "image/png": "[encoded data removed]",
      "text/plain": [
       "<Figure size 432x288 with 1 Axes>"
      ]
     },
     "metadata": {
      "needs_background": "light"
     },
     "output_type": "display_data"
    },
    {
     "name": "stdout",
     "output_type": "stream",
     "text": [
      "model: 0, ROC:0.6922050318040751, f1: 0.3523573200992556, lr: 5.1e-06, epoch = 2\n",
      "model: 0, ROC:0.6930453423566483, f1: 0.35173697270471466, lr: 5.1e-06, epoch = 3\n",
      "model: 0, ROC:0.6932431768404521, f1: 0.3529776674937965, lr: 5.1e-06, epoch = 13\n",
      "model: 0, ROC:0.6933097696731773, f1: 0.3542183622828784, lr: 5.1e-06, epoch = 84\n",
      "model: 0, ROC:0.6933347523259511, f1: 0.3535980148883375, lr: 5.1e-06, epoch = 85\n",
      "model: 0, ROC:0.6933825254450801, f1: 0.3542183622828784, lr: 5.1e-06, epoch = 86\n",
      "model: 0, ROC:0.693781916993399, f1: 0.3542183622828784, lr: 5.1e-06, epoch = 87\n",
      "model: 0, ROC:0.6938103740548368, f1: 0.3535980148883375, lr: 5.1e-06, epoch = 88\n",
      "model: 0, ROC:0.6941129785046609, f1: 0.3535980148883375, lr: 5.1e-06, epoch = 89\n",
      "model: 0, ROC:0.6944764264681114, f1: 0.3542183622828784, lr: 5.1e-06, epoch = 93\n",
      "model: 0, ROC:0.6944945430275733, f1: 0.35483870967741943, lr: 5.1e-06, epoch = 94\n",
      "model: 0, ROC:0.694888019808762, f1: 0.3529776674937965, lr: 5.1e-06, epoch = 95\n",
      "model: 0, ROC:0.6949595347204276, f1: 0.3542183622828784, lr: 5.1e-06, epoch = 98\n",
      "model: 0, ROC:0.6951919478428389, f1: 0.3560794044665012, lr: 5.1e-06, epoch = 106\n",
      "model: 0, ROC:0.6952126288467908, f1: 0.3566997518610422, lr: 5.1e-06, epoch = 109\n",
      "model: 0, ROC:0.6953071410348508, f1: 0.3560794044665012, lr: 5.1e-06, epoch = 126\n",
      "model: 0, ROC:0.6957243596085765, f1: 0.3560794044665012, lr: 5.1e-06, epoch = 127\n",
      "model: 0, ROC:0.6957395808274851, f1: 0.3566997518610422, lr: 5.1e-06, epoch = 131\n",
      "model: 0, ROC:0.6960698150985888, f1: 0.3535980148883375, lr: 5.1e-06, epoch = 176\n",
      "model: 0, ROC:0.6961631691504276, f1: 0.34987593052109184, lr: 5.1e-06, epoch = 211\n",
      "model: 0, ROC:0.6961926189000551, f1: 0.35049627791563276, lr: 5.1e-06, epoch = 212\n",
      "model: 0, ROC:0.6962049034164026, f1: 0.3523573200992556, lr: 5.1e-06, epoch = 225\n",
      "model: 0, ROC:0.6962833257833881, f1: 0.3523573200992556, lr: 5.1e-06, epoch = 226\n",
      "model: 0, ROC:0.696365512093093, f1: 0.35049627791563276, lr: 5.1e-06, epoch = 234\n",
      "model: 0, ROC:0.6965434928131029, f1: 0.3511166253101737, lr: 5.1e-06, epoch = 235\n",
      "model: 0, ROC:0.696662946291929, f1: 0.35049627791563276, lr: 5.1e-06, epoch = 236\n",
      "model: 0, ROC:0.6966855299482445, f1: 0.3511166253101737, lr: 5.1e-06, epoch = 237\n",
      "model: 0, ROC:0.6967183300205122, f1: 0.35049627791563276, lr: 5.1e-06, epoch = 239\n",
      "model: 0, ROC:0.6968749679444439, f1: 0.3511166253101737, lr: 5.1e-06, epoch = 240\n",
      "model: 0, ROC:0.6971348454401034, f1: 0.34863523573200994, lr: 5.1e-06, epoch = 272\n",
      "model: 0, ROC:0.697146178630269, f1: 0.34925558312655086, lr: 5.1e-06, epoch = 275\n",
      "model: 0, ROC:0.6971660737560708, f1: 0.3511166253101737, lr: 5.1e-06, epoch = 282\n",
      "model: 0, ROC:0.6972372991336812, f1: 0.35049627791563276, lr: 5.1e-06, epoch = 283\n",
      "model: 0, ROC:0.6972853617868653, f1: 0.3511166253101737, lr: 5.1e-06, epoch = 284\n",
      "model: 0, ROC:0.6973720565554314, f1: 0.35049627791563276, lr: 5.1e-06, epoch = 285\n",
      "model: 0, ROC:0.6975770880286105, f1: 0.3511166253101737, lr: 5.1e-06, epoch = 287\n",
      "model: 0, ROC:0.697770331329537, f1: 0.3511166253101737, lr: 5.1e-06, epoch = 290\n",
      "model: 0, ROC:0.6980152357783355, f1: 0.3511166253101737, lr: 5.1e-06, epoch = 291\n",
      "model: 0, ROC:0.6980296297570859, f1: 0.35173697270471466, lr: 5.1e-06, epoch = 292\n",
      "model: 0, ROC:0.6983375699059295, f1: 0.35049627791563276, lr: 5.1e-06, epoch = 308\n",
      "model: 0, ROC:0.6983638347809484, f1: 0.3523573200992556, lr: 5.1e-06, epoch = 328\n",
      "model: 0, ROC:0.6983772360715093, f1: 0.34863523573200994, lr: 5.1e-06, epoch = 416\n",
      "model: 0, ROC:0.6985175360023189, f1: 0.34801488833746896, lr: 5.1e-06, epoch = 417\n",
      "model: 0, ROC:0.6985837565769728, f1: 0.34925558312655086, lr: 5.1e-06, epoch = 418\n",
      "model: 0, ROC:0.6985932284767828, f1: 0.34739454094292804, lr: 5.1e-06, epoch = 466\n",
      "model: 0, ROC:0.6986322328502362, f1: 0.34801488833746896, lr: 5.1e-06, epoch = 469\n",
      "model: 0, ROC:0.6986475367931606, f1: 0.34863523573200994, lr: 5.1e-06, epoch = 471\n",
      "model: 0, ROC:0.69868819564693, f1: 0.34863523573200994, lr: 5.1e-06, epoch = 472\n",
      "model: 0, ROC:0.69876041371273, f1: 0.34863523573200994, lr: 5.1e-06, epoch = 479\n",
      "model: 0, ROC:0.6987627299851725, f1: 0.34863523573200994, lr: 5.1e-06, epoch = 484\n",
      "model: 0, ROC:0.6988032647529183, f1: 0.35049627791563276, lr: 5.1e-06, epoch = 488\n",
      "model: 0, ROC:0.6988601788757938, f1: 0.34739454094292804, lr: 5.1e-06, epoch = 528\n",
      "model: 0, ROC:0.698908696511065, f1: 0.34925558312655086, lr: 5.1e-06, epoch = 537\n",
      "model: 0, ROC:0.6989473699884551, f1: 0.34801488833746896, lr: 5.1e-06, epoch = 541\n",
      "model: 0, ROC:0.6990559452592024, f1: 0.34801488833746896, lr: 5.1e-06, epoch = 544\n",
      "model: 0, ROC:0.6990820446861897, f1: 0.34863523573200994, lr: 5.1e-06, epoch = 545\n",
      "model: 0, ROC:0.699094411926553, f1: 0.34739454094292804, lr: 5.1e-06, epoch = 547\n",
      "model: 0, ROC:0.6991285769450816, f1: 0.3442928039702233, lr: 5.1e-06, epoch = 568\n",
      "model: 0, ROC:0.6992274321439715, f1: 0.3467741935483871, lr: 5.1e-06, epoch = 597\n",
      "model: 0, ROC:0.6992631689188004, f1: 0.3455334987593052, lr: 5.1e-06, epoch = 599\n",
      "model: 0, ROC:0.6992966721452024, f1: 0.34801488833746896, lr: 5.1e-06, epoch = 611\n",
      "model: 0, ROC:0.6994260525059255, f1: 0.34863523573200994, lr: 5.1e-06, epoch = 612\n",
      "model: 0, ROC:0.6994493806783832, f1: 0.34987593052109184, lr: 5.1e-06, epoch = 653\n",
      "model: 0, ROC:0.6994507042626363, f1: 0.34863523573200994, lr: 5.1e-06, epoch = 655\n",
      "model: 0, ROC:0.6994734947289912, f1: 0.34863523573200994, lr: 5.1e-06, epoch = 657\n",
      "model: 0, ROC:0.6996873363098537, f1: 0.34739454094292804, lr: 5.1e-06, epoch = 658\n",
      "model: 0, ROC:0.6998569205422592, f1: 0.3467741935483871, lr: 5.1e-06, epoch = 659\n",
      "model: 0, ROC:0.7000169501508389, f1: 0.34739454094292804, lr: 5.1e-06, epoch = 660\n",
      "model: 0, ROC:0.7001826877165094, f1: 0.34739454094292804, lr: 5.1e-06, epoch = 661\n",
      "model: 0, ROC:0.7001881475015527, f1: 0.34801488833746896, lr: 5.1e-06, epoch = 662\n",
      "model: 0, ROC:0.7002079599033387, f1: 0.34739454094292804, lr: 5.1e-06, epoch = 832\n",
      "model: 0, ROC:0.700410261483996, f1: 0.34801488833746896, lr: 5.1e-06, epoch = 833\n",
      "model: 0, ROC:0.7005786875801803, f1: 0.34615384615384615, lr: 5.1e-06, epoch = 834\n",
      "model: 0, ROC:0.700596886863658, f1: 0.34181141439205953, lr: 5.1e-06, epoch = 978\n",
      "model: 0, ROC:0.700657068585158, f1: 0.34305210918114143, lr: 5.1e-06, epoch = 996\n",
      "model: 0, ROC:0.7007014086576309, f1: 0.3399503722084367, lr: 5.1e-06, epoch = 1050\n",
      "model: 0, ROC:0.7008107284445204, f1: 0.3405707196029777, lr: 5.1e-06, epoch = 1052\n",
      "model: 0, ROC:0.7008236747529943, f1: 0.34305210918114143, lr: 5.1e-06, epoch = 1053\n",
      "model: 0, ROC:0.700856061205183, f1: 0.34305210918114143, lr: 5.1e-06, epoch = 1055\n",
      "model: 0, ROC:0.7008879513132769, f1: 0.3399503722084367, lr: 5.1e-06, epoch = 1107\n",
      "0.7008879513132769 1107 5.1e-06\n"
     ]
    },
    {
     "data": {
      "image/png": "[encoded data removed]",
      "text/plain": [
       "<Figure size 432x288 with 1 Axes>"
      ]
     },
     "metadata": {
      "needs_background": "light"
     },
     "output_type": "display_data"
    },
    {
     "name": "stdout",
     "output_type": "stream",
     "text": [
      "0.6989845544335606 1495 5.1e-08\n"
     ]
    },
    {
     "data": {
      "image/png": "[encoded data removed]",
      "text/plain": [
       "<Figure size 432x288 with 1 Axes>"
      ]
     },
     "metadata": {
      "needs_background": "light"
     },
     "output_type": "display_data"
    },
    {
     "name": "stdout",
     "output_type": "stream",
     "text": [
      "0.6693404860929347 1499 5.1e-07\n"
     ]
    },
    {
     "data": {
      "image/png": "[encoded data removed]",
      "text/plain": [
       "<Figure size 432x288 with 1 Axes>"
      ]
     },
     "metadata": {
      "needs_background": "light"
     },
     "output_type": "display_data"
    },
    {
     "name": "stdout",
     "output_type": "stream",
     "text": [
      "0.6953613666272128 1348 5.1e-06\n"
     ]
    },
    {
     "data": {
      "image/png": "[encoded data removed]",
      "text/plain": [
       "<Figure size 432x288 with 1 Axes>"
      ]
     },
     "metadata": {
      "needs_background": "light"
     },
     "output_type": "display_data"
    },
    {
     "name": "stdout",
     "output_type": "stream",
     "text": [
      "0.695066414148851 1487 5.1e-08\n"
     ]
    },
    {
     "data": {
      "image/png": "[encoded data removed]",
      "text/plain": [
       "<Figure size 432x288 with 1 Axes>"
      ]
     },
     "metadata": {
      "needs_background": "light"
     },
     "output_type": "display_data"
    },
    {
     "name": "stdout",
     "output_type": "stream",
     "text": [
      "0.6949491114944357 1440 5.1e-07\n"
     ]
    },
    {
     "data": {
      "image/png": "[encoded data removed]",
      "text/plain": [
       "<Figure size 432x288 with 1 Axes>"
      ]
     },
     "metadata": {
      "needs_background": "light"
     },
     "output_type": "display_data"
    },
    {
     "name": "stdout",
     "output_type": "stream",
     "text": [
      "0.6998943117974042 557 5.1e-06\n"
     ]
    },
    {
     "data": {
      "image/png": "[encoded data removed]",
      "text/plain": [
       "<Figure size 432x288 with 1 Axes>"
      ]
     },
     "metadata": {
      "needs_background": "light"
     },
     "output_type": "display_data"
    }
   ],
   "source": [
    "n_epochs = 1500\n",
    "hists = train(models, x, y, Y1_train, X_val, Y_val, Y1_val, n_epochs, 0.0000051)"
   ]
  },
  {
   "cell_type": "markdown",
   "id": "2b3768ab",
   "metadata": {},
   "source": [
    "# Neighbor function"
   ]
  },
  {
   "cell_type": "code",
   "execution_count": 12,
   "id": "6d5a0659",
   "metadata": {},
   "outputs": [],
   "source": [
    "def neighbor_part(model, X, idxs, w):\n",
    "    preds = model(torch.from_numpy(X).float())\n",
    "    preds = pd.DataFrame(np.array(preds.detach())).set_index(idxs)\n",
    "    \n",
    "    neighbors = [w.neighbors[x] for x in idxs]\n",
    "    transitions = [preds.loc[x].values for x in neighbors]\n",
    "\n",
    "\n",
    "\n",
    "    n_function = np.zeros((len(preds), w.max_neighbors + 1))\n",
    "    for i, (t, idx) in enumerate(zip(transitions, idxs)):\n",
    "        n_function[i, 1:len(t) + 1] = t.squeeze()\n",
    "        n_function[i, 0] = preds.loc[idx]\n",
    "        \n",
    "    return n_function"
   ]
  },
  {
   "cell_type": "code",
   "execution_count": 13,
   "id": "169162ae",
   "metadata": {},
   "outputs": [
    {
     "ename": "NameError",
     "evalue": "name 'models' is not defined",
     "output_type": "error",
     "traceback": [
      "\u001b[1;31m---------------------------------------------------------------------------\u001b[0m",
      "\u001b[1;31mNameError\u001b[0m                                 Traceback (most recent call last)",
      "\u001b[1;32mC:\\Users\\GEBRUI~1\\AppData\\Local\\Temp/ipykernel_11852/3603479309.py\u001b[0m in \u001b[0;36m<module>\u001b[1;34m\u001b[0m\n\u001b[0;32m      2\u001b[0m \u001b[0mw16\u001b[0m \u001b[1;33m=\u001b[0m \u001b[0mlibpysal\u001b[0m\u001b[1;33m.\u001b[0m\u001b[0mweights\u001b[0m\u001b[1;33m.\u001b[0m\u001b[0mDistanceBand\u001b[0m\u001b[1;33m.\u001b[0m\u001b[0mfrom_dataframe\u001b[0m\u001b[1;33m(\u001b[0m\u001b[0mdf16\u001b[0m\u001b[1;33m,\u001b[0m \u001b[0mthreshold\u001b[0m\u001b[1;33m=\u001b[0m\u001b[1;36m150\u001b[0m\u001b[1;33m,\u001b[0m \u001b[0mbinary\u001b[0m \u001b[1;33m=\u001b[0m \u001b[1;32mTrue\u001b[0m\u001b[1;33m,\u001b[0m \u001b[0msilence_warnings\u001b[0m \u001b[1;33m=\u001b[0m \u001b[1;32mTrue\u001b[0m\u001b[1;33m)\u001b[0m\u001b[1;33m\u001b[0m\u001b[1;33m\u001b[0m\u001b[0m\n\u001b[0;32m      3\u001b[0m \u001b[1;33m\u001b[0m\u001b[0m\n\u001b[1;32m----> 4\u001b[1;33m \u001b[1;32mfor\u001b[0m \u001b[0mmod\u001b[0m \u001b[1;32min\u001b[0m \u001b[0mmodels\u001b[0m\u001b[1;33m:\u001b[0m\u001b[1;33m\u001b[0m\u001b[1;33m\u001b[0m\u001b[0m\n\u001b[0m\u001b[0;32m      5\u001b[0m     \u001b[0mhists\u001b[0m \u001b[1;33m=\u001b[0m \u001b[0mtrain_model\u001b[0m\u001b[1;33m(\u001b[0m\u001b[0mmod\u001b[0m\u001b[1;33m,\u001b[0m \u001b[0mx_train\u001b[0m\u001b[1;33m,\u001b[0m \u001b[0my_train\u001b[0m\u001b[1;33m,\u001b[0m \u001b[0mX_val\u001b[0m\u001b[1;33m,\u001b[0m \u001b[0mY_val\u001b[0m\u001b[1;33m,\u001b[0m \u001b[1;36m250\u001b[0m\u001b[1;33m)\u001b[0m\u001b[1;33m\u001b[0m\u001b[1;33m\u001b[0m\u001b[0m\n\u001b[0;32m      6\u001b[0m     \u001b[0mn_function\u001b[0m \u001b[1;33m=\u001b[0m \u001b[0mneighbor_part\u001b[0m\u001b[1;33m(\u001b[0m\u001b[0mmod\u001b[0m\u001b[1;33m,\u001b[0m \u001b[0mX_train\u001b[0m\u001b[1;33m,\u001b[0m \u001b[0mdf15\u001b[0m\u001b[1;33m.\u001b[0m\u001b[0mindex\u001b[0m\u001b[1;33m,\u001b[0m \u001b[0mw15\u001b[0m\u001b[1;33m)\u001b[0m\u001b[1;33m\u001b[0m\u001b[1;33m\u001b[0m\u001b[0m\n",
      "\u001b[1;31mNameError\u001b[0m: name 'models' is not defined"
     ]
    }
   ],
   "source": [
    "w15 = libpysal.weights.DistanceBand.from_dataframe(df15, threshold=150, binary = True, silence_warnings = True)\n",
    "w16 = libpysal.weights.DistanceBand.from_dataframe(df16, threshold=150, binary = True, silence_warnings = True)\n",
    "\n",
    "for mod in models:\n",
    "    hists = train_model(mod, x_train, y_train, X_val, Y_val, 250)\n",
    "    n_function = neighbor_part(mod, X_train, df15.index, w15)\n",
    "        \n",
    "    oversample = SMOTE()\n",
    "    x, y = oversample.fit_resample(n_function, Y_train)\n",
    "\n",
    "    clf_bagger = RandomForestClassifier(max_depth = 12, oob_score = True)\n",
    "    clf_bagger.fit(x,y)\n",
    "    \n",
    "    n_function = neighbor_part(mod, X_val, df16.index, w16)\n",
    "    preds = clf_bagger.predict(n_function)\n",
    "    totacc = accuracy_score(Y_val, preds)\n",
    "    totf1 = f1_score(Y_val, preds)\n",
    "    totROC = roc_auc_score(Y_val, preds)\n",
    "    \n",
    "    \n",
    "    with open(\"../results/mlp/\" + mod.name + \".csv\", \"a+\") as f:\n",
    "        f.write(\"loss;acc;ROC;f1_score\\n\")\n",
    "        f.write(str(hists[2]) + \";\" + str(hists[0]) + \";\" + str(hists[1]) + \";\" + str(hists[3]) + \"\\n\")\n",
    "        f.write(\"--;\" + str(totacc) + \";\" + str(totROC) + \";\"  + str(totf1))\n",
    "    \n",
    "    \n",
    "    "
   ]
  },
  {
   "cell_type": "code",
   "execution_count": 246,
   "id": "70a9340f",
   "metadata": {},
   "outputs": [],
   "source": [
    "neighbor_part(model, X_train, df15.index, w15)"
   ]
  },
  {
   "cell_type": "code",
   "execution_count": 24,
   "id": "7d29f533",
   "metadata": {},
   "outputs": [
    {
     "data": {
      "text/plain": [
       "array([[-0.20477431, -0.06709367, -0.24659556, ...,  0.46299088,\n",
       "         0.45272231,  0.69077765],\n",
       "       [-0.20477431, -0.06709367, -0.24659556, ...,  0.2866995 ,\n",
       "         0.16036807, -0.03776353],\n",
       "       [-0.20477431, -0.06709367,  1.24801218, ...,  0.80675908,\n",
       "         0.81004415,  0.84689361],\n",
       "       ...,\n",
       "       [-0.20477431, -0.06709367, -0.24659556, ...,  0.68335511,\n",
       "         0.79380225,  0.11835244],\n",
       "       [-0.20477431, -0.06709367, -0.24659556, ...,  1.49870277,\n",
       "         1.28105931,  0.48262303],\n",
       "       [-0.20477431, -0.06709367, -0.24659556, ...,  1.30037496,\n",
       "         1.24857551,  0.11835244]])"
      ]
     },
     "execution_count": 24,
     "metadata": {},
     "output_type": "execute_result"
    }
   ],
   "source": [
    "X_val"
   ]
  },
  {
   "cell_type": "code",
   "execution_count": 281,
   "id": "619ce77a",
   "metadata": {},
   "outputs": [
    {
     "data": {
      "text/plain": [
       "([0.7477, 0.7461],\n",
       " [0.4551122194513716, 0.45591939546599497],\n",
       " [0.1489188086495308, 0.14661806399351965],\n",
       " [0.23744001984596252, 0.2417915314435959])"
      ]
     },
     "execution_count": 281,
     "metadata": {},
     "output_type": "execute_result"
    }
   ],
   "source": [
    "hists"
   ]
  },
  {
   "cell_type": "code",
   "execution_count": 257,
   "id": "6c189037",
   "metadata": {},
   "outputs": [
    {
     "data": {
      "text/plain": [
       "15948"
      ]
     },
     "execution_count": 257,
     "metadata": {},
     "output_type": "execute_result"
    }
   ],
   "source": [
    "np.sum(preds == 1)"
   ]
  },
  {
   "cell_type": "code",
   "execution_count": 165,
   "id": "4fc9de9b",
   "metadata": {},
   "outputs": [],
   "source": [
    "# X_train = torch.from_numpy(X_train).float()\n",
    "preds = model(X_train)"
   ]
  },
  {
   "cell_type": "code",
   "execution_count": 166,
   "id": "7edf9a2b",
   "metadata": {},
   "outputs": [],
   "source": [
    "w15 = libpysal.weights.DistanceBand.from_dataframe(df15, threshold=150, binary = True, silence_warnings = True)\n"
   ]
  },
  {
   "cell_type": "code",
   "execution_count": 167,
   "id": "4589a3f8",
   "metadata": {},
   "outputs": [],
   "source": [
    "import pandas as pd\n",
    "\n",
    "preds = pd.DataFrame(np.array(preds.detach())).set_index(df15.index)"
   ]
  },
  {
   "cell_type": "code",
   "execution_count": 168,
   "id": "3b0a18ab",
   "metadata": {},
   "outputs": [],
   "source": [
    "\n",
    "# preds = pd.DataFrame(np.array(preds.detach())).set_index(ID_train)\n",
    "neighbors = [w15.neighbors[x] for x in df15.index]\n",
    "transitions = [preds.loc[x].values for x in neighbors]\n",
    "\n",
    "\n",
    "\n",
    "n_function = np.zeros((len(preds), w15.max_neighbors + 1))\n",
    "for i, (t, idx) in enumerate(zip(transitions, df15.index)):\n",
    "    n_function[i, 1:len(t) + 1] = t.squeeze()\n",
    "    n_function[i, 0] = preds.loc[idx]"
   ]
  },
  {
   "cell_type": "code",
   "execution_count": 169,
   "id": "f78e226c",
   "metadata": {
    "scrolled": true
   },
   "outputs": [
    {
     "name": "stdout",
     "output_type": "stream",
     "text": [
      "Fitting 5 folds for each of 8 candidates, totalling 40 fits\n",
      "[CV 1/5] END .......max_depth=6, oob_score=True;, score=0.855 total time=   6.5s\n",
      "[CV 2/5] END .......max_depth=6, oob_score=True;, score=0.865 total time=   6.4s\n",
      "[CV 3/5] END .......max_depth=6, oob_score=True;, score=0.863 total time=   6.5s\n",
      "[CV 4/5] END .......max_depth=6, oob_score=True;, score=0.829 total time=   6.2s\n",
      "[CV 5/5] END .......max_depth=6, oob_score=True;, score=0.833 total time=   6.2s\n",
      "[CV 1/5] END ......max_depth=6, oob_score=False;, score=0.855 total time=   5.7s\n",
      "[CV 2/5] END ......max_depth=6, oob_score=False;, score=0.865 total time=   5.9s\n",
      "[CV 3/5] END ......max_depth=6, oob_score=False;, score=0.862 total time=   6.7s\n",
      "[CV 4/5] END ......max_depth=6, oob_score=False;, score=0.829 total time=   6.1s\n",
      "[CV 5/5] END ......max_depth=6, oob_score=False;, score=0.833 total time=   6.0s\n",
      "[CV 1/5] END .......max_depth=8, oob_score=True;, score=0.853 total time=   9.3s\n",
      "[CV 2/5] END .......max_depth=8, oob_score=True;, score=0.868 total time=   8.9s\n",
      "[CV 3/5] END .......max_depth=8, oob_score=True;, score=0.864 total time=   7.3s\n",
      "[CV 4/5] END .......max_depth=8, oob_score=True;, score=0.832 total time=   8.3s\n",
      "[CV 5/5] END .......max_depth=8, oob_score=True;, score=0.836 total time=   7.0s\n",
      "[CV 1/5] END ......max_depth=8, oob_score=False;, score=0.853 total time=   6.4s\n",
      "[CV 2/5] END ......max_depth=8, oob_score=False;, score=0.867 total time=   6.5s\n",
      "[CV 3/5] END ......max_depth=8, oob_score=False;, score=0.863 total time=   6.5s\n",
      "[CV 4/5] END ......max_depth=8, oob_score=False;, score=0.831 total time=   6.0s\n",
      "[CV 5/5] END ......max_depth=8, oob_score=False;, score=0.835 total time=   5.9s\n",
      "[CV 1/5] END ......max_depth=10, oob_score=True;, score=0.852 total time=   8.0s\n",
      "[CV 2/5] END ......max_depth=10, oob_score=True;, score=0.870 total time=   7.9s\n",
      "[CV 3/5] END ......max_depth=10, oob_score=True;, score=0.867 total time=   8.1s\n",
      "[CV 4/5] END ......max_depth=10, oob_score=True;, score=0.836 total time=   7.8s\n",
      "[CV 5/5] END ......max_depth=10, oob_score=True;, score=0.838 total time=   7.9s\n",
      "[CV 1/5] END .....max_depth=10, oob_score=False;, score=0.852 total time=   7.8s\n",
      "[CV 2/5] END .....max_depth=10, oob_score=False;, score=0.870 total time=   8.7s\n",
      "[CV 3/5] END .....max_depth=10, oob_score=False;, score=0.867 total time=   8.0s\n",
      "[CV 4/5] END .....max_depth=10, oob_score=False;, score=0.835 total time=   9.2s\n",
      "[CV 5/5] END .....max_depth=10, oob_score=False;, score=0.839 total time=   7.1s\n",
      "[CV 1/5] END ......max_depth=12, oob_score=True;, score=0.852 total time=   9.3s\n",
      "[CV 2/5] END ......max_depth=12, oob_score=True;, score=0.873 total time=   9.1s\n",
      "[CV 3/5] END ......max_depth=12, oob_score=True;, score=0.870 total time=   9.1s\n",
      "[CV 4/5] END ......max_depth=12, oob_score=True;, score=0.840 total time=   8.8s\n",
      "[CV 5/5] END ......max_depth=12, oob_score=True;, score=0.844 total time=   9.0s\n",
      "[CV 1/5] END .....max_depth=12, oob_score=False;, score=0.853 total time=   8.4s\n",
      "[CV 2/5] END .....max_depth=12, oob_score=False;, score=0.872 total time=   8.4s\n",
      "[CV 3/5] END .....max_depth=12, oob_score=False;, score=0.872 total time=   8.2s\n",
      "[CV 4/5] END .....max_depth=12, oob_score=False;, score=0.841 total time=   8.1s\n",
      "[CV 5/5] END .....max_depth=12, oob_score=False;, score=0.844 total time=   8.1s\n"
     ]
    },
    {
     "data": {
      "text/plain": [
       "GridSearchCV(cv=5, estimator=RandomForestClassifier(),\n",
       "             param_grid={'max_depth': [6, 8, 10, 12],\n",
       "                         'oob_score': [True, False]},\n",
       "             scoring='balanced_accuracy', verbose=3)"
      ]
     },
     "execution_count": 169,
     "metadata": {},
     "output_type": "execute_result"
    }
   ],
   "source": [
    "params = {\"max_depth\": [12], \"oob_score\" : [True, False]}\n",
    "clf_bagger = GridSearchCV(RandomForestClassifier(), params, cv = 5, scoring = \"balanced_accuracy\",\n",
    "                               verbose = 3)\n",
    "clf_bagger = RandomForestClassifier(max_depth = 12, oob_score = True)\n",
    "oversample = SMOTE()\n",
    "x, y = oversample.fit_resample(n_function, Y_train)\n",
    "\n",
    "clf_bagger.fit(x,y)"
   ]
  },
  {
   "cell_type": "code",
   "execution_count": 170,
   "id": "08a83af4",
   "metadata": {
    "scrolled": true
   },
   "outputs": [
    {
     "data": {
      "text/plain": [
       "{'max_depth': 12, 'oob_score': False}"
      ]
     },
     "execution_count": 170,
     "metadata": {},
     "output_type": "execute_result"
    }
   ],
   "source": [
    "clf_bagger.best_params_"
   ]
  },
  {
   "cell_type": "code",
   "execution_count": 171,
   "id": "5248e2ae",
   "metadata": {},
   "outputs": [
    {
     "ename": "AttributeError",
     "evalue": "'DataFrame' object has no attribute 'detach'",
     "output_type": "error",
     "traceback": [
      "\u001b[1;31m---------------------------------------------------------------------------\u001b[0m",
      "\u001b[1;31mAttributeError\u001b[0m                            Traceback (most recent call last)",
      "\u001b[1;32mC:\\Users\\GEBRUI~1\\AppData\\Local\\Temp/ipykernel_9620/3511837816.py\u001b[0m in \u001b[0;36m<module>\u001b[1;34m\u001b[0m\n\u001b[1;32m----> 1\u001b[1;33m \u001b[0mnp\u001b[0m\u001b[1;33m.\u001b[0m\u001b[0marray\u001b[0m\u001b[1;33m(\u001b[0m\u001b[0mpreds\u001b[0m\u001b[1;33m.\u001b[0m\u001b[0mdetach\u001b[0m\u001b[1;33m(\u001b[0m\u001b[1;33m)\u001b[0m\u001b[1;33m)\u001b[0m\u001b[1;33m\u001b[0m\u001b[1;33m\u001b[0m\u001b[0m\n\u001b[0m",
      "\u001b[1;32m~\\anaconda3\\lib\\site-packages\\pandas\\core\\generic.py\u001b[0m in \u001b[0;36m__getattr__\u001b[1;34m(self, name)\u001b[0m\n\u001b[0;32m   5485\u001b[0m         ):\n\u001b[0;32m   5486\u001b[0m             \u001b[1;32mreturn\u001b[0m \u001b[0mself\u001b[0m\u001b[1;33m[\u001b[0m\u001b[0mname\u001b[0m\u001b[1;33m]\u001b[0m\u001b[1;33m\u001b[0m\u001b[1;33m\u001b[0m\u001b[0m\n\u001b[1;32m-> 5487\u001b[1;33m         \u001b[1;32mreturn\u001b[0m \u001b[0mobject\u001b[0m\u001b[1;33m.\u001b[0m\u001b[0m__getattribute__\u001b[0m\u001b[1;33m(\u001b[0m\u001b[0mself\u001b[0m\u001b[1;33m,\u001b[0m \u001b[0mname\u001b[0m\u001b[1;33m)\u001b[0m\u001b[1;33m\u001b[0m\u001b[1;33m\u001b[0m\u001b[0m\n\u001b[0m\u001b[0;32m   5488\u001b[0m \u001b[1;33m\u001b[0m\u001b[0m\n\u001b[0;32m   5489\u001b[0m     \u001b[1;32mdef\u001b[0m \u001b[0m__setattr__\u001b[0m\u001b[1;33m(\u001b[0m\u001b[0mself\u001b[0m\u001b[1;33m,\u001b[0m \u001b[0mname\u001b[0m\u001b[1;33m:\u001b[0m \u001b[0mstr\u001b[0m\u001b[1;33m,\u001b[0m \u001b[0mvalue\u001b[0m\u001b[1;33m)\u001b[0m \u001b[1;33m->\u001b[0m \u001b[1;32mNone\u001b[0m\u001b[1;33m:\u001b[0m\u001b[1;33m\u001b[0m\u001b[1;33m\u001b[0m\u001b[0m\n",
      "\u001b[1;31mAttributeError\u001b[0m: 'DataFrame' object has no attribute 'detach'"
     ]
    }
   ],
   "source": [
    "np.array(preds.detach())"
   ]
  },
  {
   "cell_type": "code",
   "execution_count": 173,
   "id": "b249875f",
   "metadata": {},
   "outputs": [],
   "source": [
    "# X_val = torch.from_numpy(X_val).float()\n",
    "preds = model(X_val)"
   ]
  },
  {
   "cell_type": "code",
   "execution_count": 174,
   "id": "91e2c519",
   "metadata": {},
   "outputs": [],
   "source": [
    "w16 = libpysal.weights.DistanceBand.from_dataframe(df16, threshold=150, binary = True, silence_warnings = True)\n"
   ]
  },
  {
   "cell_type": "code",
   "execution_count": 175,
   "id": "49d94624",
   "metadata": {},
   "outputs": [],
   "source": [
    "preds = pd.DataFrame(np.array(preds.detach())).set_index(df16.index)\n",
    "neighbors = [w16.neighbors[x] for x in df16.index]\n",
    "transitions = [preds.loc[x].values for x in neighbors]\n",
    "\n",
    "\n",
    "\n",
    "n_function = np.zeros((len(preds), w16.max_neighbors + 1))\n",
    "for i, (t, idx) in enumerate(zip(transitions, df16.index)):\n",
    "    n_function[i, 1:len(t) + 1] = t.squeeze()\n",
    "    n_function[i, 0] = preds.loc[idx]"
   ]
  },
  {
   "cell_type": "code",
   "execution_count": 176,
   "id": "ee759569",
   "metadata": {},
   "outputs": [],
   "source": [
    "preds = clf_bagger.predict(n_function)"
   ]
  },
  {
   "cell_type": "code",
   "execution_count": 177,
   "id": "0f66f06c",
   "metadata": {},
   "outputs": [
    {
     "data": {
      "text/plain": [
       "57050"
      ]
     },
     "execution_count": 177,
     "metadata": {},
     "output_type": "execute_result"
    }
   ],
   "source": [
    "len(neighbors)"
   ]
  },
  {
   "cell_type": "code",
   "execution_count": null,
   "id": "a5d8c62a",
   "metadata": {},
   "outputs": [],
   "source": []
  },
  {
   "cell_type": "code",
   "execution_count": 178,
   "id": "71e36a83",
   "metadata": {},
   "outputs": [
    {
     "data": {
      "text/plain": [
       "0.5819144337554594"
      ]
     },
     "execution_count": 178,
     "metadata": {},
     "output_type": "execute_result"
    }
   ],
   "source": [
    "clf_bagger.score(n_function, Y_val)"
   ]
  },
  {
   "cell_type": "code",
   "execution_count": 179,
   "id": "708da41b",
   "metadata": {},
   "outputs": [
    {
     "data": {
      "text/plain": [
       "0.3210421726650475"
      ]
     },
     "execution_count": 179,
     "metadata": {},
     "output_type": "execute_result"
    }
   ],
   "source": [
    "recall_score(Y_val, preds)"
   ]
  },
  {
   "cell_type": "code",
   "execution_count": 180,
   "id": "4d5b6b50",
   "metadata": {},
   "outputs": [
    {
     "data": {
      "text/plain": [
       "0.14972711358253527"
      ]
     },
     "execution_count": 180,
     "metadata": {},
     "output_type": "execute_result"
    }
   ],
   "source": [
    "precision_score(Y_val, preds)"
   ]
  },
  {
   "cell_type": "code",
   "execution_count": 246,
   "id": "653623ba",
   "metadata": {},
   "outputs": [
    {
     "data": {
      "text/plain": [
       "4529"
      ]
     },
     "execution_count": 246,
     "metadata": {},
     "output_type": "execute_result"
    }
   ],
   "source": [
    "(Y_val == 1).sum()"
   ]
  },
  {
   "cell_type": "markdown",
   "id": "785763ff",
   "metadata": {},
   "source": [
    "# No bagger on the end"
   ]
  },
  {
   "cell_type": "code",
   "execution_count": 277,
   "id": "efe1d495",
   "metadata": {},
   "outputs": [],
   "source": [
    "preds = pd.DataFrame(np.array(preds.detach())).set_index(ID_val)"
   ]
  },
  {
   "cell_type": "code",
   "execution_count": 279,
   "id": "ba4f5668",
   "metadata": {},
   "outputs": [],
   "source": [
    "preds[\"y\"] = Y_val"
   ]
  },
  {
   "cell_type": "code",
   "execution_count": 280,
   "id": "da369a99",
   "metadata": {},
   "outputs": [],
   "source": [
    "preds = preds.sort_values(by=[0], ascending = False)"
   ]
  },
  {
   "cell_type": "code",
   "execution_count": 281,
   "id": "2288054e",
   "metadata": {},
   "outputs": [
    {
     "data": {
      "text/html": [
       "<div>\n",
       "<style scoped>\n",
       "    .dataframe tbody tr th:only-of-type {\n",
       "        vertical-align: middle;\n",
       "    }\n",
       "\n",
       "    .dataframe tbody tr th {\n",
       "        vertical-align: top;\n",
       "    }\n",
       "\n",
       "    .dataframe thead th {\n",
       "        text-align: right;\n",
       "    }\n",
       "</style>\n",
       "<table border=\"1\" class=\"dataframe\">\n",
       "  <thead>\n",
       "    <tr style=\"text-align: right;\">\n",
       "      <th></th>\n",
       "      <th>0</th>\n",
       "      <th>y</th>\n",
       "    </tr>\n",
       "  </thead>\n",
       "  <tbody>\n",
       "    <tr>\n",
       "      <th>3699708.0</th>\n",
       "      <td>9.999919e-01</td>\n",
       "      <td>0.0</td>\n",
       "    </tr>\n",
       "    <tr>\n",
       "      <th>2206980.0</th>\n",
       "      <td>9.999806e-01</td>\n",
       "      <td>0.0</td>\n",
       "    </tr>\n",
       "    <tr>\n",
       "      <th>2206983.0</th>\n",
       "      <td>9.999349e-01</td>\n",
       "      <td>0.0</td>\n",
       "    </tr>\n",
       "    <tr>\n",
       "      <th>2206982.0</th>\n",
       "      <td>9.999343e-01</td>\n",
       "      <td>0.0</td>\n",
       "    </tr>\n",
       "    <tr>\n",
       "      <th>2210563.0</th>\n",
       "      <td>9.999300e-01</td>\n",
       "      <td>0.0</td>\n",
       "    </tr>\n",
       "    <tr>\n",
       "      <th>...</th>\n",
       "      <td>...</td>\n",
       "      <td>...</td>\n",
       "    </tr>\n",
       "    <tr>\n",
       "      <th>2654130.0</th>\n",
       "      <td>3.897061e-21</td>\n",
       "      <td>0.0</td>\n",
       "    </tr>\n",
       "    <tr>\n",
       "      <th>2113362.0</th>\n",
       "      <td>1.054448e-21</td>\n",
       "      <td>0.0</td>\n",
       "    </tr>\n",
       "    <tr>\n",
       "      <th>3705586.0</th>\n",
       "      <td>2.995088e-22</td>\n",
       "      <td>0.0</td>\n",
       "    </tr>\n",
       "    <tr>\n",
       "      <th>3703981.0</th>\n",
       "      <td>6.478963e-23</td>\n",
       "      <td>0.0</td>\n",
       "    </tr>\n",
       "    <tr>\n",
       "      <th>2116824.0</th>\n",
       "      <td>9.653986e-25</td>\n",
       "      <td>1.0</td>\n",
       "    </tr>\n",
       "  </tbody>\n",
       "</table>\n",
       "<p>57050 rows × 2 columns</p>\n",
       "</div>"
      ],
      "text/plain": [
       "                      0    y\n",
       "3699708.0  9.999919e-01  0.0\n",
       "2206980.0  9.999806e-01  0.0\n",
       "2206983.0  9.999349e-01  0.0\n",
       "2206982.0  9.999343e-01  0.0\n",
       "2210563.0  9.999300e-01  0.0\n",
       "...                 ...  ...\n",
       "2654130.0  3.897061e-21  0.0\n",
       "2113362.0  1.054448e-21  0.0\n",
       "3705586.0  2.995088e-22  0.0\n",
       "3703981.0  6.478963e-23  0.0\n",
       "2116824.0  9.653986e-25  1.0\n",
       "\n",
       "[57050 rows x 2 columns]"
      ]
     },
     "execution_count": 281,
     "metadata": {},
     "output_type": "execute_result"
    }
   ],
   "source": [
    "preds"
   ]
  },
  {
   "cell_type": "code",
   "execution_count": 282,
   "id": "70c91604",
   "metadata": {},
   "outputs": [],
   "source": [
    "preds[0].iloc[0:4529] = 1\n",
    "preds[0].iloc[4529:] = 0"
   ]
  },
  {
   "cell_type": "code",
   "execution_count": 283,
   "id": "4426a7b9",
   "metadata": {},
   "outputs": [
    {
     "data": {
      "text/plain": [
       "0.17244424817840584"
      ]
     },
     "execution_count": 283,
     "metadata": {},
     "output_type": "execute_result"
    }
   ],
   "source": [
    "recall_score(preds[\"y\"], preds[0])\n"
   ]
  },
  {
   "cell_type": "code",
   "execution_count": 284,
   "id": "e2e24821",
   "metadata": {},
   "outputs": [
    {
     "data": {
      "text/plain": [
       "0.17244424817840584"
      ]
     },
     "execution_count": 284,
     "metadata": {},
     "output_type": "execute_result"
    }
   ],
   "source": [
    "precision_score(preds[\"y\"], preds[0])"
   ]
  }
 ],
 "metadata": {
  "kernelspec": {
   "display_name": "Python 3 (ipykernel)",
   "language": "python",
   "name": "python3"
  },
  "language_info": {
   "codemirror_mode": {
    "name": "ipython",
    "version": 3
   },
   "file_extension": ".py",
   "mimetype": "text/x-python",
   "name": "python",
   "nbconvert_exporter": "python",
   "pygments_lexer": "ipython3",
   "version": "3.7.11"
  }
 },
 "nbformat": 4,
 "nbformat_minor": 5
}
