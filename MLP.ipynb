{
 "cells": [
  {
   "cell_type": "code",
   "execution_count": 1,
   "id": "29739892",
   "metadata": {},
   "outputs": [
    {
     "name": "stdout",
     "output_type": "stream",
     "text": [
      "Device: cpu\n"
     ]
    }
   ],
   "source": [
    "import torch\n",
    "device = torch.device(\"cuda:0\" if torch.cuda.is_available() else \"cpu\")\n",
    "print(\"Device: {}\".format(device))"
   ]
  },
  {
   "cell_type": "code",
   "execution_count": 9,
   "id": "d1ec31a0",
   "metadata": {},
   "outputs": [],
   "source": [
    "import numpy as np\n",
    "import os\n",
    "from get_data import get_data\n",
    "from imblearn.over_sampling import SMOTE \n",
    "from imblearn.combine import SMOTEENN\n",
    "from imblearn.under_sampling import RandomUnderSampler\n",
    "from imblearn.pipeline import Pipeline\n",
    "from imblearn.tensorflow import balanced_batch_generator\n",
    "from numpy.random import default_rng\n",
    "rng = default_rng(seed = 31)\n",
    "import pickle\n",
    "import pandas as pd\n",
    "from sklearn.ensemble import RandomForestClassifier\n",
    "from sklearn.model_selection import  GridSearchCV\n",
    "import geopandas as gpd\n",
    "import shapely\n",
    "from sklearn.metrics import recall_score, precision_score, confusion_matrix, accuracy_score"
   ]
  },
  {
   "cell_type": "code",
   "execution_count": 3,
   "id": "ce305bd2",
   "metadata": {},
   "outputs": [],
   "source": [
    "from torch import nn, optim\n",
    "import scipy.ndimage as ndimage"
   ]
  },
  {
   "cell_type": "code",
   "execution_count": 4,
   "id": "fa3bf2c4",
   "metadata": {},
   "outputs": [],
   "source": [
    "# X, Y, ID = get_data(\"../Data/filled/grids/\", [2015,2016,2017,2018,2019])"
   ]
  },
  {
   "cell_type": "code",
   "execution_count": 75,
   "id": "6d24f8bc",
   "metadata": {},
   "outputs": [],
   "source": [
    "from sklearn.preprocessing import StandardScaler\n",
    "ss = StandardScaler()"
   ]
  },
  {
   "cell_type": "code",
   "execution_count": 4,
   "id": "d591f8d5",
   "metadata": {},
   "outputs": [],
   "source": [
    "def load_data(year):\n",
    "    os.getcwd()\n",
    "    \n",
    "    df = pd.DataFrame()\n",
    "    path = \"../Data/filled/\" + str(year) + \"/\"\n",
    "    for filename in os.listdir(path):\n",
    "        df1 = pd.read_csv(path + filename)\n",
    "        if df1.geometry.isna().any():\n",
    "            print(filename)\n",
    "        df = pd.concat([df, df1])\n",
    "    df = gpd.GeoDataFrame(df)\n",
    "    df.geometry = df.geometry.apply(shapely.wkt.loads)\n",
    "    \n",
    "    df = df.reset_index()\n",
    "    df = df.drop([\"Unnamed: 0\", \"index\"], axis = 1)\n",
    "    return df"
   ]
  },
  {
   "cell_type": "code",
   "execution_count": 10,
   "id": "be8ecd82",
   "metadata": {},
   "outputs": [],
   "source": [
    "df15 = load_data(2015)\n",
    "df16 = load_data(2016)\n",
    "df17 = load_data(2017)\n",
    "df18 = load_data(2018)\n",
    "df19 = load_data(2019)"
   ]
  },
  {
   "cell_type": "code",
   "execution_count": 76,
   "id": "fc2a38e2",
   "metadata": {},
   "outputs": [],
   "source": [
    "X_train = df15[df15.columns[:-4]]\n",
    "Y_train = df15.y\n",
    "X_train = ss.fit_transform(X_train)\n",
    "\n",
    "oversample = SMOTE(sampling_strategy=0.3)\n",
    "# oversample = ADASYN()\n",
    "undersample = RandomUnderSampler()\n",
    "steps = [(\"o\", oversample), (\"u\", undersample)]\n",
    "pipeline = Pipeline(steps = steps)\n",
    "# resample = SMOTEENN()\n",
    "x_train,y_train = pipeline.fit_resample(X_train, Y_train)"
   ]
  },
  {
   "cell_type": "code",
   "execution_count": 77,
   "id": "7306a2f8",
   "metadata": {},
   "outputs": [],
   "source": [
    "X_val = df16[df15.columns[:-4]]\n",
    "Y_val = df16.y\n",
    "X_val = ss.transform(X_val)"
   ]
  },
  {
   "cell_type": "code",
   "execution_count": 13,
   "id": "db39dd51",
   "metadata": {},
   "outputs": [
    {
     "data": {
      "text/plain": [
       "15341"
      ]
     },
     "execution_count": 13,
     "metadata": {},
     "output_type": "execute_result"
    }
   ],
   "source": [
    "(y_train == 1).sum()"
   ]
  },
  {
   "cell_type": "code",
   "execution_count": 271,
   "id": "f2ab3eab",
   "metadata": {},
   "outputs": [],
   "source": [
    "def get_batch(X, Y, batch_size = 32):\n",
    "    \n",
    "    idxs = rng.integers(X.shape[0], size = batch_size)\n",
    "\n",
    "    X = torch.tensor(X[idxs]).float()\n",
    "    Y = torch.from_numpy(Y.iloc[idxs].values).float()\n",
    "\n",
    "    return X, Y\n"
   ]
  },
  {
   "cell_type": "code",
   "execution_count": null,
   "id": "71582763",
   "metadata": {},
   "outputs": [],
   "source": []
  },
  {
   "cell_type": "code",
   "execution_count": 202,
   "id": "225c26e2",
   "metadata": {},
   "outputs": [],
   "source": [
    "class Model(nn.Module):\n",
    "    def __init__(self, name):\n",
    "        super(Model, self).__init__()\n",
    "        self.net = nn.Sequential(\n",
    "            nn.Linear(39, 128),\n",
    "            nn.ReLU(),\n",
    "            nn.Linear(128, 256),\n",
    "            nn.ReLU(),\n",
    "            nn.Linear(256, 128),\n",
    "            nn.Dropout(0.2),\n",
    "            nn.ReLU(),\n",
    "            nn.Linear(128,64),\n",
    "            nn.ReLU(),\n",
    "            nn.Linear(64,32),\n",
    "            nn.Dropout(0.2),\n",
    "            nn.ReLU(),\n",
    "            nn.Linear(32,1),\n",
    "            nn.Sigmoid())\n",
    "        \n",
    "        self.name = name\n",
    "            \n",
    "\n",
    "    def forward(self, x):\n",
    "        out = self.net(x)\n",
    "        return out"
   ]
  },
  {
   "cell_type": "code",
   "execution_count": 205,
   "id": "216b1103",
   "metadata": {},
   "outputs": [],
   "source": []
  },
  {
   "cell_type": "code",
   "execution_count": 311,
   "id": "e57257a7",
   "metadata": {},
   "outputs": [],
   "source": [
    "class Model1(nn.Module):\n",
    "    def __init__(self, name):\n",
    "        super(Model1, self).__init__()\n",
    "        self.net = nn.Sequential(\n",
    "            nn.Linear(39, 128),\n",
    "            nn.ReLU(),\n",
    "            nn.Linear(128, 256),\n",
    "            nn.ReLU(),\n",
    "            nn.Linear(256, 512),\n",
    "            nn.ReLU(),\n",
    "            nn.Linear(512, 128),\n",
    "            nn.Dropout(0.2),\n",
    "            nn.ReLU(),\n",
    "            nn.Linear(128,64),\n",
    "            nn.ReLU(),\n",
    "            nn.Linear(64,32),\n",
    "            nn.Dropout(0.2),\n",
    "            nn.ReLU(),\n",
    "            nn.Linear(32,1),\n",
    "            nn.Sigmoid())\n",
    "        \n",
    "        self.name = name\n",
    "            \n",
    "\n",
    "    def forward(self, x):\n",
    "        out = self.net(x)\n",
    "        return out"
   ]
  },
  {
   "cell_type": "code",
   "execution_count": 317,
   "id": "5d0db6e7",
   "metadata": {},
   "outputs": [],
   "source": [
    "class Model3(nn.Module):\n",
    "    def __init__(self, name):\n",
    "        super(Model3, self).__init__()\n",
    "        self.net = nn.Sequential(\n",
    "            nn.Linear(39, 64),\n",
    "            nn.ReLU(),\n",
    "            nn.Linear(64, 128),\n",
    "            nn.ReLU(),\n",
    "            nn.Linear(128,64),\n",
    "            nn.ReLU(),\n",
    "            nn.Linear(64,32),\n",
    "            nn.Dropout(0.2),\n",
    "            nn.ReLU(),\n",
    "            nn.Linear(32,1),\n",
    "            nn.Sigmoid())\n",
    "        \n",
    "        self.name = name\n",
    "            \n",
    "\n",
    "    def forward(self, x):\n",
    "        out = self.net(x)"
   ]
  },
  {
   "cell_type": "code",
   "execution_count": 318,
   "id": "bacf24e5",
   "metadata": {},
   "outputs": [],
   "source": [
    "class Model4(nn.Module):\n",
    "    def __init__(self, name):\n",
    "        super(Model4, self).__init__()\n",
    "        self.net = nn.Sequential(\n",
    "            nn.Linear(39, 256),\n",
    "            nn.ReLU(),\n",
    "            nn.Linear(256, 512),\n",
    "            nn.ReLU(),\n",
    "            nn.Linear(512, 1024),\n",
    "            nn.Dropout(0.2),\n",
    "            nn.ReLU(),\n",
    "            nn.Linear(1024,128),\n",
    "            nn.ReLU(),\n",
    "            nn.Linear(128,32),\n",
    "            nn.Dropout(0.2),\n",
    "            nn.ReLU(),\n",
    "            nn.Linear(32,1),\n",
    "            nn.Sigmoid())\n",
    "        \n",
    "        self.name = name\n",
    "            \n",
    "\n",
    "    def forward(self, x):\n",
    "        out = self.net(x)\n",
    "        return out"
   ]
  },
  {
   "cell_type": "code",
   "execution_count": 322,
   "id": "f7f04cb2",
   "metadata": {},
   "outputs": [],
   "source": [
    "class Model5(nn.Module):\n",
    "    def __init__(self, name):\n",
    "        super(Model5, self).__init__()\n",
    "        self.net = nn.Sequential(\n",
    "            nn.Linear(39, 64),\n",
    "            nn.ReLU(),\n",
    "            nn.Linear(64, 128),\n",
    "            nn.ReLU(),\n",
    "            nn.Linear(128, 256),\n",
    "            nn.Dropout(0.3),\n",
    "            nn.ReLU(),\n",
    "            nn.Linear(256, 512),\n",
    "            nn.ReLU(),\n",
    "            nn.Linear(512, 128),\n",
    "            nn.Dropout(0.2),\n",
    "            nn.ReLU(),\n",
    "            nn.Linear(128,64),\n",
    "            nn.ReLU(),\n",
    "            nn.Linear(64,32),\n",
    "            nn.Dropout(0.2),\n",
    "            nn.ReLU(),\n",
    "            nn.Linear(32,1),\n",
    "            nn.Sigmoid())\n",
    "        \n",
    "        self.name = name\n",
    "            \n",
    "\n",
    "    def forward(self, x):\n",
    "        out = self.net(x)\n",
    "        return out"
   ]
  },
  {
   "cell_type": "code",
   "execution_count": 323,
   "id": "00252cc4",
   "metadata": {},
   "outputs": [],
   "source": [
    "model = Model(\"een\")\n",
    "model1 = Model1(\"twee\")\n",
    "model3 = Model3(\"drie\")\n",
    "model4 = Model4(\"vier\")\n",
    "model5 = Model5(\"vijf\")\n",
    "models = [model, model1, model3, model4, model5]"
   ]
  },
  {
   "cell_type": "code",
   "execution_count": 324,
   "id": "6219a26b",
   "metadata": {},
   "outputs": [],
   "source": [
    "# import warnings\n",
    "# warnings.filterwarnings(\"ignore\")\n",
    "# # optimizer = optim.RMSprop(model.parameters(), lr=0.001) \n",
    "# BCEloss = nn.BCELoss()\n",
    "# model.train()\n",
    "\n",
    "def train_model(model, X_train, Y_train, X_val, Y_val, num_epochs, batch_per_e = 500):\n",
    "    optimizer = optim.RMSprop(model.parameters(), lr=0.0001) \n",
    "    BCEloss = nn.BCELoss()\n",
    "    train_loss = []\n",
    "    train_loss_history = []\n",
    "    acc_history = []\n",
    "    rec_history = []\n",
    "    prec_history = []\n",
    "    cmc_best = 0\n",
    "    \n",
    "    \n",
    "\n",
    "    for epoch in range(num_epochs):\n",
    "        epoch_loss = []\n",
    "        print(\"epoch: {} of {}\".format(epoch, num_epochs))\n",
    "        for batch in range(batch_per_e):\n",
    "            \n",
    "            x_train_, y_train_ = get_batch(X_train, Y_train, 100)\n",
    "            model.train()\n",
    "\n",
    "            optimizer.zero_grad()\n",
    "            out = model(x_train_)\n",
    "            loss = BCEloss(out.squeeze(), y_train_)\n",
    "            loss.backward()\n",
    "            optimizer.step()\n",
    "            if batch % 10 == 0:\n",
    "                train_loss.append(loss)\n",
    "                \n",
    "        model.eval()\n",
    "        \n",
    "        x_val_, y_val_ = get_batch(X_val, Y_val, batch_size = 10000)\n",
    "        predictions = model(x_val_).detach().numpy()\n",
    "        predictions = (predictions > 0.5).astype(int)\n",
    "        \n",
    "        acc = accuracy_score(y_val_, predictions)\n",
    "        rec = recall_score(y_val_, predictions)\n",
    "        prec = precision_score(y_val_, predictions)\n",
    "        train_loss = (np.sum(train_loss) / (batch_per_e/10)).detach().item()\n",
    "\n",
    "        acc_history.append(acc)\n",
    "        rec_history.append(rec)\n",
    "        prec_history.append(prec)\n",
    "        train_loss_history.append(train_loss)\n",
    "        \n",
    "        print(\"training_loss: {:.4f}, acc: {:.3f}, recall: {:.3f}, precision: {:.3f}\".format(train_loss, acc, rec, prec))\n",
    "        train_loss = []\n",
    "\n",
    "\n",
    "    return acc_history, rec_history, prec_history, train_loss_history"
   ]
  },
  {
   "cell_type": "code",
   "execution_count": 313,
   "id": "61c51d11",
   "metadata": {
    "scrolled": true
   },
   "outputs": [
    {
     "name": "stdout",
     "output_type": "stream",
     "text": [
      "epoch: 0 of 1500\n",
      "training_loss: 0.6331, acc: 0.719, recall: 0.537, precision: 0.144\n",
      "epoch: 1 of 1500\n",
      "training_loss: 0.5981, acc: 0.672, recall: 0.604, precision: 0.145\n",
      "epoch: 2 of 1500\n",
      "training_loss: 0.5644, acc: 0.706, recall: 0.569, precision: 0.139\n",
      "epoch: 3 of 1500\n"
     ]
    },
    {
     "ename": "KeyboardInterrupt",
     "evalue": "",
     "output_type": "error",
     "traceback": [
      "\u001b[1;31m---------------------------------------------------------------------------\u001b[0m",
      "\u001b[1;31mKeyboardInterrupt\u001b[0m                         Traceback (most recent call last)",
      "\u001b[1;32mC:\\Users\\GEBRUI~1\\AppData\\Local\\Temp/ipykernel_9620/948473189.py\u001b[0m in \u001b[0;36m<module>\u001b[1;34m\u001b[0m\n\u001b[1;32m----> 1\u001b[1;33m \u001b[0mtrain_model\u001b[0m\u001b[1;33m(\u001b[0m\u001b[0mmodel1\u001b[0m\u001b[1;33m,\u001b[0m\u001b[0mx_train\u001b[0m\u001b[1;33m,\u001b[0m \u001b[0my_train\u001b[0m\u001b[1;33m,\u001b[0m \u001b[0mX_val\u001b[0m\u001b[1;33m,\u001b[0m \u001b[0mY_val\u001b[0m\u001b[1;33m,\u001b[0m \u001b[1;36m1500\u001b[0m\u001b[1;33m)\u001b[0m\u001b[1;33m\u001b[0m\u001b[1;33m\u001b[0m\u001b[0m\n\u001b[0m",
      "\u001b[1;32mC:\\Users\\GEBRUI~1\\AppData\\Local\\Temp/ipykernel_9620/258991774.py\u001b[0m in \u001b[0;36mtrain_model\u001b[1;34m(model, X_train, Y_train, X_val, Y_val, num_epochs, batch_per_e)\u001b[0m\n\u001b[0;32m     22\u001b[0m         \u001b[1;32mfor\u001b[0m \u001b[0mbatch\u001b[0m \u001b[1;32min\u001b[0m \u001b[0mrange\u001b[0m\u001b[1;33m(\u001b[0m\u001b[0mbatch_per_e\u001b[0m\u001b[1;33m)\u001b[0m\u001b[1;33m:\u001b[0m\u001b[1;33m\u001b[0m\u001b[1;33m\u001b[0m\u001b[0m\n\u001b[0;32m     23\u001b[0m \u001b[1;33m\u001b[0m\u001b[0m\n\u001b[1;32m---> 24\u001b[1;33m             \u001b[0mx_train_\u001b[0m\u001b[1;33m,\u001b[0m \u001b[0my_train_\u001b[0m \u001b[1;33m=\u001b[0m \u001b[0mget_batch\u001b[0m\u001b[1;33m(\u001b[0m\u001b[0mX_train\u001b[0m\u001b[1;33m,\u001b[0m \u001b[0mY_train\u001b[0m\u001b[1;33m,\u001b[0m \u001b[1;36m100\u001b[0m\u001b[1;33m)\u001b[0m\u001b[1;33m\u001b[0m\u001b[1;33m\u001b[0m\u001b[0m\n\u001b[0m\u001b[0;32m     25\u001b[0m             \u001b[0mmodel\u001b[0m\u001b[1;33m.\u001b[0m\u001b[0mtrain\u001b[0m\u001b[1;33m(\u001b[0m\u001b[1;33m)\u001b[0m\u001b[1;33m\u001b[0m\u001b[1;33m\u001b[0m\u001b[0m\n\u001b[0;32m     26\u001b[0m \u001b[1;33m\u001b[0m\u001b[0m\n",
      "\u001b[1;32mC:\\Users\\GEBRUI~1\\AppData\\Local\\Temp/ipykernel_9620/783929878.py\u001b[0m in \u001b[0;36mget_batch\u001b[1;34m(X, Y, batch_size)\u001b[0m\n\u001b[0;32m      4\u001b[0m \u001b[1;33m\u001b[0m\u001b[0m\n\u001b[0;32m      5\u001b[0m     \u001b[0mX\u001b[0m \u001b[1;33m=\u001b[0m \u001b[0mtorch\u001b[0m\u001b[1;33m.\u001b[0m\u001b[0mtensor\u001b[0m\u001b[1;33m(\u001b[0m\u001b[0mX\u001b[0m\u001b[1;33m[\u001b[0m\u001b[0midxs\u001b[0m\u001b[1;33m]\u001b[0m\u001b[1;33m)\u001b[0m\u001b[1;33m.\u001b[0m\u001b[0mfloat\u001b[0m\u001b[1;33m(\u001b[0m\u001b[1;33m)\u001b[0m\u001b[1;33m\u001b[0m\u001b[1;33m\u001b[0m\u001b[0m\n\u001b[1;32m----> 6\u001b[1;33m     \u001b[0mY\u001b[0m \u001b[1;33m=\u001b[0m \u001b[0mtorch\u001b[0m\u001b[1;33m.\u001b[0m\u001b[0mfrom_numpy\u001b[0m\u001b[1;33m(\u001b[0m\u001b[0mY\u001b[0m\u001b[1;33m.\u001b[0m\u001b[0miloc\u001b[0m\u001b[1;33m[\u001b[0m\u001b[0midxs\u001b[0m\u001b[1;33m]\u001b[0m\u001b[1;33m.\u001b[0m\u001b[0mvalues\u001b[0m\u001b[1;33m)\u001b[0m\u001b[1;33m.\u001b[0m\u001b[0mfloat\u001b[0m\u001b[1;33m(\u001b[0m\u001b[1;33m)\u001b[0m\u001b[1;33m\u001b[0m\u001b[1;33m\u001b[0m\u001b[0m\n\u001b[0m\u001b[0;32m      7\u001b[0m \u001b[1;33m\u001b[0m\u001b[0m\n\u001b[0;32m      8\u001b[0m     \u001b[1;32mreturn\u001b[0m \u001b[0mX\u001b[0m\u001b[1;33m,\u001b[0m \u001b[0mY\u001b[0m\u001b[1;33m\u001b[0m\u001b[1;33m\u001b[0m\u001b[0m\n",
      "\u001b[1;31mKeyboardInterrupt\u001b[0m: "
     ]
    }
   ],
   "source": [
    "train_model(model1,x_train, y_train, X_val, Y_val, 1500)"
   ]
  },
  {
   "cell_type": "markdown",
   "id": "2b3768ab",
   "metadata": {},
   "source": [
    "# Neighbor function"
   ]
  },
  {
   "cell_type": "code",
   "execution_count": 247,
   "id": "708bafad",
   "metadata": {},
   "outputs": [],
   "source": [
    "def neighbor_part(model, X, idxs, w):\n",
    "    preds = model(X)\n",
    "    preds = pd.DataFrame(np.array(preds.detach())).set_index(idxs)\n",
    "    \n",
    "    neighbors = [w.neighbors[x] for x in idxs]\n",
    "    transitions = [preds.loc[x].values for x in neighbors]\n",
    "\n",
    "\n",
    "\n",
    "    n_function = np.zeros((len(preds), w.max_neighbors + 1))\n",
    "    for i, (t, idx) in enumerate(zip(transitions, idxs)):\n",
    "        n_function[i, 1:len(t) + 1] = t.squeeze()\n",
    "        n_function[i, 0] = preds.loc[idx]\n",
    "        \n",
    "    return n_function"
   ]
  },
  {
   "cell_type": "code",
   "execution_count": null,
   "id": "c8a70c37",
   "metadata": {},
   "outputs": [
    {
     "name": "stdout",
     "output_type": "stream",
     "text": [
      "epoch: 0 of 1000\n",
      "training_loss: 0.5947, acc: 0.609, recall: 0.608, precision: 0.121\n",
      "epoch: 1 of 1000\n",
      "training_loss: 0.5679, acc: 0.702, recall: 0.538, precision: 0.143\n",
      "epoch: 2 of 1000\n",
      "training_loss: 0.5505, acc: 0.717, recall: 0.496, precision: 0.148\n",
      "epoch: 3 of 1000\n",
      "training_loss: 0.5373, acc: 0.674, recall: 0.567, precision: 0.125\n",
      "epoch: 4 of 1000\n",
      "training_loss: 0.5227, acc: 0.740, recall: 0.520, precision: 0.157\n",
      "epoch: 5 of 1000\n",
      "training_loss: 0.5187, acc: 0.707, recall: 0.549, precision: 0.144\n",
      "epoch: 6 of 1000\n",
      "training_loss: 0.5057, acc: 0.709, recall: 0.537, precision: 0.132\n",
      "epoch: 7 of 1000\n",
      "training_loss: 0.4910, acc: 0.737, recall: 0.470, precision: 0.142\n",
      "epoch: 8 of 1000\n",
      "training_loss: 0.4626, acc: 0.756, recall: 0.430, precision: 0.147\n",
      "epoch: 9 of 1000\n",
      "training_loss: 0.4783, acc: 0.772, recall: 0.432, precision: 0.156\n",
      "epoch: 10 of 1000\n",
      "training_loss: 0.4588, acc: 0.769, recall: 0.417, precision: 0.154\n",
      "epoch: 11 of 1000\n",
      "training_loss: 0.4703, acc: 0.661, recall: 0.541, precision: 0.127\n",
      "epoch: 12 of 1000\n",
      "training_loss: 0.4493, acc: 0.747, recall: 0.464, precision: 0.145\n",
      "epoch: 13 of 1000\n",
      "training_loss: 0.4350, acc: 0.683, recall: 0.558, precision: 0.131\n",
      "epoch: 14 of 1000\n",
      "training_loss: 0.4179, acc: 0.677, recall: 0.547, precision: 0.136\n",
      "epoch: 15 of 1000\n",
      "training_loss: 0.4079, acc: 0.695, recall: 0.568, precision: 0.146\n",
      "epoch: 16 of 1000\n",
      "training_loss: 0.4094, acc: 0.724, recall: 0.471, precision: 0.142\n",
      "epoch: 17 of 1000\n",
      "training_loss: 0.4048, acc: 0.726, recall: 0.506, precision: 0.160\n",
      "epoch: 18 of 1000\n",
      "training_loss: 0.4055, acc: 0.743, recall: 0.432, precision: 0.123\n",
      "epoch: 19 of 1000\n",
      "training_loss: 0.3959, acc: 0.764, recall: 0.439, precision: 0.159\n",
      "epoch: 20 of 1000\n",
      "training_loss: 0.3891, acc: 0.699, recall: 0.507, precision: 0.128\n",
      "epoch: 21 of 1000\n",
      "training_loss: 0.3864, acc: 0.742, recall: 0.477, precision: 0.144\n",
      "epoch: 22 of 1000\n",
      "training_loss: 0.3712, acc: 0.740, recall: 0.436, precision: 0.134\n",
      "epoch: 23 of 1000\n",
      "training_loss: 0.3645, acc: 0.735, recall: 0.404, precision: 0.132\n",
      "epoch: 24 of 1000\n",
      "training_loss: 0.3562, acc: 0.705, recall: 0.452, precision: 0.136\n",
      "epoch: 25 of 1000\n",
      "training_loss: 0.3573, acc: 0.655, recall: 0.568, precision: 0.126\n",
      "epoch: 26 of 1000\n",
      "training_loss: 0.3521, acc: 0.677, recall: 0.540, precision: 0.128\n",
      "epoch: 27 of 1000\n",
      "training_loss: 0.3464, acc: 0.732, recall: 0.428, precision: 0.135\n",
      "epoch: 28 of 1000\n",
      "training_loss: 0.3260, acc: 0.764, recall: 0.386, precision: 0.140\n",
      "epoch: 29 of 1000\n",
      "training_loss: 0.3513, acc: 0.795, recall: 0.347, precision: 0.145\n",
      "epoch: 30 of 1000\n",
      "training_loss: 0.3447, acc: 0.774, recall: 0.454, precision: 0.162\n",
      "epoch: 31 of 1000\n",
      "training_loss: 0.3263, acc: 0.690, recall: 0.470, precision: 0.124\n",
      "epoch: 32 of 1000\n",
      "training_loss: 0.3121, acc: 0.777, recall: 0.400, precision: 0.148\n",
      "epoch: 33 of 1000\n",
      "training_loss: 0.3120, acc: 0.715, recall: 0.476, precision: 0.130\n",
      "epoch: 34 of 1000\n",
      "training_loss: 0.3164, acc: 0.746, recall: 0.452, precision: 0.148\n",
      "epoch: 35 of 1000\n",
      "training_loss: 0.3094, acc: 0.736, recall: 0.454, precision: 0.137\n",
      "epoch: 36 of 1000\n",
      "training_loss: 0.3025, acc: 0.751, recall: 0.419, precision: 0.138\n",
      "epoch: 37 of 1000\n",
      "training_loss: 0.2987, acc: 0.772, recall: 0.371, precision: 0.147\n",
      "epoch: 38 of 1000\n",
      "training_loss: 0.2958, acc: 0.749, recall: 0.426, precision: 0.135\n",
      "epoch: 39 of 1000\n",
      "training_loss: 0.2784, acc: 0.759, recall: 0.423, precision: 0.147\n",
      "epoch: 40 of 1000\n",
      "training_loss: 0.2731, acc: 0.745, recall: 0.426, precision: 0.138\n",
      "epoch: 41 of 1000\n",
      "training_loss: 0.2789, acc: 0.728, recall: 0.403, precision: 0.124\n",
      "epoch: 42 of 1000\n",
      "training_loss: 0.2610, acc: 0.772, recall: 0.406, precision: 0.153\n",
      "epoch: 43 of 1000\n",
      "training_loss: 0.2843, acc: 0.714, recall: 0.489, precision: 0.139\n",
      "epoch: 44 of 1000\n",
      "training_loss: 0.2660, acc: 0.686, recall: 0.495, precision: 0.131\n",
      "epoch: 45 of 1000\n",
      "training_loss: 0.2736, acc: 0.693, recall: 0.499, precision: 0.125\n",
      "epoch: 46 of 1000\n",
      "training_loss: 0.2620, acc: 0.773, recall: 0.384, precision: 0.137\n",
      "epoch: 47 of 1000\n",
      "training_loss: 0.2595, acc: 0.758, recall: 0.431, precision: 0.150\n",
      "epoch: 48 of 1000\n",
      "training_loss: 0.2682, acc: 0.778, recall: 0.454, precision: 0.168\n",
      "epoch: 49 of 1000\n",
      "training_loss: 0.2510, acc: 0.728, recall: 0.442, precision: 0.136\n",
      "epoch: 50 of 1000\n",
      "training_loss: 0.2450, acc: 0.745, recall: 0.412, precision: 0.134\n",
      "epoch: 51 of 1000\n",
      "training_loss: 0.2561, acc: 0.761, recall: 0.424, precision: 0.137\n",
      "epoch: 52 of 1000\n",
      "training_loss: 0.2408, acc: 0.614, recall: 0.561, precision: 0.110\n",
      "epoch: 53 of 1000\n",
      "training_loss: 0.2440, acc: 0.761, recall: 0.415, precision: 0.145\n",
      "epoch: 54 of 1000\n",
      "training_loss: 0.2489, acc: 0.774, recall: 0.397, precision: 0.142\n",
      "epoch: 55 of 1000\n",
      "training_loss: 0.2371, acc: 0.725, recall: 0.456, precision: 0.140\n",
      "epoch: 56 of 1000\n",
      "training_loss: 0.2545, acc: 0.749, recall: 0.410, precision: 0.129\n",
      "epoch: 57 of 1000\n",
      "training_loss: 0.2386, acc: 0.772, recall: 0.412, precision: 0.156\n",
      "epoch: 58 of 1000\n",
      "training_loss: 0.2308, acc: 0.748, recall: 0.428, precision: 0.141\n",
      "epoch: 59 of 1000\n",
      "training_loss: 0.2214, acc: 0.662, recall: 0.534, precision: 0.120\n",
      "epoch: 60 of 1000\n",
      "training_loss: 0.2498, acc: 0.752, recall: 0.392, precision: 0.136\n",
      "epoch: 61 of 1000\n",
      "training_loss: 0.2233, acc: 0.784, recall: 0.389, precision: 0.144\n",
      "epoch: 62 of 1000\n",
      "training_loss: 0.2229, acc: 0.756, recall: 0.379, precision: 0.129\n",
      "epoch: 63 of 1000\n",
      "training_loss: 0.2214, acc: 0.759, recall: 0.388, precision: 0.134\n",
      "epoch: 64 of 1000\n",
      "training_loss: 0.2093, acc: 0.748, recall: 0.403, precision: 0.144\n",
      "epoch: 65 of 1000\n",
      "training_loss: 0.2255, acc: 0.771, recall: 0.351, precision: 0.129\n",
      "epoch: 66 of 1000\n",
      "training_loss: 0.2052, acc: 0.801, recall: 0.296, precision: 0.142\n",
      "epoch: 67 of 1000\n",
      "training_loss: 0.2117, acc: 0.734, recall: 0.418, precision: 0.134\n",
      "epoch: 68 of 1000\n",
      "training_loss: 0.2030, acc: 0.783, recall: 0.365, precision: 0.149\n",
      "epoch: 69 of 1000\n",
      "training_loss: 0.1979, acc: 0.729, recall: 0.468, precision: 0.134\n",
      "epoch: 70 of 1000\n",
      "training_loss: 0.2056, acc: 0.678, recall: 0.528, precision: 0.126\n",
      "epoch: 71 of 1000\n",
      "training_loss: 0.1951, acc: 0.746, recall: 0.412, precision: 0.135\n",
      "epoch: 72 of 1000\n",
      "training_loss: 0.1954, acc: 0.755, recall: 0.423, precision: 0.157\n",
      "epoch: 73 of 1000\n",
      "training_loss: 0.1991, acc: 0.736, recall: 0.458, precision: 0.143\n",
      "epoch: 74 of 1000\n",
      "training_loss: 0.1867, acc: 0.798, recall: 0.330, precision: 0.155\n",
      "epoch: 75 of 1000\n",
      "training_loss: 0.1807, acc: 0.757, recall: 0.412, precision: 0.139\n",
      "epoch: 76 of 1000\n",
      "training_loss: 0.1895, acc: 0.759, recall: 0.385, precision: 0.135\n",
      "epoch: 77 of 1000\n",
      "training_loss: 0.1980, acc: 0.794, recall: 0.355, precision: 0.150\n",
      "epoch: 78 of 1000\n",
      "training_loss: 0.1757, acc: 0.697, recall: 0.450, precision: 0.124\n",
      "epoch: 79 of 1000\n",
      "training_loss: 0.1871, acc: 0.763, recall: 0.382, precision: 0.140\n",
      "epoch: 80 of 1000\n",
      "training_loss: 0.1874, acc: 0.765, recall: 0.428, precision: 0.153\n",
      "epoch: 81 of 1000\n",
      "training_loss: 0.1844, acc: 0.766, recall: 0.348, precision: 0.132\n",
      "epoch: 82 of 1000\n",
      "training_loss: 0.1725, acc: 0.746, recall: 0.415, precision: 0.147\n",
      "epoch: 83 of 1000\n",
      "training_loss: 0.1718, acc: 0.760, recall: 0.397, precision: 0.144\n",
      "epoch: 84 of 1000\n",
      "training_loss: 0.2110, acc: 0.741, recall: 0.424, precision: 0.135\n",
      "epoch: 85 of 1000\n",
      "training_loss: 0.1772, acc: 0.747, recall: 0.424, precision: 0.147\n",
      "epoch: 86 of 1000\n",
      "training_loss: 0.1624, acc: 0.714, recall: 0.448, precision: 0.126\n",
      "epoch: 87 of 1000\n",
      "training_loss: 0.1691, acc: 0.753, recall: 0.419, precision: 0.144\n",
      "epoch: 88 of 1000\n",
      "training_loss: 0.1687, acc: 0.734, recall: 0.477, precision: 0.144\n",
      "epoch: 89 of 1000\n",
      "training_loss: 0.1701, acc: 0.798, recall: 0.289, precision: 0.131\n",
      "epoch: 90 of 1000\n",
      "training_loss: 0.1798, acc: 0.764, recall: 0.364, precision: 0.137\n",
      "epoch: 91 of 1000\n",
      "training_loss: 0.1636, acc: 0.797, recall: 0.292, precision: 0.139\n",
      "epoch: 92 of 1000\n",
      "training_loss: 0.1749, acc: 0.733, recall: 0.389, precision: 0.121\n",
      "epoch: 93 of 1000\n",
      "training_loss: 0.1684, acc: 0.745, recall: 0.444, precision: 0.156\n",
      "epoch: 94 of 1000\n",
      "training_loss: 0.1577, acc: 0.773, recall: 0.378, precision: 0.142\n",
      "epoch: 95 of 1000\n",
      "training_loss: 0.1598, acc: 0.744, recall: 0.417, precision: 0.137\n",
      "epoch: 96 of 1000\n",
      "training_loss: 0.1556, acc: 0.747, recall: 0.431, precision: 0.149\n",
      "epoch: 97 of 1000\n"
     ]
    },
    {
     "name": "stdout",
     "output_type": "stream",
     "text": [
      "training_loss: 0.1637, acc: 0.701, recall: 0.457, precision: 0.119\n",
      "epoch: 98 of 1000\n",
      "training_loss: 0.1659, acc: 0.770, recall: 0.375, precision: 0.145\n",
      "epoch: 99 of 1000\n",
      "training_loss: 0.1535, acc: 0.664, recall: 0.532, precision: 0.123\n",
      "epoch: 100 of 1000\n",
      "training_loss: 0.1537, acc: 0.670, recall: 0.514, precision: 0.129\n",
      "epoch: 101 of 1000\n",
      "training_loss: 0.1606, acc: 0.750, recall: 0.402, precision: 0.137\n",
      "epoch: 102 of 1000\n",
      "training_loss: 0.1363, acc: 0.796, recall: 0.343, precision: 0.147\n",
      "epoch: 103 of 1000\n",
      "training_loss: 0.1554, acc: 0.754, recall: 0.420, precision: 0.143\n",
      "epoch: 104 of 1000\n",
      "training_loss: 0.1447, acc: 0.716, recall: 0.450, precision: 0.129\n",
      "epoch: 105 of 1000\n",
      "training_loss: 0.1765, acc: 0.739, recall: 0.401, precision: 0.127\n",
      "epoch: 106 of 1000\n",
      "training_loss: 0.1507, acc: 0.733, recall: 0.410, precision: 0.129\n",
      "epoch: 107 of 1000\n",
      "training_loss: 0.1449, acc: 0.751, recall: 0.385, precision: 0.135\n",
      "epoch: 108 of 1000\n",
      "training_loss: 0.1379, acc: 0.765, recall: 0.369, precision: 0.144\n",
      "epoch: 109 of 1000\n",
      "training_loss: 0.1560, acc: 0.734, recall: 0.451, precision: 0.137\n",
      "epoch: 110 of 1000\n",
      "training_loss: 0.1414, acc: 0.747, recall: 0.457, precision: 0.151\n",
      "epoch: 111 of 1000\n",
      "training_loss: 0.1414, acc: 0.710, recall: 0.461, precision: 0.128\n",
      "epoch: 112 of 1000\n",
      "training_loss: 0.1282, acc: 0.723, recall: 0.412, precision: 0.122\n",
      "epoch: 113 of 1000\n",
      "training_loss: 0.1336, acc: 0.773, recall: 0.321, precision: 0.122\n",
      "epoch: 114 of 1000\n",
      "training_loss: 0.1332, acc: 0.734, recall: 0.413, precision: 0.123\n",
      "epoch: 115 of 1000\n",
      "training_loss: 0.1377, acc: 0.765, recall: 0.397, precision: 0.146\n",
      "epoch: 116 of 1000\n",
      "training_loss: 0.1261, acc: 0.776, recall: 0.383, precision: 0.146\n",
      "epoch: 117 of 1000\n",
      "training_loss: 0.1373, acc: 0.778, recall: 0.354, precision: 0.143\n",
      "epoch: 118 of 1000\n",
      "training_loss: 0.1250, acc: 0.749, recall: 0.401, precision: 0.144\n",
      "epoch: 119 of 1000\n",
      "training_loss: 0.1330, acc: 0.756, recall: 0.371, precision: 0.129\n",
      "epoch: 120 of 1000\n",
      "training_loss: 0.1380, acc: 0.705, recall: 0.456, precision: 0.122\n",
      "epoch: 121 of 1000\n",
      "training_loss: 0.1189, acc: 0.798, recall: 0.316, precision: 0.148\n",
      "epoch: 122 of 1000\n",
      "training_loss: 0.1282, acc: 0.736, recall: 0.402, precision: 0.130\n",
      "epoch: 123 of 1000\n",
      "training_loss: 0.1267, acc: 0.760, recall: 0.396, precision: 0.138\n",
      "epoch: 124 of 1000\n",
      "training_loss: 0.1333, acc: 0.712, recall: 0.441, precision: 0.125\n",
      "epoch: 125 of 1000\n",
      "training_loss: 0.1282, acc: 0.765, recall: 0.441, precision: 0.150\n",
      "epoch: 126 of 1000\n",
      "training_loss: 0.1469, acc: 0.730, recall: 0.444, precision: 0.136\n",
      "epoch: 127 of 1000\n",
      "training_loss: 0.1154, acc: 0.769, recall: 0.369, precision: 0.136\n",
      "epoch: 128 of 1000\n",
      "training_loss: 0.1169, acc: 0.774, recall: 0.357, precision: 0.136\n",
      "epoch: 129 of 1000\n",
      "training_loss: 0.1462, acc: 0.744, recall: 0.399, precision: 0.135\n",
      "epoch: 130 of 1000\n",
      "training_loss: 0.1202, acc: 0.742, recall: 0.410, precision: 0.134\n",
      "epoch: 131 of 1000\n",
      "training_loss: 0.1167, acc: 0.742, recall: 0.411, precision: 0.141\n",
      "epoch: 132 of 1000\n",
      "training_loss: 0.1267, acc: 0.779, recall: 0.357, precision: 0.137\n",
      "epoch: 133 of 1000\n",
      "training_loss: 0.1139, acc: 0.830, recall: 0.255, precision: 0.155\n",
      "epoch: 134 of 1000\n",
      "training_loss: 0.1144, acc: 0.766, recall: 0.365, precision: 0.121\n",
      "epoch: 135 of 1000\n",
      "training_loss: 0.1167, acc: 0.782, recall: 0.390, precision: 0.147\n",
      "epoch: 136 of 1000\n",
      "training_loss: 0.1159, acc: 0.752, recall: 0.391, precision: 0.140\n",
      "epoch: 137 of 1000\n",
      "training_loss: 0.1235, acc: 0.738, recall: 0.437, precision: 0.140\n",
      "epoch: 138 of 1000\n",
      "training_loss: 0.1231, acc: 0.763, recall: 0.384, precision: 0.138\n",
      "epoch: 139 of 1000\n",
      "training_loss: 0.1237, acc: 0.750, recall: 0.437, precision: 0.134\n",
      "epoch: 140 of 1000\n",
      "training_loss: 0.1039, acc: 0.743, recall: 0.465, precision: 0.147\n",
      "epoch: 141 of 1000\n",
      "training_loss: 0.1160, acc: 0.770, recall: 0.316, precision: 0.131\n",
      "epoch: 142 of 1000\n",
      "training_loss: 0.1239, acc: 0.722, recall: 0.440, precision: 0.122\n",
      "epoch: 143 of 1000\n",
      "training_loss: 0.1075, acc: 0.749, recall: 0.402, precision: 0.131\n",
      "epoch: 144 of 1000\n"
     ]
    }
   ],
   "source": [
    "w15 = libpysal.weights.DistanceBand.from_dataframe(df15, threshold=150, binary = True, silence_warnings = True)\n",
    "w16 = libpysal.weights.DistanceBand.from_dataframe(df16, threshold=150, binary = True, silence_warnings = True)\n",
    "\n",
    "for mod in models:\n",
    "    hists = train_model(mod, x_train, y_train, X_val, Y_val, 1000)\n",
    "    n_function = neighbor_part(mod, X_train, df15.index, w15)\n",
    "        \n",
    "    oversample = SMOTE()\n",
    "    x, y = oversample.fit_resample(n_function, Y_train)\n",
    "\n",
    "    clf_bagger = RandomForestClassifier(max_depth = 12, oob_score = True)\n",
    "    clf_bagger.fit(x,y)\n",
    "    \n",
    "    n_function = neighbor_part(mod, X_val, df16.index, w16)\n",
    "    preds = clf_bagger.predict(n_function)\n",
    "    totacc = accuracy_score(Y_val, preds)\n",
    "    totprec = precision_score(Y_val, preds)\n",
    "    totrec = recall_score(Y_val, preds)\n",
    "    \n",
    "    \n",
    "    with open(\"results/mlp/\" + model.name + \".csv\", \"a+\") as f:\n",
    "        f.write(\"loss;acc;recall;precision\\n\")\n",
    "        f.write(str(hists[0]) + \";\" + str(hists[1]) + \";\" + str(hists[2]) + \";\" + str(hists[3]) + \"\\n\")\n",
    "        f.write(\"--;\" + str(totacc) + \";\" + str(totprec) + \";\" + str(totrec))\n",
    "    \n",
    "    \n",
    "    "
   ]
  },
  {
   "cell_type": "code",
   "execution_count": 246,
   "id": "98451a05",
   "metadata": {},
   "outputs": [],
   "source": [
    "neighbor_part(model, X_train, df15.index, w15)"
   ]
  },
  {
   "cell_type": "code",
   "execution_count": 282,
   "id": "b2950c5c",
   "metadata": {},
   "outputs": [
    {
     "data": {
      "text/plain": [
       "'een'"
      ]
     },
     "execution_count": 282,
     "metadata": {},
     "output_type": "execute_result"
    }
   ],
   "source": [
    "model.name"
   ]
  },
  {
   "cell_type": "code",
   "execution_count": 281,
   "id": "6253f75a",
   "metadata": {},
   "outputs": [
    {
     "data": {
      "text/plain": [
       "([0.7477, 0.7461],\n",
       " [0.4551122194513716, 0.45591939546599497],\n",
       " [0.1489188086495308, 0.14661806399351965],\n",
       " [0.23744001984596252, 0.2417915314435959])"
      ]
     },
     "execution_count": 281,
     "metadata": {},
     "output_type": "execute_result"
    }
   ],
   "source": [
    "hists"
   ]
  },
  {
   "cell_type": "code",
   "execution_count": 257,
   "id": "86668a62",
   "metadata": {},
   "outputs": [
    {
     "data": {
      "text/plain": [
       "15948"
      ]
     },
     "execution_count": 257,
     "metadata": {},
     "output_type": "execute_result"
    }
   ],
   "source": [
    "np.sum(preds == 1)"
   ]
  },
  {
   "cell_type": "code",
   "execution_count": 165,
   "id": "4fc9de9b",
   "metadata": {},
   "outputs": [],
   "source": [
    "# X_train = torch.from_numpy(X_train).float()\n",
    "preds = model(X_train)"
   ]
  },
  {
   "cell_type": "code",
   "execution_count": 166,
   "id": "7edf9a2b",
   "metadata": {},
   "outputs": [],
   "source": [
    "w15 = libpysal.weights.DistanceBand.from_dataframe(df15, threshold=150, binary = True, silence_warnings = True)\n"
   ]
  },
  {
   "cell_type": "code",
   "execution_count": 167,
   "id": "4589a3f8",
   "metadata": {},
   "outputs": [],
   "source": [
    "import pandas as pd\n",
    "\n",
    "preds = pd.DataFrame(np.array(preds.detach())).set_index(df15.index)"
   ]
  },
  {
   "cell_type": "code",
   "execution_count": 168,
   "id": "3b0a18ab",
   "metadata": {},
   "outputs": [],
   "source": [
    "\n",
    "# preds = pd.DataFrame(np.array(preds.detach())).set_index(ID_train)\n",
    "neighbors = [w15.neighbors[x] for x in df15.index]\n",
    "transitions = [preds.loc[x].values for x in neighbors]\n",
    "\n",
    "\n",
    "\n",
    "n_function = np.zeros((len(preds), w15.max_neighbors + 1))\n",
    "for i, (t, idx) in enumerate(zip(transitions, df15.index)):\n",
    "    n_function[i, 1:len(t) + 1] = t.squeeze()\n",
    "    n_function[i, 0] = preds.loc[idx]"
   ]
  },
  {
   "cell_type": "code",
   "execution_count": 169,
   "id": "f78e226c",
   "metadata": {
    "scrolled": true
   },
   "outputs": [
    {
     "name": "stdout",
     "output_type": "stream",
     "text": [
      "Fitting 5 folds for each of 8 candidates, totalling 40 fits\n",
      "[CV 1/5] END .......max_depth=6, oob_score=True;, score=0.855 total time=   6.5s\n",
      "[CV 2/5] END .......max_depth=6, oob_score=True;, score=0.865 total time=   6.4s\n",
      "[CV 3/5] END .......max_depth=6, oob_score=True;, score=0.863 total time=   6.5s\n",
      "[CV 4/5] END .......max_depth=6, oob_score=True;, score=0.829 total time=   6.2s\n",
      "[CV 5/5] END .......max_depth=6, oob_score=True;, score=0.833 total time=   6.2s\n",
      "[CV 1/5] END ......max_depth=6, oob_score=False;, score=0.855 total time=   5.7s\n",
      "[CV 2/5] END ......max_depth=6, oob_score=False;, score=0.865 total time=   5.9s\n",
      "[CV 3/5] END ......max_depth=6, oob_score=False;, score=0.862 total time=   6.7s\n",
      "[CV 4/5] END ......max_depth=6, oob_score=False;, score=0.829 total time=   6.1s\n",
      "[CV 5/5] END ......max_depth=6, oob_score=False;, score=0.833 total time=   6.0s\n",
      "[CV 1/5] END .......max_depth=8, oob_score=True;, score=0.853 total time=   9.3s\n",
      "[CV 2/5] END .......max_depth=8, oob_score=True;, score=0.868 total time=   8.9s\n",
      "[CV 3/5] END .......max_depth=8, oob_score=True;, score=0.864 total time=   7.3s\n",
      "[CV 4/5] END .......max_depth=8, oob_score=True;, score=0.832 total time=   8.3s\n",
      "[CV 5/5] END .......max_depth=8, oob_score=True;, score=0.836 total time=   7.0s\n",
      "[CV 1/5] END ......max_depth=8, oob_score=False;, score=0.853 total time=   6.4s\n",
      "[CV 2/5] END ......max_depth=8, oob_score=False;, score=0.867 total time=   6.5s\n",
      "[CV 3/5] END ......max_depth=8, oob_score=False;, score=0.863 total time=   6.5s\n",
      "[CV 4/5] END ......max_depth=8, oob_score=False;, score=0.831 total time=   6.0s\n",
      "[CV 5/5] END ......max_depth=8, oob_score=False;, score=0.835 total time=   5.9s\n",
      "[CV 1/5] END ......max_depth=10, oob_score=True;, score=0.852 total time=   8.0s\n",
      "[CV 2/5] END ......max_depth=10, oob_score=True;, score=0.870 total time=   7.9s\n",
      "[CV 3/5] END ......max_depth=10, oob_score=True;, score=0.867 total time=   8.1s\n",
      "[CV 4/5] END ......max_depth=10, oob_score=True;, score=0.836 total time=   7.8s\n",
      "[CV 5/5] END ......max_depth=10, oob_score=True;, score=0.838 total time=   7.9s\n",
      "[CV 1/5] END .....max_depth=10, oob_score=False;, score=0.852 total time=   7.8s\n",
      "[CV 2/5] END .....max_depth=10, oob_score=False;, score=0.870 total time=   8.7s\n",
      "[CV 3/5] END .....max_depth=10, oob_score=False;, score=0.867 total time=   8.0s\n",
      "[CV 4/5] END .....max_depth=10, oob_score=False;, score=0.835 total time=   9.2s\n",
      "[CV 5/5] END .....max_depth=10, oob_score=False;, score=0.839 total time=   7.1s\n",
      "[CV 1/5] END ......max_depth=12, oob_score=True;, score=0.852 total time=   9.3s\n",
      "[CV 2/5] END ......max_depth=12, oob_score=True;, score=0.873 total time=   9.1s\n",
      "[CV 3/5] END ......max_depth=12, oob_score=True;, score=0.870 total time=   9.1s\n",
      "[CV 4/5] END ......max_depth=12, oob_score=True;, score=0.840 total time=   8.8s\n",
      "[CV 5/5] END ......max_depth=12, oob_score=True;, score=0.844 total time=   9.0s\n",
      "[CV 1/5] END .....max_depth=12, oob_score=False;, score=0.853 total time=   8.4s\n",
      "[CV 2/5] END .....max_depth=12, oob_score=False;, score=0.872 total time=   8.4s\n",
      "[CV 3/5] END .....max_depth=12, oob_score=False;, score=0.872 total time=   8.2s\n",
      "[CV 4/5] END .....max_depth=12, oob_score=False;, score=0.841 total time=   8.1s\n",
      "[CV 5/5] END .....max_depth=12, oob_score=False;, score=0.844 total time=   8.1s\n"
     ]
    },
    {
     "data": {
      "text/plain": [
       "GridSearchCV(cv=5, estimator=RandomForestClassifier(),\n",
       "             param_grid={'max_depth': [6, 8, 10, 12],\n",
       "                         'oob_score': [True, False]},\n",
       "             scoring='balanced_accuracy', verbose=3)"
      ]
     },
     "execution_count": 169,
     "metadata": {},
     "output_type": "execute_result"
    }
   ],
   "source": [
    "params = {\"max_depth\": [12], \"oob_score\" : [True, False]}\n",
    "clf_bagger = GridSearchCV(RandomForestClassifier(), params, cv = 5, scoring = \"balanced_accuracy\",\n",
    "                               verbose = 3)\n",
    "clf_bagger = RandomForestClassifier(max_depth = 12, oob_score = True)\n",
    "oversample = SMOTE()\n",
    "x, y = oversample.fit_resample(n_function, Y_train)\n",
    "\n",
    "clf_bagger.fit(x,y)"
   ]
  },
  {
   "cell_type": "code",
   "execution_count": 170,
   "id": "08a83af4",
   "metadata": {
    "scrolled": true
   },
   "outputs": [
    {
     "data": {
      "text/plain": [
       "{'max_depth': 12, 'oob_score': False}"
      ]
     },
     "execution_count": 170,
     "metadata": {},
     "output_type": "execute_result"
    }
   ],
   "source": [
    "clf_bagger.best_params_"
   ]
  },
  {
   "cell_type": "code",
   "execution_count": 171,
   "id": "5248e2ae",
   "metadata": {},
   "outputs": [
    {
     "ename": "AttributeError",
     "evalue": "'DataFrame' object has no attribute 'detach'",
     "output_type": "error",
     "traceback": [
      "\u001b[1;31m---------------------------------------------------------------------------\u001b[0m",
      "\u001b[1;31mAttributeError\u001b[0m                            Traceback (most recent call last)",
      "\u001b[1;32mC:\\Users\\GEBRUI~1\\AppData\\Local\\Temp/ipykernel_9620/3511837816.py\u001b[0m in \u001b[0;36m<module>\u001b[1;34m\u001b[0m\n\u001b[1;32m----> 1\u001b[1;33m \u001b[0mnp\u001b[0m\u001b[1;33m.\u001b[0m\u001b[0marray\u001b[0m\u001b[1;33m(\u001b[0m\u001b[0mpreds\u001b[0m\u001b[1;33m.\u001b[0m\u001b[0mdetach\u001b[0m\u001b[1;33m(\u001b[0m\u001b[1;33m)\u001b[0m\u001b[1;33m)\u001b[0m\u001b[1;33m\u001b[0m\u001b[1;33m\u001b[0m\u001b[0m\n\u001b[0m",
      "\u001b[1;32m~\\anaconda3\\lib\\site-packages\\pandas\\core\\generic.py\u001b[0m in \u001b[0;36m__getattr__\u001b[1;34m(self, name)\u001b[0m\n\u001b[0;32m   5485\u001b[0m         ):\n\u001b[0;32m   5486\u001b[0m             \u001b[1;32mreturn\u001b[0m \u001b[0mself\u001b[0m\u001b[1;33m[\u001b[0m\u001b[0mname\u001b[0m\u001b[1;33m]\u001b[0m\u001b[1;33m\u001b[0m\u001b[1;33m\u001b[0m\u001b[0m\n\u001b[1;32m-> 5487\u001b[1;33m         \u001b[1;32mreturn\u001b[0m \u001b[0mobject\u001b[0m\u001b[1;33m.\u001b[0m\u001b[0m__getattribute__\u001b[0m\u001b[1;33m(\u001b[0m\u001b[0mself\u001b[0m\u001b[1;33m,\u001b[0m \u001b[0mname\u001b[0m\u001b[1;33m)\u001b[0m\u001b[1;33m\u001b[0m\u001b[1;33m\u001b[0m\u001b[0m\n\u001b[0m\u001b[0;32m   5488\u001b[0m \u001b[1;33m\u001b[0m\u001b[0m\n\u001b[0;32m   5489\u001b[0m     \u001b[1;32mdef\u001b[0m \u001b[0m__setattr__\u001b[0m\u001b[1;33m(\u001b[0m\u001b[0mself\u001b[0m\u001b[1;33m,\u001b[0m \u001b[0mname\u001b[0m\u001b[1;33m:\u001b[0m \u001b[0mstr\u001b[0m\u001b[1;33m,\u001b[0m \u001b[0mvalue\u001b[0m\u001b[1;33m)\u001b[0m \u001b[1;33m->\u001b[0m \u001b[1;32mNone\u001b[0m\u001b[1;33m:\u001b[0m\u001b[1;33m\u001b[0m\u001b[1;33m\u001b[0m\u001b[0m\n",
      "\u001b[1;31mAttributeError\u001b[0m: 'DataFrame' object has no attribute 'detach'"
     ]
    }
   ],
   "source": [
    "np.array(preds.detach())"
   ]
  },
  {
   "cell_type": "code",
   "execution_count": 173,
   "id": "b249875f",
   "metadata": {},
   "outputs": [],
   "source": [
    "# X_val = torch.from_numpy(X_val).float()\n",
    "preds = model(X_val)"
   ]
  },
  {
   "cell_type": "code",
   "execution_count": 174,
   "id": "91e2c519",
   "metadata": {},
   "outputs": [],
   "source": [
    "w16 = libpysal.weights.DistanceBand.from_dataframe(df16, threshold=150, binary = True, silence_warnings = True)\n"
   ]
  },
  {
   "cell_type": "code",
   "execution_count": 175,
   "id": "49d94624",
   "metadata": {},
   "outputs": [],
   "source": [
    "preds = pd.DataFrame(np.array(preds.detach())).set_index(df16.index)\n",
    "neighbors = [w16.neighbors[x] for x in df16.index]\n",
    "transitions = [preds.loc[x].values for x in neighbors]\n",
    "\n",
    "\n",
    "\n",
    "n_function = np.zeros((len(preds), w16.max_neighbors + 1))\n",
    "for i, (t, idx) in enumerate(zip(transitions, df16.index)):\n",
    "    n_function[i, 1:len(t) + 1] = t.squeeze()\n",
    "    n_function[i, 0] = preds.loc[idx]"
   ]
  },
  {
   "cell_type": "code",
   "execution_count": 176,
   "id": "ee759569",
   "metadata": {},
   "outputs": [],
   "source": [
    "preds = clf_bagger.predict(n_function)"
   ]
  },
  {
   "cell_type": "code",
   "execution_count": 177,
   "id": "0f66f06c",
   "metadata": {},
   "outputs": [
    {
     "data": {
      "text/plain": [
       "57050"
      ]
     },
     "execution_count": 177,
     "metadata": {},
     "output_type": "execute_result"
    }
   ],
   "source": [
    "len(neighbors)"
   ]
  },
  {
   "cell_type": "code",
   "execution_count": null,
   "id": "a5d8c62a",
   "metadata": {},
   "outputs": [],
   "source": []
  },
  {
   "cell_type": "code",
   "execution_count": 178,
   "id": "71e36a83",
   "metadata": {},
   "outputs": [
    {
     "data": {
      "text/plain": [
       "0.5819144337554594"
      ]
     },
     "execution_count": 178,
     "metadata": {},
     "output_type": "execute_result"
    }
   ],
   "source": [
    "clf_bagger.score(n_function, Y_val)"
   ]
  },
  {
   "cell_type": "code",
   "execution_count": 179,
   "id": "708da41b",
   "metadata": {},
   "outputs": [
    {
     "data": {
      "text/plain": [
       "0.3210421726650475"
      ]
     },
     "execution_count": 179,
     "metadata": {},
     "output_type": "execute_result"
    }
   ],
   "source": [
    "recall_score(Y_val, preds)"
   ]
  },
  {
   "cell_type": "code",
   "execution_count": 180,
   "id": "4d5b6b50",
   "metadata": {},
   "outputs": [
    {
     "data": {
      "text/plain": [
       "0.14972711358253527"
      ]
     },
     "execution_count": 180,
     "metadata": {},
     "output_type": "execute_result"
    }
   ],
   "source": [
    "precision_score(Y_val, preds)"
   ]
  },
  {
   "cell_type": "code",
   "execution_count": 246,
   "id": "653623ba",
   "metadata": {},
   "outputs": [
    {
     "data": {
      "text/plain": [
       "4529"
      ]
     },
     "execution_count": 246,
     "metadata": {},
     "output_type": "execute_result"
    }
   ],
   "source": [
    "(Y_val == 1).sum()"
   ]
  },
  {
   "cell_type": "markdown",
   "id": "785763ff",
   "metadata": {},
   "source": [
    "# No bagger on the end"
   ]
  },
  {
   "cell_type": "code",
   "execution_count": 277,
   "id": "efe1d495",
   "metadata": {},
   "outputs": [],
   "source": [
    "preds = pd.DataFrame(np.array(preds.detach())).set_index(ID_val)"
   ]
  },
  {
   "cell_type": "code",
   "execution_count": 279,
   "id": "ba4f5668",
   "metadata": {},
   "outputs": [],
   "source": [
    "preds[\"y\"] = Y_val"
   ]
  },
  {
   "cell_type": "code",
   "execution_count": 280,
   "id": "da369a99",
   "metadata": {},
   "outputs": [],
   "source": [
    "preds = preds.sort_values(by=[0], ascending = False)"
   ]
  },
  {
   "cell_type": "code",
   "execution_count": 281,
   "id": "2288054e",
   "metadata": {},
   "outputs": [
    {
     "data": {
      "text/html": [
       "<div>\n",
       "<style scoped>\n",
       "    .dataframe tbody tr th:only-of-type {\n",
       "        vertical-align: middle;\n",
       "    }\n",
       "\n",
       "    .dataframe tbody tr th {\n",
       "        vertical-align: top;\n",
       "    }\n",
       "\n",
       "    .dataframe thead th {\n",
       "        text-align: right;\n",
       "    }\n",
       "</style>\n",
       "<table border=\"1\" class=\"dataframe\">\n",
       "  <thead>\n",
       "    <tr style=\"text-align: right;\">\n",
       "      <th></th>\n",
       "      <th>0</th>\n",
       "      <th>y</th>\n",
       "    </tr>\n",
       "  </thead>\n",
       "  <tbody>\n",
       "    <tr>\n",
       "      <th>3699708.0</th>\n",
       "      <td>9.999919e-01</td>\n",
       "      <td>0.0</td>\n",
       "    </tr>\n",
       "    <tr>\n",
       "      <th>2206980.0</th>\n",
       "      <td>9.999806e-01</td>\n",
       "      <td>0.0</td>\n",
       "    </tr>\n",
       "    <tr>\n",
       "      <th>2206983.0</th>\n",
       "      <td>9.999349e-01</td>\n",
       "      <td>0.0</td>\n",
       "    </tr>\n",
       "    <tr>\n",
       "      <th>2206982.0</th>\n",
       "      <td>9.999343e-01</td>\n",
       "      <td>0.0</td>\n",
       "    </tr>\n",
       "    <tr>\n",
       "      <th>2210563.0</th>\n",
       "      <td>9.999300e-01</td>\n",
       "      <td>0.0</td>\n",
       "    </tr>\n",
       "    <tr>\n",
       "      <th>...</th>\n",
       "      <td>...</td>\n",
       "      <td>...</td>\n",
       "    </tr>\n",
       "    <tr>\n",
       "      <th>2654130.0</th>\n",
       "      <td>3.897061e-21</td>\n",
       "      <td>0.0</td>\n",
       "    </tr>\n",
       "    <tr>\n",
       "      <th>2113362.0</th>\n",
       "      <td>1.054448e-21</td>\n",
       "      <td>0.0</td>\n",
       "    </tr>\n",
       "    <tr>\n",
       "      <th>3705586.0</th>\n",
       "      <td>2.995088e-22</td>\n",
       "      <td>0.0</td>\n",
       "    </tr>\n",
       "    <tr>\n",
       "      <th>3703981.0</th>\n",
       "      <td>6.478963e-23</td>\n",
       "      <td>0.0</td>\n",
       "    </tr>\n",
       "    <tr>\n",
       "      <th>2116824.0</th>\n",
       "      <td>9.653986e-25</td>\n",
       "      <td>1.0</td>\n",
       "    </tr>\n",
       "  </tbody>\n",
       "</table>\n",
       "<p>57050 rows × 2 columns</p>\n",
       "</div>"
      ],
      "text/plain": [
       "                      0    y\n",
       "3699708.0  9.999919e-01  0.0\n",
       "2206980.0  9.999806e-01  0.0\n",
       "2206983.0  9.999349e-01  0.0\n",
       "2206982.0  9.999343e-01  0.0\n",
       "2210563.0  9.999300e-01  0.0\n",
       "...                 ...  ...\n",
       "2654130.0  3.897061e-21  0.0\n",
       "2113362.0  1.054448e-21  0.0\n",
       "3705586.0  2.995088e-22  0.0\n",
       "3703981.0  6.478963e-23  0.0\n",
       "2116824.0  9.653986e-25  1.0\n",
       "\n",
       "[57050 rows x 2 columns]"
      ]
     },
     "execution_count": 281,
     "metadata": {},
     "output_type": "execute_result"
    }
   ],
   "source": [
    "preds"
   ]
  },
  {
   "cell_type": "code",
   "execution_count": 282,
   "id": "70c91604",
   "metadata": {},
   "outputs": [],
   "source": [
    "preds[0].iloc[0:4529] = 1\n",
    "preds[0].iloc[4529:] = 0"
   ]
  },
  {
   "cell_type": "code",
   "execution_count": 283,
   "id": "4426a7b9",
   "metadata": {},
   "outputs": [
    {
     "data": {
      "text/plain": [
       "0.17244424817840584"
      ]
     },
     "execution_count": 283,
     "metadata": {},
     "output_type": "execute_result"
    }
   ],
   "source": [
    "recall_score(preds[\"y\"], preds[0])\n"
   ]
  },
  {
   "cell_type": "code",
   "execution_count": 284,
   "id": "e2e24821",
   "metadata": {},
   "outputs": [
    {
     "data": {
      "text/plain": [
       "0.17244424817840584"
      ]
     },
     "execution_count": 284,
     "metadata": {},
     "output_type": "execute_result"
    }
   ],
   "source": [
    "precision_score(preds[\"y\"], preds[0])"
   ]
  }
 ],
 "metadata": {
  "kernelspec": {
   "display_name": "Python 3 (ipykernel)",
   "language": "python",
   "name": "python3"
  },
  "language_info": {
   "codemirror_mode": {
    "name": "ipython",
    "version": 3
   },
   "file_extension": ".py",
   "mimetype": "text/x-python",
   "name": "python",
   "nbconvert_exporter": "python",
   "pygments_lexer": "ipython3",
   "version": "3.7.11"
  }
 },
 "nbformat": 4,
 "nbformat_minor": 5
}
