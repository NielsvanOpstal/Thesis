{
 "cells": [
  {
   "cell_type": "code",
   "execution_count": 1,
   "id": "29739892",
   "metadata": {},
   "outputs": [
    {
     "name": "stdout",
     "output_type": "stream",
     "text": [
      "Device: cuda:0\n"
     ]
    }
   ],
   "source": [
    "import torch\n",
    "device = torch.device(\"cuda:0\" if torch.cuda.is_available() else \"cpu\")\n",
    "print(\"Device: {}\".format(device))\n",
    "device = \"cpu\""
   ]
  },
  {
   "cell_type": "code",
   "execution_count": 2,
   "id": "d1ec31a0",
   "metadata": {},
   "outputs": [],
   "source": [
    "import numpy as np\n",
    "import os\n",
    "from get_data import get_data\n",
    "from imblearn.over_sampling import SMOTE \n",
    "from imblearn.combine import SMOTEENN\n",
    "from imblearn.under_sampling import RandomUnderSampler\n",
    "from imblearn.pipeline import Pipeline\n",
    "from imblearn.tensorflow import balanced_batch_generator\n",
    "from numpy.random import default_rng\n",
    "rng = default_rng(seed = 31)\n",
    "import pickle\n",
    "import pandas as pd\n",
    "from sklearn.ensemble import RandomForestClassifier\n",
    "from sklearn.model_selection import  GridSearchCV\n",
    "import geopandas as gpd\n",
    "import shapely\n",
    "from sklearn.metrics import recall_score, precision_score, accuracy_score, f1_score, roc_auc_score\n",
    "import libpysal\n",
    "from copy import deepcopy\n",
    "import matplotlib.pyplot as plt"
   ]
  },
  {
   "cell_type": "code",
   "execution_count": 3,
   "id": "ce305bd2",
   "metadata": {},
   "outputs": [],
   "source": [
    "from torch import nn, optim\n",
    "import scipy.ndimage as ndimage"
   ]
  },
  {
   "cell_type": "code",
   "execution_count": 4,
   "id": "fa3bf2c4",
   "metadata": {},
   "outputs": [],
   "source": [
    "# X, Y, ID = get_data(\"../Data/filled/grids/\", [2015,2016,2017,2018,2019])"
   ]
  },
  {
   "cell_type": "code",
   "execution_count": 5,
   "id": "6d24f8bc",
   "metadata": {},
   "outputs": [],
   "source": [
    "from sklearn.preprocessing import StandardScaler\n",
    "ss = StandardScaler()"
   ]
  },
  {
   "cell_type": "code",
   "execution_count": 6,
   "id": "071d3985",
   "metadata": {},
   "outputs": [],
   "source": [
    "def load_data(year):\n",
    "    os.getcwd()\n",
    "    \n",
    "    df = pd.DataFrame()\n",
    "    path = \"../Data/filled/\" + str(year) + \"/\"\n",
    "    for filename in os.listdir(path):\n",
    "        df1 = pd.read_csv(path + filename)\n",
    "        print(filename)\n",
    "        if df1.geometry.isna().any():\n",
    "            print(filename)\n",
    "        df = pd.concat([df, df1])\n",
    "    df = gpd.GeoDataFrame(df)\n",
    "    df.geometry = df.geometry.apply(shapely.wkt.loads)\n",
    "    \n",
    "    df = df.reset_index()\n",
    "    df = df.drop([\"Unnamed: 0\", \"index\"], axis = 1)\n",
    "    return df"
   ]
  },
  {
   "cell_type": "code",
   "execution_count": 7,
   "id": "0547777f",
   "metadata": {},
   "outputs": [
    {
     "name": "stdout",
     "output_type": "stream",
     "text": [
      "Nijmegen17.csv_filled_.csv\n",
      "Nijmegen18.csv_filled_.csv\n",
      "Nijmegen19.csv_filled_.csv\n"
     ]
    }
   ],
   "source": [
    "# df15 = load_data(2015)\n",
    "# df16 = load_data(2016)\n",
    "df17 = load_data(2017)\n",
    "df18 = load_data(2018)\n",
    "df19 = load_data(2019)"
   ]
  },
  {
   "cell_type": "code",
   "execution_count": 8,
   "id": "adc68eeb",
   "metadata": {},
   "outputs": [],
   "source": [
    "X_train = df17[df17.columns[:-4]]\n",
    "Y_train = df17.y\n",
    "Y1_train = df17[\"y-1\"]\n",
    "# print(X_train)\n",
    "# X_train = ss.fit_transform(X_train)\n",
    "\n",
    "X_val = df18[df18.columns[:-4]]\n",
    "Y_val = df18.y\n",
    "Y1_val = df18[\"y-1\"]\n",
    "\n",
    "wt = libpysal.weights.DistanceBand.from_dataframe(df17, threshold=150, binary = True, silence_warnings = True)\n",
    "wv =libpysal.weights.DistanceBand.from_dataframe(df18, threshold=150, binary = True, silence_warnings = True)\n",
    "\n",
    "X_test = df19[df19.columns[:-4]]\n",
    "Y_test = df19.y\n",
    "Y1_test = df19[\"y-1\"]\n",
    "\n",
    "wtest = libpysal.weights.DistanceBand.from_dataframe(df19, threshold=150, binary = True, silence_warnings = True)"
   ]
  },
  {
   "cell_type": "code",
   "execution_count": 9,
   "id": "ac95daf6",
   "metadata": {},
   "outputs": [],
   "source": [
    "neighbors = [wt.neighbors[x] for x in wt.neighbors]\n",
    "Y1_train = np.array([Y1_train[x].sum() for x in neighbors])\n",
    "Y1_train[np.where(Y1_train == 0)[0]] = 0.5\n",
    "\n",
    "neighbors = [wv.neighbors[x] for x in wv.neighbors]\n",
    "Y1_val = np.array([Y1_val[x].sum() for x in neighbors])\n",
    "Y1_val[np.where(Y1_val == 0)[0]] = 0.5\n",
    "\n",
    "neighbors = [wtest.neighbors[x] for x in wtest.neighbors]\n",
    "Y1_test = np.array([Y1_test[x].sum() for x in neighbors])\n",
    "Y1_test[np.where(Y1_test == 0)[0]] = 0.5\n"
   ]
  },
  {
   "cell_type": "code",
   "execution_count": 10,
   "id": "6f4c43c6",
   "metadata": {},
   "outputs": [],
   "source": [
    "X_train = ss.fit_transform(X_train)\n",
    "X_train[:,-1] = Y1_train\n",
    "X_val = ss.transform(X_val)\n",
    "X_val[:,-1] = Y1_val\n",
    "X_test = ss.transform(X_test)\n",
    "X_test[:,-1] = Y1_test\n"
   ]
  },
  {
   "cell_type": "code",
   "execution_count": 11,
   "id": "66b25ca2",
   "metadata": {},
   "outputs": [],
   "source": [
    "oversample = SMOTE()\n",
    "x, y =  oversample.fit_resample(X_train, Y_train)"
   ]
  },
  {
   "cell_type": "code",
   "execution_count": 12,
   "id": "0362c392",
   "metadata": {},
   "outputs": [],
   "source": [
    "x[x[:,-1]>0.5][:,-1] =  np.ceil(x[x[:,-1] > 0.5][:,-1]) # 0.5 means no neighbors, otherwise make int\n",
    "\n",
    "\n",
    "x = torch.tensor(x).float().to(device)\n",
    "y = torch.tensor(y).float().to(device)\n",
    "X_val = torch.tensor(X_val).float().to(device)\n",
    "Y_val = torch.tensor(Y_val).float().to(device)"
   ]
  },
  {
   "cell_type": "code",
   "execution_count": 13,
   "id": "6872ddc7",
   "metadata": {},
   "outputs": [],
   "source": [
    "X_test = torch.tensor(X_test).float().to(device)\n",
    "Y_test = torch.tensor(Y_test).float().to(device)"
   ]
  },
  {
   "cell_type": "code",
   "execution_count": 14,
   "id": "f2ab3eab",
   "metadata": {},
   "outputs": [],
   "source": [
    "rng = default_rng()\n",
    "def get_batch(X, Y, batch_size = 32):\n",
    "    idxs = rng.integers(len(X), size = batch_size)\n",
    "    return X[idxs], Y[idxs]\n",
    "\n"
   ]
  },
  {
   "cell_type": "code",
   "execution_count": null,
   "id": "d577aff7",
   "metadata": {},
   "outputs": [],
   "source": []
  },
  {
   "cell_type": "code",
   "execution_count": 15,
   "id": "225c26e2",
   "metadata": {},
   "outputs": [],
   "source": [
    " # best auc: 0.675, f1: 0.476, lr: 0.00000051, epochs: 10000\n",
    "class Model(nn.Module):\n",
    "    def __init__(self,  drop_rate = 0.2):\n",
    "        super(Model, self).__init__()\n",
    "        self.net = nn.Sequential(\n",
    "            nn.Linear(39,100),\n",
    "            nn.Dropout(0.3),\n",
    "            nn.ReLU(),\n",
    "            nn.Linear(100,250),\n",
    "            nn.Dropout(0.3),\n",
    "            nn.ReLU(),\n",
    "            nn.Linear(250,100),\n",
    "            nn.ReLU(),\n",
    "            nn.Linear(100,1)\n",
    "             )\n",
    "\n",
    "        self.final = nn.Sigmoid()\n",
    "\n",
    "    def forward(self, x):\n",
    "        Y_1 = x[:,-1].reshape(-1,1) # take yt-1 of neighbors\n",
    "        x = x[:,:-1]\n",
    "        out = self.net(x) # get p\n",
    "        \n",
    "        out *= Y_1 # multiply with yt-1\n",
    "\n",
    "        return out\n",
    "       "
   ]
  },
  {
   "cell_type": "code",
   "execution_count": 16,
   "id": "edb35e29",
   "metadata": {},
   "outputs": [],
   "source": [
    "class Model1(nn.Module):\n",
    "    def __init__(self,  drop_rate = 0.2):\n",
    "        super(Model1, self).__init__()\n",
    "        self.net = nn.Sequential(\n",
    "            nn.Linear(39,100),\n",
    "            nn.Dropout(0.4),\n",
    "            nn.ReLU(),\n",
    "            nn.Linear(100,50),\n",
    "            nn.Dropout(0.4),\n",
    "            nn.ReLU(),\n",
    "            nn.Linear(50,1)\n",
    "             )\n",
    "\n",
    "        self.final = nn.Sigmoid()\n",
    "\n",
    "    def forward(self, x):\n",
    "        Y_1 = x[:,-1].reshape(-1,1) # take yt-1 of neighbors\n",
    "        x = x[:,:-1]\n",
    "        out = self.net(x) # get p\n",
    "        \n",
    "        out *= Y_1 # multiply with yt-1\n",
    "\n",
    "        return out\n",
    "       "
   ]
  },
  {
   "cell_type": "code",
   "execution_count": 17,
   "id": "1d2ca102",
   "metadata": {},
   "outputs": [],
   "source": [
    " # best auc: 0.675, f1: 0.476, lr: 0.00000051, epochs: 10000\n",
    "class Model2(nn.Module):\n",
    "    def __init__(self,  drop_rate = 0.2):\n",
    "        super(Model2, self).__init__()\n",
    "        self.net = nn.Sequential(\n",
    "            nn.Linear(39,150),\n",
    "            nn.Dropout(0.3),\n",
    "            nn.ReLU(),\n",
    "            nn.Linear(150,500),\n",
    "            nn.Dropout(0.3),\n",
    "            nn.ReLU(),\n",
    "            nn.Linear(500,100),\n",
    "            nn.ReLU(),\n",
    "            nn.Linear(100,1)\n",
    "             )\n",
    "\n",
    "        self.final = nn.Sigmoid()\n",
    "\n",
    "    def forward(self, x):\n",
    "        Y_1 = x[:,-1].reshape(-1,1) # take yt-1 of neighbors\n",
    "        x = x[:,:-1]\n",
    "        out = self.net(x) # get p\n",
    "        \n",
    "        out *= Y_1 # multiply with yt-1\n",
    "\n",
    "        return out\n",
    "       "
   ]
  },
  {
   "cell_type": "code",
   "execution_count": 18,
   "id": "ff998a41",
   "metadata": {},
   "outputs": [],
   "source": [
    " # best auc: 0.675, f1: 0.476, lr: 0.00000051, epochs: 10000\n",
    "class Model3(nn.Module):\n",
    "    def __init__(self,  drop_rate = 0.2):\n",
    "        super(Model3, self).__init__()\n",
    "        self.net = nn.Sequential(\n",
    "            nn.Linear(39,100),\n",
    "            nn.Dropout(0.3),\n",
    "            nn.ReLU(),\n",
    "            nn.Linear(100,1)\n",
    "             )\n",
    "\n",
    "        self.final = nn.Sigmoid()\n",
    "\n",
    "    def forward(self, x):\n",
    "        Y_1 = x[:,-1].reshape(-1,1) # take yt-1 of neighbors\n",
    "        x = x[:,:-1]\n",
    "        out = self.net(x) # get p\n",
    "        \n",
    "        out *= Y_1 # multiply with yt-1\n",
    "\n",
    "        return out\n",
    "       "
   ]
  },
  {
   "cell_type": "code",
   "execution_count": 19,
   "id": "746a8dae",
   "metadata": {},
   "outputs": [],
   "source": [
    " # best auc: 0.675, f1: 0.476, lr: 0.00000051, epochs: 10000\n",
    "class Model4(nn.Module):\n",
    "    def __init__(self,  drop_rate = 0.2):\n",
    "        super(Model4, self).__init__()\n",
    "        self.net = nn.Sequential(\n",
    "            nn.Linear(39,40),\n",
    "            nn.Dropout(0.3),\n",
    "            nn.ReLU(),\n",
    "            nn.Linear(40,80),\n",
    "            nn.Dropout(0.3),\n",
    "            nn.ReLU(),\n",
    "            nn.Linear(80,1)\n",
    "             )\n",
    "\n",
    "        self.final = nn.Sigmoid()\n",
    "\n",
    "    def forward(self, x):\n",
    "        Y_1 = x[:,-1].reshape(-1,1) # take yt-1 of neighbors\n",
    "        x = x[:,:-1]\n",
    "        out = self.net(x) # get p\n",
    "        \n",
    "        out *= Y_1 # multiply with yt-1\n",
    "\n",
    "        return out\n",
    "       "
   ]
  },
  {
   "cell_type": "code",
   "execution_count": 20,
   "id": "087b2a00",
   "metadata": {},
   "outputs": [],
   "source": [
    "model = Model().to(device)\n",
    "model1 = Model1().to(device)\n",
    "model2 = Model2().to(device)\n",
    "model3 = Model3().to(device)\n",
    "model4 = Model4().to(device)\n",
    "\n",
    "models = [model, model1, model2, model3, model4]\n",
    "# models = [model]"
   ]
  },
  {
   "cell_type": "code",
   "execution_count": 21,
   "id": "6219a26b",
   "metadata": {},
   "outputs": [],
   "source": [
    "def train(models, X_train, Y_train, Y1_train, X_val, Y_val, Y1_val, num_epochs, lr, batch_per_e = 100 ):\n",
    "\n",
    "    best_auc, best_f1, best_model, best_epoch, best_lr = 0,0,0,0,0\n",
    "    \n",
    "    for i, model in enumerate(models):\n",
    "        for lr in [0.00000051, 0.0000051]:\n",
    "#         for lr in [0.0000051]:\n",
    "            optimizer = optim.Adam(model.parameters(), lr=lr) \n",
    "            SigBCEloss = nn.BCEWithLogitsLoss()\n",
    "            ROC_history = []\n",
    "\n",
    "            for epoch in range(num_epochs):\n",
    "                epoch_loss = []\n",
    "#                 print(\"epoch: {} of {}\".format(epoch, num_epochs))\n",
    "                for batch in range(batch_per_e):\n",
    "\n",
    "                    x, y = get_batch(X_train, Y_train, 6)\n",
    "\n",
    "                    model.train()\n",
    "\n",
    "                    optimizer.zero_grad()\n",
    "                    out = model(x).squeeze()\n",
    "\n",
    "\n",
    "                    loss = SigBCEloss(out, y)\n",
    "                    loss.backward()\n",
    "                    optimizer.step()\n",
    "\n",
    "\n",
    "                    epoch_loss.append(loss.detach().numpy())\n",
    "\n",
    "                model.eval()\n",
    "\n",
    "                out = model(X_val)\n",
    "                ROC = roc_auc_score(Y_val, model.final(out).detach().numpy())\n",
    "                out = out.squeeze().detach().numpy()\n",
    "\n",
    "                preds = np.zeros(len(out))\n",
    "                pos = out.argsort()[-((Y_val == 1).sum()):]\n",
    "                preds[pos] = 1\n",
    "                \n",
    "                f1 = f1_score(Y_val, preds)\n",
    "\n",
    "                ROC_history.append(ROC)\n",
    "\n",
    "                if ROC > best_auc:\n",
    "                    print(\"model: {}, ROC:{}, f1: {}, lr: {}, epoch = {}\".format(i, ROC, f1, lr, epoch))\n",
    "                    best_auc = ROC\n",
    "                    best_f1 = f1\n",
    "                    best_model = deepcopy(model.state_dict())\n",
    "                    best_epoch = epoch\n",
    "                    best_lr = lr\n",
    "\n",
    "                train_loss = []\n",
    "                          \n",
    "            print(np.max(ROC_history), np.argmax(ROC_history), lr)\n",
    "            plt.plot(ROC_history, alpha = 0.5)\n",
    "            plt.hlines(np.mean(ROC_history), 0, n_epochs, color = \"r\") \n",
    "            linear_model=np.polyfit(range(n_epochs), ROC_history, 2)\n",
    "            linear_model_fn=np.poly1d(linear_model)\n",
    "            x_s=np.arange(0,n_epochs)\n",
    "            plt.plot(linear_model_fn(x_s))  \n",
    "            plt.show()\n",
    "                          \n",
    "    result = np.argmax(ROC_history)\n",
    "    return best_auc, best_f1, best_model, best_epoch"
   ]
  },
  {
   "cell_type": "code",
   "execution_count": 22,
   "id": "8bf14090",
   "metadata": {},
   "outputs": [
    {
     "name": "stdout",
     "output_type": "stream",
     "text": [
      "model: 0, ROC:0.6692309127223646, f1: 0.1917808219178082, lr: 5.1e-07, epoch = 0\n",
      "model: 0, ROC:0.6712861735905975, f1: 0.1917808219178082, lr: 5.1e-07, epoch = 1\n",
      "model: 0, ROC:0.6728724219300665, f1: 0.1917808219178082, lr: 5.1e-07, epoch = 2\n",
      "model: 0, ROC:0.6744293569864879, f1: 0.1963470319634703, lr: 5.1e-07, epoch = 3\n",
      "model: 0, ROC:0.6755139484592538, f1: 0.1963470319634703, lr: 5.1e-07, epoch = 4\n",
      "model: 0, ROC:0.6772414335261346, f1: 0.20091324200913238, lr: 5.1e-07, epoch = 5\n",
      "model: 0, ROC:0.6791507941901073, f1: 0.20091324200913238, lr: 5.1e-07, epoch = 6\n",
      "model: 0, ROC:0.6808389728092651, f1: 0.20091324200913238, lr: 5.1e-07, epoch = 7\n",
      "model: 0, ROC:0.6819062427965938, f1: 0.20091324200913238, lr: 5.1e-07, epoch = 8\n",
      "model: 0, ROC:0.683279969833967, f1: 0.20091324200913238, lr: 5.1e-07, epoch = 9\n",
      "model: 0, ROC:0.6840727608982122, f1: 0.20091324200913238, lr: 5.1e-07, epoch = 10\n",
      "model: 0, ROC:0.6850587531461811, f1: 0.20091324200913238, lr: 5.1e-07, epoch = 11\n",
      "model: 0, ROC:0.686245274898636, f1: 0.2054794520547945, lr: 5.1e-07, epoch = 12\n",
      "model: 0, ROC:0.6876210005689443, f1: 0.2054794520547945, lr: 5.1e-07, epoch = 13\n",
      "model: 0, ROC:0.6887155852063854, f1: 0.2054794520547945, lr: 5.1e-07, epoch = 14\n",
      "model: 0, ROC:0.6899274229760178, f1: 0.20091324200913238, lr: 5.1e-07, epoch = 15\n",
      "model: 0, ROC:0.6911885603580484, f1: 0.20091324200913238, lr: 5.1e-07, epoch = 16\n",
      "model: 0, ROC:0.6923704186336546, f1: 0.20091324200913238, lr: 5.1e-07, epoch = 17\n",
      "model: 0, ROC:0.6935209649932779, f1: 0.20091324200913238, lr: 5.1e-07, epoch = 18\n",
      "model: 0, ROC:0.6946175482636542, f1: 0.20091324200913238, lr: 5.1e-07, epoch = 19\n",
      "model: 0, ROC:0.6958620303712262, f1: 0.20091324200913238, lr: 5.1e-07, epoch = 20\n",
      "model: 0, ROC:0.6966308378402506, f1: 0.20091324200913238, lr: 5.1e-07, epoch = 21\n",
      "model: 0, ROC:0.6972737314343656, f1: 0.20091324200913238, lr: 5.1e-07, epoch = 22\n",
      "model: 0, ROC:0.697925285771199, f1: 0.20091324200913238, lr: 5.1e-07, epoch = 23\n",
      "model: 0, ROC:0.6984775746722575, f1: 0.2054794520547945, lr: 5.1e-07, epoch = 24\n",
      "model: 0, ROC:0.6990245338854889, f1: 0.2054794520547945, lr: 5.1e-07, epoch = 25\n",
      "model: 0, ROC:0.6998619610852843, f1: 0.2054794520547945, lr: 5.1e-07, epoch = 26\n",
      "model: 0, ROC:0.700487533193962, f1: 0.2054794520547945, lr: 5.1e-07, epoch = 27\n",
      "model: 0, ROC:0.701249678553203, f1: 0.2054794520547945, lr: 5.1e-07, epoch = 28\n",
      "model: 0, ROC:0.7018625926532918, f1: 0.20091324200913238, lr: 5.1e-07, epoch = 29\n",
      "model: 0, ROC:0.7022603206073712, f1: 0.20091324200913238, lr: 5.1e-07, epoch = 30\n",
      "model: 0, ROC:0.7030404536630278, f1: 0.20091324200913238, lr: 5.1e-07, epoch = 31\n",
      "model: 0, ROC:0.7034408464610207, f1: 0.20091324200913238, lr: 5.1e-07, epoch = 32\n",
      "model: 0, ROC:0.7040184513792566, f1: 0.20091324200913238, lr: 5.1e-07, epoch = 33\n",
      "model: 0, ROC:0.7044994557056307, f1: 0.20091324200913238, lr: 5.1e-07, epoch = 34\n",
      "model: 0, ROC:0.7049504805379786, f1: 0.20091324200913238, lr: 5.1e-07, epoch = 35\n",
      "model: 0, ROC:0.705290248136941, f1: 0.20091324200913238, lr: 5.1e-07, epoch = 36\n",
      "model: 0, ROC:0.7056633262848212, f1: 0.20091324200913238, lr: 5.1e-07, epoch = 37\n",
      "model: 0, ROC:0.7059871048203028, f1: 0.20091324200913238, lr: 5.1e-07, epoch = 38\n",
      "model: 0, ROC:0.7065993527094134, f1: 0.20091324200913238, lr: 5.1e-07, epoch = 39\n",
      "model: 0, ROC:0.7068585087799946, f1: 0.20091324200913238, lr: 5.1e-07, epoch = 40\n",
      "model: 0, ROC:0.7072362504047232, f1: 0.20091324200913238, lr: 5.1e-07, epoch = 41\n",
      "model: 0, ROC:0.7074107976810529, f1: 0.20091324200913238, lr: 5.1e-07, epoch = 42\n",
      "model: 0, ROC:0.7079217815014529, f1: 0.20091324200913238, lr: 5.1e-07, epoch = 43\n",
      "model: 0, ROC:0.7083015217591166, f1: 0.20091324200913238, lr: 5.1e-07, epoch = 44\n",
      "model: 0, ROC:0.7084787338793597, f1: 0.20091324200913238, lr: 5.1e-07, epoch = 45\n",
      "model: 0, ROC:0.7087905206172311, f1: 0.20091324200913238, lr: 5.1e-07, epoch = 46\n",
      "model: 0, ROC:0.708950411252037, f1: 0.20091324200913238, lr: 5.1e-07, epoch = 47\n",
      "model: 0, ROC:0.709116297785648, f1: 0.20091324200913238, lr: 5.1e-07, epoch = 48\n",
      "model: 0, ROC:0.7093061679144799, f1: 0.20091324200913238, lr: 5.1e-07, epoch = 49\n",
      "model: 0, ROC:0.7095626591411475, f1: 0.2054794520547945, lr: 5.1e-07, epoch = 50\n",
      "model: 0, ROC:0.7097005648136675, f1: 0.2054794520547945, lr: 5.1e-07, epoch = 51\n",
      "model: 0, ROC:0.709875112089997, f1: 0.2054794520547945, lr: 5.1e-07, epoch = 52\n",
      "model: 0, ROC:0.7100150163954521, f1: 0.2054794520547945, lr: 5.1e-07, epoch = 53\n",
      "model: 0, ROC:0.7100416648345865, f1: 0.2054794520547945, lr: 5.1e-07, epoch = 54\n",
      "model: 0, ROC:0.7101609165997125, f1: 0.2054794520547945, lr: 5.1e-07, epoch = 55\n",
      "model: 0, ROC:0.7102135472670027, f1: 0.2054794520547945, lr: 5.1e-07, epoch = 57\n",
      "model: 0, ROC:0.7102921601624489, f1: 0.2054794520547945, lr: 5.1e-07, epoch = 58\n",
      "model: 0, ROC:0.7103547839944144, f1: 0.2054794520547945, lr: 5.1e-07, epoch = 59\n",
      "model: 0, ROC:0.7104860275571508, f1: 0.2054794520547945, lr: 5.1e-07, epoch = 60\n",
      "model: 0, ROC:0.710573967406294, f1: 0.2054794520547945, lr: 5.1e-07, epoch = 61\n",
      "model: 0, ROC:0.7106619072554372, f1: 0.2054794520547945, lr: 5.1e-07, epoch = 62\n",
      "model: 0, ROC:0.7107498471045804, f1: 0.21004566210045658, lr: 5.1e-07, epoch = 63\n",
      "model: 0, ROC:0.710801145349914, f1: 0.2054794520547945, lr: 5.1e-07, epoch = 64\n",
      "model: 0, ROC:0.7108597719160095, f1: 0.2054794520547945, lr: 5.1e-07, epoch = 65\n",
      "model: 0, ROC:0.7108704312916632, f1: 0.2054794520547945, lr: 5.1e-07, epoch = 67\n",
      "model: 0, ROC:0.7109277254358018, f1: 0.2054794520547945, lr: 5.1e-07, epoch = 68\n",
      "model: 0, ROC:0.7109710291493951, f1: 0.2054794520547945, lr: 5.1e-07, epoch = 69\n",
      "model: 0, ROC:0.7110989416572397, f1: 0.2054794520547945, lr: 5.1e-07, epoch = 70\n",
      "model: 0, ROC:0.7111722248648591, f1: 0.2054794520547945, lr: 5.1e-07, epoch = 71\n",
      "model: 0, ROC:0.7111728910758376, f1: 0.20091324200913238, lr: 5.1e-07, epoch = 97\n",
      "model: 0, ROC:0.7111882139283396, f1: 0.20091324200913238, lr: 5.1e-07, epoch = 98\n",
      "model: 0, ROC:0.7112015381479069, f1: 0.2054794520547945, lr: 5.1e-07, epoch = 102\n",
      "model: 0, ROC:0.7112768199884613, f1: 0.2054794520547945, lr: 5.1e-07, epoch = 103\n",
      "model: 0, ROC:0.7113187912800978, f1: 0.2054794520547945, lr: 5.1e-07, epoch = 104\n",
      "model: 0, ROC:0.7113614287827127, f1: 0.21004566210045658, lr: 5.1e-07, epoch = 107\n",
      "model: 0, ROC:0.711425385036635, f1: 0.21004566210045658, lr: 5.1e-07, epoch = 108\n",
      "model: 0, ROC:0.7114367106232671, f1: 0.21004566210045658, lr: 5.1e-07, epoch = 109\n",
      "model: 0, ROC:0.7114866764466439, f1: 0.21004566210045658, lr: 5.1e-07, epoch = 110\n",
      "model: 0, ROC:0.711522651839475, f1: 0.2054794520547945, lr: 5.1e-07, epoch = 115\n",
      "model: 0, ROC:0.7115419719578475, f1: 0.21004566210045658, lr: 5.1e-07, epoch = 125\n",
      "model: 0, ROC:0.7115566285993714, f1: 0.21004566210045658, lr: 5.1e-07, epoch = 126\n",
      "0.7115566285993714 126 5.1e-07\n"
     ]
    },
    {
     "data": {
      "image/png": "[encoded data removed]",
      "text/plain": [
       "<Figure size 432x288 with 1 Axes>"
      ]
     },
     "metadata": {
      "needs_background": "light"
     },
     "output_type": "display_data"
    },
    {
     "name": "stdout",
     "output_type": "stream",
     "text": [
      "model: 0, ROC:0.7116199186423153, f1: 0.2420091324200913, lr: 5.1e-06, epoch = 550\n",
      "model: 0, ROC:0.7117078584914585, f1: 0.2420091324200913, lr: 5.1e-06, epoch = 551\n",
      "model: 0, ROC:0.7117891362308181, f1: 0.2420091324200913, lr: 5.1e-06, epoch = 552\n",
      "model: 0, ROC:0.7120336356598753, f1: 0.2420091324200913, lr: 5.1e-06, epoch = 553\n",
      "model: 0, ROC:0.7120616165209663, f1: 0.2420091324200913, lr: 5.1e-06, epoch = 554\n",
      "model: 0, ROC:0.71207227589662, f1: 0.2420091324200913, lr: 5.1e-06, epoch = 556\n",
      "model: 0, ROC:0.7121082512894514, f1: 0.2420091324200913, lr: 5.1e-06, epoch = 557\n",
      "model: 0, ROC:0.7122081829362049, f1: 0.2420091324200913, lr: 5.1e-06, epoch = 558\n",
      "model: 0, ROC:0.7123734032588377, f1: 0.2374429223744292, lr: 5.1e-06, epoch = 559\n",
      "model: 0, ROC:0.7125965839365873, f1: 0.2374429223744292, lr: 5.1e-06, epoch = 560\n",
      "model: 0, ROC:0.7126025798353925, f1: 0.2420091324200913, lr: 5.1e-06, epoch = 568\n",
      "model: 0, ROC:0.7126811927308387, f1: 0.2374429223744292, lr: 5.1e-06, epoch = 574\n",
      "model: 0, ROC:0.7128210970362937, f1: 0.2374429223744292, lr: 5.1e-06, epoch = 579\n",
      "model: 0, ROC:0.7128977112988049, f1: 0.2374429223744292, lr: 5.1e-06, epoch = 585\n",
      "model: 0, ROC:0.7129903146247966, f1: 0.2374429223744292, lr: 5.1e-06, epoch = 586\n",
      "model: 0, ROC:0.7130202941188227, f1: 0.2374429223744292, lr: 5.1e-06, epoch = 587\n",
      "model: 0, ROC:0.7130735909970913, f1: 0.2374429223744292, lr: 5.1e-06, epoch = 588\n",
      "model: 0, ROC:0.7131502052596024, f1: 0.2328767123287671, lr: 5.1e-06, epoch = 589\n",
      "model: 0, ROC:0.713166194323083, f1: 0.2374429223744292, lr: 5.1e-06, epoch = 590\n",
      "model: 0, ROC:0.7132894433540792, f1: 0.2328767123287671, lr: 5.1e-06, epoch = 592\n",
      "model: 0, ROC:0.713290775776036, f1: 0.2328767123287671, lr: 5.1e-06, epoch = 593\n",
      "model: 0, ROC:0.7132994365187545, f1: 0.2328767123287671, lr: 5.1e-06, epoch = 597\n",
      "model: 0, ROC:0.7134713189511707, f1: 0.2328767123287671, lr: 5.1e-06, epoch = 598\n",
      "model: 0, ROC:0.7136045611468422, f1: 0.2328767123287671, lr: 5.1e-06, epoch = 600\n",
      "model: 0, ROC:0.7136925009959855, f1: 0.2328767123287671, lr: 5.1e-06, epoch = 601\n",
      "model: 0, ROC:0.7137038265826173, f1: 0.2328767123287671, lr: 5.1e-06, epoch = 603\n",
      "model: 0, ROC:0.7137444654522973, f1: 0.2328767123287671, lr: 5.1e-06, epoch = 636\n",
      "model: 0, ROC:0.7138104203391546, f1: 0.2328767123287671, lr: 5.1e-06, epoch = 637\n",
      "model: 0, ROC:0.7139216775725403, f1: 0.2328767123287671, lr: 5.1e-06, epoch = 638\n",
      "model: 0, ROC:0.7139250086274321, f1: 0.2374429223744292, lr: 5.1e-06, epoch = 643\n",
      "model: 0, ROC:0.7140256064851641, f1: 0.2374429223744292, lr: 5.1e-06, epoch = 644\n",
      "model: 0, ROC:0.7140689101987574, f1: 0.2328767123287671, lr: 5.1e-06, epoch = 646\n",
      "model: 0, ROC:0.7140895627390864, f1: 0.2374429223744292, lr: 5.1e-06, epoch = 674\n",
      "model: 0, ROC:0.7140928937939783, f1: 0.2374429223744292, lr: 5.1e-06, epoch = 675\n",
      "model: 0, ROC:0.7140975572708267, f1: 0.2374429223744292, lr: 5.1e-06, epoch = 676\n",
      "model: 0, ROC:0.7141888281748617, f1: 0.2328767123287671, lr: 5.1e-06, epoch = 678\n",
      "model: 0, ROC:0.714206149660299, f1: 0.2328767123287671, lr: 5.1e-06, epoch = 699\n",
      "model: 0, ROC:0.7142994191972689, f1: 0.2328767123287671, lr: 5.1e-06, epoch = 700\n",
      "model: 0, ROC:0.7143433891218407, f1: 0.2328767123287671, lr: 5.1e-06, epoch = 701\n",
      "model: 0, ROC:0.7145552442129582, f1: 0.2328767123287671, lr: 5.1e-06, epoch = 702\n",
      "model: 0, ROC:0.7145765629642656, f1: 0.2374429223744292, lr: 5.1e-06, epoch = 703\n",
      "model: 0, ROC:0.7145872223399197, f1: 0.2328767123287671, lr: 5.1e-06, epoch = 709\n",
      "model: 0, ROC:0.7148457121995222, f1: 0.2374429223744292, lr: 5.1e-06, epoch = 711\n",
      "model: 0, ROC:0.7148650323178944, f1: 0.2374429223744292, lr: 5.1e-06, epoch = 712\n",
      "model: 0, ROC:0.7148996752887692, f1: 0.2374429223744292, lr: 5.1e-06, epoch = 713\n",
      "model: 0, ROC:0.714951639745081, f1: 0.2374429223744292, lr: 5.1e-06, epoch = 717\n",
      "model: 0, ROC:0.7150802184639041, f1: 0.2374429223744292, lr: 5.1e-06, epoch = 718\n",
      "model: 0, ROC:0.7152127944485971, f1: 0.2420091324200913, lr: 5.1e-06, epoch = 719\n",
      "model: 0, ROC:0.7153493676991605, f1: 0.2374429223744292, lr: 5.1e-06, epoch = 720\n",
      "model: 0, ROC:0.7154079942652558, f1: 0.2420091324200913, lr: 5.1e-06, epoch = 736\n",
      "model: 0, ROC:0.7154279805946065, f1: 0.2374429223744292, lr: 5.1e-06, epoch = 739\n",
      "0.7154279805946065 739 5.1e-06\n"
     ]
    },
    {
     "data": {
      "image/png": "[encoded data removed]",
      "text/plain": [
       "<Figure size 432x288 with 1 Axes>"
      ]
     },
     "metadata": {
      "needs_background": "light"
     },
     "output_type": "display_data"
    },
    {
     "name": "stdout",
     "output_type": "stream",
     "text": [
      "0.6872659101174796 749 5.1e-07\n"
     ]
    },
    {
     "data": {
      "image/png": "[encoded data removed]",
      "text/plain": [
       "<Figure size 432x288 with 1 Axes>"
      ]
     },
     "metadata": {
      "needs_background": "light"
     },
     "output_type": "display_data"
    },
    {
     "name": "stdout",
     "output_type": "stream",
     "text": [
      "0.6994622344982699 715 5.1e-06\n"
     ]
    },
    {
     "data": {
      "image/png": "[encoded data removed]",
      "text/plain": [
       "<Figure size 432x288 with 1 Axes>"
      ]
     },
     "metadata": {
      "needs_background": "light"
     },
     "output_type": "display_data"
    },
    {
     "name": "stdout",
     "output_type": "stream",
     "text": [
      "0.7098311421654254 503 5.1e-07\n"
     ]
    },
    {
     "data": {
      "image/png": "[encoded data removed]",
      "text/plain": [
       "<Figure size 432x288 with 1 Axes>"
      ]
     },
     "metadata": {
      "needs_background": "light"
     },
     "output_type": "display_data"
    },
    {
     "name": "stdout",
     "output_type": "stream",
     "text": [
      "0.7085566805638277 615 5.1e-06\n"
     ]
    },
    {
     "data": {
      "image/png": "[encoded data removed]",
      "text/plain": [
       "<Figure size 432x288 with 1 Axes>"
      ]
     },
     "metadata": {
      "needs_background": "light"
     },
     "output_type": "display_data"
    },
    {
     "name": "stdout",
     "output_type": "stream",
     "text": [
      "0.639996242570082 749 5.1e-07\n"
     ]
    },
    {
     "data": {
      "image/png": "[encoded data removed]",
      "text/plain": [
       "<Figure size 432x288 with 1 Axes>"
      ]
     },
     "metadata": {
      "needs_background": "light"
     },
     "output_type": "display_data"
    },
    {
     "name": "stdout",
     "output_type": "stream",
     "text": [
      "0.7064447917624345 747 5.1e-06\n"
     ]
    },
    {
     "data": {
      "image/png": "[encoded data removed]",
      "text/plain": [
       "<Figure size 432x288 with 1 Axes>"
      ]
     },
     "metadata": {
      "needs_background": "light"
     },
     "output_type": "display_data"
    },
    {
     "name": "stdout",
     "output_type": "stream",
     "text": [
      "0.6968060513275587 749 5.1e-07\n"
     ]
    },
    {
     "data": {
      "image/png": "[encoded data removed]",
      "text/plain": [
       "<Figure size 432x288 with 1 Axes>"
      ]
     },
     "metadata": {
      "needs_background": "light"
     },
     "output_type": "display_data"
    },
    {
     "name": "stdout",
     "output_type": "stream",
     "text": [
      "0.7121135809772782 137 5.1e-06\n"
     ]
    },
    {
     "data": {
      "image/png": "[encoded data removed]",
      "text/plain": [
       "<Figure size 432x288 with 1 Axes>"
      ]
     },
     "metadata": {
      "needs_background": "light"
     },
     "output_type": "display_data"
    }
   ],
   "source": [
    "n_epochs = 750\n",
    "hists = train(models, x, y, Y1_train, X_val, Y_val, Y1_val, n_epochs, 0.0000051)"
   ]
  },
  {
   "cell_type": "code",
   "execution_count": 28,
   "id": "f5811952",
   "metadata": {},
   "outputs": [
    {
     "data": {
      "text/plain": [
       "OrderedDict([('net.0.weight',\n",
       "              tensor([[ 0.1620,  0.0914,  0.1170,  ...,  0.1329,  0.0127,  0.1875],\n",
       "                      [ 0.0667, -0.0556,  0.1670,  ...,  0.0713, -0.0376,  0.1521],\n",
       "                      [-0.0829,  0.0468, -0.1465,  ..., -0.1269,  0.0833,  0.1015],\n",
       "                      ...,\n",
       "                      [-0.0707,  0.0131, -0.0058,  ...,  0.0355, -0.1415, -0.0893],\n",
       "                      [ 0.0035, -0.0554,  0.1544,  ..., -0.0157, -0.1213, -0.1075],\n",
       "                      [ 0.0066,  0.0761, -0.0559,  ...,  0.0284,  0.1855, -0.2091]])),\n",
       "             ('net.0.bias',\n",
       "              tensor([ 0.0056, -0.1418,  0.0991, -0.0408, -0.1691, -0.0429,  0.1209, -0.1023,\n",
       "                      -0.0562,  0.0696, -0.0186, -0.1279, -0.1580, -0.1482,  0.0465, -0.0374,\n",
       "                       0.1374, -0.0162,  0.0373, -0.0011, -0.0326, -0.0215, -0.1122,  0.0446,\n",
       "                       0.0733,  0.0082, -0.0241,  0.0532,  0.1310,  0.0692,  0.0180, -0.0739,\n",
       "                      -0.0324,  0.0948, -0.0750, -0.0226, -0.0941,  0.0346, -0.1040,  0.1112,\n",
       "                      -0.1484,  0.1128, -0.0558, -0.0258,  0.1196, -0.0994, -0.0375, -0.0925,\n",
       "                      -0.0344,  0.0647,  0.0919, -0.1548, -0.1137, -0.0737,  0.1362, -0.1379,\n",
       "                      -0.0712,  0.1031,  0.0402,  0.0078, -0.0013, -0.0418,  0.1061, -0.0143,\n",
       "                       0.0348,  0.0734, -0.1000, -0.0103,  0.0840,  0.0545,  0.0065,  0.0675,\n",
       "                       0.1607, -0.1342,  0.0795,  0.0810, -0.1403, -0.0437, -0.1101, -0.0276,\n",
       "                      -0.0395, -0.1437,  0.1029, -0.0432, -0.0254, -0.0115, -0.0540, -0.0614,\n",
       "                      -0.0553,  0.0774,  0.0589, -0.1493, -0.0962,  0.0403, -0.0656, -0.1474,\n",
       "                       0.0531,  0.0262, -0.0249, -0.1340])),\n",
       "             ('net.3.weight',\n",
       "              tensor([[ 0.1014, -0.0792,  0.0783,  ...,  0.0844,  0.0054, -0.0189],\n",
       "                      [ 0.0779,  0.0622, -0.0120,  ...,  0.0114, -0.0384,  0.0050],\n",
       "                      [ 0.0583, -0.0129, -0.0612,  ...,  0.0419, -0.0776,  0.0720],\n",
       "                      ...,\n",
       "                      [ 0.0197,  0.0288,  0.0259,  ...,  0.0131,  0.0108, -0.0333],\n",
       "                      [-0.0039,  0.0131,  0.0730,  ...,  0.0902, -0.0023, -0.0251],\n",
       "                      [ 0.0466, -0.0326, -0.0255,  ..., -0.0280, -0.0664,  0.0783]])),\n",
       "             ('net.3.bias',\n",
       "              tensor([-4.0152e-02, -8.9514e-03, -3.1318e-02, -4.1166e-03,  3.2702e-02,\n",
       "                      -9.7494e-02, -6.8953e-02, -9.5386e-02, -9.1338e-02,  2.3905e-02,\n",
       "                      -3.9013e-02,  6.6143e-02,  3.0395e-02,  7.4393e-02,  5.0635e-02,\n",
       "                       9.2602e-02,  2.4976e-03, -8.1785e-02, -5.3428e-02, -2.8919e-02,\n",
       "                       3.2035e-02, -1.6181e-02,  4.5511e-02,  4.6643e-02, -5.2752e-02,\n",
       "                       9.0750e-02, -8.4162e-02,  2.8296e-02, -4.3483e-02,  1.7738e-02,\n",
       "                       7.0815e-02,  8.4576e-02, -2.1806e-02,  4.0510e-02,  2.2648e-02,\n",
       "                      -2.1608e-02,  8.5684e-02,  2.0805e-02,  4.8607e-02,  7.1408e-02,\n",
       "                       1.2490e-02, -8.3616e-02,  3.8862e-02, -1.0493e-01,  4.1902e-02,\n",
       "                      -5.4338e-02,  1.0661e-02,  4.9988e-02, -7.7118e-02, -1.1185e-03,\n",
       "                       1.3453e-02,  2.5535e-02,  2.0978e-03,  3.2334e-02,  4.1070e-02,\n",
       "                       6.3983e-03, -9.4374e-02,  9.2165e-02,  3.1695e-02, -2.9339e-02,\n",
       "                      -8.6604e-03,  7.3512e-02,  8.4420e-02, -4.8639e-03,  2.1898e-02,\n",
       "                       9.7745e-02, -5.8575e-03,  3.4059e-03, -6.9067e-02, -5.1450e-02,\n",
       "                      -2.3044e-02,  9.0353e-02,  6.4864e-02, -8.8111e-02,  4.6469e-02,\n",
       "                      -7.6861e-03,  1.0111e-01, -1.3120e-02, -3.6546e-02,  2.9591e-02,\n",
       "                      -2.1073e-02, -1.9976e-02,  3.2145e-02, -8.4033e-02, -1.0836e-01,\n",
       "                       6.7966e-02, -2.3860e-02, -1.1364e-02,  2.0429e-02, -4.4813e-02,\n",
       "                      -3.4868e-02,  7.6191e-02, -3.4883e-02, -5.4761e-03, -4.5265e-02,\n",
       "                       9.1652e-02, -8.2832e-03, -7.3104e-02, -7.5348e-03, -1.7128e-02,\n",
       "                       9.1579e-02,  1.7717e-02, -7.0346e-02, -3.4588e-02, -6.8726e-02,\n",
       "                      -1.3440e-02, -3.3295e-02, -9.4485e-02,  2.1241e-02,  8.9452e-02,\n",
       "                       6.3028e-02, -5.9666e-02, -7.3064e-02, -9.6368e-02, -2.7325e-02,\n",
       "                      -5.1118e-02, -2.4534e-02, -9.8392e-02,  6.9844e-02, -3.7429e-03,\n",
       "                       5.4080e-02, -8.1474e-02, -2.5696e-02, -6.5136e-03, -5.9046e-02,\n",
       "                      -6.7929e-02,  8.5626e-02,  8.4655e-02,  5.6465e-03,  8.0252e-02,\n",
       "                      -5.7505e-03, -6.0443e-02,  3.2374e-02,  1.3144e-02,  7.7999e-02,\n",
       "                      -8.5566e-02,  7.4360e-02,  4.2435e-02,  1.0159e-01, -8.4203e-02,\n",
       "                       2.2122e-02,  1.8911e-02, -2.1910e-02, -1.2664e-02, -6.3635e-02,\n",
       "                      -3.2443e-02,  2.7920e-02,  5.9188e-02,  4.6125e-02,  4.0259e-02,\n",
       "                       3.4650e-02,  3.0907e-02, -8.8159e-02,  5.7616e-02,  7.1337e-02,\n",
       "                      -9.1108e-02, -3.6941e-02,  3.5241e-03,  5.8912e-02,  9.0166e-02,\n",
       "                      -9.3669e-03,  3.9011e-02, -9.3748e-02, -7.4638e-02, -9.7417e-02,\n",
       "                      -1.6837e-02, -7.2417e-03,  9.2390e-02, -4.0655e-02, -4.8569e-03,\n",
       "                       4.5227e-02,  7.1940e-02, -1.8146e-03,  8.7873e-02,  7.8813e-02,\n",
       "                       7.2530e-02, -7.2994e-02, -2.6368e-02,  8.3225e-02, -7.5703e-05,\n",
       "                      -8.5087e-02, -1.6619e-03, -2.3128e-02,  6.3300e-02,  3.5776e-02,\n",
       "                       4.8772e-02,  4.9506e-02, -2.7302e-02,  9.7512e-02,  2.2868e-02,\n",
       "                      -8.7289e-02, -1.4915e-02,  7.6877e-02,  4.8663e-02,  2.3438e-02,\n",
       "                      -6.8471e-03, -6.0877e-02, -8.5180e-03, -5.6448e-02, -4.3258e-02,\n",
       "                      -3.9082e-02,  2.7685e-02, -4.7803e-03, -2.1859e-02, -1.4051e-03,\n",
       "                       8.2492e-02,  3.9171e-02, -3.0924e-02,  3.9659e-02, -3.7258e-02,\n",
       "                      -8.7579e-02,  3.1620e-02, -8.5143e-02,  7.9051e-02, -4.8086e-02,\n",
       "                      -9.2535e-02, -1.8947e-02,  9.2200e-02, -3.3979e-02, -8.5593e-02,\n",
       "                      -2.4681e-03,  9.5512e-02, -1.5324e-02,  5.5904e-02, -6.3560e-02,\n",
       "                       4.8930e-02,  6.7785e-02, -2.9077e-02,  5.1506e-02,  6.0216e-02,\n",
       "                      -8.2667e-02, -5.4258e-02,  4.7268e-02,  6.0575e-02, -1.0254e-02,\n",
       "                       5.6655e-02,  7.4405e-02,  9.4734e-02,  8.4647e-02, -8.4553e-02,\n",
       "                      -6.9423e-02,  5.8443e-02,  4.5826e-02,  7.8246e-02,  1.0102e-01,\n",
       "                       2.8064e-02,  3.1789e-02, -2.5904e-02, -8.0619e-02, -8.7004e-02])),\n",
       "             ('net.6.weight',\n",
       "              tensor([[-0.0345, -0.0710, -0.0517,  ..., -0.0588, -0.0298, -0.0477],\n",
       "                      [ 0.0311,  0.0758,  0.0447,  ...,  0.0194,  0.0527,  0.0462],\n",
       "                      [-0.0625, -0.0118, -0.0391,  ..., -0.0042,  0.0454, -0.0008],\n",
       "                      ...,\n",
       "                      [ 0.0045,  0.0066, -0.0309,  ...,  0.0414, -0.0020,  0.0136],\n",
       "                      [ 0.0080, -0.0669,  0.0531,  ..., -0.0602,  0.0391,  0.0608],\n",
       "                      [ 0.0278,  0.0712, -0.0418,  ...,  0.0410, -0.0388,  0.0620]])),\n",
       "             ('net.6.bias',\n",
       "              tensor([-0.0082,  0.0209, -0.0489, -0.0440, -0.0562, -0.0264,  0.0043, -0.0124,\n",
       "                      -0.0487,  0.0061, -0.0222,  0.0588,  0.0291,  0.0258,  0.0391,  0.0489,\n",
       "                      -0.0438,  0.0254,  0.0724, -0.0009, -0.0347, -0.0007,  0.0482, -0.0648,\n",
       "                      -0.0622, -0.0077, -0.0545,  0.0427,  0.0730,  0.0026, -0.0540,  0.0468,\n",
       "                      -0.0219, -0.0539, -0.0154,  0.0352, -0.0210,  0.0562, -0.0525,  0.0368,\n",
       "                       0.0676,  0.0488,  0.0344,  0.0668,  0.0301,  0.0221,  0.0132,  0.0489,\n",
       "                       0.0590, -0.0410,  0.0205,  0.0610, -0.0152,  0.0295, -0.0533, -0.0219,\n",
       "                      -0.0578,  0.0183,  0.0187, -0.0554, -0.0217, -0.0003,  0.0504, -0.0174,\n",
       "                      -0.0091,  0.0166,  0.0057,  0.0627, -0.0115,  0.0257,  0.0042, -0.0013,\n",
       "                       0.0643,  0.0576, -0.0480,  0.0065, -0.0612, -0.0045,  0.0200,  0.0453,\n",
       "                       0.0448,  0.0055, -0.0085,  0.0378,  0.0217,  0.0053, -0.0069, -0.0282,\n",
       "                       0.0068,  0.0291, -0.0030, -0.0527,  0.0365,  0.0097,  0.0340, -0.0611,\n",
       "                      -0.0176,  0.0517,  0.0343, -0.0193])),\n",
       "             ('net.8.weight',\n",
       "              tensor([[ 0.0199, -0.1019,  0.0380, -0.1003, -0.1026,  0.0586,  0.0940,  0.0080,\n",
       "                       -0.0444, -0.0507, -0.0619,  0.0407,  0.1026,  0.1007,  0.0155,  0.0059,\n",
       "                        0.0466, -0.0964,  0.0970, -0.0951, -0.0315, -0.1032,  0.0484, -0.0940,\n",
       "                        0.0027, -0.0332,  0.0779,  0.0337,  0.0647, -0.0937,  0.0670, -0.0989,\n",
       "                        0.0316, -0.0319,  0.0637,  0.0252, -0.0907, -0.0186,  0.0771, -0.0362,\n",
       "                        0.0720, -0.0810,  0.0250,  0.0703, -0.0413, -0.0954, -0.0618,  0.0089,\n",
       "                        0.0668,  0.0849,  0.0545,  0.0553,  0.0187,  0.0934,  0.0573, -0.1189,\n",
       "                       -0.0709, -0.0929,  0.0510, -0.0498,  0.0666,  0.0482, -0.0542, -0.0624,\n",
       "                        0.0545, -0.0866,  0.0089,  0.0653,  0.0445, -0.0709, -0.0580, -0.0426,\n",
       "                        0.1021, -0.1136,  0.0997, -0.0488, -0.0664,  0.0394,  0.0064, -0.0211,\n",
       "                        0.0046,  0.0088, -0.0681, -0.1030,  0.0198, -0.0771,  0.0379, -0.0335,\n",
       "                       -0.0599,  0.0296,  0.0399,  0.0181, -0.0430,  0.0628,  0.0408,  0.0754,\n",
       "                       -0.0498,  0.0291,  0.0673, -0.0357]])),\n",
       "             ('net.8.bias', tensor([0.0815]))])"
      ]
     },
     "execution_count": 28,
     "metadata": {},
     "output_type": "execute_result"
    }
   ],
   "source": [
    "hists[2]"
   ]
  },
  {
   "cell_type": "markdown",
   "id": "79bbc70c",
   "metadata": {},
   "source": [
    "best model den haag: model 0, lr:5.1e-06"
   ]
  },
  {
   "cell_type": "markdown",
   "id": "8934beac",
   "metadata": {},
   "source": [
    "# Testing:"
   ]
  },
  {
   "cell_type": "code",
   "execution_count": 23,
   "id": "ae640e84",
   "metadata": {},
   "outputs": [
    {
     "data": {
      "text/plain": [
       "Model(\n",
       "  (net): Sequential(\n",
       "    (0): Linear(in_features=39, out_features=100, bias=True)\n",
       "    (1): Dropout(p=0.3, inplace=False)\n",
       "    (2): ReLU()\n",
       "    (3): Linear(in_features=100, out_features=250, bias=True)\n",
       "    (4): Dropout(p=0.3, inplace=False)\n",
       "    (5): ReLU()\n",
       "    (6): Linear(in_features=250, out_features=100, bias=True)\n",
       "    (7): ReLU()\n",
       "    (8): Linear(in_features=100, out_features=1, bias=True)\n",
       "  )\n",
       "  (final): Sigmoid()\n",
       ")"
      ]
     },
     "execution_count": 23,
     "metadata": {},
     "output_type": "execute_result"
    }
   ],
   "source": [
    "model = Model()\n",
    "model.load_state_dict(hists[2])\n",
    "model.eval()"
   ]
  },
  {
   "cell_type": "code",
   "execution_count": 24,
   "id": "d74a260c",
   "metadata": {},
   "outputs": [],
   "source": [
    "out = model(X_test)\n",
    "\n",
    "ROC = roc_auc_score(Y_test, model.final(out).detach().numpy())\n",
    "out = out.squeeze().detach().numpy()\n",
    "\n",
    "preds = np.zeros(len(out))\n",
    "pos = out.argsort()[-((Y_test == 1).sum()):]\n",
    "preds[pos] = 1\n",
    "\n",
    "f1 = f1_score(Y_test, preds)\n",
    "\n"
   ]
  },
  {
   "cell_type": "code",
   "execution_count": 25,
   "id": "eb850473",
   "metadata": {},
   "outputs": [
    {
     "name": "stdout",
     "output_type": "stream",
     "text": [
      "0.6623821543701721 0.26433915211970077\n"
     ]
    }
   ],
   "source": [
    "print(ROC, f1)"
   ]
  },
  {
   "cell_type": "code",
   "execution_count": 26,
   "id": "b1cefc03",
   "metadata": {},
   "outputs": [],
   "source": [
    "with open (\"../Results/Nijmegen.csv\", \"a+\") as f:\n",
    "    f.write(\"\\nMLP,{},{}\".format(ROC,f1))"
   ]
  },
  {
   "cell_type": "markdown",
   "id": "2b3768ab",
   "metadata": {},
   "source": [
    "# Neighbor function"
   ]
  },
  {
   "cell_type": "code",
   "execution_count": 12,
   "id": "6d5a0659",
   "metadata": {},
   "outputs": [],
   "source": [
    "def neighbor_part(model, X, idxs, w):\n",
    "    preds = model(torch.from_numpy(X).float())\n",
    "    preds = pd.DataFrame(np.array(preds.detach())).set_index(idxs)\n",
    "    \n",
    "    neighbors = [w.neighbors[x] for x in idxs]\n",
    "    transitions = [preds.loc[x].values for x in neighbors]\n",
    "\n",
    "\n",
    "\n",
    "    n_function = np.zeros((len(preds), w.max_neighbors + 1))\n",
    "    for i, (t, idx) in enumerate(zip(transitions, idxs)):\n",
    "        n_function[i, 1:len(t) + 1] = t.squeeze()\n",
    "        n_function[i, 0] = preds.loc[idx]\n",
    "        \n",
    "    return n_function"
   ]
  },
  {
   "cell_type": "code",
   "execution_count": 13,
   "id": "169162ae",
   "metadata": {},
   "outputs": [
    {
     "ename": "NameError",
     "evalue": "name 'models' is not defined",
     "output_type": "error",
     "traceback": [
      "\u001b[1;31m---------------------------------------------------------------------------\u001b[0m",
      "\u001b[1;31mNameError\u001b[0m                                 Traceback (most recent call last)",
      "\u001b[1;32mC:\\Users\\GEBRUI~1\\AppData\\Local\\Temp/ipykernel_11852/3603479309.py\u001b[0m in \u001b[0;36m<module>\u001b[1;34m\u001b[0m\n\u001b[0;32m      2\u001b[0m \u001b[0mw16\u001b[0m \u001b[1;33m=\u001b[0m \u001b[0mlibpysal\u001b[0m\u001b[1;33m.\u001b[0m\u001b[0mweights\u001b[0m\u001b[1;33m.\u001b[0m\u001b[0mDistanceBand\u001b[0m\u001b[1;33m.\u001b[0m\u001b[0mfrom_dataframe\u001b[0m\u001b[1;33m(\u001b[0m\u001b[0mdf16\u001b[0m\u001b[1;33m,\u001b[0m \u001b[0mthreshold\u001b[0m\u001b[1;33m=\u001b[0m\u001b[1;36m150\u001b[0m\u001b[1;33m,\u001b[0m \u001b[0mbinary\u001b[0m \u001b[1;33m=\u001b[0m \u001b[1;32mTrue\u001b[0m\u001b[1;33m,\u001b[0m \u001b[0msilence_warnings\u001b[0m \u001b[1;33m=\u001b[0m \u001b[1;32mTrue\u001b[0m\u001b[1;33m)\u001b[0m\u001b[1;33m\u001b[0m\u001b[1;33m\u001b[0m\u001b[0m\n\u001b[0;32m      3\u001b[0m \u001b[1;33m\u001b[0m\u001b[0m\n\u001b[1;32m----> 4\u001b[1;33m \u001b[1;32mfor\u001b[0m \u001b[0mmod\u001b[0m \u001b[1;32min\u001b[0m \u001b[0mmodels\u001b[0m\u001b[1;33m:\u001b[0m\u001b[1;33m\u001b[0m\u001b[1;33m\u001b[0m\u001b[0m\n\u001b[0m\u001b[0;32m      5\u001b[0m     \u001b[0mhists\u001b[0m \u001b[1;33m=\u001b[0m \u001b[0mtrain_model\u001b[0m\u001b[1;33m(\u001b[0m\u001b[0mmod\u001b[0m\u001b[1;33m,\u001b[0m \u001b[0mx_train\u001b[0m\u001b[1;33m,\u001b[0m \u001b[0my_train\u001b[0m\u001b[1;33m,\u001b[0m \u001b[0mX_val\u001b[0m\u001b[1;33m,\u001b[0m \u001b[0mY_val\u001b[0m\u001b[1;33m,\u001b[0m \u001b[1;36m250\u001b[0m\u001b[1;33m)\u001b[0m\u001b[1;33m\u001b[0m\u001b[1;33m\u001b[0m\u001b[0m\n\u001b[0;32m      6\u001b[0m     \u001b[0mn_function\u001b[0m \u001b[1;33m=\u001b[0m \u001b[0mneighbor_part\u001b[0m\u001b[1;33m(\u001b[0m\u001b[0mmod\u001b[0m\u001b[1;33m,\u001b[0m \u001b[0mX_train\u001b[0m\u001b[1;33m,\u001b[0m \u001b[0mdf15\u001b[0m\u001b[1;33m.\u001b[0m\u001b[0mindex\u001b[0m\u001b[1;33m,\u001b[0m \u001b[0mw15\u001b[0m\u001b[1;33m)\u001b[0m\u001b[1;33m\u001b[0m\u001b[1;33m\u001b[0m\u001b[0m\n",
      "\u001b[1;31mNameError\u001b[0m: name 'models' is not defined"
     ]
    }
   ],
   "source": [
    "w15 = libpysal.weights.DistanceBand.from_dataframe(df15, threshold=150, binary = True, silence_warnings = True)\n",
    "w16 = libpysal.weights.DistanceBand.from_dataframe(df16, threshold=150, binary = True, silence_warnings = True)\n",
    "\n",
    "for mod in models:\n",
    "    hists = train_model(mod, x_train, y_train, X_val, Y_val, 250)\n",
    "    n_function = neighbor_part(mod, X_train, df15.index, w15)\n",
    "        \n",
    "    oversample = SMOTE()\n",
    "    x, y = oversample.fit_resample(n_function, Y_train)\n",
    "\n",
    "    clf_bagger = RandomForestClassifier(max_depth = 12, oob_score = True)\n",
    "    clf_bagger.fit(x,y)\n",
    "    \n",
    "    n_function = neighbor_part(mod, X_val, df16.index, w16)\n",
    "    preds = clf_bagger.predict(n_function)\n",
    "    totacc = accuracy_score(Y_val, preds)\n",
    "    totf1 = f1_score(Y_val, preds)\n",
    "    totROC = roc_auc_score(Y_val, preds)\n",
    "    \n",
    "    \n",
    "    with open(\"../results/mlp/\" + mod.name + \".csv\", \"a+\") as f:\n",
    "        f.write(\"loss;acc;ROC;f1_score\\n\")\n",
    "        f.write(str(hists[2]) + \";\" + str(hists[0]) + \";\" + str(hists[1]) + \";\" + str(hists[3]) + \"\\n\")\n",
    "        f.write(\"--;\" + str(totacc) + \";\" + str(totROC) + \";\"  + str(totf1))\n",
    "    \n",
    "    \n",
    "    "
   ]
  },
  {
   "cell_type": "code",
   "execution_count": 246,
   "id": "70a9340f",
   "metadata": {},
   "outputs": [],
   "source": [
    "neighbor_part(model, X_train, df15.index, w15)"
   ]
  },
  {
   "cell_type": "code",
   "execution_count": 24,
   "id": "7d29f533",
   "metadata": {},
   "outputs": [
    {
     "data": {
      "text/plain": [
       "array([[-0.20477431, -0.06709367, -0.24659556, ...,  0.46299088,\n",
       "         0.45272231,  0.69077765],\n",
       "       [-0.20477431, -0.06709367, -0.24659556, ...,  0.2866995 ,\n",
       "         0.16036807, -0.03776353],\n",
       "       [-0.20477431, -0.06709367,  1.24801218, ...,  0.80675908,\n",
       "         0.81004415,  0.84689361],\n",
       "       ...,\n",
       "       [-0.20477431, -0.06709367, -0.24659556, ...,  0.68335511,\n",
       "         0.79380225,  0.11835244],\n",
       "       [-0.20477431, -0.06709367, -0.24659556, ...,  1.49870277,\n",
       "         1.28105931,  0.48262303],\n",
       "       [-0.20477431, -0.06709367, -0.24659556, ...,  1.30037496,\n",
       "         1.24857551,  0.11835244]])"
      ]
     },
     "execution_count": 24,
     "metadata": {},
     "output_type": "execute_result"
    }
   ],
   "source": [
    "X_val"
   ]
  },
  {
   "cell_type": "code",
   "execution_count": 281,
   "id": "619ce77a",
   "metadata": {},
   "outputs": [
    {
     "data": {
      "text/plain": [
       "([0.7477, 0.7461],\n",
       " [0.4551122194513716, 0.45591939546599497],\n",
       " [0.1489188086495308, 0.14661806399351965],\n",
       " [0.23744001984596252, 0.2417915314435959])"
      ]
     },
     "execution_count": 281,
     "metadata": {},
     "output_type": "execute_result"
    }
   ],
   "source": [
    "hists"
   ]
  },
  {
   "cell_type": "code",
   "execution_count": 257,
   "id": "6c189037",
   "metadata": {},
   "outputs": [
    {
     "data": {
      "text/plain": [
       "15948"
      ]
     },
     "execution_count": 257,
     "metadata": {},
     "output_type": "execute_result"
    }
   ],
   "source": [
    "np.sum(preds == 1)"
   ]
  },
  {
   "cell_type": "code",
   "execution_count": 165,
   "id": "4fc9de9b",
   "metadata": {},
   "outputs": [],
   "source": [
    "# X_train = torch.from_numpy(X_train).float()\n",
    "preds = model(X_train)"
   ]
  },
  {
   "cell_type": "code",
   "execution_count": 166,
   "id": "7edf9a2b",
   "metadata": {},
   "outputs": [],
   "source": [
    "w15 = libpysal.weights.DistanceBand.from_dataframe(df15, threshold=150, binary = True, silence_warnings = True)\n"
   ]
  },
  {
   "cell_type": "code",
   "execution_count": 167,
   "id": "4589a3f8",
   "metadata": {},
   "outputs": [],
   "source": [
    "import pandas as pd\n",
    "\n",
    "preds = pd.DataFrame(np.array(preds.detach())).set_index(df15.index)"
   ]
  },
  {
   "cell_type": "code",
   "execution_count": 168,
   "id": "3b0a18ab",
   "metadata": {},
   "outputs": [],
   "source": [
    "\n",
    "# preds = pd.DataFrame(np.array(preds.detach())).set_index(ID_train)\n",
    "neighbors = [w15.neighbors[x] for x in df15.index]\n",
    "transitions = [preds.loc[x].values for x in neighbors]\n",
    "\n",
    "\n",
    "\n",
    "n_function = np.zeros((len(preds), w15.max_neighbors + 1))\n",
    "for i, (t, idx) in enumerate(zip(transitions, df15.index)):\n",
    "    n_function[i, 1:len(t) + 1] = t.squeeze()\n",
    "    n_function[i, 0] = preds.loc[idx]"
   ]
  },
  {
   "cell_type": "code",
   "execution_count": 169,
   "id": "f78e226c",
   "metadata": {
    "scrolled": true
   },
   "outputs": [
    {
     "name": "stdout",
     "output_type": "stream",
     "text": [
      "Fitting 5 folds for each of 8 candidates, totalling 40 fits\n",
      "[CV 1/5] END .......max_depth=6, oob_score=True;, score=0.855 total time=   6.5s\n",
      "[CV 2/5] END .......max_depth=6, oob_score=True;, score=0.865 total time=   6.4s\n",
      "[CV 3/5] END .......max_depth=6, oob_score=True;, score=0.863 total time=   6.5s\n",
      "[CV 4/5] END .......max_depth=6, oob_score=True;, score=0.829 total time=   6.2s\n",
      "[CV 5/5] END .......max_depth=6, oob_score=True;, score=0.833 total time=   6.2s\n",
      "[CV 1/5] END ......max_depth=6, oob_score=False;, score=0.855 total time=   5.7s\n",
      "[CV 2/5] END ......max_depth=6, oob_score=False;, score=0.865 total time=   5.9s\n",
      "[CV 3/5] END ......max_depth=6, oob_score=False;, score=0.862 total time=   6.7s\n",
      "[CV 4/5] END ......max_depth=6, oob_score=False;, score=0.829 total time=   6.1s\n",
      "[CV 5/5] END ......max_depth=6, oob_score=False;, score=0.833 total time=   6.0s\n",
      "[CV 1/5] END .......max_depth=8, oob_score=True;, score=0.853 total time=   9.3s\n",
      "[CV 2/5] END .......max_depth=8, oob_score=True;, score=0.868 total time=   8.9s\n",
      "[CV 3/5] END .......max_depth=8, oob_score=True;, score=0.864 total time=   7.3s\n",
      "[CV 4/5] END .......max_depth=8, oob_score=True;, score=0.832 total time=   8.3s\n",
      "[CV 5/5] END .......max_depth=8, oob_score=True;, score=0.836 total time=   7.0s\n",
      "[CV 1/5] END ......max_depth=8, oob_score=False;, score=0.853 total time=   6.4s\n",
      "[CV 2/5] END ......max_depth=8, oob_score=False;, score=0.867 total time=   6.5s\n",
      "[CV 3/5] END ......max_depth=8, oob_score=False;, score=0.863 total time=   6.5s\n",
      "[CV 4/5] END ......max_depth=8, oob_score=False;, score=0.831 total time=   6.0s\n",
      "[CV 5/5] END ......max_depth=8, oob_score=False;, score=0.835 total time=   5.9s\n",
      "[CV 1/5] END ......max_depth=10, oob_score=True;, score=0.852 total time=   8.0s\n",
      "[CV 2/5] END ......max_depth=10, oob_score=True;, score=0.870 total time=   7.9s\n",
      "[CV 3/5] END ......max_depth=10, oob_score=True;, score=0.867 total time=   8.1s\n",
      "[CV 4/5] END ......max_depth=10, oob_score=True;, score=0.836 total time=   7.8s\n",
      "[CV 5/5] END ......max_depth=10, oob_score=True;, score=0.838 total time=   7.9s\n",
      "[CV 1/5] END .....max_depth=10, oob_score=False;, score=0.852 total time=   7.8s\n",
      "[CV 2/5] END .....max_depth=10, oob_score=False;, score=0.870 total time=   8.7s\n",
      "[CV 3/5] END .....max_depth=10, oob_score=False;, score=0.867 total time=   8.0s\n",
      "[CV 4/5] END .....max_depth=10, oob_score=False;, score=0.835 total time=   9.2s\n",
      "[CV 5/5] END .....max_depth=10, oob_score=False;, score=0.839 total time=   7.1s\n",
      "[CV 1/5] END ......max_depth=12, oob_score=True;, score=0.852 total time=   9.3s\n",
      "[CV 2/5] END ......max_depth=12, oob_score=True;, score=0.873 total time=   9.1s\n",
      "[CV 3/5] END ......max_depth=12, oob_score=True;, score=0.870 total time=   9.1s\n",
      "[CV 4/5] END ......max_depth=12, oob_score=True;, score=0.840 total time=   8.8s\n",
      "[CV 5/5] END ......max_depth=12, oob_score=True;, score=0.844 total time=   9.0s\n",
      "[CV 1/5] END .....max_depth=12, oob_score=False;, score=0.853 total time=   8.4s\n",
      "[CV 2/5] END .....max_depth=12, oob_score=False;, score=0.872 total time=   8.4s\n",
      "[CV 3/5] END .....max_depth=12, oob_score=False;, score=0.872 total time=   8.2s\n",
      "[CV 4/5] END .....max_depth=12, oob_score=False;, score=0.841 total time=   8.1s\n",
      "[CV 5/5] END .....max_depth=12, oob_score=False;, score=0.844 total time=   8.1s\n"
     ]
    },
    {
     "data": {
      "text/plain": [
       "GridSearchCV(cv=5, estimator=RandomForestClassifier(),\n",
       "             param_grid={'max_depth': [6, 8, 10, 12],\n",
       "                         'oob_score': [True, False]},\n",
       "             scoring='balanced_accuracy', verbose=3)"
      ]
     },
     "execution_count": 169,
     "metadata": {},
     "output_type": "execute_result"
    }
   ],
   "source": [
    "params = {\"max_depth\": [12], \"oob_score\" : [True, False]}\n",
    "clf_bagger = GridSearchCV(RandomForestClassifier(), params, cv = 5, scoring = \"balanced_accuracy\",\n",
    "                               verbose = 3)\n",
    "clf_bagger = RandomForestClassifier(max_depth = 12, oob_score = True)\n",
    "oversample = SMOTE()\n",
    "x, y = oversample.fit_resample(n_function, Y_train)\n",
    "\n",
    "clf_bagger.fit(x,y)"
   ]
  },
  {
   "cell_type": "code",
   "execution_count": 170,
   "id": "08a83af4",
   "metadata": {
    "scrolled": true
   },
   "outputs": [
    {
     "data": {
      "text/plain": [
       "{'max_depth': 12, 'oob_score': False}"
      ]
     },
     "execution_count": 170,
     "metadata": {},
     "output_type": "execute_result"
    }
   ],
   "source": [
    "clf_bagger.best_params_"
   ]
  },
  {
   "cell_type": "code",
   "execution_count": 171,
   "id": "5248e2ae",
   "metadata": {},
   "outputs": [
    {
     "ename": "AttributeError",
     "evalue": "'DataFrame' object has no attribute 'detach'",
     "output_type": "error",
     "traceback": [
      "\u001b[1;31m---------------------------------------------------------------------------\u001b[0m",
      "\u001b[1;31mAttributeError\u001b[0m                            Traceback (most recent call last)",
      "\u001b[1;32mC:\\Users\\GEBRUI~1\\AppData\\Local\\Temp/ipykernel_9620/3511837816.py\u001b[0m in \u001b[0;36m<module>\u001b[1;34m\u001b[0m\n\u001b[1;32m----> 1\u001b[1;33m \u001b[0mnp\u001b[0m\u001b[1;33m.\u001b[0m\u001b[0marray\u001b[0m\u001b[1;33m(\u001b[0m\u001b[0mpreds\u001b[0m\u001b[1;33m.\u001b[0m\u001b[0mdetach\u001b[0m\u001b[1;33m(\u001b[0m\u001b[1;33m)\u001b[0m\u001b[1;33m)\u001b[0m\u001b[1;33m\u001b[0m\u001b[1;33m\u001b[0m\u001b[0m\n\u001b[0m",
      "\u001b[1;32m~\\anaconda3\\lib\\site-packages\\pandas\\core\\generic.py\u001b[0m in \u001b[0;36m__getattr__\u001b[1;34m(self, name)\u001b[0m\n\u001b[0;32m   5485\u001b[0m         ):\n\u001b[0;32m   5486\u001b[0m             \u001b[1;32mreturn\u001b[0m \u001b[0mself\u001b[0m\u001b[1;33m[\u001b[0m\u001b[0mname\u001b[0m\u001b[1;33m]\u001b[0m\u001b[1;33m\u001b[0m\u001b[1;33m\u001b[0m\u001b[0m\n\u001b[1;32m-> 5487\u001b[1;33m         \u001b[1;32mreturn\u001b[0m \u001b[0mobject\u001b[0m\u001b[1;33m.\u001b[0m\u001b[0m__getattribute__\u001b[0m\u001b[1;33m(\u001b[0m\u001b[0mself\u001b[0m\u001b[1;33m,\u001b[0m \u001b[0mname\u001b[0m\u001b[1;33m)\u001b[0m\u001b[1;33m\u001b[0m\u001b[1;33m\u001b[0m\u001b[0m\n\u001b[0m\u001b[0;32m   5488\u001b[0m \u001b[1;33m\u001b[0m\u001b[0m\n\u001b[0;32m   5489\u001b[0m     \u001b[1;32mdef\u001b[0m \u001b[0m__setattr__\u001b[0m\u001b[1;33m(\u001b[0m\u001b[0mself\u001b[0m\u001b[1;33m,\u001b[0m \u001b[0mname\u001b[0m\u001b[1;33m:\u001b[0m \u001b[0mstr\u001b[0m\u001b[1;33m,\u001b[0m \u001b[0mvalue\u001b[0m\u001b[1;33m)\u001b[0m \u001b[1;33m->\u001b[0m \u001b[1;32mNone\u001b[0m\u001b[1;33m:\u001b[0m\u001b[1;33m\u001b[0m\u001b[1;33m\u001b[0m\u001b[0m\n",
      "\u001b[1;31mAttributeError\u001b[0m: 'DataFrame' object has no attribute 'detach'"
     ]
    }
   ],
   "source": [
    "np.array(preds.detach())"
   ]
  },
  {
   "cell_type": "code",
   "execution_count": 173,
   "id": "b249875f",
   "metadata": {},
   "outputs": [],
   "source": [
    "# X_val = torch.from_numpy(X_val).float()\n",
    "preds = model(X_val)"
   ]
  },
  {
   "cell_type": "code",
   "execution_count": 174,
   "id": "91e2c519",
   "metadata": {},
   "outputs": [],
   "source": [
    "w16 = libpysal.weights.DistanceBand.from_dataframe(df16, threshold=150, binary = True, silence_warnings = True)\n"
   ]
  },
  {
   "cell_type": "code",
   "execution_count": 175,
   "id": "49d94624",
   "metadata": {},
   "outputs": [],
   "source": [
    "preds = pd.DataFrame(np.array(preds.detach())).set_index(df16.index)\n",
    "neighbors = [w16.neighbors[x] for x in df16.index]\n",
    "transitions = [preds.loc[x].values for x in neighbors]\n",
    "\n",
    "\n",
    "\n",
    "n_function = np.zeros((len(preds), w16.max_neighbors + 1))\n",
    "for i, (t, idx) in enumerate(zip(transitions, df16.index)):\n",
    "    n_function[i, 1:len(t) + 1] = t.squeeze()\n",
    "    n_function[i, 0] = preds.loc[idx]"
   ]
  },
  {
   "cell_type": "code",
   "execution_count": 176,
   "id": "ee759569",
   "metadata": {},
   "outputs": [],
   "source": [
    "preds = clf_bagger.predict(n_function)"
   ]
  },
  {
   "cell_type": "code",
   "execution_count": 177,
   "id": "0f66f06c",
   "metadata": {},
   "outputs": [
    {
     "data": {
      "text/plain": [
       "57050"
      ]
     },
     "execution_count": 177,
     "metadata": {},
     "output_type": "execute_result"
    }
   ],
   "source": [
    "len(neighbors)"
   ]
  },
  {
   "cell_type": "code",
   "execution_count": null,
   "id": "a5d8c62a",
   "metadata": {},
   "outputs": [],
   "source": []
  },
  {
   "cell_type": "code",
   "execution_count": 178,
   "id": "71e36a83",
   "metadata": {},
   "outputs": [
    {
     "data": {
      "text/plain": [
       "0.5819144337554594"
      ]
     },
     "execution_count": 178,
     "metadata": {},
     "output_type": "execute_result"
    }
   ],
   "source": [
    "clf_bagger.score(n_function, Y_val)"
   ]
  },
  {
   "cell_type": "code",
   "execution_count": 179,
   "id": "708da41b",
   "metadata": {},
   "outputs": [
    {
     "data": {
      "text/plain": [
       "0.3210421726650475"
      ]
     },
     "execution_count": 179,
     "metadata": {},
     "output_type": "execute_result"
    }
   ],
   "source": [
    "recall_score(Y_val, preds)"
   ]
  },
  {
   "cell_type": "code",
   "execution_count": 180,
   "id": "4d5b6b50",
   "metadata": {},
   "outputs": [
    {
     "data": {
      "text/plain": [
       "0.14972711358253527"
      ]
     },
     "execution_count": 180,
     "metadata": {},
     "output_type": "execute_result"
    }
   ],
   "source": [
    "precision_score(Y_val, preds)"
   ]
  },
  {
   "cell_type": "code",
   "execution_count": 246,
   "id": "653623ba",
   "metadata": {},
   "outputs": [
    {
     "data": {
      "text/plain": [
       "4529"
      ]
     },
     "execution_count": 246,
     "metadata": {},
     "output_type": "execute_result"
    }
   ],
   "source": [
    "(Y_val == 1).sum()"
   ]
  },
  {
   "cell_type": "markdown",
   "id": "785763ff",
   "metadata": {},
   "source": [
    "# No bagger on the end"
   ]
  },
  {
   "cell_type": "code",
   "execution_count": 277,
   "id": "efe1d495",
   "metadata": {},
   "outputs": [],
   "source": [
    "preds = pd.DataFrame(np.array(preds.detach())).set_index(ID_val)"
   ]
  },
  {
   "cell_type": "code",
   "execution_count": 279,
   "id": "ba4f5668",
   "metadata": {},
   "outputs": [],
   "source": [
    "preds[\"y\"] = Y_val"
   ]
  },
  {
   "cell_type": "code",
   "execution_count": 280,
   "id": "da369a99",
   "metadata": {},
   "outputs": [],
   "source": [
    "preds = preds.sort_values(by=[0], ascending = False)"
   ]
  },
  {
   "cell_type": "code",
   "execution_count": 281,
   "id": "2288054e",
   "metadata": {},
   "outputs": [
    {
     "data": {
      "text/html": [
       "<div>\n",
       "<style scoped>\n",
       "    .dataframe tbody tr th:only-of-type {\n",
       "        vertical-align: middle;\n",
       "    }\n",
       "\n",
       "    .dataframe tbody tr th {\n",
       "        vertical-align: top;\n",
       "    }\n",
       "\n",
       "    .dataframe thead th {\n",
       "        text-align: right;\n",
       "    }\n",
       "</style>\n",
       "<table border=\"1\" class=\"dataframe\">\n",
       "  <thead>\n",
       "    <tr style=\"text-align: right;\">\n",
       "      <th></th>\n",
       "      <th>0</th>\n",
       "      <th>y</th>\n",
       "    </tr>\n",
       "  </thead>\n",
       "  <tbody>\n",
       "    <tr>\n",
       "      <th>3699708.0</th>\n",
       "      <td>9.999919e-01</td>\n",
       "      <td>0.0</td>\n",
       "    </tr>\n",
       "    <tr>\n",
       "      <th>2206980.0</th>\n",
       "      <td>9.999806e-01</td>\n",
       "      <td>0.0</td>\n",
       "    </tr>\n",
       "    <tr>\n",
       "      <th>2206983.0</th>\n",
       "      <td>9.999349e-01</td>\n",
       "      <td>0.0</td>\n",
       "    </tr>\n",
       "    <tr>\n",
       "      <th>2206982.0</th>\n",
       "      <td>9.999343e-01</td>\n",
       "      <td>0.0</td>\n",
       "    </tr>\n",
       "    <tr>\n",
       "      <th>2210563.0</th>\n",
       "      <td>9.999300e-01</td>\n",
       "      <td>0.0</td>\n",
       "    </tr>\n",
       "    <tr>\n",
       "      <th>...</th>\n",
       "      <td>...</td>\n",
       "      <td>...</td>\n",
       "    </tr>\n",
       "    <tr>\n",
       "      <th>2654130.0</th>\n",
       "      <td>3.897061e-21</td>\n",
       "      <td>0.0</td>\n",
       "    </tr>\n",
       "    <tr>\n",
       "      <th>2113362.0</th>\n",
       "      <td>1.054448e-21</td>\n",
       "      <td>0.0</td>\n",
       "    </tr>\n",
       "    <tr>\n",
       "      <th>3705586.0</th>\n",
       "      <td>2.995088e-22</td>\n",
       "      <td>0.0</td>\n",
       "    </tr>\n",
       "    <tr>\n",
       "      <th>3703981.0</th>\n",
       "      <td>6.478963e-23</td>\n",
       "      <td>0.0</td>\n",
       "    </tr>\n",
       "    <tr>\n",
       "      <th>2116824.0</th>\n",
       "      <td>9.653986e-25</td>\n",
       "      <td>1.0</td>\n",
       "    </tr>\n",
       "  </tbody>\n",
       "</table>\n",
       "<p>57050 rows × 2 columns</p>\n",
       "</div>"
      ],
      "text/plain": [
       "                      0    y\n",
       "3699708.0  9.999919e-01  0.0\n",
       "2206980.0  9.999806e-01  0.0\n",
       "2206983.0  9.999349e-01  0.0\n",
       "2206982.0  9.999343e-01  0.0\n",
       "2210563.0  9.999300e-01  0.0\n",
       "...                 ...  ...\n",
       "2654130.0  3.897061e-21  0.0\n",
       "2113362.0  1.054448e-21  0.0\n",
       "3705586.0  2.995088e-22  0.0\n",
       "3703981.0  6.478963e-23  0.0\n",
       "2116824.0  9.653986e-25  1.0\n",
       "\n",
       "[57050 rows x 2 columns]"
      ]
     },
     "execution_count": 281,
     "metadata": {},
     "output_type": "execute_result"
    }
   ],
   "source": [
    "preds"
   ]
  },
  {
   "cell_type": "code",
   "execution_count": 282,
   "id": "70c91604",
   "metadata": {},
   "outputs": [],
   "source": [
    "preds[0].iloc[0:4529] = 1\n",
    "preds[0].iloc[4529:] = 0"
   ]
  },
  {
   "cell_type": "code",
   "execution_count": 283,
   "id": "4426a7b9",
   "metadata": {},
   "outputs": [
    {
     "data": {
      "text/plain": [
       "0.17244424817840584"
      ]
     },
     "execution_count": 283,
     "metadata": {},
     "output_type": "execute_result"
    }
   ],
   "source": [
    "recall_score(preds[\"y\"], preds[0])\n"
   ]
  },
  {
   "cell_type": "code",
   "execution_count": 284,
   "id": "e2e24821",
   "metadata": {},
   "outputs": [
    {
     "data": {
      "text/plain": [
       "0.17244424817840584"
      ]
     },
     "execution_count": 284,
     "metadata": {},
     "output_type": "execute_result"
    }
   ],
   "source": [
    "precision_score(preds[\"y\"], preds[0])"
   ]
  }
 ],
 "metadata": {
  "kernelspec": {
   "display_name": "Python 3 (ipykernel)",
   "language": "python",
   "name": "python3"
  },
  "language_info": {
   "codemirror_mode": {
    "name": "ipython",
    "version": 3
   },
   "file_extension": ".py",
   "mimetype": "text/x-python",
   "name": "python",
   "nbconvert_exporter": "python",
   "pygments_lexer": "ipython3",
   "version": "3.7.11"
  }
 },
 "nbformat": 4,
 "nbformat_minor": 5
}
