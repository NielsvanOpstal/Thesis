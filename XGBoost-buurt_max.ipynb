{
 "cells": [
  {
   "cell_type": "code",
   "execution_count": 1,
   "id": "2da1a9f9",
   "metadata": {},
   "outputs": [],
   "source": [
    "import pandas as pd\n",
    "import geopandas as gpd\n",
    "import numpy as np\n",
    "import shapely\n",
    "import libpysal\n",
    "from sklearn.model_selection import train_test_split, GridSearchCV\n",
    "import os\n",
    "from sklearn.metrics import ConfusionMatrixDisplay\n",
    "from sklearn.preprocessing import Normalizer\n",
    "from sklearn.neural_network import MLPClassifier\n",
    "from sklearn.metrics import roc_auc_score, f1_score, precision_score, recall_score, accuracy_score, roc_auc_score\n",
    "from sklearn.ensemble import RandomForestClassifier\n",
    "import matplotlib.pyplot as plt\n",
    "from sklearn.svm import SVC\n",
    "import pickle\n",
    "import time\n",
    "from xgboost import XGBClassifier\n",
    "from xgboost import callback\n",
    "from sklearn.preprocessing import StandardScaler\n"
   ]
  },
  {
   "cell_type": "code",
   "execution_count": 2,
   "id": "088846ae",
   "metadata": {},
   "outputs": [],
   "source": [
    "from imblearn.over_sampling import SMOTE, ADASYN\n",
    "from imblearn.combine import SMOTEENN\n",
    "from imblearn.under_sampling import RandomUnderSampler\n",
    "from imblearn.pipeline import Pipeline"
   ]
  },
  {
   "cell_type": "code",
   "execution_count": 3,
   "id": "5ab4e1c0",
   "metadata": {},
   "outputs": [],
   "source": [
    "def load_data(year):\n",
    "    os.getcwd()\n",
    "    df = pd.DataFrame()\n",
    "    path = \"../../Data/filled/\" + str(year) + \"/\"\n",
    "    for filename in os.listdir(path):\n",
    "\n",
    "        df1 = pd.read_csv(path + filename)\n",
    "        if df1.geometry.isna().any():\n",
    "            print(filename)\n",
    "        df = pd.concat([df, df1])\n",
    "    df = gpd.GeoDataFrame(df)\n",
    "    df.geometry = df.geometry.apply(shapely.wkt.loads)\n",
    "    \n",
    "    df = df.reset_index()\n",
    "    df = df.drop([\"Unnamed: 0\", \"index\"], axis = 1)\n",
    "    return df"
   ]
  },
  {
   "cell_type": "code",
   "execution_count": 4,
   "id": "467571ec",
   "metadata": {
    "scrolled": true
   },
   "outputs": [],
   "source": [
    "# df15 = load_data(2015)\n",
    "# df16 = load_data(2016)\n",
    "df17 = load_data(2017)\n",
    "df18 = load_data(2018)\n",
    "df19 = load_data(2019)"
   ]
  },
  {
   "cell_type": "code",
   "execution_count": 5,
   "id": "02975854",
   "metadata": {},
   "outputs": [],
   "source": [
    "X_train = df17[df17.columns[:-5]]\n",
    "Y_train = df17.y\n",
    "Y1_train = df17[\"y-1\"]\n",
    "ss = StandardScaler()\n",
    "X_train = ss.fit_transform(X_train)\n",
    "\n",
    "X_val = df18[df18.columns[:-5]]\n",
    "Y_val = df18.y\n",
    "Y1_val = df18[\"y-1\"]\n",
    "X_val = ss.transform(X_val)\n",
    "\n",
    "X_val1 = df19[df19.columns[:-5]]\n",
    "Y_val1 = df19.y\n",
    "Y1_val1 = df19[\"y-1\"]\n",
    "X_val1 = ss.transform(X_val1)\n",
    "\n",
    "\n",
    "# weights\n",
    "wt = libpysal.weights.DistanceBand.from_dataframe(df17, threshold=150, binary = True, silence_warnings = True)\n",
    "wv = libpysal.weights.DistanceBand.from_dataframe(df18, threshold=150, binary = True, silence_warnings = True)\n",
    "wv1 = libpysal.weights.DistanceBand.from_dataframe(df19, threshold=150, binary = True, silence_warnings = True)"
   ]
  },
  {
   "cell_type": "code",
   "execution_count": 6,
   "id": "58e6beb5",
   "metadata": {},
   "outputs": [],
   "source": [
    "oversamp = SMOTE()\n",
    "x,y = oversamp.fit_resample(X_train, Y_train)\n",
    "\n"
   ]
  },
  {
   "cell_type": "code",
   "execution_count": 7,
   "id": "1bd94402",
   "metadata": {},
   "outputs": [],
   "source": [
    "neighbors = [wv.neighbors[x] for x in wv.neighbors]  # ONly calculate Yt-1 val because at training it is just fitting the model\n",
    "Y1_val = np.array([Y1_val[x].sum() for x in neighbors])\n",
    "Y1_val[np.where(Y1_val == 0)[0]] = 0.5\n",
    "\n",
    "neighbors = [wv1.neighbors[x] for x in wv1.neighbors]  # ONly calculate Yt-1 val because at training it is just fitting the model\n",
    "Y1_val1 = np.array([Y1_val1[x].sum() for x in neighbors])\n",
    "Y1_val1[np.where(Y1_val1 == 0)[0]] = 0.5"
   ]
  },
  {
   "cell_type": "code",
   "execution_count": 8,
   "id": "1f974c65",
   "metadata": {},
   "outputs": [
    {
     "data": {
      "text/plain": [
       "(9018, 44)"
      ]
     },
     "execution_count": 8,
     "metadata": {},
     "output_type": "execute_result"
    }
   ],
   "source": [
    "df17.shape"
   ]
  },
  {
   "cell_type": "code",
   "execution_count": 9,
   "id": "e2be443d",
   "metadata": {},
   "outputs": [
    {
     "name": "stdout",
     "output_type": "stream",
     "text": [
      "0.6700125773593634 [2, 250, 0.1, 0.1]\n",
      "0.6780954582199049 [2, 250, 0.1, 0.001]\n",
      "0.6823674504822314 [2, 350, 0.1, 0.001]\n"
     ]
    }
   ],
   "source": [
    "param_hist = []\n",
    "f1_hist = []\n",
    "auc_hist = []\n",
    "\n",
    "best_auc = 0\n",
    "for md in [2, 4, 6, 10]:\n",
    "    for eta in [0.1, 0.01, 0.001, 0.0001]:\n",
    "        for n_est in [250, 350, 500, 750, 1000]:\n",
    "            for subsample in [0.1, 0.5, 0.01, 0.001]:\n",
    "                params =[md, n_est, eta, subsample]\n",
    "\n",
    "                tm = XGBClassifier(max_depth = md, n_estimators = n_est, eta = eta, eval_metric = \"auc\", subsample = subsample, use_label_encoder = False).fit(x, y.astype(int))\n",
    "#                 preds = tm.predict(X_val)\n",
    "                \n",
    "#                 print(roc_auc_score(Y_val, preds))\n",
    "#                 print(f1_score(Y_val, preds))\n",
    "    #             \n",
    "                preds = tm.predict_proba(X_val)[:,1]\n",
    "                preds = Y1_val * preds\n",
    "                auc = roc_auc_score(Y_val, preds)\n",
    "                \n",
    "                if auc > best_auc:\n",
    "                    best_auc = auc\n",
    "                    print(auc, params)\n",
    "                p = np.zeros(len(preds))\n",
    "                pos = preds.argsort()[-(Y_val == 1).sum() :]\n",
    "                p[pos] = 1 \n",
    "                \n",
    "                f1 = f1_score(Y_val, p)\n",
    "\n",
    "                param_hist.append(params)\n",
    "                f1_hist.append(f1)\n",
    "                auc_hist.append(auc)\n",
    "\n",
    "                preds = tm.predict_proba(X_val1)[:,1]\n",
    "                preds = Y1_val1 * preds\n",
    "                \n",
    "                p = np.zeros(len(preds))\n",
    "                pos = preds.argsort()[-(Y_val1 == 1).sum() :]\n",
    "                p[pos] = 1 \n",
    "                \n",
    "                auc1 = roc_auc_score(Y_val1, preds)\n",
    "                f11 = f1_score(Y_val1, p)\n",
    "                \n",
    "#                 print(\"2016: {}, {}\\n2017: {}, {}\".format(f1, auc, f11, auc1))\n",
    "                \n",
    "                \n",
    "                \n",
    "            "
   ]
  },
  {
   "cell_type": "code",
   "execution_count": 37,
   "id": "a18b8439",
   "metadata": {},
   "outputs": [],
   "source": [
    "a = np.array(auc_hist)"
   ]
  },
  {
   "cell_type": "code",
   "execution_count": null,
   "id": "d017fc1f",
   "metadata": {},
   "outputs": [],
   "source": [
    "b = a.argmax()"
   ]
  },
  {
   "cell_type": "code",
   "execution_count": null,
   "id": "fc67596e",
   "metadata": {},
   "outputs": [],
   "source": [
    "param_hist[b]"
   ]
  },
  {
   "cell_type": "code",
   "execution_count": 31,
   "id": "0fc34ded",
   "metadata": {},
   "outputs": [
    {
     "data": {
      "text/plain": [
       "0.6781213508368527"
      ]
     },
     "execution_count": 31,
     "metadata": {},
     "output_type": "execute_result"
    }
   ],
   "source": [
    "auc_hist[b]"
   ]
  },
  {
   "cell_type": "code",
   "execution_count": 32,
   "id": "3ff391c1",
   "metadata": {},
   "outputs": [
    {
     "data": {
      "text/plain": [
       "0.31451612903225806"
      ]
     },
     "execution_count": 32,
     "metadata": {},
     "output_type": "execute_result"
    }
   ],
   "source": [
    "f1_hist[b]"
   ]
  },
  {
   "cell_type": "code",
   "execution_count": null,
   "id": "b893aac1",
   "metadata": {},
   "outputs": [],
   "source": []
  }
 ],
 "metadata": {
  "kernelspec": {
   "display_name": "Python 3 (ipykernel)",
   "language": "python",
   "name": "python3"
  },
  "language_info": {
   "codemirror_mode": {
    "name": "ipython",
    "version": 3
   },
   "file_extension": ".py",
   "mimetype": "text/x-python",
   "name": "python",
   "nbconvert_exporter": "python",
   "pygments_lexer": "ipython3",
   "version": "3.7.11"
  }
 },
 "nbformat": 4,
 "nbformat_minor": 5
}
